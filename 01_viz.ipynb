{
 "cells": [
  {
   "cell_type": "markdown",
   "metadata": {},
   "source": [
    "# Visualisation of DataSet"
   ]
  },
  {
   "cell_type": "markdown",
   "metadata": {},
   "source": [
    "*Importing Libraries of Python*"
   ]
  },
  {
   "cell_type": "code",
   "execution_count": 1,
   "metadata": {},
   "outputs": [],
   "source": [
    "import pandas as pd\n",
    "import numpy as np\n",
    "import seaborn as sns\n",
    "import plotly.express as px\n",
    "import matplotlib.pyplot as plt"
   ]
  },
  {
   "cell_type": "markdown",
   "metadata": {},
   "source": [
    "*Importing of dataset*"
   ]
  },
  {
   "cell_type": "code",
   "execution_count": 4,
   "metadata": {},
   "outputs": [],
   "source": [
    "df = pd.read_csv('pride_index.csv')"
   ]
  },
  {
   "cell_type": "markdown",
   "metadata": {},
   "source": [
    "*To check the Rows and Columns*"
   ]
  },
  {
   "cell_type": "code",
   "execution_count": 5,
   "metadata": {},
   "outputs": [
    {
     "data": {
      "text/html": [
       "<div>\n",
       "<style scoped>\n",
       "    .dataframe tbody tr th:only-of-type {\n",
       "        vertical-align: middle;\n",
       "    }\n",
       "\n",
       "    .dataframe tbody tr th {\n",
       "        vertical-align: top;\n",
       "    }\n",
       "\n",
       "    .dataframe thead th {\n",
       "        text-align: right;\n",
       "    }\n",
       "</style>\n",
       "<table border=\"1\" class=\"dataframe\">\n",
       "  <thead>\n",
       "    <tr style=\"text-align: right;\">\n",
       "      <th></th>\n",
       "      <th>campus_name</th>\n",
       "      <th>campus_location</th>\n",
       "      <th>rating</th>\n",
       "      <th>students</th>\n",
       "      <th>community_type</th>\n",
       "    </tr>\n",
       "  </thead>\n",
       "  <tbody>\n",
       "    <tr>\n",
       "      <th>0</th>\n",
       "      <td>University of Maryland, College Park</td>\n",
       "      <td>College Park, MD</td>\n",
       "      <td>5.0</td>\n",
       "      <td>37952</td>\n",
       "      <td>large urban city</td>\n",
       "    </tr>\n",
       "    <tr>\n",
       "      <th>1</th>\n",
       "      <td>University of Michigan-Dearborn</td>\n",
       "      <td>Dearborn, MI</td>\n",
       "      <td>3.0</td>\n",
       "      <td>9000</td>\n",
       "      <td>medium city</td>\n",
       "    </tr>\n",
       "    <tr>\n",
       "      <th>2</th>\n",
       "      <td>SUNY Westchester Community College</td>\n",
       "      <td>Valhalla, NY</td>\n",
       "      <td>4.0</td>\n",
       "      <td>13000</td>\n",
       "      <td>very small town</td>\n",
       "    </tr>\n",
       "    <tr>\n",
       "      <th>3</th>\n",
       "      <td>University at Buffalo</td>\n",
       "      <td>Buffalo, NY</td>\n",
       "      <td>3.5</td>\n",
       "      <td>29850</td>\n",
       "      <td>medium city</td>\n",
       "    </tr>\n",
       "    <tr>\n",
       "      <th>4</th>\n",
       "      <td>Slippery Rock University</td>\n",
       "      <td>Slippery Rock, PA</td>\n",
       "      <td>4.0</td>\n",
       "      <td>8500</td>\n",
       "      <td>rural community</td>\n",
       "    </tr>\n",
       "  </tbody>\n",
       "</table>\n",
       "</div>"
      ],
      "text/plain": [
       "                            campus_name    campus_location  rating  students  \\\n",
       "0  University of Maryland, College Park   College Park, MD     5.0     37952   \n",
       "1       University of Michigan-Dearborn       Dearborn, MI     3.0      9000   \n",
       "2    SUNY Westchester Community College       Valhalla, NY     4.0     13000   \n",
       "3                 University at Buffalo        Buffalo, NY     3.5     29850   \n",
       "4              Slippery Rock University  Slippery Rock, PA     4.0      8500   \n",
       "\n",
       "     community_type  \n",
       "0  large urban city  \n",
       "1       medium city  \n",
       "2   very small town  \n",
       "3       medium city  \n",
       "4   rural community  "
      ]
     },
     "execution_count": 5,
     "metadata": {},
     "output_type": "execute_result"
    }
   ],
   "source": [
    "df.head()"
   ]
  },
  {
   "cell_type": "code",
   "execution_count": 16,
   "metadata": {},
   "outputs": [
    {
     "data": {
      "text/html": [
       "<div>\n",
       "<style scoped>\n",
       "    .dataframe tbody tr th:only-of-type {\n",
       "        vertical-align: middle;\n",
       "    }\n",
       "\n",
       "    .dataframe tbody tr th {\n",
       "        vertical-align: top;\n",
       "    }\n",
       "\n",
       "    .dataframe thead th {\n",
       "        text-align: right;\n",
       "    }\n",
       "</style>\n",
       "<table border=\"1\" class=\"dataframe\">\n",
       "  <thead>\n",
       "    <tr style=\"text-align: right;\">\n",
       "      <th></th>\n",
       "      <th>rating</th>\n",
       "      <th>students</th>\n",
       "    </tr>\n",
       "  </thead>\n",
       "  <tbody>\n",
       "    <tr>\n",
       "      <th>count</th>\n",
       "      <td>238.000000</td>\n",
       "      <td>238.000000</td>\n",
       "    </tr>\n",
       "    <tr>\n",
       "      <th>mean</th>\n",
       "      <td>3.983193</td>\n",
       "      <td>12102.163866</td>\n",
       "    </tr>\n",
       "    <tr>\n",
       "      <th>std</th>\n",
       "      <td>0.816323</td>\n",
       "      <td>11870.241312</td>\n",
       "    </tr>\n",
       "    <tr>\n",
       "      <th>min</th>\n",
       "      <td>1.500000</td>\n",
       "      <td>125.000000</td>\n",
       "    </tr>\n",
       "    <tr>\n",
       "      <th>25%</th>\n",
       "      <td>3.500000</td>\n",
       "      <td>2397.000000</td>\n",
       "    </tr>\n",
       "    <tr>\n",
       "      <th>50%</th>\n",
       "      <td>4.000000</td>\n",
       "      <td>7929.500000</td>\n",
       "    </tr>\n",
       "    <tr>\n",
       "      <th>75%</th>\n",
       "      <td>4.500000</td>\n",
       "      <td>16867.750000</td>\n",
       "    </tr>\n",
       "    <tr>\n",
       "      <th>max</th>\n",
       "      <td>5.000000</td>\n",
       "      <td>50000.000000</td>\n",
       "    </tr>\n",
       "  </tbody>\n",
       "</table>\n",
       "</div>"
      ],
      "text/plain": [
       "           rating      students\n",
       "count  238.000000    238.000000\n",
       "mean     3.983193  12102.163866\n",
       "std      0.816323  11870.241312\n",
       "min      1.500000    125.000000\n",
       "25%      3.500000   2397.000000\n",
       "50%      4.000000   7929.500000\n",
       "75%      4.500000  16867.750000\n",
       "max      5.000000  50000.000000"
      ]
     },
     "execution_count": 16,
     "metadata": {},
     "output_type": "execute_result"
    }
   ],
   "source": [
    "# Statistical Range of Dataset:\n",
    "df.describe()"
   ]
  },
  {
   "cell_type": "markdown",
   "metadata": {},
   "source": [
    "## Ploting of DataSet with Seaborn"
   ]
  },
  {
   "cell_type": "code",
   "execution_count": 8,
   "metadata": {},
   "outputs": [
    {
     "data": {
      "text/plain": [
       "<Axes: xlabel='rating', ylabel='students'>"
      ]
     },
     "execution_count": 8,
     "metadata": {},
     "output_type": "execute_result"
    },
    {
     "data": {
      "image/png": "[encoded data removed]",
      "text/plain": [
       "<Figure size 1600x600 with 1 Axes>"
      ]
     },
     "metadata": {},
     "output_type": "display_data"
    }
   ],
   "source": [
    "# Scatter Plot:\n",
    "plt.figure(figsize=(16, 6))\n",
    "sns.scatterplot(data=df, x='rating', y='students')"
   ]
  },
  {
   "cell_type": "code",
   "execution_count": 29,
   "metadata": {},
   "outputs": [
    {
     "data": {
      "text/plain": [
       "<Axes: xlabel='rating', ylabel='students'>"
      ]
     },
     "execution_count": 29,
     "metadata": {},
     "output_type": "execute_result"
    },
    {
     "data": {
      "image/png": "[encoded data removed]",
      "text/plain": [
       "<Figure size 1600x600 with 1 Axes>"
      ]
     },
     "metadata": {},
     "output_type": "display_data"
    }
   ],
   "source": [
    "\n",
    "plt.figure(figsize=(16, 6))\n",
    "sns.barplot(data=df, x='rating', y='students', hue='community_type')\n"
   ]
  },
  {
   "cell_type": "markdown",
   "metadata": {},
   "source": [
    "# Finding the Outliers"
   ]
  },
  {
   "cell_type": "code",
   "execution_count": 30,
   "metadata": {},
   "outputs": [
    {
     "data": {
      "text/plain": [
       "campus_name         object\n",
       "campus_location     object\n",
       "rating             float64\n",
       "students             int64\n",
       "community_type      object\n",
       "dtype: object"
      ]
     },
     "execution_count": 30,
     "metadata": {},
     "output_type": "execute_result"
    }
   ],
   "source": [
    "df.dtypes"
   ]
  },
  {
   "cell_type": "code",
   "execution_count": 11,
   "metadata": {},
   "outputs": [],
   "source": [
    "# Inter Quartile Range:\n",
    "IQR = Q_3 - Q_1"
   ]
  },
  {
   "cell_type": "code",
   "execution_count": 12,
   "metadata": {},
   "outputs": [
    {
     "data": {
      "text/html": [
       "<div>\n",
       "<style scoped>\n",
       "    .dataframe tbody tr th:only-of-type {\n",
       "        vertical-align: middle;\n",
       "    }\n",
       "\n",
       "    .dataframe tbody tr th {\n",
       "        vertical-align: top;\n",
       "    }\n",
       "\n",
       "    .dataframe thead th {\n",
       "        text-align: right;\n",
       "    }\n",
       "</style>\n",
       "<table border=\"1\" class=\"dataframe\">\n",
       "  <thead>\n",
       "    <tr style=\"text-align: right;\">\n",
       "      <th></th>\n",
       "      <th>campus_name</th>\n",
       "      <th>campus_location</th>\n",
       "      <th>rating</th>\n",
       "      <th>students</th>\n",
       "      <th>community_type</th>\n",
       "    </tr>\n",
       "  </thead>\n",
       "  <tbody>\n",
       "    <tr>\n",
       "      <th>0</th>\n",
       "      <td>University of Maryland, College Park</td>\n",
       "      <td>College Park, MD</td>\n",
       "      <td>5.0</td>\n",
       "      <td>37952</td>\n",
       "      <td>large urban city</td>\n",
       "    </tr>\n",
       "    <tr>\n",
       "      <th>1</th>\n",
       "      <td>University of Michigan-Dearborn</td>\n",
       "      <td>Dearborn, MI</td>\n",
       "      <td>3.0</td>\n",
       "      <td>9000</td>\n",
       "      <td>medium city</td>\n",
       "    </tr>\n",
       "    <tr>\n",
       "      <th>2</th>\n",
       "      <td>SUNY Westchester Community College</td>\n",
       "      <td>Valhalla, NY</td>\n",
       "      <td>4.0</td>\n",
       "      <td>13000</td>\n",
       "      <td>very small town</td>\n",
       "    </tr>\n",
       "    <tr>\n",
       "      <th>3</th>\n",
       "      <td>University at Buffalo</td>\n",
       "      <td>Buffalo, NY</td>\n",
       "      <td>3.5</td>\n",
       "      <td>29850</td>\n",
       "      <td>medium city</td>\n",
       "    </tr>\n",
       "    <tr>\n",
       "      <th>4</th>\n",
       "      <td>Slippery Rock University</td>\n",
       "      <td>Slippery Rock, PA</td>\n",
       "      <td>4.0</td>\n",
       "      <td>8500</td>\n",
       "      <td>rural community</td>\n",
       "    </tr>\n",
       "    <tr>\n",
       "      <th>...</th>\n",
       "      <td>...</td>\n",
       "      <td>...</td>\n",
       "      <td>...</td>\n",
       "      <td>...</td>\n",
       "      <td>...</td>\n",
       "    </tr>\n",
       "    <tr>\n",
       "      <th>233</th>\n",
       "      <td>University of Texas Arlington</td>\n",
       "      <td>Arlington, TX</td>\n",
       "      <td>5.0</td>\n",
       "      <td>47000</td>\n",
       "      <td>medium city</td>\n",
       "    </tr>\n",
       "    <tr>\n",
       "      <th>234</th>\n",
       "      <td>University of Arkansas at Little Rock</td>\n",
       "      <td>Little Rock, AR</td>\n",
       "      <td>2.5</td>\n",
       "      <td>6712</td>\n",
       "      <td>medium city</td>\n",
       "    </tr>\n",
       "    <tr>\n",
       "      <th>235</th>\n",
       "      <td>Linfield University</td>\n",
       "      <td>McMinnville, OR</td>\n",
       "      <td>3.0</td>\n",
       "      <td>1750</td>\n",
       "      <td>small city</td>\n",
       "    </tr>\n",
       "    <tr>\n",
       "      <th>236</th>\n",
       "      <td>Bluegrass Community &amp; Technical College (BCTC)</td>\n",
       "      <td>Lexington, KY</td>\n",
       "      <td>4.0</td>\n",
       "      <td>14500</td>\n",
       "      <td>medium city</td>\n",
       "    </tr>\n",
       "    <tr>\n",
       "      <th>237</th>\n",
       "      <td>Hartwick College</td>\n",
       "      <td>Oneonta, NY</td>\n",
       "      <td>3.5</td>\n",
       "      <td>1100</td>\n",
       "      <td>small town</td>\n",
       "    </tr>\n",
       "  </tbody>\n",
       "</table>\n",
       "<p>236 rows × 5 columns</p>\n",
       "</div>"
      ],
      "text/plain": [
       "                                        campus_name    campus_location  \\\n",
       "0              University of Maryland, College Park   College Park, MD   \n",
       "1                   University of Michigan-Dearborn       Dearborn, MI   \n",
       "2                SUNY Westchester Community College       Valhalla, NY   \n",
       "3                             University at Buffalo        Buffalo, NY   \n",
       "4                          Slippery Rock University  Slippery Rock, PA   \n",
       "..                                              ...                ...   \n",
       "233                   University of Texas Arlington      Arlington, TX   \n",
       "234           University of Arkansas at Little Rock    Little Rock, AR   \n",
       "235                             Linfield University    McMinnville, OR   \n",
       "236  Bluegrass Community & Technical College (BCTC)      Lexington, KY   \n",
       "237                                Hartwick College        Oneonta, NY   \n",
       "\n",
       "     rating  students    community_type  \n",
       "0       5.0     37952  large urban city  \n",
       "1       3.0      9000       medium city  \n",
       "2       4.0     13000   very small town  \n",
       "3       3.5     29850       medium city  \n",
       "4       4.0      8500   rural community  \n",
       "..      ...       ...               ...  \n",
       "233     5.0     47000       medium city  \n",
       "234     2.5      6712       medium city  \n",
       "235     3.0      1750        small city  \n",
       "236     4.0     14500       medium city  \n",
       "237     3.5      1100        small town  \n",
       "\n",
       "[236 rows x 5 columns]"
      ]
     },
     "execution_count": 12,
     "metadata": {},
     "output_type": "execute_result"
    }
   ],
   "source": [
    "# Define:\n",
    "Q_1 = df['rating'].quantile(0.25)\n",
    "Q_3 = df['rating'].quantile(0.75)\n",
    "IQR = Q_3 - Q_1\n",
    "lower_bound = Q_1 - 1.5*IQR\n",
    "upper_bound = Q_3 + 1.5*IQR\n",
    "df[(df['rating'] >= lower_bound) & (df['rating'] <= upper_bound)]"
   ]
  },
  {
   "cell_type": "code",
   "execution_count": 13,
   "metadata": {},
   "outputs": [
    {
     "data": {
      "text/plain": [
       "<seaborn.axisgrid.PairGrid at 0x1e737f0df70>"
      ]
     },
     "execution_count": 13,
     "metadata": {},
     "output_type": "execute_result"
    },
    {
     "data": {
      "text/plain": [
       "<Figure size 1600x600 with 0 Axes>"
      ]
     },
     "metadata": {},
     "output_type": "display_data"
    },
    {
     "data": {
      "image/png": "[encoded data removed]",
      "text/plain": [
       "<Figure size 500x500 with 6 Axes>"
      ]
     },
     "metadata": {},
     "output_type": "display_data"
    }
   ],
   "source": [
    "# Pair Plot:\n",
    "plt.figure(figsize=(16, 6))\n",
    "sns.pairplot(data=df)"
   ]
  },
  {
   "cell_type": "code",
   "execution_count": 28,
   "metadata": {},
   "outputs": [
    {
     "data": {
      "text/plain": [
       "<Axes: xlabel='rating', ylabel='students'>"
      ]
     },
     "execution_count": 28,
     "metadata": {},
     "output_type": "execute_result"
    },
    {
     "data": {
      "image/png": "[encoded data removed]",
      "text/plain": [
       "<Figure size 1600x600 with 1 Axes>"
      ]
     },
     "metadata": {},
     "output_type": "display_data"
    }
   ],
   "source": [
    "# Bar plot:\n",
    "plt.figure(figsize=(16, 6))\n",
    "sns.barplot(data=df, x='rating', y='students')\n"
   ]
  },
  {
   "cell_type": "markdown",
   "metadata": {},
   "source": [
    "## Ploting of DataSet with Matplotlib "
   ]
  },
  {
   "cell_type": "code",
   "execution_count": 19,
   "metadata": {},
   "outputs": [
    {
     "data": {
      "text/plain": [
       "<Axes: >"
      ]
     },
     "execution_count": 19,
     "metadata": {},
     "output_type": "execute_result"
    },
    {
     "data": {
      "image/png": "[encoded data removed]",
      "text/plain": [
       "<Figure size 640x480 with 1 Axes>"
      ]
     },
     "metadata": {},
     "output_type": "display_data"
    }
   ],
   "source": [
    "# Box plot:\n",
    "df.plot(kind='box', x='rating', y='students')"
   ]
  },
  {
   "cell_type": "code",
   "execution_count": 24,
   "metadata": {},
   "outputs": [
    {
     "data": {
      "image/png": "[encoded data removed]",
      "text/plain": [
       "<Figure size 640x480 with 1 Axes>"
      ]
     },
     "metadata": {},
     "output_type": "display_data"
    }
   ],
   "source": [
    "# assuming 'campus_name' and 'rating' are columns in a pandas DataFrame 'df'\n",
    "plt.hist(df['rating'], bins=50)\n",
    "plt.xlabel('Rating')\n",
    "plt.ylabel('Frequency')\n",
    "plt.title('Histogram of Ratings')\n",
    "plt.show()"
   ]
  },
  {
   "cell_type": "code",
   "execution_count": 25,
   "metadata": {},
   "outputs": [
    {
     "data": {
      "text/plain": [
       "campus_name\n",
       "Adelphi University                           5.0\n",
       "Allegheny College                            4.5\n",
       "Antioch College                              4.5\n",
       "Appalachian State University                 4.5\n",
       "Art Academy of Cincinnati                    2.5\n",
       "                                            ... \n",
       "William Paterson University of New Jersey    4.5\n",
       "Woodbury University                          3.0\n",
       "Worcester State University                   4.5\n",
       "Xavier University                            3.0\n",
       "Youngstown State University                  3.0\n",
       "Name: rating, Length: 238, dtype: float64"
      ]
     },
     "execution_count": 25,
     "metadata": {},
     "output_type": "execute_result"
    }
   ],
   "source": [
    "# Using the groupby function :\n",
    "df.groupby('campus_name')['rating'].mean()"
   ]
  },
  {
   "cell_type": "code",
   "execution_count": 32,
   "metadata": {},
   "outputs": [
    {
     "data": {
      "text/plain": [
       "<Axes: ylabel='Frequency'>"
      ]
     },
     "execution_count": 32,
     "metadata": {},
     "output_type": "execute_result"
    },
    {
     "data": {
      "image/png": "[encoded data removed]",
      "text/plain": [
       "<Figure size 1600x600 with 1 Axes>"
      ]
     },
     "metadata": {},
     "output_type": "display_data"
    }
   ],
   "source": [
    "# Histogram with groupby function:\n",
    "df.groupby('campus_name')['rating'].mean().plot(kind='hist', color='red', figsize=(16, 6))"
   ]
  },
  {
   "cell_type": "code",
   "execution_count": 35,
   "metadata": {},
   "outputs": [
    {
     "data": {
      "text/plain": [
       "<Axes: xlabel='students', ylabel='rating'>"
      ]
     },
     "execution_count": 35,
     "metadata": {},
     "output_type": "execute_result"
    },
    {
     "data": {
      "image/png": "[encoded data removed]",
      "text/plain": [
       "<Figure size 1600x600 with 1 Axes>"
      ]
     },
     "metadata": {},
     "output_type": "display_data"
    }
   ],
   "source": [
    "# Scatter plot:\n",
    "df.plot(kind='scatter', x='students', y='rating', color='red', figsize=(16,6))"
   ]
  },
  {
   "cell_type": "code",
   "execution_count": 56,
   "metadata": {},
   "outputs": [
    {
     "data": {
      "text/plain": [
       "(np.float64(-1.0999937952207384),\n",
       " np.float64(1.0999997045343208),\n",
       " np.float64(-1.099999394683905),\n",
       " np.float64(1.0999984178977056))"
      ]
     },
     "execution_count": 56,
     "metadata": {},
     "output_type": "execute_result"
    },
    {
     "data": {
      "image/png": "[encoded data removed]",
      "text/plain": [
       "<Figure size 800x500 with 1 Axes>"
      ]
     },
     "metadata": {},
     "output_type": "display_data"
    }
   ],
   "source": [
    "# A PieChart Distribution:\n",
    "rating_1 = df['rating'].value_counts()\n",
    "plt.figure(figsize=(8, 5))\n",
    "plt.pie(rating_1, labels=rating_1.index, autopct='%1.1f%%')\n",
    "plt.title('Pie Chart Distribution')\n",
    "plt.axis('equal')"
   ]
  },
  {
   "cell_type": "markdown",
   "metadata": {},
   "source": [
    "#  Plotting with Plotly \n"
   ]
  },
  {
   "cell_type": "code",
   "execution_count": 58,
   "metadata": {},
   "outputs": [
    {
     "data": {
      "application/vnd.plotly.v1+json": {
       "config": {
        "plotlyServerURL": "https://plot.ly"
       },
       "data": [
        {
         "hovertemplate": "campus_location=College Park, MD<br>rating=%{x}<br>campus_name=%{y}<extra></extra>",
         "legendgroup": "College Park, MD",
         "marker": {
          "color": "#636efa",
          "symbol": "circle"
         },
         "mode": "markers",
         "name": "College Park, MD",
         "orientation": "h",
         "showlegend": true,
         "type": "scatter",
         "x": [
          5
         ],
         "xaxis": "x",
         "y": [
          "University of Maryland, College Park"
         ],
         "yaxis": "y"
        },
        {
         "hovertemplate": "campus_location=Dearborn, MI<br>rating=%{x}<br>campus_name=%{y}<extra></extra>",
         "legendgroup": "Dearborn, MI",
         "marker": {
          "color": "#EF553B",
          "symbol": "circle"
         },
         "mode": "markers",
         "name": "Dearborn, MI",
         "orientation": "h",
         "showlegend": true,
         "type": "scatter",
         "x": [
          3,
          2.5
         ],
         "xaxis": "x",
         "y": [
          "University of Michigan-Dearborn",
          "Henry Ford Community College"
         ],
         "yaxis": "y"
        },
        {
         "hovertemplate": "campus_location=Valhalla, NY<br>rating=%{x}<br>campus_name=%{y}<extra></extra>",
         "legendgroup": "Valhalla, NY",
         "marker": {
          "color": "#00cc96",
          "symbol": "circle"
         },
         "mode": "markers",
         "name": "Valhalla, NY",
         "orientation": "h",
         "showlegend": true,
         "type": "scatter",
         "x": [
          4
         ],
         "xaxis": "x",
         "y": [
          "SUNY Westchester Community College"
         ],
         "yaxis": "y"
        },
        {
         "hovertemplate": "campus_location=Buffalo, NY<br>rating=%{x}<br>campus_name=%{y}<extra></extra>",
         "legendgroup": "Buffalo, NY",
         "marker": {
          "color": "#ab63fa",
          "symbol": "circle"
         },
         "mode": "markers",
         "name": "Buffalo, NY",
         "orientation": "h",
         "showlegend": true,
         "type": "scatter",
         "x": [
          3.5
         ],
         "xaxis": "x",
         "y": [
          "University at Buffalo"
         ],
         "yaxis": "y"
        },
        {
         "hovertemplate": "campus_location=Slippery Rock, PA<br>rating=%{x}<br>campus_name=%{y}<extra></extra>",
         "legendgroup": "Slippery Rock, PA",
         "marker": {
          "color": "#FFA15A",
          "symbol": "circle"
         },
         "mode": "markers",
         "name": "Slippery Rock, PA",
         "orientation": "h",
         "showlegend": true,
         "type": "scatter",
         "x": [
          4
         ],
         "xaxis": "x",
         "y": [
          "Slippery Rock University"
         ],
         "yaxis": "y"
        },
        {
         "hovertemplate": "campus_location=Atlanta, GA<br>rating=%{x}<br>campus_name=%{y}<extra></extra>",
         "legendgroup": "Atlanta, GA",
         "marker": {
          "color": "#19d3f3",
          "symbol": "circle"
         },
         "mode": "markers",
         "name": "Atlanta, GA",
         "orientation": "h",
         "showlegend": true,
         "type": "scatter",
         "x": [
          4.5
         ],
         "xaxis": "x",
         "y": [
          "Emory University"
         ],
         "yaxis": "y"
        },
        {
         "hovertemplate": "campus_location=Pullman, WA<br>rating=%{x}<br>campus_name=%{y}<extra></extra>",
         "legendgroup": "Pullman, WA",
         "marker": {
          "color": "#FF6692",
          "symbol": "circle"
         },
         "mode": "markers",
         "name": "Pullman, WA",
         "orientation": "h",
         "showlegend": true,
         "type": "scatter",
         "x": [
          5
         ],
         "xaxis": "x",
         "y": [
          "Washington State University"
         ],
         "yaxis": "y"
        },
        {
         "hovertemplate": "campus_location=Davidson, NC<br>rating=%{x}<br>campus_name=%{y}<extra></extra>",
         "legendgroup": "Davidson, NC",
         "marker": {
          "color": "#B6E880",
          "symbol": "circle"
         },
         "mode": "markers",
         "name": "Davidson, NC",
         "orientation": "h",
         "showlegend": true,
         "type": "scatter",
         "x": [
          4
         ],
         "xaxis": "x",
         "y": [
          "Davidson College"
         ],
         "yaxis": "y"
        },
        {
         "hovertemplate": "campus_location=Richmond, VA<br>rating=%{x}<br>campus_name=%{y}<extra></extra>",
         "legendgroup": "Richmond, VA",
         "marker": {
          "color": "#FF97FF",
          "symbol": "circle"
         },
         "mode": "markers",
         "name": "Richmond, VA",
         "orientation": "h",
         "showlegend": true,
         "type": "scatter",
         "x": [
          4.5,
          4.5
         ],
         "xaxis": "x",
         "y": [
          "Virginia Commonwealth University",
          "University of Richmond"
         ],
         "yaxis": "y"
        },
        {
         "hovertemplate": "campus_location=Flagstaff, AZ<br>rating=%{x}<br>campus_name=%{y}<extra></extra>",
         "legendgroup": "Flagstaff, AZ",
         "marker": {
          "color": "#FECB52",
          "symbol": "circle"
         },
         "mode": "markers",
         "name": "Flagstaff, AZ",
         "orientation": "h",
         "showlegend": true,
         "type": "scatter",
         "x": [
          4.5
         ],
         "xaxis": "x",
         "y": [
          "Northern Arizona University"
         ],
         "yaxis": "y"
        },
        {
         "hovertemplate": "campus_location=Long Beach, CA<br>rating=%{x}<br>campus_name=%{y}<extra></extra>",
         "legendgroup": "Long Beach, CA",
         "marker": {
          "color": "#636efa",
          "symbol": "circle"
         },
         "mode": "markers",
         "name": "Long Beach, CA",
         "orientation": "h",
         "showlegend": true,
         "type": "scatter",
         "x": [
          4.5
         ],
         "xaxis": "x",
         "y": [
          "California State University, Long Beach or Long Beach State"
         ],
         "yaxis": "y"
        },
        {
         "hovertemplate": "campus_location=La Verne, CA<br>rating=%{x}<br>campus_name=%{y}<extra></extra>",
         "legendgroup": "La Verne, CA",
         "marker": {
          "color": "#EF553B",
          "symbol": "circle"
         },
         "mode": "markers",
         "name": "La Verne, CA",
         "orientation": "h",
         "showlegend": true,
         "type": "scatter",
         "x": [
          2.5
         ],
         "xaxis": "x",
         "y": [
          "University of La Verne"
         ],
         "yaxis": "y"
        },
        {
         "hovertemplate": "campus_location=New Brunswick, NJ<br>rating=%{x}<br>campus_name=%{y}<extra></extra>",
         "legendgroup": "New Brunswick, NJ",
         "marker": {
          "color": "#00cc96",
          "symbol": "circle"
         },
         "mode": "markers",
         "name": "New Brunswick, NJ",
         "orientation": "h",
         "showlegend": true,
         "type": "scatter",
         "x": [
          5
         ],
         "xaxis": "x",
         "y": [
          "Rutgers, The State University of New Jersey-New Brunswick"
         ],
         "yaxis": "y"
        },
        {
         "hovertemplate": "campus_location=Gettysburg, PA<br>rating=%{x}<br>campus_name=%{y}<extra></extra>",
         "legendgroup": "Gettysburg, PA",
         "marker": {
          "color": "#ab63fa",
          "symbol": "circle"
         },
         "mode": "markers",
         "name": "Gettysburg, PA",
         "orientation": "h",
         "showlegend": true,
         "type": "scatter",
         "x": [
          4.5
         ],
         "xaxis": "x",
         "y": [
          "Gettysburg College"
         ],
         "yaxis": "y"
        },
        {
         "hovertemplate": "campus_location=DeKalb, IL<br>rating=%{x}<br>campus_name=%{y}<extra></extra>",
         "legendgroup": "DeKalb, IL",
         "marker": {
          "color": "#FFA15A",
          "symbol": "circle"
         },
         "mode": "markers",
         "name": "DeKalb, IL",
         "orientation": "h",
         "showlegend": true,
         "type": "scatter",
         "x": [
          5
         ],
         "xaxis": "x",
         "y": [
          "Northern Illinois University"
         ],
         "yaxis": "y"
        },
        {
         "hovertemplate": "campus_location=Hartford, CT<br>rating=%{x}<br>campus_name=%{y}<extra></extra>",
         "legendgroup": "Hartford, CT",
         "marker": {
          "color": "#19d3f3",
          "symbol": "circle"
         },
         "mode": "markers",
         "name": "Hartford, CT",
         "orientation": "h",
         "showlegend": true,
         "type": "scatter",
         "x": [
          5
         ],
         "xaxis": "x",
         "y": [
          "Trinity College"
         ],
         "yaxis": "y"
        },
        {
         "hovertemplate": "campus_location=Minneapolis, MN<br>rating=%{x}<br>campus_name=%{y}<extra></extra>",
         "legendgroup": "Minneapolis, MN",
         "marker": {
          "color": "#FF6692",
          "symbol": "circle"
         },
         "mode": "markers",
         "name": "Minneapolis, MN",
         "orientation": "h",
         "showlegend": true,
         "type": "scatter",
         "x": [
          5
         ],
         "xaxis": "x",
         "y": [
          "Augsburg University"
         ],
         "yaxis": "y"
        },
        {
         "hovertemplate": "campus_location=Ithaca, NY<br>rating=%{x}<br>campus_name=%{y}<extra></extra>",
         "legendgroup": "Ithaca, NY",
         "marker": {
          "color": "#B6E880",
          "symbol": "circle"
         },
         "mode": "markers",
         "name": "Ithaca, NY",
         "orientation": "h",
         "showlegend": true,
         "type": "scatter",
         "x": [
          5
         ],
         "xaxis": "x",
         "y": [
          "Ithaca College"
         ],
         "yaxis": "y"
        },
        {
         "hovertemplate": "campus_location=Portland, OR<br>rating=%{x}<br>campus_name=%{y}<extra></extra>",
         "legendgroup": "Portland, OR",
         "marker": {
          "color": "#FF97FF",
          "symbol": "circle"
         },
         "mode": "markers",
         "name": "Portland, OR",
         "orientation": "h",
         "showlegend": true,
         "type": "scatter",
         "x": [
          5
         ],
         "xaxis": "x",
         "y": [
          "Portland State University"
         ],
         "yaxis": "y"
        },
        {
         "hovertemplate": "campus_location=Evanston, IL<br>rating=%{x}<br>campus_name=%{y}<extra></extra>",
         "legendgroup": "Evanston, IL",
         "marker": {
          "color": "#FECB52",
          "symbol": "circle"
         },
         "mode": "markers",
         "name": "Evanston, IL",
         "orientation": "h",
         "showlegend": true,
         "type": "scatter",
         "x": [
          4
         ],
         "xaxis": "x",
         "y": [
          "Northwestern University"
         ],
         "yaxis": "y"
        },
        {
         "hovertemplate": "campus_location=Boulder, CO<br>rating=%{x}<br>campus_name=%{y}<extra></extra>",
         "legendgroup": "Boulder, CO",
         "marker": {
          "color": "#636efa",
          "symbol": "circle"
         },
         "mode": "markers",
         "name": "Boulder, CO",
         "orientation": "h",
         "showlegend": true,
         "type": "scatter",
         "x": [
          5
         ],
         "xaxis": "x",
         "y": [
          "University of Colorado at Boulder"
         ],
         "yaxis": "y"
        },
        {
         "hovertemplate": "campus_location=Chicago, IL<br>rating=%{x}<br>campus_name=%{y}<extra></extra>",
         "legendgroup": "Chicago, IL",
         "marker": {
          "color": "#EF553B",
          "symbol": "circle"
         },
         "mode": "markers",
         "name": "Chicago, IL",
         "orientation": "h",
         "showlegend": true,
         "type": "scatter",
         "x": [
          2.5,
          5
         ],
         "xaxis": "x",
         "y": [
          "Northeastern Illinois University",
          "University of Illinois Chicago"
         ],
         "yaxis": "y"
        },
        {
         "hovertemplate": "campus_location=Elon, NC<br>rating=%{x}<br>campus_name=%{y}<extra></extra>",
         "legendgroup": "Elon, NC",
         "marker": {
          "color": "#00cc96",
          "symbol": "circle"
         },
         "mode": "markers",
         "name": "Elon, NC",
         "orientation": "h",
         "showlegend": true,
         "type": "scatter",
         "x": [
          5
         ],
         "xaxis": "x",
         "y": [
          "Elon University"
         ],
         "yaxis": "y"
        },
        {
         "hovertemplate": "campus_location=Bridgewater, MA<br>rating=%{x}<br>campus_name=%{y}<extra></extra>",
         "legendgroup": "Bridgewater, MA",
         "marker": {
          "color": "#ab63fa",
          "symbol": "circle"
         },
         "mode": "markers",
         "name": "Bridgewater, MA",
         "orientation": "h",
         "showlegend": true,
         "type": "scatter",
         "x": [
          4.5
         ],
         "xaxis": "x",
         "y": [
          "Bridgewater State University"
         ],
         "yaxis": "y"
        },
        {
         "hovertemplate": "campus_location=Las Cruces, NM<br>rating=%{x}<br>campus_name=%{y}<extra></extra>",
         "legendgroup": "Las Cruces, NM",
         "marker": {
          "color": "#FFA15A",
          "symbol": "circle"
         },
         "mode": "markers",
         "name": "Las Cruces, NM",
         "orientation": "h",
         "showlegend": true,
         "type": "scatter",
         "x": [
          4.5
         ],
         "xaxis": "x",
         "y": [
          "New Mexico State University"
         ],
         "yaxis": "y"
        },
        {
         "hovertemplate": "campus_location=Medford, MA<br>rating=%{x}<br>campus_name=%{y}<extra></extra>",
         "legendgroup": "Medford, MA",
         "marker": {
          "color": "#19d3f3",
          "symbol": "circle"
         },
         "mode": "markers",
         "name": "Medford, MA",
         "orientation": "h",
         "showlegend": true,
         "type": "scatter",
         "x": [
          5
         ],
         "xaxis": "x",
         "y": [
          "Tufts University"
         ],
         "yaxis": "y"
        },
        {
         "hovertemplate": "campus_location=Omaha, NE<br>rating=%{x}<br>campus_name=%{y}<extra></extra>",
         "legendgroup": "Omaha, NE",
         "marker": {
          "color": "#FF6692",
          "symbol": "circle"
         },
         "mode": "markers",
         "name": "Omaha, NE",
         "orientation": "h",
         "showlegend": true,
         "type": "scatter",
         "x": [
          4.5
         ],
         "xaxis": "x",
         "y": [
          "University of Nebraska at Omaha"
         ],
         "yaxis": "y"
        },
        {
         "hovertemplate": "campus_location=youngstown, OH<br>rating=%{x}<br>campus_name=%{y}<extra></extra>",
         "legendgroup": "youngstown, OH",
         "marker": {
          "color": "#B6E880",
          "symbol": "circle"
         },
         "mode": "markers",
         "name": "youngstown, OH",
         "orientation": "h",
         "showlegend": true,
         "type": "scatter",
         "x": [
          3
         ],
         "xaxis": "x",
         "y": [
          "Youngstown State University"
         ],
         "yaxis": "y"
        },
        {
         "hovertemplate": "campus_location=Amherst, MA<br>rating=%{x}<br>campus_name=%{y}<extra></extra>",
         "legendgroup": "Amherst, MA",
         "marker": {
          "color": "#FF97FF",
          "symbol": "circle"
         },
         "mode": "markers",
         "name": "Amherst, MA",
         "orientation": "h",
         "showlegend": true,
         "type": "scatter",
         "x": [
          5
         ],
         "xaxis": "x",
         "y": [
          "University of Massachusetts, Amherst"
         ],
         "yaxis": "y"
        },
        {
         "hovertemplate": "campus_location=Morgantown, WV<br>rating=%{x}<br>campus_name=%{y}<extra></extra>",
         "legendgroup": "Morgantown, WV",
         "marker": {
          "color": "#FECB52",
          "symbol": "circle"
         },
         "mode": "markers",
         "name": "Morgantown, WV",
         "orientation": "h",
         "showlegend": true,
         "type": "scatter",
         "x": [
          4.5
         ],
         "xaxis": "x",
         "y": [
          "West Virginia University"
         ],
         "yaxis": "y"
        },
        {
         "hovertemplate": "campus_location=Virginia State University, VA<br>rating=%{x}<br>campus_name=%{y}<extra></extra>",
         "legendgroup": "Virginia State University, VA",
         "marker": {
          "color": "#636efa",
          "symbol": "circle"
         },
         "mode": "markers",
         "name": "Virginia State University, VA",
         "orientation": "h",
         "showlegend": true,
         "type": "scatter",
         "x": [
          4
         ],
         "xaxis": "x",
         "y": [
          "Virginia State University"
         ],
         "yaxis": "y"
        },
        {
         "hovertemplate": "campus_location=Manhattan, KS<br>rating=%{x}<br>campus_name=%{y}<extra></extra>",
         "legendgroup": "Manhattan, KS",
         "marker": {
          "color": "#EF553B",
          "symbol": "circle"
         },
         "mode": "markers",
         "name": "Manhattan, KS",
         "orientation": "h",
         "showlegend": true,
         "type": "scatter",
         "x": [
          5
         ],
         "xaxis": "x",
         "y": [
          "Kansas State University"
         ],
         "yaxis": "y"
        },
        {
         "hovertemplate": "campus_location=Waltham, MA<br>rating=%{x}<br>campus_name=%{y}<extra></extra>",
         "legendgroup": "Waltham, MA",
         "marker": {
          "color": "#00cc96",
          "symbol": "circle"
         },
         "mode": "markers",
         "name": "Waltham, MA",
         "orientation": "h",
         "showlegend": true,
         "type": "scatter",
         "x": [
          4.5
         ],
         "xaxis": "x",
         "y": [
          "Bentley University"
         ],
         "yaxis": "y"
        },
        {
         "hovertemplate": "campus_location=Galesburg, IL<br>rating=%{x}<br>campus_name=%{y}<extra></extra>",
         "legendgroup": "Galesburg, IL",
         "marker": {
          "color": "#ab63fa",
          "symbol": "circle"
         },
         "mode": "markers",
         "name": "Galesburg, IL",
         "orientation": "h",
         "showlegend": true,
         "type": "scatter",
         "x": [
          4
         ],
         "xaxis": "x",
         "y": [
          "Knox College"
         ],
         "yaxis": "y"
        },
        {
         "hovertemplate": "campus_location=Rochester, MI<br>rating=%{x}<br>campus_name=%{y}<extra></extra>",
         "legendgroup": "Rochester, MI",
         "marker": {
          "color": "#FFA15A",
          "symbol": "circle"
         },
         "mode": "markers",
         "name": "Rochester, MI",
         "orientation": "h",
         "showlegend": true,
         "type": "scatter",
         "x": [
          5
         ],
         "xaxis": "x",
         "y": [
          "Oakland University"
         ],
         "yaxis": "y"
        },
        {
         "hovertemplate": "campus_location=Schenectady, NY<br>rating=%{x}<br>campus_name=%{y}<extra></extra>",
         "legendgroup": "Schenectady, NY",
         "marker": {
          "color": "#19d3f3",
          "symbol": "circle"
         },
         "mode": "markers",
         "name": "Schenectady, NY",
         "orientation": "h",
         "showlegend": true,
         "type": "scatter",
         "x": [
          5
         ],
         "xaxis": "x",
         "y": [
          "Union College"
         ],
         "yaxis": "y"
        },
        {
         "hovertemplate": "campus_location=Bozeman, MT<br>rating=%{x}<br>campus_name=%{y}<extra></extra>",
         "legendgroup": "Bozeman, MT",
         "marker": {
          "color": "#FF6692",
          "symbol": "circle"
         },
         "mode": "markers",
         "name": "Bozeman, MT",
         "orientation": "h",
         "showlegend": true,
         "type": "scatter",
         "x": [
          4
         ],
         "xaxis": "x",
         "y": [
          "Montana State University-Bozeman"
         ],
         "yaxis": "y"
        },
        {
         "hovertemplate": "campus_location=Syracuse, NY<br>rating=%{x}<br>campus_name=%{y}<extra></extra>",
         "legendgroup": "Syracuse, NY",
         "marker": {
          "color": "#B6E880",
          "symbol": "circle"
         },
         "mode": "markers",
         "name": "Syracuse, NY",
         "orientation": "h",
         "showlegend": true,
         "type": "scatter",
         "x": [
          4
         ],
         "xaxis": "x",
         "y": [
          "Syracuse University"
         ],
         "yaxis": "y"
        },
        {
         "hovertemplate": "campus_location=Northridge, CA<br>rating=%{x}<br>campus_name=%{y}<extra></extra>",
         "legendgroup": "Northridge, CA",
         "marker": {
          "color": "#FF97FF",
          "symbol": "circle"
         },
         "mode": "markers",
         "name": "Northridge, CA",
         "orientation": "h",
         "showlegend": true,
         "type": "scatter",
         "x": [
          4.5
         ],
         "xaxis": "x",
         "y": [
          "California State University, Northridge"
         ],
         "yaxis": "y"
        },
        {
         "hovertemplate": "campus_location=Oneonta, NY, NY<br>rating=%{x}<br>campus_name=%{y}<extra></extra>",
         "legendgroup": "Oneonta, NY, NY",
         "marker": {
          "color": "#FECB52",
          "symbol": "circle"
         },
         "mode": "markers",
         "name": "Oneonta, NY, NY",
         "orientation": "h",
         "showlegend": true,
         "type": "scatter",
         "x": [
          4
         ],
         "xaxis": "x",
         "y": [
          "SUNY Oneonta"
         ],
         "yaxis": "y"
        },
        {
         "hovertemplate": "campus_location=Montclair, NJ<br>rating=%{x}<br>campus_name=%{y}<extra></extra>",
         "legendgroup": "Montclair, NJ",
         "marker": {
          "color": "#636efa",
          "symbol": "circle"
         },
         "mode": "markers",
         "name": "Montclair, NJ",
         "orientation": "h",
         "showlegend": true,
         "type": "scatter",
         "x": [
          5
         ],
         "xaxis": "x",
         "y": [
          "Montclair State University"
         ],
         "yaxis": "y"
        },
        {
         "hovertemplate": "campus_location=West Haven, CT<br>rating=%{x}<br>campus_name=%{y}<extra></extra>",
         "legendgroup": "West Haven, CT",
         "marker": {
          "color": "#EF553B",
          "symbol": "circle"
         },
         "mode": "markers",
         "name": "West Haven, CT",
         "orientation": "h",
         "showlegend": true,
         "type": "scatter",
         "x": [
          4
         ],
         "xaxis": "x",
         "y": [
          "University of New Haven"
         ],
         "yaxis": "y"
        },
        {
         "hovertemplate": "campus_location=Madison, WI<br>rating=%{x}<br>campus_name=%{y}<extra></extra>",
         "legendgroup": "Madison, WI",
         "marker": {
          "color": "#00cc96",
          "symbol": "circle"
         },
         "mode": "markers",
         "name": "Madison, WI",
         "orientation": "h",
         "showlegend": true,
         "type": "scatter",
         "x": [
          4.5
         ],
         "xaxis": "x",
         "y": [
          "University of Wisconsin"
         ],
         "yaxis": "y"
        },
        {
         "hovertemplate": "campus_location=Bethlehem, PA<br>rating=%{x}<br>campus_name=%{y}<extra></extra>",
         "legendgroup": "Bethlehem, PA",
         "marker": {
          "color": "#ab63fa",
          "symbol": "circle"
         },
         "mode": "markers",
         "name": "Bethlehem, PA",
         "orientation": "h",
         "showlegend": true,
         "type": "scatter",
         "x": [
          5
         ],
         "xaxis": "x",
         "y": [
          "Lehigh University"
         ],
         "yaxis": "y"
        },
        {
         "hovertemplate": "campus_location=Fairfax, VA<br>rating=%{x}<br>campus_name=%{y}<extra></extra>",
         "legendgroup": "Fairfax, VA",
         "marker": {
          "color": "#FFA15A",
          "symbol": "circle"
         },
         "mode": "markers",
         "name": "Fairfax, VA",
         "orientation": "h",
         "showlegend": true,
         "type": "scatter",
         "x": [
          5
         ],
         "xaxis": "x",
         "y": [
          "George Mason University"
         ],
         "yaxis": "y"
        },
        {
         "hovertemplate": "campus_location=Houston, TX<br>rating=%{x}<br>campus_name=%{y}<extra></extra>",
         "legendgroup": "Houston, TX",
         "marker": {
          "color": "#19d3f3",
          "symbol": "circle"
         },
         "mode": "markers",
         "name": "Houston, TX",
         "orientation": "h",
         "showlegend": true,
         "type": "scatter",
         "x": [
          4.5
         ],
         "xaxis": "x",
         "y": [
          "University of Houston"
         ],
         "yaxis": "y"
        },
        {
         "hovertemplate": "campus_location=Williamsburg, VA<br>rating=%{x}<br>campus_name=%{y}<extra></extra>",
         "legendgroup": "Williamsburg, VA",
         "marker": {
          "color": "#FF6692",
          "symbol": "circle"
         },
         "mode": "markers",
         "name": "Williamsburg, VA",
         "orientation": "h",
         "showlegend": true,
         "type": "scatter",
         "x": [
          4.5
         ],
         "xaxis": "x",
         "y": [
          "William & Mary"
         ],
         "yaxis": "y"
        },
        {
         "hovertemplate": "campus_location=Staten Island, NY<br>rating=%{x}<br>campus_name=%{y}<extra></extra>",
         "legendgroup": "Staten Island, NY",
         "marker": {
          "color": "#B6E880",
          "symbol": "circle"
         },
         "mode": "markers",
         "name": "Staten Island, NY",
         "orientation": "h",
         "showlegend": true,
         "type": "scatter",
         "x": [
          3.5
         ],
         "xaxis": "x",
         "y": [
          "College of Staten Island/CUNY"
         ],
         "yaxis": "y"
        },
        {
         "hovertemplate": "campus_location=Blacksburg, VA<br>rating=%{x}<br>campus_name=%{y}<extra></extra>",
         "legendgroup": "Blacksburg, VA",
         "marker": {
          "color": "#FF97FF",
          "symbol": "circle"
         },
         "mode": "markers",
         "name": "Blacksburg, VA",
         "orientation": "h",
         "showlegend": true,
         "type": "scatter",
         "x": [
          4
         ],
         "xaxis": "x",
         "y": [
          "Virginia Tech"
         ],
         "yaxis": "y"
        },
        {
         "hovertemplate": "campus_location=St. Louis, MO<br>rating=%{x}<br>campus_name=%{y}<extra></extra>",
         "legendgroup": "St. Louis, MO",
         "marker": {
          "color": "#FECB52",
          "symbol": "circle"
         },
         "mode": "markers",
         "name": "St. Louis, MO",
         "orientation": "h",
         "showlegend": true,
         "type": "scatter",
         "x": [
          5
         ],
         "xaxis": "x",
         "y": [
          "Washington University in St. Louis"
         ],
         "yaxis": "y"
        },
        {
         "hovertemplate": "campus_location=Ypsilanti, MI<br>rating=%{x}<br>campus_name=%{y}<extra></extra>",
         "legendgroup": "Ypsilanti, MI",
         "marker": {
          "color": "#636efa",
          "symbol": "circle"
         },
         "mode": "markers",
         "name": "Ypsilanti, MI",
         "orientation": "h",
         "showlegend": true,
         "type": "scatter",
         "x": [
          4.5
         ],
         "xaxis": "x",
         "y": [
          "Eastern Michigan University"
         ],
         "yaxis": "y"
        },
        {
         "hovertemplate": "campus_location=Burlington, VT<br>rating=%{x}<br>campus_name=%{y}<extra></extra>",
         "legendgroup": "Burlington, VT",
         "marker": {
          "color": "#EF553B",
          "symbol": "circle"
         },
         "mode": "markers",
         "name": "Burlington, VT",
         "orientation": "h",
         "showlegend": true,
         "type": "scatter",
         "x": [
          5
         ],
         "xaxis": "x",
         "y": [
          "University of Vermont"
         ],
         "yaxis": "y"
        },
        {
         "hovertemplate": "campus_location=Cambridge, MA<br>rating=%{x}<br>campus_name=%{y}<extra></extra>",
         "legendgroup": "Cambridge, MA",
         "marker": {
          "color": "#00cc96",
          "symbol": "circle"
         },
         "mode": "markers",
         "name": "Cambridge, MA",
         "orientation": "h",
         "showlegend": true,
         "type": "scatter",
         "x": [
          4.5,
          4.5
         ],
         "xaxis": "x",
         "y": [
          "MIT",
          "Harvard College"
         ],
         "yaxis": "y"
        },
        {
         "hovertemplate": "campus_location=Morris, MN<br>rating=%{x}<br>campus_name=%{y}<extra></extra>",
         "legendgroup": "Morris, MN",
         "marker": {
          "color": "#ab63fa",
          "symbol": "circle"
         },
         "mode": "markers",
         "name": "Morris, MN",
         "orientation": "h",
         "showlegend": true,
         "type": "scatter",
         "x": [
          4
         ],
         "xaxis": "x",
         "y": [
          "University of Minnesota, Morris"
         ],
         "yaxis": "y"
        },
        {
         "hovertemplate": "campus_location=Kalamazoo, MI<br>rating=%{x}<br>campus_name=%{y}<extra></extra>",
         "legendgroup": "Kalamazoo, MI",
         "marker": {
          "color": "#FFA15A",
          "symbol": "circle"
         },
         "mode": "markers",
         "name": "Kalamazoo, MI",
         "orientation": "h",
         "showlegend": true,
         "type": "scatter",
         "x": [
          4
         ],
         "xaxis": "x",
         "y": [
          "Kalamazoo College"
         ],
         "yaxis": "y"
        },
        {
         "hovertemplate": "campus_location=New York, NY<br>rating=%{x}<br>campus_name=%{y}<extra></extra>",
         "legendgroup": "New York, NY",
         "marker": {
          "color": "#19d3f3",
          "symbol": "circle"
         },
         "mode": "markers",
         "name": "New York, NY",
         "orientation": "h",
         "showlegend": true,
         "type": "scatter",
         "x": [
          5,
          3
         ],
         "xaxis": "x",
         "y": [
          "Pace University",
          "Manhattan School of Music"
         ],
         "yaxis": "y"
        },
        {
         "hovertemplate": "campus_location=Baltimore, MD<br>rating=%{x}<br>campus_name=%{y}<extra></extra>",
         "legendgroup": "Baltimore, MD",
         "marker": {
          "color": "#FF6692",
          "symbol": "circle"
         },
         "mode": "markers",
         "name": "Baltimore, MD",
         "orientation": "h",
         "showlegend": true,
         "type": "scatter",
         "x": [
          3
         ],
         "xaxis": "x",
         "y": [
          "University of Maryland, Baltimore County"
         ],
         "yaxis": "y"
        },
        {
         "hovertemplate": "campus_location=Tuscaloosa, AL<br>rating=%{x}<br>campus_name=%{y}<extra></extra>",
         "legendgroup": "Tuscaloosa, AL",
         "marker": {
          "color": "#B6E880",
          "symbol": "circle"
         },
         "mode": "markers",
         "name": "Tuscaloosa, AL",
         "orientation": "h",
         "showlegend": true,
         "type": "scatter",
         "x": [
          4.5
         ],
         "xaxis": "x",
         "y": [
          "The University of Alabama"
         ],
         "yaxis": "y"
        },
        {
         "hovertemplate": "campus_location=East Lansing, MI<br>rating=%{x}<br>campus_name=%{y}<extra></extra>",
         "legendgroup": "East Lansing, MI",
         "marker": {
          "color": "#FF97FF",
          "symbol": "circle"
         },
         "mode": "markers",
         "name": "East Lansing, MI",
         "orientation": "h",
         "showlegend": true,
         "type": "scatter",
         "x": [
          4
         ],
         "xaxis": "x",
         "y": [
          "Michigan State University"
         ],
         "yaxis": "y"
        },
        {
         "hovertemplate": "campus_location=Olympia, WA<br>rating=%{x}<br>campus_name=%{y}<extra></extra>",
         "legendgroup": "Olympia, WA",
         "marker": {
          "color": "#FECB52",
          "symbol": "circle"
         },
         "mode": "markers",
         "name": "Olympia, WA",
         "orientation": "h",
         "showlegend": true,
         "type": "scatter",
         "x": [
          3.5
         ],
         "xaxis": "x",
         "y": [
          "The Evergreen State College"
         ],
         "yaxis": "y"
        },
        {
         "hovertemplate": "campus_location=Napa, CA<br>rating=%{x}<br>campus_name=%{y}<extra></extra>",
         "legendgroup": "Napa, CA",
         "marker": {
          "color": "#636efa",
          "symbol": "circle"
         },
         "mode": "markers",
         "name": "Napa, CA",
         "orientation": "h",
         "showlegend": true,
         "type": "scatter",
         "x": [
          4
         ],
         "xaxis": "x",
         "y": [
          "Napa Valley College"
         ],
         "yaxis": "y"
        },
        {
         "hovertemplate": "campus_location=KNoxville, TN<br>rating=%{x}<br>campus_name=%{y}<extra></extra>",
         "legendgroup": "KNoxville, TN",
         "marker": {
          "color": "#EF553B",
          "symbol": "circle"
         },
         "mode": "markers",
         "name": "KNoxville, TN",
         "orientation": "h",
         "showlegend": true,
         "type": "scatter",
         "x": [
          4
         ],
         "xaxis": "x",
         "y": [
          "University of Tennessee"
         ],
         "yaxis": "y"
        },
        {
         "hovertemplate": "campus_location=Kansas City, MO<br>rating=%{x}<br>campus_name=%{y}<extra></extra>",
         "legendgroup": "Kansas City, MO",
         "marker": {
          "color": "#00cc96",
          "symbol": "circle"
         },
         "mode": "markers",
         "name": "Kansas City, MO",
         "orientation": "h",
         "showlegend": true,
         "type": "scatter",
         "x": [
          4.5
         ],
         "xaxis": "x",
         "y": [
          "University of Missouri-Kansas City"
         ],
         "yaxis": "y"
        },
        {
         "hovertemplate": "campus_location=Worcester, MA<br>rating=%{x}<br>campus_name=%{y}<extra></extra>",
         "legendgroup": "Worcester, MA",
         "marker": {
          "color": "#ab63fa",
          "symbol": "circle"
         },
         "mode": "markers",
         "name": "Worcester, MA",
         "orientation": "h",
         "showlegend": true,
         "type": "scatter",
         "x": [
          4.5,
          4.5
         ],
         "xaxis": "x",
         "y": [
          "Clark University",
          "Worcester State University"
         ],
         "yaxis": "y"
        },
        {
         "hovertemplate": "campus_location=Bristol, RI<br>rating=%{x}<br>campus_name=%{y}<extra></extra>",
         "legendgroup": "Bristol, RI",
         "marker": {
          "color": "#FFA15A",
          "symbol": "circle"
         },
         "mode": "markers",
         "name": "Bristol, RI",
         "orientation": "h",
         "showlegend": true,
         "type": "scatter",
         "x": [
          4
         ],
         "xaxis": "x",
         "y": [
          "Roger Williams University"
         ],
         "yaxis": "y"
        },
        {
         "hovertemplate": "campus_location=Colorado Springs, CO<br>rating=%{x}<br>campus_name=%{y}<extra></extra>",
         "legendgroup": "Colorado Springs, CO",
         "marker": {
          "color": "#19d3f3",
          "symbol": "circle"
         },
         "mode": "markers",
         "name": "Colorado Springs, CO",
         "orientation": "h",
         "showlegend": true,
         "type": "scatter",
         "x": [
          4.5,
          2.5
         ],
         "xaxis": "x",
         "y": [
          "University of Colorado at Colorado Springs",
          "Colorado College"
         ],
         "yaxis": "y"
        },
        {
         "hovertemplate": "campus_location=University Park, PA<br>rating=%{x}<br>campus_name=%{y}<extra></extra>",
         "legendgroup": "University Park, PA",
         "marker": {
          "color": "#FF6692",
          "symbol": "circle"
         },
         "mode": "markers",
         "name": "University Park, PA",
         "orientation": "h",
         "showlegend": true,
         "type": "scatter",
         "x": [
          5
         ],
         "xaxis": "x",
         "y": [
          "The Pennsylvania State University"
         ],
         "yaxis": "y"
        },
        {
         "hovertemplate": "campus_location=Emporia, KS<br>rating=%{x}<br>campus_name=%{y}<extra></extra>",
         "legendgroup": "Emporia, KS",
         "marker": {
          "color": "#B6E880",
          "symbol": "circle"
         },
         "mode": "markers",
         "name": "Emporia, KS",
         "orientation": "h",
         "showlegend": true,
         "type": "scatter",
         "x": [
          4
         ],
         "xaxis": "x",
         "y": [
          "Emporia State University"
         ],
         "yaxis": "y"
        },
        {
         "hovertemplate": "campus_location=Bloomington, IN<br>rating=%{x}<br>campus_name=%{y}<extra></extra>",
         "legendgroup": "Bloomington, IN",
         "marker": {
          "color": "#FF97FF",
          "symbol": "circle"
         },
         "mode": "markers",
         "name": "Bloomington, IN",
         "orientation": "h",
         "showlegend": true,
         "type": "scatter",
         "x": [
          5
         ],
         "xaxis": "x",
         "y": [
          "Indiana University, Bloomington"
         ],
         "yaxis": "y"
        },
        {
         "hovertemplate": "campus_location=Appleton, WI<br>rating=%{x}<br>campus_name=%{y}<extra></extra>",
         "legendgroup": "Appleton, WI",
         "marker": {
          "color": "#FECB52",
          "symbol": "circle"
         },
         "mode": "markers",
         "name": "Appleton, WI",
         "orientation": "h",
         "showlegend": true,
         "type": "scatter",
         "x": [
          4
         ],
         "xaxis": "x",
         "y": [
          "Lawrence University"
         ],
         "yaxis": "y"
        },
        {
         "hovertemplate": "campus_location=Saint Paul, MN<br>rating=%{x}<br>campus_name=%{y}<extra></extra>",
         "legendgroup": "Saint Paul, MN",
         "marker": {
          "color": "#636efa",
          "symbol": "circle"
         },
         "mode": "markers",
         "name": "Saint Paul, MN",
         "orientation": "h",
         "showlegend": true,
         "type": "scatter",
         "x": [
          5
         ],
         "xaxis": "x",
         "y": [
          "Macalester College"
         ],
         "yaxis": "y"
        },
        {
         "hovertemplate": "campus_location=Saint Louis, MO<br>rating=%{x}<br>campus_name=%{y}<extra></extra>",
         "legendgroup": "Saint Louis, MO",
         "marker": {
          "color": "#EF553B",
          "symbol": "circle"
         },
         "mode": "markers",
         "name": "Saint Louis, MO",
         "orientation": "h",
         "showlegend": true,
         "type": "scatter",
         "x": [
          4
         ],
         "xaxis": "x",
         "y": [
          "University of Missouri - St. Louis"
         ],
         "yaxis": "y"
        },
        {
         "hovertemplate": "campus_location=San Diego, CA<br>rating=%{x}<br>campus_name=%{y}<extra></extra>",
         "legendgroup": "San Diego, CA",
         "marker": {
          "color": "#00cc96",
          "symbol": "circle"
         },
         "mode": "markers",
         "name": "San Diego, CA",
         "orientation": "h",
         "showlegend": true,
         "type": "scatter",
         "x": [
          5
         ],
         "xaxis": "x",
         "y": [
          "San Diego State University"
         ],
         "yaxis": "y"
        },
        {
         "hovertemplate": "campus_location=Boone, NC<br>rating=%{x}<br>campus_name=%{y}<extra></extra>",
         "legendgroup": "Boone, NC",
         "marker": {
          "color": "#ab63fa",
          "symbol": "circle"
         },
         "mode": "markers",
         "name": "Boone, NC",
         "orientation": "h",
         "showlegend": true,
         "type": "scatter",
         "x": [
          4.5
         ],
         "xaxis": "x",
         "y": [
          "Appalachian State University"
         ],
         "yaxis": "y"
        },
        {
         "hovertemplate": "campus_location=Superior, WI<br>rating=%{x}<br>campus_name=%{y}<extra></extra>",
         "legendgroup": "Superior, WI",
         "marker": {
          "color": "#FFA15A",
          "symbol": "circle"
         },
         "mode": "markers",
         "name": "Superior, WI",
         "orientation": "h",
         "showlegend": true,
         "type": "scatter",
         "x": [
          3.5
         ],
         "xaxis": "x",
         "y": [
          "University of Wisconsin - Superior"
         ],
         "yaxis": "y"
        },
        {
         "hovertemplate": "campus_location=Danville, KY<br>rating=%{x}<br>campus_name=%{y}<extra></extra>",
         "legendgroup": "Danville, KY",
         "marker": {
          "color": "#19d3f3",
          "symbol": "circle"
         },
         "mode": "markers",
         "name": "Danville, KY",
         "orientation": "h",
         "showlegend": true,
         "type": "scatter",
         "x": [
          3
         ],
         "xaxis": "x",
         "y": [
          "Centre College"
         ],
         "yaxis": "y"
        },
        {
         "hovertemplate": "campus_location=Eau Claire, WI<br>rating=%{x}<br>campus_name=%{y}<extra></extra>",
         "legendgroup": "Eau Claire, WI",
         "marker": {
          "color": "#FF6692",
          "symbol": "circle"
         },
         "mode": "markers",
         "name": "Eau Claire, WI",
         "orientation": "h",
         "showlegend": true,
         "type": "scatter",
         "x": [
          5
         ],
         "xaxis": "x",
         "y": [
          "University of Wisconsin - Eau Claire"
         ],
         "yaxis": "y"
        },
        {
         "hovertemplate": "campus_location=Memphis, TN<br>rating=%{x}<br>campus_name=%{y}<extra></extra>",
         "legendgroup": "Memphis, TN",
         "marker": {
          "color": "#B6E880",
          "symbol": "circle"
         },
         "mode": "markers",
         "name": "Memphis, TN",
         "orientation": "h",
         "showlegend": true,
         "type": "scatter",
         "x": [
          4.5
         ],
         "xaxis": "x",
         "y": [
          "Rhodes College"
         ],
         "yaxis": "y"
        },
        {
         "hovertemplate": "campus_location=Chico, CA<br>rating=%{x}<br>campus_name=%{y}<extra></extra>",
         "legendgroup": "Chico, CA",
         "marker": {
          "color": "#FF97FF",
          "symbol": "circle"
         },
         "mode": "markers",
         "name": "Chico, CA",
         "orientation": "h",
         "showlegend": true,
         "type": "scatter",
         "x": [
          4
         ],
         "xaxis": "x",
         "y": [
          "California State University, Chico"
         ],
         "yaxis": "y"
        },
        {
         "hovertemplate": "campus_location=Hempstead, NY<br>rating=%{x}<br>campus_name=%{y}<extra></extra>",
         "legendgroup": "Hempstead, NY",
         "marker": {
          "color": "#FECB52",
          "symbol": "circle"
         },
         "mode": "markers",
         "name": "Hempstead, NY",
         "orientation": "h",
         "showlegend": true,
         "type": "scatter",
         "x": [
          5
         ],
         "xaxis": "x",
         "y": [
          "Hofstra University"
         ],
         "yaxis": "y"
        },
        {
         "hovertemplate": "campus_location=Rochester, NY<br>rating=%{x}<br>campus_name=%{y}<extra></extra>",
         "legendgroup": "Rochester, NY",
         "marker": {
          "color": "#636efa",
          "symbol": "circle"
         },
         "mode": "markers",
         "name": "Rochester, NY",
         "orientation": "h",
         "showlegend": true,
         "type": "scatter",
         "x": [
          5,
          4,
          4
         ],
         "xaxis": "x",
         "y": [
          "University of Rochester",
          "Rochester Institute of Technology",
          "Nazareth College"
         ],
         "yaxis": "y"
        },
        {
         "hovertemplate": "campus_location=Irvine, CA<br>rating=%{x}<br>campus_name=%{y}<extra></extra>",
         "legendgroup": "Irvine, CA",
         "marker": {
          "color": "#EF553B",
          "symbol": "circle"
         },
         "mode": "markers",
         "name": "Irvine, CA",
         "orientation": "h",
         "showlegend": true,
         "type": "scatter",
         "x": [
          3.5
         ],
         "xaxis": "x",
         "y": [
          "University California, Irvine"
         ],
         "yaxis": "y"
        },
        {
         "hovertemplate": "campus_location=Chestertown, MD<br>rating=%{x}<br>campus_name=%{y}<extra></extra>",
         "legendgroup": "Chestertown, MD",
         "marker": {
          "color": "#00cc96",
          "symbol": "circle"
         },
         "mode": "markers",
         "name": "Chestertown, MD",
         "orientation": "h",
         "showlegend": true,
         "type": "scatter",
         "x": [
          3.5
         ],
         "xaxis": "x",
         "y": [
          "Washington College"
         ],
         "yaxis": "y"
        },
        {
         "hovertemplate": "campus_location=Normal, IL<br>rating=%{x}<br>campus_name=%{y}<extra></extra>",
         "legendgroup": "Normal, IL",
         "marker": {
          "color": "#ab63fa",
          "symbol": "circle"
         },
         "mode": "markers",
         "name": "Normal, IL",
         "orientation": "h",
         "showlegend": true,
         "type": "scatter",
         "x": [
          4
         ],
         "xaxis": "x",
         "y": [
          "Illinois State University"
         ],
         "yaxis": "y"
        },
        {
         "hovertemplate": "campus_location=Coral Gables, FL<br>rating=%{x}<br>campus_name=%{y}<extra></extra>",
         "legendgroup": "Coral Gables, FL",
         "marker": {
          "color": "#FFA15A",
          "symbol": "circle"
         },
         "mode": "markers",
         "name": "Coral Gables, FL",
         "orientation": "h",
         "showlegend": true,
         "type": "scatter",
         "x": [
          4
         ],
         "xaxis": "x",
         "y": [
          "University of Miami"
         ],
         "yaxis": "y"
        },
        {
         "hovertemplate": "campus_location=Lexington, KY<br>rating=%{x}<br>campus_name=%{y}<extra></extra>",
         "legendgroup": "Lexington, KY",
         "marker": {
          "color": "#19d3f3",
          "symbol": "circle"
         },
         "mode": "markers",
         "name": "Lexington, KY",
         "orientation": "h",
         "showlegend": true,
         "type": "scatter",
         "x": [
          5,
          4
         ],
         "xaxis": "x",
         "y": [
          "University of Kentucky",
          "Bluegrass Community & Technical College (BCTC)"
         ],
         "yaxis": "y"
        },
        {
         "hovertemplate": "campus_location=Oshkosh, WI<br>rating=%{x}<br>campus_name=%{y}<extra></extra>",
         "legendgroup": "Oshkosh, WI",
         "marker": {
          "color": "#FF6692",
          "symbol": "circle"
         },
         "mode": "markers",
         "name": "Oshkosh, WI",
         "orientation": "h",
         "showlegend": true,
         "type": "scatter",
         "x": [
          4.5
         ],
         "xaxis": "x",
         "y": [
          "University of Wisconsin - Oshkosh"
         ],
         "yaxis": "y"
        },
        {
         "hovertemplate": "campus_location=Corvallis, OR<br>rating=%{x}<br>campus_name=%{y}<extra></extra>",
         "legendgroup": "Corvallis, OR",
         "marker": {
          "color": "#B6E880",
          "symbol": "circle"
         },
         "mode": "markers",
         "name": "Corvallis, OR",
         "orientation": "h",
         "showlegend": true,
         "type": "scatter",
         "x": [
          4
         ],
         "xaxis": "x",
         "y": [
          "Oregon State University"
         ],
         "yaxis": "y"
        },
        {
         "hovertemplate": "campus_location=Fargo, ND<br>rating=%{x}<br>campus_name=%{y}<extra></extra>",
         "legendgroup": "Fargo, ND",
         "marker": {
          "color": "#FF97FF",
          "symbol": "circle"
         },
         "mode": "markers",
         "name": "Fargo, ND",
         "orientation": "h",
         "showlegend": true,
         "type": "scatter",
         "x": [
          3.5
         ],
         "xaxis": "x",
         "y": [
          "North Dakota State University"
         ],
         "yaxis": "y"
        },
        {
         "hovertemplate": "campus_location=Albany, NY<br>rating=%{x}<br>campus_name=%{y}<extra></extra>",
         "legendgroup": "Albany, NY",
         "marker": {
          "color": "#FECB52",
          "symbol": "circle"
         },
         "mode": "markers",
         "name": "Albany, NY",
         "orientation": "h",
         "showlegend": true,
         "type": "scatter",
         "x": [
          5
         ],
         "xaxis": "x",
         "y": [
          "University at Albany - SUNY"
         ],
         "yaxis": "y"
        },
        {
         "hovertemplate": "campus_location=Houghton, MI<br>rating=%{x}<br>campus_name=%{y}<extra></extra>",
         "legendgroup": "Houghton, MI",
         "marker": {
          "color": "#636efa",
          "symbol": "circle"
         },
         "mode": "markers",
         "name": "Houghton, MI",
         "orientation": "h",
         "showlegend": true,
         "type": "scatter",
         "x": [
          3.5
         ],
         "xaxis": "x",
         "y": [
          "Michigan Technological University"
         ],
         "yaxis": "y"
        },
        {
         "hovertemplate": "campus_location=Waterville, ME<br>rating=%{x}<br>campus_name=%{y}<extra></extra>",
         "legendgroup": "Waterville, ME",
         "marker": {
          "color": "#EF553B",
          "symbol": "circle"
         },
         "mode": "markers",
         "name": "Waterville, ME",
         "orientation": "h",
         "showlegend": true,
         "type": "scatter",
         "x": [
          3.5
         ],
         "xaxis": "x",
         "y": [
          "Colby College"
         ],
         "yaxis": "y"
        },
        {
         "hovertemplate": "campus_location=Highland Heights, KY<br>rating=%{x}<br>campus_name=%{y}<extra></extra>",
         "legendgroup": "Highland Heights, KY",
         "marker": {
          "color": "#00cc96",
          "symbol": "circle"
         },
         "mode": "markers",
         "name": "Highland Heights, KY",
         "orientation": "h",
         "showlegend": true,
         "type": "scatter",
         "x": [
          5
         ],
         "xaxis": "x",
         "y": [
          "Northern Kentucky University"
         ],
         "yaxis": "y"
        },
        {
         "hovertemplate": "campus_location=St. Petersburg, FL<br>rating=%{x}<br>campus_name=%{y}<extra></extra>",
         "legendgroup": "St. Petersburg, FL",
         "marker": {
          "color": "#ab63fa",
          "symbol": "circle"
         },
         "mode": "markers",
         "name": "St. Petersburg, FL",
         "orientation": "h",
         "showlegend": true,
         "type": "scatter",
         "x": [
          3
         ],
         "xaxis": "x",
         "y": [
          "Eckerd College"
         ],
         "yaxis": "y"
        },
        {
         "hovertemplate": "campus_location=Greensboro, NC<br>rating=%{x}<br>campus_name=%{y}<extra></extra>",
         "legendgroup": "Greensboro, NC",
         "marker": {
          "color": "#FFA15A",
          "symbol": "circle"
         },
         "mode": "markers",
         "name": "Greensboro, NC",
         "orientation": "h",
         "showlegend": true,
         "type": "scatter",
         "x": [
          5
         ],
         "xaxis": "x",
         "y": [
          "Guilford College"
         ],
         "yaxis": "y"
        },
        {
         "hovertemplate": "campus_location=Grand Forks, ND<br>rating=%{x}<br>campus_name=%{y}<extra></extra>",
         "legendgroup": "Grand Forks, ND",
         "marker": {
          "color": "#19d3f3",
          "symbol": "circle"
         },
         "mode": "markers",
         "name": "Grand Forks, ND",
         "orientation": "h",
         "showlegend": true,
         "type": "scatter",
         "x": [
          4
         ],
         "xaxis": "x",
         "y": [
          "University of North Dakota"
         ],
         "yaxis": "y"
        },
        {
         "hovertemplate": "campus_location=Green Bay, WI<br>rating=%{x}<br>campus_name=%{y}<extra></extra>",
         "legendgroup": "Green Bay, WI",
         "marker": {
          "color": "#FF6692",
          "symbol": "circle"
         },
         "mode": "markers",
         "name": "Green Bay, WI",
         "orientation": "h",
         "showlegend": true,
         "type": "scatter",
         "x": [
          5
         ],
         "xaxis": "x",
         "y": [
          "University of Wisconsin - Green Bay"
         ],
         "yaxis": "y"
        },
        {
         "hovertemplate": "campus_location=Milledgeville, GA<br>rating=%{x}<br>campus_name=%{y}<extra></extra>",
         "legendgroup": "Milledgeville, GA",
         "marker": {
          "color": "#B6E880",
          "symbol": "circle"
         },
         "mode": "markers",
         "name": "Milledgeville, GA",
         "orientation": "h",
         "showlegend": true,
         "type": "scatter",
         "x": [
          3
         ],
         "xaxis": "x",
         "y": [
          "Georgia College & State University"
         ],
         "yaxis": "y"
        },
        {
         "hovertemplate": "campus_location=Bradford, PA<br>rating=%{x}<br>campus_name=%{y}<extra></extra>",
         "legendgroup": "Bradford, PA",
         "marker": {
          "color": "#FF97FF",
          "symbol": "circle"
         },
         "mode": "markers",
         "name": "Bradford, PA",
         "orientation": "h",
         "showlegend": true,
         "type": "scatter",
         "x": [
          3.5
         ],
         "xaxis": "x",
         "y": [
          "University of Pittsburgh at Bradford"
         ],
         "yaxis": "y"
        },
        {
         "hovertemplate": "campus_location=Lawrence, KS<br>rating=%{x}<br>campus_name=%{y}<extra></extra>",
         "legendgroup": "Lawrence, KS",
         "marker": {
          "color": "#FECB52",
          "symbol": "circle"
         },
         "mode": "markers",
         "name": "Lawrence, KS",
         "orientation": "h",
         "showlegend": true,
         "type": "scatter",
         "x": [
          4.5
         ],
         "xaxis": "x",
         "y": [
          "University of Kansas"
         ],
         "yaxis": "y"
        },
        {
         "hovertemplate": "campus_location=Berea, OH<br>rating=%{x}<br>campus_name=%{y}<extra></extra>",
         "legendgroup": "Berea, OH",
         "marker": {
          "color": "#636efa",
          "symbol": "circle"
         },
         "mode": "markers",
         "name": "Berea, OH",
         "orientation": "h",
         "showlegend": true,
         "type": "scatter",
         "x": [
          4
         ],
         "xaxis": "x",
         "y": [
          "Baldwin Wallace University"
         ],
         "yaxis": "y"
        },
        {
         "hovertemplate": "campus_location=Machias, ME<br>rating=%{x}<br>campus_name=%{y}<extra></extra>",
         "legendgroup": "Machias, ME",
         "marker": {
          "color": "#EF553B",
          "symbol": "circle"
         },
         "mode": "markers",
         "name": "Machias, ME",
         "orientation": "h",
         "showlegend": true,
         "type": "scatter",
         "x": [
          4.5
         ],
         "xaxis": "x",
         "y": [
          "University of Maine at Machias"
         ],
         "yaxis": "y"
        },
        {
         "hovertemplate": "campus_location=Whitewater, WI<br>rating=%{x}<br>campus_name=%{y}<extra></extra>",
         "legendgroup": "Whitewater, WI",
         "marker": {
          "color": "#00cc96",
          "symbol": "circle"
         },
         "mode": "markers",
         "name": "Whitewater, WI",
         "orientation": "h",
         "showlegend": true,
         "type": "scatter",
         "x": [
          4
         ],
         "xaxis": "x",
         "y": [
          "University of Wisconsin - Whitewater"
         ],
         "yaxis": "y"
        },
        {
         "hovertemplate": "campus_location=San Francisco, CA<br>rating=%{x}<br>campus_name=%{y}<extra></extra>",
         "legendgroup": "San Francisco, CA",
         "marker": {
          "color": "#ab63fa",
          "symbol": "circle"
         },
         "mode": "markers",
         "name": "San Francisco, CA",
         "orientation": "h",
         "showlegend": true,
         "type": "scatter",
         "x": [
          3.5
         ],
         "xaxis": "x",
         "y": [
          "San Francisco State University"
         ],
         "yaxis": "y"
        },
        {
         "hovertemplate": "campus_location=Swarrthmore, PA<br>rating=%{x}<br>campus_name=%{y}<extra></extra>",
         "legendgroup": "Swarrthmore, PA",
         "marker": {
          "color": "#FFA15A",
          "symbol": "circle"
         },
         "mode": "markers",
         "name": "Swarrthmore, PA",
         "orientation": "h",
         "showlegend": true,
         "type": "scatter",
         "x": [
          4
         ],
         "xaxis": "x",
         "y": [
          "Swarthmore College"
         ],
         "yaxis": "y"
        },
        {
         "hovertemplate": "campus_location=Richardson, TX<br>rating=%{x}<br>campus_name=%{y}<extra></extra>",
         "legendgroup": "Richardson, TX",
         "marker": {
          "color": "#19d3f3",
          "symbol": "circle"
         },
         "mode": "markers",
         "name": "Richardson, TX",
         "orientation": "h",
         "showlegend": true,
         "type": "scatter",
         "x": [
          5
         ],
         "xaxis": "x",
         "y": [
          "University of Texas at Dallas"
         ],
         "yaxis": "y"
        },
        {
         "hovertemplate": "campus_location=Lakewood, CO<br>rating=%{x}<br>campus_name=%{y}<extra></extra>",
         "legendgroup": "Lakewood, CO",
         "marker": {
          "color": "#FF6692",
          "symbol": "circle"
         },
         "mode": "markers",
         "name": "Lakewood, CO",
         "orientation": "h",
         "showlegend": true,
         "type": "scatter",
         "x": [
          3.5
         ],
         "xaxis": "x",
         "y": [
          "Red Rocks Community College"
         ],
         "yaxis": "y"
        },
        {
         "hovertemplate": "campus_location=Hamilton, NY<br>rating=%{x}<br>campus_name=%{y}<extra></extra>",
         "legendgroup": "Hamilton, NY",
         "marker": {
          "color": "#B6E880",
          "symbol": "circle"
         },
         "mode": "markers",
         "name": "Hamilton, NY",
         "orientation": "h",
         "showlegend": true,
         "type": "scatter",
         "x": [
          4.5
         ],
         "xaxis": "x",
         "y": [
          "Colgate University"
         ],
         "yaxis": "y"
        },
        {
         "hovertemplate": "campus_location=Great Barrington, MA<br>rating=%{x}<br>campus_name=%{y}<extra></extra>",
         "legendgroup": "Great Barrington, MA",
         "marker": {
          "color": "#FF97FF",
          "symbol": "circle"
         },
         "mode": "markers",
         "name": "Great Barrington, MA",
         "orientation": "h",
         "showlegend": true,
         "type": "scatter",
         "x": [
          4.5
         ],
         "xaxis": "x",
         "y": [
          "Bard College at Simon's Rock"
         ],
         "yaxis": "y"
        },
        {
         "hovertemplate": "campus_location=Kent, OH<br>rating=%{x}<br>campus_name=%{y}<extra></extra>",
         "legendgroup": "Kent, OH",
         "marker": {
          "color": "#FECB52",
          "symbol": "circle"
         },
         "mode": "markers",
         "name": "Kent, OH",
         "orientation": "h",
         "showlegend": true,
         "type": "scatter",
         "x": [
          5
         ],
         "xaxis": "x",
         "y": [
          "Kent State University"
         ],
         "yaxis": "y"
        },
        {
         "hovertemplate": "campus_location=West Lafayette, IN<br>rating=%{x}<br>campus_name=%{y}<extra></extra>",
         "legendgroup": "West Lafayette, IN",
         "marker": {
          "color": "#636efa",
          "symbol": "circle"
         },
         "mode": "markers",
         "name": "West Lafayette, IN",
         "orientation": "h",
         "showlegend": true,
         "type": "scatter",
         "x": [
          5
         ],
         "xaxis": "x",
         "y": [
          "Purdue University"
         ],
         "yaxis": "y"
        },
        {
         "hovertemplate": "campus_location=Gambier, OH<br>rating=%{x}<br>campus_name=%{y}<extra></extra>",
         "legendgroup": "Gambier, OH",
         "marker": {
          "color": "#EF553B",
          "symbol": "circle"
         },
         "mode": "markers",
         "name": "Gambier, OH",
         "orientation": "h",
         "showlegend": true,
         "type": "scatter",
         "x": [
          4
         ],
         "xaxis": "x",
         "y": [
          "Kenyon College"
         ],
         "yaxis": "y"
        },
        {
         "hovertemplate": "campus_location=Chester, PA<br>rating=%{x}<br>campus_name=%{y}<extra></extra>",
         "legendgroup": "Chester, PA",
         "marker": {
          "color": "#00cc96",
          "symbol": "circle"
         },
         "mode": "markers",
         "name": "Chester, PA",
         "orientation": "h",
         "showlegend": true,
         "type": "scatter",
         "x": [
          4
         ],
         "xaxis": "x",
         "y": [
          "Widener University"
         ],
         "yaxis": "y"
        },
        {
         "hovertemplate": "campus_location=Wooster, OH<br>rating=%{x}<br>campus_name=%{y}<extra></extra>",
         "legendgroup": "Wooster, OH",
         "marker": {
          "color": "#ab63fa",
          "symbol": "circle"
         },
         "mode": "markers",
         "name": "Wooster, OH",
         "orientation": "h",
         "showlegend": true,
         "type": "scatter",
         "x": [
          4
         ],
         "xaxis": "x",
         "y": [
          "College of Wooster"
         ],
         "yaxis": "y"
        },
        {
         "hovertemplate": "campus_location=Milwaukee, WI, WI<br>rating=%{x}<br>campus_name=%{y}<extra></extra>",
         "legendgroup": "Milwaukee, WI, WI",
         "marker": {
          "color": "#FFA15A",
          "symbol": "circle"
         },
         "mode": "markers",
         "name": "Milwaukee, WI, WI",
         "orientation": "h",
         "showlegend": true,
         "type": "scatter",
         "x": [
          4.5
         ],
         "xaxis": "x",
         "y": [
          "University of Wisconsin - Milwaukee"
         ],
         "yaxis": "y"
        },
        {
         "hovertemplate": "campus_location=Farmington, ME<br>rating=%{x}<br>campus_name=%{y}<extra></extra>",
         "legendgroup": "Farmington, ME",
         "marker": {
          "color": "#19d3f3",
          "symbol": "circle"
         },
         "mode": "markers",
         "name": "Farmington, ME",
         "orientation": "h",
         "showlegend": true,
         "type": "scatter",
         "x": [
          4.5
         ],
         "xaxis": "x",
         "y": [
          "University of Maine at Farmington"
         ],
         "yaxis": "y"
        },
        {
         "hovertemplate": "campus_location=Annapolis, MD<br>rating=%{x}<br>campus_name=%{y}<extra></extra>",
         "legendgroup": "Annapolis, MD",
         "marker": {
          "color": "#FF6692",
          "symbol": "circle"
         },
         "mode": "markers",
         "name": "Annapolis, MD",
         "orientation": "h",
         "showlegend": true,
         "type": "scatter",
         "x": [
          3.5
         ],
         "xaxis": "x",
         "y": [
          "St. John's College, Annapolis"
         ],
         "yaxis": "y"
        },
        {
         "hovertemplate": "campus_location=Philadelphia, PA<br>rating=%{x}<br>campus_name=%{y}<extra></extra>",
         "legendgroup": "Philadelphia, PA",
         "marker": {
          "color": "#B6E880",
          "symbol": "circle"
         },
         "mode": "markers",
         "name": "Philadelphia, PA",
         "orientation": "h",
         "showlegend": true,
         "type": "scatter",
         "x": [
          3.5,
          3
         ],
         "xaxis": "x",
         "y": [
          "Drexel University",
          "University of the Arts"
         ],
         "yaxis": "y"
        },
        {
         "hovertemplate": "campus_location=DALLAS, TX<br>rating=%{x}<br>campus_name=%{y}<extra></extra>",
         "legendgroup": "DALLAS, TX",
         "marker": {
          "color": "#FF97FF",
          "symbol": "circle"
         },
         "mode": "markers",
         "name": "DALLAS, TX",
         "orientation": "h",
         "showlegend": true,
         "type": "scatter",
         "x": [
          4.5
         ],
         "xaxis": "x",
         "y": [
          "Southern Methodist University"
         ],
         "yaxis": "y"
        },
        {
         "hovertemplate": "campus_location=Richmond, IN<br>rating=%{x}<br>campus_name=%{y}<extra></extra>",
         "legendgroup": "Richmond, IN",
         "marker": {
          "color": "#FECB52",
          "symbol": "circle"
         },
         "mode": "markers",
         "name": "Richmond, IN",
         "orientation": "h",
         "showlegend": true,
         "type": "scatter",
         "x": [
          4.5
         ],
         "xaxis": "x",
         "y": [
          "Earlham College"
         ],
         "yaxis": "y"
        },
        {
         "hovertemplate": "campus_location=Carbondale, IL<br>rating=%{x}<br>campus_name=%{y}<extra></extra>",
         "legendgroup": "Carbondale, IL",
         "marker": {
          "color": "#636efa",
          "symbol": "circle"
         },
         "mode": "markers",
         "name": "Carbondale, IL",
         "orientation": "h",
         "showlegend": true,
         "type": "scatter",
         "x": [
          5
         ],
         "xaxis": "x",
         "y": [
          "Southern Illinois University Carbondale"
         ],
         "yaxis": "y"
        },
        {
         "hovertemplate": "campus_location=Louisville, KY<br>rating=%{x}<br>campus_name=%{y}<extra></extra>",
         "legendgroup": "Louisville, KY",
         "marker": {
          "color": "#EF553B",
          "symbol": "circle"
         },
         "mode": "markers",
         "name": "Louisville, KY",
         "orientation": "h",
         "showlegend": true,
         "type": "scatter",
         "x": [
          5
         ],
         "xaxis": "x",
         "y": [
          "University of Louisville"
         ],
         "yaxis": "y"
        },
        {
         "hovertemplate": "campus_location=Wichita, KS<br>rating=%{x}<br>campus_name=%{y}<extra></extra>",
         "legendgroup": "Wichita, KS",
         "marker": {
          "color": "#00cc96",
          "symbol": "circle"
         },
         "mode": "markers",
         "name": "Wichita, KS",
         "orientation": "h",
         "showlegend": true,
         "type": "scatter",
         "x": [
          4
         ],
         "xaxis": "x",
         "y": [
          "Wichita State University"
         ],
         "yaxis": "y"
        },
        {
         "hovertemplate": "campus_location=SUFFERN, NY<br>rating=%{x}<br>campus_name=%{y}<extra></extra>",
         "legendgroup": "SUFFERN, NY",
         "marker": {
          "color": "#ab63fa",
          "symbol": "circle"
         },
         "mode": "markers",
         "name": "SUFFERN, NY",
         "orientation": "h",
         "showlegend": true,
         "type": "scatter",
         "x": [
          3
         ],
         "xaxis": "x",
         "y": [
          "SUNY ROCKLAND COMMUNITY COLLEGE"
         ],
         "yaxis": "y"
        },
        {
         "hovertemplate": "campus_location=Garden City, NY<br>rating=%{x}<br>campus_name=%{y}<extra></extra>",
         "legendgroup": "Garden City, NY",
         "marker": {
          "color": "#FFA15A",
          "symbol": "circle"
         },
         "mode": "markers",
         "name": "Garden City, NY",
         "orientation": "h",
         "showlegend": true,
         "type": "scatter",
         "x": [
          5
         ],
         "xaxis": "x",
         "y": [
          "Adelphi University"
         ],
         "yaxis": "y"
        },
        {
         "hovertemplate": "campus_location=Geneva, NY<br>rating=%{x}<br>campus_name=%{y}<extra></extra>",
         "legendgroup": "Geneva, NY",
         "marker": {
          "color": "#19d3f3",
          "symbol": "circle"
         },
         "mode": "markers",
         "name": "Geneva, NY",
         "orientation": "h",
         "showlegend": true,
         "type": "scatter",
         "x": [
          4.5
         ],
         "xaxis": "x",
         "y": [
          "Hobart and William Smith Colleges"
         ],
         "yaxis": "y"
        },
        {
         "hovertemplate": "campus_location=Denver, CO<br>rating=%{x}<br>campus_name=%{y}<extra></extra>",
         "legendgroup": "Denver, CO",
         "marker": {
          "color": "#FF6692",
          "symbol": "circle"
         },
         "mode": "markers",
         "name": "Denver, CO",
         "orientation": "h",
         "showlegend": true,
         "type": "scatter",
         "x": [
          4.5
         ],
         "xaxis": "x",
         "y": [
          "Metropolitan State University of Denver"
         ],
         "yaxis": "y"
        },
        {
         "hovertemplate": "campus_location=Beverly, MA<br>rating=%{x}<br>campus_name=%{y}<extra></extra>",
         "legendgroup": "Beverly, MA",
         "marker": {
          "color": "#B6E880",
          "symbol": "circle"
         },
         "mode": "markers",
         "name": "Beverly, MA",
         "orientation": "h",
         "showlegend": true,
         "type": "scatter",
         "x": [
          4
         ],
         "xaxis": "x",
         "y": [
          "Montserrat College of Art"
         ],
         "yaxis": "y"
        },
        {
         "hovertemplate": "campus_location=Cleveland, OH<br>rating=%{x}<br>campus_name=%{y}<extra></extra>",
         "legendgroup": "Cleveland, OH",
         "marker": {
          "color": "#FF97FF",
          "symbol": "circle"
         },
         "mode": "markers",
         "name": "Cleveland, OH",
         "orientation": "h",
         "showlegend": true,
         "type": "scatter",
         "x": [
          4,
          3
         ],
         "xaxis": "x",
         "y": [
          "Cleveland State University",
          "Cuyahoga Community College Metro Campus"
         ],
         "yaxis": "y"
        },
        {
         "hovertemplate": "campus_location=Alliance, OH<br>rating=%{x}<br>campus_name=%{y}<extra></extra>",
         "legendgroup": "Alliance, OH",
         "marker": {
          "color": "#FECB52",
          "symbol": "circle"
         },
         "mode": "markers",
         "name": "Alliance, OH",
         "orientation": "h",
         "showlegend": true,
         "type": "scatter",
         "x": [
          3
         ],
         "xaxis": "x",
         "y": [
          "University of Mount Union"
         ],
         "yaxis": "y"
        },
        {
         "hovertemplate": "campus_location=Charlottesville, VA<br>rating=%{x}<br>campus_name=%{y}<extra></extra>",
         "legendgroup": "Charlottesville, VA",
         "marker": {
          "color": "#636efa",
          "symbol": "circle"
         },
         "mode": "markers",
         "name": "Charlottesville, VA",
         "orientation": "h",
         "showlegend": true,
         "type": "scatter",
         "x": [
          4.5
         ],
         "xaxis": "x",
         "y": [
          "University of Virginia"
         ],
         "yaxis": "y"
        },
        {
         "hovertemplate": "campus_location=Spokane, WA<br>rating=%{x}<br>campus_name=%{y}<extra></extra>",
         "legendgroup": "Spokane, WA",
         "marker": {
          "color": "#EF553B",
          "symbol": "circle"
         },
         "mode": "markers",
         "name": "Spokane, WA",
         "orientation": "h",
         "showlegend": true,
         "type": "scatter",
         "x": [
          4.5
         ],
         "xaxis": "x",
         "y": [
          "Gonzaga University"
         ],
         "yaxis": "y"
        },
        {
         "hovertemplate": "campus_location=Harrisonburg, VA<br>rating=%{x}<br>campus_name=%{y}<extra></extra>",
         "legendgroup": "Harrisonburg, VA",
         "marker": {
          "color": "#00cc96",
          "symbol": "circle"
         },
         "mode": "markers",
         "name": "Harrisonburg, VA",
         "orientation": "h",
         "showlegend": true,
         "type": "scatter",
         "x": [
          4,
          3
         ],
         "xaxis": "x",
         "y": [
          "James Madison University",
          "Eastern Mennonite University"
         ],
         "yaxis": "y"
        },
        {
         "hovertemplate": "campus_location=Hoboken, NJ<br>rating=%{x}<br>campus_name=%{y}<extra></extra>",
         "legendgroup": "Hoboken, NJ",
         "marker": {
          "color": "#ab63fa",
          "symbol": "circle"
         },
         "mode": "markers",
         "name": "Hoboken, NJ",
         "orientation": "h",
         "showlegend": true,
         "type": "scatter",
         "x": [
          4
         ],
         "xaxis": "x",
         "y": [
          "Stevens Institute of Technology"
         ],
         "yaxis": "y"
        },
        {
         "hovertemplate": "campus_location=Towson, MD<br>rating=%{x}<br>campus_name=%{y}<extra></extra>",
         "legendgroup": "Towson, MD",
         "marker": {
          "color": "#FFA15A",
          "symbol": "circle"
         },
         "mode": "markers",
         "name": "Towson, MD",
         "orientation": "h",
         "showlegend": true,
         "type": "scatter",
         "x": [
          5
         ],
         "xaxis": "x",
         "y": [
          "Towson University"
         ],
         "yaxis": "y"
        },
        {
         "hovertemplate": "campus_location=Miami, FL<br>rating=%{x}<br>campus_name=%{y}<extra></extra>",
         "legendgroup": "Miami, FL",
         "marker": {
          "color": "#19d3f3",
          "symbol": "circle"
         },
         "mode": "markers",
         "name": "Miami, FL",
         "orientation": "h",
         "showlegend": true,
         "type": "scatter",
         "x": [
          4.5
         ],
         "xaxis": "x",
         "y": [
          "Florida International University"
         ],
         "yaxis": "y"
        },
        {
         "hovertemplate": "campus_location=Yellow Springs, OH<br>rating=%{x}<br>campus_name=%{y}<extra></extra>",
         "legendgroup": "Yellow Springs, OH",
         "marker": {
          "color": "#FF6692",
          "symbol": "circle"
         },
         "mode": "markers",
         "name": "Yellow Springs, OH",
         "orientation": "h",
         "showlegend": true,
         "type": "scatter",
         "x": [
          4.5
         ],
         "xaxis": "x",
         "y": [
          "Antioch College"
         ],
         "yaxis": "y"
        },
        {
         "hovertemplate": "campus_location=Millersville, PA<br>rating=%{x}<br>campus_name=%{y}<extra></extra>",
         "legendgroup": "Millersville, PA",
         "marker": {
          "color": "#B6E880",
          "symbol": "circle"
         },
         "mode": "markers",
         "name": "Millersville, PA",
         "orientation": "h",
         "showlegend": true,
         "type": "scatter",
         "x": [
          3.5
         ],
         "xaxis": "x",
         "y": [
          "Millersville University of Pennsylvania"
         ],
         "yaxis": "y"
        },
        {
         "hovertemplate": "campus_location=Mars Hill, NC<br>rating=%{x}<br>campus_name=%{y}<extra></extra>",
         "legendgroup": "Mars Hill, NC",
         "marker": {
          "color": "#FF97FF",
          "symbol": "circle"
         },
         "mode": "markers",
         "name": "Mars Hill, NC",
         "orientation": "h",
         "showlegend": true,
         "type": "scatter",
         "x": [
          3
         ],
         "xaxis": "x",
         "y": [
          "Mars Hill University"
         ],
         "yaxis": "y"
        },
        {
         "hovertemplate": "campus_location=Union, NJ<br>rating=%{x}<br>campus_name=%{y}<extra></extra>",
         "legendgroup": "Union, NJ",
         "marker": {
          "color": "#FECB52",
          "symbol": "circle"
         },
         "mode": "markers",
         "name": "Union, NJ",
         "orientation": "h",
         "showlegend": true,
         "type": "scatter",
         "x": [
          3
         ],
         "xaxis": "x",
         "y": [
          "Kean University"
         ],
         "yaxis": "y"
        },
        {
         "hovertemplate": "campus_location=Findlay, OH<br>rating=%{x}<br>campus_name=%{y}<extra></extra>",
         "legendgroup": "Findlay, OH",
         "marker": {
          "color": "#636efa",
          "symbol": "circle"
         },
         "mode": "markers",
         "name": "Findlay, OH",
         "orientation": "h",
         "showlegend": true,
         "type": "scatter",
         "x": [
          3.5
         ],
         "xaxis": "x",
         "y": [
          "The University of Findlay"
         ],
         "yaxis": "y"
        },
        {
         "hovertemplate": "campus_location=Durango, CO<br>rating=%{x}<br>campus_name=%{y}<extra></extra>",
         "legendgroup": "Durango, CO",
         "marker": {
          "color": "#EF553B",
          "symbol": "circle"
         },
         "mode": "markers",
         "name": "Durango, CO",
         "orientation": "h",
         "showlegend": true,
         "type": "scatter",
         "x": [
          4
         ],
         "xaxis": "x",
         "y": [
          "Fort Lewis College"
         ],
         "yaxis": "y"
        },
        {
         "hovertemplate": "campus_location=Georgetown, TX<br>rating=%{x}<br>campus_name=%{y}<extra></extra>",
         "legendgroup": "Georgetown, TX",
         "marker": {
          "color": "#00cc96",
          "symbol": "circle"
         },
         "mode": "markers",
         "name": "Georgetown, TX",
         "orientation": "h",
         "showlegend": true,
         "type": "scatter",
         "x": [
          3.5
         ],
         "xaxis": "x",
         "y": [
          "Southwestern University"
         ],
         "yaxis": "y"
        },
        {
         "hovertemplate": "campus_location=Annville, PA<br>rating=%{x}<br>campus_name=%{y}<extra></extra>",
         "legendgroup": "Annville, PA",
         "marker": {
          "color": "#ab63fa",
          "symbol": "circle"
         },
         "mode": "markers",
         "name": "Annville, PA",
         "orientation": "h",
         "showlegend": true,
         "type": "scatter",
         "x": [
          4
         ],
         "xaxis": "x",
         "y": [
          "Lebanon Valley College"
         ],
         "yaxis": "y"
        },
        {
         "hovertemplate": "campus_location=Durham, NH<br>rating=%{x}<br>campus_name=%{y}<extra></extra>",
         "legendgroup": "Durham, NH",
         "marker": {
          "color": "#FFA15A",
          "symbol": "circle"
         },
         "mode": "markers",
         "name": "Durham, NH",
         "orientation": "h",
         "showlegend": true,
         "type": "scatter",
         "x": [
          4.5
         ],
         "xaxis": "x",
         "y": [
          "University of New Hampshire-Main Campus"
         ],
         "yaxis": "y"
        },
        {
         "hovertemplate": "campus_location=Utica, NY<br>rating=%{x}<br>campus_name=%{y}<extra></extra>",
         "legendgroup": "Utica, NY",
         "marker": {
          "color": "#19d3f3",
          "symbol": "circle"
         },
         "mode": "markers",
         "name": "Utica, NY",
         "orientation": "h",
         "showlegend": true,
         "type": "scatter",
         "x": [
          2
         ],
         "xaxis": "x",
         "y": [
          "Mohawk Valley Community College"
         ],
         "yaxis": "y"
        },
        {
         "hovertemplate": "campus_location=Smithfield, RI<br>rating=%{x}<br>campus_name=%{y}<extra></extra>",
         "legendgroup": "Smithfield, RI",
         "marker": {
          "color": "#FF6692",
          "symbol": "circle"
         },
         "mode": "markers",
         "name": "Smithfield, RI",
         "orientation": "h",
         "showlegend": true,
         "type": "scatter",
         "x": [
          2
         ],
         "xaxis": "x",
         "y": [
          "Bryant University"
         ],
         "yaxis": "y"
        },
        {
         "hovertemplate": "campus_location=Boston, MA<br>rating=%{x}<br>campus_name=%{y}<extra></extra>",
         "legendgroup": "Boston, MA",
         "marker": {
          "color": "#B6E880",
          "symbol": "circle"
         },
         "mode": "markers",
         "name": "Boston, MA",
         "orientation": "h",
         "showlegend": true,
         "type": "scatter",
         "x": [
          4,
          3.5,
          4.5
         ],
         "xaxis": "x",
         "y": [
          "Emerson College",
          "Suffolk University",
          "Wentworth Institute of Technology"
         ],
         "yaxis": "y"
        },
        {
         "hovertemplate": "campus_location=Norfolk, VA<br>rating=%{x}<br>campus_name=%{y}<extra></extra>",
         "legendgroup": "Norfolk, VA",
         "marker": {
          "color": "#FF97FF",
          "symbol": "circle"
         },
         "mode": "markers",
         "name": "Norfolk, VA",
         "orientation": "h",
         "showlegend": true,
         "type": "scatter",
         "x": [
          1.5
         ],
         "xaxis": "x",
         "y": [
          "Tidewater Community College"
         ],
         "yaxis": "y"
        },
        {
         "hovertemplate": "campus_location=Cincinnati, OH<br>rating=%{x}<br>campus_name=%{y}<extra></extra>",
         "legendgroup": "Cincinnati, OH",
         "marker": {
          "color": "#FECB52",
          "symbol": "circle"
         },
         "mode": "markers",
         "name": "Cincinnati, OH",
         "orientation": "h",
         "showlegend": true,
         "type": "scatter",
         "x": [
          2.5,
          3
         ],
         "xaxis": "x",
         "y": [
          "Art Academy of Cincinnati",
          "Xavier University"
         ],
         "yaxis": "y"
        },
        {
         "hovertemplate": "campus_location=Joliet, IL<br>rating=%{x}<br>campus_name=%{y}<extra></extra>",
         "legendgroup": "Joliet, IL",
         "marker": {
          "color": "#636efa",
          "symbol": "circle"
         },
         "mode": "markers",
         "name": "Joliet, IL",
         "orientation": "h",
         "showlegend": true,
         "type": "scatter",
         "x": [
          2.5
         ],
         "xaxis": "x",
         "y": [
          "Joliet Junior College"
         ],
         "yaxis": "y"
        },
        {
         "hovertemplate": "campus_location=Fredericksburg, VA<br>rating=%{x}<br>campus_name=%{y}<extra></extra>",
         "legendgroup": "Fredericksburg, VA",
         "marker": {
          "color": "#EF553B",
          "symbol": "circle"
         },
         "mode": "markers",
         "name": "Fredericksburg, VA",
         "orientation": "h",
         "showlegend": true,
         "type": "scatter",
         "x": [
          4
         ],
         "xaxis": "x",
         "y": [
          "University of Mary Washington"
         ],
         "yaxis": "y"
        },
        {
         "hovertemplate": "campus_location=Gwynedd Valley, PA<br>rating=%{x}<br>campus_name=%{y}<extra></extra>",
         "legendgroup": "Gwynedd Valley, PA",
         "marker": {
          "color": "#00cc96",
          "symbol": "circle"
         },
         "mode": "markers",
         "name": "Gwynedd Valley, PA",
         "orientation": "h",
         "showlegend": true,
         "type": "scatter",
         "x": [
          3
         ],
         "xaxis": "x",
         "y": [
          "Gwynedd Mercy University"
         ],
         "yaxis": "y"
        },
        {
         "hovertemplate": "campus_location=Tacoma, WA<br>rating=%{x}<br>campus_name=%{y}<extra></extra>",
         "legendgroup": "Tacoma, WA",
         "marker": {
          "color": "#ab63fa",
          "symbol": "circle"
         },
         "mode": "markers",
         "name": "Tacoma, WA",
         "orientation": "h",
         "showlegend": true,
         "type": "scatter",
         "x": [
          4
         ],
         "xaxis": "x",
         "y": [
          "University of Puget Sound"
         ],
         "yaxis": "y"
        },
        {
         "hovertemplate": "campus_location=Virginia Beach, VA<br>rating=%{x}<br>campus_name=%{y}<extra></extra>",
         "legendgroup": "Virginia Beach, VA",
         "marker": {
          "color": "#FFA15A",
          "symbol": "circle"
         },
         "mode": "markers",
         "name": "Virginia Beach, VA",
         "orientation": "h",
         "showlegend": true,
         "type": "scatter",
         "x": [
          5
         ],
         "xaxis": "x",
         "y": [
          "Virginia Wesleyan University"
         ],
         "yaxis": "y"
        },
        {
         "hovertemplate": "campus_location=FITCHBURG, MA<br>rating=%{x}<br>campus_name=%{y}<extra></extra>",
         "legendgroup": "FITCHBURG, MA",
         "marker": {
          "color": "#19d3f3",
          "symbol": "circle"
         },
         "mode": "markers",
         "name": "FITCHBURG, MA",
         "orientation": "h",
         "showlegend": true,
         "type": "scatter",
         "x": [
          4.5
         ],
         "xaxis": "x",
         "y": [
          "Fitchburg State University"
         ],
         "yaxis": "y"
        },
        {
         "hovertemplate": "campus_location=Huntingdon, PA<br>rating=%{x}<br>campus_name=%{y}<extra></extra>",
         "legendgroup": "Huntingdon, PA",
         "marker": {
          "color": "#FF6692",
          "symbol": "circle"
         },
         "mode": "markers",
         "name": "Huntingdon, PA",
         "orientation": "h",
         "showlegend": true,
         "type": "scatter",
         "x": [
          3
         ],
         "xaxis": "x",
         "y": [
          "Juniata College"
         ],
         "yaxis": "y"
        },
        {
         "hovertemplate": "campus_location=Ann Arbor, MI<br>rating=%{x}<br>campus_name=%{y}<extra></extra>",
         "legendgroup": "Ann Arbor, MI",
         "marker": {
          "color": "#B6E880",
          "symbol": "circle"
         },
         "mode": "markers",
         "name": "Ann Arbor, MI",
         "orientation": "h",
         "showlegend": true,
         "type": "scatter",
         "x": [
          5
         ],
         "xaxis": "x",
         "y": [
          "University of Michigan-Ann Arbor"
         ],
         "yaxis": "y"
        },
        {
         "hovertemplate": "campus_location=Weston, MA<br>rating=%{x}<br>campus_name=%{y}<extra></extra>",
         "legendgroup": "Weston, MA",
         "marker": {
          "color": "#FF97FF",
          "symbol": "circle"
         },
         "mode": "markers",
         "name": "Weston, MA",
         "orientation": "h",
         "showlegend": true,
         "type": "scatter",
         "x": [
          3.5
         ],
         "xaxis": "x",
         "y": [
          "Regis College"
         ],
         "yaxis": "y"
        },
        {
         "hovertemplate": "campus_location=West Chester, PA<br>rating=%{x}<br>campus_name=%{y}<extra></extra>",
         "legendgroup": "West Chester, PA",
         "marker": {
          "color": "#FECB52",
          "symbol": "circle"
         },
         "mode": "markers",
         "name": "West Chester, PA",
         "orientation": "h",
         "showlegend": true,
         "type": "scatter",
         "x": [
          4
         ],
         "xaxis": "x",
         "y": [
          "West Chester University of Pennsylvania"
         ],
         "yaxis": "y"
        },
        {
         "hovertemplate": "campus_location=Wayne, NJ<br>rating=%{x}<br>campus_name=%{y}<extra></extra>",
         "legendgroup": "Wayne, NJ",
         "marker": {
          "color": "#636efa",
          "symbol": "circle"
         },
         "mode": "markers",
         "name": "Wayne, NJ",
         "orientation": "h",
         "showlegend": true,
         "type": "scatter",
         "x": [
          4.5
         ],
         "xaxis": "x",
         "y": [
          "William Paterson University of New Jersey"
         ],
         "yaxis": "y"
        },
        {
         "hovertemplate": "campus_location=Washington, DC<br>rating=%{x}<br>campus_name=%{y}<extra></extra>",
         "legendgroup": "Washington, DC",
         "marker": {
          "color": "#EF553B",
          "symbol": "circle"
         },
         "mode": "markers",
         "name": "Washington, DC",
         "orientation": "h",
         "showlegend": true,
         "type": "scatter",
         "x": [
          3.5
         ],
         "xaxis": "x",
         "y": [
          "Gallaudet University"
         ],
         "yaxis": "y"
        },
        {
         "hovertemplate": "campus_location=Walla Walla, WA<br>rating=%{x}<br>campus_name=%{y}<extra></extra>",
         "legendgroup": "Walla Walla, WA",
         "marker": {
          "color": "#00cc96",
          "symbol": "circle"
         },
         "mode": "markers",
         "name": "Walla Walla, WA",
         "orientation": "h",
         "showlegend": true,
         "type": "scatter",
         "x": [
          3
         ],
         "xaxis": "x",
         "y": [
          "Whitman College"
         ],
         "yaxis": "y"
        },
        {
         "hovertemplate": "campus_location=Stevens Point, WI<br>rating=%{x}<br>campus_name=%{y}<extra></extra>",
         "legendgroup": "Stevens Point, WI",
         "marker": {
          "color": "#ab63fa",
          "symbol": "circle"
         },
         "mode": "markers",
         "name": "Stevens Point, WI",
         "orientation": "h",
         "showlegend": true,
         "type": "scatter",
         "x": [
          4.5
         ],
         "xaxis": "x",
         "y": [
          "University of Wisconsin-Stevens Point"
         ],
         "yaxis": "y"
        },
        {
         "hovertemplate": "campus_location=Statesboro, GA<br>rating=%{x}<br>campus_name=%{y}<extra></extra>",
         "legendgroup": "Statesboro, GA",
         "marker": {
          "color": "#FFA15A",
          "symbol": "circle"
         },
         "mode": "markers",
         "name": "Statesboro, GA",
         "orientation": "h",
         "showlegend": true,
         "type": "scatter",
         "x": [
          3.5
         ],
         "xaxis": "x",
         "y": [
          "Georgia Southern University"
         ],
         "yaxis": "y"
        },
        {
         "hovertemplate": "campus_location=Selinsgrove, PA<br>rating=%{x}<br>campus_name=%{y}<extra></extra>",
         "legendgroup": "Selinsgrove, PA",
         "marker": {
          "color": "#19d3f3",
          "symbol": "circle"
         },
         "mode": "markers",
         "name": "Selinsgrove, PA",
         "orientation": "h",
         "showlegend": true,
         "type": "scatter",
         "x": [
          3
         ],
         "xaxis": "x",
         "y": [
          "Susquehanna University"
         ],
         "yaxis": "y"
        },
        {
         "hovertemplate": "campus_location=San Rafael, CA<br>rating=%{x}<br>campus_name=%{y}<extra></extra>",
         "legendgroup": "San Rafael, CA",
         "marker": {
          "color": "#FF6692",
          "symbol": "circle"
         },
         "mode": "markers",
         "name": "San Rafael, CA",
         "orientation": "h",
         "showlegend": true,
         "type": "scatter",
         "x": [
          3
         ],
         "xaxis": "x",
         "y": [
          "Dominican University of California"
         ],
         "yaxis": "y"
        },
        {
         "hovertemplate": "campus_location=San Marcos, TX<br>rating=%{x}<br>campus_name=%{y}<extra></extra>",
         "legendgroup": "San Marcos, TX",
         "marker": {
          "color": "#B6E880",
          "symbol": "circle"
         },
         "mode": "markers",
         "name": "San Marcos, TX",
         "orientation": "h",
         "showlegend": true,
         "type": "scatter",
         "x": [
          3.5
         ],
         "xaxis": "x",
         "y": [
          "Texas State University"
         ],
         "yaxis": "y"
        },
        {
         "hovertemplate": "campus_location=San Bruno, CA<br>rating=%{x}<br>campus_name=%{y}<extra></extra>",
         "legendgroup": "San Bruno, CA",
         "marker": {
          "color": "#FF97FF",
          "symbol": "circle"
         },
         "mode": "markers",
         "name": "San Bruno, CA",
         "orientation": "h",
         "showlegend": true,
         "type": "scatter",
         "x": [
          3
         ],
         "xaxis": "x",
         "y": [
          "Skyline College"
         ],
         "yaxis": "y"
        },
        {
         "hovertemplate": "campus_location=Salt Lake City, UT<br>rating=%{x}<br>campus_name=%{y}<extra></extra>",
         "legendgroup": "Salt Lake City, UT",
         "marker": {
          "color": "#FECB52",
          "symbol": "circle"
         },
         "mode": "markers",
         "name": "Salt Lake City, UT",
         "orientation": "h",
         "showlegend": true,
         "type": "scatter",
         "x": [
          4
         ],
         "xaxis": "x",
         "y": [
          "Salt Lake Community College"
         ],
         "yaxis": "y"
        },
        {
         "hovertemplate": "campus_location=Salisbury, NC<br>rating=%{x}<br>campus_name=%{y}<extra></extra>",
         "legendgroup": "Salisbury, NC",
         "marker": {
          "color": "#636efa",
          "symbol": "circle"
         },
         "mode": "markers",
         "name": "Salisbury, NC",
         "orientation": "h",
         "showlegend": true,
         "type": "scatter",
         "x": [
          2
         ],
         "xaxis": "x",
         "y": [
          "Catawba College"
         ],
         "yaxis": "y"
        },
        {
         "hovertemplate": "campus_location=Providence, RI<br>rating=%{x}<br>campus_name=%{y}<extra></extra>",
         "legendgroup": "Providence, RI",
         "marker": {
          "color": "#EF553B",
          "symbol": "circle"
         },
         "mode": "markers",
         "name": "Providence, RI",
         "orientation": "h",
         "showlegend": true,
         "type": "scatter",
         "x": [
          2.5
         ],
         "xaxis": "x",
         "y": [
          "Rhode Island College"
         ],
         "yaxis": "y"
        },
        {
         "hovertemplate": "campus_location=Prestonsburg, KY<br>rating=%{x}<br>campus_name=%{y}<extra></extra>",
         "legendgroup": "Prestonsburg, KY",
         "marker": {
          "color": "#00cc96",
          "symbol": "circle"
         },
         "mode": "markers",
         "name": "Prestonsburg, KY",
         "orientation": "h",
         "showlegend": true,
         "type": "scatter",
         "x": [
          2.5
         ],
         "xaxis": "x",
         "y": [
          "Big Sandy Community and Technical College"
         ],
         "yaxis": "y"
        },
        {
         "hovertemplate": "campus_location=Poughkeepsie, NY<br>rating=%{x}<br>campus_name=%{y}<extra></extra>",
         "legendgroup": "Poughkeepsie, NY",
         "marker": {
          "color": "#ab63fa",
          "symbol": "circle"
         },
         "mode": "markers",
         "name": "Poughkeepsie, NY",
         "orientation": "h",
         "showlegend": true,
         "type": "scatter",
         "x": [
          3.5
         ],
         "xaxis": "x",
         "y": [
          "Dutchess Community College"
         ],
         "yaxis": "y"
        },
        {
         "hovertemplate": "campus_location=Pomona, CA<br>rating=%{x}<br>campus_name=%{y}<extra></extra>",
         "legendgroup": "Pomona, CA",
         "marker": {
          "color": "#FFA15A",
          "symbol": "circle"
         },
         "mode": "markers",
         "name": "Pomona, CA",
         "orientation": "h",
         "showlegend": true,
         "type": "scatter",
         "x": [
          3.5
         ],
         "xaxis": "x",
         "y": [
          "California State Polytechnic University-Pomona"
         ],
         "yaxis": "y"
        },
        {
         "hovertemplate": "campus_location=Pleasant Hill, CA<br>rating=%{x}<br>campus_name=%{y}<extra></extra>",
         "legendgroup": "Pleasant Hill, CA",
         "marker": {
          "color": "#19d3f3",
          "symbol": "circle"
         },
         "mode": "markers",
         "name": "Pleasant Hill, CA",
         "orientation": "h",
         "showlegend": true,
         "type": "scatter",
         "x": [
          1.5
         ],
         "xaxis": "x",
         "y": [
          "Diablo Valley College"
         ],
         "yaxis": "y"
        },
        {
         "hovertemplate": "campus_location=Pittsburgh, PA<br>rating=%{x}<br>campus_name=%{y}<extra></extra>",
         "legendgroup": "Pittsburgh, PA",
         "marker": {
          "color": "#FF6692",
          "symbol": "circle"
         },
         "mode": "markers",
         "name": "Pittsburgh, PA",
         "orientation": "h",
         "showlegend": true,
         "type": "scatter",
         "x": [
          3,
          5
         ],
         "xaxis": "x",
         "y": [
          "Point Park University",
          "University of Pittsburgh-Main Campus"
         ],
         "yaxis": "y"
        },
        {
         "hovertemplate": "campus_location=Paramus, NJ<br>rating=%{x}<br>campus_name=%{y}<extra></extra>",
         "legendgroup": "Paramus, NJ",
         "marker": {
          "color": "#B6E880",
          "symbol": "circle"
         },
         "mode": "markers",
         "name": "Paramus, NJ",
         "orientation": "h",
         "showlegend": true,
         "type": "scatter",
         "x": [
          4.5
         ],
         "xaxis": "x",
         "y": [
          "Bergen Community College"
         ],
         "yaxis": "y"
        },
        {
         "hovertemplate": "campus_location=Oxford, OH<br>rating=%{x}<br>campus_name=%{y}<extra></extra>",
         "legendgroup": "Oxford, OH",
         "marker": {
          "color": "#FF97FF",
          "symbol": "circle"
         },
         "mode": "markers",
         "name": "Oxford, OH",
         "orientation": "h",
         "showlegend": true,
         "type": "scatter",
         "x": [
          4.5
         ],
         "xaxis": "x",
         "y": [
          "Miami University-Oxford"
         ],
         "yaxis": "y"
        },
        {
         "hovertemplate": "campus_location=Oroville, CA<br>rating=%{x}<br>campus_name=%{y}<extra></extra>",
         "legendgroup": "Oroville, CA",
         "marker": {
          "color": "#FECB52",
          "symbol": "circle"
         },
         "mode": "markers",
         "name": "Oroville, CA",
         "orientation": "h",
         "showlegend": true,
         "type": "scatter",
         "x": [
          3.5
         ],
         "xaxis": "x",
         "y": [
          "Butte College"
         ],
         "yaxis": "y"
        },
        {
         "hovertemplate": "campus_location=Norton, MA<br>rating=%{x}<br>campus_name=%{y}<extra></extra>",
         "legendgroup": "Norton, MA",
         "marker": {
          "color": "#636efa",
          "symbol": "circle"
         },
         "mode": "markers",
         "name": "Norton, MA",
         "orientation": "h",
         "showlegend": true,
         "type": "scatter",
         "x": [
          4.5
         ],
         "xaxis": "x",
         "y": [
          "Wheaton College"
         ],
         "yaxis": "y"
        },
        {
         "hovertemplate": "campus_location=Norman, OK<br>rating=%{x}<br>campus_name=%{y}<extra></extra>",
         "legendgroup": "Norman, OK",
         "marker": {
          "color": "#EF553B",
          "symbol": "circle"
         },
         "mode": "markers",
         "name": "Norman, OK",
         "orientation": "h",
         "showlegend": true,
         "type": "scatter",
         "x": [
          4
         ],
         "xaxis": "x",
         "y": [
          "University of Oklahoma-Norman Campus"
         ],
         "yaxis": "y"
        },
        {
         "hovertemplate": "campus_location=Norco, CA<br>rating=%{x}<br>campus_name=%{y}<extra></extra>",
         "legendgroup": "Norco, CA",
         "marker": {
          "color": "#00cc96",
          "symbol": "circle"
         },
         "mode": "markers",
         "name": "Norco, CA",
         "orientation": "h",
         "showlegend": true,
         "type": "scatter",
         "x": [
          3
         ],
         "xaxis": "x",
         "y": [
          "Norco College"
         ],
         "yaxis": "y"
        },
        {
         "hovertemplate": "campus_location=Milwaukee, WI<br>rating=%{x}<br>campus_name=%{y}<extra></extra>",
         "legendgroup": "Milwaukee, WI",
         "marker": {
          "color": "#ab63fa",
          "symbol": "circle"
         },
         "mode": "markers",
         "name": "Milwaukee, WI",
         "orientation": "h",
         "showlegend": true,
         "type": "scatter",
         "x": [
          4
         ],
         "xaxis": "x",
         "y": [
          "Milwaukee Institute of Art & Design"
         ],
         "yaxis": "y"
        },
        {
         "hovertemplate": "campus_location=Meadville, PA<br>rating=%{x}<br>campus_name=%{y}<extra></extra>",
         "legendgroup": "Meadville, PA",
         "marker": {
          "color": "#FFA15A",
          "symbol": "circle"
         },
         "mode": "markers",
         "name": "Meadville, PA",
         "orientation": "h",
         "showlegend": true,
         "type": "scatter",
         "x": [
          4.5
         ],
         "xaxis": "x",
         "y": [
          "Allegheny College"
         ],
         "yaxis": "y"
        },
        {
         "hovertemplate": "campus_location=Mahwah, NJ<br>rating=%{x}<br>campus_name=%{y}<extra></extra>",
         "legendgroup": "Mahwah, NJ",
         "marker": {
          "color": "#19d3f3",
          "symbol": "circle"
         },
         "mode": "markers",
         "name": "Mahwah, NJ",
         "orientation": "h",
         "showlegend": true,
         "type": "scatter",
         "x": [
          4
         ],
         "xaxis": "x",
         "y": [
          "Ramapo College of New Jersey"
         ],
         "yaxis": "y"
        },
        {
         "hovertemplate": "campus_location=Madison, NJ<br>rating=%{x}<br>campus_name=%{y}<extra></extra>",
         "legendgroup": "Madison, NJ",
         "marker": {
          "color": "#FF6692",
          "symbol": "circle"
         },
         "mode": "markers",
         "name": "Madison, NJ",
         "orientation": "h",
         "showlegend": true,
         "type": "scatter",
         "x": [
          4.5
         ],
         "xaxis": "x",
         "y": [
          "Drew University"
         ],
         "yaxis": "y"
        },
        {
         "hovertemplate": "campus_location=Madison, SD<br>rating=%{x}<br>campus_name=%{y}<extra></extra>",
         "legendgroup": "Madison, SD",
         "marker": {
          "color": "#B6E880",
          "symbol": "circle"
         },
         "mode": "markers",
         "name": "Madison, SD",
         "orientation": "h",
         "showlegend": true,
         "type": "scatter",
         "x": [
          2
         ],
         "xaxis": "x",
         "y": [
          "Dakota State University"
         ],
         "yaxis": "y"
        },
        {
         "hovertemplate": "campus_location=Lynchburg, VA<br>rating=%{x}<br>campus_name=%{y}<extra></extra>",
         "legendgroup": "Lynchburg, VA",
         "marker": {
          "color": "#FF97FF",
          "symbol": "circle"
         },
         "mode": "markers",
         "name": "Lynchburg, VA",
         "orientation": "h",
         "showlegend": true,
         "type": "scatter",
         "x": [
          3
         ],
         "xaxis": "x",
         "y": [
          "Randolph College"
         ],
         "yaxis": "y"
        },
        {
         "hovertemplate": "campus_location=Los Angeles, CA<br>rating=%{x}<br>campus_name=%{y}<extra></extra>",
         "legendgroup": "Los Angeles, CA",
         "marker": {
          "color": "#FECB52",
          "symbol": "circle"
         },
         "mode": "markers",
         "name": "Los Angeles, CA",
         "orientation": "h",
         "showlegend": true,
         "type": "scatter",
         "x": [
          4
         ],
         "xaxis": "x",
         "y": [
          "Otis College of Art and Design"
         ],
         "yaxis": "y"
        },
        {
         "hovertemplate": "campus_location=Carlisle, PA<br>rating=%{x}<br>campus_name=%{y}<extra></extra>",
         "legendgroup": "Carlisle, PA",
         "marker": {
          "color": "#636efa",
          "symbol": "circle"
         },
         "mode": "markers",
         "name": "Carlisle, PA",
         "orientation": "h",
         "showlegend": true,
         "type": "scatter",
         "x": [
          4.5
         ],
         "xaxis": "x",
         "y": [
          "Dickinson College"
         ],
         "yaxis": "y"
        },
        {
         "hovertemplate": "campus_location=Greeley, CO<br>rating=%{x}<br>campus_name=%{y}<extra></extra>",
         "legendgroup": "Greeley, CO",
         "marker": {
          "color": "#EF553B",
          "symbol": "circle"
         },
         "mode": "markers",
         "name": "Greeley, CO",
         "orientation": "h",
         "showlegend": true,
         "type": "scatter",
         "x": [
          5
         ],
         "xaxis": "x",
         "y": [
          "University of Northern Colorado"
         ],
         "yaxis": "y"
        },
        {
         "hovertemplate": "campus_location=Charlotte, NC<br>rating=%{x}<br>campus_name=%{y}<extra></extra>",
         "legendgroup": "Charlotte, NC",
         "marker": {
          "color": "#00cc96",
          "symbol": "circle"
         },
         "mode": "markers",
         "name": "Charlotte, NC",
         "orientation": "h",
         "showlegend": true,
         "type": "scatter",
         "x": [
          3.5
         ],
         "xaxis": "x",
         "y": [
          "University of North Carolina at Charlotte"
         ],
         "yaxis": "y"
        },
        {
         "hovertemplate": "campus_location=Kearney, NE<br>rating=%{x}<br>campus_name=%{y}<extra></extra>",
         "legendgroup": "Kearney, NE",
         "marker": {
          "color": "#ab63fa",
          "symbol": "circle"
         },
         "mode": "markers",
         "name": "Kearney, NE",
         "orientation": "h",
         "showlegend": true,
         "type": "scatter",
         "x": [
          5
         ],
         "xaxis": "x",
         "y": [
          "University of Nebraska at Kearney"
         ],
         "yaxis": "y"
        },
        {
         "hovertemplate": "campus_location=Bakersfield, CA<br>rating=%{x}<br>campus_name=%{y}<extra></extra>",
         "legendgroup": "Bakersfield, CA",
         "marker": {
          "color": "#FFA15A",
          "symbol": "circle"
         },
         "mode": "markers",
         "name": "Bakersfield, CA",
         "orientation": "h",
         "showlegend": true,
         "type": "scatter",
         "x": [
          3.5
         ],
         "xaxis": "x",
         "y": [
          "California State University-Bakersfield"
         ],
         "yaxis": "y"
        },
        {
         "hovertemplate": "campus_location=Detroit, MI<br>rating=%{x}<br>campus_name=%{y}<extra></extra>",
         "legendgroup": "Detroit, MI",
         "marker": {
          "color": "#19d3f3",
          "symbol": "circle"
         },
         "mode": "markers",
         "name": "Detroit, MI",
         "orientation": "h",
         "showlegend": true,
         "type": "scatter",
         "x": [
          4.5
         ],
         "xaxis": "x",
         "y": [
          "Wayne State University"
         ],
         "yaxis": "y"
        },
        {
         "hovertemplate": "campus_location=Gunnison, CO<br>rating=%{x}<br>campus_name=%{y}<extra></extra>",
         "legendgroup": "Gunnison, CO",
         "marker": {
          "color": "#FF6692",
          "symbol": "circle"
         },
         "mode": "markers",
         "name": "Gunnison, CO",
         "orientation": "h",
         "showlegend": true,
         "type": "scatter",
         "x": [
          3
         ],
         "xaxis": "x",
         "y": [
          "Western Colorado University"
         ],
         "yaxis": "y"
        },
        {
         "hovertemplate": "campus_location=Fairfield, CT<br>rating=%{x}<br>campus_name=%{y}<extra></extra>",
         "legendgroup": "Fairfield, CT",
         "marker": {
          "color": "#B6E880",
          "symbol": "circle"
         },
         "mode": "markers",
         "name": "Fairfield, CT",
         "orientation": "h",
         "showlegend": true,
         "type": "scatter",
         "x": [
          4
         ],
         "xaxis": "x",
         "y": [
          "Sacred Heart University"
         ],
         "yaxis": "y"
        },
        {
         "hovertemplate": "campus_location=Haverford, PA<br>rating=%{x}<br>campus_name=%{y}<extra></extra>",
         "legendgroup": "Haverford, PA",
         "marker": {
          "color": "#FF97FF",
          "symbol": "circle"
         },
         "mode": "markers",
         "name": "Haverford, PA",
         "orientation": "h",
         "showlegend": true,
         "type": "scatter",
         "x": [
          3
         ],
         "xaxis": "x",
         "y": [
          "Haverford College"
         ],
         "yaxis": "y"
        },
        {
         "hovertemplate": "campus_location=Caldwell, ID<br>rating=%{x}<br>campus_name=%{y}<extra></extra>",
         "legendgroup": "Caldwell, ID",
         "marker": {
          "color": "#FECB52",
          "symbol": "circle"
         },
         "mode": "markers",
         "name": "Caldwell, ID",
         "orientation": "h",
         "showlegend": true,
         "type": "scatter",
         "x": [
          2.5
         ],
         "xaxis": "x",
         "y": [
          "The College of Idaho"
         ],
         "yaxis": "y"
        },
        {
         "hovertemplate": "campus_location=Conway, AR<br>rating=%{x}<br>campus_name=%{y}<extra></extra>",
         "legendgroup": "Conway, AR",
         "marker": {
          "color": "#636efa",
          "symbol": "circle"
         },
         "mode": "markers",
         "name": "Conway, AR",
         "orientation": "h",
         "showlegend": true,
         "type": "scatter",
         "x": [
          2
         ],
         "xaxis": "x",
         "y": [
          "University of Central Arkansas"
         ],
         "yaxis": "y"
        },
        {
         "hovertemplate": "campus_location=Blackwood, NJ<br>rating=%{x}<br>campus_name=%{y}<extra></extra>",
         "legendgroup": "Blackwood, NJ",
         "marker": {
          "color": "#EF553B",
          "symbol": "circle"
         },
         "mode": "markers",
         "name": "Blackwood, NJ",
         "orientation": "h",
         "showlegend": true,
         "type": "scatter",
         "x": [
          2.5
         ],
         "xaxis": "x",
         "y": [
          "Camden County College"
         ],
         "yaxis": "y"
        },
        {
         "hovertemplate": "campus_location=Bowling Green, KY<br>rating=%{x}<br>campus_name=%{y}<extra></extra>",
         "legendgroup": "Bowling Green, KY",
         "marker": {
          "color": "#00cc96",
          "symbol": "circle"
         },
         "mode": "markers",
         "name": "Bowling Green, KY",
         "orientation": "h",
         "showlegend": true,
         "type": "scatter",
         "x": [
          4.5
         ],
         "xaxis": "x",
         "y": [
          "Western Kentucky University"
         ],
         "yaxis": "y"
        },
        {
         "hovertemplate": "campus_location=Binghamton, NY<br>rating=%{x}<br>campus_name=%{y}<extra></extra>",
         "legendgroup": "Binghamton, NY",
         "marker": {
          "color": "#ab63fa",
          "symbol": "circle"
         },
         "mode": "markers",
         "name": "Binghamton, NY",
         "orientation": "h",
         "showlegend": true,
         "type": "scatter",
         "x": [
          4.5
         ],
         "xaxis": "x",
         "y": [
          "Binghamton University SUNY"
         ],
         "yaxis": "y"
        },
        {
         "hovertemplate": "campus_location=Galloway, NJ<br>rating=%{x}<br>campus_name=%{y}<extra></extra>",
         "legendgroup": "Galloway, NJ",
         "marker": {
          "color": "#FFA15A",
          "symbol": "circle"
         },
         "mode": "markers",
         "name": "Galloway, NJ",
         "orientation": "h",
         "showlegend": true,
         "type": "scatter",
         "x": [
          4.5
         ],
         "xaxis": "x",
         "y": [
          "Stockton University"
         ],
         "yaxis": "y"
        },
        {
         "hovertemplate": "campus_location=Kutztown, PA<br>rating=%{x}<br>campus_name=%{y}<extra></extra>",
         "legendgroup": "Kutztown, PA",
         "marker": {
          "color": "#19d3f3",
          "symbol": "circle"
         },
         "mode": "markers",
         "name": "Kutztown, PA",
         "orientation": "h",
         "showlegend": true,
         "type": "scatter",
         "x": [
          4
         ],
         "xaxis": "x",
         "y": [
          "Kutztown University"
         ],
         "yaxis": "y"
        },
        {
         "hovertemplate": "campus_location=Greenville, NC<br>rating=%{x}<br>campus_name=%{y}<extra></extra>",
         "legendgroup": "Greenville, NC",
         "marker": {
          "color": "#FF6692",
          "symbol": "circle"
         },
         "mode": "markers",
         "name": "Greenville, NC",
         "orientation": "h",
         "showlegend": true,
         "type": "scatter",
         "x": [
          4.5
         ],
         "xaxis": "x",
         "y": [
          "East Carolina University"
         ],
         "yaxis": "y"
        },
        {
         "hovertemplate": "campus_location=Manchester, NH<br>rating=%{x}<br>campus_name=%{y}<extra></extra>",
         "legendgroup": "Manchester, NH",
         "marker": {
          "color": "#B6E880",
          "symbol": "circle"
         },
         "mode": "markers",
         "name": "Manchester, NH",
         "orientation": "h",
         "showlegend": true,
         "type": "scatter",
         "x": [
          3.5
         ],
         "xaxis": "x",
         "y": [
          "Southern New Hampshire University"
         ],
         "yaxis": "y"
        },
        {
         "hovertemplate": "campus_location=Parma, OH<br>rating=%{x}<br>campus_name=%{y}<extra></extra>",
         "legendgroup": "Parma, OH",
         "marker": {
          "color": "#FF97FF",
          "symbol": "circle"
         },
         "mode": "markers",
         "name": "Parma, OH",
         "orientation": "h",
         "showlegend": true,
         "type": "scatter",
         "x": [
          3
         ],
         "xaxis": "x",
         "y": [
          "Cuyahoga Community College Western Campus"
         ],
         "yaxis": "y"
        },
        {
         "hovertemplate": "campus_location=Highland Hills, OH<br>rating=%{x}<br>campus_name=%{y}<extra></extra>",
         "legendgroup": "Highland Hills, OH",
         "marker": {
          "color": "#FECB52",
          "symbol": "circle"
         },
         "mode": "markers",
         "name": "Highland Hills, OH",
         "orientation": "h",
         "showlegend": true,
         "type": "scatter",
         "x": [
          3
         ],
         "xaxis": "x",
         "y": [
          "Cuyahoga Community College Eastern Campus"
         ],
         "yaxis": "y"
        },
        {
         "hovertemplate": "campus_location=Westlake, OH<br>rating=%{x}<br>campus_name=%{y}<extra></extra>",
         "legendgroup": "Westlake, OH",
         "marker": {
          "color": "#636efa",
          "symbol": "circle"
         },
         "mode": "markers",
         "name": "Westlake, OH",
         "orientation": "h",
         "showlegend": true,
         "type": "scatter",
         "x": [
          3
         ],
         "xaxis": "x",
         "y": [
          "Cuyahoga Community College Westshore Campus"
         ],
         "yaxis": "y"
        },
        {
         "hovertemplate": "campus_location=Big Rapids, MI<br>rating=%{x}<br>campus_name=%{y}<extra></extra>",
         "legendgroup": "Big Rapids, MI",
         "marker": {
          "color": "#EF553B",
          "symbol": "circle"
         },
         "mode": "markers",
         "name": "Big Rapids, MI",
         "orientation": "h",
         "showlegend": true,
         "type": "scatter",
         "x": [
          3.5
         ],
         "xaxis": "x",
         "y": [
          "Ferris State University"
         ],
         "yaxis": "y"
        },
        {
         "hovertemplate": "campus_location=Toledo, OH<br>rating=%{x}<br>campus_name=%{y}<extra></extra>",
         "legendgroup": "Toledo, OH",
         "marker": {
          "color": "#00cc96",
          "symbol": "circle"
         },
         "mode": "markers",
         "name": "Toledo, OH",
         "orientation": "h",
         "showlegend": true,
         "type": "scatter",
         "x": [
          4
         ],
         "xaxis": "x",
         "y": [
          "University of Toledo"
         ],
         "yaxis": "y"
        },
        {
         "hovertemplate": "campus_location=Lewiston, ME<br>rating=%{x}<br>campus_name=%{y}<extra></extra>",
         "legendgroup": "Lewiston, ME",
         "marker": {
          "color": "#ab63fa",
          "symbol": "circle"
         },
         "mode": "markers",
         "name": "Lewiston, ME",
         "orientation": "h",
         "showlegend": true,
         "type": "scatter",
         "x": [
          3.5
         ],
         "xaxis": "x",
         "y": [
          "Bates College"
         ],
         "yaxis": "y"
        },
        {
         "hovertemplate": "campus_location=Rolla, MO<br>rating=%{x}<br>campus_name=%{y}<extra></extra>",
         "legendgroup": "Rolla, MO",
         "marker": {
          "color": "#FFA15A",
          "symbol": "circle"
         },
         "mode": "markers",
         "name": "Rolla, MO",
         "orientation": "h",
         "showlegend": true,
         "type": "scatter",
         "x": [
          3
         ],
         "xaxis": "x",
         "y": [
          "Missouri Science & Technology"
         ],
         "yaxis": "y"
        },
        {
         "hovertemplate": "campus_location=Winston-Salem, NC<br>rating=%{x}<br>campus_name=%{y}<extra></extra>",
         "legendgroup": "Winston-Salem, NC",
         "marker": {
          "color": "#19d3f3",
          "symbol": "circle"
         },
         "mode": "markers",
         "name": "Winston-Salem, NC",
         "orientation": "h",
         "showlegend": true,
         "type": "scatter",
         "x": [
          4
         ],
         "xaxis": "x",
         "y": [
          "Forsyth Technical Community College"
         ],
         "yaxis": "y"
        },
        {
         "hovertemplate": "campus_location=Burbank, CA<br>rating=%{x}<br>campus_name=%{y}<extra></extra>",
         "legendgroup": "Burbank, CA",
         "marker": {
          "color": "#FF6692",
          "symbol": "circle"
         },
         "mode": "markers",
         "name": "Burbank, CA",
         "orientation": "h",
         "showlegend": true,
         "type": "scatter",
         "x": [
          3
         ],
         "xaxis": "x",
         "y": [
          "Woodbury University"
         ],
         "yaxis": "y"
        },
        {
         "hovertemplate": "campus_location=Arlington, TX<br>rating=%{x}<br>campus_name=%{y}<extra></extra>",
         "legendgroup": "Arlington, TX",
         "marker": {
          "color": "#B6E880",
          "symbol": "circle"
         },
         "mode": "markers",
         "name": "Arlington, TX",
         "orientation": "h",
         "showlegend": true,
         "type": "scatter",
         "x": [
          5
         ],
         "xaxis": "x",
         "y": [
          "University of Texas Arlington"
         ],
         "yaxis": "y"
        },
        {
         "hovertemplate": "campus_location=Little Rock, AR<br>rating=%{x}<br>campus_name=%{y}<extra></extra>",
         "legendgroup": "Little Rock, AR",
         "marker": {
          "color": "#FF97FF",
          "symbol": "circle"
         },
         "mode": "markers",
         "name": "Little Rock, AR",
         "orientation": "h",
         "showlegend": true,
         "type": "scatter",
         "x": [
          2.5
         ],
         "xaxis": "x",
         "y": [
          "University of Arkansas at Little Rock"
         ],
         "yaxis": "y"
        },
        {
         "hovertemplate": "campus_location=McMinnville, OR<br>rating=%{x}<br>campus_name=%{y}<extra></extra>",
         "legendgroup": "McMinnville, OR",
         "marker": {
          "color": "#FECB52",
          "symbol": "circle"
         },
         "mode": "markers",
         "name": "McMinnville, OR",
         "orientation": "h",
         "showlegend": true,
         "type": "scatter",
         "x": [
          3
         ],
         "xaxis": "x",
         "y": [
          "Linfield University"
         ],
         "yaxis": "y"
        },
        {
         "hovertemplate": "campus_location=Oneonta, NY<br>rating=%{x}<br>campus_name=%{y}<extra></extra>",
         "legendgroup": "Oneonta, NY",
         "marker": {
          "color": "#636efa",
          "symbol": "circle"
         },
         "mode": "markers",
         "name": "Oneonta, NY",
         "orientation": "h",
         "showlegend": true,
         "type": "scatter",
         "x": [
          3.5
         ],
         "xaxis": "x",
         "y": [
          "Hartwick College"
         ],
         "yaxis": "y"
        }
       ],
       "layout": {
        "legend": {
         "title": {
          "text": "campus_location"
         },
         "tracegroupgap": 0
        },
        "margin": {
         "t": 60
        },
        "template": {
         "data": {
          "bar": [
           {
            "error_x": {
             "color": "#2a3f5f"
            },
            "error_y": {
             "color": "#2a3f5f"
            },
            "marker": {
             "line": {
              "color": "#E5ECF6",
              "width": 0.5
             },
             "pattern": {
              "fillmode": "overlay",
              "size": 10,
              "solidity": 0.2
             }
            },
            "type": "bar"
           }
          ],
          "barpolar": [
           {
            "marker": {
             "line": {
              "color": "#E5ECF6",
              "width": 0.5
             },
             "pattern": {
              "fillmode": "overlay",
              "size": 10,
              "solidity": 0.2
             }
            },
            "type": "barpolar"
           }
          ],
          "carpet": [
           {
            "aaxis": {
             "endlinecolor": "#2a3f5f",
             "gridcolor": "white",
             "linecolor": "white",
             "minorgridcolor": "white",
             "startlinecolor": "#2a3f5f"
            },
            "baxis": {
             "endlinecolor": "#2a3f5f",
             "gridcolor": "white",
             "linecolor": "white",
             "minorgridcolor": "white",
             "startlinecolor": "#2a3f5f"
            },
            "type": "carpet"
           }
          ],
          "choropleth": [
           {
            "colorbar": {
             "outlinewidth": 0,
             "ticks": ""
            },
            "type": "choropleth"
           }
          ],
          "contour": [
           {
            "colorbar": {
             "outlinewidth": 0,
             "ticks": ""
            },
            "colorscale": [
             [
              0,
              "#0d0887"
             ],
             [
              0.1111111111111111,
              "#46039f"
             ],
             [
              0.2222222222222222,
              "#7201a8"
             ],
             [
              0.3333333333333333,
              "#9c179e"
             ],
             [
              0.4444444444444444,
              "#bd3786"
             ],
             [
              0.5555555555555556,
              "#d8576b"
             ],
             [
              0.6666666666666666,
              "#ed7953"
             ],
             [
              0.7777777777777778,
              "#fb9f3a"
             ],
             [
              0.8888888888888888,
              "#fdca26"
             ],
             [
              1,
              "#f0f921"
             ]
            ],
            "type": "contour"
           }
          ],
          "contourcarpet": [
           {
            "colorbar": {
             "outlinewidth": 0,
             "ticks": ""
            },
            "type": "contourcarpet"
           }
          ],
          "heatmap": [
           {
            "colorbar": {
             "outlinewidth": 0,
             "ticks": ""
            },
            "colorscale": [
             [
              0,
              "#0d0887"
             ],
             [
              0.1111111111111111,
              "#46039f"
             ],
             [
              0.2222222222222222,
              "#7201a8"
             ],
             [
              0.3333333333333333,
              "#9c179e"
             ],
             [
              0.4444444444444444,
              "#bd3786"
             ],
             [
              0.5555555555555556,
              "#d8576b"
             ],
             [
              0.6666666666666666,
              "#ed7953"
             ],
             [
              0.7777777777777778,
              "#fb9f3a"
             ],
             [
              0.8888888888888888,
              "#fdca26"
             ],
             [
              1,
              "#f0f921"
             ]
            ],
            "type": "heatmap"
           }
          ],
          "heatmapgl": [
           {
            "colorbar": {
             "outlinewidth": 0,
             "ticks": ""
            },
            "colorscale": [
             [
              0,
              "#0d0887"
             ],
             [
              0.1111111111111111,
              "#46039f"
             ],
             [
              0.2222222222222222,
              "#7201a8"
             ],
             [
              0.3333333333333333,
              "#9c179e"
             ],
             [
              0.4444444444444444,
              "#bd3786"
             ],
             [
              0.5555555555555556,
              "#d8576b"
             ],
             [
              0.6666666666666666,
              "#ed7953"
             ],
             [
              0.7777777777777778,
              "#fb9f3a"
             ],
             [
              0.8888888888888888,
              "#fdca26"
             ],
             [
              1,
              "#f0f921"
             ]
            ],
            "type": "heatmapgl"
           }
          ],
          "histogram": [
           {
            "marker": {
             "pattern": {
              "fillmode": "overlay",
              "size": 10,
              "solidity": 0.2
             }
            },
            "type": "histogram"
           }
          ],
          "histogram2d": [
           {
            "colorbar": {
             "outlinewidth": 0,
             "ticks": ""
            },
            "colorscale": [
             [
              0,
              "#0d0887"
             ],
             [
              0.1111111111111111,
              "#46039f"
             ],
             [
              0.2222222222222222,
              "#7201a8"
             ],
             [
              0.3333333333333333,
              "#9c179e"
             ],
             [
              0.4444444444444444,
              "#bd3786"
             ],
             [
              0.5555555555555556,
              "#d8576b"
             ],
             [
              0.6666666666666666,
              "#ed7953"
             ],
             [
              0.7777777777777778,
              "#fb9f3a"
             ],
             [
              0.8888888888888888,
              "#fdca26"
             ],
             [
              1,
              "#f0f921"
             ]
            ],
            "type": "histogram2d"
           }
          ],
          "histogram2dcontour": [
           {
            "colorbar": {
             "outlinewidth": 0,
             "ticks": ""
            },
            "colorscale": [
             [
              0,
              "#0d0887"
             ],
             [
              0.1111111111111111,
              "#46039f"
             ],
             [
              0.2222222222222222,
              "#7201a8"
             ],
             [
              0.3333333333333333,
              "#9c179e"
             ],
             [
              0.4444444444444444,
              "#bd3786"
             ],
             [
              0.5555555555555556,
              "#d8576b"
             ],
             [
              0.6666666666666666,
              "#ed7953"
             ],
             [
              0.7777777777777778,
              "#fb9f3a"
             ],
             [
              0.8888888888888888,
              "#fdca26"
             ],
             [
              1,
              "#f0f921"
             ]
            ],
            "type": "histogram2dcontour"
           }
          ],
          "mesh3d": [
           {
            "colorbar": {
             "outlinewidth": 0,
             "ticks": ""
            },
            "type": "mesh3d"
           }
          ],
          "parcoords": [
           {
            "line": {
             "colorbar": {
              "outlinewidth": 0,
              "ticks": ""
             }
            },
            "type": "parcoords"
           }
          ],
          "pie": [
           {
            "automargin": true,
            "type": "pie"
           }
          ],
          "scatter": [
           {
            "fillpattern": {
             "fillmode": "overlay",
             "size": 10,
             "solidity": 0.2
            },
            "type": "scatter"
           }
          ],
          "scatter3d": [
           {
            "line": {
             "colorbar": {
              "outlinewidth": 0,
              "ticks": ""
             }
            },
            "marker": {
             "colorbar": {
              "outlinewidth": 0,
              "ticks": ""
             }
            },
            "type": "scatter3d"
           }
          ],
          "scattercarpet": [
           {
            "marker": {
             "colorbar": {
              "outlinewidth": 0,
              "ticks": ""
             }
            },
            "type": "scattercarpet"
           }
          ],
          "scattergeo": [
           {
            "marker": {
             "colorbar": {
              "outlinewidth": 0,
              "ticks": ""
             }
            },
            "type": "scattergeo"
           }
          ],
          "scattergl": [
           {
            "marker": {
             "colorbar": {
              "outlinewidth": 0,
              "ticks": ""
             }
            },
            "type": "scattergl"
           }
          ],
          "scattermapbox": [
           {
            "marker": {
             "colorbar": {
              "outlinewidth": 0,
              "ticks": ""
             }
            },
            "type": "scattermapbox"
           }
          ],
          "scatterpolar": [
           {
            "marker": {
             "colorbar": {
              "outlinewidth": 0,
              "ticks": ""
             }
            },
            "type": "scatterpolar"
           }
          ],
          "scatterpolargl": [
           {
            "marker": {
             "colorbar": {
              "outlinewidth": 0,
              "ticks": ""
             }
            },
            "type": "scatterpolargl"
           }
          ],
          "scatterternary": [
           {
            "marker": {
             "colorbar": {
              "outlinewidth": 0,
              "ticks": ""
             }
            },
            "type": "scatterternary"
           }
          ],
          "surface": [
           {
            "colorbar": {
             "outlinewidth": 0,
             "ticks": ""
            },
            "colorscale": [
             [
              0,
              "#0d0887"
             ],
             [
              0.1111111111111111,
              "#46039f"
             ],
             [
              0.2222222222222222,
              "#7201a8"
             ],
             [
              0.3333333333333333,
              "#9c179e"
             ],
             [
              0.4444444444444444,
              "#bd3786"
             ],
             [
              0.5555555555555556,
              "#d8576b"
             ],
             [
              0.6666666666666666,
              "#ed7953"
             ],
             [
              0.7777777777777778,
              "#fb9f3a"
             ],
             [
              0.8888888888888888,
              "#fdca26"
             ],
             [
              1,
              "#f0f921"
             ]
            ],
            "type": "surface"
           }
          ],
          "table": [
           {
            "cells": {
             "fill": {
              "color": "#EBF0F8"
             },
             "line": {
              "color": "white"
             }
            },
            "header": {
             "fill": {
              "color": "#C8D4E3"
             },
             "line": {
              "color": "white"
             }
            },
            "type": "table"
           }
          ]
         },
         "layout": {
          "annotationdefaults": {
           "arrowcolor": "#2a3f5f",
           "arrowhead": 0,
           "arrowwidth": 1
          },
          "autotypenumbers": "strict",
          "coloraxis": {
           "colorbar": {
            "outlinewidth": 0,
            "ticks": ""
           }
          },
          "colorscale": {
           "diverging": [
            [
             0,
             "#8e0152"
            ],
            [
             0.1,
             "#c51b7d"
            ],
            [
             0.2,
             "#de77ae"
            ],
            [
             0.3,
             "#f1b6da"
            ],
            [
             0.4,
             "#fde0ef"
            ],
            [
             0.5,
             "#f7f7f7"
            ],
            [
             0.6,
             "#e6f5d0"
            ],
            [
             0.7,
             "#b8e186"
            ],
            [
             0.8,
             "#7fbc41"
            ],
            [
             0.9,
             "#4d9221"
            ],
            [
             1,
             "#276419"
            ]
           ],
           "sequential": [
            [
             0,
             "#0d0887"
            ],
            [
             0.1111111111111111,
             "#46039f"
            ],
            [
             0.2222222222222222,
             "#7201a8"
            ],
            [
             0.3333333333333333,
             "#9c179e"
            ],
            [
             0.4444444444444444,
             "#bd3786"
            ],
            [
             0.5555555555555556,
             "#d8576b"
            ],
            [
             0.6666666666666666,
             "#ed7953"
            ],
            [
             0.7777777777777778,
             "#fb9f3a"
            ],
            [
             0.8888888888888888,
             "#fdca26"
            ],
            [
             1,
             "#f0f921"
            ]
           ],
           "sequentialminus": [
            [
             0,
             "#0d0887"
            ],
            [
             0.1111111111111111,
             "#46039f"
            ],
            [
             0.2222222222222222,
             "#7201a8"
            ],
            [
             0.3333333333333333,
             "#9c179e"
            ],
            [
             0.4444444444444444,
             "#bd3786"
            ],
            [
             0.5555555555555556,
             "#d8576b"
            ],
            [
             0.6666666666666666,
             "#ed7953"
            ],
            [
             0.7777777777777778,
             "#fb9f3a"
            ],
            [
             0.8888888888888888,
             "#fdca26"
            ],
            [
             1,
             "#f0f921"
            ]
           ]
          },
          "colorway": [
           "#636efa",
           "#EF553B",
           "#00cc96",
           "#ab63fa",
           "#FFA15A",
           "#19d3f3",
           "#FF6692",
           "#B6E880",
           "#FF97FF",
           "#FECB52"
          ],
          "font": {
           "color": "#2a3f5f"
          },
          "geo": {
           "bgcolor": "white",
           "lakecolor": "white",
           "landcolor": "#E5ECF6",
           "showlakes": true,
           "showland": true,
           "subunitcolor": "white"
          },
          "hoverlabel": {
           "align": "left"
          },
          "hovermode": "closest",
          "mapbox": {
           "style": "light"
          },
          "paper_bgcolor": "white",
          "plot_bgcolor": "#E5ECF6",
          "polar": {
           "angularaxis": {
            "gridcolor": "white",
            "linecolor": "white",
            "ticks": ""
           },
           "bgcolor": "#E5ECF6",
           "radialaxis": {
            "gridcolor": "white",
            "linecolor": "white",
            "ticks": ""
           }
          },
          "scene": {
           "xaxis": {
            "backgroundcolor": "#E5ECF6",
            "gridcolor": "white",
            "gridwidth": 2,
            "linecolor": "white",
            "showbackground": true,
            "ticks": "",
            "zerolinecolor": "white"
           },
           "yaxis": {
            "backgroundcolor": "#E5ECF6",
            "gridcolor": "white",
            "gridwidth": 2,
            "linecolor": "white",
            "showbackground": true,
            "ticks": "",
            "zerolinecolor": "white"
           },
           "zaxis": {
            "backgroundcolor": "#E5ECF6",
            "gridcolor": "white",
            "gridwidth": 2,
            "linecolor": "white",
            "showbackground": true,
            "ticks": "",
            "zerolinecolor": "white"
           }
          },
          "shapedefaults": {
           "line": {
            "color": "#2a3f5f"
           }
          },
          "ternary": {
           "aaxis": {
            "gridcolor": "white",
            "linecolor": "white",
            "ticks": ""
           },
           "baxis": {
            "gridcolor": "white",
            "linecolor": "white",
            "ticks": ""
           },
           "bgcolor": "#E5ECF6",
           "caxis": {
            "gridcolor": "white",
            "linecolor": "white",
            "ticks": ""
           }
          },
          "title": {
           "x": 0.05
          },
          "xaxis": {
           "automargin": true,
           "gridcolor": "white",
           "linecolor": "white",
           "ticks": "",
           "title": {
            "standoff": 15
           },
           "zerolinecolor": "white",
           "zerolinewidth": 2
          },
          "yaxis": {
           "automargin": true,
           "gridcolor": "white",
           "linecolor": "white",
           "ticks": "",
           "title": {
            "standoff": 15
           },
           "zerolinecolor": "white",
           "zerolinewidth": 2
          }
         }
        },
        "xaxis": {
         "anchor": "y",
         "domain": [
          0,
          1
         ],
         "title": {
          "text": "rating"
         }
        },
        "yaxis": {
         "anchor": "x",
         "domain": [
          0,
          1
         ],
         "title": {
          "text": "campus_name"
         }
        }
       }
      }
     },
     "metadata": {},
     "output_type": "display_data"
    }
   ],
   "source": [
    "# A scatter plot:\n",
    "fig = px.scatter(df, x='rating', y='campus_name', color='campus_location')\n",
    "fig.show()"
   ]
  },
  {
   "cell_type": "code",
   "execution_count": 62,
   "metadata": {},
   "outputs": [
    {
     "data": {
      "application/vnd.plotly.v1+json": {
       "config": {
        "plotlyServerURL": "https://plot.ly"
       },
       "data": [
        {
         "alignmentgroup": "True",
         "bingroup": "x",
         "histfunc": "sum",
         "hovertemplate": "community_type=large urban city<br>rating=%{x}<br>sum of students=%{y}<extra></extra>",
         "legendgroup": "large urban city",
         "marker": {
          "color": "#636efa",
          "pattern": {
           "shape": ""
          }
         },
         "name": "large urban city",
         "offsetgroup": "large urban city",
         "orientation": "v",
         "showlegend": true,
         "type": "histogram",
         "x": [
          5,
          4.5,
          5,
          5,
          5,
          2.5,
          4.5,
          4.5,
          4.5,
          3.5,
          5,
          3,
          4.5,
          5,
          4,
          5,
          4.5,
          4,
          3.5,
          4,
          4.5,
          3.5,
          4.5,
          5,
          4,
          5,
          4.5,
          3,
          5,
          4.5,
          4,
          3,
          1.5,
          2.5,
          5,
          3.5,
          4,
          4.5,
          4,
          4,
          3.5,
          3.5,
          4.5,
          4.5
         ],
         "xaxis": "x",
         "y": [
          37952,
          14769,
          48000,
          3537,
          25000,
          10275,
          15500,
          36000,
          40000,
          10185,
          12835,
          14000,
          16375,
          2094,
          8381,
          32000,
          2000,
          16397,
          29905,
          1699,
          23829,
          14000,
          12373,
          22000,
          15000,
          30539,
          21000,
          1900,
          16517,
          34000,
          3783,
          1035,
          7028,
          2300,
          1750,
          1454,
          16158,
          14585,
          900,
          1100,
          22968,
          7288,
          26251,
          5000
         ],
         "yaxis": "y"
        },
        {
         "alignmentgroup": "True",
         "bingroup": "x",
         "histfunc": "sum",
         "hovertemplate": "community_type=medium city<br>rating=%{x}<br>sum of students=%{y}<extra></extra>",
         "legendgroup": "medium city",
         "marker": {
          "color": "#EF553B",
          "pattern": {
           "shape": ""
          }
         },
         "name": "medium city",
         "offsetgroup": "medium city",
         "orientation": "v",
         "showlegend": true,
         "type": "histogram",
         "x": [
          3,
          3.5,
          4.5,
          4.5,
          5,
          4.5,
          4.5,
          3,
          4,
          4.5,
          5,
          4.5,
          4,
          4,
          4.5,
          4.5,
          4,
          5,
          5,
          3.5,
          5,
          3.5,
          5,
          5,
          3,
          5,
          5,
          4,
          5,
          3.5,
          4.5,
          4,
          4.5,
          2.5,
          4,
          5,
          4.5,
          2.5,
          3.5,
          3.5,
          3,
          4,
          5,
          3.5,
          3,
          5,
          3.5,
          3,
          4,
          4,
          3,
          5,
          2.5,
          4
         ],
         "xaxis": "x",
         "y": [
          9000,
          29850,
          31500,
          36846,
          2159,
          16765,
          3890,
          11171,
          14422,
          43193,
          14000,
          11000,
          1458,
          26000,
          2300,
          12017,
          16251,
          9533,
          10182,
          29000,
          30000,
          14500,
          18000,
          16000,
          1950,
          1200,
          9780,
          18897,
          27642,
          4297,
          6500,
          16000,
          7450,
          260,
          2200,
          46000,
          4039,
          5776,
          6500,
          23717,
          4000,
          25829,
          11114,
          7000,
          6738,
          25069,
          3400,
          3094,
          23000,
          2890,
          1132,
          47000,
          6712,
          14500
         ],
         "yaxis": "y"
        },
        {
         "alignmentgroup": "True",
         "bingroup": "x",
         "histfunc": "sum",
         "hovertemplate": "community_type=very small town<br>rating=%{x}<br>sum of students=%{y}<extra></extra>",
         "legendgroup": "very small town",
         "marker": {
          "color": "#00cc96",
          "pattern": {
           "shape": ""
          }
         },
         "name": "very small town",
         "offsetgroup": "very small town",
         "orientation": "v",
         "showlegend": true,
         "type": "histogram",
         "x": [
          4,
          4.5,
          4,
          3.5,
          4.5,
          4.5,
          3,
          3,
          2,
          3,
          2.5,
          4
         ],
         "xaxis": "x",
         "y": [
          13000,
          2400,
          1900,
          1420,
          400,
          1800,
          1600,
          2300,
          3100,
          3040,
          987,
          8000
         ],
         "yaxis": "y"
        },
        {
         "alignmentgroup": "True",
         "bingroup": "x",
         "histfunc": "sum",
         "hovertemplate": "community_type=rural community<br>rating=%{x}<br>sum of students=%{y}<extra></extra>",
         "legendgroup": "rural community",
         "marker": {
          "color": "#ab63fa",
          "pattern": {
           "shape": ""
          }
         },
         "name": "rural community",
         "offsetgroup": "rural community",
         "orientation": "v",
         "showlegend": true,
         "type": "histogram",
         "x": [
          4,
          3.5,
          3.5,
          4.5,
          4.5,
          4,
          4.5,
          4.5,
          3,
          4,
          3.5,
          2,
          2.5,
          3,
          2.5
         ],
         "xaxis": "x",
         "y": [
          8500,
          7238,
          1500,
          800,
          3228,
          1730,
          2396,
          125,
          1000,
          1651,
          3014,
          1200,
          1193,
          650,
          6425
         ],
         "yaxis": "y"
        },
        {
         "alignmentgroup": "True",
         "bingroup": "x",
         "histfunc": "sum",
         "hovertemplate": "community_type=small town<br>rating=%{x}<br>sum of students=%{y}<extra></extra>",
         "legendgroup": "small town",
         "marker": {
          "color": "#FFA15A",
          "pattern": {
           "shape": ""
          }
         },
         "name": "small town",
         "offsetgroup": "small town",
         "orientation": "v",
         "showlegend": true,
         "type": "histogram",
         "x": [
          5,
          4,
          5,
          5,
          4,
          4,
          4.5,
          4,
          5,
          4.5,
          3,
          3.5,
          3,
          4,
          4,
          3,
          5,
          3,
          4.5,
          4,
          4.5,
          2,
          3,
          4,
          3.5,
          4,
          4.5,
          3.5,
          4.5,
          3,
          4.5,
          4.5,
          4.5,
          3,
          3.5,
          3,
          3.5
         ],
         "xaxis": "x",
         "y": [
          19446,
          1850,
          6500,
          28500,
          3400,
          5514,
          8500,
          4000,
          46184,
          20436,
          1450,
          2299,
          6800,
          3500,
          12000,
          7500,
          7859,
          2100,
          22000,
          3443,
          13000,
          3287,
          1724,
          17552,
          21000,
          3000,
          24000,
          4816,
          1700,
          10000,
          1800,
          2100,
          2400,
          3394,
          10222,
          9000,
          1100
         ],
         "yaxis": "y"
        },
        {
         "alignmentgroup": "True",
         "bingroup": "x",
         "histfunc": "sum",
         "hovertemplate": "community_type=small city<br>rating=%{x}<br>sum of students=%{y}<extra></extra>",
         "legendgroup": "small city",
         "marker": {
          "color": "#19d3f3",
          "pattern": {
           "shape": ""
          }
         },
         "name": "small city",
         "offsetgroup": "small city",
         "orientation": "v",
         "showlegend": true,
         "type": "histogram",
         "x": [
          4.5,
          2.5,
          5,
          5,
          4,
          5,
          4.5,
          5,
          4.5,
          5,
          4.5,
          4,
          5,
          5,
          4,
          5,
          4,
          5,
          5,
          4,
          4.5,
          5,
          4.5,
          4,
          3.5,
          4,
          4,
          5,
          4,
          3.5,
          5,
          4,
          4.5,
          4,
          4,
          4.5,
          5,
          5,
          4,
          4,
          3.5,
          4.5,
          5,
          4,
          4,
          4,
          3.5,
          3,
          3.5,
          3.5,
          2,
          3,
          2.5,
          4,
          4.5,
          4.5,
          3,
          4.5,
          3,
          3.5,
          3,
          1.5,
          4,
          5,
          4,
          2.5,
          3,
          2,
          4.5,
          4.5,
          4.5,
          4.5,
          3,
          3,
          3.5,
          3
         ],
         "xaxis": "x",
         "y": [
          29000,
          8600,
          16234,
          6000,
          21215,
          30000,
          10000,
          11926,
          34000,
          20000,
          4100,
          1300,
          17170,
          2150,
          16902,
          21000,
          6500,
          6950,
          39150,
          31000,
          10500,
          11000,
          38000,
          50000,
          2100,
          5000,
          6100,
          49695,
          1500,
          2500,
          11000,
          20000,
          14000,
          28000,
          14172,
          28000,
          28000,
          49000,
          6300,
          2000,
          450,
          1200,
          14000,
          370,
          22000,
          6825,
          7500,
          11610,
          3500,
          1500,
          5000,
          1000,
          10000,
          4000,
          3500,
          8000,
          1493,
          8900,
          1531,
          38000,
          5599,
          7854,
          5041,
          6232,
          10216,
          13000,
          1400,
          12000,
          13228,
          18000,
          9080,
          29131,
          7000,
          2183,
          1800,
          1750
         ],
         "yaxis": "y"
        }
       ],
       "layout": {
        "barmode": "relative",
        "legend": {
         "title": {
          "text": "community_type"
         },
         "tracegroupgap": 0
        },
        "margin": {
         "t": 60
        },
        "template": {
         "data": {
          "bar": [
           {
            "error_x": {
             "color": "#2a3f5f"
            },
            "error_y": {
             "color": "#2a3f5f"
            },
            "marker": {
             "line": {
              "color": "#E5ECF6",
              "width": 0.5
             },
             "pattern": {
              "fillmode": "overlay",
              "size": 10,
              "solidity": 0.2
             }
            },
            "type": "bar"
           }
          ],
          "barpolar": [
           {
            "marker": {
             "line": {
              "color": "#E5ECF6",
              "width": 0.5
             },
             "pattern": {
              "fillmode": "overlay",
              "size": 10,
              "solidity": 0.2
             }
            },
            "type": "barpolar"
           }
          ],
          "carpet": [
           {
            "aaxis": {
             "endlinecolor": "#2a3f5f",
             "gridcolor": "white",
             "linecolor": "white",
             "minorgridcolor": "white",
             "startlinecolor": "#2a3f5f"
            },
            "baxis": {
             "endlinecolor": "#2a3f5f",
             "gridcolor": "white",
             "linecolor": "white",
             "minorgridcolor": "white",
             "startlinecolor": "#2a3f5f"
            },
            "type": "carpet"
           }
          ],
          "choropleth": [
           {
            "colorbar": {
             "outlinewidth": 0,
             "ticks": ""
            },
            "type": "choropleth"
           }
          ],
          "contour": [
           {
            "colorbar": {
             "outlinewidth": 0,
             "ticks": ""
            },
            "colorscale": [
             [
              0,
              "#0d0887"
             ],
             [
              0.1111111111111111,
              "#46039f"
             ],
             [
              0.2222222222222222,
              "#7201a8"
             ],
             [
              0.3333333333333333,
              "#9c179e"
             ],
             [
              0.4444444444444444,
              "#bd3786"
             ],
             [
              0.5555555555555556,
              "#d8576b"
             ],
             [
              0.6666666666666666,
              "#ed7953"
             ],
             [
              0.7777777777777778,
              "#fb9f3a"
             ],
             [
              0.8888888888888888,
              "#fdca26"
             ],
             [
              1,
              "#f0f921"
             ]
            ],
            "type": "contour"
           }
          ],
          "contourcarpet": [
           {
            "colorbar": {
             "outlinewidth": 0,
             "ticks": ""
            },
            "type": "contourcarpet"
           }
          ],
          "heatmap": [
           {
            "colorbar": {
             "outlinewidth": 0,
             "ticks": ""
            },
            "colorscale": [
             [
              0,
              "#0d0887"
             ],
             [
              0.1111111111111111,
              "#46039f"
             ],
             [
              0.2222222222222222,
              "#7201a8"
             ],
             [
              0.3333333333333333,
              "#9c179e"
             ],
             [
              0.4444444444444444,
              "#bd3786"
             ],
             [
              0.5555555555555556,
              "#d8576b"
             ],
             [
              0.6666666666666666,
              "#ed7953"
             ],
             [
              0.7777777777777778,
              "#fb9f3a"
             ],
             [
              0.8888888888888888,
              "#fdca26"
             ],
             [
              1,
              "#f0f921"
             ]
            ],
            "type": "heatmap"
           }
          ],
          "heatmapgl": [
           {
            "colorbar": {
             "outlinewidth": 0,
             "ticks": ""
            },
            "colorscale": [
             [
              0,
              "#0d0887"
             ],
             [
              0.1111111111111111,
              "#46039f"
             ],
             [
              0.2222222222222222,
              "#7201a8"
             ],
             [
              0.3333333333333333,
              "#9c179e"
             ],
             [
              0.4444444444444444,
              "#bd3786"
             ],
             [
              0.5555555555555556,
              "#d8576b"
             ],
             [
              0.6666666666666666,
              "#ed7953"
             ],
             [
              0.7777777777777778,
              "#fb9f3a"
             ],
             [
              0.8888888888888888,
              "#fdca26"
             ],
             [
              1,
              "#f0f921"
             ]
            ],
            "type": "heatmapgl"
           }
          ],
          "histogram": [
           {
            "marker": {
             "pattern": {
              "fillmode": "overlay",
              "size": 10,
              "solidity": 0.2
             }
            },
            "type": "histogram"
           }
          ],
          "histogram2d": [
           {
            "colorbar": {
             "outlinewidth": 0,
             "ticks": ""
            },
            "colorscale": [
             [
              0,
              "#0d0887"
             ],
             [
              0.1111111111111111,
              "#46039f"
             ],
             [
              0.2222222222222222,
              "#7201a8"
             ],
             [
              0.3333333333333333,
              "#9c179e"
             ],
             [
              0.4444444444444444,
              "#bd3786"
             ],
             [
              0.5555555555555556,
              "#d8576b"
             ],
             [
              0.6666666666666666,
              "#ed7953"
             ],
             [
              0.7777777777777778,
              "#fb9f3a"
             ],
             [
              0.8888888888888888,
              "#fdca26"
             ],
             [
              1,
              "#f0f921"
             ]
            ],
            "type": "histogram2d"
           }
          ],
          "histogram2dcontour": [
           {
            "colorbar": {
             "outlinewidth": 0,
             "ticks": ""
            },
            "colorscale": [
             [
              0,
              "#0d0887"
             ],
             [
              0.1111111111111111,
              "#46039f"
             ],
             [
              0.2222222222222222,
              "#7201a8"
             ],
             [
              0.3333333333333333,
              "#9c179e"
             ],
             [
              0.4444444444444444,
              "#bd3786"
             ],
             [
              0.5555555555555556,
              "#d8576b"
             ],
             [
              0.6666666666666666,
              "#ed7953"
             ],
             [
              0.7777777777777778,
              "#fb9f3a"
             ],
             [
              0.8888888888888888,
              "#fdca26"
             ],
             [
              1,
              "#f0f921"
             ]
            ],
            "type": "histogram2dcontour"
           }
          ],
          "mesh3d": [
           {
            "colorbar": {
             "outlinewidth": 0,
             "ticks": ""
            },
            "type": "mesh3d"
           }
          ],
          "parcoords": [
           {
            "line": {
             "colorbar": {
              "outlinewidth": 0,
              "ticks": ""
             }
            },
            "type": "parcoords"
           }
          ],
          "pie": [
           {
            "automargin": true,
            "type": "pie"
           }
          ],
          "scatter": [
           {
            "fillpattern": {
             "fillmode": "overlay",
             "size": 10,
             "solidity": 0.2
            },
            "type": "scatter"
           }
          ],
          "scatter3d": [
           {
            "line": {
             "colorbar": {
              "outlinewidth": 0,
              "ticks": ""
             }
            },
            "marker": {
             "colorbar": {
              "outlinewidth": 0,
              "ticks": ""
             }
            },
            "type": "scatter3d"
           }
          ],
          "scattercarpet": [
           {
            "marker": {
             "colorbar": {
              "outlinewidth": 0,
              "ticks": ""
             }
            },
            "type": "scattercarpet"
           }
          ],
          "scattergeo": [
           {
            "marker": {
             "colorbar": {
              "outlinewidth": 0,
              "ticks": ""
             }
            },
            "type": "scattergeo"
           }
          ],
          "scattergl": [
           {
            "marker": {
             "colorbar": {
              "outlinewidth": 0,
              "ticks": ""
             }
            },
            "type": "scattergl"
           }
          ],
          "scattermapbox": [
           {
            "marker": {
             "colorbar": {
              "outlinewidth": 0,
              "ticks": ""
             }
            },
            "type": "scattermapbox"
           }
          ],
          "scatterpolar": [
           {
            "marker": {
             "colorbar": {
              "outlinewidth": 0,
              "ticks": ""
             }
            },
            "type": "scatterpolar"
           }
          ],
          "scatterpolargl": [
           {
            "marker": {
             "colorbar": {
              "outlinewidth": 0,
              "ticks": ""
             }
            },
            "type": "scatterpolargl"
           }
          ],
          "scatterternary": [
           {
            "marker": {
             "colorbar": {
              "outlinewidth": 0,
              "ticks": ""
             }
            },
            "type": "scatterternary"
           }
          ],
          "surface": [
           {
            "colorbar": {
             "outlinewidth": 0,
             "ticks": ""
            },
            "colorscale": [
             [
              0,
              "#0d0887"
             ],
             [
              0.1111111111111111,
              "#46039f"
             ],
             [
              0.2222222222222222,
              "#7201a8"
             ],
             [
              0.3333333333333333,
              "#9c179e"
             ],
             [
              0.4444444444444444,
              "#bd3786"
             ],
             [
              0.5555555555555556,
              "#d8576b"
             ],
             [
              0.6666666666666666,
              "#ed7953"
             ],
             [
              0.7777777777777778,
              "#fb9f3a"
             ],
             [
              0.8888888888888888,
              "#fdca26"
             ],
             [
              1,
              "#f0f921"
             ]
            ],
            "type": "surface"
           }
          ],
          "table": [
           {
            "cells": {
             "fill": {
              "color": "#EBF0F8"
             },
             "line": {
              "color": "white"
             }
            },
            "header": {
             "fill": {
              "color": "#C8D4E3"
             },
             "line": {
              "color": "white"
             }
            },
            "type": "table"
           }
          ]
         },
         "layout": {
          "annotationdefaults": {
           "arrowcolor": "#2a3f5f",
           "arrowhead": 0,
           "arrowwidth": 1
          },
          "autotypenumbers": "strict",
          "coloraxis": {
           "colorbar": {
            "outlinewidth": 0,
            "ticks": ""
           }
          },
          "colorscale": {
           "diverging": [
            [
             0,
             "#8e0152"
            ],
            [
             0.1,
             "#c51b7d"
            ],
            [
             0.2,
             "#de77ae"
            ],
            [
             0.3,
             "#f1b6da"
            ],
            [
             0.4,
             "#fde0ef"
            ],
            [
             0.5,
             "#f7f7f7"
            ],
            [
             0.6,
             "#e6f5d0"
            ],
            [
             0.7,
             "#b8e186"
            ],
            [
             0.8,
             "#7fbc41"
            ],
            [
             0.9,
             "#4d9221"
            ],
            [
             1,
             "#276419"
            ]
           ],
           "sequential": [
            [
             0,
             "#0d0887"
            ],
            [
             0.1111111111111111,
             "#46039f"
            ],
            [
             0.2222222222222222,
             "#7201a8"
            ],
            [
             0.3333333333333333,
             "#9c179e"
            ],
            [
             0.4444444444444444,
             "#bd3786"
            ],
            [
             0.5555555555555556,
             "#d8576b"
            ],
            [
             0.6666666666666666,
             "#ed7953"
            ],
            [
             0.7777777777777778,
             "#fb9f3a"
            ],
            [
             0.8888888888888888,
             "#fdca26"
            ],
            [
             1,
             "#f0f921"
            ]
           ],
           "sequentialminus": [
            [
             0,
             "#0d0887"
            ],
            [
             0.1111111111111111,
             "#46039f"
            ],
            [
             0.2222222222222222,
             "#7201a8"
            ],
            [
             0.3333333333333333,
             "#9c179e"
            ],
            [
             0.4444444444444444,
             "#bd3786"
            ],
            [
             0.5555555555555556,
             "#d8576b"
            ],
            [
             0.6666666666666666,
             "#ed7953"
            ],
            [
             0.7777777777777778,
             "#fb9f3a"
            ],
            [
             0.8888888888888888,
             "#fdca26"
            ],
            [
             1,
             "#f0f921"
            ]
           ]
          },
          "colorway": [
           "#636efa",
           "#EF553B",
           "#00cc96",
           "#ab63fa",
           "#FFA15A",
           "#19d3f3",
           "#FF6692",
           "#B6E880",
           "#FF97FF",
           "#FECB52"
          ],
          "font": {
           "color": "#2a3f5f"
          },
          "geo": {
           "bgcolor": "white",
           "lakecolor": "white",
           "landcolor": "#E5ECF6",
           "showlakes": true,
           "showland": true,
           "subunitcolor": "white"
          },
          "hoverlabel": {
           "align": "left"
          },
          "hovermode": "closest",
          "mapbox": {
           "style": "light"
          },
          "paper_bgcolor": "white",
          "plot_bgcolor": "#E5ECF6",
          "polar": {
           "angularaxis": {
            "gridcolor": "white",
            "linecolor": "white",
            "ticks": ""
           },
           "bgcolor": "#E5ECF6",
           "radialaxis": {
            "gridcolor": "white",
            "linecolor": "white",
            "ticks": ""
           }
          },
          "scene": {
           "xaxis": {
            "backgroundcolor": "#E5ECF6",
            "gridcolor": "white",
            "gridwidth": 2,
            "linecolor": "white",
            "showbackground": true,
            "ticks": "",
            "zerolinecolor": "white"
           },
           "yaxis": {
            "backgroundcolor": "#E5ECF6",
            "gridcolor": "white",
            "gridwidth": 2,
            "linecolor": "white",
            "showbackground": true,
            "ticks": "",
            "zerolinecolor": "white"
           },
           "zaxis": {
            "backgroundcolor": "#E5ECF6",
            "gridcolor": "white",
            "gridwidth": 2,
            "linecolor": "white",
            "showbackground": true,
            "ticks": "",
            "zerolinecolor": "white"
           }
          },
          "shapedefaults": {
           "line": {
            "color": "#2a3f5f"
           }
          },
          "ternary": {
           "aaxis": {
            "gridcolor": "white",
            "linecolor": "white",
            "ticks": ""
           },
           "baxis": {
            "gridcolor": "white",
            "linecolor": "white",
            "ticks": ""
           },
           "bgcolor": "#E5ECF6",
           "caxis": {
            "gridcolor": "white",
            "linecolor": "white",
            "ticks": ""
           }
          },
          "title": {
           "x": 0.05
          },
          "xaxis": {
           "automargin": true,
           "gridcolor": "white",
           "linecolor": "white",
           "ticks": "",
           "title": {
            "standoff": 15
           },
           "zerolinecolor": "white",
           "zerolinewidth": 2
          },
          "yaxis": {
           "automargin": true,
           "gridcolor": "white",
           "linecolor": "white",
           "ticks": "",
           "title": {
            "standoff": 15
           },
           "zerolinecolor": "white",
           "zerolinewidth": 2
          }
         }
        },
        "xaxis": {
         "anchor": "y",
         "domain": [
          0,
          1
         ],
         "title": {
          "text": "rating"
         }
        },
        "yaxis": {
         "anchor": "x",
         "domain": [
          0,
          1
         ],
         "title": {
          "text": "sum of students"
         }
        }
       }
      }
     },
     "metadata": {},
     "output_type": "display_data"
    }
   ],
   "source": [
    "# Histogram of the DataSet:\n",
    "fig = px.histogram(df, x='rating', y='students', color='community_type')\n",
    "fig.show()"
   ]
  },
  {
   "cell_type": "code",
   "execution_count": 63,
   "metadata": {},
   "outputs": [
    {
     "data": {
      "application/vnd.plotly.v1+json": {
       "config": {
        "plotlyServerURL": "https://plot.ly"
       },
       "data": [
        {
         "alignmentgroup": "True",
         "hovertemplate": "community_type=large urban city<br>rating=%{x}<br>students=%{y}<extra></extra>",
         "legendgroup": "large urban city",
         "marker": {
          "color": "#636efa"
         },
         "name": "large urban city",
         "notched": false,
         "offsetgroup": "large urban city",
         "orientation": "v",
         "showlegend": true,
         "type": "box",
         "x": [
          5,
          4.5,
          5,
          5,
          5,
          2.5,
          4.5,
          4.5,
          4.5,
          3.5,
          5,
          3,
          4.5,
          5,
          4,
          5,
          4.5,
          4,
          3.5,
          4,
          4.5,
          3.5,
          4.5,
          5,
          4,
          5,
          4.5,
          3,
          5,
          4.5,
          4,
          3,
          1.5,
          2.5,
          5,
          3.5,
          4,
          4.5,
          4,
          4,
          3.5,
          3.5,
          4.5,
          4.5
         ],
         "x0": " ",
         "xaxis": "x",
         "y": [
          37952,
          14769,
          48000,
          3537,
          25000,
          10275,
          15500,
          36000,
          40000,
          10185,
          12835,
          14000,
          16375,
          2094,
          8381,
          32000,
          2000,
          16397,
          29905,
          1699,
          23829,
          14000,
          12373,
          22000,
          15000,
          30539,
          21000,
          1900,
          16517,
          34000,
          3783,
          1035,
          7028,
          2300,
          1750,
          1454,
          16158,
          14585,
          900,
          1100,
          22968,
          7288,
          26251,
          5000
         ],
         "y0": " ",
         "yaxis": "y"
        },
        {
         "alignmentgroup": "True",
         "hovertemplate": "community_type=medium city<br>rating=%{x}<br>students=%{y}<extra></extra>",
         "legendgroup": "medium city",
         "marker": {
          "color": "#EF553B"
         },
         "name": "medium city",
         "notched": false,
         "offsetgroup": "medium city",
         "orientation": "v",
         "showlegend": true,
         "type": "box",
         "x": [
          3,
          3.5,
          4.5,
          4.5,
          5,
          4.5,
          4.5,
          3,
          4,
          4.5,
          5,
          4.5,
          4,
          4,
          4.5,
          4.5,
          4,
          5,
          5,
          3.5,
          5,
          3.5,
          5,
          5,
          3,
          5,
          5,
          4,
          5,
          3.5,
          4.5,
          4,
          4.5,
          2.5,
          4,
          5,
          4.5,
          2.5,
          3.5,
          3.5,
          3,
          4,
          5,
          3.5,
          3,
          5,
          3.5,
          3,
          4,
          4,
          3,
          5,
          2.5,
          4
         ],
         "x0": " ",
         "xaxis": "x",
         "y": [
          9000,
          29850,
          31500,
          36846,
          2159,
          16765,
          3890,
          11171,
          14422,
          43193,
          14000,
          11000,
          1458,
          26000,
          2300,
          12017,
          16251,
          9533,
          10182,
          29000,
          30000,
          14500,
          18000,
          16000,
          1950,
          1200,
          9780,
          18897,
          27642,
          4297,
          6500,
          16000,
          7450,
          260,
          2200,
          46000,
          4039,
          5776,
          6500,
          23717,
          4000,
          25829,
          11114,
          7000,
          6738,
          25069,
          3400,
          3094,
          23000,
          2890,
          1132,
          47000,
          6712,
          14500
         ],
         "y0": " ",
         "yaxis": "y"
        },
        {
         "alignmentgroup": "True",
         "hovertemplate": "community_type=very small town<br>rating=%{x}<br>students=%{y}<extra></extra>",
         "legendgroup": "very small town",
         "marker": {
          "color": "#00cc96"
         },
         "name": "very small town",
         "notched": false,
         "offsetgroup": "very small town",
         "orientation": "v",
         "showlegend": true,
         "type": "box",
         "x": [
          4,
          4.5,
          4,
          3.5,
          4.5,
          4.5,
          3,
          3,
          2,
          3,
          2.5,
          4
         ],
         "x0": " ",
         "xaxis": "x",
         "y": [
          13000,
          2400,
          1900,
          1420,
          400,
          1800,
          1600,
          2300,
          3100,
          3040,
          987,
          8000
         ],
         "y0": " ",
         "yaxis": "y"
        },
        {
         "alignmentgroup": "True",
         "hovertemplate": "community_type=rural community<br>rating=%{x}<br>students=%{y}<extra></extra>",
         "legendgroup": "rural community",
         "marker": {
          "color": "#ab63fa"
         },
         "name": "rural community",
         "notched": false,
         "offsetgroup": "rural community",
         "orientation": "v",
         "showlegend": true,
         "type": "box",
         "x": [
          4,
          3.5,
          3.5,
          4.5,
          4.5,
          4,
          4.5,
          4.5,
          3,
          4,
          3.5,
          2,
          2.5,
          3,
          2.5
         ],
         "x0": " ",
         "xaxis": "x",
         "y": [
          8500,
          7238,
          1500,
          800,
          3228,
          1730,
          2396,
          125,
          1000,
          1651,
          3014,
          1200,
          1193,
          650,
          6425
         ],
         "y0": " ",
         "yaxis": "y"
        },
        {
         "alignmentgroup": "True",
         "hovertemplate": "community_type=small town<br>rating=%{x}<br>students=%{y}<extra></extra>",
         "legendgroup": "small town",
         "marker": {
          "color": "#FFA15A"
         },
         "name": "small town",
         "notched": false,
         "offsetgroup": "small town",
         "orientation": "v",
         "showlegend": true,
         "type": "box",
         "x": [
          5,
          4,
          5,
          5,
          4,
          4,
          4.5,
          4,
          5,
          4.5,
          3,
          3.5,
          3,
          4,
          4,
          3,
          5,
          3,
          4.5,
          4,
          4.5,
          2,
          3,
          4,
          3.5,
          4,
          4.5,
          3.5,
          4.5,
          3,
          4.5,
          4.5,
          4.5,
          3,
          3.5,
          3,
          3.5
         ],
         "x0": " ",
         "xaxis": "x",
         "y": [
          19446,
          1850,
          6500,
          28500,
          3400,
          5514,
          8500,
          4000,
          46184,
          20436,
          1450,
          2299,
          6800,
          3500,
          12000,
          7500,
          7859,
          2100,
          22000,
          3443,
          13000,
          3287,
          1724,
          17552,
          21000,
          3000,
          24000,
          4816,
          1700,
          10000,
          1800,
          2100,
          2400,
          3394,
          10222,
          9000,
          1100
         ],
         "y0": " ",
         "yaxis": "y"
        },
        {
         "alignmentgroup": "True",
         "hovertemplate": "community_type=small city<br>rating=%{x}<br>students=%{y}<extra></extra>",
         "legendgroup": "small city",
         "marker": {
          "color": "#19d3f3"
         },
         "name": "small city",
         "notched": false,
         "offsetgroup": "small city",
         "orientation": "v",
         "showlegend": true,
         "type": "box",
         "x": [
          4.5,
          2.5,
          5,
          5,
          4,
          5,
          4.5,
          5,
          4.5,
          5,
          4.5,
          4,
          5,
          5,
          4,
          5,
          4,
          5,
          5,
          4,
          4.5,
          5,
          4.5,
          4,
          3.5,
          4,
          4,
          5,
          4,
          3.5,
          5,
          4,
          4.5,
          4,
          4,
          4.5,
          5,
          5,
          4,
          4,
          3.5,
          4.5,
          5,
          4,
          4,
          4,
          3.5,
          3,
          3.5,
          3.5,
          2,
          3,
          2.5,
          4,
          4.5,
          4.5,
          3,
          4.5,
          3,
          3.5,
          3,
          1.5,
          4,
          5,
          4,
          2.5,
          3,
          2,
          4.5,
          4.5,
          4.5,
          4.5,
          3,
          3,
          3.5,
          3
         ],
         "x0": " ",
         "xaxis": "x",
         "y": [
          29000,
          8600,
          16234,
          6000,
          21215,
          30000,
          10000,
          11926,
          34000,
          20000,
          4100,
          1300,
          17170,
          2150,
          16902,
          21000,
          6500,
          6950,
          39150,
          31000,
          10500,
          11000,
          38000,
          50000,
          2100,
          5000,
          6100,
          49695,
          1500,
          2500,
          11000,
          20000,
          14000,
          28000,
          14172,
          28000,
          28000,
          49000,
          6300,
          2000,
          450,
          1200,
          14000,
          370,
          22000,
          6825,
          7500,
          11610,
          3500,
          1500,
          5000,
          1000,
          10000,
          4000,
          3500,
          8000,
          1493,
          8900,
          1531,
          38000,
          5599,
          7854,
          5041,
          6232,
          10216,
          13000,
          1400,
          12000,
          13228,
          18000,
          9080,
          29131,
          7000,
          2183,
          1800,
          1750
         ],
         "y0": " ",
         "yaxis": "y"
        }
       ],
       "layout": {
        "boxmode": "group",
        "legend": {
         "title": {
          "text": "community_type"
         },
         "tracegroupgap": 0
        },
        "margin": {
         "t": 60
        },
        "template": {
         "data": {
          "bar": [
           {
            "error_x": {
             "color": "#2a3f5f"
            },
            "error_y": {
             "color": "#2a3f5f"
            },
            "marker": {
             "line": {
              "color": "#E5ECF6",
              "width": 0.5
             },
             "pattern": {
              "fillmode": "overlay",
              "size": 10,
              "solidity": 0.2
             }
            },
            "type": "bar"
           }
          ],
          "barpolar": [
           {
            "marker": {
             "line": {
              "color": "#E5ECF6",
              "width": 0.5
             },
             "pattern": {
              "fillmode": "overlay",
              "size": 10,
              "solidity": 0.2
             }
            },
            "type": "barpolar"
           }
          ],
          "carpet": [
           {
            "aaxis": {
             "endlinecolor": "#2a3f5f",
             "gridcolor": "white",
             "linecolor": "white",
             "minorgridcolor": "white",
             "startlinecolor": "#2a3f5f"
            },
            "baxis": {
             "endlinecolor": "#2a3f5f",
             "gridcolor": "white",
             "linecolor": "white",
             "minorgridcolor": "white",
             "startlinecolor": "#2a3f5f"
            },
            "type": "carpet"
           }
          ],
          "choropleth": [
           {
            "colorbar": {
             "outlinewidth": 0,
             "ticks": ""
            },
            "type": "choropleth"
           }
          ],
          "contour": [
           {
            "colorbar": {
             "outlinewidth": 0,
             "ticks": ""
            },
            "colorscale": [
             [
              0,
              "#0d0887"
             ],
             [
              0.1111111111111111,
              "#46039f"
             ],
             [
              0.2222222222222222,
              "#7201a8"
             ],
             [
              0.3333333333333333,
              "#9c179e"
             ],
             [
              0.4444444444444444,
              "#bd3786"
             ],
             [
              0.5555555555555556,
              "#d8576b"
             ],
             [
              0.6666666666666666,
              "#ed7953"
             ],
             [
              0.7777777777777778,
              "#fb9f3a"
             ],
             [
              0.8888888888888888,
              "#fdca26"
             ],
             [
              1,
              "#f0f921"
             ]
            ],
            "type": "contour"
           }
          ],
          "contourcarpet": [
           {
            "colorbar": {
             "outlinewidth": 0,
             "ticks": ""
            },
            "type": "contourcarpet"
           }
          ],
          "heatmap": [
           {
            "colorbar": {
             "outlinewidth": 0,
             "ticks": ""
            },
            "colorscale": [
             [
              0,
              "#0d0887"
             ],
             [
              0.1111111111111111,
              "#46039f"
             ],
             [
              0.2222222222222222,
              "#7201a8"
             ],
             [
              0.3333333333333333,
              "#9c179e"
             ],
             [
              0.4444444444444444,
              "#bd3786"
             ],
             [
              0.5555555555555556,
              "#d8576b"
             ],
             [
              0.6666666666666666,
              "#ed7953"
             ],
             [
              0.7777777777777778,
              "#fb9f3a"
             ],
             [
              0.8888888888888888,
              "#fdca26"
             ],
             [
              1,
              "#f0f921"
             ]
            ],
            "type": "heatmap"
           }
          ],
          "heatmapgl": [
           {
            "colorbar": {
             "outlinewidth": 0,
             "ticks": ""
            },
            "colorscale": [
             [
              0,
              "#0d0887"
             ],
             [
              0.1111111111111111,
              "#46039f"
             ],
             [
              0.2222222222222222,
              "#7201a8"
             ],
             [
              0.3333333333333333,
              "#9c179e"
             ],
             [
              0.4444444444444444,
              "#bd3786"
             ],
             [
              0.5555555555555556,
              "#d8576b"
             ],
             [
              0.6666666666666666,
              "#ed7953"
             ],
             [
              0.7777777777777778,
              "#fb9f3a"
             ],
             [
              0.8888888888888888,
              "#fdca26"
             ],
             [
              1,
              "#f0f921"
             ]
            ],
            "type": "heatmapgl"
           }
          ],
          "histogram": [
           {
            "marker": {
             "pattern": {
              "fillmode": "overlay",
              "size": 10,
              "solidity": 0.2
             }
            },
            "type": "histogram"
           }
          ],
          "histogram2d": [
           {
            "colorbar": {
             "outlinewidth": 0,
             "ticks": ""
            },
            "colorscale": [
             [
              0,
              "#0d0887"
             ],
             [
              0.1111111111111111,
              "#46039f"
             ],
             [
              0.2222222222222222,
              "#7201a8"
             ],
             [
              0.3333333333333333,
              "#9c179e"
             ],
             [
              0.4444444444444444,
              "#bd3786"
             ],
             [
              0.5555555555555556,
              "#d8576b"
             ],
             [
              0.6666666666666666,
              "#ed7953"
             ],
             [
              0.7777777777777778,
              "#fb9f3a"
             ],
             [
              0.8888888888888888,
              "#fdca26"
             ],
             [
              1,
              "#f0f921"
             ]
            ],
            "type": "histogram2d"
           }
          ],
          "histogram2dcontour": [
           {
            "colorbar": {
             "outlinewidth": 0,
             "ticks": ""
            },
            "colorscale": [
             [
              0,
              "#0d0887"
             ],
             [
              0.1111111111111111,
              "#46039f"
             ],
             [
              0.2222222222222222,
              "#7201a8"
             ],
             [
              0.3333333333333333,
              "#9c179e"
             ],
             [
              0.4444444444444444,
              "#bd3786"
             ],
             [
              0.5555555555555556,
              "#d8576b"
             ],
             [
              0.6666666666666666,
              "#ed7953"
             ],
             [
              0.7777777777777778,
              "#fb9f3a"
             ],
             [
              0.8888888888888888,
              "#fdca26"
             ],
             [
              1,
              "#f0f921"
             ]
            ],
            "type": "histogram2dcontour"
           }
          ],
          "mesh3d": [
           {
            "colorbar": {
             "outlinewidth": 0,
             "ticks": ""
            },
            "type": "mesh3d"
           }
          ],
          "parcoords": [
           {
            "line": {
             "colorbar": {
              "outlinewidth": 0,
              "ticks": ""
             }
            },
            "type": "parcoords"
           }
          ],
          "pie": [
           {
            "automargin": true,
            "type": "pie"
           }
          ],
          "scatter": [
           {
            "fillpattern": {
             "fillmode": "overlay",
             "size": 10,
             "solidity": 0.2
            },
            "type": "scatter"
           }
          ],
          "scatter3d": [
           {
            "line": {
             "colorbar": {
              "outlinewidth": 0,
              "ticks": ""
             }
            },
            "marker": {
             "colorbar": {
              "outlinewidth": 0,
              "ticks": ""
             }
            },
            "type": "scatter3d"
           }
          ],
          "scattercarpet": [
           {
            "marker": {
             "colorbar": {
              "outlinewidth": 0,
              "ticks": ""
             }
            },
            "type": "scattercarpet"
           }
          ],
          "scattergeo": [
           {
            "marker": {
             "colorbar": {
              "outlinewidth": 0,
              "ticks": ""
             }
            },
            "type": "scattergeo"
           }
          ],
          "scattergl": [
           {
            "marker": {
             "colorbar": {
              "outlinewidth": 0,
              "ticks": ""
             }
            },
            "type": "scattergl"
           }
          ],
          "scattermapbox": [
           {
            "marker": {
             "colorbar": {
              "outlinewidth": 0,
              "ticks": ""
             }
            },
            "type": "scattermapbox"
           }
          ],
          "scatterpolar": [
           {
            "marker": {
             "colorbar": {
              "outlinewidth": 0,
              "ticks": ""
             }
            },
            "type": "scatterpolar"
           }
          ],
          "scatterpolargl": [
           {
            "marker": {
             "colorbar": {
              "outlinewidth": 0,
              "ticks": ""
             }
            },
            "type": "scatterpolargl"
           }
          ],
          "scatterternary": [
           {
            "marker": {
             "colorbar": {
              "outlinewidth": 0,
              "ticks": ""
             }
            },
            "type": "scatterternary"
           }
          ],
          "surface": [
           {
            "colorbar": {
             "outlinewidth": 0,
             "ticks": ""
            },
            "colorscale": [
             [
              0,
              "#0d0887"
             ],
             [
              0.1111111111111111,
              "#46039f"
             ],
             [
              0.2222222222222222,
              "#7201a8"
             ],
             [
              0.3333333333333333,
              "#9c179e"
             ],
             [
              0.4444444444444444,
              "#bd3786"
             ],
             [
              0.5555555555555556,
              "#d8576b"
             ],
             [
              0.6666666666666666,
              "#ed7953"
             ],
             [
              0.7777777777777778,
              "#fb9f3a"
             ],
             [
              0.8888888888888888,
              "#fdca26"
             ],
             [
              1,
              "#f0f921"
             ]
            ],
            "type": "surface"
           }
          ],
          "table": [
           {
            "cells": {
             "fill": {
              "color": "#EBF0F8"
             },
             "line": {
              "color": "white"
             }
            },
            "header": {
             "fill": {
              "color": "#C8D4E3"
             },
             "line": {
              "color": "white"
             }
            },
            "type": "table"
           }
          ]
         },
         "layout": {
          "annotationdefaults": {
           "arrowcolor": "#2a3f5f",
           "arrowhead": 0,
           "arrowwidth": 1
          },
          "autotypenumbers": "strict",
          "coloraxis": {
           "colorbar": {
            "outlinewidth": 0,
            "ticks": ""
           }
          },
          "colorscale": {
           "diverging": [
            [
             0,
             "#8e0152"
            ],
            [
             0.1,
             "#c51b7d"
            ],
            [
             0.2,
             "#de77ae"
            ],
            [
             0.3,
             "#f1b6da"
            ],
            [
             0.4,
             "#fde0ef"
            ],
            [
             0.5,
             "#f7f7f7"
            ],
            [
             0.6,
             "#e6f5d0"
            ],
            [
             0.7,
             "#b8e186"
            ],
            [
             0.8,
             "#7fbc41"
            ],
            [
             0.9,
             "#4d9221"
            ],
            [
             1,
             "#276419"
            ]
           ],
           "sequential": [
            [
             0,
             "#0d0887"
            ],
            [
             0.1111111111111111,
             "#46039f"
            ],
            [
             0.2222222222222222,
             "#7201a8"
            ],
            [
             0.3333333333333333,
             "#9c179e"
            ],
            [
             0.4444444444444444,
             "#bd3786"
            ],
            [
             0.5555555555555556,
             "#d8576b"
            ],
            [
             0.6666666666666666,
             "#ed7953"
            ],
            [
             0.7777777777777778,
             "#fb9f3a"
            ],
            [
             0.8888888888888888,
             "#fdca26"
            ],
            [
             1,
             "#f0f921"
            ]
           ],
           "sequentialminus": [
            [
             0,
             "#0d0887"
            ],
            [
             0.1111111111111111,
             "#46039f"
            ],
            [
             0.2222222222222222,
             "#7201a8"
            ],
            [
             0.3333333333333333,
             "#9c179e"
            ],
            [
             0.4444444444444444,
             "#bd3786"
            ],
            [
             0.5555555555555556,
             "#d8576b"
            ],
            [
             0.6666666666666666,
             "#ed7953"
            ],
            [
             0.7777777777777778,
             "#fb9f3a"
            ],
            [
             0.8888888888888888,
             "#fdca26"
            ],
            [
             1,
             "#f0f921"
            ]
           ]
          },
          "colorway": [
           "#636efa",
           "#EF553B",
           "#00cc96",
           "#ab63fa",
           "#FFA15A",
           "#19d3f3",
           "#FF6692",
           "#B6E880",
           "#FF97FF",
           "#FECB52"
          ],
          "font": {
           "color": "#2a3f5f"
          },
          "geo": {
           "bgcolor": "white",
           "lakecolor": "white",
           "landcolor": "#E5ECF6",
           "showlakes": true,
           "showland": true,
           "subunitcolor": "white"
          },
          "hoverlabel": {
           "align": "left"
          },
          "hovermode": "closest",
          "mapbox": {
           "style": "light"
          },
          "paper_bgcolor": "white",
          "plot_bgcolor": "#E5ECF6",
          "polar": {
           "angularaxis": {
            "gridcolor": "white",
            "linecolor": "white",
            "ticks": ""
           },
           "bgcolor": "#E5ECF6",
           "radialaxis": {
            "gridcolor": "white",
            "linecolor": "white",
            "ticks": ""
           }
          },
          "scene": {
           "xaxis": {
            "backgroundcolor": "#E5ECF6",
            "gridcolor": "white",
            "gridwidth": 2,
            "linecolor": "white",
            "showbackground": true,
            "ticks": "",
            "zerolinecolor": "white"
           },
           "yaxis": {
            "backgroundcolor": "#E5ECF6",
            "gridcolor": "white",
            "gridwidth": 2,
            "linecolor": "white",
            "showbackground": true,
            "ticks": "",
            "zerolinecolor": "white"
           },
           "zaxis": {
            "backgroundcolor": "#E5ECF6",
            "gridcolor": "white",
            "gridwidth": 2,
            "linecolor": "white",
            "showbackground": true,
            "ticks": "",
            "zerolinecolor": "white"
           }
          },
          "shapedefaults": {
           "line": {
            "color": "#2a3f5f"
           }
          },
          "ternary": {
           "aaxis": {
            "gridcolor": "white",
            "linecolor": "white",
            "ticks": ""
           },
           "baxis": {
            "gridcolor": "white",
            "linecolor": "white",
            "ticks": ""
           },
           "bgcolor": "#E5ECF6",
           "caxis": {
            "gridcolor": "white",
            "linecolor": "white",
            "ticks": ""
           }
          },
          "title": {
           "x": 0.05
          },
          "xaxis": {
           "automargin": true,
           "gridcolor": "white",
           "linecolor": "white",
           "ticks": "",
           "title": {
            "standoff": 15
           },
           "zerolinecolor": "white",
           "zerolinewidth": 2
          },
          "yaxis": {
           "automargin": true,
           "gridcolor": "white",
           "linecolor": "white",
           "ticks": "",
           "title": {
            "standoff": 15
           },
           "zerolinecolor": "white",
           "zerolinewidth": 2
          }
         }
        },
        "xaxis": {
         "anchor": "y",
         "domain": [
          0,
          1
         ],
         "title": {
          "text": "rating"
         }
        },
        "yaxis": {
         "anchor": "x",
         "domain": [
          0,
          1
         ],
         "title": {
          "text": "students"
         }
        }
       }
      }
     },
     "metadata": {},
     "output_type": "display_data"
    }
   ],
   "source": [
    "# A Box of Plotly:\n",
    "fig = px.box(df, x='rating', y='students', color='community_type')\n",
    "fig.show()"
   ]
  },
  {
   "cell_type": "code",
   "execution_count": 65,
   "metadata": {},
   "outputs": [
    {
     "data": {
      "application/vnd.plotly.v1+json": {
       "config": {
        "plotlyServerURL": "https://plot.ly"
       },
       "data": [
        {
         "alignmentgroup": "True",
         "hovertemplate": "community_type=large urban city<br>rating=%{x}<br>students=%{y}<extra></extra>",
         "legendgroup": "large urban city",
         "marker": {
          "color": "#636efa",
          "pattern": {
           "shape": ""
          }
         },
         "name": "large urban city",
         "offsetgroup": "large urban city",
         "orientation": "v",
         "showlegend": true,
         "textposition": "auto",
         "type": "bar",
         "x": [
          5,
          4.5,
          5,
          5,
          5,
          2.5,
          4.5,
          4.5,
          4.5,
          3.5,
          5,
          3,
          4.5,
          5,
          4,
          5,
          4.5,
          4,
          3.5,
          4,
          4.5,
          3.5,
          4.5,
          5,
          4,
          5,
          4.5,
          3,
          5,
          4.5,
          4,
          3,
          1.5,
          2.5,
          5,
          3.5,
          4,
          4.5,
          4,
          4,
          3.5,
          3.5,
          4.5,
          4.5
         ],
         "xaxis": "x",
         "y": [
          37952,
          14769,
          48000,
          3537,
          25000,
          10275,
          15500,
          36000,
          40000,
          10185,
          12835,
          14000,
          16375,
          2094,
          8381,
          32000,
          2000,
          16397,
          29905,
          1699,
          23829,
          14000,
          12373,
          22000,
          15000,
          30539,
          21000,
          1900,
          16517,
          34000,
          3783,
          1035,
          7028,
          2300,
          1750,
          1454,
          16158,
          14585,
          900,
          1100,
          22968,
          7288,
          26251,
          5000
         ],
         "yaxis": "y"
        },
        {
         "alignmentgroup": "True",
         "hovertemplate": "community_type=medium city<br>rating=%{x}<br>students=%{y}<extra></extra>",
         "legendgroup": "medium city",
         "marker": {
          "color": "#EF553B",
          "pattern": {
           "shape": ""
          }
         },
         "name": "medium city",
         "offsetgroup": "medium city",
         "orientation": "v",
         "showlegend": true,
         "textposition": "auto",
         "type": "bar",
         "x": [
          3,
          3.5,
          4.5,
          4.5,
          5,
          4.5,
          4.5,
          3,
          4,
          4.5,
          5,
          4.5,
          4,
          4,
          4.5,
          4.5,
          4,
          5,
          5,
          3.5,
          5,
          3.5,
          5,
          5,
          3,
          5,
          5,
          4,
          5,
          3.5,
          4.5,
          4,
          4.5,
          2.5,
          4,
          5,
          4.5,
          2.5,
          3.5,
          3.5,
          3,
          4,
          5,
          3.5,
          3,
          5,
          3.5,
          3,
          4,
          4,
          3,
          5,
          2.5,
          4
         ],
         "xaxis": "x",
         "y": [
          9000,
          29850,
          31500,
          36846,
          2159,
          16765,
          3890,
          11171,
          14422,
          43193,
          14000,
          11000,
          1458,
          26000,
          2300,
          12017,
          16251,
          9533,
          10182,
          29000,
          30000,
          14500,
          18000,
          16000,
          1950,
          1200,
          9780,
          18897,
          27642,
          4297,
          6500,
          16000,
          7450,
          260,
          2200,
          46000,
          4039,
          5776,
          6500,
          23717,
          4000,
          25829,
          11114,
          7000,
          6738,
          25069,
          3400,
          3094,
          23000,
          2890,
          1132,
          47000,
          6712,
          14500
         ],
         "yaxis": "y"
        },
        {
         "alignmentgroup": "True",
         "hovertemplate": "community_type=very small town<br>rating=%{x}<br>students=%{y}<extra></extra>",
         "legendgroup": "very small town",
         "marker": {
          "color": "#00cc96",
          "pattern": {
           "shape": ""
          }
         },
         "name": "very small town",
         "offsetgroup": "very small town",
         "orientation": "v",
         "showlegend": true,
         "textposition": "auto",
         "type": "bar",
         "x": [
          4,
          4.5,
          4,
          3.5,
          4.5,
          4.5,
          3,
          3,
          2,
          3,
          2.5,
          4
         ],
         "xaxis": "x",
         "y": [
          13000,
          2400,
          1900,
          1420,
          400,
          1800,
          1600,
          2300,
          3100,
          3040,
          987,
          8000
         ],
         "yaxis": "y"
        },
        {
         "alignmentgroup": "True",
         "hovertemplate": "community_type=rural community<br>rating=%{x}<br>students=%{y}<extra></extra>",
         "legendgroup": "rural community",
         "marker": {
          "color": "#ab63fa",
          "pattern": {
           "shape": ""
          }
         },
         "name": "rural community",
         "offsetgroup": "rural community",
         "orientation": "v",
         "showlegend": true,
         "textposition": "auto",
         "type": "bar",
         "x": [
          4,
          3.5,
          3.5,
          4.5,
          4.5,
          4,
          4.5,
          4.5,
          3,
          4,
          3.5,
          2,
          2.5,
          3,
          2.5
         ],
         "xaxis": "x",
         "y": [
          8500,
          7238,
          1500,
          800,
          3228,
          1730,
          2396,
          125,
          1000,
          1651,
          3014,
          1200,
          1193,
          650,
          6425
         ],
         "yaxis": "y"
        },
        {
         "alignmentgroup": "True",
         "hovertemplate": "community_type=small town<br>rating=%{x}<br>students=%{y}<extra></extra>",
         "legendgroup": "small town",
         "marker": {
          "color": "#FFA15A",
          "pattern": {
           "shape": ""
          }
         },
         "name": "small town",
         "offsetgroup": "small town",
         "orientation": "v",
         "showlegend": true,
         "textposition": "auto",
         "type": "bar",
         "x": [
          5,
          4,
          5,
          5,
          4,
          4,
          4.5,
          4,
          5,
          4.5,
          3,
          3.5,
          3,
          4,
          4,
          3,
          5,
          3,
          4.5,
          4,
          4.5,
          2,
          3,
          4,
          3.5,
          4,
          4.5,
          3.5,
          4.5,
          3,
          4.5,
          4.5,
          4.5,
          3,
          3.5,
          3,
          3.5
         ],
         "xaxis": "x",
         "y": [
          19446,
          1850,
          6500,
          28500,
          3400,
          5514,
          8500,
          4000,
          46184,
          20436,
          1450,
          2299,
          6800,
          3500,
          12000,
          7500,
          7859,
          2100,
          22000,
          3443,
          13000,
          3287,
          1724,
          17552,
          21000,
          3000,
          24000,
          4816,
          1700,
          10000,
          1800,
          2100,
          2400,
          3394,
          10222,
          9000,
          1100
         ],
         "yaxis": "y"
        },
        {
         "alignmentgroup": "True",
         "hovertemplate": "community_type=small city<br>rating=%{x}<br>students=%{y}<extra></extra>",
         "legendgroup": "small city",
         "marker": {
          "color": "#19d3f3",
          "pattern": {
           "shape": ""
          }
         },
         "name": "small city",
         "offsetgroup": "small city",
         "orientation": "v",
         "showlegend": true,
         "textposition": "auto",
         "type": "bar",
         "x": [
          4.5,
          2.5,
          5,
          5,
          4,
          5,
          4.5,
          5,
          4.5,
          5,
          4.5,
          4,
          5,
          5,
          4,
          5,
          4,
          5,
          5,
          4,
          4.5,
          5,
          4.5,
          4,
          3.5,
          4,
          4,
          5,
          4,
          3.5,
          5,
          4,
          4.5,
          4,
          4,
          4.5,
          5,
          5,
          4,
          4,
          3.5,
          4.5,
          5,
          4,
          4,
          4,
          3.5,
          3,
          3.5,
          3.5,
          2,
          3,
          2.5,
          4,
          4.5,
          4.5,
          3,
          4.5,
          3,
          3.5,
          3,
          1.5,
          4,
          5,
          4,
          2.5,
          3,
          2,
          4.5,
          4.5,
          4.5,
          4.5,
          3,
          3,
          3.5,
          3
         ],
         "xaxis": "x",
         "y": [
          29000,
          8600,
          16234,
          6000,
          21215,
          30000,
          10000,
          11926,
          34000,
          20000,
          4100,
          1300,
          17170,
          2150,
          16902,
          21000,
          6500,
          6950,
          39150,
          31000,
          10500,
          11000,
          38000,
          50000,
          2100,
          5000,
          6100,
          49695,
          1500,
          2500,
          11000,
          20000,
          14000,
          28000,
          14172,
          28000,
          28000,
          49000,
          6300,
          2000,
          450,
          1200,
          14000,
          370,
          22000,
          6825,
          7500,
          11610,
          3500,
          1500,
          5000,
          1000,
          10000,
          4000,
          3500,
          8000,
          1493,
          8900,
          1531,
          38000,
          5599,
          7854,
          5041,
          6232,
          10216,
          13000,
          1400,
          12000,
          13228,
          18000,
          9080,
          29131,
          7000,
          2183,
          1800,
          1750
         ],
         "yaxis": "y"
        }
       ],
       "layout": {
        "barmode": "relative",
        "legend": {
         "title": {
          "text": "community_type"
         },
         "tracegroupgap": 0
        },
        "margin": {
         "t": 60
        },
        "template": {
         "data": {
          "bar": [
           {
            "error_x": {
             "color": "#2a3f5f"
            },
            "error_y": {
             "color": "#2a3f5f"
            },
            "marker": {
             "line": {
              "color": "#E5ECF6",
              "width": 0.5
             },
             "pattern": {
              "fillmode": "overlay",
              "size": 10,
              "solidity": 0.2
             }
            },
            "type": "bar"
           }
          ],
          "barpolar": [
           {
            "marker": {
             "line": {
              "color": "#E5ECF6",
              "width": 0.5
             },
             "pattern": {
              "fillmode": "overlay",
              "size": 10,
              "solidity": 0.2
             }
            },
            "type": "barpolar"
           }
          ],
          "carpet": [
           {
            "aaxis": {
             "endlinecolor": "#2a3f5f",
             "gridcolor": "white",
             "linecolor": "white",
             "minorgridcolor": "white",
             "startlinecolor": "#2a3f5f"
            },
            "baxis": {
             "endlinecolor": "#2a3f5f",
             "gridcolor": "white",
             "linecolor": "white",
             "minorgridcolor": "white",
             "startlinecolor": "#2a3f5f"
            },
            "type": "carpet"
           }
          ],
          "choropleth": [
           {
            "colorbar": {
             "outlinewidth": 0,
             "ticks": ""
            },
            "type": "choropleth"
           }
          ],
          "contour": [
           {
            "colorbar": {
             "outlinewidth": 0,
             "ticks": ""
            },
            "colorscale": [
             [
              0,
              "#0d0887"
             ],
             [
              0.1111111111111111,
              "#46039f"
             ],
             [
              0.2222222222222222,
              "#7201a8"
             ],
             [
              0.3333333333333333,
              "#9c179e"
             ],
             [
              0.4444444444444444,
              "#bd3786"
             ],
             [
              0.5555555555555556,
              "#d8576b"
             ],
             [
              0.6666666666666666,
              "#ed7953"
             ],
             [
              0.7777777777777778,
              "#fb9f3a"
             ],
             [
              0.8888888888888888,
              "#fdca26"
             ],
             [
              1,
              "#f0f921"
             ]
            ],
            "type": "contour"
           }
          ],
          "contourcarpet": [
           {
            "colorbar": {
             "outlinewidth": 0,
             "ticks": ""
            },
            "type": "contourcarpet"
           }
          ],
          "heatmap": [
           {
            "colorbar": {
             "outlinewidth": 0,
             "ticks": ""
            },
            "colorscale": [
             [
              0,
              "#0d0887"
             ],
             [
              0.1111111111111111,
              "#46039f"
             ],
             [
              0.2222222222222222,
              "#7201a8"
             ],
             [
              0.3333333333333333,
              "#9c179e"
             ],
             [
              0.4444444444444444,
              "#bd3786"
             ],
             [
              0.5555555555555556,
              "#d8576b"
             ],
             [
              0.6666666666666666,
              "#ed7953"
             ],
             [
              0.7777777777777778,
              "#fb9f3a"
             ],
             [
              0.8888888888888888,
              "#fdca26"
             ],
             [
              1,
              "#f0f921"
             ]
            ],
            "type": "heatmap"
           }
          ],
          "heatmapgl": [
           {
            "colorbar": {
             "outlinewidth": 0,
             "ticks": ""
            },
            "colorscale": [
             [
              0,
              "#0d0887"
             ],
             [
              0.1111111111111111,
              "#46039f"
             ],
             [
              0.2222222222222222,
              "#7201a8"
             ],
             [
              0.3333333333333333,
              "#9c179e"
             ],
             [
              0.4444444444444444,
              "#bd3786"
             ],
             [
              0.5555555555555556,
              "#d8576b"
             ],
             [
              0.6666666666666666,
              "#ed7953"
             ],
             [
              0.7777777777777778,
              "#fb9f3a"
             ],
             [
              0.8888888888888888,
              "#fdca26"
             ],
             [
              1,
              "#f0f921"
             ]
            ],
            "type": "heatmapgl"
           }
          ],
          "histogram": [
           {
            "marker": {
             "pattern": {
              "fillmode": "overlay",
              "size": 10,
              "solidity": 0.2
             }
            },
            "type": "histogram"
           }
          ],
          "histogram2d": [
           {
            "colorbar": {
             "outlinewidth": 0,
             "ticks": ""
            },
            "colorscale": [
             [
              0,
              "#0d0887"
             ],
             [
              0.1111111111111111,
              "#46039f"
             ],
             [
              0.2222222222222222,
              "#7201a8"
             ],
             [
              0.3333333333333333,
              "#9c179e"
             ],
             [
              0.4444444444444444,
              "#bd3786"
             ],
             [
              0.5555555555555556,
              "#d8576b"
             ],
             [
              0.6666666666666666,
              "#ed7953"
             ],
             [
              0.7777777777777778,
              "#fb9f3a"
             ],
             [
              0.8888888888888888,
              "#fdca26"
             ],
             [
              1,
              "#f0f921"
             ]
            ],
            "type": "histogram2d"
           }
          ],
          "histogram2dcontour": [
           {
            "colorbar": {
             "outlinewidth": 0,
             "ticks": ""
            },
            "colorscale": [
             [
              0,
              "#0d0887"
             ],
             [
              0.1111111111111111,
              "#46039f"
             ],
             [
              0.2222222222222222,
              "#7201a8"
             ],
             [
              0.3333333333333333,
              "#9c179e"
             ],
             [
              0.4444444444444444,
              "#bd3786"
             ],
             [
              0.5555555555555556,
              "#d8576b"
             ],
             [
              0.6666666666666666,
              "#ed7953"
             ],
             [
              0.7777777777777778,
              "#fb9f3a"
             ],
             [
              0.8888888888888888,
              "#fdca26"
             ],
             [
              1,
              "#f0f921"
             ]
            ],
            "type": "histogram2dcontour"
           }
          ],
          "mesh3d": [
           {
            "colorbar": {
             "outlinewidth": 0,
             "ticks": ""
            },
            "type": "mesh3d"
           }
          ],
          "parcoords": [
           {
            "line": {
             "colorbar": {
              "outlinewidth": 0,
              "ticks": ""
             }
            },
            "type": "parcoords"
           }
          ],
          "pie": [
           {
            "automargin": true,
            "type": "pie"
           }
          ],
          "scatter": [
           {
            "fillpattern": {
             "fillmode": "overlay",
             "size": 10,
             "solidity": 0.2
            },
            "type": "scatter"
           }
          ],
          "scatter3d": [
           {
            "line": {
             "colorbar": {
              "outlinewidth": 0,
              "ticks": ""
             }
            },
            "marker": {
             "colorbar": {
              "outlinewidth": 0,
              "ticks": ""
             }
            },
            "type": "scatter3d"
           }
          ],
          "scattercarpet": [
           {
            "marker": {
             "colorbar": {
              "outlinewidth": 0,
              "ticks": ""
             }
            },
            "type": "scattercarpet"
           }
          ],
          "scattergeo": [
           {
            "marker": {
             "colorbar": {
              "outlinewidth": 0,
              "ticks": ""
             }
            },
            "type": "scattergeo"
           }
          ],
          "scattergl": [
           {
            "marker": {
             "colorbar": {
              "outlinewidth": 0,
              "ticks": ""
             }
            },
            "type": "scattergl"
           }
          ],
          "scattermapbox": [
           {
            "marker": {
             "colorbar": {
              "outlinewidth": 0,
              "ticks": ""
             }
            },
            "type": "scattermapbox"
           }
          ],
          "scatterpolar": [
           {
            "marker": {
             "colorbar": {
              "outlinewidth": 0,
              "ticks": ""
             }
            },
            "type": "scatterpolar"
           }
          ],
          "scatterpolargl": [
           {
            "marker": {
             "colorbar": {
              "outlinewidth": 0,
              "ticks": ""
             }
            },
            "type": "scatterpolargl"
           }
          ],
          "scatterternary": [
           {
            "marker": {
             "colorbar": {
              "outlinewidth": 0,
              "ticks": ""
             }
            },
            "type": "scatterternary"
           }
          ],
          "surface": [
           {
            "colorbar": {
             "outlinewidth": 0,
             "ticks": ""
            },
            "colorscale": [
             [
              0,
              "#0d0887"
             ],
             [
              0.1111111111111111,
              "#46039f"
             ],
             [
              0.2222222222222222,
              "#7201a8"
             ],
             [
              0.3333333333333333,
              "#9c179e"
             ],
             [
              0.4444444444444444,
              "#bd3786"
             ],
             [
              0.5555555555555556,
              "#d8576b"
             ],
             [
              0.6666666666666666,
              "#ed7953"
             ],
             [
              0.7777777777777778,
              "#fb9f3a"
             ],
             [
              0.8888888888888888,
              "#fdca26"
             ],
             [
              1,
              "#f0f921"
             ]
            ],
            "type": "surface"
           }
          ],
          "table": [
           {
            "cells": {
             "fill": {
              "color": "#EBF0F8"
             },
             "line": {
              "color": "white"
             }
            },
            "header": {
             "fill": {
              "color": "#C8D4E3"
             },
             "line": {
              "color": "white"
             }
            },
            "type": "table"
           }
          ]
         },
         "layout": {
          "annotationdefaults": {
           "arrowcolor": "#2a3f5f",
           "arrowhead": 0,
           "arrowwidth": 1
          },
          "autotypenumbers": "strict",
          "coloraxis": {
           "colorbar": {
            "outlinewidth": 0,
            "ticks": ""
           }
          },
          "colorscale": {
           "diverging": [
            [
             0,
             "#8e0152"
            ],
            [
             0.1,
             "#c51b7d"
            ],
            [
             0.2,
             "#de77ae"
            ],
            [
             0.3,
             "#f1b6da"
            ],
            [
             0.4,
             "#fde0ef"
            ],
            [
             0.5,
             "#f7f7f7"
            ],
            [
             0.6,
             "#e6f5d0"
            ],
            [
             0.7,
             "#b8e186"
            ],
            [
             0.8,
             "#7fbc41"
            ],
            [
             0.9,
             "#4d9221"
            ],
            [
             1,
             "#276419"
            ]
           ],
           "sequential": [
            [
             0,
             "#0d0887"
            ],
            [
             0.1111111111111111,
             "#46039f"
            ],
            [
             0.2222222222222222,
             "#7201a8"
            ],
            [
             0.3333333333333333,
             "#9c179e"
            ],
            [
             0.4444444444444444,
             "#bd3786"
            ],
            [
             0.5555555555555556,
             "#d8576b"
            ],
            [
             0.6666666666666666,
             "#ed7953"
            ],
            [
             0.7777777777777778,
             "#fb9f3a"
            ],
            [
             0.8888888888888888,
             "#fdca26"
            ],
            [
             1,
             "#f0f921"
            ]
           ],
           "sequentialminus": [
            [
             0,
             "#0d0887"
            ],
            [
             0.1111111111111111,
             "#46039f"
            ],
            [
             0.2222222222222222,
             "#7201a8"
            ],
            [
             0.3333333333333333,
             "#9c179e"
            ],
            [
             0.4444444444444444,
             "#bd3786"
            ],
            [
             0.5555555555555556,
             "#d8576b"
            ],
            [
             0.6666666666666666,
             "#ed7953"
            ],
            [
             0.7777777777777778,
             "#fb9f3a"
            ],
            [
             0.8888888888888888,
             "#fdca26"
            ],
            [
             1,
             "#f0f921"
            ]
           ]
          },
          "colorway": [
           "#636efa",
           "#EF553B",
           "#00cc96",
           "#ab63fa",
           "#FFA15A",
           "#19d3f3",
           "#FF6692",
           "#B6E880",
           "#FF97FF",
           "#FECB52"
          ],
          "font": {
           "color": "#2a3f5f"
          },
          "geo": {
           "bgcolor": "white",
           "lakecolor": "white",
           "landcolor": "#E5ECF6",
           "showlakes": true,
           "showland": true,
           "subunitcolor": "white"
          },
          "hoverlabel": {
           "align": "left"
          },
          "hovermode": "closest",
          "mapbox": {
           "style": "light"
          },
          "paper_bgcolor": "white",
          "plot_bgcolor": "#E5ECF6",
          "polar": {
           "angularaxis": {
            "gridcolor": "white",
            "linecolor": "white",
            "ticks": ""
           },
           "bgcolor": "#E5ECF6",
           "radialaxis": {
            "gridcolor": "white",
            "linecolor": "white",
            "ticks": ""
           }
          },
          "scene": {
           "xaxis": {
            "backgroundcolor": "#E5ECF6",
            "gridcolor": "white",
            "gridwidth": 2,
            "linecolor": "white",
            "showbackground": true,
            "ticks": "",
            "zerolinecolor": "white"
           },
           "yaxis": {
            "backgroundcolor": "#E5ECF6",
            "gridcolor": "white",
            "gridwidth": 2,
            "linecolor": "white",
            "showbackground": true,
            "ticks": "",
            "zerolinecolor": "white"
           },
           "zaxis": {
            "backgroundcolor": "#E5ECF6",
            "gridcolor": "white",
            "gridwidth": 2,
            "linecolor": "white",
            "showbackground": true,
            "ticks": "",
            "zerolinecolor": "white"
           }
          },
          "shapedefaults": {
           "line": {
            "color": "#2a3f5f"
           }
          },
          "ternary": {
           "aaxis": {
            "gridcolor": "white",
            "linecolor": "white",
            "ticks": ""
           },
           "baxis": {
            "gridcolor": "white",
            "linecolor": "white",
            "ticks": ""
           },
           "bgcolor": "#E5ECF6",
           "caxis": {
            "gridcolor": "white",
            "linecolor": "white",
            "ticks": ""
           }
          },
          "title": {
           "x": 0.05
          },
          "xaxis": {
           "automargin": true,
           "gridcolor": "white",
           "linecolor": "white",
           "ticks": "",
           "title": {
            "standoff": 15
           },
           "zerolinecolor": "white",
           "zerolinewidth": 2
          },
          "yaxis": {
           "automargin": true,
           "gridcolor": "white",
           "linecolor": "white",
           "ticks": "",
           "title": {
            "standoff": 15
           },
           "zerolinecolor": "white",
           "zerolinewidth": 2
          }
         }
        },
        "xaxis": {
         "anchor": "y",
         "domain": [
          0,
          1
         ],
         "title": {
          "text": "rating"
         }
        },
        "yaxis": {
         "anchor": "x",
         "domain": [
          0,
          1
         ],
         "title": {
          "text": "students"
         }
        }
       }
      }
     },
     "metadata": {},
     "output_type": "display_data"
    }
   ],
   "source": [
    "# A kind of Bar Plot:\n",
    "fig = px.bar(df, x='rating', y='students', color='community_type')\n",
    "fig.show()"
   ]
  },
  {
   "cell_type": "code",
   "execution_count": 67,
   "metadata": {},
   "outputs": [
    {
     "data": {
      "application/vnd.plotly.v1+json": {
       "config": {
        "plotlyServerURL": "https://plot.ly"
       },
       "data": [
        {
         "customdata": [
          [
           "large urban city"
          ],
          [
           "medium city"
          ],
          [
           "very small town"
          ],
          [
           "medium city"
          ],
          [
           "rural community"
          ],
          [
           "large urban city"
          ],
          [
           "small town"
          ],
          [
           "small town"
          ],
          [
           "medium city"
          ],
          [
           "small city"
          ],
          [
           "medium city"
          ],
          [
           "small city"
          ],
          [
           "large urban city"
          ],
          [
           "very small town"
          ],
          [
           "small city"
          ],
          [
           "medium city"
          ],
          [
           "large urban city"
          ],
          [
           "small city"
          ],
          [
           "large urban city"
          ],
          [
           "small city"
          ],
          [
           "small city"
          ],
          [
           "large urban city"
          ],
          [
           "small town"
          ],
          [
           "small city"
          ],
          [
           "medium city"
          ],
          [
           "medium city"
          ],
          [
           "small city"
          ],
          [
           "large urban city"
          ],
          [
           "medium city"
          ],
          [
           "small town"
          ],
          [
           "small city"
          ],
          [
           "small town"
          ],
          [
           "small city"
          ],
          [
           "small city"
          ],
          [
           "small city"
          ],
          [
           "small city"
          ],
          [
           "small city"
          ],
          [
           "small city"
          ],
          [
           "medium city"
          ],
          [
           "large urban city"
          ],
          [
           "small town"
          ],
          [
           "small city"
          ],
          [
           "small city"
          ],
          [
           "medium city"
          ],
          [
           "small city"
          ],
          [
           "small city"
          ],
          [
           "large urban city"
          ],
          [
           "small town"
          ],
          [
           "large urban city"
          ],
          [
           "small city"
          ],
          [
           "medium city"
          ],
          [
           "small city"
          ],
          [
           "small city"
          ],
          [
           "medium city"
          ],
          [
           "very small town"
          ],
          [
           "medium city"
          ],
          [
           "large urban city"
          ],
          [
           "large urban city"
          ],
          [
           "small city"
          ],
          [
           "small city"
          ],
          [
           "small city"
          ],
          [
           "small city"
          ],
          [
           "medium city"
          ],
          [
           "large urban city"
          ],
          [
           "medium city"
          ],
          [
           "small town"
          ],
          [
           "medium city"
          ],
          [
           "small town"
          ],
          [
           "small city"
          ],
          [
           "small city"
          ],
          [
           "small city"
          ],
          [
           "large urban city"
          ],
          [
           "large urban city"
          ],
          [
           "large urban city"
          ],
          [
           "small town"
          ],
          [
           "small city"
          ],
          [
           "small town"
          ],
          [
           "small city"
          ],
          [
           "large urban city"
          ],
          [
           "medium city"
          ],
          [
           "medium city"
          ],
          [
           "medium city"
          ],
          [
           "medium city"
          ],
          [
           "very small town"
          ],
          [
           "small city"
          ],
          [
           "large urban city"
          ],
          [
           "medium city"
          ],
          [
           "small city"
          ],
          [
           "small city"
          ],
          [
           "medium city"
          ],
          [
           "medium city"
          ],
          [
           "rural community"
          ],
          [
           "small town"
          ],
          [
           "medium city"
          ],
          [
           "medium city"
          ],
          [
           "medium city"
          ],
          [
           "small city"
          ],
          [
           "medium city"
          ],
          [
           "small town"
          ],
          [
           "rural community"
          ],
          [
           "small city"
          ],
          [
           "small town"
          ],
          [
           "medium city"
          ],
          [
           "rural community"
          ],
          [
           "small town"
          ],
          [
           "large urban city"
          ],
          [
           "large urban city"
          ],
          [
           "medium city"
          ],
          [
           "medium city"
          ],
          [
           "rural community"
          ],
          [
           "very small town"
          ],
          [
           "small city"
          ],
          [
           "small city"
          ],
          [
           "rural community"
          ],
          [
           "small city"
          ],
          [
           "small city"
          ],
          [
           "large urban city"
          ],
          [
           "very small town"
          ],
          [
           "small city"
          ],
          [
           "large urban city"
          ],
          [
           "large urban city"
          ],
          [
           "small city"
          ],
          [
           "small city"
          ],
          [
           "large urban city"
          ],
          [
           "large urban city"
          ],
          [
           "small town"
          ],
          [
           "small town"
          ],
          [
           "rural community"
          ],
          [
           "large urban city"
          ],
          [
           "large urban city"
          ],
          [
           "small city"
          ],
          [
           "medium city"
          ],
          [
           "medium city"
          ],
          [
           "small town"
          ],
          [
           "small town"
          ],
          [
           "medium city"
          ],
          [
           "small city"
          ],
          [
           "large urban city"
          ],
          [
           "small city"
          ],
          [
           "large urban city"
          ],
          [
           "large urban city"
          ],
          [
           "rural community"
          ],
          [
           "small city"
          ],
          [
           "rural community"
          ],
          [
           "small city"
          ],
          [
           "small city"
          ],
          [
           "small town"
          ],
          [
           "small city"
          ],
          [
           "rural community"
          ],
          [
           "small town"
          ],
          [
           "small city"
          ],
          [
           "small town"
          ],
          [
           "large urban city"
          ],
          [
           "large urban city"
          ],
          [
           "small city"
          ],
          [
           "large urban city"
          ],
          [
           "medium city"
          ],
          [
           "small city"
          ],
          [
           "small city"
          ],
          [
           "small town"
          ],
          [
           "large urban city"
          ],
          [
           "medium city"
          ],
          [
           "large urban city"
          ],
          [
           "small city"
          ],
          [
           "very small town"
          ],
          [
           "medium city"
          ],
          [
           "medium city"
          ],
          [
           "rural community"
          ],
          [
           "small town"
          ],
          [
           "small city"
          ],
          [
           "large urban city"
          ],
          [
           "small city"
          ],
          [
           "small city"
          ],
          [
           "small town"
          ],
          [
           "very small town"
          ],
          [
           "small city"
          ],
          [
           "small city"
          ],
          [
           "small city"
          ],
          [
           "large urban city"
          ],
          [
           "rural community"
          ],
          [
           "small town"
          ],
          [
           "medium city"
          ],
          [
           "rural community"
          ],
          [
           "medium city"
          ],
          [
           "medium city"
          ],
          [
           "small city"
          ],
          [
           "medium city"
          ],
          [
           "large urban city"
          ],
          [
           "small town"
          ],
          [
           "small town"
          ],
          [
           "small town"
          ],
          [
           "medium city"
          ],
          [
           "small town"
          ],
          [
           "large urban city"
          ],
          [
           "small town"
          ],
          [
           "small city"
          ],
          [
           "small town"
          ],
          [
           "very small town"
          ],
          [
           "rural community"
          ],
          [
           "large urban city"
          ],
          [
           "small town"
          ],
          [
           "medium city"
          ],
          [
           "large urban city"
          ],
          [
           "small city"
          ],
          [
           "medium city"
          ],
          [
           "large urban city"
          ],
          [
           "large urban city"
          ],
          [
           "very small town"
          ],
          [
           "large urban city"
          ],
          [
           "small city"
          ],
          [
           "small city"
          ],
          [
           "medium city"
          ],
          [
           "small city"
          ],
          [
           "very small town"
          ],
          [
           "small city"
          ],
          [
           "rural community"
          ],
          [
           "small city"
          ],
          [
           "medium city"
          ],
          [
           "small city"
          ],
          [
           "small city"
          ],
          [
           "very small town"
          ],
          [
           "small city"
          ],
          [
           "medium city"
          ],
          [
           "medium city"
          ],
          [
           "small city"
          ],
          [
           "small town"
          ],
          [
           "small city"
          ],
          [
           "small town"
          ],
          [
           "medium city"
          ],
          [
           "small city"
          ],
          [
           "small town"
          ],
          [
           "medium city"
          ],
          [
           "medium city"
          ],
          [
           "medium city"
          ],
          [
           "medium city"
          ],
          [
           "small city"
          ],
          [
           "medium city"
          ],
          [
           "small town"
          ]
         ],
         "domain": {
          "x": [
           0,
           1
          ],
          "y": [
           0,
           1
          ]
         },
         "hovertemplate": "rating=%{label}<br>students=%{value}<br>community_type=%{customdata[0]}<extra></extra>",
         "labels": [
          5,
          3,
          4,
          3.5,
          4,
          4.5,
          5,
          4,
          4.5,
          4.5,
          4.5,
          2.5,
          5,
          4.5,
          5,
          5,
          5,
          5,
          5,
          4,
          5,
          2.5,
          5,
          4.5,
          4.5,
          4.5,
          5,
          4.5,
          3,
          5,
          4.5,
          4,
          5,
          4.5,
          4,
          5,
          5,
          4,
          4,
          4.5,
          4,
          5,
          4,
          4.5,
          5,
          5,
          4.5,
          4.5,
          3.5,
          4,
          5,
          4.5,
          5,
          4.5,
          4,
          4,
          5,
          3,
          4.5,
          4,
          3.5,
          4,
          4,
          4.5,
          4.5,
          4,
          4.5,
          5,
          4,
          5,
          4,
          5,
          4,
          5,
          4.5,
          3.5,
          3,
          5,
          4.5,
          4,
          5,
          5,
          3.5,
          3.5,
          4,
          4,
          5,
          4.5,
          4,
          3.5,
          5,
          3.5,
          3.5,
          5,
          3,
          5,
          4,
          5,
          3,
          3.5,
          4.5,
          4,
          4,
          4.5,
          4,
          3.5,
          4,
          5,
          3.5,
          4.5,
          4.5,
          5,
          5,
          4,
          4,
          4,
          4.5,
          4.5,
          3.5,
          3.5,
          4.5,
          4.5,
          5,
          5,
          4,
          3,
          5,
          4.5,
          5,
          4.5,
          4,
          4.5,
          4,
          3,
          4.5,
          4.5,
          4,
          3,
          4,
          5,
          4.5,
          4.5,
          3.5,
          3,
          3,
          3.5,
          4,
          3.5,
          4,
          4.5,
          2,
          2,
          4,
          3,
          3,
          1.5,
          2.5,
          2.5,
          4,
          3,
          2.5,
          4,
          5,
          4.5,
          3,
          5,
          4.5,
          3.5,
          4,
          4.5,
          3.5,
          3,
          4.5,
          3.5,
          3,
          3,
          3.5,
          3,
          4,
          2,
          4,
          2.5,
          2.5,
          3.5,
          3.5,
          1.5,
          3,
          4.5,
          4.5,
          3.5,
          4.5,
          4,
          3,
          4,
          4.5,
          4,
          4.5,
          2,
          3,
          4,
          4.5,
          5,
          3.5,
          5,
          3.5,
          3.5,
          4.5,
          3,
          4.5,
          4,
          2.5,
          3,
          3,
          2.5,
          2,
          2.5,
          4.5,
          5,
          4.5,
          4.5,
          4,
          4.5,
          3.5,
          3,
          3,
          3,
          3,
          3.5,
          4,
          3.5,
          3,
          4,
          3,
          5,
          2.5,
          3,
          4,
          3.5
         ],
         "legendgroup": "",
         "marker": {
          "colors": [
           "#636efa",
           "#EF553B",
           "#00cc96",
           "#EF553B",
           "#ab63fa",
           "#636efa",
           "#FFA15A",
           "#FFA15A",
           "#EF553B",
           "#19d3f3",
           "#EF553B",
           "#19d3f3",
           "#636efa",
           "#00cc96",
           "#19d3f3",
           "#EF553B",
           "#636efa",
           "#19d3f3",
           "#636efa",
           "#19d3f3",
           "#19d3f3",
           "#636efa",
           "#FFA15A",
           "#19d3f3",
           "#EF553B",
           "#EF553B",
           "#19d3f3",
           "#636efa",
           "#EF553B",
           "#FFA15A",
           "#19d3f3",
           "#FFA15A",
           "#19d3f3",
           "#19d3f3",
           "#19d3f3",
           "#19d3f3",
           "#19d3f3",
           "#19d3f3",
           "#EF553B",
           "#636efa",
           "#FFA15A",
           "#19d3f3",
           "#19d3f3",
           "#EF553B",
           "#19d3f3",
           "#19d3f3",
           "#636efa",
           "#FFA15A",
           "#636efa",
           "#19d3f3",
           "#EF553B",
           "#19d3f3",
           "#19d3f3",
           "#EF553B",
           "#00cc96",
           "#EF553B",
           "#636efa",
           "#636efa",
           "#19d3f3",
           "#19d3f3",
           "#19d3f3",
           "#19d3f3",
           "#EF553B",
           "#636efa",
           "#EF553B",
           "#FFA15A",
           "#EF553B",
           "#FFA15A",
           "#19d3f3",
           "#19d3f3",
           "#19d3f3",
           "#636efa",
           "#636efa",
           "#636efa",
           "#FFA15A",
           "#19d3f3",
           "#FFA15A",
           "#19d3f3",
           "#636efa",
           "#EF553B",
           "#EF553B",
           "#EF553B",
           "#EF553B",
           "#00cc96",
           "#19d3f3",
           "#636efa",
           "#EF553B",
           "#19d3f3",
           "#19d3f3",
           "#EF553B",
           "#EF553B",
           "#ab63fa",
           "#FFA15A",
           "#EF553B",
           "#EF553B",
           "#EF553B",
           "#19d3f3",
           "#EF553B",
           "#FFA15A",
           "#ab63fa",
           "#19d3f3",
           "#FFA15A",
           "#EF553B",
           "#ab63fa",
           "#FFA15A",
           "#636efa",
           "#636efa",
           "#EF553B",
           "#EF553B",
           "#ab63fa",
           "#00cc96",
           "#19d3f3",
           "#19d3f3",
           "#ab63fa",
           "#19d3f3",
           "#19d3f3",
           "#636efa",
           "#00cc96",
           "#19d3f3",
           "#636efa",
           "#636efa",
           "#19d3f3",
           "#19d3f3",
           "#636efa",
           "#636efa",
           "#FFA15A",
           "#FFA15A",
           "#ab63fa",
           "#636efa",
           "#636efa",
           "#19d3f3",
           "#EF553B",
           "#EF553B",
           "#FFA15A",
           "#FFA15A",
           "#EF553B",
           "#19d3f3",
           "#636efa",
           "#19d3f3",
           "#636efa",
           "#636efa",
           "#ab63fa",
           "#19d3f3",
           "#ab63fa",
           "#19d3f3",
           "#19d3f3",
           "#FFA15A",
           "#19d3f3",
           "#ab63fa",
           "#FFA15A",
           "#19d3f3",
           "#FFA15A",
           "#636efa",
           "#636efa",
           "#19d3f3",
           "#636efa",
           "#EF553B",
           "#19d3f3",
           "#19d3f3",
           "#FFA15A",
           "#636efa",
           "#EF553B",
           "#636efa",
           "#19d3f3",
           "#00cc96",
           "#EF553B",
           "#EF553B",
           "#ab63fa",
           "#FFA15A",
           "#19d3f3",
           "#636efa",
           "#19d3f3",
           "#19d3f3",
           "#FFA15A",
           "#00cc96",
           "#19d3f3",
           "#19d3f3",
           "#19d3f3",
           "#636efa",
           "#ab63fa",
           "#FFA15A",
           "#EF553B",
           "#ab63fa",
           "#EF553B",
           "#EF553B",
           "#19d3f3",
           "#EF553B",
           "#636efa",
           "#FFA15A",
           "#FFA15A",
           "#FFA15A",
           "#EF553B",
           "#FFA15A",
           "#636efa",
           "#FFA15A",
           "#19d3f3",
           "#FFA15A",
           "#00cc96",
           "#ab63fa",
           "#636efa",
           "#FFA15A",
           "#EF553B",
           "#636efa",
           "#19d3f3",
           "#EF553B",
           "#636efa",
           "#636efa",
           "#00cc96",
           "#636efa",
           "#19d3f3",
           "#19d3f3",
           "#EF553B",
           "#19d3f3",
           "#00cc96",
           "#19d3f3",
           "#ab63fa",
           "#19d3f3",
           "#EF553B",
           "#19d3f3",
           "#19d3f3",
           "#00cc96",
           "#19d3f3",
           "#EF553B",
           "#EF553B",
           "#19d3f3",
           "#FFA15A",
           "#19d3f3",
           "#FFA15A",
           "#EF553B",
           "#19d3f3",
           "#FFA15A",
           "#EF553B",
           "#EF553B",
           "#EF553B",
           "#EF553B",
           "#19d3f3",
           "#EF553B",
           "#FFA15A"
          ]
         },
         "name": "",
         "showlegend": true,
         "type": "pie",
         "values": [
          37952,
          9000,
          13000,
          29850,
          8500,
          14769,
          19446,
          1850,
          31500,
          29000,
          36846,
          8600,
          48000,
          2400,
          16234,
          2159,
          3537,
          6000,
          25000,
          21215,
          30000,
          10275,
          6500,
          10000,
          16765,
          3890,
          11926,
          15500,
          11171,
          28500,
          34000,
          3400,
          20000,
          4100,
          1300,
          17170,
          2150,
          16902,
          14422,
          36000,
          5514,
          21000,
          6500,
          43193,
          6950,
          39150,
          40000,
          8500,
          10185,
          31000,
          14000,
          10500,
          11000,
          11000,
          1900,
          1458,
          12835,
          14000,
          38000,
          50000,
          2100,
          5000,
          26000,
          16375,
          2300,
          4000,
          12017,
          46184,
          6100,
          49695,
          1500,
          2094,
          8381,
          32000,
          20436,
          2500,
          1450,
          11000,
          2000,
          16251,
          9533,
          10182,
          29000,
          1420,
          20000,
          16397,
          30000,
          14000,
          28000,
          14500,
          18000,
          7238,
          2299,
          16000,
          1950,
          1200,
          14172,
          9780,
          6800,
          1500,
          28000,
          3500,
          18897,
          800,
          12000,
          29905,
          1699,
          27642,
          4297,
          3228,
          400,
          28000,
          49000,
          1730,
          6300,
          2000,
          23829,
          1800,
          450,
          14000,
          12373,
          1200,
          14000,
          22000,
          15000,
          7500,
          7859,
          2396,
          30539,
          21000,
          370,
          6500,
          16000,
          2100,
          22000,
          7450,
          22000,
          1900,
          6825,
          16517,
          34000,
          125,
          7500,
          1000,
          11610,
          3500,
          3443,
          1500,
          1651,
          13000,
          5000,
          3287,
          3783,
          1035,
          1000,
          7028,
          260,
          10000,
          4000,
          1724,
          2300,
          2200,
          1750,
          3500,
          1600,
          46000,
          4039,
          3014,
          17552,
          8000,
          1454,
          1493,
          8900,
          21000,
          2300,
          1531,
          38000,
          5599,
          16158,
          1200,
          3000,
          5776,
          1193,
          6500,
          23717,
          7854,
          4000,
          14585,
          24000,
          4816,
          1700,
          25829,
          10000,
          900,
          1800,
          5041,
          2100,
          3100,
          650,
          1100,
          2400,
          11114,
          22968,
          6232,
          7000,
          7288,
          26251,
          3040,
          5000,
          10216,
          13000,
          6738,
          1400,
          987,
          12000,
          6425,
          13228,
          25069,
          18000,
          9080,
          8000,
          29131,
          3400,
          3094,
          7000,
          3394,
          2183,
          10222,
          23000,
          1800,
          9000,
          2890,
          1132,
          47000,
          6712,
          1750,
          14500,
          1100
         ]
        }
       ],
       "layout": {
        "legend": {
         "tracegroupgap": 0
        },
        "margin": {
         "t": 60
        },
        "template": {
         "data": {
          "bar": [
           {
            "error_x": {
             "color": "#2a3f5f"
            },
            "error_y": {
             "color": "#2a3f5f"
            },
            "marker": {
             "line": {
              "color": "#E5ECF6",
              "width": 0.5
             },
             "pattern": {
              "fillmode": "overlay",
              "size": 10,
              "solidity": 0.2
             }
            },
            "type": "bar"
           }
          ],
          "barpolar": [
           {
            "marker": {
             "line": {
              "color": "#E5ECF6",
              "width": 0.5
             },
             "pattern": {
              "fillmode": "overlay",
              "size": 10,
              "solidity": 0.2
             }
            },
            "type": "barpolar"
           }
          ],
          "carpet": [
           {
            "aaxis": {
             "endlinecolor": "#2a3f5f",
             "gridcolor": "white",
             "linecolor": "white",
             "minorgridcolor": "white",
             "startlinecolor": "#2a3f5f"
            },
            "baxis": {
             "endlinecolor": "#2a3f5f",
             "gridcolor": "white",
             "linecolor": "white",
             "minorgridcolor": "white",
             "startlinecolor": "#2a3f5f"
            },
            "type": "carpet"
           }
          ],
          "choropleth": [
           {
            "colorbar": {
             "outlinewidth": 0,
             "ticks": ""
            },
            "type": "choropleth"
           }
          ],
          "contour": [
           {
            "colorbar": {
             "outlinewidth": 0,
             "ticks": ""
            },
            "colorscale": [
             [
              0,
              "#0d0887"
             ],
             [
              0.1111111111111111,
              "#46039f"
             ],
             [
              0.2222222222222222,
              "#7201a8"
             ],
             [
              0.3333333333333333,
              "#9c179e"
             ],
             [
              0.4444444444444444,
              "#bd3786"
             ],
             [
              0.5555555555555556,
              "#d8576b"
             ],
             [
              0.6666666666666666,
              "#ed7953"
             ],
             [
              0.7777777777777778,
              "#fb9f3a"
             ],
             [
              0.8888888888888888,
              "#fdca26"
             ],
             [
              1,
              "#f0f921"
             ]
            ],
            "type": "contour"
           }
          ],
          "contourcarpet": [
           {
            "colorbar": {
             "outlinewidth": 0,
             "ticks": ""
            },
            "type": "contourcarpet"
           }
          ],
          "heatmap": [
           {
            "colorbar": {
             "outlinewidth": 0,
             "ticks": ""
            },
            "colorscale": [
             [
              0,
              "#0d0887"
             ],
             [
              0.1111111111111111,
              "#46039f"
             ],
             [
              0.2222222222222222,
              "#7201a8"
             ],
             [
              0.3333333333333333,
              "#9c179e"
             ],
             [
              0.4444444444444444,
              "#bd3786"
             ],
             [
              0.5555555555555556,
              "#d8576b"
             ],
             [
              0.6666666666666666,
              "#ed7953"
             ],
             [
              0.7777777777777778,
              "#fb9f3a"
             ],
             [
              0.8888888888888888,
              "#fdca26"
             ],
             [
              1,
              "#f0f921"
             ]
            ],
            "type": "heatmap"
           }
          ],
          "heatmapgl": [
           {
            "colorbar": {
             "outlinewidth": 0,
             "ticks": ""
            },
            "colorscale": [
             [
              0,
              "#0d0887"
             ],
             [
              0.1111111111111111,
              "#46039f"
             ],
             [
              0.2222222222222222,
              "#7201a8"
             ],
             [
              0.3333333333333333,
              "#9c179e"
             ],
             [
              0.4444444444444444,
              "#bd3786"
             ],
             [
              0.5555555555555556,
              "#d8576b"
             ],
             [
              0.6666666666666666,
              "#ed7953"
             ],
             [
              0.7777777777777778,
              "#fb9f3a"
             ],
             [
              0.8888888888888888,
              "#fdca26"
             ],
             [
              1,
              "#f0f921"
             ]
            ],
            "type": "heatmapgl"
           }
          ],
          "histogram": [
           {
            "marker": {
             "pattern": {
              "fillmode": "overlay",
              "size": 10,
              "solidity": 0.2
             }
            },
            "type": "histogram"
           }
          ],
          "histogram2d": [
           {
            "colorbar": {
             "outlinewidth": 0,
             "ticks": ""
            },
            "colorscale": [
             [
              0,
              "#0d0887"
             ],
             [
              0.1111111111111111,
              "#46039f"
             ],
             [
              0.2222222222222222,
              "#7201a8"
             ],
             [
              0.3333333333333333,
              "#9c179e"
             ],
             [
              0.4444444444444444,
              "#bd3786"
             ],
             [
              0.5555555555555556,
              "#d8576b"
             ],
             [
              0.6666666666666666,
              "#ed7953"
             ],
             [
              0.7777777777777778,
              "#fb9f3a"
             ],
             [
              0.8888888888888888,
              "#fdca26"
             ],
             [
              1,
              "#f0f921"
             ]
            ],
            "type": "histogram2d"
           }
          ],
          "histogram2dcontour": [
           {
            "colorbar": {
             "outlinewidth": 0,
             "ticks": ""
            },
            "colorscale": [
             [
              0,
              "#0d0887"
             ],
             [
              0.1111111111111111,
              "#46039f"
             ],
             [
              0.2222222222222222,
              "#7201a8"
             ],
             [
              0.3333333333333333,
              "#9c179e"
             ],
             [
              0.4444444444444444,
              "#bd3786"
             ],
             [
              0.5555555555555556,
              "#d8576b"
             ],
             [
              0.6666666666666666,
              "#ed7953"
             ],
             [
              0.7777777777777778,
              "#fb9f3a"
             ],
             [
              0.8888888888888888,
              "#fdca26"
             ],
             [
              1,
              "#f0f921"
             ]
            ],
            "type": "histogram2dcontour"
           }
          ],
          "mesh3d": [
           {
            "colorbar": {
             "outlinewidth": 0,
             "ticks": ""
            },
            "type": "mesh3d"
           }
          ],
          "parcoords": [
           {
            "line": {
             "colorbar": {
              "outlinewidth": 0,
              "ticks": ""
             }
            },
            "type": "parcoords"
           }
          ],
          "pie": [
           {
            "automargin": true,
            "type": "pie"
           }
          ],
          "scatter": [
           {
            "fillpattern": {
             "fillmode": "overlay",
             "size": 10,
             "solidity": 0.2
            },
            "type": "scatter"
           }
          ],
          "scatter3d": [
           {
            "line": {
             "colorbar": {
              "outlinewidth": 0,
              "ticks": ""
             }
            },
            "marker": {
             "colorbar": {
              "outlinewidth": 0,
              "ticks": ""
             }
            },
            "type": "scatter3d"
           }
          ],
          "scattercarpet": [
           {
            "marker": {
             "colorbar": {
              "outlinewidth": 0,
              "ticks": ""
             }
            },
            "type": "scattercarpet"
           }
          ],
          "scattergeo": [
           {
            "marker": {
             "colorbar": {
              "outlinewidth": 0,
              "ticks": ""
             }
            },
            "type": "scattergeo"
           }
          ],
          "scattergl": [
           {
            "marker": {
             "colorbar": {
              "outlinewidth": 0,
              "ticks": ""
             }
            },
            "type": "scattergl"
           }
          ],
          "scattermapbox": [
           {
            "marker": {
             "colorbar": {
              "outlinewidth": 0,
              "ticks": ""
             }
            },
            "type": "scattermapbox"
           }
          ],
          "scatterpolar": [
           {
            "marker": {
             "colorbar": {
              "outlinewidth": 0,
              "ticks": ""
             }
            },
            "type": "scatterpolar"
           }
          ],
          "scatterpolargl": [
           {
            "marker": {
             "colorbar": {
              "outlinewidth": 0,
              "ticks": ""
             }
            },
            "type": "scatterpolargl"
           }
          ],
          "scatterternary": [
           {
            "marker": {
             "colorbar": {
              "outlinewidth": 0,
              "ticks": ""
             }
            },
            "type": "scatterternary"
           }
          ],
          "surface": [
           {
            "colorbar": {
             "outlinewidth": 0,
             "ticks": ""
            },
            "colorscale": [
             [
              0,
              "#0d0887"
             ],
             [
              0.1111111111111111,
              "#46039f"
             ],
             [
              0.2222222222222222,
              "#7201a8"
             ],
             [
              0.3333333333333333,
              "#9c179e"
             ],
             [
              0.4444444444444444,
              "#bd3786"
             ],
             [
              0.5555555555555556,
              "#d8576b"
             ],
             [
              0.6666666666666666,
              "#ed7953"
             ],
             [
              0.7777777777777778,
              "#fb9f3a"
             ],
             [
              0.8888888888888888,
              "#fdca26"
             ],
             [
              1,
              "#f0f921"
             ]
            ],
            "type": "surface"
           }
          ],
          "table": [
           {
            "cells": {
             "fill": {
              "color": "#EBF0F8"
             },
             "line": {
              "color": "white"
             }
            },
            "header": {
             "fill": {
              "color": "#C8D4E3"
             },
             "line": {
              "color": "white"
             }
            },
            "type": "table"
           }
          ]
         },
         "layout": {
          "annotationdefaults": {
           "arrowcolor": "#2a3f5f",
           "arrowhead": 0,
           "arrowwidth": 1
          },
          "autotypenumbers": "strict",
          "coloraxis": {
           "colorbar": {
            "outlinewidth": 0,
            "ticks": ""
           }
          },
          "colorscale": {
           "diverging": [
            [
             0,
             "#8e0152"
            ],
            [
             0.1,
             "#c51b7d"
            ],
            [
             0.2,
             "#de77ae"
            ],
            [
             0.3,
             "#f1b6da"
            ],
            [
             0.4,
             "#fde0ef"
            ],
            [
             0.5,
             "#f7f7f7"
            ],
            [
             0.6,
             "#e6f5d0"
            ],
            [
             0.7,
             "#b8e186"
            ],
            [
             0.8,
             "#7fbc41"
            ],
            [
             0.9,
             "#4d9221"
            ],
            [
             1,
             "#276419"
            ]
           ],
           "sequential": [
            [
             0,
             "#0d0887"
            ],
            [
             0.1111111111111111,
             "#46039f"
            ],
            [
             0.2222222222222222,
             "#7201a8"
            ],
            [
             0.3333333333333333,
             "#9c179e"
            ],
            [
             0.4444444444444444,
             "#bd3786"
            ],
            [
             0.5555555555555556,
             "#d8576b"
            ],
            [
             0.6666666666666666,
             "#ed7953"
            ],
            [
             0.7777777777777778,
             "#fb9f3a"
            ],
            [
             0.8888888888888888,
             "#fdca26"
            ],
            [
             1,
             "#f0f921"
            ]
           ],
           "sequentialminus": [
            [
             0,
             "#0d0887"
            ],
            [
             0.1111111111111111,
             "#46039f"
            ],
            [
             0.2222222222222222,
             "#7201a8"
            ],
            [
             0.3333333333333333,
             "#9c179e"
            ],
            [
             0.4444444444444444,
             "#bd3786"
            ],
            [
             0.5555555555555556,
             "#d8576b"
            ],
            [
             0.6666666666666666,
             "#ed7953"
            ],
            [
             0.7777777777777778,
             "#fb9f3a"
            ],
            [
             0.8888888888888888,
             "#fdca26"
            ],
            [
             1,
             "#f0f921"
            ]
           ]
          },
          "colorway": [
           "#636efa",
           "#EF553B",
           "#00cc96",
           "#ab63fa",
           "#FFA15A",
           "#19d3f3",
           "#FF6692",
           "#B6E880",
           "#FF97FF",
           "#FECB52"
          ],
          "font": {
           "color": "#2a3f5f"
          },
          "geo": {
           "bgcolor": "white",
           "lakecolor": "white",
           "landcolor": "#E5ECF6",
           "showlakes": true,
           "showland": true,
           "subunitcolor": "white"
          },
          "hoverlabel": {
           "align": "left"
          },
          "hovermode": "closest",
          "mapbox": {
           "style": "light"
          },
          "paper_bgcolor": "white",
          "plot_bgcolor": "#E5ECF6",
          "polar": {
           "angularaxis": {
            "gridcolor": "white",
            "linecolor": "white",
            "ticks": ""
           },
           "bgcolor": "#E5ECF6",
           "radialaxis": {
            "gridcolor": "white",
            "linecolor": "white",
            "ticks": ""
           }
          },
          "scene": {
           "xaxis": {
            "backgroundcolor": "#E5ECF6",
            "gridcolor": "white",
            "gridwidth": 2,
            "linecolor": "white",
            "showbackground": true,
            "ticks": "",
            "zerolinecolor": "white"
           },
           "yaxis": {
            "backgroundcolor": "#E5ECF6",
            "gridcolor": "white",
            "gridwidth": 2,
            "linecolor": "white",
            "showbackground": true,
            "ticks": "",
            "zerolinecolor": "white"
           },
           "zaxis": {
            "backgroundcolor": "#E5ECF6",
            "gridcolor": "white",
            "gridwidth": 2,
            "linecolor": "white",
            "showbackground": true,
            "ticks": "",
            "zerolinecolor": "white"
           }
          },
          "shapedefaults": {
           "line": {
            "color": "#2a3f5f"
           }
          },
          "ternary": {
           "aaxis": {
            "gridcolor": "white",
            "linecolor": "white",
            "ticks": ""
           },
           "baxis": {
            "gridcolor": "white",
            "linecolor": "white",
            "ticks": ""
           },
           "bgcolor": "#E5ECF6",
           "caxis": {
            "gridcolor": "white",
            "linecolor": "white",
            "ticks": ""
           }
          },
          "title": {
           "x": 0.05
          },
          "xaxis": {
           "automargin": true,
           "gridcolor": "white",
           "linecolor": "white",
           "ticks": "",
           "title": {
            "standoff": 15
           },
           "zerolinecolor": "white",
           "zerolinewidth": 2
          },
          "yaxis": {
           "automargin": true,
           "gridcolor": "white",
           "linecolor": "white",
           "ticks": "",
           "title": {
            "standoff": 15
           },
           "zerolinecolor": "white",
           "zerolinewidth": 2
          }
         }
        }
       }
      }
     },
     "metadata": {},
     "output_type": "display_data"
    }
   ],
   "source": [
    "# Pie Distribution of DataSet:\n",
    "fig = px.pie(df, names='rating', values='students', color='community_type')\n",
    "fig.show()"
   ]
  },
  {
   "cell_type": "code",
   "execution_count": 73,
   "metadata": {},
   "outputs": [
    {
     "data": {
      "application/vnd.plotly.v1+json": {
       "config": {
        "plotlyServerURL": "https://plot.ly"
       },
       "data": [
        {
         "hovertemplate": "community_type=large urban city<br>rating=%{x}<br>students=%{y}<extra></extra>",
         "legendgroup": "large urban city",
         "marker": {
          "color": "#636efa",
          "symbol": "circle"
         },
         "mode": "markers",
         "name": "large urban city",
         "orientation": "v",
         "showlegend": true,
         "type": "scatter",
         "x": [
          5,
          4.5,
          5,
          5,
          5,
          2.5,
          4.5,
          4.5,
          4.5,
          3.5,
          5,
          3,
          4.5,
          5,
          4,
          5,
          4.5,
          4,
          3.5,
          4,
          4.5,
          3.5,
          4.5,
          5,
          4,
          5,
          4.5,
          3,
          5,
          4.5,
          4,
          3,
          1.5,
          2.5,
          5,
          3.5,
          4,
          4.5,
          4,
          4,
          3.5,
          3.5,
          4.5,
          4.5
         ],
         "xaxis": "x",
         "y": [
          37952,
          14769,
          48000,
          3537,
          25000,
          10275,
          15500,
          36000,
          40000,
          10185,
          12835,
          14000,
          16375,
          2094,
          8381,
          32000,
          2000,
          16397,
          29905,
          1699,
          23829,
          14000,
          12373,
          22000,
          15000,
          30539,
          21000,
          1900,
          16517,
          34000,
          3783,
          1035,
          7028,
          2300,
          1750,
          1454,
          16158,
          14585,
          900,
          1100,
          22968,
          7288,
          26251,
          5000
         ],
         "yaxis": "y"
        },
        {
         "hovertemplate": "community_type=medium city<br>rating=%{x}<br>students=%{y}<extra></extra>",
         "legendgroup": "medium city",
         "marker": {
          "color": "#EF553B",
          "symbol": "circle"
         },
         "mode": "markers",
         "name": "medium city",
         "orientation": "v",
         "showlegend": true,
         "type": "scatter",
         "x": [
          3,
          3.5,
          4.5,
          4.5,
          5,
          4.5,
          4.5,
          3,
          4,
          4.5,
          5,
          4.5,
          4,
          4,
          4.5,
          4.5,
          4,
          5,
          5,
          3.5,
          5,
          3.5,
          5,
          5,
          3,
          5,
          5,
          4,
          5,
          3.5,
          4.5,
          4,
          4.5,
          2.5,
          4,
          5,
          4.5,
          2.5,
          3.5,
          3.5,
          3,
          4,
          5,
          3.5,
          3,
          5,
          3.5,
          3,
          4,
          4,
          3,
          5,
          2.5,
          4
         ],
         "xaxis": "x",
         "y": [
          9000,
          29850,
          31500,
          36846,
          2159,
          16765,
          3890,
          11171,
          14422,
          43193,
          14000,
          11000,
          1458,
          26000,
          2300,
          12017,
          16251,
          9533,
          10182,
          29000,
          30000,
          14500,
          18000,
          16000,
          1950,
          1200,
          9780,
          18897,
          27642,
          4297,
          6500,
          16000,
          7450,
          260,
          2200,
          46000,
          4039,
          5776,
          6500,
          23717,
          4000,
          25829,
          11114,
          7000,
          6738,
          25069,
          3400,
          3094,
          23000,
          2890,
          1132,
          47000,
          6712,
          14500
         ],
         "yaxis": "y"
        },
        {
         "hovertemplate": "community_type=very small town<br>rating=%{x}<br>students=%{y}<extra></extra>",
         "legendgroup": "very small town",
         "marker": {
          "color": "#00cc96",
          "symbol": "circle"
         },
         "mode": "markers",
         "name": "very small town",
         "orientation": "v",
         "showlegend": true,
         "type": "scatter",
         "x": [
          4,
          4.5,
          4,
          3.5,
          4.5,
          4.5,
          3,
          3,
          2,
          3,
          2.5,
          4
         ],
         "xaxis": "x",
         "y": [
          13000,
          2400,
          1900,
          1420,
          400,
          1800,
          1600,
          2300,
          3100,
          3040,
          987,
          8000
         ],
         "yaxis": "y"
        },
        {
         "hovertemplate": "community_type=rural community<br>rating=%{x}<br>students=%{y}<extra></extra>",
         "legendgroup": "rural community",
         "marker": {
          "color": "#ab63fa",
          "symbol": "circle"
         },
         "mode": "markers",
         "name": "rural community",
         "orientation": "v",
         "showlegend": true,
         "type": "scatter",
         "x": [
          4,
          3.5,
          3.5,
          4.5,
          4.5,
          4,
          4.5,
          4.5,
          3,
          4,
          3.5,
          2,
          2.5,
          3,
          2.5
         ],
         "xaxis": "x",
         "y": [
          8500,
          7238,
          1500,
          800,
          3228,
          1730,
          2396,
          125,
          1000,
          1651,
          3014,
          1200,
          1193,
          650,
          6425
         ],
         "yaxis": "y"
        },
        {
         "hovertemplate": "community_type=small town<br>rating=%{x}<br>students=%{y}<extra></extra>",
         "legendgroup": "small town",
         "marker": {
          "color": "#FFA15A",
          "symbol": "circle"
         },
         "mode": "markers",
         "name": "small town",
         "orientation": "v",
         "showlegend": true,
         "type": "scatter",
         "x": [
          5,
          4,
          5,
          5,
          4,
          4,
          4.5,
          4,
          5,
          4.5,
          3,
          3.5,
          3,
          4,
          4,
          3,
          5,
          3,
          4.5,
          4,
          4.5,
          2,
          3,
          4,
          3.5,
          4,
          4.5,
          3.5,
          4.5,
          3,
          4.5,
          4.5,
          4.5,
          3,
          3.5,
          3,
          3.5
         ],
         "xaxis": "x",
         "y": [
          19446,
          1850,
          6500,
          28500,
          3400,
          5514,
          8500,
          4000,
          46184,
          20436,
          1450,
          2299,
          6800,
          3500,
          12000,
          7500,
          7859,
          2100,
          22000,
          3443,
          13000,
          3287,
          1724,
          17552,
          21000,
          3000,
          24000,
          4816,
          1700,
          10000,
          1800,
          2100,
          2400,
          3394,
          10222,
          9000,
          1100
         ],
         "yaxis": "y"
        },
        {
         "hovertemplate": "community_type=small city<br>rating=%{x}<br>students=%{y}<extra></extra>",
         "legendgroup": "small city",
         "marker": {
          "color": "#19d3f3",
          "symbol": "circle"
         },
         "mode": "markers",
         "name": "small city",
         "orientation": "v",
         "showlegend": true,
         "type": "scatter",
         "x": [
          4.5,
          2.5,
          5,
          5,
          4,
          5,
          4.5,
          5,
          4.5,
          5,
          4.5,
          4,
          5,
          5,
          4,
          5,
          4,
          5,
          5,
          4,
          4.5,
          5,
          4.5,
          4,
          3.5,
          4,
          4,
          5,
          4,
          3.5,
          5,
          4,
          4.5,
          4,
          4,
          4.5,
          5,
          5,
          4,
          4,
          3.5,
          4.5,
          5,
          4,
          4,
          4,
          3.5,
          3,
          3.5,
          3.5,
          2,
          3,
          2.5,
          4,
          4.5,
          4.5,
          3,
          4.5,
          3,
          3.5,
          3,
          1.5,
          4,
          5,
          4,
          2.5,
          3,
          2,
          4.5,
          4.5,
          4.5,
          4.5,
          3,
          3,
          3.5,
          3
         ],
         "xaxis": "x",
         "y": [
          29000,
          8600,
          16234,
          6000,
          21215,
          30000,
          10000,
          11926,
          34000,
          20000,
          4100,
          1300,
          17170,
          2150,
          16902,
          21000,
          6500,
          6950,
          39150,
          31000,
          10500,
          11000,
          38000,
          50000,
          2100,
          5000,
          6100,
          49695,
          1500,
          2500,
          11000,
          20000,
          14000,
          28000,
          14172,
          28000,
          28000,
          49000,
          6300,
          2000,
          450,
          1200,
          14000,
          370,
          22000,
          6825,
          7500,
          11610,
          3500,
          1500,
          5000,
          1000,
          10000,
          4000,
          3500,
          8000,
          1493,
          8900,
          1531,
          38000,
          5599,
          7854,
          5041,
          6232,
          10216,
          13000,
          1400,
          12000,
          13228,
          18000,
          9080,
          29131,
          7000,
          2183,
          1800,
          1750
         ],
         "yaxis": "y"
        }
       ],
       "layout": {
        "legend": {
         "title": {
          "text": "community_type"
         },
         "tracegroupgap": 0
        },
        "margin": {
         "t": 60
        },
        "template": {
         "data": {
          "bar": [
           {
            "error_x": {
             "color": "#2a3f5f"
            },
            "error_y": {
             "color": "#2a3f5f"
            },
            "marker": {
             "line": {
              "color": "#E5ECF6",
              "width": 0.5
             },
             "pattern": {
              "fillmode": "overlay",
              "size": 10,
              "solidity": 0.2
             }
            },
            "type": "bar"
           }
          ],
          "barpolar": [
           {
            "marker": {
             "line": {
              "color": "#E5ECF6",
              "width": 0.5
             },
             "pattern": {
              "fillmode": "overlay",
              "size": 10,
              "solidity": 0.2
             }
            },
            "type": "barpolar"
           }
          ],
          "carpet": [
           {
            "aaxis": {
             "endlinecolor": "#2a3f5f",
             "gridcolor": "white",
             "linecolor": "white",
             "minorgridcolor": "white",
             "startlinecolor": "#2a3f5f"
            },
            "baxis": {
             "endlinecolor": "#2a3f5f",
             "gridcolor": "white",
             "linecolor": "white",
             "minorgridcolor": "white",
             "startlinecolor": "#2a3f5f"
            },
            "type": "carpet"
           }
          ],
          "choropleth": [
           {
            "colorbar": {
             "outlinewidth": 0,
             "ticks": ""
            },
            "type": "choropleth"
           }
          ],
          "contour": [
           {
            "colorbar": {
             "outlinewidth": 0,
             "ticks": ""
            },
            "colorscale": [
             [
              0,
              "#0d0887"
             ],
             [
              0.1111111111111111,
              "#46039f"
             ],
             [
              0.2222222222222222,
              "#7201a8"
             ],
             [
              0.3333333333333333,
              "#9c179e"
             ],
             [
              0.4444444444444444,
              "#bd3786"
             ],
             [
              0.5555555555555556,
              "#d8576b"
             ],
             [
              0.6666666666666666,
              "#ed7953"
             ],
             [
              0.7777777777777778,
              "#fb9f3a"
             ],
             [
              0.8888888888888888,
              "#fdca26"
             ],
             [
              1,
              "#f0f921"
             ]
            ],
            "type": "contour"
           }
          ],
          "contourcarpet": [
           {
            "colorbar": {
             "outlinewidth": 0,
             "ticks": ""
            },
            "type": "contourcarpet"
           }
          ],
          "heatmap": [
           {
            "colorbar": {
             "outlinewidth": 0,
             "ticks": ""
            },
            "colorscale": [
             [
              0,
              "#0d0887"
             ],
             [
              0.1111111111111111,
              "#46039f"
             ],
             [
              0.2222222222222222,
              "#7201a8"
             ],
             [
              0.3333333333333333,
              "#9c179e"
             ],
             [
              0.4444444444444444,
              "#bd3786"
             ],
             [
              0.5555555555555556,
              "#d8576b"
             ],
             [
              0.6666666666666666,
              "#ed7953"
             ],
             [
              0.7777777777777778,
              "#fb9f3a"
             ],
             [
              0.8888888888888888,
              "#fdca26"
             ],
             [
              1,
              "#f0f921"
             ]
            ],
            "type": "heatmap"
           }
          ],
          "heatmapgl": [
           {
            "colorbar": {
             "outlinewidth": 0,
             "ticks": ""
            },
            "colorscale": [
             [
              0,
              "#0d0887"
             ],
             [
              0.1111111111111111,
              "#46039f"
             ],
             [
              0.2222222222222222,
              "#7201a8"
             ],
             [
              0.3333333333333333,
              "#9c179e"
             ],
             [
              0.4444444444444444,
              "#bd3786"
             ],
             [
              0.5555555555555556,
              "#d8576b"
             ],
             [
              0.6666666666666666,
              "#ed7953"
             ],
             [
              0.7777777777777778,
              "#fb9f3a"
             ],
             [
              0.8888888888888888,
              "#fdca26"
             ],
             [
              1,
              "#f0f921"
             ]
            ],
            "type": "heatmapgl"
           }
          ],
          "histogram": [
           {
            "marker": {
             "pattern": {
              "fillmode": "overlay",
              "size": 10,
              "solidity": 0.2
             }
            },
            "type": "histogram"
           }
          ],
          "histogram2d": [
           {
            "colorbar": {
             "outlinewidth": 0,
             "ticks": ""
            },
            "colorscale": [
             [
              0,
              "#0d0887"
             ],
             [
              0.1111111111111111,
              "#46039f"
             ],
             [
              0.2222222222222222,
              "#7201a8"
             ],
             [
              0.3333333333333333,
              "#9c179e"
             ],
             [
              0.4444444444444444,
              "#bd3786"
             ],
             [
              0.5555555555555556,
              "#d8576b"
             ],
             [
              0.6666666666666666,
              "#ed7953"
             ],
             [
              0.7777777777777778,
              "#fb9f3a"
             ],
             [
              0.8888888888888888,
              "#fdca26"
             ],
             [
              1,
              "#f0f921"
             ]
            ],
            "type": "histogram2d"
           }
          ],
          "histogram2dcontour": [
           {
            "colorbar": {
             "outlinewidth": 0,
             "ticks": ""
            },
            "colorscale": [
             [
              0,
              "#0d0887"
             ],
             [
              0.1111111111111111,
              "#46039f"
             ],
             [
              0.2222222222222222,
              "#7201a8"
             ],
             [
              0.3333333333333333,
              "#9c179e"
             ],
             [
              0.4444444444444444,
              "#bd3786"
             ],
             [
              0.5555555555555556,
              "#d8576b"
             ],
             [
              0.6666666666666666,
              "#ed7953"
             ],
             [
              0.7777777777777778,
              "#fb9f3a"
             ],
             [
              0.8888888888888888,
              "#fdca26"
             ],
             [
              1,
              "#f0f921"
             ]
            ],
            "type": "histogram2dcontour"
           }
          ],
          "mesh3d": [
           {
            "colorbar": {
             "outlinewidth": 0,
             "ticks": ""
            },
            "type": "mesh3d"
           }
          ],
          "parcoords": [
           {
            "line": {
             "colorbar": {
              "outlinewidth": 0,
              "ticks": ""
             }
            },
            "type": "parcoords"
           }
          ],
          "pie": [
           {
            "automargin": true,
            "type": "pie"
           }
          ],
          "scatter": [
           {
            "fillpattern": {
             "fillmode": "overlay",
             "size": 10,
             "solidity": 0.2
            },
            "type": "scatter"
           }
          ],
          "scatter3d": [
           {
            "line": {
             "colorbar": {
              "outlinewidth": 0,
              "ticks": ""
             }
            },
            "marker": {
             "colorbar": {
              "outlinewidth": 0,
              "ticks": ""
             }
            },
            "type": "scatter3d"
           }
          ],
          "scattercarpet": [
           {
            "marker": {
             "colorbar": {
              "outlinewidth": 0,
              "ticks": ""
             }
            },
            "type": "scattercarpet"
           }
          ],
          "scattergeo": [
           {
            "marker": {
             "colorbar": {
              "outlinewidth": 0,
              "ticks": ""
             }
            },
            "type": "scattergeo"
           }
          ],
          "scattergl": [
           {
            "marker": {
             "colorbar": {
              "outlinewidth": 0,
              "ticks": ""
             }
            },
            "type": "scattergl"
           }
          ],
          "scattermapbox": [
           {
            "marker": {
             "colorbar": {
              "outlinewidth": 0,
              "ticks": ""
             }
            },
            "type": "scattermapbox"
           }
          ],
          "scatterpolar": [
           {
            "marker": {
             "colorbar": {
              "outlinewidth": 0,
              "ticks": ""
             }
            },
            "type": "scatterpolar"
           }
          ],
          "scatterpolargl": [
           {
            "marker": {
             "colorbar": {
              "outlinewidth": 0,
              "ticks": ""
             }
            },
            "type": "scatterpolargl"
           }
          ],
          "scatterternary": [
           {
            "marker": {
             "colorbar": {
              "outlinewidth": 0,
              "ticks": ""
             }
            },
            "type": "scatterternary"
           }
          ],
          "surface": [
           {
            "colorbar": {
             "outlinewidth": 0,
             "ticks": ""
            },
            "colorscale": [
             [
              0,
              "#0d0887"
             ],
             [
              0.1111111111111111,
              "#46039f"
             ],
             [
              0.2222222222222222,
              "#7201a8"
             ],
             [
              0.3333333333333333,
              "#9c179e"
             ],
             [
              0.4444444444444444,
              "#bd3786"
             ],
             [
              0.5555555555555556,
              "#d8576b"
             ],
             [
              0.6666666666666666,
              "#ed7953"
             ],
             [
              0.7777777777777778,
              "#fb9f3a"
             ],
             [
              0.8888888888888888,
              "#fdca26"
             ],
             [
              1,
              "#f0f921"
             ]
            ],
            "type": "surface"
           }
          ],
          "table": [
           {
            "cells": {
             "fill": {
              "color": "#EBF0F8"
             },
             "line": {
              "color": "white"
             }
            },
            "header": {
             "fill": {
              "color": "#C8D4E3"
             },
             "line": {
              "color": "white"
             }
            },
            "type": "table"
           }
          ]
         },
         "layout": {
          "annotationdefaults": {
           "arrowcolor": "#2a3f5f",
           "arrowhead": 0,
           "arrowwidth": 1
          },
          "autotypenumbers": "strict",
          "coloraxis": {
           "colorbar": {
            "outlinewidth": 0,
            "ticks": ""
           }
          },
          "colorscale": {
           "diverging": [
            [
             0,
             "#8e0152"
            ],
            [
             0.1,
             "#c51b7d"
            ],
            [
             0.2,
             "#de77ae"
            ],
            [
             0.3,
             "#f1b6da"
            ],
            [
             0.4,
             "#fde0ef"
            ],
            [
             0.5,
             "#f7f7f7"
            ],
            [
             0.6,
             "#e6f5d0"
            ],
            [
             0.7,
             "#b8e186"
            ],
            [
             0.8,
             "#7fbc41"
            ],
            [
             0.9,
             "#4d9221"
            ],
            [
             1,
             "#276419"
            ]
           ],
           "sequential": [
            [
             0,
             "#0d0887"
            ],
            [
             0.1111111111111111,
             "#46039f"
            ],
            [
             0.2222222222222222,
             "#7201a8"
            ],
            [
             0.3333333333333333,
             "#9c179e"
            ],
            [
             0.4444444444444444,
             "#bd3786"
            ],
            [
             0.5555555555555556,
             "#d8576b"
            ],
            [
             0.6666666666666666,
             "#ed7953"
            ],
            [
             0.7777777777777778,
             "#fb9f3a"
            ],
            [
             0.8888888888888888,
             "#fdca26"
            ],
            [
             1,
             "#f0f921"
            ]
           ],
           "sequentialminus": [
            [
             0,
             "#0d0887"
            ],
            [
             0.1111111111111111,
             "#46039f"
            ],
            [
             0.2222222222222222,
             "#7201a8"
            ],
            [
             0.3333333333333333,
             "#9c179e"
            ],
            [
             0.4444444444444444,
             "#bd3786"
            ],
            [
             0.5555555555555556,
             "#d8576b"
            ],
            [
             0.6666666666666666,
             "#ed7953"
            ],
            [
             0.7777777777777778,
             "#fb9f3a"
            ],
            [
             0.8888888888888888,
             "#fdca26"
            ],
            [
             1,
             "#f0f921"
            ]
           ]
          },
          "colorway": [
           "#636efa",
           "#EF553B",
           "#00cc96",
           "#ab63fa",
           "#FFA15A",
           "#19d3f3",
           "#FF6692",
           "#B6E880",
           "#FF97FF",
           "#FECB52"
          ],
          "font": {
           "color": "#2a3f5f"
          },
          "geo": {
           "bgcolor": "white",
           "lakecolor": "white",
           "landcolor": "#E5ECF6",
           "showlakes": true,
           "showland": true,
           "subunitcolor": "white"
          },
          "hoverlabel": {
           "align": "left"
          },
          "hovermode": "closest",
          "mapbox": {
           "style": "light"
          },
          "paper_bgcolor": "white",
          "plot_bgcolor": "#E5ECF6",
          "polar": {
           "angularaxis": {
            "gridcolor": "white",
            "linecolor": "white",
            "ticks": ""
           },
           "bgcolor": "#E5ECF6",
           "radialaxis": {
            "gridcolor": "white",
            "linecolor": "white",
            "ticks": ""
           }
          },
          "scene": {
           "xaxis": {
            "backgroundcolor": "#E5ECF6",
            "gridcolor": "white",
            "gridwidth": 2,
            "linecolor": "white",
            "showbackground": true,
            "ticks": "",
            "zerolinecolor": "white"
           },
           "yaxis": {
            "backgroundcolor": "#E5ECF6",
            "gridcolor": "white",
            "gridwidth": 2,
            "linecolor": "white",
            "showbackground": true,
            "ticks": "",
            "zerolinecolor": "white"
           },
           "zaxis": {
            "backgroundcolor": "#E5ECF6",
            "gridcolor": "white",
            "gridwidth": 2,
            "linecolor": "white",
            "showbackground": true,
            "ticks": "",
            "zerolinecolor": "white"
           }
          },
          "shapedefaults": {
           "line": {
            "color": "#2a3f5f"
           }
          },
          "ternary": {
           "aaxis": {
            "gridcolor": "white",
            "linecolor": "white",
            "ticks": ""
           },
           "baxis": {
            "gridcolor": "white",
            "linecolor": "white",
            "ticks": ""
           },
           "bgcolor": "#E5ECF6",
           "caxis": {
            "gridcolor": "white",
            "linecolor": "white",
            "ticks": ""
           }
          },
          "title": {
           "x": 0.05
          },
          "xaxis": {
           "automargin": true,
           "gridcolor": "white",
           "linecolor": "white",
           "ticks": "",
           "title": {
            "standoff": 15
           },
           "zerolinecolor": "white",
           "zerolinewidth": 2
          },
          "yaxis": {
           "automargin": true,
           "gridcolor": "white",
           "linecolor": "white",
           "ticks": "",
           "title": {
            "standoff": 15
           },
           "zerolinecolor": "white",
           "zerolinewidth": 2
          }
         }
        },
        "xaxis": {
         "anchor": "y",
         "domain": [
          0,
          1
         ],
         "title": {
          "text": "rating"
         }
        },
        "yaxis": {
         "anchor": "x",
         "domain": [
          0,
          1
         ],
         "title": {
          "text": "students"
         }
        }
       }
      }
     },
     "metadata": {},
     "output_type": "display_data"
    }
   ],
   "source": [
    "import plotly.express as px\n",
    "\n",
    "fig = px.scatter(df, x='rating', y='students', color='community_type')\n",
    "fig.show()"
   ]
  },
  {
   "cell_type": "code",
   "execution_count": null,
   "metadata": {},
   "outputs": [],
   "source": []
  }
 ],
 "metadata": {
  "kernelspec": {
   "display_name": "new_env",
   "language": "python",
   "name": "python3"
  },
  "language_info": {
   "codemirror_mode": {
    "name": "ipython",
    "version": 3
   },
   "file_extension": ".py",
   "mimetype": "text/x-python",
   "name": "python",
   "nbconvert_exporter": "python",
   "pygments_lexer": "ipython3",
   "version": "3.12.4"
  }
 },
 "nbformat": 4,
 "nbformat_minor": 2
}
