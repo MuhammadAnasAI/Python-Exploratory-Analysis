{
 "cells": [
  {
   "cell_type": "markdown",
   "metadata": {},
   "source": [
    "# Explorary Data Analysis in Python (EDA)"
   ]
  },
  {
   "cell_type": "markdown",
   "metadata": {},
   "source": [
    "## Import the important Libraries:"
   ]
  },
  {
   "cell_type": "code",
   "execution_count": 1,
   "metadata": {},
   "outputs": [],
   "source": [
    "import pandas as pd\n",
    "import numpy as np\n",
    "import matplotlib.pyplot as plt\n",
    "import seaborn as sns\n",
    "import plotly.express as px\n",
    "%matplotlib inline "
   ]
  },
  {
   "cell_type": "code",
   "execution_count": 2,
   "metadata": {},
   "outputs": [],
   "source": [
    "# Import the Dataset:\n",
    "df = pd.read_csv('amazon.csv')"
   ]
  },
  {
   "cell_type": "code",
   "execution_count": 3,
   "metadata": {},
   "outputs": [
    {
     "data": {
      "text/html": [
       "<div>\n",
       "<style scoped>\n",
       "    .dataframe tbody tr th:only-of-type {\n",
       "        vertical-align: middle;\n",
       "    }\n",
       "\n",
       "    .dataframe tbody tr th {\n",
       "        vertical-align: top;\n",
       "    }\n",
       "\n",
       "    .dataframe thead th {\n",
       "        text-align: right;\n",
       "    }\n",
       "</style>\n",
       "<table border=\"1\" class=\"dataframe\">\n",
       "  <thead>\n",
       "    <tr style=\"text-align: right;\">\n",
       "      <th></th>\n",
       "      <th>product_id</th>\n",
       "      <th>product_name</th>\n",
       "      <th>category</th>\n",
       "      <th>discounted_price</th>\n",
       "      <th>actual_price</th>\n",
       "      <th>discount_percentage</th>\n",
       "      <th>rating</th>\n",
       "      <th>rating_count</th>\n",
       "      <th>about_product</th>\n",
       "      <th>user_id</th>\n",
       "      <th>user_name</th>\n",
       "      <th>review_id</th>\n",
       "      <th>review_title</th>\n",
       "      <th>review_content</th>\n",
       "      <th>img_link</th>\n",
       "      <th>product_link</th>\n",
       "    </tr>\n",
       "  </thead>\n",
       "  <tbody>\n",
       "    <tr>\n",
       "      <th>0</th>\n",
       "      <td>B07JW9H4J1</td>\n",
       "      <td>Wayona Nylon Braided USB to Lightning Fast Cha...</td>\n",
       "      <td>Computers&amp;Accessories|Accessories&amp;Peripherals|...</td>\n",
       "      <td>₹399</td>\n",
       "      <td>₹1,099</td>\n",
       "      <td>64%</td>\n",
       "      <td>4.2</td>\n",
       "      <td>24,269</td>\n",
       "      <td>High Compatibility : Compatible With iPhone 12...</td>\n",
       "      <td>AG3D6O4STAQKAY2UVGEUV46KN35Q,AHMY5CWJMMK5BJRBB...</td>\n",
       "      <td>Manav,Adarsh gupta,Sundeep,S.Sayeed Ahmed,jasp...</td>\n",
       "      <td>R3HXWT0LRP0NMF,R2AJM3LFTLZHFO,R6AQJGUP6P86,R1K...</td>\n",
       "      <td>Satisfied,Charging is really fast,Value for mo...</td>\n",
       "      <td>Looks durable Charging is fine tooNo complains...</td>\n",
       "      <td>https://m.media-amazon.com/images/W/WEBP_40237...</td>\n",
       "      <td>https://www.amazon.in/Wayona-Braided-WN3LG1-Sy...</td>\n",
       "    </tr>\n",
       "    <tr>\n",
       "      <th>1</th>\n",
       "      <td>B098NS6PVG</td>\n",
       "      <td>Ambrane Unbreakable 60W / 3A Fast Charging 1.5...</td>\n",
       "      <td>Computers&amp;Accessories|Accessories&amp;Peripherals|...</td>\n",
       "      <td>₹199</td>\n",
       "      <td>₹349</td>\n",
       "      <td>43%</td>\n",
       "      <td>4.0</td>\n",
       "      <td>43,994</td>\n",
       "      <td>Compatible with all Type C enabled devices, be...</td>\n",
       "      <td>AECPFYFQVRUWC3KGNLJIOREFP5LQ,AGYYVPDD7YG7FYNBX...</td>\n",
       "      <td>ArdKn,Nirbhay kumar,Sagar Viswanathan,Asp,Plac...</td>\n",
       "      <td>RGIQEG07R9HS2,R1SMWZQ86XIN8U,R2J3Y1WL29GWDE,RY...</td>\n",
       "      <td>A Good Braided Cable for Your Type C Device,Go...</td>\n",
       "      <td>I ordered this cable to connect my phone to An...</td>\n",
       "      <td>https://m.media-amazon.com/images/W/WEBP_40237...</td>\n",
       "      <td>https://www.amazon.in/Ambrane-Unbreakable-Char...</td>\n",
       "    </tr>\n",
       "    <tr>\n",
       "      <th>2</th>\n",
       "      <td>B096MSW6CT</td>\n",
       "      <td>Sounce Fast Phone Charging Cable &amp; Data Sync U...</td>\n",
       "      <td>Computers&amp;Accessories|Accessories&amp;Peripherals|...</td>\n",
       "      <td>₹199</td>\n",
       "      <td>₹1,899</td>\n",
       "      <td>90%</td>\n",
       "      <td>3.9</td>\n",
       "      <td>7,928</td>\n",
       "      <td>【 Fast Charger&amp; Data Sync】-With built-in safet...</td>\n",
       "      <td>AGU3BBQ2V2DDAMOAKGFAWDDQ6QHA,AESFLDV2PT363T2AQ...</td>\n",
       "      <td>Kunal,Himanshu,viswanath,sai niharka,saqib mal...</td>\n",
       "      <td>R3J3EQQ9TZI5ZJ,R3E7WBGK7ID0KV,RWU79XKQ6I1QF,R2...</td>\n",
       "      <td>Good speed for earlier versions,Good Product,W...</td>\n",
       "      <td>Not quite durable and sturdy,https://m.media-a...</td>\n",
       "      <td>https://m.media-amazon.com/images/W/WEBP_40237...</td>\n",
       "      <td>https://www.amazon.in/Sounce-iPhone-Charging-C...</td>\n",
       "    </tr>\n",
       "    <tr>\n",
       "      <th>3</th>\n",
       "      <td>B08HDJ86NZ</td>\n",
       "      <td>boAt Deuce USB 300 2 in 1 Type-C &amp; Micro USB S...</td>\n",
       "      <td>Computers&amp;Accessories|Accessories&amp;Peripherals|...</td>\n",
       "      <td>₹329</td>\n",
       "      <td>₹699</td>\n",
       "      <td>53%</td>\n",
       "      <td>4.2</td>\n",
       "      <td>94,363</td>\n",
       "      <td>The boAt Deuce USB 300 2 in 1 cable is compati...</td>\n",
       "      <td>AEWAZDZZJLQUYVOVGBEUKSLXHQ5A,AG5HTSFRRE6NL3M5S...</td>\n",
       "      <td>Omkar dhale,JD,HEMALATHA,Ajwadh a.,amar singh ...</td>\n",
       "      <td>R3EEUZKKK9J36I,R3HJVYCLYOY554,REDECAZ7AMPQC,R1...</td>\n",
       "      <td>Good product,Good one,Nice,Really nice product...</td>\n",
       "      <td>Good product,long wire,Charges good,Nice,I bou...</td>\n",
       "      <td>https://m.media-amazon.com/images/I/41V5FtEWPk...</td>\n",
       "      <td>https://www.amazon.in/Deuce-300-Resistant-Tang...</td>\n",
       "    </tr>\n",
       "    <tr>\n",
       "      <th>4</th>\n",
       "      <td>B08CF3B7N1</td>\n",
       "      <td>Portronics Konnect L 1.2M Fast Charging 3A 8 P...</td>\n",
       "      <td>Computers&amp;Accessories|Accessories&amp;Peripherals|...</td>\n",
       "      <td>₹154</td>\n",
       "      <td>₹399</td>\n",
       "      <td>61%</td>\n",
       "      <td>4.2</td>\n",
       "      <td>16,905</td>\n",
       "      <td>[CHARGE &amp; SYNC FUNCTION]- This cable comes wit...</td>\n",
       "      <td>AE3Q6KSUK5P75D5HFYHCRAOLODSA,AFUGIFH5ZAFXRDSZH...</td>\n",
       "      <td>rahuls6099,Swasat Borah,Ajay Wadke,Pranali,RVK...</td>\n",
       "      <td>R1BP4L2HH9TFUP,R16PVJEXKV6QZS,R2UPDB81N66T4P,R...</td>\n",
       "      <td>As good as original,Decent,Good one for second...</td>\n",
       "      <td>Bought this instead of original apple, does th...</td>\n",
       "      <td>https://m.media-amazon.com/images/W/WEBP_40237...</td>\n",
       "      <td>https://www.amazon.in/Portronics-Konnect-POR-1...</td>\n",
       "    </tr>\n",
       "  </tbody>\n",
       "</table>\n",
       "</div>"
      ],
      "text/plain": [
       "   product_id                                       product_name  \\\n",
       "0  B07JW9H4J1  Wayona Nylon Braided USB to Lightning Fast Cha...   \n",
       "1  B098NS6PVG  Ambrane Unbreakable 60W / 3A Fast Charging 1.5...   \n",
       "2  B096MSW6CT  Sounce Fast Phone Charging Cable & Data Sync U...   \n",
       "3  B08HDJ86NZ  boAt Deuce USB 300 2 in 1 Type-C & Micro USB S...   \n",
       "4  B08CF3B7N1  Portronics Konnect L 1.2M Fast Charging 3A 8 P...   \n",
       "\n",
       "                                            category discounted_price  \\\n",
       "0  Computers&Accessories|Accessories&Peripherals|...             ₹399   \n",
       "1  Computers&Accessories|Accessories&Peripherals|...             ₹199   \n",
       "2  Computers&Accessories|Accessories&Peripherals|...             ₹199   \n",
       "3  Computers&Accessories|Accessories&Peripherals|...             ₹329   \n",
       "4  Computers&Accessories|Accessories&Peripherals|...             ₹154   \n",
       "\n",
       "  actual_price discount_percentage rating rating_count  \\\n",
       "0       ₹1,099                 64%    4.2       24,269   \n",
       "1         ₹349                 43%    4.0       43,994   \n",
       "2       ₹1,899                 90%    3.9        7,928   \n",
       "3         ₹699                 53%    4.2       94,363   \n",
       "4         ₹399                 61%    4.2       16,905   \n",
       "\n",
       "                                       about_product  \\\n",
       "0  High Compatibility : Compatible With iPhone 12...   \n",
       "1  Compatible with all Type C enabled devices, be...   \n",
       "2  【 Fast Charger& Data Sync】-With built-in safet...   \n",
       "3  The boAt Deuce USB 300 2 in 1 cable is compati...   \n",
       "4  [CHARGE & SYNC FUNCTION]- This cable comes wit...   \n",
       "\n",
       "                                             user_id  \\\n",
       "0  AG3D6O4STAQKAY2UVGEUV46KN35Q,AHMY5CWJMMK5BJRBB...   \n",
       "1  AECPFYFQVRUWC3KGNLJIOREFP5LQ,AGYYVPDD7YG7FYNBX...   \n",
       "2  AGU3BBQ2V2DDAMOAKGFAWDDQ6QHA,AESFLDV2PT363T2AQ...   \n",
       "3  AEWAZDZZJLQUYVOVGBEUKSLXHQ5A,AG5HTSFRRE6NL3M5S...   \n",
       "4  AE3Q6KSUK5P75D5HFYHCRAOLODSA,AFUGIFH5ZAFXRDSZH...   \n",
       "\n",
       "                                           user_name  \\\n",
       "0  Manav,Adarsh gupta,Sundeep,S.Sayeed Ahmed,jasp...   \n",
       "1  ArdKn,Nirbhay kumar,Sagar Viswanathan,Asp,Plac...   \n",
       "2  Kunal,Himanshu,viswanath,sai niharka,saqib mal...   \n",
       "3  Omkar dhale,JD,HEMALATHA,Ajwadh a.,amar singh ...   \n",
       "4  rahuls6099,Swasat Borah,Ajay Wadke,Pranali,RVK...   \n",
       "\n",
       "                                           review_id  \\\n",
       "0  R3HXWT0LRP0NMF,R2AJM3LFTLZHFO,R6AQJGUP6P86,R1K...   \n",
       "1  RGIQEG07R9HS2,R1SMWZQ86XIN8U,R2J3Y1WL29GWDE,RY...   \n",
       "2  R3J3EQQ9TZI5ZJ,R3E7WBGK7ID0KV,RWU79XKQ6I1QF,R2...   \n",
       "3  R3EEUZKKK9J36I,R3HJVYCLYOY554,REDECAZ7AMPQC,R1...   \n",
       "4  R1BP4L2HH9TFUP,R16PVJEXKV6QZS,R2UPDB81N66T4P,R...   \n",
       "\n",
       "                                        review_title  \\\n",
       "0  Satisfied,Charging is really fast,Value for mo...   \n",
       "1  A Good Braided Cable for Your Type C Device,Go...   \n",
       "2  Good speed for earlier versions,Good Product,W...   \n",
       "3  Good product,Good one,Nice,Really nice product...   \n",
       "4  As good as original,Decent,Good one for second...   \n",
       "\n",
       "                                      review_content  \\\n",
       "0  Looks durable Charging is fine tooNo complains...   \n",
       "1  I ordered this cable to connect my phone to An...   \n",
       "2  Not quite durable and sturdy,https://m.media-a...   \n",
       "3  Good product,long wire,Charges good,Nice,I bou...   \n",
       "4  Bought this instead of original apple, does th...   \n",
       "\n",
       "                                            img_link  \\\n",
       "0  https://m.media-amazon.com/images/W/WEBP_40237...   \n",
       "1  https://m.media-amazon.com/images/W/WEBP_40237...   \n",
       "2  https://m.media-amazon.com/images/W/WEBP_40237...   \n",
       "3  https://m.media-amazon.com/images/I/41V5FtEWPk...   \n",
       "4  https://m.media-amazon.com/images/W/WEBP_40237...   \n",
       "\n",
       "                                        product_link  \n",
       "0  https://www.amazon.in/Wayona-Braided-WN3LG1-Sy...  \n",
       "1  https://www.amazon.in/Ambrane-Unbreakable-Char...  \n",
       "2  https://www.amazon.in/Sounce-iPhone-Charging-C...  \n",
       "3  https://www.amazon.in/Deuce-300-Resistant-Tang...  \n",
       "4  https://www.amazon.in/Portronics-Konnect-POR-1...  "
      ]
     },
     "execution_count": 3,
     "metadata": {},
     "output_type": "execute_result"
    }
   ],
   "source": [
    "# To check the Dataset:\n",
    "df.head()"
   ]
  },
  {
   "cell_type": "code",
   "execution_count": 4,
   "metadata": {},
   "outputs": [
    {
     "data": {
      "text/plain": [
       "<bound method DataFrame.info of       product_id                                       product_name  \\\n",
       "0     B07JW9H4J1  Wayona Nylon Braided USB to Lightning Fast Cha...   \n",
       "1     B098NS6PVG  Ambrane Unbreakable 60W / 3A Fast Charging 1.5...   \n",
       "2     B096MSW6CT  Sounce Fast Phone Charging Cable & Data Sync U...   \n",
       "3     B08HDJ86NZ  boAt Deuce USB 300 2 in 1 Type-C & Micro USB S...   \n",
       "4     B08CF3B7N1  Portronics Konnect L 1.2M Fast Charging 3A 8 P...   \n",
       "...          ...                                                ...   \n",
       "1460  B08L7J3T31  Noir Aqua - 5pcs PP Spun Filter + 1 Spanner | ...   \n",
       "1461  B01M6453MB  Prestige Delight PRWO Electric Rice Cooker (1 ...   \n",
       "1462  B009P2LIL4  Bajaj Majesty RX10 2000 Watts Heat Convector R...   \n",
       "1463  B00J5DYCCA  Havells Ventil Air DSP 230mm Exhaust Fan (Pist...   \n",
       "1464  B01486F4G6  Borosil Jumbo 1000-Watt Grill Sandwich Maker (...   \n",
       "\n",
       "                                               category discounted_price  \\\n",
       "0     Computers&Accessories|Accessories&Peripherals|...             ₹399   \n",
       "1     Computers&Accessories|Accessories&Peripherals|...             ₹199   \n",
       "2     Computers&Accessories|Accessories&Peripherals|...             ₹199   \n",
       "3     Computers&Accessories|Accessories&Peripherals|...             ₹329   \n",
       "4     Computers&Accessories|Accessories&Peripherals|...             ₹154   \n",
       "...                                                 ...              ...   \n",
       "1460  Home&Kitchen|Kitchen&HomeAppliances|WaterPurif...             ₹379   \n",
       "1461  Home&Kitchen|Kitchen&HomeAppliances|SmallKitch...           ₹2,280   \n",
       "1462  Home&Kitchen|Heating,Cooling&AirQuality|RoomHe...           ₹2,219   \n",
       "1463  Home&Kitchen|Heating,Cooling&AirQuality|Fans|E...           ₹1,399   \n",
       "1464  Home&Kitchen|Kitchen&HomeAppliances|SmallKitch...           ₹2,863   \n",
       "\n",
       "     actual_price discount_percentage rating rating_count  \\\n",
       "0          ₹1,099                 64%    4.2       24,269   \n",
       "1            ₹349                 43%    4.0       43,994   \n",
       "2          ₹1,899                 90%    3.9        7,928   \n",
       "3            ₹699                 53%    4.2       94,363   \n",
       "4            ₹399                 61%    4.2       16,905   \n",
       "...           ...                 ...    ...          ...   \n",
       "1460         ₹919                 59%      4        1,090   \n",
       "1461       ₹3,045                 25%    4.1        4,118   \n",
       "1462       ₹3,080                 28%    3.6          468   \n",
       "1463       ₹1,890                 26%      4        8,031   \n",
       "1464       ₹3,690                 22%    4.3        6,987   \n",
       "\n",
       "                                          about_product  \\\n",
       "0     High Compatibility : Compatible With iPhone 12...   \n",
       "1     Compatible with all Type C enabled devices, be...   \n",
       "2     【 Fast Charger& Data Sync】-With built-in safet...   \n",
       "3     The boAt Deuce USB 300 2 in 1 cable is compati...   \n",
       "4     [CHARGE & SYNC FUNCTION]- This cable comes wit...   \n",
       "...                                                 ...   \n",
       "1460  SUPREME QUALITY 90 GRAM 3 LAYER THIK PP SPUN F...   \n",
       "1461                       230 Volts, 400 watts, 1 Year   \n",
       "1462  International design and styling|Two heat sett...   \n",
       "1463  Fan sweep area: 230 MM ; Noise level: (40 - 45...   \n",
       "1464  Brand-Borosil, Specification â€“ 23V ~ 5Hz;1 W...   \n",
       "\n",
       "                                                user_id  \\\n",
       "0     AG3D6O4STAQKAY2UVGEUV46KN35Q,AHMY5CWJMMK5BJRBB...   \n",
       "1     AECPFYFQVRUWC3KGNLJIOREFP5LQ,AGYYVPDD7YG7FYNBX...   \n",
       "2     AGU3BBQ2V2DDAMOAKGFAWDDQ6QHA,AESFLDV2PT363T2AQ...   \n",
       "3     AEWAZDZZJLQUYVOVGBEUKSLXHQ5A,AG5HTSFRRE6NL3M5S...   \n",
       "4     AE3Q6KSUK5P75D5HFYHCRAOLODSA,AFUGIFH5ZAFXRDSZH...   \n",
       "...                                                 ...   \n",
       "1460  AHITFY6AHALOFOHOZEOC6XBP4FEA,AFRABBODZJZQB6Z4U...   \n",
       "1461  AFG5FM3NEMOL6BNFRV2NK5FNJCHQ,AGEINTRN6Z563RMLH...   \n",
       "1462  AGVPWCMAHYQWJOQKMUJN4DW3KM5Q,AF4Q3E66MY4SR7YQZ...   \n",
       "1463  AF2JQCLSCY3QJATWUNNHUSVUPNQQ,AFDMLUXC5LS5RXDJS...   \n",
       "1464  AFGW5PT3R6ZAVQR4Y5MWVAKBZAYA,AG7QNJ2SCS5VS5VYY...   \n",
       "\n",
       "                                              user_name  \\\n",
       "0     Manav,Adarsh gupta,Sundeep,S.Sayeed Ahmed,jasp...   \n",
       "1     ArdKn,Nirbhay kumar,Sagar Viswanathan,Asp,Plac...   \n",
       "2     Kunal,Himanshu,viswanath,sai niharka,saqib mal...   \n",
       "3     Omkar dhale,JD,HEMALATHA,Ajwadh a.,amar singh ...   \n",
       "4     rahuls6099,Swasat Borah,Ajay Wadke,Pranali,RVK...   \n",
       "...                                                 ...   \n",
       "1460  Prabha ds,Raghuram bk,Real Deal,Amazon Custome...   \n",
       "1461  Manu Bhai,Naveenpittu,Evatira Sangma,JAGANNADH...   \n",
       "1462  Nehal Desai,Danish Parwez,Amazon Customer,Amaz...   \n",
       "1463  Shubham Dubey,E.GURUBARAN,Mayank S.,eusuf khan...   \n",
       "1464  Rajib,Ajay B,Vikas Kahol,PARDEEP,Anindya Prama...   \n",
       "\n",
       "                                              review_id  \\\n",
       "0     R3HXWT0LRP0NMF,R2AJM3LFTLZHFO,R6AQJGUP6P86,R1K...   \n",
       "1     RGIQEG07R9HS2,R1SMWZQ86XIN8U,R2J3Y1WL29GWDE,RY...   \n",
       "2     R3J3EQQ9TZI5ZJ,R3E7WBGK7ID0KV,RWU79XKQ6I1QF,R2...   \n",
       "3     R3EEUZKKK9J36I,R3HJVYCLYOY554,REDECAZ7AMPQC,R1...   \n",
       "4     R1BP4L2HH9TFUP,R16PVJEXKV6QZS,R2UPDB81N66T4P,R...   \n",
       "...                                                 ...   \n",
       "1460  R3G3XFHPBFF0E8,R3C0BZCD32EIGW,R2EBVBCN9QPD9R,R...   \n",
       "1461  R3DDL2UPKQ2CK9,R2SYYU1OATVIU5,R1VM993161IYRW,R...   \n",
       "1462  R1TLRJVW4STY5I,R2O455KRN493R1,R3Q5MVGBRIAS2G,R...   \n",
       "1463  R39Q2Y79MM9SWK,R3079BG1NIH6MB,R29A31ZELTZNJM,R...   \n",
       "1464  R20RBRZ0WEUJT9,ROKIFK9R2ISSE,R30EEG2FNJSN5I,R2...   \n",
       "\n",
       "                                           review_title  \\\n",
       "0     Satisfied,Charging is really fast,Value for mo...   \n",
       "1     A Good Braided Cable for Your Type C Device,Go...   \n",
       "2     Good speed for earlier versions,Good Product,W...   \n",
       "3     Good product,Good one,Nice,Really nice product...   \n",
       "4     As good as original,Decent,Good one for second...   \n",
       "...                                                 ...   \n",
       "1460  Received the product without spanner,Excellent...   \n",
       "1461  ok,everything was good couldn't return bcoz I ...   \n",
       "1462  very good,Work but front melt after 2 month,Go...   \n",
       "1463  Fan Speed is slow,Good quality,Good product,go...   \n",
       "1464  Works perfect,Ok good product,Nice Product. Re...   \n",
       "\n",
       "                                         review_content  \\\n",
       "0     Looks durable Charging is fine tooNo complains...   \n",
       "1     I ordered this cable to connect my phone to An...   \n",
       "2     Not quite durable and sturdy,https://m.media-a...   \n",
       "3     Good product,long wire,Charges good,Nice,I bou...   \n",
       "4     Bought this instead of original apple, does th...   \n",
       "...                                                 ...   \n",
       "1460  I received product without spanner,Excellent p...   \n",
       "1461  ok,got everything as mentioned but the measuri...   \n",
       "1462  plastic but cool body ,u have to find sturdy s...   \n",
       "1463  I have installed this in my kitchen working fi...   \n",
       "1464  It does it job perfectly..only issue is temp c...   \n",
       "\n",
       "                                               img_link  \\\n",
       "0     https://m.media-amazon.com/images/W/WEBP_40237...   \n",
       "1     https://m.media-amazon.com/images/W/WEBP_40237...   \n",
       "2     https://m.media-amazon.com/images/W/WEBP_40237...   \n",
       "3     https://m.media-amazon.com/images/I/41V5FtEWPk...   \n",
       "4     https://m.media-amazon.com/images/W/WEBP_40237...   \n",
       "...                                                 ...   \n",
       "1460  https://m.media-amazon.com/images/I/41fDdRtjfx...   \n",
       "1461  https://m.media-amazon.com/images/I/41gzDxk4+k...   \n",
       "1462  https://m.media-amazon.com/images/W/WEBP_40237...   \n",
       "1463  https://m.media-amazon.com/images/W/WEBP_40237...   \n",
       "1464  https://m.media-amazon.com/images/W/WEBP_40237...   \n",
       "\n",
       "                                           product_link  \n",
       "0     https://www.amazon.in/Wayona-Braided-WN3LG1-Sy...  \n",
       "1     https://www.amazon.in/Ambrane-Unbreakable-Char...  \n",
       "2     https://www.amazon.in/Sounce-iPhone-Charging-C...  \n",
       "3     https://www.amazon.in/Deuce-300-Resistant-Tang...  \n",
       "4     https://www.amazon.in/Portronics-Konnect-POR-1...  \n",
       "...                                                 ...  \n",
       "1460  https://www.amazon.in/Noir-Aqua-Spanner-Purifi...  \n",
       "1461  https://www.amazon.in/Prestige-Delight-PRWO-1-...  \n",
       "1462  https://www.amazon.in/Bajaj-RX-10-2000-Watt-Co...  \n",
       "1463  https://www.amazon.in/Havells-Ventilair-230mm-...  \n",
       "1464  https://www.amazon.in/Borosil-Jumbo-1000-Watt-...  \n",
       "\n",
       "[1465 rows x 16 columns]>"
      ]
     },
     "execution_count": 4,
     "metadata": {},
     "output_type": "execute_result"
    }
   ],
   "source": [
    "# information about Dataset:\n",
    "df.info"
   ]
  },
  {
   "cell_type": "code",
   "execution_count": 5,
   "metadata": {},
   "outputs": [
    {
     "data": {
      "text/plain": [
       "1465"
      ]
     },
     "execution_count": 5,
     "metadata": {},
     "output_type": "execute_result"
    }
   ],
   "source": [
    "# Length of Dataset:\n",
    "len(df)"
   ]
  },
  {
   "cell_type": "code",
   "execution_count": 6,
   "metadata": {},
   "outputs": [],
   "source": [
    "# Set the Options (rows & columns):\n",
    "pd.set_option('display.max_columns', None)\n",
    "pd.set_option('display.max_rows', None)"
   ]
  },
  {
   "cell_type": "code",
   "execution_count": 7,
   "metadata": {},
   "outputs": [
    {
     "data": {
      "text/html": [
       "<div>\n",
       "<style scoped>\n",
       "    .dataframe tbody tr th:only-of-type {\n",
       "        vertical-align: middle;\n",
       "    }\n",
       "\n",
       "    .dataframe tbody tr th {\n",
       "        vertical-align: top;\n",
       "    }\n",
       "\n",
       "    .dataframe thead th {\n",
       "        text-align: right;\n",
       "    }\n",
       "</style>\n",
       "<table border=\"1\" class=\"dataframe\">\n",
       "  <thead>\n",
       "    <tr style=\"text-align: right;\">\n",
       "      <th></th>\n",
       "      <th>product_id</th>\n",
       "      <th>product_name</th>\n",
       "      <th>category</th>\n",
       "      <th>discounted_price</th>\n",
       "      <th>actual_price</th>\n",
       "      <th>discount_percentage</th>\n",
       "      <th>rating</th>\n",
       "      <th>rating_count</th>\n",
       "      <th>about_product</th>\n",
       "      <th>user_id</th>\n",
       "      <th>user_name</th>\n",
       "      <th>review_id</th>\n",
       "      <th>review_title</th>\n",
       "      <th>review_content</th>\n",
       "      <th>img_link</th>\n",
       "      <th>product_link</th>\n",
       "    </tr>\n",
       "  </thead>\n",
       "  <tbody>\n",
       "    <tr>\n",
       "      <th>count</th>\n",
       "      <td>1465</td>\n",
       "      <td>1465</td>\n",
       "      <td>1465</td>\n",
       "      <td>1465</td>\n",
       "      <td>1465</td>\n",
       "      <td>1465</td>\n",
       "      <td>1465</td>\n",
       "      <td>1463</td>\n",
       "      <td>1465</td>\n",
       "      <td>1465</td>\n",
       "      <td>1465</td>\n",
       "      <td>1465</td>\n",
       "      <td>1465</td>\n",
       "      <td>1465</td>\n",
       "      <td>1465</td>\n",
       "      <td>1465</td>\n",
       "    </tr>\n",
       "    <tr>\n",
       "      <th>unique</th>\n",
       "      <td>1351</td>\n",
       "      <td>1337</td>\n",
       "      <td>211</td>\n",
       "      <td>550</td>\n",
       "      <td>449</td>\n",
       "      <td>92</td>\n",
       "      <td>28</td>\n",
       "      <td>1143</td>\n",
       "      <td>1293</td>\n",
       "      <td>1194</td>\n",
       "      <td>1194</td>\n",
       "      <td>1194</td>\n",
       "      <td>1194</td>\n",
       "      <td>1212</td>\n",
       "      <td>1412</td>\n",
       "      <td>1465</td>\n",
       "    </tr>\n",
       "    <tr>\n",
       "      <th>top</th>\n",
       "      <td>B08WRWPM22</td>\n",
       "      <td>Fire-Boltt Ninja Call Pro Plus 1.83\" Smart Wat...</td>\n",
       "      <td>Computers&amp;Accessories|Accessories&amp;Peripherals|...</td>\n",
       "      <td>₹199</td>\n",
       "      <td>₹999</td>\n",
       "      <td>50%</td>\n",
       "      <td>4.1</td>\n",
       "      <td>9,378</td>\n",
       "      <td>[CHARGE &amp; SYNC FUNCTION]- This cable comes wit...</td>\n",
       "      <td>AHIKJUDTVJ4T6DV6IUGFYZ5LXMPA,AE55KTFVNXYFD5FPY...</td>\n",
       "      <td>$@|\\|TO$|-|,Sethu madhav,Akash Thakur,Burger P...</td>\n",
       "      <td>R3F4T5TRYPTMIG,R3DQIEC603E7AY,R1O4Z15FD40PV5,R...</td>\n",
       "      <td>Worked on iPhone 7 and didn’t work on XR,Good ...</td>\n",
       "      <td>I am not big on camera usage, personally. I wa...</td>\n",
       "      <td>https://m.media-amazon.com/images/I/413sCRKobN...</td>\n",
       "      <td>https://www.amazon.in/Borosil-Jumbo-1000-Watt-...</td>\n",
       "    </tr>\n",
       "    <tr>\n",
       "      <th>freq</th>\n",
       "      <td>3</td>\n",
       "      <td>5</td>\n",
       "      <td>233</td>\n",
       "      <td>53</td>\n",
       "      <td>120</td>\n",
       "      <td>56</td>\n",
       "      <td>244</td>\n",
       "      <td>9</td>\n",
       "      <td>6</td>\n",
       "      <td>10</td>\n",
       "      <td>10</td>\n",
       "      <td>10</td>\n",
       "      <td>10</td>\n",
       "      <td>8</td>\n",
       "      <td>3</td>\n",
       "      <td>1</td>\n",
       "    </tr>\n",
       "  </tbody>\n",
       "</table>\n",
       "</div>"
      ],
      "text/plain": [
       "        product_id                                       product_name  \\\n",
       "count         1465                                               1465   \n",
       "unique        1351                                               1337   \n",
       "top     B08WRWPM22  Fire-Boltt Ninja Call Pro Plus 1.83\" Smart Wat...   \n",
       "freq             3                                                  5   \n",
       "\n",
       "                                                 category discounted_price  \\\n",
       "count                                                1465             1465   \n",
       "unique                                                211              550   \n",
       "top     Computers&Accessories|Accessories&Peripherals|...             ₹199   \n",
       "freq                                                  233               53   \n",
       "\n",
       "       actual_price discount_percentage rating rating_count  \\\n",
       "count          1465                1465   1465         1463   \n",
       "unique          449                  92     28         1143   \n",
       "top            ₹999                 50%    4.1        9,378   \n",
       "freq            120                  56    244            9   \n",
       "\n",
       "                                            about_product  \\\n",
       "count                                                1465   \n",
       "unique                                               1293   \n",
       "top     [CHARGE & SYNC FUNCTION]- This cable comes wit...   \n",
       "freq                                                    6   \n",
       "\n",
       "                                                  user_id  \\\n",
       "count                                                1465   \n",
       "unique                                               1194   \n",
       "top     AHIKJUDTVJ4T6DV6IUGFYZ5LXMPA,AE55KTFVNXYFD5FPY...   \n",
       "freq                                                   10   \n",
       "\n",
       "                                                user_name  \\\n",
       "count                                                1465   \n",
       "unique                                               1194   \n",
       "top     $@|\\|TO$|-|,Sethu madhav,Akash Thakur,Burger P...   \n",
       "freq                                                   10   \n",
       "\n",
       "                                                review_id  \\\n",
       "count                                                1465   \n",
       "unique                                               1194   \n",
       "top     R3F4T5TRYPTMIG,R3DQIEC603E7AY,R1O4Z15FD40PV5,R...   \n",
       "freq                                                   10   \n",
       "\n",
       "                                             review_title  \\\n",
       "count                                                1465   \n",
       "unique                                               1194   \n",
       "top     Worked on iPhone 7 and didn’t work on XR,Good ...   \n",
       "freq                                                   10   \n",
       "\n",
       "                                           review_content  \\\n",
       "count                                                1465   \n",
       "unique                                               1212   \n",
       "top     I am not big on camera usage, personally. I wa...   \n",
       "freq                                                    8   \n",
       "\n",
       "                                                 img_link  \\\n",
       "count                                                1465   \n",
       "unique                                               1412   \n",
       "top     https://m.media-amazon.com/images/I/413sCRKobN...   \n",
       "freq                                                    3   \n",
       "\n",
       "                                             product_link  \n",
       "count                                                1465  \n",
       "unique                                               1465  \n",
       "top     https://www.amazon.in/Borosil-Jumbo-1000-Watt-...  \n",
       "freq                                                    1  "
      ]
     },
     "execution_count": 7,
     "metadata": {},
     "output_type": "execute_result"
    }
   ],
   "source": [
    "# Statistical statement of Dataset:\n",
    "df.describe()"
   ]
  },
  {
   "cell_type": "code",
   "execution_count": 8,
   "metadata": {},
   "outputs": [
    {
     "data": {
      "text/plain": [
       "Index(['product_id', 'product_name', 'category', 'discounted_price',\n",
       "       'actual_price', 'discount_percentage', 'rating', 'rating_count',\n",
       "       'about_product', 'user_id', 'user_name', 'review_id', 'review_title',\n",
       "       'review_content', 'img_link', 'product_link'],\n",
       "      dtype='object')"
      ]
     },
     "execution_count": 8,
     "metadata": {},
     "output_type": "execute_result"
    }
   ],
   "source": [
    "# Columns of Dataset:\n",
    "df.columns"
   ]
  },
  {
   "cell_type": "markdown",
   "metadata": {},
   "source": [
    "## Checking the Missing Values of Dataset"
   ]
  },
  {
   "cell_type": "code",
   "execution_count": 9,
   "metadata": {},
   "outputs": [
    {
     "data": {
      "text/plain": [
       "product_id             0\n",
       "product_name           0\n",
       "category               0\n",
       "discounted_price       0\n",
       "actual_price           0\n",
       "discount_percentage    0\n",
       "rating                 0\n",
       "rating_count           2\n",
       "about_product          0\n",
       "user_id                0\n",
       "user_name              0\n",
       "review_id              0\n",
       "review_title           0\n",
       "review_content         0\n",
       "img_link               0\n",
       "product_link           0\n",
       "dtype: int64"
      ]
     },
     "execution_count": 9,
     "metadata": {},
     "output_type": "execute_result"
    }
   ],
   "source": [
    "df.isnull().sum()"
   ]
  },
  {
   "cell_type": "code",
   "execution_count": 10,
   "metadata": {},
   "outputs": [
    {
     "data": {
      "text/plain": [
       "np.int64(0)"
      ]
     },
     "execution_count": 10,
     "metadata": {},
     "output_type": "execute_result"
    }
   ],
   "source": [
    "# Checking the Duplicates:\n",
    "df.duplicated().sum()"
   ]
  },
  {
   "cell_type": "code",
   "execution_count": 11,
   "metadata": {},
   "outputs": [
    {
     "data": {
      "text/plain": [
       "211"
      ]
     },
     "execution_count": 11,
     "metadata": {},
     "output_type": "execute_result"
    }
   ],
   "source": [
    "df['category'].nunique()"
   ]
  },
  {
   "cell_type": "code",
   "execution_count": 12,
   "metadata": {},
   "outputs": [
    {
     "data": {
      "text/plain": [
       "category\n",
       "Computers&Accessories|Accessories&Peripherals|Cables&Accessories|Cables|USBCables                                          233\n",
       "Electronics|WearableTechnology|SmartWatches                                                                                 76\n",
       "Electronics|Mobiles&Accessories|Smartphones&BasicMobiles|Smartphones                                                        68\n",
       "Electronics|HomeTheater,TV&Video|Televisions|SmartTelevisions                                                               63\n",
       "Electronics|Headphones,Earbuds&Accessories|Headphones|In-Ear                                                                52\n",
       "Electronics|HomeTheater,TV&Video|Accessories|RemoteControls                                                                 49\n",
       "Home&Kitchen|Kitchen&HomeAppliances|SmallKitchenAppliances|MixerGrinders                                                    27\n",
       "Computers&Accessories|Accessories&Peripherals|Keyboards,Mice&InputDevices|Mice                                              24\n",
       "Electronics|HomeTheater,TV&Video|Accessories|Cables|HDMICables                                                              24\n",
       "Home&Kitchen|Kitchen&HomeAppliances|Vacuum,Cleaning&Ironing|Irons,Steamers&Accessories|Irons|DryIrons                       24\n",
       "Home&Kitchen|Heating,Cooling&AirQuality|WaterHeaters&Geysers|InstantWaterHeaters                                            23\n",
       "Home&Kitchen|Kitchen&HomeAppliances|Vacuum,Cleaning&Ironing|Irons,Steamers&Accessories|LintShavers                          22\n",
       "Home&Kitchen|Heating,Cooling&AirQuality|RoomHeaters|FanHeaters                                                              20\n",
       "Home&Kitchen|Heating,Cooling&AirQuality|RoomHeaters|ElectricHeaters                                                         20\n",
       "Home&Kitchen|Kitchen&HomeAppliances|SmallKitchenAppliances|HandBlenders                                                     19\n",
       "Home&Kitchen|Kitchen&HomeAppliances|SmallKitchenAppliances|Kettles&HotWaterDispensers|ElectricKettles                       19\n",
       "Computers&Accessories|NetworkingDevices|NetworkAdapters|WirelessUSBAdapters                                                 18\n",
       "Electronics|Mobiles&Accessories|MobileAccessories|Chargers|WallChargers                                                     16\n",
       "Computers&Accessories|Accessories&Peripherals|LaptopAccessories|Lapdesks                                                    14\n",
       "Electronics|Accessories|MemoryCards|MicroSD                                                                                 13\n",
       "Home&Kitchen|HomeStorage&Organization|LaundryOrganization|LaundryBaskets                                                    13\n",
       "Home&Kitchen|Kitchen&HomeAppliances|SmallKitchenAppliances|Kettles&HotWaterDispensers|Kettle&ToasterSets                    13\n",
       "Electronics|Mobiles&Accessories|MobileAccessories|Chargers|PowerBanks                                                       12\n",
       "Home&Kitchen|Heating,Cooling&AirQuality|WaterHeaters&Geysers|StorageWaterHeaters                                            12\n",
       "Home&Kitchen|Kitchen&HomeAppliances|SmallKitchenAppliances|JuicerMixerGrinders                                              12\n",
       "Home&Kitchen|Kitchen&HomeAppliances|Vacuum,Cleaning&Ironing|Irons,Steamers&Accessories|Irons|SteamIrons                     12\n",
       "Home&Kitchen|Kitchen&HomeAppliances|WaterPurifiers&Accessories|WaterFilters&Purifiers                                       12\n",
       "Home&Kitchen|Heating,Cooling&AirQuality|Fans|CeilingFans                                                                    11\n",
       "Home&Kitchen|Kitchen&HomeAppliances|SmallKitchenAppliances|EggBoilers                                                       11\n",
       "Computers&Accessories|Accessories&Peripherals|Keyboards,Mice&InputDevices|GraphicTablets                                    11\n",
       "Home&Kitchen|Kitchen&HomeAppliances|SmallKitchenAppliances|SandwichMakers                                                   11\n",
       "Home&Kitchen|Kitchen&HomeAppliances|WaterPurifiers&Accessories|WaterPurifierAccessories                                     11\n",
       "Home&Kitchen|Kitchen&HomeAppliances|SmallKitchenAppliances|DigitalKitchenScales                                             10\n",
       "Home&Kitchen|Kitchen&HomeAppliances|SmallKitchenAppliances|InductionCooktop                                                 10\n",
       "Computers&Accessories|ExternalDevices&DataStorage|PenDrives                                                                 10\n",
       "Computers&Accessories|Accessories&Peripherals|Keyboards,Mice&InputDevices|Keyboard&MouseSets                                10\n",
       "Electronics|Mobiles&Accessories|MobileAccessories|Stands                                                                    10\n",
       "Electronics|Mobiles&Accessories|Smartphones&BasicMobiles|BasicMobiles                                                        9\n",
       "Home&Kitchen|Heating,Cooling&AirQuality|WaterHeaters&Geysers|ImmersionRods                                                   9\n",
       "Computers&Accessories|NetworkingDevices|Routers                                                                              9\n",
       "Computers&Accessories|Accessories&Peripherals|Keyboards,Mice&InputDevices|Keyboard&MiceAccessories|MousePads                 8\n",
       "Electronics|Headphones,Earbuds&Accessories|Headphones|On-Ear                                                                 8\n",
       "Electronics|Mobiles&Accessories|MobileAccessories|StylusPens                                                                 8\n",
       "Home&Kitchen|Kitchen&HomeAppliances|SmallKitchenAppliances|MiniFoodProcessors&Choppers                                       8\n",
       "Home&Kitchen|Kitchen&HomeAppliances|Vacuum,Cleaning&Ironing|Vacuums&FloorCare|Vacuums|HandheldVacuums                        8\n",
       "OfficeProducts|OfficePaperProducts|Paper|Stationery|Notebooks,WritingPads&Diaries|CompositionNotebooks                       7\n",
       "Electronics|GeneralPurposeBatteries&BatteryChargers|DisposableBatteries                                                      7\n",
       "Electronics|Mobiles&Accessories|MobileAccessories|Maintenance,Upkeep&Repairs|ScreenProtectors                                7\n",
       "Home&Kitchen|Kitchen&HomeAppliances|SmallKitchenAppliances|VacuumSealers                                                     7\n",
       "Computers&Accessories|ExternalDevices&DataStorage|ExternalHardDisks                                                          6\n",
       "Electronics|HomeAudio|Speakers|BluetoothSpeakers                                                                             6\n",
       "Electronics|HomeTheater,TV&Video|Accessories|TVMounts,Stands&Turntables|TVWall&CeilingMounts                                 6\n",
       "Electronics|HomeTheater,TV&Video|Televisions|StandardTelevisions                                                             6\n",
       "Home&Kitchen|Kitchen&HomeAppliances|Vacuum,Cleaning&Ironing|Vacuums&FloorCare|Vacuums|Wet-DryVacuums                         6\n",
       "Computers&Accessories|Accessories&Peripherals|PCGamingPeripherals|GamingMice                                                 6\n",
       "Computers&Accessories|Accessories&Peripherals|LaptopAccessories|Bags&Sleeves|LaptopSleeves&Slipcases                         6\n",
       "Home&Kitchen|Kitchen&HomeAppliances|SmallKitchenAppliances|Rice&PastaCookers                                                 5\n",
       "Computers&Accessories|Accessories&Peripherals|LaptopAccessories|LaptopChargers&PowerSupplies                                 5\n",
       "Computers&Accessories|Accessories&Peripherals|TabletAccessories|ScreenProtectors                                             5\n",
       "Computers&Accessories|Accessories&Peripherals|USBHubs                                                                        5\n",
       "Electronics|Cameras&Photography|SecurityCameras|DomeCameras                                                                  5\n",
       "Computers&Accessories|Accessories&Peripherals|Keyboards,Mice&InputDevices|Keyboards                                          5\n",
       "Electronics|Mobiles&Accessories|MobileAccessories|Chargers|AutomobileChargers                                                5\n",
       "Computers&Accessories|Accessories&Peripherals|USBGadgets|Lamps                                                               5\n",
       "Electronics|Mobiles&Accessories|MobileAccessories|Décor                                                                      5\n",
       "Electronics|Mobiles&Accessories|MobileAccessories|Photo&VideoAccessories|SelfieSticks                                        5\n",
       "Home&Kitchen|Kitchen&HomeAppliances|Coffee,Tea&Espresso|DripCoffeeMachines                                                   5\n",
       "Home&Kitchen|Kitchen&HomeAppliances|SmallKitchenAppliances|DeepFatFryers|AirFryers                                           5\n",
       "OfficeProducts|OfficePaperProducts|Paper|Stationery|Notebooks,WritingPads&Diaries|WireboundNotebooks                         4\n",
       "Computers&Accessories|Printers,Inks&Accessories|Inks,Toners&Cartridges|InkjetInkCartridges                                   4\n",
       "Home&Kitchen|Heating,Cooling&AirQuality|AirPurifiers|HEPAAirPurifiers                                                        4\n",
       "Electronics|HomeAudio|Speakers|OutdoorSpeakers                                                                               4\n",
       "Home&Kitchen|Kitchen&HomeAppliances|Vacuum,Cleaning&Ironing|Vacuums&FloorCare|Vacuums|CanisterVacuums                        4\n",
       "Electronics|GeneralPurposeBatteries&BatteryChargers                                                                          4\n",
       "Electronics|Mobiles&Accessories|MobileAccessories|Cases&Covers|BasicCases                                                    4\n",
       "Home&Kitchen|Kitchen&HomeAppliances|SewingMachines&Accessories|Sewing&EmbroideryMachines                                     4\n",
       "Electronics|HomeTheater,TV&Video|SatelliteEquipment|SatelliteReceivers                                                       3\n",
       "Computers&Accessories|Accessories&Peripherals|HardDiskBags                                                                   3\n",
       "Electronics|GeneralPurposeBatteries&BatteryChargers|RechargeableBatteries                                                    3\n",
       "Electronics|Mobiles&Accessories|MobileAccessories|AutomobileAccessories|Cradles                                              3\n",
       "Computers&Accessories|Accessories&Peripherals|Cables&Accessories|CableConnectionProtectors                                   3\n",
       "Computers&Accessories|Accessories&Peripherals|LaptopAccessories|NotebookComputerStands                                       3\n",
       "Computers&Accessories|Accessories&Peripherals|LaptopAccessories|CameraPrivacyCovers                                          3\n",
       "Computers&Accessories|Accessories&Peripherals|PCGamingPeripherals|GamingKeyboards                                            3\n",
       "Computers&Accessories|Accessories&Peripherals|PCGamingPeripherals|Headsets                                                   3\n",
       "Home&Kitchen|CraftMaterials|PaintingMaterials|Paints                                                                         3\n",
       "Computers&Accessories|NetworkingDevices|Repeaters&Extenders                                                                  3\n",
       "Electronics|HomeTheater,TV&Video|Projectors                                                                                  3\n",
       "Electronics|HomeTheater,TV&Video|Accessories|Cables|OpticalCables                                                            3\n",
       "Home&Kitchen|Kitchen&HomeAppliances|SmallKitchenAppliances|HandMixers                                                        3\n",
       "Home&Kitchen|Kitchen&HomeAppliances|Coffee,Tea&Espresso|MilkFrothers                                                         3\n",
       "Home&Kitchen|Kitchen&HomeAppliances|WaterPurifiers&Accessories|WaterCartridges                                               3\n",
       "Home&Kitchen|Heating,Cooling&AirQuality|Fans|ExhaustFans                                                                     3\n",
       "Home&Kitchen|Kitchen&HomeAppliances|SmallKitchenAppliances|Pop-upToasters                                                    3\n",
       "Home&Kitchen|Kitchen&HomeAppliances|Vacuum,Cleaning&Ironing|PressureWashers,Steam&WindowCleaners                             3\n",
       "Computers&Accessories|Components|InternalSolidStateDrives                                                                    3\n",
       "OfficeProducts|OfficePaperProducts|Paper|Stationery|Pens,Pencils&WritingSupplies|Pens&Refills|StickBallpointPens             3\n",
       "Computers&Accessories|Printers,Inks&Accessories|Printers                                                                     3\n",
       "Computers&Accessories|Accessories&Peripherals|PCGamingPeripherals|Gamepads                                                   3\n",
       "Home&Kitchen|Kitchen&HomeAppliances|SmallKitchenAppliances|WaffleMakers&Irons                                                3\n",
       "Home&Kitchen|Kitchen&HomeAppliances|Coffee,Tea&Espresso|CoffeeMakerAccessories|MeasuringSpoons                               3\n",
       "Home&Kitchen|Heating,Cooling&AirQuality|Humidifiers                                                                          3\n",
       "Home&Kitchen|Kitchen&HomeAppliances|SmallKitchenAppliances|OvenToasterGrills                                                 2\n",
       "Home&Kitchen|Kitchen&HomeAppliances|Vacuum,Cleaning&Ironing|Vacuums&FloorCare|Vacuums|RoboticVacuums                         2\n",
       "Electronics|Cameras&Photography|Accessories|Tripods&Monopods|TripodLegs                                                      2\n",
       "OfficeProducts|OfficePaperProducts|Paper|Stationery|Notebooks,WritingPads&Diaries|Notepads&MemoBooks                         2\n",
       "Computers&Accessories|Monitors                                                                                               2\n",
       "OfficeProducts|OfficePaperProducts|Paper|Stationery|Pens,Pencils&WritingSupplies|Pens&Refills|GelInkRollerballPens           2\n",
       "Electronics|Mobiles&Accessories|MobileAccessories|Cables&Adapters|OTGAdapters                                                2\n",
       "Electronics|Mobiles&Accessories|MobileAccessories|Mounts|Bedstand&DeskMounts                                                 2\n",
       "Electronics|Headphones,Earbuds&Accessories|Adapters                                                                          2\n",
       "Electronics|Headphones,Earbuds&Accessories|Headphones|Over-Ear                                                               2\n",
       "Computers&Accessories|Accessories&Peripherals|Adapters|USBtoUSBAdapters                                                      2\n",
       "Electronics|Cameras&Photography|Accessories|Tripods&Monopods|Tabletop&TravelTripods                                          2\n",
       "OfficeProducts|OfficeElectronics|Calculators|Scientific                                                                      2\n",
       "MusicalInstruments|Microphones|Condenser                                                                                     2\n",
       "Electronics|HomeTheater,TV&Video|Accessories|Cables|RCACables                                                                2\n",
       "Home&Kitchen|Kitchen&HomeAppliances|SmallKitchenAppliances|Juicers                                                           2\n",
       "Home&Kitchen|HomeStorage&Organization|LaundryOrganization|IroningAccessories|SprayBottles                                    2\n",
       "Home&Kitchen|Heating,Cooling&AirQuality|RoomHeaters                                                                          2\n",
       "Home&Kitchen|Heating,Cooling&AirQuality|RoomHeaters|HalogenHeaters                                                           2\n",
       "Home&Kitchen|Kitchen&HomeAppliances|SmallKitchenAppliances|DigitalKitchenScales|DigitalScales                                2\n",
       "Home&Kitchen|Heating,Cooling&AirQuality|RoomHeaters|HeatConvectors                                                           2\n",
       "Home&Kitchen|Kitchen&HomeAppliances|SmallKitchenAppliances|Mills&Grinders|WetGrinders                                        2\n",
       "Computers&Accessories|Accessories&Peripherals|Audio&VideoAccessories|Webcams&VoIPEquipment|Webcams                           2\n",
       "Computers&Accessories|Accessories&Peripherals|Cables&Accessories|Cables|EthernetCables                                       2\n",
       "Computers&Accessories|Accessories&Peripherals|Audio&VideoAccessories|PCMicrophones                                           2\n",
       "Home&Kitchen|Heating,Cooling&AirQuality|Fans|TableFans                                                                       2\n",
       "OfficeProducts|OfficePaperProducts|Paper|Stationery|Pens,Pencils&WritingSupplies|Pens&Refills|BottledInk                     2\n",
       "Computers&Accessories|Printers,Inks&Accessories|Printers|InkjetPrinters                                                      2\n",
       "OfficeProducts|OfficePaperProducts|Paper|Stationery|Pens,Pencils&WritingSupplies|Pens&Refills|LiquidInkRollerballPens        2\n",
       "Computers&Accessories|Accessories&Peripherals|TabletAccessories|Bags,Cases&Sleeves|Cases                                     2\n",
       "Computers&Accessories|Accessories&Peripherals|LaptopAccessories|CoolingPads                                                  2\n",
       "OfficeProducts|OfficePaperProducts|Paper|Stationery|Pens,Pencils&WritingSupplies|Pens&Refills|RetractableBallpointPens       2\n",
       "Computers&Accessories|Accessories&Peripherals|Audio&VideoAccessories|PCSpeakers                                              2\n",
       "Computers&Accessories|Accessories&Peripherals|Keyboards,Mice&InputDevices|Keyboard&MiceAccessories|DustCovers                2\n",
       "Electronics|HomeAudio|Accessories|Adapters                                                                                   1\n",
       "Computers&Accessories|Accessories&Peripherals|Cables&Accessories|Cables|DVICables                                            1\n",
       "Electronics|HomeTheater,TV&Video|Accessories|Cables|SpeakerCables                                                            1\n",
       "Electronics|HomeAudio|Accessories|SpeakerAccessories|Mounts                                                                  1\n",
       "Electronics|Mobiles&Accessories|MobileAccessories|Mounts|HandlebarMounts                                                     1\n",
       "Electronics|Mobiles&Accessories|MobileAccessories|Décor|PhoneCharms                                                          1\n",
       "Electronics|Mobiles&Accessories|MobileAccessories|Mounts|Shower&WallMounts                                                   1\n",
       "Electronics|HomeAudio|MediaStreamingDevices|StreamingClients                                                                 1\n",
       "Electronics|HomeTheater,TV&Video|AVReceivers&Amplifiers                                                                      1\n",
       "Electronics|HomeAudio|Speakers|TowerSpeakers                                                                                 1\n",
       "Electronics|HomeTheater,TV&Video|Accessories|3DGlasses                                                                       1\n",
       "Electronics|Cameras&Photography|Accessories|Cleaners|CleaningKits                                                            1\n",
       "Electronics|Cameras&Photography|Accessories|Film                                                                             1\n",
       "Computers&Accessories|NetworkingDevices|NetworkAdapters|BluetoothAdapters                                                    1\n",
       "Electronics|Cameras&Photography|Accessories|Tripods&Monopods|CompleteTripodUnits                                             1\n",
       "Electronics|Cameras&Photography|Flashes|Macro&RinglightFlashes                                                               1\n",
       "Computers&Accessories|NetworkingDevices                                                                                      1\n",
       "Electronics|Cameras&Photography|VideoCameras                                                                                 1\n",
       "Home&Kitchen|CraftMaterials|Scrapbooking|Tape                                                                                1\n",
       "Electronics|Mobiles&Accessories|MobileAccessories|Photo&VideoAccessories|Tripods                                             1\n",
       "OfficeProducts|OfficePaperProducts|Paper|Stationery|Pens,Pencils&WritingSupplies|Pens&Refills|FountainPens                   1\n",
       "Computers&Accessories|Laptops|TraditionalLaptops                                                                             1\n",
       "OfficeProducts|OfficeElectronics|Calculators|Financial&Business                                                              1\n",
       "Computers&Accessories|Accessories&Peripherals|HardDriveAccessories|Caddies                                                   1\n",
       "Computers&Accessories|NetworkingDevices|NetworkAdapters|PowerLANAdapters                                                     1\n",
       "Computers&Accessories|Printers,Inks&Accessories|Inks,Toners&Cartridges|InkjetInkRefills&Kits                                 1\n",
       "OfficeProducts|OfficePaperProducts|Paper|Stationery|Notebooks,WritingPads&Diaries                                            1\n",
       "Home&Kitchen|CraftMaterials|DrawingMaterials|DrawingMedia|Pencils|WoodenPencils                                              1\n",
       "Computers&Accessories|Components|InternalHardDrives                                                                          1\n",
       "Computers&Accessories|Accessories&Peripherals|Cables&Accessories|Cables|SATACables                                           1\n",
       "Home&Kitchen|CraftMaterials|DrawingMaterials|DrawingMedia|Pens                                                               1\n",
       "Computers&Accessories|Accessories&Peripherals|Audio&VideoAccessories|PCHeadsets                                              1\n",
       "Electronics|HomeAudio|Speakers|SoundbarSpeakers                                                                              1\n",
       "Computers&Accessories|Components|Memory                                                                                      1\n",
       "Electronics|Mobiles&Accessories|MobileAccessories|Photo&VideoAccessories|Flashes&SelfieLights|SelfieLights                   1\n",
       "OfficeProducts|OfficePaperProducts|Paper|Copy&PrintingPaper|ColouredPaper                                                    1\n",
       "HomeImprovement|Electrical|Adapters&Multi-Outlets                                                                            1\n",
       "Computers&Accessories|Accessories&Peripherals|TabletAccessories|Stands                                                       1\n",
       "Computers&Accessories|Accessories&Peripherals|LaptopAccessories                                                              1\n",
       "Electronics|Accessories|MemoryCards|SecureDigitalCards                                                                       1\n",
       "Electronics|HomeAudio|Speakers|MultimediaSpeakerSystems                                                                      1\n",
       "Computers&Accessories|NetworkingDevices|DataCards&Dongles                                                                    1\n",
       "Electronics|Cameras&Photography|Accessories|Batteries&Chargers|BatteryChargers                                               1\n",
       "Computers&Accessories|ExternalDevices&DataStorage|ExternalMemoryCardReaders                                                  1\n",
       "Electronics|Headphones,Earbuds&Accessories|Cases                                                                             1\n",
       "Computers&Accessories|Accessories&Peripherals|UninterruptedPowerSupplies                                                     1\n",
       "OfficeProducts|OfficeElectronics|Calculators|Basic                                                                           1\n",
       "Computers&Accessories|Tablets                                                                                                1\n",
       "HomeImprovement|Electrical|CordManagement                                                                                    1\n",
       "Home&Kitchen|CraftMaterials|PaintingMaterials                                                                                1\n",
       "Computers&Accessories|Printers,Inks&Accessories|Inks,Toners&Cartridges|TonerCartridges                                       1\n",
       "Electronics|Cameras&Photography|Accessories|PhotoStudio&Lighting|PhotoBackgroundAccessories|BackgroundSupports               1\n",
       "Electronics|PowerAccessories|SurgeProtectors                                                                                 1\n",
       "Electronics|Headphones,Earbuds&Accessories|Earpads                                                                           1\n",
       "Toys&Games|Arts&Crafts|Drawing&PaintingSupplies|ColouringPens&Markers                                                        1\n",
       "Computers&Accessories|ExternalDevices&DataStorage|ExternalSolidStateDrives                                                   1\n",
       "Home&Kitchen|Kitchen&Dining|KitchenTools|ManualChoppers&Chippers|Choppers                                                    1\n",
       "Home&Kitchen|Kitchen&HomeAppliances|Coffee,Tea&Espresso|CoffeeGrinders|ElectricGrinders                                      1\n",
       "Car&Motorbike|CarAccessories|InteriorAccessories|AirPurifiers&Ionizers                                                       1\n",
       "Health&PersonalCare|HomeMedicalSupplies&Equipment|HealthMonitors|WeighingScales|DigitalBathroomScales                        1\n",
       "Home&Kitchen|Kitchen&HomeAppliances|Coffee,Tea&Espresso|EspressoMachines                                                     1\n",
       "Home&Kitchen|Kitchen&HomeAppliances|SmallKitchenAppliances                                                                   1\n",
       "Home&Kitchen|HomeStorage&Organization|LaundryOrganization|LaundryBags                                                        1\n",
       "Home&Kitchen|Kitchen&HomeAppliances|SmallKitchenAppliances|YogurtMakers                                                      1\n",
       "Home&Kitchen|Kitchen&HomeAppliances|SmallKitchenAppliances|Juicers|ColdPressJuicers                                          1\n",
       "Home&Kitchen|Heating,Cooling&AirQuality|AirConditioners|Split-SystemAirConditioners                                          1\n",
       "Home&Kitchen|Kitchen&HomeAppliances|SmallKitchenAppliances|SmallApplianceParts&Accessories|StandMixerAccessories             1\n",
       "Home&Kitchen|Kitchen&HomeAppliances|SmallKitchenAppliances|SmallApplianceParts&Accessories                                   1\n",
       "Home&Kitchen|Kitchen&HomeAppliances|Coffee,Tea&Espresso|StovetopEspressoPots                                                 1\n",
       "Home&Kitchen|Kitchen&HomeAppliances|Coffee,Tea&Espresso|CoffeePresses                                                        1\n",
       "Home&Kitchen|Kitchen&HomeAppliances|SmallKitchenAppliances|RotiMakers                                                        1\n",
       "Home&Kitchen|Heating,Cooling&AirQuality|Parts&Accessories|FanParts&Accessories                                               1\n",
       "Home&Kitchen|Kitchen&HomeAppliances|SmallKitchenAppliances|StandMixers                                                       1\n",
       "Home&Kitchen|Heating,Cooling&AirQuality|Fans|PedestalFans                                                                    1\n",
       "Home&Kitchen|Kitchen&HomeAppliances|Vacuum,Cleaning&Ironing|Vacuums&FloorCare|VacuumAccessories|VacuumBags|HandheldBags      1\n",
       "Name: count, dtype: int64"
      ]
     },
     "execution_count": 12,
     "metadata": {},
     "output_type": "execute_result"
    }
   ],
   "source": [
    "df['category'].value_counts()"
   ]
  },
  {
   "cell_type": "code",
   "execution_count": 13,
   "metadata": {},
   "outputs": [
    {
     "data": {
      "text/plain": [
       "28"
      ]
     },
     "execution_count": 13,
     "metadata": {},
     "output_type": "execute_result"
    }
   ],
   "source": [
    "df['rating'].nunique()"
   ]
  },
  {
   "cell_type": "code",
   "execution_count": 14,
   "metadata": {},
   "outputs": [],
   "source": [
    "df_1 = df.groupby(['category', 'product_id'])['rating'].value_counts().sort_values(ascending=False)\n"
   ]
  },
  {
   "cell_type": "code",
   "execution_count": 15,
   "metadata": {},
   "outputs": [
    {
     "data": {
      "text/plain": [
       "category                                                                                                                 product_id  rating\n",
       "Computers&Accessories|Accessories&Peripherals|Cables&Accessories|Cables|USBCables                                        B08CF3B7N1  4.2       3\n",
       "                                                                                                                         B083342NKJ  4.4       3\n",
       "                                                                                                                         B08DDRGWTJ  4.3       3\n",
       "                                                                                                                         B09KLVMZ3B  4.1       3\n",
       "                                                                                                                         B09C6HXFC1  4.5       3\n",
       "                                                                                                                         B09NHVCHS9  4.0       3\n",
       "                                                                                                                         B09CMP1SC8  4.1       3\n",
       "                                                                                                                         B09W5XR9RT  4.4       3\n",
       "                                                                                                                         B085DTN6R2  4.2       3\n",
       "                                                                                                                         B08HDJ86NZ  4.2       3\n",
       "                                                                                                                         B077Z65HSD  4.3       3\n",
       "                                                                                                                         B07XLCFSSN  4.4       3\n",
       "                                                                                                                         B08CF3D7QR  4.3       3\n",
       "                                                                                                                         B08R69VDHT  4.0       3\n",
       "                                                                                                                         B01GGKYKQM  4.3       3\n",
       "                                                                                                                         B08WRWPM22  4.1       3\n",
       "                                                                                                                         B08Y1TFSP6  3.9       3\n",
       "                                                                                                                         B09YLXYP7Y  4.0       3\n",
       "                                                                                                                         B07JW9H4J1  4.2       3\n",
       "                                                                                                                         B096MSW6CT  3.9       3\n",
       "                                                                                                                         B098NS6PVG  4.0       3\n",
       "                                                                                                                         B082T6V3DT  4.3       3\n",
       "                                                                                                                         B0B4HJNPV4  3.9       2\n",
       "Computers&Accessories|NetworkingDevices|NetworkAdapters|WirelessUSBAdapters                                              B07P681N66  4.4       2\n",
       "Electronics|Accessories|MemoryCards|MicroSD                                                                              B07DJLFMPS  4.0       2\n",
       "Electronics|HomeTheater,TV&Video|Accessories|Cables|HDMICables                                                           B07KSMBL2H  4.4       2\n",
       "Electronics|HomeTheater,TV&Video|Televisions|SmartTelevisions                                                            B09F6S8BT6  4.3       2\n",
       "Computers&Accessories|Accessories&Peripherals|Cables&Accessories|Cables|USBCables                                        B0B5ZF3NRK  4.1       2\n",
       "Electronics|HomeTheater,TV&Video|Televisions|SmartTelevisions                                                            B09F9YQQ7B  4.2       2\n",
       "Electronics|Accessories|MemoryCards|MicroSD                                                                              B09MT84WV5  4.3       2\n",
       "Computers&Accessories|Accessories&Peripherals|Cables&Accessories|Cables|USBCables                                        B09Q8HMKZX  4.1       2\n",
       "Electronics|Mobiles&Accessories|MobileAccessories|Chargers|PowerBanks                                                    B07RD611Z8  4.1       2\n",
       "Electronics|Headphones,Earbuds&Accessories|Headphones|On-Ear                                                             B01FSYQ2A4  4.1       2\n",
       "Computers&Accessories|Accessories&Peripherals|Cables&Accessories|Cables|USBCables                                        B01GGKZ0V6  4.2       2\n",
       "                                                                                                                         B08QSC1XY8  4.3       2\n",
       "Electronics|Accessories|MemoryCards|MicroSD                                                                              B0BDRVFDKP  4.4       2\n",
       "Computers&Accessories|Accessories&Peripherals|Cables&Accessories|Cables|USBCables                                        B09RWZRCP1  4.1       2\n",
       "                                                                                                                         B0789LZTCJ  4.2       2\n",
       "Computers&Accessories|NetworkingDevices|NetworkAdapters|WirelessUSBAdapters                                              B002PD61Y4  4.1       2\n",
       "Computers&Accessories|Accessories&Peripherals|Cables&Accessories|Cables|USBCables                                        B09RZS1NQT  4.0       2\n",
       "Computers&Accessories|Accessories&Peripherals|LaptopAccessories|CameraPrivacyCovers                                      B08BQ947H3  4.3       2\n",
       "Electronics|Headphones,Earbuds&Accessories|Adapters                                                                      B08BCKN299  3.9       2\n",
       "Computers&Accessories|Accessories&Peripherals|Cables&Accessories|Cables|USBCables                                        B08WRBG3XW  4.1       2\n",
       "Electronics|HomeTheater,TV&Video|Accessories|Cables|HDMICables                                                           B01M4GGIVU  4.2       2\n",
       "Computers&Accessories|Accessories&Peripherals|Cables&Accessories|Cables|USBCables                                        B07GVGTSLN  4.2       2\n",
       "                                                                                                                         B0B86CDHL1  4.5       2\n",
       "                                                                                                                         B08Y1SJVV5  3.9       2\n",
       "Computers&Accessories|NetworkingDevices|NetworkAdapters|WirelessUSBAdapters                                              B07KRCW6LZ  4.3       2\n",
       "Computers&Accessories|Accessories&Peripherals|Cables&Accessories|Cables|USBCables                                        B0BFWGBX61  4.1       2\n",
       "                                                                                                                         B0BMXMLSMM  4.5       2\n",
       "                                                                                                                         B094JNXNPV  4.0       2\n",
       "                                                                                                                         B09C6HWG18  4.2       2\n",
       "                                                                                                                         B09CMM3VGK  4.0       2\n",
       "                                                                                                                         B0B4DT8MKT  4.2       2\n",
       "Electronics|Mobiles&Accessories|MobileAccessories|Chargers|AutomobileChargers                                            B07WG8PDCW  4.0       2\n",
       "Computers&Accessories|Accessories&Peripherals|Cables&Accessories|Cables|USBCables                                        B07XJYYH7L  3.3       2\n",
       "                                                                                                                         B07232M876  4.2       2\n",
       "Electronics|Headphones,Earbuds&Accessories|Headphones|In-Ear                                                             B01DEWVZ2C  4.1       2\n",
       "Computers&Accessories|Accessories&Peripherals|Cables&Accessories|Cables|USBCables                                        B0B2DJDCPX  3.9       2\n",
       "Electronics|HomeTheater,TV&Video|Televisions|SmartTelevisions                                                            B08DPLCM6T  4.3       2\n",
       "Computers&Accessories|Accessories&Peripherals|Cables&Accessories|Cables|USBCables                                        B082LSVT4B  4.0       2\n",
       "                                                                                                                         B082LZGK39  4.0       2\n",
       "                                                                                                                         B0994GFWBH  4.0       2\n",
       "Electronics|HomeTheater,TV&Video|Accessories|Cables|HDMICables                                                           B085194JFL  3.7       2\n",
       "Computers&Accessories|NetworkingDevices|NetworkAdapters|WirelessUSBAdapters                                              B0141EZMAI  3.6       2\n",
       "Computers&Accessories|Accessories&Peripherals|Cables&Accessories|Cables|USBCables                                        B08CDKQ8T6  4.3       2\n",
       "Electronics|Mobiles&Accessories|MobileAccessories|Chargers|WallChargers                                                  B078G6ZF5Z  4.0       2\n",
       "Electronics|Mobiles&Accessories|MobileAccessories|Décor                                                                  B08MTCKDYN  4.1       2\n",
       "                                                                                                                         B09Z6WH2N1  4.2       2\n",
       "Electronics|Mobiles&Accessories|MobileAccessories|Photo&VideoAccessories|SelfieSticks                                    B094YFFSMY  4.0       2\n",
       "                                                                                                                         B0B9BXKBC7  4.6       2\n",
       "Electronics|Mobiles&Accessories|MobileAccessories|StylusPens                                                             B08K4PSZ3V  3.8       2\n",
       "                                                                                                                         B09KGV7WSV  4.3       2\n",
       "                                                                                                                         B0B9BD2YL4  4.5       2\n",
       "Electronics|WearableTechnology|SmartWatches                                                                              B0949SBKMP  4.0       2\n",
       "                                                                                                                         B096VF5YYF  4.1       2\n",
       "                                                                                                                         B097R25DP7  4.0       2\n",
       "                                                                                                                         B09MQSCJQ1  4.2       2\n",
       "                                                                                                                         B09NVPSCQT  4.0       2\n",
       "                                                                                                                         B09V12K8NT  3.9       2\n",
       "                                                                                                                         B09YV4MW2T  4.2       2\n",
       "                                                                                                                         B09YV4RG4D  4.2       2\n",
       "                                                                                                                         B09ZQK9X8G  4.1       2\n",
       "                                                                                                                         B0B3MWYCHQ  4.2       2\n",
       "                                                                                                                         B0B3N7LR6K  4.3       2\n",
       "                                                                                                                         B0B3RRWSF6  4.3       2\n",
       "                                                                                                                         B0B5B6PQCT  3.8       2\n",
       "                                                                                                                         B0B5LVS732  4.1       2\n",
       "Computers&Accessories|Accessories&Peripherals|Cables&Accessories|CableConnectionProtectors                               B085HY1DGR  4.0       2\n",
       "Computers&Accessories|Accessories&Peripherals|Cables&Accessories|Cables|USBCables                                        B008FWZGSG  4.3       2\n",
       "                                                                                                                         B00NH11KIK  4.5       2\n",
       "                                                                                                                         B00NH11PEY  4.5       2\n",
       "                                                                                                                         B0162LYSFS  4.1       1\n",
       "                                                                                                                         B01GGKZ4NU  4.2       1\n",
       "                                                                                                                         B01LONQBDG  4.1       1\n",
       "                                                                                                                         B0711PVX6Z  4.2       1\n",
       "                                                                                                                         B071SDRGWL  4.3       1\n",
       "                                                                                                                         B07924P3C5  4.2       1\n",
       "                                                                                                                         B07CRL2GY6  4.2       1\n",
       "                                                                                                                         B07CWDX49D  4.3       1\n",
       "                                                                                                                         B07CWNJLPC  4.3       1\n",
       "                                                                                                                         B07DC4RZPY  4.1       1\n",
       "                                                                                                                         B07DWFX9YS  4.2       1\n",
       "                                                                                                                         B07F1P8KNV  4.2       1\n",
       "                                                                                                                         B07HZ2QCGR  3.9       1\n",
       "                                                                                                                         B07JGDB5M1  4.2       1\n",
       "                                                                                                                         B07JH1C41D  4.2       1\n",
       "                                                                                                                         B07JH1CBGW  4.2       1\n",
       "                                                                                                                         B07JNVF678  4.2       1\n",
       "                                                                                                                         B07JPJJZ2H  4.2       1\n",
       "                                                                                                                         B07JW1Y6XV  4.2       1\n",
       "                                                                                                                         B07LGT55SJ  4.2       1\n",
       "                                                                                                                         B07PFJ5VQD  4.3       1\n",
       "                                                                                                                         B07YTNKVJQ  4.3       1\n",
       "                                                                                                                         B081FG1QYX  4.3       1\n",
       "                                                                                                                         B081FJWN52  4.3       1\n",
       "                                                                                                                         B082T6GVG9  4.2       1\n",
       "                                                                                                                         B082T6GVLJ  4.3       1\n",
       "                                                                                                                         B082T6GXS5  4.5       1\n",
       "                                                                                                                         B084MZXJN6  4.4       1\n",
       "                                                                                                                         B084MZXJNK  4.4       1\n",
       "                                                                                                                         B084MZYBTV  4.5       1\n",
       "                                                                                                                         B084N133Y7  4.4       1\n",
       "                                                                                                                         B084N18QZY  4.5       1\n",
       "                                                                                                                         B084N1BM9L  4.4       1\n",
       "                                                                                                                         B086JTMRYL  4.4       1\n",
       "                                                                                                                         B08CHKQ8D4  4.1       1\n",
       "                                                                                                                         B08CT62BM1  4.3       1\n",
       "                                                                                                                         B08CTNJ985  4.3       1\n",
       "                                                                                                                         B08G1RW2Q3  4.0       1\n",
       "                                                                                                                         B08H5L8V1L  4.3       1\n",
       "                                                                                                                         B08HDH26JX  4.2       1\n",
       "                                                                                                                         B08LKS3LSP  3.7       1\n",
       "                                                                                                                         B08N1WL9XW  4.0       1\n",
       "                                                                                                                         B08NCKT9FG  4.4       1\n",
       "                                                                                                                         B08NW8GHCJ  4.3       1\n",
       "                                                                                                                         B08P9RYPLR  4.0       1\n",
       "                                                                                                                         B08PSQRW2T  4.1       1\n",
       "                                                                                                                         B08PSVBB2X  4.1       1\n",
       "                                                                                                                         B08QSDKFGQ  4.3       1\n",
       "                                                                                                                         B08R69WBN7  4.0       1\n",
       "                                                                                                                         B08RP2L2NL  3.5       1\n",
       "                                                                                                                         B08V9C4B1J  4.3       1\n",
       "                                                                                                                         B08WKFSN84  4.3       1\n",
       "                                                                                                                         B08WKG2MWT  4.3       1\n",
       "                                                                                                                         B08XMG618K  4.1       1\n",
       "                                                                                                                         B08XXVXP3J  4.3       1\n",
       "                                                                                                                         B08Y5KXR6Z  3.9       1\n",
       "                                                                                                                         B0941392C8  3.7       1\n",
       "                                                                                                                         B095244Q22  3.7       1\n",
       "                                                                                                                         B0974G5Q2Y  4.3       1\n",
       "                                                                                                                         B0974H97TJ  4.4       1\n",
       "                                                                                                                         B0981XSZJ7  4.3       1\n",
       "                                                                                                                         B09BW2GP18  3.9       1\n",
       "                                                                                                                         B09C6FML9B  4.1       1\n",
       "                                                                                                                         B09C6H53KH  4.2       1\n",
       "                                                                                                                         B09CMQRQM6  4.2       1\n",
       "                                                                                                                         B09G5TSGXV  4.0       1\n",
       "                                                                                                                         B09HV71RL1  4.1       1\n",
       "                                                                                                                         B09JSW16QD  3.9       1\n",
       "                                                                                                                         B09KH58JZR  4.1       1\n",
       "                                                                                                                         B09NJN8L25  4.0       1\n",
       "                                                                                                                         B09NKZXMWJ  4.0       1\n",
       "                                                                                                                         B09NL4DJ2Z  4.0       1\n",
       "                                                                                                                         B09PNR6F8Q  4.0       1\n",
       "                                                                                                                         B09PTT8DZF  3.9       1\n",
       "                                                                                                                         B09Q8WQ5QJ  4.1       1\n",
       "                                                                                                                         B09QGZFBPM  4.3       1\n",
       "                                                                                                                         B09QGZM8QB  4.3       1\n",
       "                                                                                                                         B09RX1FK54  4.1       1\n",
       "                                                                                                                         B09SB6SJB4  4.1       1\n",
       "                                                                                                                         B09VH568H7  3.8       1\n",
       "                                                                                                                         B09VT6JKRP  4.1       1\n",
       "                                                                                                                         B09X79PP8F  3.9       1\n",
       "                                                                                                                         B09YLX91QR  4.0       1\n",
       "                                                                                                                         B09YLYB9PB  4.0       1\n",
       "                                                                                                                         B0B21C4BMX  3.8       1\n",
       "                                                                                                                         B0B3MQXNFB  4.0       1\n",
       "                                                                                                                         B0B3N8VG24  4.0       1\n",
       "                                                                                                                         B0B3RHX6B6  3.9       1\n",
       "                                                                                                                         B0B4G2MWSB  4.0       1\n",
       "                                                                                                                         B0B4HKH19N  3.9       1\n",
       "                                                                                                                         B0B4T6MR8N  3.9       1\n",
       "                                                                                                                         B0B4T8RSJ1  3.9       1\n",
       "                                                                                                                         B0B5F3YZY4  4.0       1\n",
       "                                                                                                                         B0B61GCHC1  4.3       1\n",
       "                                                                                                                         B0B61HYR92  4.2       1\n",
       "                                                                                                                         B0B65MJ45G  3.9       1\n",
       "                                                                                                                         B0B65P827P  3.9       1\n",
       "Computers&Accessories|Accessories&Peripherals|Audio&VideoAccessories|PCSpeakers                                          B08K9PX15C  4.0       1\n",
       "Computers&Accessories|Accessories&Peripherals|Cables&Accessories|Cables|USBCables                                        B0B8SRZ5SV  4.4       1\n",
       "                                                                                                                         B0B8SSC5D9  4.4       1\n",
       "                                                                                                                         B0B8SSZ76F  4.2       1\n",
       "                                                                                                                         B0B94JPY2N  3.0       1\n",
       "                                                                                                                         B0BP7XLX48  5.0       1\n",
       "                                                                                                                         B0BQRJ3C47  5.0       1\n",
       "Computers&Accessories|Accessories&Peripherals|HardDiskBags                                                               B00NNQMYNE  4.5       1\n",
       "                                                                                                                         B0765B3TH7  4.5       1\n",
       "                                                                                                                         B07NTKGW45  4.0       1\n",
       "Computers&Accessories|Accessories&Peripherals|HardDriveAccessories|Caddies                                               B07W14CHV8  4.1       1\n",
       "Computers&Accessories|Accessories&Peripherals|Keyboards,Mice&InputDevices|GraphicTablets                                 B078HRR1XV  4.4       1\n",
       "                                                                                                                         B07H8W9PB6  4.1       1\n",
       "                                                                                                                         B07PLHTTB4  3.5       1\n",
       "                                                                                                                         B08CZHGHKH  3.9       1\n",
       "                                                                                                                         B08WD18LJZ  4.0       1\n",
       "                                                                                                                         B09939XJX8  4.0       1\n",
       "                                                                                                                         B09CTRPSJR  3.8       1\n",
       "                                                                                                                         B09GFN8WZL  4.1       1\n",
       "                                                                                                                         B09P564ZTJ  3.8       1\n",
       "                                                                                                                         B09VC2D2WG  4.1       1\n",
       "                                                                                                                         B0BBMPH39N  4.1       1\n",
       "Computers&Accessories|Accessories&Peripherals|Keyboards,Mice&InputDevices|Keyboard&MiceAccessories|DustCovers            B00MFPCY5C  3.5       1\n",
       "                                                                                                                         B0994GP1CX  3.3       1\n",
       "Computers&Accessories|Accessories&Peripherals|Keyboards,Mice&InputDevices|Keyboard&MiceAccessories|MousePads             B07S7DCJKS  4.3       1\n",
       "                                                                                                                         B08461VC1Z  4.5       1\n",
       "                                                                                                                         B08QJJCY2Q  4.4       1\n",
       "                                                                                                                         B08WJ86PV2  4.5       1\n",
       "                                                                                                                         B08WLY8V9S  4.5       1\n",
       "                                                                                                                         B09MZ6WZ6V  4.4       1\n",
       "                                                                                                                         B0B2PQL5N3  4.2       1\n",
       "                                                                                                                         B0B9LDCX89  4.2       1\n",
       "Computers&Accessories|Accessories&Peripherals|Keyboards,Mice&InputDevices|Keyboard&MouseSets                             B00CEQEGPI  4.2       1\n",
       "                                                                                                                         B012MQS060  4.1       1\n",
       "                                                                                                                         B01N4EV2TL  4.3       1\n",
       "                                                                                                                         B07BRKK9JQ  4.3       1\n",
       "                                                                                                                         B07KR5P3YD  3.9       1\n",
       "                                                                                                                         B07V82W5CN  4.0       1\n",
       "                                                                                                                         B087FXHB6J  3.5       1\n",
       "                                                                                                                         B09GBBJV72  3.9       1\n",
       "                                                                                                                         B09T3H12GV  4.2       1\n",
       "                                                                                                                         B0BHYJ8CVF  4.1       1\n",
       "Computers&Accessories|Accessories&Peripherals|Keyboards,Mice&InputDevices|Keyboards                                      B00MUTWLW4  4.4       1\n",
       "                                                                                                                         B00ZYLMQH0  4.3       1\n",
       "                                                                                                                         B0148NPH9I  4.5       1\n",
       "                                                                                                                         B077T3BG5L  3.6       1\n",
       "                                                                                                                         B08CF4SCNP  3.8       1\n",
       "Computers&Accessories|Accessories&Peripherals|Keyboards,Mice&InputDevices|Mice                                           B003L62T7W  4.3       1\n",
       "                                                                                                                         B004IO5BMQ  4.5       1\n",
       "                                                                                                                         B009VCGPSY  4.3       1\n",
       "                                                                                                                         B01HJI0FS2  4.5       1\n",
       "                                                                                                                         B01J0XWYKQ  4.4       1\n",
       "                                                                                                                         B01KK0HU3Y  4.2       1\n",
       "                                                                                                                         B01M72LILF  4.4       1\n",
       "                                                                                                                         B01MQ2A86A  4.6       1\n",
       "                                                                                                                         B073BRXPZX  4.4       1\n",
       "                                                                                                                         B079Y6JZC8  3.8       1\n",
       "                                                                                                                         B07J2NGB69  4.4       1\n",
       "                                                                                                                         B07JPX9CR7  4.4       1\n",
       "                                                                                                                         B07L9FW9GF  4.0       1\n",
       "                                                                                                                         B07X2L5Z8C  4.6       1\n",
       "                                                                                                                         B083RCTXLL  4.2       1\n",
       "                                                                                                                         B083RD1J99  4.1       1\n",
       "                                                                                                                         B08LW31NQ6  4.5       1\n",
       "                                                                                                                         B08Y7MXFMK  4.2       1\n",
       "                                                                                                                         B08YDFX7Y1  3.5       1\n",
       "                                                                                                                         B098JYT4SY  4.1       1\n",
       "                                                                                                                         B099SD8PRP  4.4       1\n",
       "                                                                                                                         B09GB5B4BK  4.0       1\n",
       "                                                                                                                         B09ZHCJDP1  5.0       1\n",
       "                                                                                                                         B0B296NTFV  4.1       1\n",
       "Computers&Accessories|Accessories&Peripherals|LaptopAccessories                                                          B086394NY5  4.3       1\n",
       "Computers&Accessories|Accessories&Peripherals|LaptopAccessories|Bags&Sleeves|LaptopSleeves&Slipcases                     B00C3GBCIS  4.2       1\n",
       "                                                                                                                         B07LFWP97N  4.1       1\n",
       "                                                                                                                         B07Z1X6VFC  4.4       1\n",
       "                                                                                                                         B07Z1YVP72  4.3       1\n",
       "                                                                                                                         B07Z1Z77ZZ  4.3       1\n",
       "                                                                                                                         B08TR61BVK  4.2       1\n",
       "Computers&Accessories|Accessories&Peripherals|LaptopAccessories|CameraPrivacyCovers                                      B09RF2QXGX  4.3       1\n",
       "Computers&Accessories|Accessories&Peripherals|LaptopAccessories|CoolingPads                                              B07YWS9SP9  4.0       1\n",
       "                                                                                                                         B082FTPRSK  4.2       1\n",
       "Computers&Accessories|Accessories&Peripherals|LaptopAccessories|Lapdesks                                                 B0798PJPCL  4.3       1\n",
       "                                                                                                                         B07MSLTW8Z  3.6       1\n",
       "                                                                                                                         B07TR5HSR9  4.3       1\n",
       "                                                                                                                         B08HQL67D6  4.0       1\n",
       "                                                                                                                         B08MZQBFLN  4.0       1\n",
       "                                                                                                                         B08WKCTFF3  4.4       1\n",
       "                                                                                                                         B08YD264ZS  4.3       1\n",
       "                                                                                                                         B09B9SPC7F  4.1       1\n",
       "                                                                                                                         B09XX51X2G  4.0       1\n",
       "                                                                                                                         B09Z28BQZT  3.9       1\n",
       "                                                                                                                         B09Z7YGV3R  4.0       1\n",
       "                                                                                                                         B0B72BSW7K  3.5       1\n",
       "                                                                                                                         B0BCVJ3PVP  4.5       1\n",
       "                                                                                                                         B0BHVPTM2C  4.0       1\n",
       "Computers&Accessories|Accessories&Peripherals|LaptopAccessories|LaptopChargers&PowerSupplies                             B01IOZUHRS  4.1       1\n",
       "                                                                                                                         B01NBX5RSB  4.3       1\n",
       "                                                                                                                         B07DJ5KYDZ  4.4       1\n",
       "                                                                                                                         B07L1N3TJX  3.6       1\n",
       "                                                                                                                         B084BR3QX8  3.5       1\n",
       "Computers&Accessories|Accessories&Peripherals|LaptopAccessories|NotebookComputerStands                                   B07XCM6T4N  4.3       1\n",
       "                                                                                                                         B08LHTJTBB  4.4       1\n",
       "                                                                                                                         B08PFSZ7FH  4.2       1\n",
       "Computers&Accessories|Accessories&Peripherals|PCGamingPeripherals|Gamepads                                               B01J1CFO5I  4.6       1\n",
       "                                                                                                                         B0756CLQWL  4.2       1\n",
       "                                                                                                                         B08J4PL1Z3  4.0       1\n",
       "Computers&Accessories|Accessories&Peripherals|PCGamingPeripherals|GamingKeyboards                                        B08498D67S  4.3       1\n",
       "                                                                                                                         B08498H13H  4.3       1\n",
       "                                                                                                                         B09BVCVTBC  4.5       1\n",
       "Computers&Accessories|Accessories&Peripherals|PCGamingPeripherals|GamingMice                                             B00NFD0ETQ  4.6       1\n",
       "                                                                                                                         B0819HZPXL  4.4       1\n",
       "                                                                                                                         B08497Z1MQ  4.3       1\n",
       "                                                                                                                         B08CHZ3ZQ7  4.3       1\n",
       "                                                                                                                         B08D64C9FN  4.2       1\n",
       "                                                                                                                         B08LT9BMPP  4.5       1\n",
       "Computers&Accessories|Accessories&Peripherals|PCGamingPeripherals|Headsets                                               B079S811J3  4.3       1\n",
       "                                                                                                                         B07T9FV9YP  4.0       1\n",
       "                                                                                                                         B09MDCZJXS  3.8       1\n",
       "Computers&Accessories|Accessories&Peripherals|TabletAccessories|Bags,Cases&Sleeves|Cases                                 B07YNHCW6N  4.3       1\n",
       "                                                                                                                         B07Z53L5QL  4.3       1\n",
       "Computers&Accessories|Accessories&Peripherals|TabletAccessories|ScreenProtectors                                         B07TMCXRFV  4.5       1\n",
       "                                                                                                                         B07Z3K96FR  4.1       1\n",
       "                                                                                                                         B08CTQP51L  4.2       1\n",
       "                                                                                                                         B09Q3M3WLJ  4.0       1\n",
       "                                                                                                                         B0B2CPVXHX  4.1       1\n",
       "Computers&Accessories|Accessories&Peripherals|TabletAccessories|Stands                                                   B017PDR9N0  4.1       1\n",
       "Computers&Accessories|Accessories&Peripherals|USBGadgets|Lamps                                                           B00URH5E34  3.6       1\n",
       "                                                                                                                         B07QMRHWJD  4.3       1\n",
       "                                                                                                                         B08TDJ5BVF  3.8       1\n",
       "                                                                                                                         B08TDJNM3G  3.8       1\n",
       "                                                                                                                         B09N6TTHT6  4.2       1\n",
       "Computers&Accessories|Accessories&Peripherals|USBHubs                                                                    B07GLNJC25  3.7       1\n",
       "                                                                                                                         B09163Q5CD  4.1       1\n",
       "                                                                                                                         B097JQ1J5G  3.4       1\n",
       "                                                                                                                         B09M869Z5V  4.2       1\n",
       "                                                                                                                         B09M8888DM  4.3       1\n",
       "Computers&Accessories|Accessories&Peripherals|UninterruptedPowerSupplies                                                 B016XVRKZM  3.9       1\n",
       "Computers&Accessories|Components|InternalHardDrives                                                                      B0BDS8MY8J  4.2       1\n",
       "Computers&Accessories|Components|InternalSolidStateDrives                                                                B07G3YNLJB  4.5       1\n",
       "                                                                                                                         B09TMZ1MF8  4.4       1\n",
       "                                                                                                                         B0B25LQQPC  4.3       1\n",
       "Computers&Accessories|Components|Memory                                                                                  B08C4Z69LN  4.5       1\n",
       "Computers&Accessories|ExternalDevices&DataStorage|ExternalHardDisks                                                      B06XDKWLJH  4.4       1\n",
       "                                                                                                                         B07222HQKP  4.3       1\n",
       "                                                                                                                         B07VTFN6HM  4.4       1\n",
       "                                                                                                                         B08ZJDWTJ1  4.5       1\n",
       "                                                                                                                         B094QZLJQ6  4.5       1\n",
       "                                                                                                                         B0BG62HMDJ  4.3       1\n",
       "Computers&Accessories|ExternalDevices&DataStorage|ExternalMemoryCardReaders                                              B07YL54NVJ  4.3       1\n",
       "Computers&Accessories|ExternalDevices&DataStorage|ExternalSolidStateDrives                                               B08GTYFC37  4.4       1\n",
       "Computers&Accessories|ExternalDevices&DataStorage|PenDrives                                                              B005FYNT3G  4.3       1\n",
       "                                                                                                                         B01EZ0X3L8  4.3       1\n",
       "                                                                                                                         B01L8ZNWN2  4.2       1\n",
       "                                                                                                                         B01LYLJ99X  4.2       1\n",
       "                                                                                                                         B01N6LU1VF  4.3       1\n",
       "                                                                                                                         B07JJFSG2B  4.3       1\n",
       "                                                                                                                         B07SLMR1K6  4.3       1\n",
       "                                                                                                                         B0819ZZK5K  4.3       1\n",
       "                                                                                                                         B084PJSSQ1  4.3       1\n",
       "                                                                                                                         B08JD36C6H  4.1       1\n",
       "Computers&Accessories|Laptops|TraditionalLaptops                                                                         B0B2RBP83P  4.0       1\n",
       "Computers&Accessories|Monitors                                                                                           B08J82K4GX  4.3       1\n",
       "                                                                                                                         B08L879JSN  4.2       1\n",
       "Computers&Accessories|NetworkingDevices                                                                                  B08HLZ28QC  4.1       1\n",
       "Computers&Accessories|NetworkingDevices|DataCards&Dongles                                                                B08KHM9VBJ  3.8       1\n",
       "Computers&Accessories|NetworkingDevices|NetworkAdapters|BluetoothAdapters                                                B098K3H92Z  4.3       1\n",
       "Computers&Accessories|NetworkingDevices|NetworkAdapters|PowerLANAdapters                                                 B08FYB5HHK  4.5       1\n",
       "Computers&Accessories|NetworkingDevices|NetworkAdapters|WirelessUSBAdapters                                              B002SZEOLG  4.2       1\n",
       "                                                                                                                         B0088TKTY2  4.2       1\n",
       "                                                                                                                         B008IFXQFU  4.2       1\n",
       "                                                                                                                         B00V4BGDKU  4.5       1\n",
       "                                                                                                                         B0117H7GZ6  3.4       1\n",
       "                                                                                                                         B07M69276N  4.4       1\n",
       "                                                                                                                         B0859M539M  4.4       1\n",
       "                                                                                                                         B08G43CCLC  4.2       1\n",
       "                                                                                                                         B093QCY6YJ  3.7       1\n",
       "                                                                                                                         B09LHXNZLR  3.7       1\n",
       "Computers&Accessories|NetworkingDevices|Repeaters&Extenders                                                              B00A0VCJPI  4.2       1\n",
       "                                                                                                                         B00EYW1U68  4.2       1\n",
       "                                                                                                                         B00KXULGJQ  4.2       1\n",
       "Computers&Accessories|NetworkingDevices|Routers                                                                          B0085IATT6  4.1       1\n",
       "                                                                                                                         B017NC2IPM  4.3       1\n",
       "                                                                                                                         B01HGCLUH6  4.2       1\n",
       "                                                                                                                         B0759QMF85  4.3       1\n",
       "                                                                                                                         B07GVR9TG7  4.4       1\n",
       "                                                                                                                         B07W9KYT62  4.4       1\n",
       "                                                                                                                         B07ZKD8T1Q  4.5       1\n",
       "                                                                                                                         B08FGNPQ9X  4.1       1\n",
       "                                                                                                                         B09MKG4ZCM  4.0       1\n",
       "Computers&Accessories|Printers,Inks&Accessories|Inks,Toners&Cartridges|InkjetInkCartridges                               B07L5L4GTB  4.4       1\n",
       "                                                                                                                         B07SY4C3TD  4.4       1\n",
       "                                                                                                                         B08CYNJ5KY  4.2       1\n",
       "                                                                                                                         B08CYPB15D  4.0       1\n",
       "Computers&Accessories|Printers,Inks&Accessories|Inks,Toners&Cartridges|InkjetInkRefills&Kits                             B07P434WJY  4.3       1\n",
       "Computers&Accessories|Printers,Inks&Accessories|Inks,Toners&Cartridges|TonerCartridges                                   B07KNM95JK  4.1       1\n",
       "Computers&Accessories|Printers,Inks&Accessories|Printers                                                                 B01JOFKL0A  3.9       1\n",
       "                                                                                                                         B08D9MNH4B  3.6       1\n",
       "                                                                                                                         B08D9NDZ1Y  3.5       1\n",
       "Computers&Accessories|Printers,Inks&Accessories|Printers|InkjetPrinters                                                  B01EJ5MM5M  3.4       1\n",
       "                                                                                                                         B09F5Z694W  3.8       1\n",
       "Computers&Accessories|Tablets                                                                                            B09XXZXQC1  4.6       1\n",
       "Electronics|Accessories|MemoryCards|MicroSD                                                                              B08L5FM4JC  4.4       1\n",
       "                                                                                                                         B08L5HMJVW  4.4       1\n",
       "                                                                                                                         B09MT6XSFW  4.3       1\n",
       "                                                                                                                         B09X7DY7Q4  4.5       1\n",
       "                                                                                                                         B0B2DD66GS  4.5       1\n",
       "                                                                                                                         B0BDYVC5TD  4.4       1\n",
       "                                                                                                                         B0BDYW3RN3  4.4       1\n",
       "Electronics|Accessories|MemoryCards|SecureDigitalCards                                                                   B08GYG6T12  4.4       1\n",
       "Electronics|Cameras&Photography|Accessories|Batteries&Chargers|BatteryChargers                                           B00N3XLDW0  3.8       1\n",
       "Electronics|Cameras&Photography|Accessories|Cleaners|CleaningKits                                                        B01IBRHE3E  4.2       1\n",
       "Electronics|Cameras&Photography|Accessories|Film                                                                         B00R1P3B4O  4.5       1\n",
       "Electronics|Cameras&Photography|Accessories|PhotoStudio&Lighting|PhotoBackgroundAccessories|BackgroundSupports           B088GXTJM3  4.3       1\n",
       "Electronics|Cameras&Photography|Accessories|Tripods&Monopods|CompleteTripodUnits                                         B074CWD7MS  4.4       1\n",
       "Electronics|Cameras&Photography|Accessories|Tripods&Monopods|Tabletop&TravelTripods                                      B07N42JB4S  4.3       1\n",
       "                                                                                                                         B07RZZ1QSW  4.4       1\n",
       "Electronics|Cameras&Photography|Accessories|Tripods&Monopods|TripodLegs                                                  B08B6XWQ1C  4.2       1\n",
       "                                                                                                                         B08LPJZSSW  3.9       1\n",
       "Electronics|Cameras&Photography|Flashes|Macro&RinglightFlashes                                                           B08MCD9JFY  3.8       1\n",
       "Electronics|Cameras&Photography|SecurityCameras|DomeCameras                                                              B07XLML2YS  4.2       1\n",
       "                                                                                                                         B07YFWVRCM  4.1       1\n",
       "                                                                                                                         B09CYTJV3N  4.3       1\n",
       "                                                                                                                         B09LD3116F  4.1       1\n",
       "                                                                                                                         B09NNHFSSF  3.8       1\n",
       "Electronics|Cameras&Photography|VideoCameras                                                                             B08FTFXNNB  3.7       1\n",
       "Electronics|GeneralPurposeBatteries&BatteryChargers                                                                      B00LVMTA2A  4.4       1\n",
       "                                                                                                                         B075DB1F13  4.4       1\n",
       "                                                                                                                         B08Y57TPDM  4.3       1\n",
       "                                                                                                                         B08Y5QJTVK  4.4       1\n",
       "Electronics|GeneralPurposeBatteries&BatteryChargers|DisposableBatteries                                                  B00E3DVQFS  4.4       1\n",
       "                                                                                                                         B00ZRBWPA0  4.3       1\n",
       "                                                                                                                         B014SZO90Y  4.5       1\n",
       "                                                                                                                         B014SZPBM4  4.4       1\n",
       "                                                                                                                         B01DJJVFPC  4.5       1\n",
       "                                                                                                                         B07Q7561HD  4.4       1\n",
       "                                                                                                                         B08QDPB1SL  4.4       1\n",
       "Electronics|GeneralPurposeBatteries&BatteryChargers|RechargeableBatteries                                                B003B00484  4.3       1\n",
       "                                                                                                                         B00BN5SNF0  3.9       1\n",
       "                                                                                                                         B015ZXUDD0  4.3       1\n",
       "Electronics|Headphones,Earbuds&Accessories|Cases                                                                         B07DKZCZ89  4.3       1\n",
       "Electronics|Headphones,Earbuds&Accessories|Earpads                                                                       B08X77LM8C  3.8       1\n",
       "Electronics|Headphones,Earbuds&Accessories|Headphones|In-Ear                                                             B01DF26V7A  4.1       1\n",
       "                                                                                                                         B01F25X6RQ  4.2       1\n",
       "                                                                                                                         B01F262EUU  4.2       1\n",
       "                                                                                                                         B01MF8MB65  4.1       1\n",
       "                                                                                                                         B071Z8M4KX  4.1       1\n",
       "                                                                                                                         B07CD2BN46  4.1       1\n",
       "                                                                                                                         B07DFYJRQV  4.1       1\n",
       "                                                                                                                         B07GPXXNNG  4.1       1\n",
       "                                                                                                                         B07GQD4K6L  4.1       1\n",
       "                                                                                                                         B07JQKQ91F  3.9       1\n",
       "                                                                                                                         B07KY3FNQP  4.1       1\n",
       "                                                                                                                         B07LG59NPV  3.8       1\n",
       "                                                                                                                         B07QZ3CZ48  4.2       1\n",
       "                                                                                                                         B07S9S86BF  4.1       1\n",
       "                                                                                                                         B07T5DKR5D  3.5       1\n",
       "                                                                                                                         B07TCN5VR9  3.9       1\n",
       "                                                                                                                         B07XJWTYM2  4.1       1\n",
       "                                                                                                                         B083T5G5PM  4.1       1\n",
       "                                                                                                                         B085W8CFLH  3.5       1\n",
       "                                                                                                                         B086WMSCN3  3.9       1\n",
       "                                                                                                                         B08CFCK6CW  3.6       1\n",
       "                                                                                                                         B08D11DZ2W  3.7       1\n",
       "                                                                                                                         B08D75R3Z1  3.6       1\n",
       "                                                                                                                         B08D77XZX5  3.9       1\n",
       "                                                                                                                         B08FB2LNSZ  3.7       1\n",
       "                                                                                                                         B08FN6WGDQ  4.0       1\n",
       "                                                                                                                         B08G28Z33M  4.0       1\n",
       "                                                                                                                         B08H9Z3XQW  4.1       1\n",
       "                                                                                                                         B08JQN8DGZ  3.8       1\n",
       "                                                                                                                         B08MTLLSL8  4.2       1\n",
       "                                                                                                                         B08TV2P1N8  4.1       1\n",
       "                                                                                                                         B08VRMK55F  3.4       1\n",
       "                                                                                                                         B091JF2TFD  3.9       1\n",
       "                                                                                                                         B092X94QNQ  4.1       1\n",
       "                                                                                                                         B098R25TGC  3.8       1\n",
       "                                                                                                                         B09GFWJDY1  3.6       1\n",
       "                                                                                                                         B09N3ZNHTY  3.9       1\n",
       "                                                                                                                         B09ND94ZRG  3.5       1\n",
       "                                                                                                                         B09NR6G588  3.8       1\n",
       "                                                                                                                         B09PL79D2X  3.8       1\n",
       "                                                                                                                         B09SGGRKV8  3.6       1\n",
       "                                                                                                                         B09X76VL5L  3.7       1\n",
       "                                                                                                                         B09Y5MP7C4  3.9       1\n",
       "                                                                                                                         B09YLFHFDW  3.6       1\n",
       "                                                                                                                         B0B1F6GQPS  3.8       1\n",
       "                                                                                                                         B0B217Z5VK  3.9       1\n",
       "                                                                                                                         B0B2931FCV  3.5       1\n",
       "                                                                                                                         B0B31BYXQQ  3.9       1\n",
       "                                                                                                                         B0B31FR4Y2  3.7       1\n",
       "                                                                                                                         B0B5GJRTHB  4.2       1\n",
       "Electronics|Headphones,Earbuds&Accessories|Headphones|On-Ear                                                             B00Y4ORQ46  4.0       1\n",
       "                                                                                                                         B078W65FJ7  4.2       1\n",
       "                                                                                                                         B07L8KNP5F  3.8       1\n",
       "                                                                                                                         B07PR1CL3S  4.1       1\n",
       "                                                                                                                         B0856HNMR7  4.0       1\n",
       "                                                                                                                         B0873L7J6X  4.2       1\n",
       "Electronics|Headphones,Earbuds&Accessories|Headphones|Over-Ear                                                           B0856HY85J  4.1       1\n",
       "                                                                                                                         B08FY4FG5X  3.9       1\n",
       "Electronics|HomeAudio|Accessories|Adapters                                                                               B06XR9PR5X  4.4       1\n",
       "Electronics|HomeAudio|Accessories|SpeakerAccessories|Mounts                                                              B08L4SBJRY  4.0       1\n",
       "Electronics|HomeAudio|MediaStreamingDevices|StreamingClients                                                             B09LQQYNZQ  4.5       1\n",
       "Electronics|HomeAudio|Speakers|BluetoothSpeakers                                                                         B07B88KQZ8  4.3       1\n",
       "                                                                                                                         B07NC12T2R  4.2       1\n",
       "                                                                                                                         B07YNTJ8ZM  3.9       1\n",
       "                                                                                                                         B0814ZY6FP  3.8       1\n",
       "                                                                                                                         B08SMJT55F  4.2       1\n",
       "                                                                                                                         B0B12K5BPM  3.9       1\n",
       "Electronics|HomeAudio|Speakers|MultimediaSpeakerSystems                                                                  B07L3NDN24  3.9       1\n",
       "Electronics|HomeAudio|Speakers|OutdoorSpeakers                                                                           B07W6VWZ8C  4.1       1\n",
       "                                                                                                                         B07W7Z6DVL  4.1       1\n",
       "                                                                                                                         B08JMC1988  4.1       1\n",
       "                                                                                                                         B08S74GTBT  3.7       1\n",
       "Electronics|HomeAudio|Speakers|SoundbarSpeakers                                                                          B08CRRQK6Z  4.2       1\n",
       "Electronics|HomeAudio|Speakers|TowerSpeakers                                                                             B09LRZYBH1  3.8       1\n",
       "Electronics|HomeTheater,TV&Video|AVReceivers&Amplifiers                                                                  B0978V2CP6  4.0       1\n",
       "Electronics|HomeTheater,TV&Video|Accessories|3DGlasses                                                                   B097JVLW3L  3.5       1\n",
       "Electronics|HomeTheater,TV&Video|Accessories|Cables|HDMICables                                                           B00GG59HU2  4.4       1\n",
       "                                                                                                                         B014I8SSD0  4.4       1\n",
       "                                                                                                                         B014I8SX4Y  4.4       1\n",
       "                                                                                                                         B015OW3M1W  4.1       1\n",
       "                                                                                                                         B016MDK4F4  4.2       1\n",
       "                                                                                                                         B01D5H8ZI8  4.3       1\n",
       "                                                                                                                         B01D5H90L4  4.4       1\n",
       "                                                                                                                         B01M5967SY  4.2       1\n",
       "                                                                                                                         B0718ZN31Q  4.2       1\n",
       "                                                                                                                         B075ZTJ9XR  4.4       1\n",
       "                                                                                                                         B07RX14W1Q  4.4       1\n",
       "                                                                                                                         B07RY2X9MP  4.5       1\n",
       "                                                                                                                         B07VJ9ZTXS  4.0       1\n",
       "                                                                                                                         B07VSG5SXZ  4.1       1\n",
       "                                                                                                                         B08PPHFXG3  4.3       1\n",
       "                                                                                                                         B08TGG316Z  4.6       1\n",
       "                                                                                                                         B09HCH3JZG  4.4       1\n",
       "                                                                                                                         B0BBMGLQDW  4.2       1\n",
       "Electronics|HomeTheater,TV&Video|Accessories|Cables|OpticalCables                                                        B005LJQMCK  4.2       1\n",
       "                                                                                                                         B005LJQMZC  4.2       1\n",
       "                                                                                                                         B07KSB1MLX  4.0       1\n",
       "Electronics|HomeTheater,TV&Video|Accessories|Cables|RCACables                                                            B01D5H8LDM  4.4       1\n",
       "                                                                                                                         B06XFTHCNY  4.2       1\n",
       "Electronics|HomeTheater,TV&Video|Accessories|Cables|SpeakerCables                                                        B006LW0WDQ  4.4       1\n",
       "Electronics|HomeTheater,TV&Video|Accessories|RemoteControls                                                              B00RFWNJMC  3.7       1\n",
       "                                                                                                                         B01N90RZ4M  3.7       1\n",
       "                                                                                                                         B071VMP1Z4  3.9       1\n",
       "                                                                                                                         B07B275VN9  3.7       1\n",
       "                                                                                                                         B07DL1KC3H  4.0       1\n",
       "                                                                                                                         B07V5YF4ND  3.5       1\n",
       "                                                                                                                         B07ZR4S1G4  4.4       1\n",
       "                                                                                                                         B081NHWT6Z  3.9       1\n",
       "                                                                                                                         B0841KQR1Z  3.8       1\n",
       "                                                                                                                         B08BG4M4N7  3.8       1\n",
       "                                                                                                                         B08CKW1KH9  3.6       1\n",
       "                                                                                                                         B08DCVRW98  4.0       1\n",
       "                                                                                                                         B08GJNM9N7  3.7       1\n",
       "                                                                                                                         B08PKBMJKS  3.8       1\n",
       "                                                                                                                         B08RHPDNVV  3.5       1\n",
       "                                                                                                                         B08RWCZ6SY  3.9       1\n",
       "                                                                                                                         B08RX8G496  3.2       1\n",
       "                                                                                                                         B08RZ12GKR  3.5       1\n",
       "                                                                                                                         B08TZD7FQN  3.7       1\n",
       "                                                                                                                         B08XMSKKMM  3.3       1\n",
       "                                                                                                                         B08YXJJW8H  3.9       1\n",
       "                                                                                                                         B09127FZCK  3.8       1\n",
       "                                                                                                                         B093ZNQZ2Y  3.8       1\n",
       "                                                                                                                         B097ZQTDVZ  3.4       1\n",
       "                                                                                                                         B098LCVYPW  4.2       1\n",
       "                                                                                                                         B098TV3L96  3.8       1\n",
       "                                                                                                                         B09B125CFJ  3.6       1\n",
       "                                                                                                                         B09BW334ML  4.3       1\n",
       "                                                                                                                         B09C635BMM  4.0       1\n",
       "                                                                                                                         B09DDCQFMT  3.6       1\n",
       "                                                                                                                         B09F6D21BY  3.0       1\n",
       "                                                                                                                         B09H39KTTB  3.7       1\n",
       "                                                                                                                         B09HK9JH4F  4.2       1\n",
       "                                                                                                                         B09JKNF147  4.0       1\n",
       "                                                                                                                         B09L835C3V  4.2       1\n",
       "                                                                                                                         B09L8DSSFH  3.6       1\n",
       "                                                                                                                         B09L8DT7D6  3.8       1\n",
       "                                                                                                                         B09LV13JFB  3.3       1\n",
       "                                                                                                                         B09MM6P76N  4.2       1\n",
       "                                                                                                                         B09MMD1FDN  3.9       1\n",
       "                                                                                                                         B09P8M18QM  3.3       1\n",
       "                                                                                                                         B09RQRZW2X  3.7       1\n",
       "                                                                                                                         B09TT6BFDX  4.5       1\n",
       "                                                                                                                         B09TY4MSH3  3.3       1\n",
       "                                                                                                                         B09XJ1LM7R  4.3       1\n",
       "                                                                                                                         B09YHLPQYT  4.2       1\n",
       "                                                                                                                         B0BCKWZ884  4.3       1\n",
       "                                                                                                                         B0BCZCQTJX  4.0       1\n",
       "                                                                                                                         B0BHZCNC4P  3.7       1\n",
       "Electronics|HomeTheater,TV&Video|Accessories|TVMounts,Stands&Turntables|TVWall&CeilingMounts                             B0758F7KK7  4.0       1\n",
       "                                                                                                                         B07966M8XH  4.2       1\n",
       "                                                                                                                         B07VVXJ2P5  3.6       1\n",
       "                                                                                                                         B083GQGT3Z  4.1       1\n",
       "                                                                                                                         B09HN7LD5L  4.0       1\n",
       "                                                                                                                         B0B8ZKWGKD  4.3       1\n",
       "Electronics|HomeTheater,TV&Video|Projectors                                                                              B088Z1YWBC  3.9       1\n",
       "                                                                                                                         B0BLV1GNLN  4.0       1\n",
       "                                                                                                                         B0BNDD9TN6  4.5       1\n",
       "Electronics|HomeTheater,TV&Video|SatelliteEquipment|SatelliteReceivers                                                   B075TJHWVC  4.2       1\n",
       "                                                                                                                         B07YZG8PPY  4.3       1\n",
       "                                                                                                                         B0B8VQ7KDS  4.3       1\n",
       "Electronics|HomeTheater,TV&Video|Televisions|SmartTelevisions                                                            B084872DQY  4.3       1\n",
       "                                                                                                                         B087JWLZ2K  3.9       1\n",
       "                                                                                                                         B08B42LWKN  4.2       1\n",
       "                                                                                                                         B08CS3BT4L  4.2       1\n",
       "                                                                                                                         B08FD2VSD9  4.2       1\n",
       "                                                                                                                         B08PV1X771  4.3       1\n",
       "                                                                                                                         B08PZ6HZLT  4.0       1\n",
       "                                                                                                                         B08QX1CC14  3.4       1\n",
       "                                                                                                                         B08XXF5V6G  4.4       1\n",
       "                                                                                                                         B08Y55LPBF  4.2       1\n",
       "                                                                                                                         B092BJMT8Q  4.3       1\n",
       "                                                                                                                         B092BL5DCX  4.3       1\n",
       "                                                                                                                         B095JPKPH3  4.1       1\n",
       "                                                                                                                         B095JQVC7N  4.1       1\n",
       "                                                                                                                         B099K9ZX65  4.1       1\n",
       "                                                                                                                         B09DSXK8JX  4.2       1\n",
       "                                                                                                                         B09HQSV46W  4.2       1\n",
       "                                                                                                                         B09JPC82QC  4.3       1\n",
       "                                                                                                                         B09MJ77786  4.3       1\n",
       "                                                                                                                         B09NNGHG22  4.3       1\n",
       "                                                                                                                         B09NNJ9WYM  3.7       1\n",
       "                                                                                                                         B09PLD9TCD  4.2       1\n",
       "                                                                                                                         B09Q5P2MT3  4.2       1\n",
       "                                                                                                                         B09Q5SWVBJ  4.2       1\n",
       "                                                                                                                         B09RFC46VP  4.2       1\n",
       "                                                                                                                         B09RWQ7YR6  4.3       1\n",
       "                                                                                                                         B09T3KB6JZ  4.2       1\n",
       "                                                                                                                         B09VCHLSJF  4.2       1\n",
       "                                                                                                                         B09WN3SRC7  4.7       1\n",
       "                                                                                                                         B09X1M3DHX  4.2       1\n",
       "                                                                                                                         B09YL9SN9B  4.3       1\n",
       "                                                                                                                         B09ZPJT8B2  4.2       1\n",
       "                                                                                                                         B09ZPM4C2C  4.1       1\n",
       "                                                                                                                         B0B15CPR37  4.3       1\n",
       "                                                                                                                         B0B15GSPQW  4.3       1\n",
       "                                                                                                                         B0B16KD737  4.3       1\n",
       "                                                                                                                         B0B1YVCJ2Y  4.3       1\n",
       "                                                                                                                         B0B1YY6JJL  4.3       1\n",
       "                                                                                                                         B0B1YZ9CB8  4.3       1\n",
       "                                                                                                                         B0B1YZX72F  4.3       1\n",
       "                                                                                                                         B0B21XL94T  4.3       1\n",
       "                                                                                                                         B0B2C5MJN6  4.1       1\n",
       "                                                                                                                         B0B3MMYHYW  4.2       1\n",
       "                                                                                                                         B0B3XXSB1K  4.3       1\n",
       "                                                                                                                         B0B3XY5YT4  4.3       1\n",
       "                                                                                                                         B0B466C3G4  3.9       1\n",
       "                                                                                                                         B0B6F7LX4C  4.2       1\n",
       "                                                                                                                         B0B6F8HHR6  4.2       1\n",
       "                                                                                                                         B0B6F98KJJ  4.2       1\n",
       "                                                                                                                         B0B7B9V9QP  4.0       1\n",
       "                                                                                                                         B0B8CXTTG3  4.2       1\n",
       "                                                                                                                         B0B9959XF3  4.3       1\n",
       "                                                                                                                         B0B997FBZT  4.3       1\n",
       "                                                                                                                         B0B9XLX8VR  4.3       1\n",
       "                                                                                                                         B0BB3CBFBM  4.1       1\n",
       "                                                                                                                         B0BC8BQ432  4.3       1\n",
       "                                                                                                                         B0BC9BW512  4.3       1\n",
       "Electronics|HomeTheater,TV&Video|Televisions|StandardTelevisions                                                         B06XGWRKYT  3.8       1\n",
       "                                                                                                                         B07MDRGHWQ  4.2       1\n",
       "                                                                                                                         B07MKFNHKG  4.2       1\n",
       "                                                                                                                         B09F6VHQXB  4.1       1\n",
       "                                                                                                                         B0B467CCB9  3.8       1\n",
       "                                                                                                                         B0B9XN9S3W  4.3       1\n",
       "Electronics|Mobiles&Accessories|MobileAccessories|AutomobileAccessories|Cradles                                          B0746JGVDS  3.9       1\n",
       "                                                                                                                         B07GNC2592  4.0       1\n",
       "                                                                                                                         B09P858DK8  4.0       1\n",
       "Electronics|Mobiles&Accessories|MobileAccessories|Cables&Adapters|OTGAdapters                                            B07PFJ5W31  4.3       1\n",
       "                                                                                                                         B09BCNQ9R2  4.2       1\n",
       "Electronics|Mobiles&Accessories|MobileAccessories|Cases&Covers|BasicCases                                                B09J2MM5C6  4.2       1\n",
       "                                                                                                                         B09MY4W73Q  4.3       1\n",
       "                                                                                                                         B09SJ1FTYV  4.0       1\n",
       "                                                                                                                         B0B1NX6JTN  4.3       1\n",
       "Electronics|Mobiles&Accessories|MobileAccessories|Chargers|AutomobileChargers                                            B06XSK3XL6  4.3       1\n",
       "                                                                                                                         B0971DWFDT  4.2       1\n",
       "                                                                                                                         B09FFK1PQG  4.4       1\n",
       "Electronics|Mobiles&Accessories|MobileAccessories|Chargers|PowerBanks                                                    B07X963JNS  4.0       1\n",
       "                                                                                                                         B08HF4W2CT  4.0       1\n",
       "                                                                                                                         B08HV83HL3  4.3       1\n",
       "                                                                                                                         B08HVJCW95  4.3       1\n",
       "                                                                                                                         B08HVL8QN3  4.3       1\n",
       "                                                                                                                         B08JW1GVS7  4.0       1\n",
       "                                                                                                                         B08MC57J31  4.3       1\n",
       "                                                                                                                         B098QXR9X2  4.1       1\n",
       "                                                                                                                         B0993BB11X  4.0       1\n",
       "                                                                                                                         B09MZCQYHZ  4.0       1\n",
       "Electronics|Mobiles&Accessories|MobileAccessories|Chargers|WallChargers                                                  B0116MIKKC  4.5       1\n",
       "OfficeProducts|OfficeElectronics|Calculators|Basic                                                                       B0752LL57V  4.5       1\n",
       "Electronics|Mobiles&Accessories|MobileAccessories|Chargers|WallChargers                                                  B084DTMYWK  4.2       1\n",
       "                                                                                                                         B085CZ3SR1  4.2       1\n",
       "                                                                                                                         B089WB69Y1  4.0       1\n",
       "                                                                                                                         B08RZ5K9YH  4.3       1\n",
       "                                                                                                                         B08VF8V79P  4.4       1\n",
       "                                                                                                                         B08VFF6JQ8  4.4       1\n",
       "                                                                                                                         B08VS3YLRK  4.1       1\n",
       "                                                                                                                         B09NL4DCXK  3.9       1\n",
       "                                                                                                                         B09T37CKQ5  3.9       1\n",
       "                                                                                                                         B09TP5KBN7  4.0       1\n",
       "                                                                                                                         B09VGKFM7Y  4.4       1\n",
       "                                                                                                                         B09XBJ1CTN  4.2       1\n",
       "                                                                                                                         B0B54Y2SNX  3.8       1\n",
       "Computers&Accessories|Accessories&Peripherals|Cables&Accessories|Cables|USBCables                                        B00NH12R1O  4.3       1\n",
       "OfficeProducts|OfficePaperProducts|Paper|Stationery|Notebooks,WritingPads&Diaries|WireboundNotebooks                     B00LZLQ624  4.5       1\n",
       "Electronics|Mobiles&Accessories|MobileAccessories|Décor                                                                  B0B8ZWNR5T  4.2       1\n",
       "Electronics|Mobiles&Accessories|MobileAccessories|Décor|PhoneCharms                                                      B0BBW521YC  4.4       1\n",
       "Electronics|Mobiles&Accessories|MobileAccessories|Maintenance,Upkeep&Repairs|ScreenProtectors                            B08M66K48D  4.3       1\n",
       "                                                                                                                         B095RTJH1M  4.6       1\n",
       "                                                                                                                         B09GP6FBZT  4.3       1\n",
       "                                                                                                                         B0B23LW7NV  4.7       1\n",
       "                                                                                                                         B0B244R4KB  4.6       1\n",
       "                                                                                                                         B0B5YBGCKD  4.3       1\n",
       "                                                                                                                         B0B8CHJLWJ  4.5       1\n",
       "Electronics|Mobiles&Accessories|MobileAccessories|Mounts|Bedstand&DeskMounts                                             B092JHPL72  3.7       1\n",
       "                                                                                                                         B096TWZRJC  4.1       1\n",
       "Electronics|Mobiles&Accessories|MobileAccessories|Mounts|HandlebarMounts                                                 B0B2DJ5RVQ  4.3       1\n",
       "Electronics|Mobiles&Accessories|MobileAccessories|Mounts|Shower&WallMounts                                               B07H1S7XW8  4.1       1\n",
       "Electronics|Mobiles&Accessories|MobileAccessories|Photo&VideoAccessories|Flashes&SelfieLights|SelfieLights               B09BN2NPBD  4.1       1\n",
       "Electronics|Mobiles&Accessories|MobileAccessories|Photo&VideoAccessories|SelfieSticks                                    B07QCWY5XV  4.1       1\n",
       "OfficeProducts|OfficePaperProducts|Paper|Stationery|Notebooks,WritingPads&Diaries|WireboundNotebooks                     B00LZLPYHW  4.4       1\n",
       "Computers&Accessories|Accessories&Peripherals|Audio&VideoAccessories|PCSpeakers                                          B08SBH499M  4.1       1\n",
       "Electronics|Mobiles&Accessories|MobileAccessories|Photo&VideoAccessories|Tripods                                         B08ZN4B121  3.8       1\n",
       "Electronics|Mobiles&Accessories|MobileAccessories|Stands                                                                 B07GXHC691  4.3       1\n",
       "                                                                                                                         B07N8RQ6W7  4.1       1\n",
       "                                                                                                                         B07Q4QV1DL  4.5       1\n",
       "                                                                                                                         B088ZFJY82  4.5       1\n",
       "                                                                                                                         B08MWJTST6  4.0       1\n",
       "                                                                                                                         B0926V9CTV  4.3       1\n",
       "                                                                                                                         B09VZBGL1N  4.1       1\n",
       "                                                                                                                         B09Y14JLP3  4.1       1\n",
       "                                                                                                                         B09ZPL5VYM  4.1       1\n",
       "                                                                                                                         B0B3DV7S9B  3.6       1\n",
       "Toys&Games|Arts&Crafts|Drawing&PaintingSupplies|ColouringPens&Markers                                                    B00DJ5N9VK  4.3       1\n",
       "Electronics|Mobiles&Accessories|MobileAccessories|StylusPens                                                             B08K4RDQ71  3.8       1\n",
       "                                                                                                                         B08KRMK9LZ  4.2       1\n",
       "Computers&Accessories|Accessories&Peripherals|Audio&VideoAccessories|PCMicrophones                                       B08HD7JQHX  3.3       1\n",
       "OfficeProducts|OfficePaperProducts|Paper|Stationery|Notebooks,WritingPads&Diaries|WireboundNotebooks                     B00P93X0VO  4.2       1\n",
       "Electronics|Mobiles&Accessories|Smartphones&BasicMobiles|BasicMobiles                                                    B08H21B6V7  3.9       1\n",
       "                                                                                                                         B09BF8JBWX  3.8       1\n",
       "                                                                                                                         B09JS562TP  4.0       1\n",
       "                                                                                                                         B09JS94MBV  4.0       1\n",
       "                                                                                                                         B09V2PZDX8  4.0       1\n",
       "                                                                                                                         B09V2Q4QVQ  4.0       1\n",
       "                                                                                                                         B09YDFDVNS  4.0       1\n",
       "                                                                                                                         B09YDFKJF8  4.0       1\n",
       "                                                                                                                         B0B7DHSKS7  3.5       1\n",
       "Electronics|Mobiles&Accessories|Smartphones&BasicMobiles|Smartphones                                                     B07WDK3ZS2  4.3       1\n",
       "                                                                                                                         B07WDK3ZS6  4.1       1\n",
       "                                                                                                                         B07WDKLDRX  4.4       1\n",
       "                                                                                                                         B07WDKLRM4  4.1       1\n",
       "                                                                                                                         B07WFPMGQQ  4.3       1\n",
       "                                                                                                                         B07WGMMQGP  4.0       1\n",
       "                                                                                                                         B07WGPKMP5  4.1       1\n",
       "                                                                                                                         B07WGPKTS4  4.1       1\n",
       "                                                                                                                         B07WHQBZLS  4.0       1\n",
       "                                                                                                                         B07WHQWXL7  4.1       1\n",
       "                                                                                                                         B07WHS7MZ1  4.3       1\n",
       "                                                                                                                         B07WHSJXLF  4.3       1\n",
       "                                                                                                                         B07WJV6P1R  4.1       1\n",
       "                                                                                                                         B07WJWRNVK  4.0       1\n",
       "                                                                                                                         B08444S68L  4.2       1\n",
       "                                                                                                                         B08VB2CMR3  4.2       1\n",
       "                                                                                                                         B08VB34KJ1  4.2       1\n",
       "                                                                                                                         B08VB57558  4.2       1\n",
       "                                                                                                                         B09FKDH6FS  4.0       1\n",
       "                                                                                                                         B09GFLXVH9  4.1       1\n",
       "                                                                                                                         B09GFM8CGS  4.1       1\n",
       "                                                                                                                         B09GFPN6TP  4.1       1\n",
       "                                                                                                                         B09GFPVD9Y  4.1       1\n",
       "                                                                                                                         B09HSKYMB3  4.3       1\n",
       "                                                                                                                         B09LHYZ3GJ  4.1       1\n",
       "                                                                                                                         B09LHZSMRR  4.1       1\n",
       "                                                                                                                         B09LJ116B5  4.1       1\n",
       "                                                                                                                         B09MKP344P  4.1       1\n",
       "                                                                                                                         B09NY6TRXG  3.9       1\n",
       "                                                                                                                         B09NY7W8YD  3.8       1\n",
       "                                                                                                                         B09QS8V5N8  4.1       1\n",
       "                                                                                                                         B09QS9CWLV  4.1       1\n",
       "                                                                                                                         B09QS9X16F  4.1       1\n",
       "                                                                                                                         B09QS9X9L8  4.1       1\n",
       "                                                                                                                         B09RMQYHLH  4.2       1\n",
       "                                                                                                                         B09T2S8X9C  3.9       1\n",
       "                                                                                                                         B09T2WRLJJ  3.9       1\n",
       "                                                                                                                         B09T39K9YL  3.9       1\n",
       "                                                                                                                         B09TWH8YHM  4.1       1\n",
       "                                                                                                                         B09TWHTBKQ  4.1       1\n",
       "                                                                                                                         B09WRMNJ9G  4.2       1\n",
       "                                                                                                                         B09XB7DPW1  4.0       1\n",
       "                                                                                                                         B09XB7SRQ5  4.0       1\n",
       "                                                                                                                         B09XB8GFBQ  4.0       1\n",
       "                                                                                                                         B09XJ5LD6L  3.9       1\n",
       "                                                                                                                         B0B14MR9L1  4.1       1\n",
       "                                                                                                                         B0B3CPQ5PF  4.3       1\n",
       "                                                                                                                         B0B3CQBRB4  4.3       1\n",
       "                                                                                                                         B0B3D39RKV  4.3       1\n",
       "                                                                                                                         B0B4F1YC3J  4.1       1\n",
       "                                                                                                                         B0B4F2TTTS  4.1       1\n",
       "                                                                                                                         B0B4F2XCK3  4.1       1\n",
       "                                                                                                                         B0B4F2ZWL3  4.1       1\n",
       "                                                                                                                         B0B4F3QNDM  4.1       1\n",
       "                                                                                                                         B0B4F4QZ1H  4.1       1\n",
       "                                                                                                                         B0B4F52B5X  4.1       1\n",
       "                                                                                                                         B0B4F5L738  4.1       1\n",
       "                                                                                                                         B0B56YRBNT  3.8       1\n",
       "                                                                                                                         B0B5V47VK4  4.3       1\n",
       "                                                                                                                         B0BBFJ9M3X  3.9       1\n",
       "                                                                                                                         B0BBFJLP21  3.9       1\n",
       "                                                                                                                         B0BBN3WF7V  4.0       1\n",
       "                                                                                                                         B0BBN4DZBD  4.0       1\n",
       "                                                                                                                         B0BBN56J5H  4.0       1\n",
       "                                                                                                                         B0BD3T6Z1D  4.1       1\n",
       "                                                                                                                         B0BMGB2TPR  4.2       1\n",
       "                                                                                                                         B0BMGB3CH9  4.2       1\n",
       "                                                                                                                         B0BMGG6NKT  4.2       1\n",
       "Electronics|PowerAccessories|SurgeProtectors                                                                             B0083T231O  4.5       1\n",
       "Electronics|WearableTechnology|SmartWatches                                                                              B07YY1BY5B  4.0       1\n",
       "                                                                                                                         B08HV25BBQ  4.0       1\n",
       "OfficeProducts|OfficePaperProducts|Paper|Stationery|Notebooks,WritingPads&Diaries|WireboundNotebooks                     B00P93X6EK  4.5       1\n",
       "Electronics|WearableTechnology|SmartWatches                                                                              B094JB13XL  4.1       1\n",
       "OfficeProducts|OfficePaperProducts|Paper|Stationery|Pens,Pencils&WritingSupplies|Pens&Refills|BottledInk                 B00LM4X0KU  4.3       1\n",
       "Electronics|WearableTechnology|SmartWatches                                                                              B0972BQ2RS  4.1       1\n",
       "OfficeProducts|OfficePaperProducts|Paper|Stationery|Pens,Pencils&WritingSupplies|Pens&Refills|BottledInk                 B00LM4X3XE  4.3       1\n",
       "Electronics|WearableTechnology|SmartWatches                                                                              B09BNXQ6BR  4.1       1\n",
       "                                                                                                                         B09DG9VNWB  4.3       1\n",
       "OfficeProducts|OfficePaperProducts|Paper|Stationery|Pens,Pencils&WritingSupplies|Pens&Refills|FountainPens               B00LY17RHI  4.1       1\n",
       "Electronics|WearableTechnology|SmartWatches                                                                              B09NC2TY11  4.1       1\n",
       "                                                                                                                         B09NVPJ3P4  4.0       1\n",
       "OfficeProducts|OfficePaperProducts|Paper|Stationery|Pens,Pencils&WritingSupplies|Pens&Refills|GelInkRollerballPens       B07KCMR8D6  4.3       1\n",
       "Electronics|WearableTechnology|SmartWatches                                                                              B09P18XVW6  3.9       1\n",
       "                                                                                                                         B09PLFJ7ZW  3.9       1\n",
       "                                                                                                                         B09PNKXSKF  4.0       1\n",
       "                                                                                                                         B09RFB2SJQ  4.1       1\n",
       "                                                                                                                         B09RKFBCV7  4.2       1\n",
       "                                                                                                                         B09TBCVJS3  4.2       1\n",
       "OfficeProducts|OfficePaperProducts|Paper|Stationery|Pens,Pencils&WritingSupplies|Pens&Refills|GelInkRollerballPens       B07VV37FT4  4.2       1\n",
       "Electronics|WearableTechnology|SmartWatches                                                                              B09V175NP7  3.9       1\n",
       "                                                                                                                         B09V17S2BG  3.9       1\n",
       "                                                                                                                         B09YV3K34W  4.2       1\n",
       "                                                                                                                         B09YV42QHZ  4.2       1\n",
       "                                                                                                                         B09YV463SW  4.2       1\n",
       "OfficeProducts|OfficePaperProducts|Paper|Stationery|Pens,Pencils&WritingSupplies|Pens&Refills|LiquidInkRollerballPens    B00S2SEV7K  4.1       1\n",
       "                                                                                                                         B07LFQLKFZ  4.2       1\n",
       "Electronics|WearableTechnology|SmartWatches                                                                              B09YV575RK  4.0       1\n",
       "OfficeProducts|OfficePaperProducts|Paper|Stationery|Pens,Pencils&WritingSupplies|Pens&Refills|RetractableBallpointPens   B00LM4W1N2  4.3       1\n",
       "Electronics|WearableTechnology|SmartWatches                                                                              B0B298D54H  3.7       1\n",
       "                                                                                                                         B0B2X35B1K  4.1       1\n",
       "OfficeProducts|OfficePaperProducts|Paper|Stationery|Pens,Pencils&WritingSupplies|Pens&Refills|RetractableBallpointPens   B00LOD70SC  4.3       1\n",
       "OfficeProducts|OfficePaperProducts|Paper|Stationery|Pens,Pencils&WritingSupplies|Pens&Refills|StickBallpointPens         B00LZPQVMK  4.0       1\n",
       "Electronics|WearableTechnology|SmartWatches                                                                              B0B3NDPCS9  4.3       1\n",
       "OfficeProducts|OfficePaperProducts|Paper|Stationery|Pens,Pencils&WritingSupplies|Pens&Refills|StickBallpointPens         B0746N6WML  4.3       1\n",
       "Electronics|WearableTechnology|SmartWatches                                                                              B0B3RS9DNF  4.3       1\n",
       "                                                                                                                         B0B3RSDSZ3  4.3       1\n",
       "                                                                                                                         B0B53NXFFR  3.3       1\n",
       "                                                                                                                         B0B53QFZPY  3.3       1\n",
       "                                                                                                                         B0B53QLB9H  3.3       1\n",
       "OfficeProducts|OfficePaperProducts|Paper|Stationery|Pens,Pencils&WritingSupplies|Pens&Refills|StickBallpointPens         B07SBGFDX9  4.1       1\n",
       "Electronics|WearableTechnology|SmartWatches                                                                              B0B5CGTBKV  3.8       1\n",
       "                                                                                                                         B0B5D39BCD  3.8       1\n",
       "                                                                                                                         B0B5DDJNH4  3.8       1\n",
       "                                                                                                                         B0B5GF6DQD  3.7       1\n",
       "Computers&Accessories|Accessories&Peripherals|Adapters|USBtoUSBAdapters                                                  B094DQWV9B  4.0       1\n",
       "Electronics|WearableTechnology|SmartWatches                                                                              B0B6BLTGTT  4.1       1\n",
       "                                                                                                                         B0B82YGCF6  3.0       1\n",
       "                                                                                                                         B0BBVKRP7B  2.8       1\n",
       "                                                                                                                         B0BD92GDQH  3.8       1\n",
       "                                                                                                                         B0BF4YBLPX  4.2       1\n",
       "                                                                                                                         B0BF54972T  4.2       1\n",
       "                                                                                                                         B0BF54LXW6  4.2       1\n",
       "                                                                                                                         B0BF563HB4  4.2       1\n",
       "                                                                                                                         B0BF57RN3K  4.2       1\n",
       "                                                                                                                         B0BGSV43WY  3.5       1\n",
       "                                                                                                                         B0BMM7R92G  4.5       1\n",
       "                                                                                                                         B0BMVWKZ8G  4.3       1\n",
       "                                                                                                                         B0BNV7JM5Y  4.1       1\n",
       "                                                                                                                         B0BNVBJW2S  4.1       1\n",
       "                                                                                                                         B0BNXFDTZ2  4.4       1\n",
       "                                                                                                                         B0BP18W8TM  4.4       1\n",
       "Health&PersonalCare|HomeMedicalSupplies&Equipment|HealthMonitors|WeighingScales|DigitalBathroomScales                    B07BKSSDR2  4         1\n",
       "Home&Kitchen|CraftMaterials|DrawingMaterials|DrawingMedia|Pencils|WoodenPencils                                          B00VA7YYUO  4.3       1\n",
       "Home&Kitchen|CraftMaterials|DrawingMaterials|DrawingMedia|Pens                                                           B07JB2Y4SR  4.4       1\n",
       "Home&Kitchen|CraftMaterials|PaintingMaterials                                                                            B00LY12TH6  4.5       1\n",
       "Home&Kitchen|CraftMaterials|PaintingMaterials|Paints                                                                     B00KIE28X0  4.5       1\n",
       "                                                                                                                         B00LXTFMRS  4.4       1\n",
       "                                                                                                                         B00LY1FN1K  4.4       1\n",
       "Home&Kitchen|CraftMaterials|Scrapbooking|Tape                                                                            B00N1U9AJS  3.9       1\n",
       "Home&Kitchen|Heating,Cooling&AirQuality|AirConditioners|Split-SystemAirConditioners                                      B09NS5TKPN  4.3       1\n",
       "Home&Kitchen|Heating,Cooling&AirQuality|AirPurifiers|HEPAAirPurifiers                                                    B01KCSGBU2  4.3       1\n",
       "                                                                                                                         B01L6MT7E0  4.1       1\n",
       "                                                                                                                         B0811VCGL5  4.3       1\n",
       "                                                                                                                         B08GJ57MKL  4.4       1\n",
       "Home&Kitchen|Heating,Cooling&AirQuality|Fans|CeilingFans                                                                 B01L7C4IU2  4.2       1\n",
       "                                                                                                                         B01LYU3BZF  4.3       1\n",
       "                                                                                                                         B01M0505SJ  4.1       1\n",
       "                                                                                                                         B07SPVMSC6  4.1       1\n",
       "                                                                                                                         B07ZJND9B9  3.9       1\n",
       "                                                                                                                         B08WWKM5HQ  3.9       1\n",
       "                                                                                                                         B08Y5QJXSR  4.3       1\n",
       "                                                                                                                         B08ZHYNTM1  4.3       1\n",
       "                                                                                                                         B095PWLLY6  4         1\n",
       "                                                                                                                         B09MT94QLL  4.2       1\n",
       "                                                                                                                         B09SPTNG58  3.9       1\n",
       "Home&Kitchen|Heating,Cooling&AirQuality|Fans|ExhaustFans                                                                 B00J5DYCCA  4         1\n",
       "                                                                                                                         B00KIDSU8S  4.2       1\n",
       "                                                                                                                         B00O2R38C4  4.1       1\n",
       "Home&Kitchen|Heating,Cooling&AirQuality|Fans|PedestalFans                                                                B07NPBG1B4  4.1       1\n",
       "Home&Kitchen|Heating,Cooling&AirQuality|Fans|TableFans                                                                   B08VJFYH6N  4.1       1\n",
       "                                                                                                                         B09VL9KFDB  3.8       1\n",
       "Home&Kitchen|Heating,Cooling&AirQuality|Humidifiers                                                                      B01M69WCZ6  4         1\n",
       "                                                                                                                         B09P182Z2H  4.3       1\n",
       "                                                                                                                         B0B97D658R  3.6       1\n",
       "Home&Kitchen|Heating,Cooling&AirQuality|Parts&Accessories|FanParts&Accessories                                           B01CS4A5V4  4.1       1\n",
       "Home&Kitchen|Heating,Cooling&AirQuality|RoomHeaters                                                                      B00KRCBA6E  3.8       1\n",
       "                                                                                                                         B01M5F614J  4         1\n",
       "Home&Kitchen|Heating,Cooling&AirQuality|RoomHeaters|ElectricHeaters                                                      B009P2LITG  4.1       1\n",
       "                                                                                                                         B009P2LK08  4         1\n",
       "                                                                                                                         B00GHL8VP2  4.1       1\n",
       "                                                                                                                         B00H47GVGY  3.6       1\n",
       "                                                                                                                         B00LUGTJGO  3.9       1\n",
       "                                                                                                                         B01M265AAK  4.3       1\n",
       "                                                                                                                         B078KRFWQB  3.8       1\n",
       "                                                                                                                         B07J9KXQCC  3.6       1\n",
       "                                                                                                                         B08MVSGXMY  3.8       1\n",
       "                                                                                                                         B099FDW2ZF  4.1       1\n",
       "                                                                                                                         B099PR2GQJ  3.8       1\n",
       "                                                                                                                         B09CGLY5CX  4         1\n",
       "                                                                                                                         B09LQH3SD9  3.8       1\n",
       "                                                                                                                         B09M3F4HGB  4.2       1\n",
       "                                                                                                                         B09NFSHCWN  3.5       1\n",
       "                                                                                                                         B0B7NWGXS6  4.1       1\n",
       "                                                                                                                         B0B9F9PT8R  3.3       1\n",
       "                                                                                                                         B0BGPN4GGH  3.8       1\n",
       "                                                                                                                         B0BNLFQDG2  3.7       1\n",
       "                                                                                                                         B0BPBXNQQT  4.3       1\n",
       "Home&Kitchen|Heating,Cooling&AirQuality|RoomHeaters|FanHeaters                                                           B00O24PUO6  4.1       1\n",
       "                                                                                                                         B01N1XVVLC  4.1       1\n",
       "                                                                                                                         B07K19NYZ8  3.8       1\n",
       "                                                                                                                         B07VX71FZP  4         1\n",
       "                                                                                                                         B08MVXPTDG  4.1       1\n",
       "                                                                                                                         B08MZNT7GP  4.1       1\n",
       "                                                                                                                         B08QHLXWV3  3.9       1\n",
       "                                                                                                                         B09H34V36W  3.8       1\n",
       "                                                                                                                         B09KRHXTLN  3.9       1\n",
       "                                                                                                                         B09LV1CMGH  3.6       1\n",
       "                                                                                                                         B09MQ9PDHR  3.9       1\n",
       "                                                                                                                         B09P1MFKG1  4.6       1\n",
       "                                                                                                                         B09R1YFL6S  3.5       1\n",
       "                                                                                                                         B09ZTZ9N3Q  3.1       1\n",
       "                                                                                                                         B09ZVJXN5L  3.3       1\n",
       "                                                                                                                         B0BDG6QDYD  4.1       1\n",
       "                                                                                                                         B0BMTZ4T1D  4.5       1\n",
       "                                                                                                                         B0BMZ6SY89  3.4       1\n",
       "                                                                                                                         B0BPBG712X  4.4       1\n",
       "                                                                                                                         B0BPJBTB3F  2         1\n",
       "Home&Kitchen|Heating,Cooling&AirQuality|RoomHeaters|HalogenHeaters                                                       B009P2LK80  3.7       1\n",
       "                                                                                                                         B09MB3DKG1  3.5       1\n",
       "Home&Kitchen|Heating,Cooling&AirQuality|RoomHeaters|HeatConvectors                                                       B009P2LIL4  3.6       1\n",
       "                                                                                                                         B00H0B29DI  3.8       1\n",
       "Home&Kitchen|Heating,Cooling&AirQuality|WaterHeaters&Geysers|ImmersionRods                                               B00ABMASXG  4.1       1\n",
       "                                                                                                                         B00HZIOGXW  4.1       1\n",
       "                                                                                                                         B00P0R95EA  4.1       1\n",
       "                                                                                                                         B0123P3PWE  4.1       1\n",
       "                                                                                                                         B07K2HVKLL  4.1       1\n",
       "                                                                                                                         B07LG96SDB  3.8       1\n",
       "                                                                                                                         B088ZTJT2R  4.2       1\n",
       "                                                                                                                         B08MV82R99  4.1       1\n",
       "                                                                                                                         B09J2QCKKM  4.1       1\n",
       "Home&Kitchen|Heating,Cooling&AirQuality|WaterHeaters&Geysers|InstantWaterHeaters                                         B014HDJ7ZE  3.9       1\n",
       "                                                                                                                         B077BTLQ67  3.9       1\n",
       "                                                                                                                         B078JBK4GX  4.4       1\n",
       "                                                                                                                         B078JDNZJ8  4.3       1\n",
       "                                                                                                                         B078JF6X9B  4.2       1\n",
       "                                                                                                                         B07G147SZD  4         1\n",
       "                                                                                                                         B07H5PBN54  3.4       1\n",
       "                                                                                                                         B07W4HTS8Q  3.8       1\n",
       "                                                                                                                         B07WKB69RS  4         1\n",
       "                                                                                                                         B07Y1RCCW5  3.8       1\n",
       "                                                                                                                         B081B1JL35  3.7       1\n",
       "                                                                                                                         B0836JGZ74  3.6       1\n",
       "                                                                                                                         B08QW937WV  4.5       1\n",
       "                                                                                                                         B08T8KWNQ9  3.6       1\n",
       "                                                                                                                         B097MKZHNV  4.2       1\n",
       "                                                                                                                         B097R2V1W8  4.1       1\n",
       "                                                                                                                         B09DL9978Y  4.1       1\n",
       "                                                                                                                         B09WMTJPG7  4.1       1\n",
       "                                                                                                                         B0B3X2BY3M  4         1\n",
       "                                                                                                                         B0B9RN5X8B  4.2       1\n",
       "                                                                                                                         B0BCKJJN8R  3.9       1\n",
       "                                                                                                                         B0BP89YBC1  4.7       1\n",
       "                                                                                                                         B0BR4F878Q  4.8       1\n",
       "Home&Kitchen|Heating,Cooling&AirQuality|WaterHeaters&Geysers|StorageWaterHeaters                                         B01892MIPA  4.2       1\n",
       "                                                                                                                         B07JGCGNDG  4.1       1\n",
       "                                                                                                                         B07TC9F7PN  4.2       1\n",
       "                                                                                                                         B07VZH6ZBB  4         1\n",
       "                                                                                                                         B08GM5S4CQ  4.4       1\n",
       "                                                                                                                         B08GSQXLJ2  4.1       1\n",
       "                                                                                                                         B08WRKSF9D  4.4       1\n",
       "                                                                                                                         B08YRMBK9R  3.9       1\n",
       "                                                                                                                         B097R3XH9R  4.1       1\n",
       "                                                                                                                         B097R45BH8  4.2       1\n",
       "                                                                                                                         B097R4D42G  4.2       1\n",
       "                                                                                                                         B09N3BFP4M  3.9       1\n",
       "Home&Kitchen|HomeStorage&Organization|LaundryOrganization|IroningAccessories|SprayBottles                                B08243SKCK  4.2       1\n",
       "                                                                                                                         B09FHHTL8L  4.1       1\n",
       "Home&Kitchen|HomeStorage&Organization|LaundryOrganization|LaundryBags                                                    B083RC4WFJ  4.2       1\n",
       "Home&Kitchen|HomeStorage&Organization|LaundryOrganization|LaundryBaskets                                                 B01LY9W8AF  4.2       1\n",
       "                                                                                                                         B07J2BQZD6  3.7       1\n",
       "                                                                                                                         B0814LP6S9  3.7       1\n",
       "                                                                                                                         B0814P4L98  4         1\n",
       "                                                                                                                         B083J64CBB  4         1\n",
       "                                                                                                                         B089BDBDGM  4         1\n",
       "                                                                                                                         B08D6RCM3Q  4.1       1\n",
       "                                                                                                                         B08VGDBF3B  4         1\n",
       "                                                                                                                         B08VGFX2B6  4.1       1\n",
       "                                                                                                                         B08VGM3YMF  4.1       1\n",
       "                                                                                                                         B08W9BK4MD  3.9       1\n",
       "                                                                                                                         B095XCRDQW  4.3       1\n",
       "                                                                                                                         B09HS1NDRQ  3.8       1\n",
       "Home&Kitchen|Kitchen&Dining|KitchenTools|ManualChoppers&Chippers|Choppers                                                B01LWYDEQ7  4.1       1\n",
       "Home&Kitchen|Kitchen&HomeAppliances|Coffee,Tea&Espresso|CoffeeGrinders|ElectricGrinders                                  B0B4KPCBSH  3.3       1\n",
       "Home&Kitchen|Kitchen&HomeAppliances|Coffee,Tea&Espresso|CoffeeMakerAccessories|MeasuringSpoons                           B01F7B2JCI  4.2       1\n",
       "                                                                                                                         B06Y36JKC3  4.1       1\n",
       "                                                                                                                         B08JKPVDKL  4.3       1\n",
       "Home&Kitchen|Kitchen&HomeAppliances|Coffee,Tea&Espresso|CoffeePresses                                                    B088WCFPQF  4.5       1\n",
       "Home&Kitchen|Kitchen&HomeAppliances|Coffee,Tea&Espresso|DripCoffeeMachines                                               B00PVT30YI  4.1       1\n",
       "                                                                                                                         B07F1T31ZZ  4.1       1\n",
       "                                                                                                                         B086GVRP63  4.1       1\n",
       "                                                                                                                         B08KS2KQTK  4.1       1\n",
       "                                                                                                                         B09H7JDJCW  4         1\n",
       "Home&Kitchen|Kitchen&HomeAppliances|Coffee,Tea&Espresso|EspressoMachines                                                 B008P7IF02  3.9       1\n",
       "Home&Kitchen|Kitchen&HomeAppliances|Coffee,Tea&Espresso|MilkFrothers                                                     B0763K5HLQ  4.1       1\n",
       "                                                                                                                         B09LMMFW3S  3.6       1\n",
       "                                                                                                                         B09X5HD5T1  3.5       1\n",
       "Home&Kitchen|Kitchen&HomeAppliances|Coffee,Tea&Espresso|StovetopEspressoPots                                             B095K14P86  4.2       1\n",
       "Home&Kitchen|Kitchen&HomeAppliances|SewingMachines&Accessories|Sewing&EmbroideryMachines                                 B086X18Q71  4.3       1\n",
       "                                                                                                                         B08XLR6DSB  3.1       1\n",
       "                                                                                                                         B08ZXZ362Z  3.5       1\n",
       "                                                                                                                         B09R83SFYV  3.7       1\n",
       "Home&Kitchen|Kitchen&HomeAppliances|SmallKitchenAppliances                                                               B08S6RKT4L  4.4       1\n",
       "Home&Kitchen|Kitchen&HomeAppliances|SmallKitchenAppliances|DeepFatFryers|AirFryers                                       B08N6P8G5K  4.5       1\n",
       "                                                                                                                         B097RJ867P  4.4       1\n",
       "                                                                                                                         B09CTWFV5W  4.4       1\n",
       "                                                                                                                         B0B53DS4TF  4.8       1\n",
       "                                                                                                                         B0B8XNPQPN  4.2       1\n",
       "Home&Kitchen|Kitchen&HomeAppliances|SmallKitchenAppliances|DigitalKitchenScales                                          B013B2WGT6  4.3       1\n",
       "                                                                                                                         B06XMZV7RH  3.9       1\n",
       "                                                                                                                         B07Q4NJQC5  4         1\n",
       "                                                                                                                         B07VQGVL68  3.9       1\n",
       "                                                                                                                         B08SJVD8QD  4.2       1\n",
       "                                                                                                                         B0949FPSFY  4.1       1\n",
       "                                                                                                                         B09H3BXWTK  3.9       1\n",
       "                                                                                                                         B09W9V2PXG  4.3       1\n",
       "                                                                                                                         B0B61DSF17  3.7       1\n",
       "                                                                                                                         B0B694PXQJ  4.5       1\n",
       "Home&Kitchen|Kitchen&HomeAppliances|SmallKitchenAppliances|DigitalKitchenScales|DigitalScales                            B083P71WKK  4.3       1\n",
       "                                                                                                                         B0B4SJKRDF  4.3       1\n",
       "Home&Kitchen|Kitchen&HomeAppliances|SmallKitchenAppliances|EggBoilers                                                    B07GMFY9QM  4.3       1\n",
       "                                                                                                                         B07H3WDC4X  4         1\n",
       "                                                                                                                         B08S7V8YTN  4.3       1\n",
       "                                                                                                                         B08TTRVWKY  4.3       1\n",
       "                                                                                                                         B091KNVNS9  4.1       1\n",
       "                                                                                                                         B099Z83VRC  4.3       1\n",
       "                                                                                                                         B09FPP3R1D  4.1       1\n",
       "                                                                                                                         B09J4YQYX3  4.4       1\n",
       "                                                                                                                         B0B25DJ352  4.3       1\n",
       "                                                                                                                         B0B8ZM9RVV  4.4       1\n",
       "                                                                                                                         B0BM9H2NY9  4.7       1\n",
       "Home&Kitchen|Kitchen&HomeAppliances|SmallKitchenAppliances|HandBlenders                                                  B0085W2MUQ  4.2       1\n",
       "                                                                                                                         B00A7PLVU6  4.2       1\n",
       "                                                                                                                         B00YQLG7GK  4.2       1\n",
       "                                                                                                                         B0747VDH9L  4.4       1\n",
       "                                                                                                                         B07GXPDLYQ  3.3       1\n",
       "                                                                                                                         B07QHHCB27  4.1       1\n",
       "                                                                                                                         B07Y5FDPKV  4.2       1\n",
       "                                                                                                                         B08CGW4GYR  3.6       1\n",
       "                                                                                                                         B08RDWBYCQ  4         1\n",
       "                                                                                                                         B098T9CJVQ  3.7       1\n",
       "                                                                                                                         B09NTHQRW3  4.1       1\n",
       "                                                                                                                         B0B3G5XZN5  4.5       1\n",
       "                                                                                                                         B0B8CB7MHW  4.1       1\n",
       "                                                                                                                         B0B9RZ4G4W  4         1\n",
       "                                                                                                                         B0BFBNXS94  2.3       1\n",
       "                                                                                                                         B0BLC2BYPX  4.7       1\n",
       "                                                                                                                         B0BM4KTNL1  4.7       1\n",
       "                                                                                                                         B0BPCJM7TB  4         1\n",
       "                                                                                                                         B0BQ3K23Y1  4.8       1\n",
       "Home&Kitchen|Kitchen&HomeAppliances|SmallKitchenAppliances|HandMixers                                                    B0187F2IOK  4.4       1\n",
       "                                                                                                                         B075K76YW1  4.2       1\n",
       "                                                                                                                         B08JV91JTK  4.1       1\n",
       "Home&Kitchen|Kitchen&HomeAppliances|SmallKitchenAppliances|InductionCooktop                                              B00EDJJ7FS  4.2       1\n",
       "                                                                                                                         B00NM6MO26  4         1\n",
       "                                                                                                                         B00YMJ0OI8  4.1       1\n",
       "                                                                                                                         B01GFTEV5Y  3.8       1\n",
       "                                                                                                                         B0756KCV5K  4.2       1\n",
       "                                                                                                                         B07YCBSCYB  4.2       1\n",
       "                                                                                                                         B0832W3B7Q  3.8       1\n",
       "                                                                                                                         B09NBZ36F7  4.2       1\n",
       "                                                                                                                         B09VPH38JS  3.8       1\n",
       "                                                                                                                         B0BL11S5QK  4.2       1\n",
       "Home&Kitchen|Kitchen&HomeAppliances|SmallKitchenAppliances|JuicerMixerGrinders                                           B00W56GLOQ  4         1\n",
       "                                                                                                                         B071113J7M  4.5       1\n",
       "                                                                                                                         B07D8VBYB4  4.4       1\n",
       "                                                                                                                         B07FL3WRX5  3.7       1\n",
       "                                                                                                                         B07NRTCDS5  3.8       1\n",
       "                                                                                                                         B07Y9PY6Y1  4.5       1\n",
       "                                                                                                                         B086199CWG  3.7       1\n",
       "                                                                                                                         B09J2SCVQT  4.1       1\n",
       "                                                                                                                         B0BHNHMR3H  3.9       1\n",
       "                                                                                                                         B0BL3R4RGS  3.6       1\n",
       "                                                                                                                         B0BNDGL26T  2.8       1\n",
       "                                                                                                                         B0BNQMF152  3.7       1\n",
       "Home&Kitchen|Kitchen&HomeAppliances|SmallKitchenAppliances|Juicers                                                       B00S9BSJC8  4.3       1\n",
       "                                                                                                                         B08TT63N58  3.1       1\n",
       "Home&Kitchen|Kitchen&HomeAppliances|SmallKitchenAppliances|Juicers|ColdPressJuicers                                      B07R679HTT  4.4       1\n",
       "Home&Kitchen|Kitchen&HomeAppliances|SmallKitchenAppliances|Kettles&HotWaterDispensers|ElectricKettles                    B00NW4UWN6  3.8       1\n",
       "                                                                                                                         B00TI8E7BI  4.4       1\n",
       "                                                                                                                         B01I1LDZGA  3.9       1\n",
       "                                                                                                                         B01MQZ7J8K  3.9       1\n",
       "                                                                                                                         B07B5XJ572  4.1       1\n",
       "                                                                                                                         B07F366Z51  4.1       1\n",
       "                                                                                                                         B07QDSN9V6  4.1       1\n",
       "                                                                                                                         B07SYYVP69  3.9       1\n",
       "                                                                                                                         B07T4D9FNY  4         1\n",
       "                                                                                                                         B07VNFP3C2  3.9       1\n",
       "                                                                                                                         B07VZYMQNZ  4.2       1\n",
       "                                                                                                                         B07WGPBXY9  3.9       1\n",
       "                                                                                                                         B07WJXCTG9  3.9       1\n",
       "                                                                                                                         B07WMS7TWB  3.9       1\n",
       "                                                                                                                         B07WNK1FFN  4.2       1\n",
       "                                                                                                                         B083GKDRKR  4.5       1\n",
       "                                                                                                                         B091V8HK8Z  3.8       1\n",
       "                                                                                                                         B094G9L9LT  3.8       1\n",
       "                                                                                                                         B0B3TBY2YX  4.3       1\n",
       "Home&Kitchen|Kitchen&HomeAppliances|SmallKitchenAppliances|Kettles&HotWaterDispensers|Kettle&ToasterSets                 B078V8R9BS  4.2       1\n",
       "                                                                                                                         B07GLS2563  4.2       1\n",
       "                                                                                                                         B07GLSKXS1  3.9       1\n",
       "                                                                                                                         B07YR26BJ3  4         1\n",
       "                                                                                                                         B082KVTRW8  4         1\n",
       "                                                                                                                         B08C7TYHPB  4.1       1\n",
       "                                                                                                                         B08HLC7Z3G  4.2       1\n",
       "                                                                                                                         B096YCN3SD  3.6       1\n",
       "                                                                                                                         B097RN7BBK  3.4       1\n",
       "                                                                                                                         B09VGS66FV  4.4       1\n",
       "                                                                                                                         B09Y5FZK9N  3.7       1\n",
       "                                                                                                                         B0B2CZTCL2  3.8       1\n",
       "                                                                                                                         B0B2DZ5S6R  4         1\n",
       "Home&Kitchen|Kitchen&HomeAppliances|SmallKitchenAppliances|Mills&Grinders|WetGrinders                                    B078HG2ZPS  3.9       1\n",
       "                                                                                                                         B082ZQ4479  3.7       1\n",
       "Home&Kitchen|Kitchen&HomeAppliances|SmallKitchenAppliances|MiniFoodProcessors&Choppers                                   B01M5B0TPW  4.4       1\n",
       "                                                                                                                         B07CVR2L5K  4.4       1\n",
       "                                                                                                                         B07KKJPTWB  4.4       1\n",
       "                                                                                                                         B09CKSYBLR  4.1       1\n",
       "                                                                                                                         B09F6KL23R  4         1\n",
       "                                                                                                                         B09KPXTZXN  4         1\n",
       "                                                                                                                         B0B935YNR7  3.8       1\n",
       "                                                                                                                         B0B9JZW1SQ  3.2       1\n",
       "Home&Kitchen|Kitchen&HomeAppliances|SmallKitchenAppliances|MixerGrinders                                                 B00HVXS7WC  4.2       1\n",
       "                                                                                                                         B00K57MR22  4.6       1\n",
       "                                                                                                                         B0188KPKB2  4.1       1\n",
       "                                                                                                                         B01GZSQJPA  4.1       1\n",
       "                                                                                                                         B071R3LHFM  3.8       1\n",
       "                                                                                                                         B0756K5DYZ  3.9       1\n",
       "                                                                                                                         B075JJ5NQC  4         1\n",
       "                                                                                                                         B075S9FVRY  4.5       1\n",
       "                                                                                                                         B078JT7LTD  4.6       1\n",
       "                                                                                                                         B07DGD4Z4C  3.9       1\n",
       "                                                                                                                         B07MKMFKPG  4.4       1\n",
       "                                                                                                                         B07TTSS5MP  3.8       1\n",
       "                                                                                                                         B07TXCY3YK  3.9       1\n",
       "                                                                                                                         B085LPT5F4  3.9       1\n",
       "                                                                                                                         B08CFJBZRK  3.8       1\n",
       "                                                                                                                         B08CNLYKW5  3.8       1\n",
       "                                                                                                                         B08G8H8DPL  4         1\n",
       "                                                                                                                         B08H673XKN  4.2       1\n",
       "                                                                                                                         B08KDBLMQP  4         1\n",
       "                                                                                                                         B08MXJYB2V  4         1\n",
       "                                                                                                                         B097XJQZ8H  4.1       1\n",
       "                                                                                                                         B09GYBZPHF  3.8       1\n",
       "                                                                                                                         B09MFR93KS  4         1\n",
       "                                                                                                                         B09X5C9VLK  3.8       1\n",
       "                                                                                                                         B09Y358DZQ  3.4       1\n",
       "                                                                                                                         B09ZDVL7L8  3.9       1\n",
       "                                                                                                                         B0BDZWMGZ1  3.8       1\n",
       "Home&Kitchen|Kitchen&HomeAppliances|SmallKitchenAppliances|OvenToasterGrills                                             B07N2MGB3G  4.1       1\n",
       "                                                                                                                         B07P1BR7L8  4.4       1\n",
       "Home&Kitchen|Kitchen&HomeAppliances|SmallKitchenAppliances|Pop-upToasters                                                B0073QGKAS  4.3       1\n",
       "                                                                                                                         B06XPYRWV5  4.2       1\n",
       "                                                                                                                         B071VNHMX2  4.5       1\n",
       "Home&Kitchen|Kitchen&HomeAppliances|SmallKitchenAppliances|Rice&PastaCookers                                             B00935MD1C  3.7       1\n",
       "                                                                                                                         B00A328ENA  4.2       1\n",
       "                                                                                                                         B01M6453MB  4.1       1\n",
       "                                                                                                                         B09XHXXCFH  4.1       1\n",
       "                                                                                                                         B0B5KZ3C53  3.7       1\n",
       "Home&Kitchen|Kitchen&HomeAppliances|SmallKitchenAppliances|RotiMakers                                                    B018SJJ0GE  4.4       1\n",
       "Home&Kitchen|Kitchen&HomeAppliances|SmallKitchenAppliances|SandwichMakers                                                B00935MGHS  4.2       1\n",
       "                                                                                                                         B01486F4G6  4.3       1\n",
       "                                                                                                                         B07GWTWFS2  4.1       1\n",
       "                                                                                                                         B07JZSG42Y  4         1\n",
       "                                                                                                                         B07RX42D3D  3.9       1\n",
       "                                                                                                                         B07S851WX5  4.2       1\n",
       "                                                                                                                         B07YQ5SN4H  4         1\n",
       "                                                                                                                         B08LVVTGZK  3.9       1\n",
       "                                                                                                                         B09XRBJ94N  4.3       1\n",
       "                                                                                                                         B0B2DD8BQ8  4.1       1\n",
       "                                                                                                                         B0B5RP43VN  4.1       1\n",
       "Home&Kitchen|Kitchen&HomeAppliances|SmallKitchenAppliances|SmallApplianceParts&Accessories                               B01MUAUOCX  4.5       1\n",
       "Home&Kitchen|Kitchen&HomeAppliances|SmallKitchenAppliances|SmallApplianceParts&Accessories|StandMixerAccessories         B012ELCYUG  4.3       1\n",
       "Home&Kitchen|Kitchen&HomeAppliances|SmallKitchenAppliances|StandMixers                                                   B0977CGNJJ  4.3       1\n",
       "Home&Kitchen|Kitchen&HomeAppliances|SmallKitchenAppliances|VacuumSealers                                                 B00SH18114  4.6       1\n",
       "                                                                                                                         B08F47T4X5  4.2       1\n",
       "                                                                                                                         B08YK7BBD2  3         1\n",
       "                                                                                                                         B0989W6J2F  4         1\n",
       "                                                                                                                         B0B4PPD89B  4         1\n",
       "                                                                                                                         B0B7L86YCB  2.6       1\n",
       "                                                                                                                         B0BMFD94VD  3.3       1\n",
       "Home&Kitchen|Kitchen&HomeAppliances|SmallKitchenAppliances|WaffleMakers&Irons                                            B015GX9Y0W  3.9       1\n",
       "                                                                                                                         B09LH32678  4         1\n",
       "                                                                                                                         B0BJYSCWFQ  4.2       1\n",
       "Home&Kitchen|Kitchen&HomeAppliances|SmallKitchenAppliances|YogurtMakers                                                  B09G2VTHQM  4.1       1\n",
       "Home&Kitchen|Kitchen&HomeAppliances|Vacuum,Cleaning&Ironing|Irons,Steamers&Accessories|Irons|DryIrons                    B008YW3CYM  4.1       1\n",
       "                                                                                                                         B008YW8M0G  4.2       1\n",
       "                                                                                                                         B009P2L7CO  4.2       1\n",
       "                                                                                                                         B009UORDX4  4.3       1\n",
       "                                                                                                                         B00B7GKXMG  4.1       1\n",
       "                                                                                                                         B00F159RIK  4.2       1\n",
       "                                                                                                                         B00SMJPA9C  4.1       1\n",
       "                                                                                                                         B01C8P29N0  4.2       1\n",
       "                                                                                                                         B01C8P29T4  4.2       1\n",
       "                                                                                                                         B01EY310UM  4.3       1\n",
       "                                                                                                                         B01MY839VW  4.2       1\n",
       "                                                                                                                         B01N6IJG0F  4.1       1\n",
       "                                                                                                                         B076VQS87V  4.3       1\n",
       "                                                                                                                         B078WB1VWJ  4.3       1\n",
       "                                                                                                                         B07LDN9Q2P  4.3       1\n",
       "                                                                                                                         B07LDPLSZC  4.2       1\n",
       "                                                                                                                         B07S9M8YTY  4         1\n",
       "                                                                                                                         B07YSJ7FF1  4         1\n",
       "                                                                                                                         B08235JZFB  4.1       1\n",
       "                                                                                                                         B0883KDSXC  3.9       1\n",
       "                                                                                                                         B0883LQJ6B  4.2       1\n",
       "                                                                                                                         B09ZK6THRR  4.2       1\n",
       "                                                                                                                         B0B84KSH3X  3.8       1\n",
       "                                                                                                                         B0B84QN4CN  3.6       1\n",
       "Home&Kitchen|Kitchen&HomeAppliances|Vacuum,Cleaning&Ironing|Irons,Steamers&Accessories|Irons|SteamIrons                  B008LN8KDM  4.3       1\n",
       "                                                                                                                         B008QTK47Q  4.3       1\n",
       "                                                                                                                         B07989VV5K  3.6       1\n",
       "                                                                                                                         B07D2NMTTV  4.2       1\n",
       "                                                                                                                         B07DXRGWDJ  3.8       1\n",
       "                                                                                                                         B07DZ986Q2  4         1\n",
       "                                                                                                                         B07WVQG8WZ  3.8       1\n",
       "                                                                                                                         B08H6B3G96  4.3       1\n",
       "                                                                                                                         B08H6CZSHT  4.3       1\n",
       "                                                                                                                         B08TM71L54  4         1\n",
       "                                                                                                                         B09PDZNSBG  4.2       1\n",
       "                                                                                                                         B09WF4Q7B3  3.6       1\n",
       "Home&Kitchen|Kitchen&HomeAppliances|Vacuum,Cleaning&Ironing|Irons,Steamers&Accessories|LintShavers                       B00TDD0YM4  4.4       1\n",
       "                                                                                                                         B01NCVJMKX  4.1       1\n",
       "                                                                                                                         B07HK53XM4  3.5       1\n",
       "                                                                                                                         B07MP21WJD  4.1       1\n",
       "                                                                                                                         B07NCKMXVZ  4.1       1\n",
       "                                                                                                                         B07NKNBTT3  4.1       1\n",
       "                                                                                                                         B081RLM75M  3.9       1\n",
       "                                                                                                                         B08SKZ2RMG  4.1       1\n",
       "                                                                                                                         B09474JWN6  4.2       1\n",
       "                                                                                                                         B09DSQXCM8  3.9       1\n",
       "                                                                                                                         B09JN37WBX  4.6       1\n",
       "                                                                                                                         B09KNMLH4Y  4.1       1\n",
       "                                                                                                                         B09MTLG4TP  4.3       1\n",
       "                                                                                                                         B09NL7LBWT  4         1\n",
       "                                                                                                                         B09NNZ1GF7  4.3       1\n",
       "                                                                                                                         B09SFRNKSR  4.4       1\n",
       "                                                                                                                         B09XB1R2F3  3.5       1\n",
       "                                                                                                                         B0B3JSWG81  3.1       1\n",
       "                                                                                                                         B0B59K1C8F  3.6       1\n",
       "                                                                                                                         B0BK1K598K  4.2       1\n",
       "                                                                                                                         B0BN2576GQ  3.7       1\n",
       "                                                                                                                         B0BN6M3TCM  4.6       1\n",
       "Home&Kitchen|Kitchen&HomeAppliances|Vacuum,Cleaning&Ironing|PressureWashers,Steam&WindowCleaners                         B09VKWGZD7  4.3       1\n",
       "                                                                                                                         B0B2CWRDB1  4.2       1\n",
       "                                                                                                                         B0BBWJFK5C  4.1       1\n",
       "Home&Kitchen|Kitchen&HomeAppliances|Vacuum,Cleaning&Ironing|Vacuums&FloorCare|VacuumAccessories|VacuumBags|HandheldBags  B07F6GXNPB  4.3       1\n",
       "Home&Kitchen|Kitchen&HomeAppliances|Vacuum,Cleaning&Ironing|Vacuums&FloorCare|Vacuums|CanisterVacuums                    B00V9NHDI4  3.9       1\n",
       "                                                                                                                         B072J83V9W  4.4       1\n",
       "                                                                                                                         B07H3N8RJH  4.2       1\n",
       "                                                                                                                         B09FZ89DK6  4.2       1\n",
       "Home&Kitchen|Kitchen&HomeAppliances|Vacuum,Cleaning&Ironing|Vacuums&FloorCare|Vacuums|HandheldVacuums                    B07SRM58TP  4         1\n",
       "                                                                                                                         B08HDCWDXD  4         1\n",
       "                                                                                                                         B08J7VCT12  4.1       1\n",
       "                                                                                                                         B08L12N5H1  |         1\n",
       "                                                                                                                         B09SDDQQKP  3.8       1\n",
       "                                                                                                                         B09SZ5TWHW  3.9       1\n",
       "                                                                                                                         B09XTQFFCG  3.9       1\n",
       "                                                                                                                         B0B1MDZV9C  3.9       1\n",
       "Home&Kitchen|Kitchen&HomeAppliances|Vacuum,Cleaning&Ironing|Vacuums&FloorCare|Vacuums|RoboticVacuums                     B092R48XXB  4.1       1\n",
       "                                                                                                                         B0B19VJXQZ  4.4       1\n",
       "Home&Kitchen|Kitchen&HomeAppliances|Vacuum,Cleaning&Ironing|Vacuums&FloorCare|Vacuums|Wet-DryVacuums                     B00JBNZPFM  4.2       1\n",
       "                                                                                                                         B072NCN9M4  4.2       1\n",
       "                                                                                                                         B07RCGTZ4M  4.1       1\n",
       "                                                                                                                         B07SLNG3LW  3.9       1\n",
       "                                                                                                                         B07Z51CGGH  3.8       1\n",
       "                                                                                                                         B083M7WPZD  4         1\n",
       "Home&Kitchen|Kitchen&HomeAppliances|WaterPurifiers&Accessories|WaterCartridges                                           B00H3H03Q4  4.2       1\n",
       "                                                                                                                         B00SMFPJG0  4.1       1\n",
       "                                                                                                                         B078XFKBZL  3.8       1\n",
       "Home&Kitchen|Kitchen&HomeAppliances|WaterPurifiers&Accessories|WaterFilters&Purifiers                                    B009DA69W6  3.6       1\n",
       "                                                                                                                         B0762HXMTF  3.9       1\n",
       "                                                                                                                         B07FJNNZCJ  4.3       1\n",
       "                                                                                                                         B07FXLC2G2  4.2       1\n",
       "                                                                                                                         B07YC8JHMB  3.9       1\n",
       "                                                                                                                         B08BJN4MP3  4.4       1\n",
       "                                                                                                                         B096NTB9XT  4         1\n",
       "                                                                                                                         B09YLWT89W  4         1\n",
       "                                                                                                                         B0B7FJNSZR  4.4       1\n",
       "                                                                                                                         B0BCYQY9X5  4.3       1\n",
       "                                                                                                                         B0BJ6P3LSK  4.5       1\n",
       "                                                                                                                         B0BJ966M5K  4.6       1\n",
       "Home&Kitchen|Kitchen&HomeAppliances|WaterPurifiers&Accessories|WaterPurifierAccessories                                  B00B3VFJY2  4.2       1\n",
       "                                                                                                                         B00E9G8KOY  4.1       1\n",
       "                                                                                                                         B00LP9RFSU  4         1\n",
       "                                                                                                                         B01MRARGBW  4.1       1\n",
       "                                                                                                                         B08K36NZSV  4.3       1\n",
       "                                                                                                                         B08L7J3T31  4         1\n",
       "                                                                                                                         B09BL2KHQW  4.1       1\n",
       "                                                                                                                         B09JFR8H3Q  3.9       1\n",
       "                                                                                                                         B0BBLHTRM9  2.9       1\n",
       "                                                                                                                         B0BHYLCL19  3.6       1\n",
       "                                                                                                                         B0BNDRK886  3.9       1\n",
       "HomeImprovement|Electrical|Adapters&Multi-Outlets                                                                        B07WKBD37W  4.0       1\n",
       "HomeImprovement|Electrical|CordManagement                                                                                B07R99NBVB  4.5       1\n",
       "MusicalInstruments|Microphones|Condenser                                                                                 B076B8G5D8  4.0       1\n",
       "                                                                                                                         B07JF9B592  3.8       1\n",
       "Car&Motorbike|CarAccessories|InteriorAccessories|AirPurifiers&Ionizers                                                   B0912WJ87V  3.8       1\n",
       "Computers&Accessories|Accessories&Peripherals|Audio&VideoAccessories|Webcams&VoIPEquipment|Webcams                       B008QS9J6Y  4.3       1\n",
       "                                                                                                                         B09P22HXH6  4.1       1\n",
       "Computers&Accessories|Accessories&Peripherals|Cables&Accessories|Cables|USBCables                                        B00NH13Q8W  4.5       1\n",
       "Computers&Accessories|Accessories&Peripherals|Cables&Accessories|CableConnectionProtectors                               B08W56G1K9  4.1       1\n",
       "Computers&Accessories|Accessories&Peripherals|Cables&Accessories|Cables|DVICables                                        B01J8S6X2I  4.4       1\n",
       "Computers&Accessories|Accessories&Peripherals|Cables&Accessories|Cables|EthernetCables                                   B00GZLB57U  4.4       1\n",
       "                                                                                                                         B01DGVKBC6  4.4       1\n",
       "Computers&Accessories|Accessories&Peripherals|Cables&Accessories|Cables|SATACables                                       B09F3PDDRF  3.9       1\n",
       "Computers&Accessories|Accessories&Peripherals|Cables&Accessories|Cables|USBCables                                        B00OFM6PEO  4.3       1\n",
       "                                                                                                                         B00GE55L22  4.1       1\n",
       "                                                                                                                         B00GGGOYEK  3.8       1\n",
       "                                                                                                                         B00GGGOYEU  3.9       1\n",
       "                                                                                                                         B00RGLI0ZS  4.0       1\n",
       "                                                                                                                         B0162K34H2  4.1       1\n",
       "Computers&Accessories|Accessories&Peripherals|Audio&VideoAccessories|PCHeadsets                                          B009LJ2BXA  3.5       1\n",
       "Computers&Accessories|Accessories&Peripherals|Adapters|USBtoUSBAdapters                                                  B097C564GC  4.3       1\n",
       "OfficeProducts|OfficeElectronics|Calculators|Financial&Business                                                          B00K32PEW4  4.4       1\n",
       "OfficeProducts|OfficeElectronics|Calculators|Scientific                                                                  B00AXHBBXU  4.4       1\n",
       "                                                                                                                         B0846D5CBP  4.5       1\n",
       "OfficeProducts|OfficePaperProducts|Paper|Copy&PrintingPaper|ColouredPaper                                                B095X38CJS  4.3       1\n",
       "OfficeProducts|OfficePaperProducts|Paper|Stationery|Notebooks,WritingPads&Diaries                                        B08XNL93PL  4.3       1\n",
       "OfficeProducts|OfficePaperProducts|Paper|Stationery|Notebooks,WritingPads&Diaries|CompositionNotebooks                   B00J4YG0PC  4.4       1\n",
       "                                                                                                                         B00LHZW3XY  4.4       1\n",
       "                                                                                                                         B00LHZWD0C  4.5       1\n",
       "                                                                                                                         B00P93X2H6  4.1       1\n",
       "                                                                                                                         B086PXQ2R4  4.5       1\n",
       "                                                                                                                         B086Q3QMFS  4.5       1\n",
       "                                                                                                                         B099S26HWG  4.2       1\n",
       "OfficeProducts|OfficePaperProducts|Paper|Stationery|Notebooks,WritingPads&Diaries|Notepads&MemoBooks                     B00N1U7JXM  4.4       1\n",
       "                                                                                                                         B00UGZWM2I  4.1       1\n",
       "Computers&Accessories|Accessories&Peripherals|Audio&VideoAccessories|PCMicrophones                                       B08SCCG9D4  3.9       1\n",
       "Name: count, dtype: int64"
      ]
     },
     "execution_count": 15,
     "metadata": {},
     "output_type": "execute_result"
    }
   ],
   "source": [
    "df_1"
   ]
  },
  {
   "cell_type": "markdown",
   "metadata": {},
   "source": [
    "# Make a 3D Plot"
   ]
  },
  {
   "cell_type": "code",
   "execution_count": 16,
   "metadata": {},
   "outputs": [
    {
     "data": {
      "application/vnd.plotly.v1+json": {
       "config": {
        "plotlyServerURL": "https://plot.ly"
       },
       "data": [
        {
         "hovertemplate": "discounted_price=₹399<br>rating=%{x}<br>rating_count=%{y}<br>actual_price=%{z}<extra></extra>",
         "legendgroup": "₹399",
         "marker": {
          "color": "#636efa",
          "symbol": "circle"
         },
         "mode": "markers",
         "name": "₹399",
         "scene": "scene",
         "showlegend": true,
         "type": "scatter3d",
         "x": [
          "4.2",
          "4.2",
          "3.6",
          "4.1",
          "4.2",
          "4.3",
          "4.1",
          "4.5",
          "4.3",
          "3.9",
          "4.1",
          "4.3",
          "3.9",
          "4.2",
          "5.0",
          "4.1",
          "4.1",
          "3.4",
          "4.4",
          "4.0",
          "3.3",
          "4.2",
          "4.0",
          "4.0",
          "4.2",
          "4.2",
          "4.0",
          "3.9",
          "4.4",
          "4.3",
          "4.1",
          "3.4",
          "4.1",
          "4.2",
          "4.1",
          "4.0"
         ],
         "y": [
          "24,269",
          "24,269",
          "493",
          "1,780",
          "24,269",
          "2,806",
          "1,780",
          "505",
          "2,806",
          "1,951",
          "2,685",
          "12",
          "254",
          "13,120",
          "5",
          "2,685",
          "1,161",
          "431",
          "12,091",
          "1,236",
          "23",
          "24,270",
          "37,817",
          "3,382",
          "24,269",
          "206",
          "3,382",
          "21,372",
          "18,139",
          "27,201",
          "5,730",
          "3,454",
          "2,809",
          "76,042",
          "1,780",
          "691"
         ],
         "z": [
          "₹1,099",
          "₹1,099",
          "₹999",
          "₹999",
          "₹1,099",
          "₹999",
          "₹999",
          "₹1,999",
          "₹999",
          "₹399",
          "₹1,099",
          "₹799",
          "₹899",
          "₹1,299",
          "₹1,999",
          "₹1,099",
          "₹799",
          "₹899",
          "₹795",
          "₹999",
          "₹999",
          "₹1,099",
          "₹699",
          "₹1,999",
          "₹1,099",
          "₹1,290",
          "₹1,999",
          "₹995",
          "₹549",
          "₹499",
          "₹1,499",
          "₹699",
          "₹1,190",
          "₹1,290",
          "₹999",
          "₹1,499"
         ]
        },
        {
         "hovertemplate": "discounted_price=₹199<br>rating=%{x}<br>rating_count=%{y}<br>actual_price=%{z}<extra></extra>",
         "legendgroup": "₹199",
         "marker": {
          "color": "#EF553B",
          "symbol": "circle"
         },
         "mode": "markers",
         "name": "₹199",
         "scene": "scene",
         "showlegend": true,
         "type": "scatter3d",
         "x": [
          "4.0",
          "3.9",
          "4.0",
          "4.1",
          "4.2",
          "4.5",
          "3.9",
          "4.0",
          "4.2",
          "4.1",
          "4.1",
          "4.5",
          "4.1",
          "3.7",
          "4.2",
          "4.2",
          "3.0",
          "4.2",
          "4.3",
          "3.8",
          "4.0",
          "3.9",
          "4.1",
          "4.0",
          "4.1",
          "4.0",
          "4.0",
          "4.1",
          "4.0",
          "3.9",
          "4.5",
          "4.2",
          "3.3",
          "4.5",
          "3.9",
          "3.6",
          "4.0",
          "4.3",
          "4.2",
          "4.2",
          "4.1",
          "4.1",
          "4.1",
          "4.5",
          "3.7",
          "4.1",
          "3.3",
          "4.1",
          "4",
          "3.7",
          "4.1",
          "2.9",
          "3.1"
         ],
         "y": [
          "43,994",
          "7,928",
          "43,994",
          "13,045",
          "12,153",
          "74,976",
          "1,075",
          "576",
          "92,595",
          "314",
          "602",
          "127",
          "425",
          "612",
          "1,335",
          "85",
          null,
          "1,335",
          "87",
          "538",
          "43,993",
          "7,928",
          "1,786",
          "43,994",
          "13,045",
          "3,197",
          "4,740",
          "602",
          "43,994",
          "7,928",
          "13,568",
          "12,153",
          "2,804",
          "74,976",
          "1,075",
          "2,492",
          "575",
          "9,998",
          "362",
          "92,595",
          "314",
          "602",
          "7,333",
          "127",
          "2,031",
          "2,70,563",
          "12",
          "1,996",
          "10,234",
          "7,945",
          "1,379",
          "159",
          "2"
         ],
         "z": [
          "₹349",
          "₹1,899",
          "₹299",
          "₹499",
          "₹699",
          "₹750",
          "₹999",
          "₹999",
          "₹395",
          "₹349",
          "₹499",
          "₹999",
          "₹999",
          "₹499",
          "₹399",
          "₹999",
          "₹999",
          "₹399",
          "₹999",
          "₹499",
          "₹349",
          "₹999",
          "₹499",
          "₹299",
          "₹499",
          "₹1,099",
          "₹1,899",
          "₹499",
          "₹349",
          "₹999",
          "₹599",
          "₹699",
          "₹499",
          "₹750",
          "₹999",
          "₹499",
          "₹999",
          "₹499",
          "₹999",
          "₹395",
          "₹349",
          "₹499",
          "₹799",
          "₹999",
          "₹1,999",
          "₹495",
          "₹499",
          "₹499",
          "₹499",
          "₹399",
          "₹400",
          "₹699",
          "₹999"
         ]
        },
        {
         "hovertemplate": "discounted_price=₹329<br>rating=%{x}<br>rating_count=%{y}<br>actual_price=%{z}<extra></extra>",
         "legendgroup": "₹329",
         "marker": {
          "color": "#00cc96",
          "symbol": "circle"
         },
         "mode": "markers",
         "name": "₹329",
         "scene": "scene",
         "showlegend": true,
         "type": "scatter3d",
         "x": [
          "4.2",
          "4.2",
          "4.2",
          "4.2",
          "3.9",
          "4.2",
          "3.6",
          "4.2"
         ],
         "y": [
          "94,363",
          "29,746",
          "94,364",
          "3,492",
          "77,027",
          "94,364",
          "33,735",
          "29,746"
         ],
         "z": [
          "₹699",
          "₹845",
          "₹699",
          "₹999",
          "₹999",
          "₹699",
          "₹399",
          "₹845"
         ]
        },
        {
         "hovertemplate": "discounted_price=₹154<br>rating=%{x}<br>rating_count=%{y}<br>actual_price=%{z}<extra></extra>",
         "legendgroup": "₹154",
         "marker": {
          "color": "#ab63fa",
          "symbol": "circle"
         },
         "mode": "markers",
         "name": "₹154",
         "scene": "scene",
         "showlegend": true,
         "type": "scatter3d",
         "x": [
          "4.2",
          "4.3",
          "4.3",
          "4.2",
          "4.3",
          "4.2",
          "4.3",
          "4.3"
         ],
         "y": [
          "16,905",
          "13,391",
          "7,064",
          "16,905",
          "13,391",
          "16,905",
          "13,391",
          "7,064"
         ],
         "z": [
          "₹399",
          "₹339",
          "₹349",
          "₹399",
          "₹339",
          "₹399",
          "₹339",
          "₹349"
         ]
        },
        {
         "hovertemplate": "discounted_price=₹149<br>rating=%{x}<br>rating_count=%{y}<br>actual_price=%{z}<extra></extra>",
         "legendgroup": "₹149",
         "marker": {
          "color": "#FFA15A",
          "symbol": "circle"
         },
         "mode": "markers",
         "name": "₹149",
         "scene": "scene",
         "showlegend": true,
         "type": "scatter3d",
         "x": [
          "3.9",
          "4.0",
          "4.0",
          "3.9",
          "4.0",
          "3.9",
          "4.3",
          "3.5",
          "3.9",
          "4.4",
          "4.0",
          "4.1",
          "3.5",
          "4.0",
          "4.3",
          "4.1"
         ],
         "y": [
          "24,871",
          "1,313",
          "7,732",
          "57",
          "1,423",
          "24,870",
          "10,833",
          "21,764",
          "24,870",
          "644",
          "1,540",
          "25,607",
          "2,523",
          "5,057",
          "10,833",
          "4,074"
         ],
         "z": [
          "₹1,000",
          "₹999",
          "₹499",
          "₹399",
          "₹399",
          "₹1,000",
          "₹149",
          "₹399",
          "₹1,000",
          "₹180",
          "₹399",
          "₹499",
          "₹999",
          "₹249",
          "₹149",
          "₹300"
         ]
        },
        {
         "hovertemplate": "discounted_price=₹176.63<br>rating=%{x}<br>rating_count=%{y}<br>actual_price=%{z}<extra></extra>",
         "legendgroup": "₹176.63",
         "marker": {
          "color": "#19d3f3",
          "symbol": "circle"
         },
         "mode": "markers",
         "name": "₹176.63",
         "scene": "scene",
         "showlegend": true,
         "type": "scatter3d",
         "x": [
          "4.1",
          "4.1",
          "4.1"
         ],
         "y": [
          "15,188",
          "15,189",
          "15,189"
         ],
         "z": [
          "₹499",
          "₹499",
          "₹499"
         ]
        },
        {
         "hovertemplate": "discounted_price=₹229<br>rating=%{x}<br>rating_count=%{y}<br>actual_price=%{z}<extra></extra>",
         "legendgroup": "₹229",
         "marker": {
          "color": "#FF6692",
          "symbol": "circle"
         },
         "mode": "markers",
         "name": "₹229",
         "scene": "scene",
         "showlegend": true,
         "type": "scatter3d",
         "x": [
          "4.3",
          "4.3",
          "4.3",
          "4.3",
          "3.5",
          "3.6"
         ],
         "y": [
          "30,411",
          "12,835",
          "30,411",
          "30,411",
          "185",
          "451"
         ],
         "z": [
          "₹299",
          "₹595",
          "₹299",
          "₹299",
          "₹499",
          "₹399"
         ]
        },
        {
         "hovertemplate": "discounted_price=₹499<br>rating=%{x}<br>rating_count=%{y}<br>actual_price=%{z}<extra></extra>",
         "legendgroup": "₹499",
         "marker": {
          "color": "#B6E880",
          "symbol": "circle"
         },
         "mode": "markers",
         "name": "₹499",
         "scene": "scene",
         "showlegend": true,
         "type": "scatter3d",
         "x": [
          "4.2",
          "4.2",
          "4.3",
          "4.3",
          "4.4",
          "3.7",
          "4.4",
          "4.2",
          "4.2",
          "4.1",
          "4.1",
          "3.9",
          "3.7",
          "5.0",
          "4.3",
          "3.6",
          "4.4",
          "3.9",
          "3.9",
          "4.5",
          "4.3",
          "4.1",
          "3.9",
          "4.1",
          "4.2",
          "4.1",
          "3.7",
          "4.6",
          "4.7",
          "2.8",
          "3.1",
          "4.3",
          "3.9",
          "3.6"
         ],
         "y": [
          "1,79,691",
          "919",
          "30,411",
          "5,451",
          "25,177",
          "185",
          "2,165",
          "31,539",
          "21,916",
          "1,475",
          "412",
          "92,995",
          "3,369",
          "23",
          "2,125",
          "9,169",
          "1,030",
          "6,742",
          "1,173",
          "434",
          "74",
          "2,740",
          "1,462",
          "4,859",
          "5,355",
          "3,036",
          "53",
          "79",
          "54",
          "109",
          "3,527",
          "1,436",
          "65",
          "212"
         ],
         "z": [
          "₹999",
          "₹899",
          "₹1,299",
          "₹1,200",
          "₹1,100",
          "₹899",
          "₹900",
          "₹499",
          "₹599",
          "₹1,899",
          "₹1,899",
          "₹999",
          "₹1,999",
          "₹1,000",
          "₹799",
          "₹1,499",
          "₹999",
          "₹799",
          "₹1,299",
          "₹1,299",
          "₹775",
          "₹1,299",
          "₹1,399",
          "₹999",
          "₹625",
          "₹940",
          "₹2,199",
          "₹999",
          "₹1,299",
          "₹2,199",
          "₹2,199",
          "₹999",
          "₹1,299",
          "₹799"
         ]
        },
        {
         "hovertemplate": "discounted_price=₹299<br>rating=%{x}<br>rating_count=%{y}<br>actual_price=%{z}<extra></extra>",
         "legendgroup": "₹299",
         "marker": {
          "color": "#FF97FF",
          "symbol": "circle"
         },
         "mode": "markers",
         "name": "₹299",
         "scene": "scene",
         "showlegend": true,
         "type": "scatter3d",
         "x": [
          "4.2",
          "4.0",
          "4.3",
          "4.4",
          "4.2",
          "4.0",
          "4.3",
          "3.9",
          "4.1",
          "4.3",
          "3.7",
          "4.5",
          "3.8",
          "3.8",
          "3.5",
          "4.4",
          "4.2",
          "4.3",
          "4.2",
          "4.4",
          "3.7",
          "4.0",
          "4.0",
          "3.9",
          "4.3",
          "3.6",
          "4.2",
          "4.3",
          "4.5",
          "4.3",
          "4.3",
          "4.1",
          "4.5",
          "3.5",
          "3.8",
          "4.2",
          "4.5",
          "4.2",
          "4.0",
          "4.3",
          "4.6",
          "3.8",
          "4.5",
          "4.2",
          "3.9",
          "4"
         ],
         "y": [
          "94,363",
          "2,766",
          "20,850",
          "28,791",
          "94,363",
          "1,588",
          "766",
          "1,193",
          "2,957",
          "10,911",
          "490",
          "74,977",
          "928",
          "425",
          "466",
          "28,791",
          "2,117",
          "2,651",
          "94,363",
          "8,714",
          "708",
          "151",
          "171",
          "1,454",
          "1,902",
          "18,202",
          "94,364",
          "20,850",
          "596",
          "8,891",
          "4,674",
          "1,597",
          "33,176",
          "11,827",
          "3,066",
          "24,432",
          "21,010",
          "903",
          "2,766",
          "20,850",
          "33,434",
          "40,895",
          "2,453",
          "2,868",
          "1,015",
          "314"
         ],
         "z": [
          "₹799",
          "₹399",
          "₹999",
          "₹799",
          "₹699",
          "₹899",
          "₹999",
          "₹1,199",
          "₹699",
          "₹485",
          "₹1,199",
          "₹800",
          "₹999",
          "₹899",
          "₹1,199",
          "₹798",
          "₹799",
          "₹999",
          "₹799",
          "₹700",
          "₹599",
          "₹799",
          "₹599",
          "₹699",
          "₹799",
          "₹1,900",
          "₹799",
          "₹999",
          "₹1,199",
          "₹999",
          "₹599",
          "₹599",
          "₹650",
          "₹449",
          "₹599",
          "₹499",
          "₹499",
          "₹1,499",
          "₹399",
          "₹999",
          "₹550",
          "₹400",
          "₹990",
          "₹1,499",
          "₹499",
          "₹595"
         ]
        },
        {
         "hovertemplate": "discounted_price=₹219<br>rating=%{x}<br>rating_count=%{y}<br>actual_price=%{z}<extra></extra>",
         "legendgroup": "₹219",
         "marker": {
          "color": "#FECB52",
          "symbol": "circle"
         },
         "mode": "markers",
         "name": "₹219",
         "scene": "scene",
         "showlegend": true,
         "type": "scatter3d",
         "x": [
          "4.4",
          "4.3",
          "4.3",
          "4.4",
          "4.4",
          "4.3",
          "4"
         ],
         "y": [
          "4,26,973",
          "20,053",
          "20,052",
          "14",
          "4,26,972",
          "20,053",
          "1,108"
         ],
         "z": [
          "₹700",
          "₹700",
          "₹700",
          "₹499",
          "₹700",
          "₹700",
          "₹249"
         ]
        },
        {
         "hovertemplate": "discounted_price=₹350<br>rating=%{x}<br>rating_count=%{y}<br>actual_price=%{z}<extra></extra>",
         "legendgroup": "₹350",
         "marker": {
          "color": "#636efa",
          "symbol": "circle"
         },
         "mode": "markers",
         "name": "₹350",
         "scene": "scene",
         "showlegend": true,
         "type": "scatter3d",
         "x": [
          "4.2",
          "3.9",
          "4.2",
          "4.2"
         ],
         "y": [
          "2,262",
          "8,314",
          "2,263",
          "2,262"
         ],
         "z": [
          "₹899",
          "₹599",
          "₹899",
          "₹899"
         ]
        },
        {
         "hovertemplate": "discounted_price=₹159<br>rating=%{x}<br>rating_count=%{y}<br>actual_price=%{z}<extra></extra>",
         "legendgroup": "₹159",
         "marker": {
          "color": "#EF553B",
          "symbol": "circle"
         },
         "mode": "markers",
         "name": "₹159",
         "scene": "scene",
         "showlegend": true,
         "type": "scatter3d",
         "x": [
          "4.1",
          "4.3",
          "4.1",
          "4.1",
          "4.3"
         ],
         "y": [
          "4,768",
          "14,184",
          "4,768",
          "4,768",
          "989"
         ],
         "z": [
          "₹399",
          "₹595",
          "₹399",
          "₹399",
          "₹180"
         ]
        },
        {
         "hovertemplate": "discounted_price=₹349<br>rating=%{x}<br>rating_count=%{y}<br>actual_price=%{z}<extra></extra>",
         "legendgroup": "₹349",
         "marker": {
          "color": "#00cc96",
          "symbol": "circle"
         },
         "mode": "markers",
         "name": "₹349",
         "scene": "scene",
         "showlegend": true,
         "type": "scatter3d",
         "x": [
          "4.4",
          "4.5",
          "4.1",
          "4.3",
          "4.2",
          "4.2",
          "4.0",
          "4.3",
          "4.0",
          "3.8",
          "3.6",
          "4.2",
          "4.1",
          "3.9",
          "4.3",
          "4.0",
          "4.1",
          "3.9",
          "4.4",
          "3.8",
          "3.8",
          "4.3",
          "4.0",
          "4.4",
          "3.8",
          "4.2",
          "4.1",
          "3.9",
          "4.1",
          "4.5",
          "4"
         ],
         "y": [
          "18,757",
          "149",
          "210",
          "4,145",
          "13,120",
          "284",
          "3,295",
          "20,850",
          "839",
          "197",
          "323",
          "513",
          "14,896",
          "214",
          "838",
          "14,282",
          "3,63,713",
          "46,399",
          "18,757",
          "16,557",
          "16,557",
          "24,791",
          "14,283",
          "18,757",
          "16,557",
          "6,676",
          "18,656",
          "817",
          "210",
          "149",
          "15,646"
         ],
         "z": [
          "₹399",
          "₹899",
          "₹599",
          "₹1,499",
          "₹999",
          "₹599",
          "₹1,299",
          "₹699",
          "₹999",
          "₹1,999",
          "₹799",
          "₹999",
          "₹899",
          "₹699",
          "₹999",
          "₹1,299",
          "₹999",
          "₹999",
          "₹399",
          "₹999",
          "₹999",
          "₹1,499",
          "₹1,299",
          "₹399",
          "₹999",
          "₹995",
          "₹450",
          "₹999",
          "₹599",
          "₹899",
          "₹999"
         ]
        },
        {
         "hovertemplate": "discounted_price=₹13,999<br>rating=%{x}<br>rating_count=%{y}<br>actual_price=%{z}<extra></extra>",
         "legendgroup": "₹13,999",
         "marker": {
          "color": "#ab63fa",
          "symbol": "circle"
         },
         "mode": "markers",
         "name": "₹13,999",
         "scene": "scene",
         "showlegend": true,
         "type": "scatter3d",
         "x": [
          "4.2",
          "4.2",
          "4.1",
          "4.1",
          "4.1",
          "4.1",
          "4.1",
          "3.9",
          "3.9",
          "4.1",
          "4.2",
          "4.4"
         ],
         "y": [
          "32,840",
          "45,238",
          "18,998",
          "19,252",
          "18,998",
          "19,252",
          "18,998",
          "2,180",
          "2,180",
          "18,998",
          "45,237",
          "8,948"
         ],
         "z": [
          "₹24,999",
          "₹24,999",
          "₹19,499",
          "₹19,999",
          "₹19,499",
          "₹19,999",
          "₹19,499",
          "₹15,999",
          "₹15,999",
          "₹19,499",
          "₹24,999",
          "₹24,850"
         ]
        },
        {
         "hovertemplate": "discounted_price=₹249<br>rating=%{x}<br>rating_count=%{y}<br>actual_price=%{z}<extra></extra>",
         "legendgroup": "₹249",
         "marker": {
          "color": "#FFA15A",
          "symbol": "circle"
         },
         "mode": "markers",
         "name": "₹249",
         "scene": "scene",
         "showlegend": true,
         "type": "scatter3d",
         "x": [
          "4.0",
          "3.8",
          "3.9",
          "3.4",
          "4.0",
          "4.1",
          "4.3",
          "5.0",
          "4.0",
          "4.0",
          "3.9",
          "4.5",
          "4.0",
          "4.5",
          "4.2",
          "3.3",
          "4.1"
         ],
         "y": [
          "43,994",
          "1,079",
          "1,075",
          "4,642",
          "6,558",
          "1,508",
          "112",
          null,
          "14,404",
          "43,994",
          "2,147",
          "38",
          "1,208",
          "5,985",
          "22,860",
          "8,427",
          "693"
         ],
         "z": [
          "₹399",
          "₹799",
          "₹931",
          "₹399",
          "₹399",
          "₹499",
          "₹999",
          "₹999",
          "₹649",
          "₹399",
          "₹599",
          "₹999",
          "₹600",
          "₹599",
          "₹499",
          "₹499",
          "₹400"
         ]
        },
        {
         "hovertemplate": "discounted_price=₹13,490<br>rating=%{x}<br>rating_count=%{y}<br>actual_price=%{z}<extra></extra>",
         "legendgroup": "₹13,490",
         "marker": {
          "color": "#19d3f3",
          "symbol": "circle"
         },
         "mode": "markers",
         "name": "₹13,490",
         "scene": "scene",
         "showlegend": true,
         "type": "scatter3d",
         "x": [
          "4.3",
          "4.3",
          "4.3",
          "4.3"
         ],
         "y": [
          "11,976",
          "16,299",
          "11,976",
          "16,299"
         ],
         "z": [
          "₹21,990",
          "₹22,900",
          "₹21,990",
          "₹22,900"
         ]
        },
        {
         "hovertemplate": "discounted_price=₹970<br>rating=%{x}<br>rating_count=%{y}<br>actual_price=%{z}<extra></extra>",
         "legendgroup": "₹970",
         "marker": {
          "color": "#FF6692",
          "symbol": "circle"
         },
         "mode": "markers",
         "name": "₹970",
         "scene": "scene",
         "showlegend": true,
         "type": "scatter3d",
         "x": [
          "4.5",
          "4.4",
          "4.2",
          "4.5",
          "4.4",
          "4.5",
          "4.4",
          "4.2"
         ],
         "y": [
          "815",
          "184",
          "462",
          "815",
          "184",
          "815",
          "184",
          "462"
         ],
         "z": [
          "₹1,799",
          "₹1,999",
          "₹1,999",
          "₹1,799",
          "₹1,999",
          "₹1,799",
          "₹1,999",
          "₹1,999"
         ]
        },
        {
         "hovertemplate": "discounted_price=₹279<br>rating=%{x}<br>rating_count=%{y}<br>actual_price=%{z}<extra></extra>",
         "legendgroup": "₹279",
         "marker": {
          "color": "#B6E880",
          "symbol": "circle"
         },
         "mode": "markers",
         "name": "₹279",
         "scene": "scene",
         "showlegend": true,
         "type": "scatter3d",
         "x": [
          "3.7",
          "4.2",
          "3.7",
          "4.3",
          "4.0",
          "4.8",
          "4.3",
          "3.5"
         ],
         "y": [
          "10,962",
          "2,646",
          "10,962",
          "31,534",
          "5,072",
          "28",
          "2,326",
          "1,367"
         ],
         "z": [
          "₹499",
          "₹1,499",
          "₹499",
          "₹375",
          "₹1,299",
          "₹499",
          "₹699",
          "₹599"
         ]
        },
        {
         "hovertemplate": "discounted_price=₹59<br>rating=%{x}<br>rating_count=%{y}<br>actual_price=%{z}<extra></extra>",
         "legendgroup": "₹59",
         "marker": {
          "color": "#FF97FF",
          "symbol": "circle"
         },
         "mode": "markers",
         "name": "₹59",
         "scene": "scene",
         "showlegend": true,
         "type": "scatter3d",
         "x": [
          "4.0",
          "4.0",
          "4.0",
          "3.8",
          "4.0"
         ],
         "y": [
          "9,378",
          "9,378",
          "9,377",
          "5,958",
          "9,377"
         ],
         "z": [
          "₹199",
          "₹199",
          "₹199",
          "₹59",
          "₹199"
         ]
        },
        {
         "hovertemplate": "discounted_price=₹11,499<br>rating=%{x}<br>rating_count=%{y}<br>actual_price=%{z}<extra></extra>",
         "legendgroup": "₹11,499",
         "marker": {
          "color": "#FECB52",
          "symbol": "circle"
         },
         "mode": "markers",
         "name": "₹11,499",
         "scene": "scene",
         "showlegend": true,
         "type": "scatter3d",
         "x": [
          "4.3"
         ],
         "y": [
          "4,703"
         ],
         "z": [
          "₹19,990"
         ]
        },
        {
         "hovertemplate": "discounted_price=₹14,999<br>rating=%{x}<br>rating_count=%{y}<br>actual_price=%{z}<extra></extra>",
         "legendgroup": "₹14,999",
         "marker": {
          "color": "#636efa",
          "symbol": "circle"
         },
         "mode": "markers",
         "name": "₹14,999",
         "scene": "scene",
         "showlegend": true,
         "type": "scatter3d",
         "x": [
          "4.2",
          "4.3"
         ],
         "y": [
          "34,899",
          "27,508"
         ],
         "z": [
          "₹19,999",
          "₹14,999"
         ]
        },
        {
         "hovertemplate": "discounted_price=₹179<br>rating=%{x}<br>rating_count=%{y}<br>actual_price=%{z}<extra></extra>",
         "legendgroup": "₹179",
         "marker": {
          "color": "#EF553B",
          "symbol": "circle"
         },
         "mode": "markers",
         "name": "₹179",
         "scene": "scene",
         "showlegend": true,
         "type": "scatter3d",
         "x": [
          "4.0",
          "4.2",
          "3.7",
          "4.0",
          "3.9",
          "4.0",
          "4.0",
          "3.4",
          "4.0",
          "4.1",
          "4.0",
          "3.5",
          "3.6"
         ],
         "y": [
          "1,934",
          "92,595",
          "2,201",
          "1,423",
          "81",
          "1,423",
          "1,423",
          "9,385",
          "1,933",
          "10,174",
          "1,423",
          "132",
          "101"
         ],
         "z": [
          "₹499",
          "₹500",
          "₹799",
          "₹399",
          "₹299",
          "₹399",
          "₹399",
          "₹499",
          "₹499",
          "₹499",
          "₹399",
          "₹799",
          "₹799"
         ]
        },
        {
         "hovertemplate": "discounted_price=₹389<br>rating=%{x}<br>rating_count=%{y}<br>actual_price=%{z}<extra></extra>",
         "legendgroup": "₹389",
         "marker": {
          "color": "#00cc96",
          "symbol": "circle"
         },
         "mode": "markers",
         "name": "₹389",
         "scene": "scene",
         "showlegend": true,
         "type": "scatter3d",
         "x": [
          "4.3",
          "4.3",
          "4.3"
         ],
         "y": [
          "974",
          "838",
          "974"
         ],
         "z": [
          "₹1,099",
          "₹999",
          "₹1,099"
         ]
        },
        {
         "hovertemplate": "discounted_price=₹599<br>rating=%{x}<br>rating_count=%{y}<br>actual_price=%{z}<extra></extra>",
         "legendgroup": "₹599",
         "marker": {
          "color": "#ab63fa",
          "symbol": "circle"
         },
         "mode": "markers",
         "name": "₹599",
         "scene": "scene",
         "showlegend": true,
         "type": "scatter3d",
         "x": [
          "4.3",
          "4.5",
          "4.5",
          "4.2",
          "4.1",
          "3.9",
          "3.5",
          "4.3",
          "4.1",
          "4.1",
          "4.0",
          "4.1",
          "4.4",
          "4.1",
          "3.8",
          "4.0",
          "4.3",
          "3.9",
          "4.3",
          "4.4",
          "4.0",
          "4.3",
          "4.0",
          "4.3",
          "4.2",
          "3.9",
          "3.9",
          "4.2"
         ],
         "y": [
          "355",
          "577",
          "474",
          "47",
          "1,92,590",
          "58,162",
          "83,996",
          "1,40,036",
          "1,61,679",
          "1,92,589",
          "18,654",
          "14,560",
          "61,314",
          "1,92,587",
          "60,026",
          "4,018",
          "95,116",
          "1,087",
          "15,790",
          "4,736",
          "26,423",
          "355",
          "7,601",
          "2,301",
          "24,247",
          "16,166",
          "578",
          "590"
         ],
         "z": [
          "₹599",
          "₹849",
          "₹849",
          "₹1,999",
          "₹999",
          "₹2,499",
          "₹1,800",
          "₹1,899",
          "₹1,490",
          "₹1,299",
          "₹999",
          "₹1,399",
          "₹895",
          "₹999",
          "₹1,399",
          "₹899",
          "₹899",
          "₹3,999",
          "₹799",
          "₹1,999",
          "₹599",
          "₹599",
          "₹999",
          "₹700",
          "₹785",
          "₹990",
          "₹2,799",
          "₹1,299"
         ]
        },
        {
         "hovertemplate": "discounted_price=₹99<br>rating=%{x}<br>rating_count=%{y}<br>actual_price=%{z}<extra></extra>",
         "legendgroup": "₹99",
         "marker": {
          "color": "#FFA15A",
          "symbol": "circle"
         },
         "mode": "markers",
         "name": "₹99",
         "scene": "scene",
         "showlegend": true,
         "type": "scatter3d",
         "x": [
          "3.9",
          "3.9",
          "3.9",
          "4.3",
          "4.0",
          "4.5",
          "3.9",
          "4.1",
          "4.4",
          "4.1",
          "4.0",
          "4.1",
          "4.3",
          "4.3",
          "3.8"
         ],
         "y": [
          "24,871",
          "24,871",
          "1,075",
          "42,641",
          "1,396",
          "11,339",
          "24,870",
          "2,451",
          "305",
          "8,751",
          "1,396",
          "2,451",
          "388",
          "5,036",
          "594"
         ],
         "z": [
          "₹666.66",
          "₹800",
          "₹800",
          "₹499",
          "₹999",
          "₹171",
          "₹666.66",
          "₹499",
          "₹999",
          "₹999",
          "₹999",
          "₹499",
          "₹99",
          "₹99",
          "₹999"
         ]
        },
        {
         "hovertemplate": "discounted_price=₹899<br>rating=%{x}<br>rating_count=%{y}<br>actual_price=%{z}<extra></extra>",
         "legendgroup": "₹899",
         "marker": {
          "color": "#19d3f3",
          "symbol": "circle"
         },
         "mode": "markers",
         "name": "₹899",
         "scene": "scene",
         "showlegend": true,
         "type": "scatter3d",
         "x": [
          "4.4",
          "4.4",
          "3.0",
          "3.8",
          "4.1",
          "4.2",
          "4.4",
          "4.1",
          "3.8",
          "4.4",
          "3.6",
          "3.9",
          "4.1",
          "4",
          "3.4",
          "4",
          "4.2"
         ],
         "y": [
          "13,552",
          "13,552",
          "681",
          "1,03,052",
          "30,469",
          "23,174",
          "13,552",
          "22,375",
          "10,751",
          "1,667",
          "291",
          "17,424",
          "185",
          "3,663",
          "15",
          "832",
          "39"
         ],
         "z": [
          "₹1,900",
          "₹1,900",
          "₹3,499",
          "₹4,499",
          "₹1,999",
          "₹1,499",
          "₹1,900",
          "₹1,800",
          "₹1,199",
          "₹1,999",
          "₹2,000",
          "₹1,249",
          "₹1,990",
          "₹1,900",
          "₹1,599",
          "₹1,999",
          "₹1,999"
         ]
        },
        {
         "hovertemplate": "discounted_price=₹32,999<br>rating=%{x}<br>rating_count=%{y}<br>actual_price=%{z}<extra></extra>",
         "legendgroup": "₹32,999",
         "marker": {
          "color": "#FF6692",
          "symbol": "circle"
         },
         "mode": "markers",
         "name": "₹32,999",
         "scene": "scene",
         "showlegend": true,
         "type": "scatter3d",
         "x": [
          "4.2",
          "4.2",
          "4.3"
         ],
         "y": [
          "7,298",
          "45,238",
          "4,703"
         ],
         "z": [
          "₹45,999",
          "₹44,999",
          "₹47,990"
         ]
        },
        {
         "hovertemplate": "discounted_price=₹209<br>rating=%{x}<br>rating_count=%{y}<br>actual_price=%{z}<extra></extra>",
         "legendgroup": "₹209",
         "marker": {
          "color": "#B6E880",
          "symbol": "circle"
         },
         "mode": "markers",
         "name": "₹209",
         "scene": "scene",
         "showlegend": true,
         "type": "scatter3d",
         "x": [
          "4.5",
          "3.9",
          "4.4",
          "4.0",
          "3.6",
          "4.5",
          "3.9"
         ],
         "y": [
          "1,07,687",
          "536",
          "18,872",
          "479",
          "104",
          "1,07,686",
          "536"
         ],
         "z": [
          "₹695",
          "₹499",
          "₹600",
          "₹499",
          "₹499",
          "₹695",
          "₹499"
         ]
        },
        {
         "hovertemplate": "discounted_price=₹19,999<br>rating=%{x}<br>rating_count=%{y}<br>actual_price=%{z}<extra></extra>",
         "legendgroup": "₹19,999",
         "marker": {
          "color": "#FF97FF",
          "symbol": "circle"
         },
         "mode": "markers",
         "name": "₹19,999",
         "scene": "scene",
         "showlegend": true,
         "type": "scatter3d",
         "x": [
          "4.3",
          "3.9",
          "4.3"
         ],
         "y": [
          "27,151",
          "25,824",
          "9,499"
         ],
         "z": [
          "₹34,999",
          "₹24,999",
          "₹27,990"
         ]
        },
        {
         "hovertemplate": "discounted_price=₹999<br>rating=%{x}<br>rating_count=%{y}<br>actual_price=%{z}<extra></extra>",
         "legendgroup": "₹999",
         "marker": {
          "color": "#FECB52",
          "symbol": "circle"
         },
         "mode": "markers",
         "name": "₹999",
         "scene": "scene",
         "showlegend": true,
         "type": "scatter3d",
         "x": [
          "4.3",
          "4.6",
          "4.5",
          "4.4",
          "4.0",
          "4.0",
          "4.6",
          "4.3",
          "4.7",
          "4.6",
          "3.8",
          "4.3",
          "4.2",
          "4.1",
          "4.3",
          "3.5",
          "4.5",
          "3.8",
          "4.1",
          "4.1",
          "3.8",
          "3.6",
          "3.4",
          "4.1",
          "4.2"
         ],
         "y": [
          "12,093",
          "3,664",
          "5,492",
          "7,318",
          "7,222",
          "7,222",
          "26,603",
          "1,777",
          "7,779",
          "6,129",
          "3,390",
          "1,690",
          "27,441",
          "18,331",
          "12,093",
          "1,913",
          "7,317",
          "1,163",
          "12,999",
          "1,646",
          "305",
          "4,881",
          "252",
          "9,275",
          "386"
         ],
         "z": [
          "₹1,599",
          "₹2,399",
          "₹2,100",
          "₹1,699",
          "₹1,599",
          "₹1,599",
          "₹2,899",
          "₹1,999",
          "₹2,899",
          "₹2,899",
          "₹4,499",
          "₹2,499",
          "₹1,999",
          "₹2,490",
          "₹1,599",
          "₹4,199",
          "₹1,995",
          "₹2,000",
          "₹1,490",
          "₹1,499",
          "₹1,950",
          "₹1,560",
          "₹2,600",
          "₹1,075",
          "₹1,500"
         ]
        },
        {
         "hovertemplate": "discounted_price=₹333<br>rating=%{x}<br>rating_count=%{y}<br>actual_price=%{z}<extra></extra>",
         "legendgroup": "₹333",
         "marker": {
          "color": "#636efa",
          "symbol": "circle"
         },
         "mode": "markers",
         "name": "₹333",
         "scene": "scene",
         "showlegend": true,
         "type": "scatter3d",
         "x": [
          "3.3",
          "3.3"
         ],
         "y": [
          "9,792",
          "9,792"
         ],
         "z": [
          "₹999",
          "₹999"
         ]
        },
        {
         "hovertemplate": "discounted_price=₹507<br>rating=%{x}<br>rating_count=%{y}<br>actual_price=%{z}<extra></extra>",
         "legendgroup": "₹507",
         "marker": {
          "color": "#EF553B",
          "symbol": "circle"
         },
         "mode": "markers",
         "name": "₹507",
         "scene": "scene",
         "showlegend": true,
         "type": "scatter3d",
         "x": [
          "4.1",
          "4.1"
         ],
         "y": [
          "8,131",
          "8,131"
         ],
         "z": [
          "₹1,208",
          "₹1,208"
         ]
        },
        {
         "hovertemplate": "discounted_price=₹309<br>rating=%{x}<br>rating_count=%{y}<br>actual_price=%{z}<extra></extra>",
         "legendgroup": "₹309",
         "marker": {
          "color": "#00cc96",
          "symbol": "circle"
         },
         "mode": "markers",
         "name": "₹309",
         "scene": "scene",
         "showlegend": true,
         "type": "scatter3d",
         "x": [
          "4.4",
          "4.4",
          "4.4"
         ],
         "y": [
          "4,26,973",
          "4,26,973",
          "8,614"
         ],
         "z": [
          "₹475",
          "₹1,400",
          "₹404"
         ]
        },
        {
         "hovertemplate": "discounted_price=₹1,199<br>rating=%{x}<br>rating_count=%{y}<br>actual_price=%{z}<extra></extra>",
         "legendgroup": "₹1,199",
         "marker": {
          "color": "#ab63fa",
          "symbol": "circle"
         },
         "mode": "markers",
         "name": "₹1,199",
         "scene": "scene",
         "showlegend": true,
         "type": "scatter3d",
         "x": [
          "4.4",
          "3.8",
          "4.1",
          "4.0",
          "3.9",
          "3.6",
          "4.4",
          "4.1",
          "3.8",
          "4.5",
          "4.2",
          "3.6",
          "4",
          "4",
          "4",
          "3.9",
          "3.8",
          "4.2",
          "4.3",
          "4.2",
          "4.2",
          "3.8",
          "3.9"
         ],
         "y": [
          "24,780",
          "14,961",
          "11,716",
          "33,584",
          "47,521",
          "25,910",
          "24,780",
          "10,725",
          "2,043",
          "22,420",
          "2,908",
          "13,300",
          "18,543",
          "14,030",
          "1,765",
          "2,832",
          "2,206",
          "4,580",
          "1,802",
          "5,967",
          "3,858",
          "133",
          "1,202"
         ],
         "z": [
          "₹2,199",
          "₹4,999",
          "₹3,490",
          "₹2,499",
          "₹5,999",
          "₹7,999",
          "₹2,199",
          "₹2,999",
          "₹5,499",
          "₹1,999",
          "₹3,990",
          "₹1,695",
          "₹2,000",
          "₹2,000",
          "₹1,900",
          "₹1,950",
          "₹1,499",
          "₹1,690",
          "₹3,500",
          "₹1,795",
          "₹1,899",
          "₹2,990",
          "₹2,400"
         ]
        },
        {
         "hovertemplate": "discounted_price=₹799<br>rating=%{x}<br>rating_count=%{y}<br>actual_price=%{z}<extra></extra>",
         "legendgroup": "₹799",
         "marker": {
          "color": "#FFA15A",
          "symbol": "circle"
         },
         "mode": "markers",
         "name": "₹799",
         "scene": "scene",
         "showlegend": true,
         "type": "scatter3d",
         "x": [
          "4.3",
          "4.1",
          "3.3",
          "4.2",
          "4.1",
          "3.8",
          "4.3",
          "4.3",
          "3.8",
          "4.4",
          "4.1",
          "4.3",
          "3.7",
          "4.3",
          "4.3",
          "4.1",
          "4.1",
          "4.5",
          "4",
          "4.4"
         ],
         "y": [
          "8,188",
          "28,638",
          "576",
          "8,583",
          "5,626",
          "119",
          "8,188",
          "27,139",
          "12,958",
          "34,852",
          "53,648",
          "8,188",
          "418",
          "70",
          "9,695",
          "2,162",
          "2,138",
          "63",
          "97",
          "17"
         ],
         "z": [
          "₹2,100",
          "₹1,700",
          "₹1,999",
          "₹1,999",
          "₹1,749",
          "₹3,990",
          "₹2,100",
          "₹3,990",
          "₹1,999",
          "₹1,295",
          "₹1,499",
          "₹2,100",
          "₹1,999",
          "₹1,989",
          "₹1,500",
          "₹1,999",
          "₹1,230",
          "₹2,999",
          "₹1,699",
          "₹1,199"
         ]
        },
        {
         "hovertemplate": "discounted_price=₹6,999<br>rating=%{x}<br>rating_count=%{y}<br>actual_price=%{z}<extra></extra>",
         "legendgroup": "₹6,999",
         "marker": {
          "color": "#19d3f3",
          "symbol": "circle"
         },
         "mode": "markers",
         "name": "₹6,999",
         "scene": "scene",
         "showlegend": true,
         "type": "scatter3d",
         "x": [
          "4.2",
          "3.8",
          "4.4",
          "4.1"
         ],
         "y": [
          "4,003",
          "110",
          "11,499",
          "1,728"
         ],
         "z": [
          "₹12,999",
          "₹16,990",
          "₹10,590",
          "₹14,999"
         ]
        },
        {
         "hovertemplate": "discounted_price=₹230<br>rating=%{x}<br>rating_count=%{y}<br>actual_price=%{z}<extra></extra>",
         "legendgroup": "₹230",
         "marker": {
          "color": "#FF6692",
          "symbol": "circle"
         },
         "mode": "markers",
         "name": "₹230",
         "scene": "scene",
         "showlegend": true,
         "type": "scatter3d",
         "x": [
          "3.7",
          "4.2",
          "4.5"
         ],
         "y": [
          "2,960",
          "1,528",
          "9,427"
         ],
         "z": [
          "₹499",
          "₹999",
          "₹230"
         ]
        },
        {
         "hovertemplate": "discounted_price=₹649<br>rating=%{x}<br>rating_count=%{y}<br>actual_price=%{z}<extra></extra>",
         "legendgroup": "₹649",
         "marker": {
          "color": "#B6E880",
          "symbol": "circle"
         },
         "mode": "markers",
         "name": "₹649",
         "scene": "scene",
         "showlegend": true,
         "type": "scatter3d",
         "x": [
          "4.2",
          "4.2",
          "4.2",
          "4.3",
          "4.2",
          "4.4",
          "3.5",
          "3.9",
          "4.1",
          "3.9",
          "3.8",
          "4.1",
          "3.6"
         ],
         "y": [
          "1,79,691",
          "24,269",
          "24,269",
          "5,451",
          "1,315",
          "67,260",
          "7,222",
          "13,049",
          "5,195",
          "1,23,365",
          "49",
          "7,786",
          "4"
         ],
         "z": [
          "₹1,399",
          "₹1,999",
          "₹1,999",
          "₹1,600",
          "₹999",
          "₹2,400",
          "₹999",
          "₹2,499",
          "₹1,300",
          "₹1,245",
          "₹999",
          "₹670",
          "₹999"
         ]
        },
        {
         "hovertemplate": "discounted_price=₹15,999<br>rating=%{x}<br>rating_count=%{y}<br>actual_price=%{z}<extra></extra>",
         "legendgroup": "₹15,999",
         "marker": {
          "color": "#FF97FF",
          "symbol": "circle"
         },
         "mode": "markers",
         "name": "₹15,999",
         "scene": "scene",
         "showlegend": true,
         "type": "scatter3d",
         "x": [
          "4.2",
          "4"
         ],
         "y": [
          "34,899",
          "11,206"
         ],
         "z": [
          "₹21,999",
          "₹24,500"
         ]
        },
        {
         "hovertemplate": "discounted_price=₹348<br>rating=%{x}<br>rating_count=%{y}<br>actual_price=%{z}<extra></extra>",
         "legendgroup": "₹348",
         "marker": {
          "color": "#FECB52",
          "symbol": "circle"
         },
         "mode": "markers",
         "name": "₹348",
         "scene": "scene",
         "showlegend": true,
         "type": "scatter3d",
         "x": [
          "4.2",
          "4.2"
         ],
         "y": [
          "656",
          "656"
         ],
         "z": [
          "₹1,499",
          "₹1,499"
         ]
        },
        {
         "hovertemplate": "discounted_price=₹32,990<br>rating=%{x}<br>rating_count=%{y}<br>actual_price=%{z}<extra></extra>",
         "legendgroup": "₹32,990",
         "marker": {
          "color": "#636efa",
          "symbol": "circle"
         },
         "mode": "markers",
         "name": "₹32,990",
         "scene": "scene",
         "showlegend": true,
         "type": "scatter3d",
         "x": [
          "4.3",
          "4.3",
          "4.1"
         ],
         "y": [
          "7,109",
          "567",
          "1,555"
         ],
         "z": [
          "₹47,900",
          "₹56,790",
          "₹54,990"
         ]
        },
        {
         "hovertemplate": "discounted_price=₹139<br>rating=%{x}<br>rating_count=%{y}<br>actual_price=%{z}<extra></extra>",
         "legendgroup": "₹139",
         "marker": {
          "color": "#EF553B",
          "symbol": "circle"
         },
         "mode": "markers",
         "name": "₹139",
         "scene": "scene",
         "showlegend": true,
         "type": "scatter3d",
         "x": [
          "4.0",
          "4.0",
          "3.9",
          "4.3",
          "4.0",
          "4.2",
          "3.8",
          "4.0"
         ],
         "y": [
          "1,313",
          "9,378",
          "61",
          "14,185",
          "9,377",
          "4,971",
          "3,044",
          "1,313"
         ],
         "z": [
          "₹999",
          "₹249",
          "₹549",
          "₹495",
          "₹249",
          "₹499",
          "₹299",
          "₹999"
         ]
        },
        {
         "hovertemplate": "discounted_price=₹263<br>rating=%{x}<br>rating_count=%{y}<br>actual_price=%{z}<extra></extra>",
         "legendgroup": "₹263",
         "marker": {
          "color": "#00cc96",
          "symbol": "circle"
         },
         "mode": "markers",
         "name": "₹263",
         "scene": "scene",
         "showlegend": true,
         "type": "scatter3d",
         "x": [
          "4.1",
          "3.5",
          "4.1"
         ],
         "y": [
          "450",
          "690",
          "450"
         ],
         "z": [
          "₹699",
          "₹699",
          "₹699"
         ]
        },
        {
         "hovertemplate": "discounted_price=₹7,999<br>rating=%{x}<br>rating_count=%{y}<br>actual_price=%{z}<extra></extra>",
         "legendgroup": "₹7,999",
         "marker": {
          "color": "#ab63fa",
          "symbol": "circle"
         },
         "mode": "markers",
         "name": "₹7,999",
         "scene": "scene",
         "showlegend": true,
         "type": "scatter3d",
         "x": [
          "4.3",
          "3.8"
         ],
         "y": [
          "457",
          "3,022"
         ],
         "z": [
          "₹14,990",
          "₹15,999"
         ]
        },
        {
         "hovertemplate": "discounted_price=₹1,599<br>rating=%{x}<br>rating_count=%{y}<br>actual_price=%{z}<extra></extra>",
         "legendgroup": "₹1,599",
         "marker": {
          "color": "#FFA15A",
          "symbol": "circle"
         },
         "mode": "markers",
         "name": "₹1,599",
         "scene": "scene",
         "showlegend": true,
         "type": "scatter3d",
         "x": [
          "4.2",
          "4.4",
          "4.0",
          "4.0",
          "4.0",
          "4.3",
          "4.0",
          "4.0",
          "3.7",
          "3.6",
          "4.2",
          "3.7",
          "4.4"
         ],
         "y": [
          "2,727",
          "1,951",
          "30,254",
          "67,950",
          "36,384",
          "1,801",
          "30,254",
          "67,951",
          "676",
          "2,272",
          "16,182",
          "441",
          "1,558"
         ],
         "z": [
          "₹2,999",
          "₹1,999",
          "₹3,999",
          "₹4,999",
          "₹3,499",
          "₹2,599",
          "₹3,999",
          "₹4,999",
          "₹3,490",
          "₹2,790",
          "₹3,599",
          "₹2,900",
          "₹1,999"
         ]
        },
        {
         "hovertemplate": "discounted_price=₹26,999<br>rating=%{x}<br>rating_count=%{y}<br>actual_price=%{z}<extra></extra>",
         "legendgroup": "₹26,999",
         "marker": {
          "color": "#19d3f3",
          "symbol": "circle"
         },
         "mode": "markers",
         "name": "₹26,999",
         "scene": "scene",
         "showlegend": true,
         "type": "scatter3d",
         "x": [
          "4.2",
          "4.2",
          "4.6"
         ],
         "y": [
          "45,238",
          "1,510",
          "2,886"
         ],
         "z": [
          "₹42,999",
          "₹42,999",
          "₹37,999"
         ]
        },
        {
         "hovertemplate": "discounted_price=₹115<br>rating=%{x}<br>rating_count=%{y}<br>actual_price=%{z}<extra></extra>",
         "legendgroup": "₹115",
         "marker": {
          "color": "#FF6692",
          "symbol": "circle"
         },
         "mode": "markers",
         "name": "₹115",
         "scene": "scene",
         "showlegend": true,
         "type": "scatter3d",
         "x": [
          "4.0",
          "4.0",
          "3.3",
          "4.0"
         ],
         "y": [
          "7,732",
          "7,732",
          "5,692",
          "7,732"
         ],
         "z": [
          "₹499",
          "₹499",
          "₹999",
          "₹499"
         ]
        },
        {
         "hovertemplate": "discounted_price=₹10,901<br>rating=%{x}<br>rating_count=%{y}<br>actual_price=%{z}<extra></extra>",
         "legendgroup": "₹10,901",
         "marker": {
          "color": "#B6E880",
          "symbol": "circle"
         },
         "mode": "markers",
         "name": "₹10,901",
         "scene": "scene",
         "showlegend": true,
         "type": "scatter3d",
         "x": [
          "4.1"
         ],
         "y": [
          "398"
         ],
         "z": [
          "₹30,990"
         ]
        },
        {
         "hovertemplate": "discounted_price=₹1,434<br>rating=%{x}<br>rating_count=%{y}<br>actual_price=%{z}<extra></extra>",
         "legendgroup": "₹1,434",
         "marker": {
          "color": "#FF97FF",
          "symbol": "circle"
         },
         "mode": "markers",
         "name": "₹1,434",
         "scene": "scene",
         "showlegend": true,
         "type": "scatter3d",
         "x": [
          "4.0"
         ],
         "y": [
          "32"
         ],
         "z": [
          "₹3,999"
         ]
        },
        {
         "hovertemplate": "discounted_price=₹7,299<br>rating=%{x}<br>rating_count=%{y}<br>actual_price=%{z}<extra></extra>",
         "legendgroup": "₹7,299",
         "marker": {
          "color": "#FECB52",
          "symbol": "circle"
         },
         "mode": "markers",
         "name": "₹7,299",
         "scene": "scene",
         "showlegend": true,
         "type": "scatter3d",
         "x": [
          "3.4"
         ],
         "y": [
          "902"
         ],
         "z": [
          "₹19,125"
         ]
        },
        {
         "hovertemplate": "discounted_price=₹325<br>rating=%{x}<br>rating_count=%{y}<br>actual_price=%{z}<extra></extra>",
         "legendgroup": "₹325",
         "marker": {
          "color": "#636efa",
          "symbol": "circle"
         },
         "mode": "markers",
         "name": "₹325",
         "scene": "scene",
         "showlegend": true,
         "type": "scatter3d",
         "x": [
          "4.2",
          "4.3",
          "4.2",
          "4.2"
         ],
         "y": [
          "10,576",
          "2,651",
          "10,576",
          "10,576"
         ],
         "z": [
          "₹1,299",
          "₹999",
          "₹1,099",
          "₹1,299"
         ]
        },
        {
         "hovertemplate": "discounted_price=₹29,999<br>rating=%{x}<br>rating_count=%{y}<br>actual_price=%{z}<extra></extra>",
         "legendgroup": "₹29,999",
         "marker": {
          "color": "#EF553B",
          "symbol": "circle"
         },
         "mode": "markers",
         "name": "₹29,999",
         "scene": "scene",
         "showlegend": true,
         "type": "scatter3d",
         "x": [
          "4.2",
          "4.4"
         ],
         "y": [
          "7,298",
          "1,712"
         ],
         "z": [
          "₹39,999",
          "₹50,999"
         ]
        },
        {
         "hovertemplate": "discounted_price=₹27,999<br>rating=%{x}<br>rating_count=%{y}<br>actual_price=%{z}<extra></extra>",
         "legendgroup": "₹27,999",
         "marker": {
          "color": "#00cc96",
          "symbol": "circle"
         },
         "mode": "markers",
         "name": "₹27,999",
         "scene": "scene",
         "showlegend": true,
         "type": "scatter3d",
         "x": [
          "4.3"
         ],
         "y": [
          "4,703"
         ],
         "z": [
          "₹40,990"
         ]
        },
        {
         "hovertemplate": "discounted_price=₹30,990<br>rating=%{x}<br>rating_count=%{y}<br>actual_price=%{z}<extra></extra>",
         "legendgroup": "₹30,990",
         "marker": {
          "color": "#ab63fa",
          "symbol": "circle"
         },
         "mode": "markers",
         "name": "₹30,990",
         "scene": "scene",
         "showlegend": true,
         "type": "scatter3d",
         "x": [
          "4.3",
          "4.3"
         ],
         "y": [
          "7,109",
          "1,376"
         ],
         "z": [
          "₹52,900",
          "₹49,990"
         ]
        },
        {
         "hovertemplate": "discounted_price=₹269<br>rating=%{x}<br>rating_count=%{y}<br>actual_price=%{z}<extra></extra>",
         "legendgroup": "₹269",
         "marker": {
          "color": "#FFA15A",
          "symbol": "circle"
         },
         "mode": "markers",
         "name": "₹269",
         "scene": "scene",
         "showlegend": true,
         "type": "scatter3d",
         "x": [
          "3.6",
          "4.4",
          "4.5",
          "4.3",
          "4.5",
          "4.0",
          "4.1",
          "3.6"
         ],
         "y": [
          "10,134",
          "35,877",
          "28,978",
          "54,315",
          "17,810",
          "93",
          "1,092",
          "10,134"
         ],
         "z": [
          "₹800",
          "₹650",
          "₹1,499",
          "₹649",
          "₹315",
          "₹699",
          "₹1,099",
          "₹800"
         ]
        },
        {
         "hovertemplate": "discounted_price=₹24,999<br>rating=%{x}<br>rating_count=%{y}<br>actual_price=%{z}<extra></extra>",
         "legendgroup": "₹24,999",
         "marker": {
          "color": "#19d3f3",
          "symbol": "circle"
         },
         "mode": "markers",
         "name": "₹24,999",
         "scene": "scene",
         "showlegend": true,
         "type": "scatter3d",
         "x": [
          "4.2",
          "4.2"
         ],
         "y": [
          "34,899",
          "32,840"
         ],
         "z": [
          "₹31,999",
          "₹35,999"
         ]
        },
        {
         "hovertemplate": "discounted_price=₹18,990<br>rating=%{x}<br>rating_count=%{y}<br>actual_price=%{z}<extra></extra>",
         "legendgroup": "₹18,990",
         "marker": {
          "color": "#FF6692",
          "symbol": "circle"
         },
         "mode": "markers",
         "name": "₹18,990",
         "scene": "scene",
         "showlegend": true,
         "type": "scatter3d",
         "x": [
          "4.2"
         ],
         "y": [
          "6,659"
         ],
         "z": [
          "₹40,990"
         ]
        },
        {
         "hovertemplate": "discounted_price=₹290<br>rating=%{x}<br>rating_count=%{y}<br>actual_price=%{z}<extra></extra>",
         "legendgroup": "₹290",
         "marker": {
          "color": "#B6E880",
          "symbol": "circle"
         },
         "mode": "markers",
         "name": "₹290",
         "scene": "scene",
         "showlegend": true,
         "type": "scatter3d",
         "x": [
          "3.7"
         ],
         "y": [
          "1,977"
         ],
         "z": [
          "₹349"
         ]
        },
        {
         "hovertemplate": "discounted_price=₹345<br>rating=%{x}<br>rating_count=%{y}<br>actual_price=%{z}<extra></extra>",
         "legendgroup": "₹345",
         "marker": {
          "color": "#FF97FF",
          "symbol": "circle"
         },
         "mode": "markers",
         "name": "₹345",
         "scene": "scene",
         "showlegend": true,
         "type": "scatter3d",
         "x": [
          "3.7"
         ],
         "y": [
          "1,097"
         ],
         "z": [
          "₹999"
         ]
        },
        {
         "hovertemplate": "discounted_price=₹1,099<br>rating=%{x}<br>rating_count=%{y}<br>actual_price=%{z}<extra></extra>",
         "legendgroup": "₹1,099",
         "marker": {
          "color": "#FECB52",
          "symbol": "circle"
         },
         "mode": "markers",
         "name": "₹1,099",
         "scene": "scene",
         "showlegend": true,
         "type": "scatter3d",
         "x": [
          "4.5",
          "3.5",
          "4.2",
          "3.8",
          "4",
          "4.3",
          "4.2",
          "4.3",
          "4.2",
          "3.9",
          "4.1",
          "4.5"
         ],
         "y": [
          "22,420",
          "12,966",
          "2,375",
          "4",
          "604",
          "15,276",
          "4,244",
          "1,811",
          "9,772",
          "5,911",
          "4,401",
          "1,065"
         ],
         "z": [
          "₹1,899",
          "₹5,999",
          "₹1,499",
          "₹2,400",
          "₹1,999",
          "₹1,899",
          "₹1,795",
          "₹1,899",
          "₹1,920",
          "₹1,990",
          "₹1,499",
          "₹1,500"
         ]
        },
        {
         "hovertemplate": "discounted_price=₹719<br>rating=%{x}<br>rating_count=%{y}<br>actual_price=%{z}<extra></extra>",
         "legendgroup": "₹719",
         "marker": {
          "color": "#636efa",
          "symbol": "circle"
         },
         "mode": "markers",
         "name": "₹719",
         "scene": "scene",
         "showlegend": true,
         "type": "scatter3d",
         "x": [
          "4.1",
          "4.1",
          "4.2"
         ],
         "y": [
          "1,045",
          "1,045",
          "17,218"
         ],
         "z": [
          "₹1,499",
          "₹1,499",
          "₹1,295"
         ]
        },
        {
         "hovertemplate": "discounted_price=₹849<br>rating=%{x}<br>rating_count=%{y}<br>actual_price=%{z}<extra></extra>",
         "legendgroup": "₹849",
         "marker": {
          "color": "#EF553B",
          "symbol": "circle"
         },
         "mode": "markers",
         "name": "₹849",
         "scene": "scene",
         "showlegend": true,
         "type": "scatter3d",
         "x": [
          "4.3",
          "4.1",
          "4.0",
          "4.0",
          "4.2",
          "4.2"
         ],
         "y": [
          "6,547",
          "6,736",
          "20,457",
          "7,352",
          "91,188",
          "4,184"
         ],
         "z": [
          "₹1,809",
          "₹999",
          "₹4,999",
          "₹1,499",
          "₹2,490",
          "₹1,190"
         ]
        },
        {
         "hovertemplate": "discounted_price=₹21,999<br>rating=%{x}<br>rating_count=%{y}<br>actual_price=%{z}<extra></extra>",
         "legendgroup": "₹21,999",
         "marker": {
          "color": "#00cc96",
          "symbol": "circle"
         },
         "mode": "markers",
         "name": "₹21,999",
         "scene": "scene",
         "showlegend": true,
         "type": "scatter3d",
         "x": [
          "4.2",
          "4.2"
         ],
         "y": [
          "32,840",
          "32,840"
         ],
         "z": [
          "₹29,999",
          "₹29,999"
         ]
        },
        {
         "hovertemplate": "discounted_price=₹449<br>rating=%{x}<br>rating_count=%{y}<br>actual_price=%{z}<extra></extra>",
         "legendgroup": "₹449",
         "marker": {
          "color": "#ab63fa",
          "symbol": "circle"
         },
         "mode": "markers",
         "name": "₹449",
         "scene": "scene",
         "showlegend": true,
         "type": "scatter3d",
         "x": [
          "4.2",
          "4.0",
          "4.0",
          "4.1",
          "4.0",
          "4.4",
          "4.4",
          "4.3",
          "4.3",
          "4.2"
         ],
         "y": [
          "24,269",
          "3,231",
          "242",
          "91,770",
          "2,102",
          "9,940",
          "69,585",
          "11,330",
          "9,701",
          "4,959"
         ],
         "z": [
          "₹1,299",
          "₹599",
          "₹1,099",
          "₹1,290",
          "₹999",
          "₹999",
          "₹800",
          "₹999",
          "₹999",
          "₹1,300"
         ]
        },
        {
         "hovertemplate": "discounted_price=₹37,999<br>rating=%{x}<br>rating_count=%{y}<br>actual_price=%{z}<extra></extra>",
         "legendgroup": "₹37,999",
         "marker": {
          "color": "#FFA15A",
          "symbol": "circle"
         },
         "mode": "markers",
         "name": "₹37,999",
         "scene": "scene",
         "showlegend": true,
         "type": "scatter3d",
         "x": [
          "4.3"
         ],
         "y": [
          "3,587"
         ],
         "z": [
          "₹65,000"
         ]
        },
        {
         "hovertemplate": "discounted_price=₹7,390<br>rating=%{x}<br>rating_count=%{y}<br>actual_price=%{z}<extra></extra>",
         "legendgroup": "₹7,390",
         "marker": {
          "color": "#19d3f3",
          "symbol": "circle"
         },
         "mode": "markers",
         "name": "₹7,390",
         "scene": "scene",
         "showlegend": true,
         "type": "scatter3d",
         "x": [
          "4.1"
         ],
         "y": [
          "2,581"
         ],
         "z": [
          "₹20,000"
         ]
        },
        {
         "hovertemplate": "discounted_price=₹273.10<br>rating=%{x}<br>rating_count=%{y}<br>actual_price=%{z}<extra></extra>",
         "legendgroup": "₹273.10",
         "marker": {
          "color": "#FF6692",
          "symbol": "circle"
         },
         "mode": "markers",
         "name": "₹273.10",
         "scene": "scene",
         "showlegend": true,
         "type": "scatter3d",
         "x": [
          "4.3"
         ],
         "y": [
          "20,850"
         ],
         "z": [
          "₹999"
         ]
        },
        {
         "hovertemplate": "discounted_price=₹15,990<br>rating=%{x}<br>rating_count=%{y}<br>actual_price=%{z}<extra></extra>",
         "legendgroup": "₹15,990",
         "marker": {
          "color": "#B6E880",
          "symbol": "circle"
         },
         "mode": "markers",
         "name": "₹15,990",
         "scene": "scene",
         "showlegend": true,
         "type": "scatter3d",
         "x": [
          "4.3"
         ],
         "y": [
          "1,035"
         ],
         "z": [
          "₹23,990"
         ]
        },
        {
         "hovertemplate": "discounted_price=₹210<br>rating=%{x}<br>rating_count=%{y}<br>actual_price=%{z}<extra></extra>",
         "legendgroup": "₹210",
         "marker": {
          "color": "#FF97FF",
          "symbol": "circle"
         },
         "mode": "markers",
         "name": "₹210",
         "scene": "scene",
         "showlegend": true,
         "type": "scatter3d",
         "x": [
          "4.1",
          "3.7"
         ],
         "y": [
          "1,717",
          "74"
         ],
         "z": [
          "₹399",
          "₹699"
         ]
        },
        {
         "hovertemplate": "discounted_price=₹1,299<br>rating=%{x}<br>rating_count=%{y}<br>actual_price=%{z}<extra></extra>",
         "legendgroup": "₹1,299",
         "marker": {
          "color": "#FECB52",
          "symbol": "circle"
         },
         "mode": "markers",
         "name": "₹1,299",
         "scene": "scene",
         "showlegend": true,
         "type": "scatter3d",
         "x": [
          "3.6",
          "4.4",
          "4.3",
          "4.0",
          "4.0",
          "3.3",
          "3.3",
          "3.8",
          "4.3",
          "3.9",
          "4.3",
          "3.8",
          "3.8",
          "4.2",
          "3.8",
          "2"
         ],
         "y": [
          "590",
          "7,318",
          "301",
          "1,28,311",
          "1,28,311",
          "4,415",
          "4,415",
          "1,80,998",
          "23,022",
          "12,452",
          "27,223",
          "14,629",
          "44,050",
          "40,106",
          "311",
          "2"
         ],
         "z": [
          "₹1,999",
          "₹1,999",
          "₹2,499",
          "₹1,599",
          "₹1,599",
          "₹5,999",
          "₹5,999",
          "₹2,990",
          "₹3,000",
          "₹3,499",
          "₹1,599",
          "₹2,999",
          "₹3,500",
          "₹1,299",
          "₹1,999",
          "₹2,495"
         ]
        },
        {
         "hovertemplate": "discounted_price=₹347<br>rating=%{x}<br>rating_count=%{y}<br>actual_price=%{z}<extra></extra>",
         "legendgroup": "₹347",
         "marker": {
          "color": "#636efa",
          "symbol": "circle"
         },
         "mode": "markers",
         "name": "₹347",
         "scene": "scene",
         "showlegend": true,
         "type": "scatter3d",
         "x": [
          "3.5"
         ],
         "y": [
          "1,121"
         ],
         "z": [
          "₹999"
         ]
        },
        {
         "hovertemplate": "discounted_price=₹228<br>rating=%{x}<br>rating_count=%{y}<br>actual_price=%{z}<extra></extra>",
         "legendgroup": "₹228",
         "marker": {
          "color": "#EF553B",
          "symbol": "circle"
         },
         "mode": "markers",
         "name": "₹228",
         "scene": "scene",
         "showlegend": true,
         "type": "scatter3d",
         "x": [
          "3.8"
         ],
         "y": [
          "132"
         ],
         "z": [
          "₹899"
         ]
        },
        {
         "hovertemplate": "discounted_price=₹1,499<br>rating=%{x}<br>rating_count=%{y}<br>actual_price=%{z}<extra></extra>",
         "legendgroup": "₹1,499",
         "marker": {
          "color": "#00cc96",
          "symbol": "circle"
         },
         "mode": "markers",
         "name": "₹1,499",
         "scene": "scene",
         "showlegend": true,
         "type": "scatter3d",
         "x": [
          "3.7",
          "4.4",
          "3.9",
          "4.3",
          "4.2",
          "3.9",
          "3.9",
          "4.0",
          "4.2",
          "4.2",
          "3.9",
          "3.9",
          "4.2",
          "4.1",
          "3.7",
          "3.7",
          "4.0",
          "4.5",
          "4.2",
          "4.1",
          "3.9",
          "4.1",
          "4.3",
          "4.1",
          "4.7",
          "4.4"
         ],
         "y": [
          "37",
          "1,951",
          "21,796",
          "15,970",
          "22,636",
          "21,796",
          "21,796",
          "92,588",
          "22,638",
          "22,638",
          "1,36,954",
          "21,797",
          "22,638",
          "1,09,864",
          "28,324",
          "87,798",
          "92,588",
          "8,656",
          "42,775",
          "25,262",
          "14,667",
          "6,355",
          "9,331",
          "303",
          "2,591",
          "6,531"
         ],
         "z": [
          "₹3,999",
          "₹1,999",
          "₹6,990",
          "₹2,499",
          "₹7,999",
          "₹6,990",
          "₹6,990",
          "₹4,999",
          "₹9,999",
          "₹7,999",
          "₹4,490",
          "₹6,990",
          "₹7,999",
          "₹3,990",
          "₹8,999",
          "₹2,999",
          "₹4,999",
          "₹2,999",
          "₹3,999",
          "₹2,999",
          "₹1,775",
          "₹2,100",
          "₹1,499",
          "₹3,500",
          "₹3,500",
          "₹2,199"
         ]
        },
        {
         "hovertemplate": "discounted_price=₹8,499<br>rating=%{x}<br>rating_count=%{y}<br>actual_price=%{z}<extra></extra>",
         "legendgroup": "₹8,499",
         "marker": {
          "color": "#ab63fa",
          "symbol": "circle"
         },
         "mode": "markers",
         "name": "₹8,499",
         "scene": "scene",
         "showlegend": true,
         "type": "scatter3d",
         "x": [
          "4.3",
          "4.1",
          "4.1",
          "3.9",
          "4.3"
         ],
         "y": [
          "592",
          "3,13,836",
          "6,662",
          "276",
          "97"
         ],
         "z": [
          "₹15,999",
          "₹10,999",
          "₹12,999",
          "₹11,999",
          "₹16,490"
         ]
        },
        {
         "hovertemplate": "discounted_price=₹20,990<br>rating=%{x}<br>rating_count=%{y}<br>actual_price=%{z}<extra></extra>",
         "legendgroup": "₹20,990",
         "marker": {
          "color": "#FFA15A",
          "symbol": "circle"
         },
         "mode": "markers",
         "name": "₹20,990",
         "scene": "scene",
         "showlegend": true,
         "type": "scatter3d",
         "x": [
          "4.1"
         ],
         "y": [
          "1,259"
         ],
         "z": [
          "₹44,990"
         ]
        },
        {
         "hovertemplate": "discounted_price=₹9,999<br>rating=%{x}<br>rating_count=%{y}<br>actual_price=%{z}<extra></extra>",
         "legendgroup": "₹9,999",
         "marker": {
          "color": "#19d3f3",
          "symbol": "circle"
         },
         "mode": "markers",
         "name": "₹9,999",
         "scene": "scene",
         "showlegend": true,
         "type": "scatter3d",
         "x": [
          "4.2",
          "4.2"
         ],
         "y": [
          "1,269",
          "6,088"
         ],
         "z": [
          "₹27,990",
          "₹12,999"
         ]
        },
        {
         "hovertemplate": "discounted_price=₹489<br>rating=%{x}<br>rating_count=%{y}<br>actual_price=%{z}<extra></extra>",
         "legendgroup": "₹489",
         "marker": {
          "color": "#FF6692",
          "symbol": "circle"
         },
         "mode": "markers",
         "name": "₹489",
         "scene": "scene",
         "showlegend": true,
         "type": "scatter3d",
         "x": [
          "4.4",
          "4.0"
         ],
         "y": [
          "69,538",
          "3,626"
         ],
         "z": [
          "₹1,200",
          "₹1,999"
         ]
        },
        {
         "hovertemplate": "discounted_price=₹23,999<br>rating=%{x}<br>rating_count=%{y}<br>actual_price=%{z}<extra></extra>",
         "legendgroup": "₹23,999",
         "marker": {
          "color": "#B6E880",
          "symbol": "circle"
         },
         "mode": "markers",
         "name": "₹23,999",
         "scene": "scene",
         "showlegend": true,
         "type": "scatter3d",
         "x": [
          "4.3",
          "3.9"
         ],
         "y": [
          "4,703",
          "8,866"
         ],
         "z": [
          "₹34,990",
          "₹32,999"
         ]
        },
        {
         "hovertemplate": "discounted_price=₹689<br>rating=%{x}<br>rating_count=%{y}<br>actual_price=%{z}<extra></extra>",
         "legendgroup": "₹689",
         "marker": {
          "color": "#FF97FF",
          "symbol": "circle"
         },
         "mode": "markers",
         "name": "₹689",
         "scene": "scene",
         "showlegend": true,
         "type": "scatter3d",
         "x": [
          "4.2",
          "4.3"
         ],
         "y": [
          "42,301",
          "1,193"
         ],
         "z": [
          "₹1,500",
          "₹1,999"
         ]
        },
        {
         "hovertemplate": "discounted_price=₹1,699<br>rating=%{x}<br>rating_count=%{y}<br>actual_price=%{z}<extra></extra>",
         "legendgroup": "₹1,699",
         "marker": {
          "color": "#FECB52",
          "symbol": "circle"
         },
         "mode": "markers",
         "name": "₹1,699",
         "scene": "scene",
         "showlegend": true,
         "type": "scatter3d",
         "x": [
          "4.4",
          "4.2",
          "4.1",
          "3.6",
          "3.8",
          "3.6",
          "4.1",
          "3.8",
          "4.1"
         ],
         "y": [
          "24,780",
          "25,488",
          "14,371",
          "7,689",
          "54,032",
          "11,456",
          "8,873",
          "7,988",
          "4,716"
         ],
         "z": [
          "₹2,999",
          "₹3,999",
          "₹3,495",
          "₹3,499",
          "₹3,193",
          "₹1,900",
          "₹1,999",
          "₹3,398",
          "₹1,975"
         ]
        },
        {
         "hovertemplate": "discounted_price=₹655<br>rating=%{x}<br>rating_count=%{y}<br>actual_price=%{z}<extra></extra>",
         "legendgroup": "₹655",
         "marker": {
          "color": "#636efa",
          "symbol": "circle"
         },
         "mode": "markers",
         "name": "₹655",
         "scene": "scene",
         "showlegend": true,
         "type": "scatter3d",
         "x": [
          "3.2"
         ],
         "y": [
          "285"
         ],
         "z": [
          "₹1,099"
         ]
        },
        {
         "hovertemplate": "discounted_price=₹749<br>rating=%{x}<br>rating_count=%{y}<br>actual_price=%{z}<extra></extra>",
         "legendgroup": "₹749",
         "marker": {
          "color": "#EF553B",
          "symbol": "circle"
         },
         "mode": "markers",
         "name": "₹749",
         "scene": "scene",
         "showlegend": true,
         "type": "scatter3d",
         "x": [
          "4.2",
          "4.0",
          "3.9",
          "3.9",
          "4",
          "4",
          "4.2"
         ],
         "y": [
          "1,79,692",
          "13,199",
          "31,783",
          "63,350",
          "2,446",
          "119",
          "35,693"
         ],
         "z": [
          "₹1,339",
          "₹1,799",
          "₹1,245",
          "₹1,445",
          "₹1,129",
          "₹1,299",
          "₹1,111"
         ]
        },
        {
         "hovertemplate": "discounted_price=₹195<br>rating=%{x}<br>rating_count=%{y}<br>actual_price=%{z}<extra></extra>",
         "legendgroup": "₹195",
         "marker": {
          "color": "#00cc96",
          "symbol": "circle"
         },
         "mode": "markers",
         "name": "₹195",
         "scene": "scene",
         "showlegend": true,
         "type": "scatter3d",
         "x": [
          "3.7"
         ],
         "y": [
          "1,383"
         ],
         "z": [
          "₹499"
         ]
        },
        {
         "hovertemplate": "discounted_price=₹416<br>rating=%{x}<br>rating_count=%{y}<br>actual_price=%{z}<extra></extra>",
         "legendgroup": "₹416",
         "marker": {
          "color": "#ab63fa",
          "symbol": "circle"
         },
         "mode": "markers",
         "name": "₹416",
         "scene": "scene",
         "showlegend": true,
         "type": "scatter3d",
         "x": [
          "4.2"
         ],
         "y": [
          "30,023"
         ],
         "z": [
          "₹599"
         ]
        },
        {
         "hovertemplate": "discounted_price=₹368<br>rating=%{x}<br>rating_count=%{y}<br>actual_price=%{z}<extra></extra>",
         "legendgroup": "₹368",
         "marker": {
          "color": "#FFA15A",
          "symbol": "circle"
         },
         "mode": "markers",
         "name": "₹368",
         "scene": "scene",
         "showlegend": true,
         "type": "scatter3d",
         "x": [
          "4.2",
          "4.1"
         ],
         "y": [
          "387",
          "1,240"
         ],
         "z": [
          "₹699",
          "₹699"
         ]
        },
        {
         "hovertemplate": "discounted_price=₹29,990<br>rating=%{x}<br>rating_count=%{y}<br>actual_price=%{z}<extra></extra>",
         "legendgroup": "₹29,990",
         "marker": {
          "color": "#19d3f3",
          "symbol": "circle"
         },
         "mode": "markers",
         "name": "₹29,990",
         "scene": "scene",
         "showlegend": true,
         "type": "scatter3d",
         "x": [
          "4.1",
          "4.3"
         ],
         "y": [
          "211",
          "8,399"
         ],
         "z": [
          "₹65,000",
          "₹39,990"
         ]
        },
        {
         "hovertemplate": "discounted_price=₹339<br>rating=%{x}<br>rating_count=%{y}<br>actual_price=%{z}<extra></extra>",
         "legendgroup": "₹339",
         "marker": {
          "color": "#FF6692",
          "symbol": "circle"
         },
         "mode": "markers",
         "name": "₹339",
         "scene": "scene",
         "showlegend": true,
         "type": "scatter3d",
         "x": [
          "4.3",
          "4.3",
          "4.0",
          "4.3"
         ],
         "y": [
          "974",
          "6,255",
          "343",
          "6,255"
         ],
         "z": [
          "₹1,099",
          "₹999",
          "₹1,999",
          "₹999"
         ]
        },
        {
         "hovertemplate": "discounted_price=₹15,490<br>rating=%{x}<br>rating_count=%{y}<br>actual_price=%{z}<extra></extra>",
         "legendgroup": "₹15,490",
         "marker": {
          "color": "#B6E880",
          "symbol": "circle"
         },
         "mode": "markers",
         "name": "₹15,490",
         "scene": "scene",
         "showlegend": true,
         "type": "scatter3d",
         "x": [
          "4.3",
          "4.2",
          "4.2"
         ],
         "y": [
          "16,299",
          "32,916",
          "32,916"
         ],
         "z": [
          "₹20,900",
          "₹20,990",
          "₹20,990"
         ]
        },
        {
         "hovertemplate": "discounted_price=₹9,490<br>rating=%{x}<br>rating_count=%{y}<br>actual_price=%{z}<extra></extra>",
         "legendgroup": "₹9,490",
         "marker": {
          "color": "#FF97FF",
          "symbol": "circle"
         },
         "mode": "markers",
         "name": "₹9,490",
         "scene": "scene",
         "showlegend": true,
         "type": "scatter3d",
         "x": [
          "3.9"
         ],
         "y": [
          "10,480"
         ],
         "z": [
          "₹15,990"
         ]
        },
        {
         "hovertemplate": "discounted_price=₹637<br>rating=%{x}<br>rating_count=%{y}<br>actual_price=%{z}<extra></extra>",
         "legendgroup": "₹637",
         "marker": {
          "color": "#FECB52",
          "symbol": "circle"
         },
         "mode": "markers",
         "name": "₹637",
         "scene": "scene",
         "showlegend": true,
         "type": "scatter3d",
         "x": [
          "4.1"
         ],
         "y": [
          "24"
         ],
         "z": [
          "₹1,499"
         ]
        },
        {
         "hovertemplate": "discounted_price=₹1,089<br>rating=%{x}<br>rating_count=%{y}<br>actual_price=%{z}<extra></extra>",
         "legendgroup": "₹1,089",
         "marker": {
          "color": "#636efa",
          "symbol": "circle"
         },
         "mode": "markers",
         "name": "₹1,089",
         "scene": "scene",
         "showlegend": true,
         "type": "scatter3d",
         "x": [
          "4.0"
         ],
         "y": [
          "3,565"
         ],
         "z": [
          "₹1,600"
         ]
        },
        {
         "hovertemplate": "discounted_price=₹12,499<br>rating=%{x}<br>rating_count=%{y}<br>actual_price=%{z}<extra></extra>",
         "legendgroup": "₹12,499",
         "marker": {
          "color": "#EF553B",
          "symbol": "circle"
         },
         "mode": "markers",
         "name": "₹12,499",
         "scene": "scene",
         "showlegend": true,
         "type": "scatter3d",
         "x": [
          "4.3",
          "4.1"
         ],
         "y": [
          "1,611",
          "322"
         ],
         "z": [
          "₹22,990",
          "₹19,825"
         ]
        },
        {
         "hovertemplate": "discounted_price=₹1,399<br>rating=%{x}<br>rating_count=%{y}<br>actual_price=%{z}<extra></extra>",
         "legendgroup": "₹1,399",
         "marker": {
          "color": "#00cc96",
          "symbol": "circle"
         },
         "mode": "markers",
         "name": "₹1,399",
         "scene": "scene",
         "showlegend": true,
         "type": "scatter3d",
         "x": [
          "4.4",
          "4.0",
          "3.3",
          "4.0",
          "4.1",
          "4.1",
          "4.2",
          "3.9",
          "4.3",
          "4.1",
          "4.3",
          "3.9",
          "4.1",
          "4.4",
          "4"
         ],
         "y": [
          "23,169",
          "9,378",
          "4,415",
          "9,378",
          "97,175",
          "1,41,841",
          "33,717",
          "9,504",
          "11,074",
          "97,174",
          "3,530",
          "2,602",
          "9,349",
          "461",
          "8,031"
         ],
         "z": [
          "₹2,499",
          "₹1,630",
          "₹5,999",
          "₹1,630",
          "₹2,990",
          "₹3,990",
          "₹2,498",
          "₹5,499",
          "₹2,490",
          "₹2,990",
          "₹2,999",
          "₹1,549",
          "₹2,660",
          "₹2,290",
          "₹1,890"
         ]
        },
        {
         "hovertemplate": "discounted_price=₹88<br>rating=%{x}<br>rating_count=%{y}<br>actual_price=%{z}<extra></extra>",
         "legendgroup": "₹88",
         "marker": {
          "color": "#ab63fa",
          "symbol": "circle"
         },
         "mode": "markers",
         "name": "₹88",
         "scene": "scene",
         "showlegend": true,
         "type": "scatter3d",
         "x": [
          "4.0"
         ],
         "y": [
          "9,378"
         ],
         "z": [
          "₹299"
         ]
        },
        {
         "hovertemplate": "discounted_price=₹57.89<br>rating=%{x}<br>rating_count=%{y}<br>actual_price=%{z}<extra></extra>",
         "legendgroup": "₹57.89",
         "marker": {
          "color": "#FFA15A",
          "symbol": "circle"
         },
         "mode": "markers",
         "name": "₹57.89",
         "scene": "scene",
         "showlegend": true,
         "type": "scatter3d",
         "x": [
          "4.0"
         ],
         "y": [
          "9,378"
         ],
         "z": [
          "₹199"
         ]
        },
        {
         "hovertemplate": "discounted_price=₹205<br>rating=%{x}<br>rating_count=%{y}<br>actual_price=%{z}<extra></extra>",
         "legendgroup": "₹205",
         "marker": {
          "color": "#19d3f3",
          "symbol": "circle"
         },
         "mode": "markers",
         "name": "₹205",
         "scene": "scene",
         "showlegend": true,
         "type": "scatter3d",
         "x": [
          "3.8"
         ],
         "y": [
          "313"
         ],
         "z": [
          "₹499"
         ]
        },
        {
         "hovertemplate": "discounted_price=₹949<br>rating=%{x}<br>rating_count=%{y}<br>actual_price=%{z}<extra></extra>",
         "legendgroup": "₹949",
         "marker": {
          "color": "#FF6692",
          "symbol": "circle"
         },
         "mode": "markers",
         "name": "₹949",
         "scene": "scene",
         "showlegend": true,
         "type": "scatter3d",
         "x": [
          "4.4",
          "4.4",
          "4.2",
          "3.9",
          "4",
          "4.3",
          "4.1",
          "3.6"
         ],
         "y": [
          "13,552",
          "13,552",
          "31,539",
          "14,969",
          "1,679",
          "7,223",
          "2,311",
          "550"
         ],
         "z": [
          "₹1,999",
          "₹1,999",
          "₹999",
          "₹2,000",
          "₹1,999",
          "₹975",
          "₹2,385",
          "₹2,299"
         ]
        },
        {
         "hovertemplate": "discounted_price=₹379<br>rating=%{x}<br>rating_count=%{y}<br>actual_price=%{z}<extra></extra>",
         "legendgroup": "₹379",
         "marker": {
          "color": "#B6E880",
          "symbol": "circle"
         },
         "mode": "markers",
         "name": "₹379",
         "scene": "scene",
         "showlegend": true,
         "type": "scatter3d",
         "x": [
          "4.3",
          "4.2",
          "4.3",
          "4.1",
          "4.2",
          "4.3",
          "4.1",
          "4.3",
          "4.2",
          "4"
         ],
         "y": [
          "2,806",
          "12,153",
          "3,049",
          "3,63,713",
          "4,149",
          "2,806",
          "670",
          "3,096",
          "3,739",
          "1,090"
         ],
         "z": [
          "₹1,099",
          "₹999",
          "₹1,099",
          "₹999",
          "₹1,499",
          "₹1,099",
          "₹1,499",
          "₹999",
          "₹389",
          "₹919"
         ]
        },
        {
         "hovertemplate": "discounted_price=₹8,990<br>rating=%{x}<br>rating_count=%{y}<br>actual_price=%{z}<extra></extra>",
         "legendgroup": "₹8,990",
         "marker": {
          "color": "#FF97FF",
          "symbol": "circle"
         },
         "mode": "markers",
         "name": "₹8,990",
         "scene": "scene",
         "showlegend": true,
         "type": "scatter3d",
         "x": [
          "3.9"
         ],
         "y": [
          "350"
         ],
         "z": [
          "₹18,990"
         ]
        },
        {
         "hovertemplate": "discounted_price=₹486<br>rating=%{x}<br>rating_count=%{y}<br>actual_price=%{z}<extra></extra>",
         "legendgroup": "₹486",
         "marker": {
          "color": "#FECB52",
          "symbol": "circle"
         },
         "mode": "markers",
         "name": "₹486",
         "scene": "scene",
         "showlegend": true,
         "type": "scatter3d",
         "x": [
          "4.2"
         ],
         "y": [
          "30,023"
         ],
         "z": [
          "₹1,999"
         ]
        },
        {
         "hovertemplate": "discounted_price=₹5,699<br>rating=%{x}<br>rating_count=%{y}<br>actual_price=%{z}<extra></extra>",
         "legendgroup": "₹5,699",
         "marker": {
          "color": "#636efa",
          "symbol": "circle"
         },
         "mode": "markers",
         "name": "₹5,699",
         "scene": "scene",
         "showlegend": true,
         "type": "scatter3d",
         "x": [
          "4.2"
         ],
         "y": [
          "4,003"
         ],
         "z": [
          "₹11,000"
         ]
        },
        {
         "hovertemplate": "discounted_price=₹709<br>rating=%{x}<br>rating_count=%{y}<br>actual_price=%{z}<extra></extra>",
         "legendgroup": "₹709",
         "marker": {
          "color": "#EF553B",
          "symbol": "circle"
         },
         "mode": "markers",
         "name": "₹709",
         "scene": "scene",
         "showlegend": true,
         "type": "scatter3d",
         "x": [
          "4.1"
         ],
         "y": [
          "1,78,817"
         ],
         "z": [
          "₹1,999"
         ]
        },
        {
         "hovertemplate": "discounted_price=₹47,990<br>rating=%{x}<br>rating_count=%{y}<br>actual_price=%{z}<extra></extra>",
         "legendgroup": "₹47,990",
         "marker": {
          "color": "#00cc96",
          "symbol": "circle"
         },
         "mode": "markers",
         "name": "₹47,990",
         "scene": "scene",
         "showlegend": true,
         "type": "scatter3d",
         "x": [
          "4.3",
          "4.3"
         ],
         "y": [
          "7,109",
          "1,376"
         ],
         "z": [
          "₹70,900",
          "₹79,990"
         ]
        },
        {
         "hovertemplate": "discounted_price=₹320<br>rating=%{x}<br>rating_count=%{y}<br>actual_price=%{z}<extra></extra>",
         "legendgroup": "₹320",
         "marker": {
          "color": "#ab63fa",
          "symbol": "circle"
         },
         "mode": "markers",
         "name": "₹320",
         "scene": "scene",
         "showlegend": true,
         "type": "scatter3d",
         "x": [
          "4.1",
          "4.2"
         ],
         "y": [
          "491",
          "3,846"
         ],
         "z": [
          "₹599",
          "₹799"
         ]
        },
        {
         "hovertemplate": "discounted_price=₹129<br>rating=%{x}<br>rating_count=%{y}<br>actual_price=%{z}<extra></extra>",
         "legendgroup": "₹129",
         "marker": {
          "color": "#FFA15A",
          "symbol": "circle"
         },
         "mode": "markers",
         "name": "₹129",
         "scene": "scene",
         "showlegend": true,
         "type": "scatter3d",
         "x": [
          "4.0",
          "3.9",
          "3.7",
          "4.1",
          "4.2"
         ],
         "y": [
          "9,378",
          "295",
          "41",
          "265",
          "491"
         ],
         "z": [
          "₹249",
          "₹1,000",
          "₹449",
          "₹599",
          "₹999"
         ]
        },
        {
         "hovertemplate": "discounted_price=₹225<br>rating=%{x}<br>rating_count=%{y}<br>actual_price=%{z}<extra></extra>",
         "legendgroup": "₹225",
         "marker": {
          "color": "#19d3f3",
          "symbol": "circle"
         },
         "mode": "markers",
         "name": "₹225",
         "scene": "scene",
         "showlegend": true,
         "type": "scatter3d",
         "x": [
          "4.1",
          "4.4",
          "4.1"
         ],
         "y": [
          "789",
          "26,556",
          "4,798"
         ],
         "z": [
          "₹499",
          "₹250",
          "₹225"
         ]
        },
        {
         "hovertemplate": "discounted_price=₹547<br>rating=%{x}<br>rating_count=%{y}<br>actual_price=%{z}<extra></extra>",
         "legendgroup": "₹547",
         "marker": {
          "color": "#FF6692",
          "symbol": "circle"
         },
         "mode": "markers",
         "name": "₹547",
         "scene": "scene",
         "showlegend": true,
         "type": "scatter3d",
         "x": [
          "4.3"
         ],
         "y": [
          "407"
         ],
         "z": [
          "₹2,999"
         ]
        },
        {
         "hovertemplate": "discounted_price=₹259<br>rating=%{x}<br>rating_count=%{y}<br>actual_price=%{z}<extra></extra>",
         "legendgroup": "₹259",
         "marker": {
          "color": "#B6E880",
          "symbol": "circle"
         },
         "mode": "markers",
         "name": "₹259",
         "scene": "scene",
         "showlegend": true,
         "type": "scatter3d",
         "x": [
          "3.8",
          "4"
         ],
         "y": [
          "2,399",
          "43"
         ],
         "z": [
          "₹699",
          "₹999"
         ]
        },
        {
         "hovertemplate": "discounted_price=₹239<br>rating=%{x}<br>rating_count=%{y}<br>actual_price=%{z}<extra></extra>",
         "legendgroup": "₹239",
         "marker": {
          "color": "#FF97FF",
          "symbol": "circle"
         },
         "mode": "markers",
         "name": "₹239",
         "scene": "scene",
         "showlegend": true,
         "type": "scatter3d",
         "x": [
          "4.4",
          "3.9",
          "4.3"
         ],
         "y": [
          "2,640",
          "2,147",
          "7"
         ],
         "z": [
          "₹699",
          "₹599",
          "₹239"
         ]
        },
        {
         "hovertemplate": "discounted_price=₹467<br>rating=%{x}<br>rating_count=%{y}<br>actual_price=%{z}<extra></extra>",
         "legendgroup": "₹467",
         "marker": {
          "color": "#FECB52",
          "symbol": "circle"
         },
         "mode": "markers",
         "name": "₹467",
         "scene": "scene",
         "showlegend": true,
         "type": "scatter3d",
         "x": [
          "4.4"
         ],
         "y": [
          "44,054"
         ],
         "z": [
          "₹599"
         ]
        },
        {
         "hovertemplate": "discounted_price=₹11,990<br>rating=%{x}<br>rating_count=%{y}<br>actual_price=%{z}<extra></extra>",
         "legendgroup": "₹11,990",
         "marker": {
          "color": "#636efa",
          "symbol": "circle"
         },
         "mode": "markers",
         "name": "₹11,990",
         "scene": "scene",
         "showlegend": true,
         "type": "scatter3d",
         "x": [
          "4.2"
         ],
         "y": [
          "64"
         ],
         "z": [
          "₹31,990"
         ]
        },
        {
         "hovertemplate": "discounted_price=₹252<br>rating=%{x}<br>rating_count=%{y}<br>actual_price=%{z}<extra></extra>",
         "legendgroup": "₹252",
         "marker": {
          "color": "#EF553B",
          "symbol": "circle"
         },
         "mode": "markers",
         "name": "₹252",
         "scene": "scene",
         "showlegend": true,
         "type": "scatter3d",
         "x": [
          "3.7",
          "4.5"
         ],
         "y": [
          "2,249",
          "3,785"
         ],
         "z": [
          "₹999",
          "₹315"
         ]
        },
        {
         "hovertemplate": "discounted_price=₹204<br>rating=%{x}<br>rating_count=%{y}<br>actual_price=%{z}<extra></extra>",
         "legendgroup": "₹204",
         "marker": {
          "color": "#00cc96",
          "symbol": "circle"
         },
         "mode": "markers",
         "name": "₹204",
         "scene": "scene",
         "showlegend": true,
         "type": "scatter3d",
         "x": [
          "3.6"
         ],
         "y": [
          "339"
         ],
         "z": [
          "₹599"
         ]
        },
        {
         "hovertemplate": "discounted_price=₹6,490<br>rating=%{x}<br>rating_count=%{y}<br>actual_price=%{z}<extra></extra>",
         "legendgroup": "₹6,490",
         "marker": {
          "color": "#ab63fa",
          "symbol": "circle"
         },
         "mode": "markers",
         "name": "₹6,490",
         "scene": "scene",
         "showlegend": true,
         "type": "scatter3d",
         "x": [
          "4.0"
         ],
         "y": [
          "27"
         ],
         "z": [
          "₹9,990"
         ]
        },
        {
         "hovertemplate": "discounted_price=₹235<br>rating=%{x}<br>rating_count=%{y}<br>actual_price=%{z}<extra></extra>",
         "legendgroup": "₹235",
         "marker": {
          "color": "#FFA15A",
          "symbol": "circle"
         },
         "mode": "markers",
         "name": "₹235",
         "scene": "scene",
         "showlegend": true,
         "type": "scatter3d",
         "x": [
          "3.5",
          "3.8"
         ],
         "y": [
          "197",
          "1,173"
         ],
         "z": [
          "₹599",
          "₹1,599"
         ]
        },
        {
         "hovertemplate": "discounted_price=₹42,999<br>rating=%{x}<br>rating_count=%{y}<br>actual_price=%{z}<extra></extra>",
         "legendgroup": "₹42,999",
         "marker": {
          "color": "#19d3f3",
          "symbol": "circle"
         },
         "mode": "markers",
         "name": "₹42,999",
         "scene": "scene",
         "showlegend": true,
         "type": "scatter3d",
         "x": [
          "4.1"
         ],
         "y": [
          "6,753"
         ],
         "z": [
          "₹59,999"
         ]
        },
        {
         "hovertemplate": "discounted_price=₹173<br>rating=%{x}<br>rating_count=%{y}<br>actual_price=%{z}<extra></extra>",
         "legendgroup": "₹173",
         "marker": {
          "color": "#FF6692",
          "symbol": "circle"
         },
         "mode": "markers",
         "name": "₹173",
         "scene": "scene",
         "showlegend": true,
         "type": "scatter3d",
         "x": [
          "4.3"
         ],
         "y": [
          "1,237"
         ],
         "z": [
          "₹999"
         ]
        },
        {
         "hovertemplate": "discounted_price=₹848.99<br>rating=%{x}<br>rating_count=%{y}<br>actual_price=%{z}<extra></extra>",
         "legendgroup": "₹848.99",
         "marker": {
          "color": "#B6E880",
          "symbol": "circle"
         },
         "mode": "markers",
         "name": "₹848.99",
         "scene": "scene",
         "showlegend": true,
         "type": "scatter3d",
         "x": [
          "3.9"
         ],
         "y": [
          "356"
         ],
         "z": [
          "₹1,490"
         ]
        },
        {
         "hovertemplate": "discounted_price=₹1,249<br>rating=%{x}<br>rating_count=%{y}<br>actual_price=%{z}<extra></extra>",
         "legendgroup": "₹1,249",
         "marker": {
          "color": "#FF97FF",
          "symbol": "circle"
         },
         "mode": "markers",
         "name": "₹1,249",
         "scene": "scene",
         "showlegend": true,
         "type": "scatter3d",
         "x": [
          "4.3",
          "4.4"
         ],
         "y": [
          "7,636",
          "4,598"
         ],
         "z": [
          "₹2,299",
          "₹2,796"
         ]
        },
        {
         "hovertemplate": "discounted_price=₹213<br>rating=%{x}<br>rating_count=%{y}<br>actual_price=%{z}<extra></extra>",
         "legendgroup": "₹213",
         "marker": {
          "color": "#FECB52",
          "symbol": "circle"
         },
         "mode": "markers",
         "name": "₹213",
         "scene": "scene",
         "showlegend": true,
         "type": "scatter3d",
         "x": [
          "3.7"
         ],
         "y": [
          "246"
         ],
         "z": [
          "₹499"
         ]
        },
        {
         "hovertemplate": "discounted_price=₹598<br>rating=%{x}<br>rating_count=%{y}<br>actual_price=%{z}<extra></extra>",
         "legendgroup": "₹598",
         "marker": {
          "color": "#636efa",
          "symbol": "circle"
         },
         "mode": "markers",
         "name": "₹598",
         "scene": "scene",
         "showlegend": true,
         "type": "scatter3d",
         "x": [
          "4.2",
          "4.1"
         ],
         "y": [
          "910",
          "2,535"
         ],
         "z": [
          "₹4,999",
          "₹1,150"
         ]
        },
        {
         "hovertemplate": "discounted_price=₹31,999<br>rating=%{x}<br>rating_count=%{y}<br>actual_price=%{z}<extra></extra>",
         "legendgroup": "₹31,999",
         "marker": {
          "color": "#EF553B",
          "symbol": "circle"
         },
         "mode": "markers",
         "name": "₹31,999",
         "scene": "scene",
         "showlegend": true,
         "type": "scatter3d",
         "x": [
          "4.3"
         ],
         "y": [
          "21,252"
         ],
         "z": [
          "₹49,999"
         ]
        },
        {
         "hovertemplate": "discounted_price=₹128.31<br>rating=%{x}<br>rating_count=%{y}<br>actual_price=%{z}<extra></extra>",
         "legendgroup": "₹128.31",
         "marker": {
          "color": "#00cc96",
          "symbol": "circle"
         },
         "mode": "markers",
         "name": "₹128.31",
         "scene": "scene",
         "showlegend": true,
         "type": "scatter3d",
         "x": [
          "3.9"
         ],
         "y": [
          "61"
         ],
         "z": [
          "₹549"
         ]
        },
        {
         "hovertemplate": "discounted_price=₹254<br>rating=%{x}<br>rating_count=%{y}<br>actual_price=%{z}<extra></extra>",
         "legendgroup": "₹254",
         "marker": {
          "color": "#ab63fa",
          "symbol": "circle"
         },
         "mode": "markers",
         "name": "₹254",
         "scene": "scene",
         "showlegend": true,
         "type": "scatter3d",
         "x": [
          "4.0"
         ],
         "y": [
          "2,905"
         ],
         "z": [
          "₹799"
         ]
        },
        {
         "hovertemplate": "discounted_price=₹89<br>rating=%{x}<br>rating_count=%{y}<br>actual_price=%{z}<extra></extra>",
         "legendgroup": "₹89",
         "marker": {
          "color": "#FFA15A",
          "symbol": "circle"
         },
         "mode": "markers",
         "name": "₹89",
         "scene": "scene",
         "showlegend": true,
         "type": "scatter3d",
         "x": [
          "3.9",
          "4.3",
          "4.1",
          "4.2",
          "4.2"
         ],
         "y": [
          "1,075",
          "2,351",
          "9,340",
          "241",
          "19,621"
         ],
         "z": [
          "₹800",
          "₹599",
          "₹499",
          "₹99",
          "₹89"
         ]
        },
        {
         "hovertemplate": "discounted_price=₹549<br>rating=%{x}<br>rating_count=%{y}<br>actual_price=%{z}<extra></extra>",
         "legendgroup": "₹549",
         "marker": {
          "color": "#19d3f3",
          "symbol": "circle"
         },
         "mode": "markers",
         "name": "₹549",
         "scene": "scene",
         "showlegend": true,
         "type": "scatter3d",
         "x": [
          "4.2",
          "4.3",
          "4.5",
          "3.9",
          "4.3",
          "3.6",
          "4.3",
          "4.3",
          "4.3",
          "3.6",
          "4.2",
          "4"
         ],
         "y": [
          "29,746",
          "28,829",
          "4,875",
          "64,705",
          "7,758",
          "6,422",
          "11,006",
          "5,556",
          "1,367",
          "1,074",
          "13,029",
          "1,313"
         ],
         "z": [
          "₹995",
          "₹1,799",
          "₹549",
          "₹999",
          "₹999",
          "₹1,999",
          "₹1,499",
          "₹2,499",
          "₹1,999",
          "₹1,000",
          "₹1,090",
          "₹999"
         ]
        },
        {
         "hovertemplate": "discounted_price=₹77,990<br>rating=%{x}<br>rating_count=%{y}<br>actual_price=%{z}<extra></extra>",
         "legendgroup": "₹77,990",
         "marker": {
          "color": "#FF6692",
          "symbol": "circle"
         },
         "mode": "markers",
         "name": "₹77,990",
         "scene": "scene",
         "showlegend": true,
         "type": "scatter3d",
         "x": [
          "4.7"
         ],
         "y": [
          "5,935"
         ],
         "z": [
          "₹1,39,900"
         ]
        },
        {
         "hovertemplate": "discounted_price=₹182<br>rating=%{x}<br>rating_count=%{y}<br>actual_price=%{z}<extra></extra>",
         "legendgroup": "₹182",
         "marker": {
          "color": "#B6E880",
          "symbol": "circle"
         },
         "mode": "markers",
         "name": "₹182",
         "scene": "scene",
         "showlegend": true,
         "type": "scatter3d",
         "x": [
          "4.0"
         ],
         "y": [
          "9,378"
         ],
         "z": [
          "₹599"
         ]
        },
        {
         "hovertemplate": "discounted_price=₹96<br>rating=%{x}<br>rating_count=%{y}<br>actual_price=%{z}<extra></extra>",
         "legendgroup": "₹96",
         "marker": {
          "color": "#FF97FF",
          "symbol": "circle"
         },
         "mode": "markers",
         "name": "₹96",
         "scene": "scene",
         "showlegend": true,
         "type": "scatter3d",
         "x": [
          "3.6"
         ],
         "y": [
          "1,796"
         ],
         "z": [
          "₹399"
         ]
        },
        {
         "hovertemplate": "discounted_price=₹54,990<br>rating=%{x}<br>rating_count=%{y}<br>actual_price=%{z}<extra></extra>",
         "legendgroup": "₹54,990",
         "marker": {
          "color": "#FECB52",
          "symbol": "circle"
         },
         "mode": "markers",
         "name": "₹54,990",
         "scene": "scene",
         "showlegend": true,
         "type": "scatter3d",
         "x": [
          "4.3"
         ],
         "y": [
          "3,587"
         ],
         "z": [
          "₹85,000"
         ]
        },
        {
         "hovertemplate": "discounted_price=₹439<br>rating=%{x}<br>rating_count=%{y}<br>actual_price=%{z}<extra></extra>",
         "legendgroup": "₹439",
         "marker": {
          "color": "#636efa",
          "symbol": "circle"
         },
         "mode": "markers",
         "name": "₹439",
         "scene": "scene",
         "showlegend": true,
         "type": "scatter3d",
         "x": [
          "4.2"
         ],
         "y": [
          "4,296"
         ],
         "z": [
          "₹758"
         ]
        },
        {
         "hovertemplate": "discounted_price=₹789<br>rating=%{x}<br>rating_count=%{y}<br>actual_price=%{z}<extra></extra>",
         "legendgroup": "₹789",
         "marker": {
          "color": "#EF553B",
          "symbol": "circle"
         },
         "mode": "markers",
         "name": "₹789",
         "scene": "scene",
         "showlegend": true,
         "type": "scatter3d",
         "x": [
          "4.2"
         ],
         "y": [
          "34,540"
         ],
         "z": [
          "₹1,999"
         ]
        },
        {
         "hovertemplate": "discounted_price=₹790<br>rating=%{x}<br>rating_count=%{y}<br>actual_price=%{z}<extra></extra>",
         "legendgroup": "₹790",
         "marker": {
          "color": "#00cc96",
          "symbol": "circle"
         },
         "mode": "markers",
         "name": "₹790",
         "scene": "scene",
         "showlegend": true,
         "type": "scatter3d",
         "x": [
          "3.0"
         ],
         "y": [
          "103"
         ],
         "z": [
          "₹1,999"
         ]
        },
        {
         "hovertemplate": "discounted_price=₹4,699<br>rating=%{x}<br>rating_count=%{y}<br>actual_price=%{z}<extra></extra>",
         "legendgroup": "₹4,699",
         "marker": {
          "color": "#ab63fa",
          "symbol": "circle"
         },
         "mode": "markers",
         "name": "₹4,699",
         "scene": "scene",
         "showlegend": true,
         "type": "scatter3d",
         "x": [
          "4.5"
         ],
         "y": [
          "224"
         ],
         "z": [
          "₹4,699"
         ]
        },
        {
         "hovertemplate": "discounted_price=₹18,999<br>rating=%{x}<br>rating_count=%{y}<br>actual_price=%{z}<extra></extra>",
         "legendgroup": "₹18,999",
         "marker": {
          "color": "#FFA15A",
          "symbol": "circle"
         },
         "mode": "markers",
         "name": "₹18,999",
         "scene": "scene",
         "showlegend": true,
         "type": "scatter3d",
         "x": [
          "4.3",
          "4.0",
          "4.1"
         ],
         "y": [
          "4,702",
          "1,001",
          "2,536"
         ],
         "z": [
          "₹24,990",
          "₹35,000",
          "₹29,999"
         ]
        },
        {
         "hovertemplate": "discounted_price=₹1,990<br>rating=%{x}<br>rating_count=%{y}<br>actual_price=%{z}<extra></extra>",
         "legendgroup": "₹1,990",
         "marker": {
          "color": "#19d3f3",
          "symbol": "circle"
         },
         "mode": "markers",
         "name": "₹1,990",
         "scene": "scene",
         "showlegend": true,
         "type": "scatter3d",
         "x": [
          "4.0",
          "4.3",
          "4.3"
         ],
         "y": [
          "897",
          "20,398",
          "14,237"
         ],
         "z": [
          "₹3,100",
          "₹2,595",
          "₹2,999"
         ]
        },
        {
         "hovertemplate": "discounted_price=₹2,299<br>rating=%{x}<br>rating_count=%{y}<br>actual_price=%{z}<extra></extra>",
         "legendgroup": "₹2,299",
         "marker": {
          "color": "#FF6692",
          "symbol": "circle"
         },
         "mode": "markers",
         "name": "₹2,299",
         "scene": "scene",
         "showlegend": true,
         "type": "scatter3d",
         "x": [
          "3.8",
          "4.2",
          "4.2",
          "4.1"
         ],
         "y": [
          "282",
          "69,622",
          "69,619",
          "5,554"
         ],
         "z": [
          "₹3,999",
          "₹7,990",
          "₹7,990",
          "₹7,500"
         ]
        },
        {
         "hovertemplate": "discounted_price=₹35,999<br>rating=%{x}<br>rating_count=%{y}<br>actual_price=%{z}<extra></extra>",
         "legendgroup": "₹35,999",
         "marker": {
          "color": "#B6E880",
          "symbol": "circle"
         },
         "mode": "markers",
         "name": "₹35,999",
         "scene": "scene",
         "showlegend": true,
         "type": "scatter3d",
         "x": [
          "4.3"
         ],
         "y": [
          "1,611"
         ],
         "z": [
          "₹49,990"
         ]
        },
        {
         "hovertemplate": "discounted_price=₹8,999<br>rating=%{x}<br>rating_count=%{y}<br>actual_price=%{z}<extra></extra>",
         "legendgroup": "₹8,999",
         "marker": {
          "color": "#FF97FF",
          "symbol": "circle"
         },
         "mode": "markers",
         "name": "₹8,999",
         "scene": "scene",
         "showlegend": true,
         "type": "scatter3d",
         "x": [
          "4.0",
          "4.0",
          "4.0",
          "4.0",
          "3.8",
          "4.4"
         ],
         "y": [
          "6,347",
          "12,796",
          "12,796",
          "12,796",
          "3,145",
          "17,994"
         ],
         "z": [
          "₹18,999",
          "₹11,999",
          "₹11,999",
          "₹11,999",
          "₹13,499",
          "₹9,995"
         ]
        },
        {
         "hovertemplate": "discounted_price=₹917<br>rating=%{x}<br>rating_count=%{y}<br>actual_price=%{z}<extra></extra>",
         "legendgroup": "₹917",
         "marker": {
          "color": "#FECB52",
          "symbol": "circle"
         },
         "mode": "markers",
         "name": "₹917",
         "scene": "scene",
         "showlegend": true,
         "type": "scatter3d",
         "x": [
          "4.2"
         ],
         "y": [
          "3,300"
         ],
         "z": [
          "₹2,299"
         ]
        },
        {
         "hovertemplate": "discounted_price=₹45,999<br>rating=%{x}<br>rating_count=%{y}<br>actual_price=%{z}<extra></extra>",
         "legendgroup": "₹45,999",
         "marker": {
          "color": "#636efa",
          "symbol": "circle"
         },
         "mode": "markers",
         "name": "₹45,999",
         "scene": "scene",
         "showlegend": true,
         "type": "scatter3d",
         "x": [
          "4.3"
         ],
         "y": [
          "7,109"
         ],
         "z": [
          "₹69,900"
         ]
        },
        {
         "hovertemplate": "discounted_price=₹119<br>rating=%{x}<br>rating_count=%{y}<br>actual_price=%{z}<extra></extra>",
         "legendgroup": "₹119",
         "marker": {
          "color": "#EF553B",
          "symbol": "circle"
         },
         "mode": "markers",
         "name": "₹119",
         "scene": "scene",
         "showlegend": true,
         "type": "scatter3d",
         "x": [
          "3.8",
          "4.1",
          "4.1",
          "4.3"
         ],
         "y": [
          "51",
          "5,999",
          "5,999",
          "15,032"
         ],
         "z": [
          "₹299",
          "₹299",
          "₹299",
          "₹499"
         ]
        },
        {
         "hovertemplate": "discounted_price=₹21,990<br>rating=%{x}<br>rating_count=%{y}<br>actual_price=%{z}<extra></extra>",
         "legendgroup": "₹21,990",
         "marker": {
          "color": "#00cc96",
          "symbol": "circle"
         },
         "mode": "markers",
         "name": "₹21,990",
         "scene": "scene",
         "showlegend": true,
         "type": "scatter3d",
         "x": [
          "4.3"
         ],
         "y": [
          "1,657"
         ],
         "z": [
          "₹34,990"
         ]
        },
        {
         "hovertemplate": "discounted_price=₹417.44<br>rating=%{x}<br>rating_count=%{y}<br>actual_price=%{z}<extra></extra>",
         "legendgroup": "₹417.44",
         "marker": {
          "color": "#ab63fa",
          "symbol": "circle"
         },
         "mode": "markers",
         "name": "₹417.44",
         "scene": "scene",
         "showlegend": true,
         "type": "scatter3d",
         "x": [
          "3.9"
         ],
         "y": [
          "523"
         ],
         "z": [
          "₹670"
         ]
        },
        {
         "hovertemplate": "discounted_price=₹215<br>rating=%{x}<br>rating_count=%{y}<br>actual_price=%{z}<extra></extra>",
         "legendgroup": "₹215",
         "marker": {
          "color": "#FFA15A",
          "symbol": "circle"
         },
         "mode": "markers",
         "name": "₹215",
         "scene": "scene",
         "showlegend": true,
         "type": "scatter3d",
         "x": [
          "3.5",
          "3.9"
         ],
         "y": [
          "121",
          "1,004"
         ],
         "z": [
          "₹499",
          "₹1,499"
         ]
        },
        {
         "hovertemplate": "discounted_price=₹1,289<br>rating=%{x}<br>rating_count=%{y}<br>actual_price=%{z}<extra></extra>",
         "legendgroup": "₹1,289",
         "marker": {
          "color": "#19d3f3",
          "symbol": "circle"
         },
         "mode": "markers",
         "name": "₹1,289",
         "scene": "scene",
         "showlegend": true,
         "type": "scatter3d",
         "x": [
          "3.3",
          "4.5"
         ],
         "y": [
          "73",
          "20,668"
         ],
         "z": [
          "₹2,499",
          "₹1,499"
         ]
        },
        {
         "hovertemplate": "discounted_price=₹609<br>rating=%{x}<br>rating_count=%{y}<br>actual_price=%{z}<extra></extra>",
         "legendgroup": "₹609",
         "marker": {
          "color": "#FF6692",
          "symbol": "circle"
         },
         "mode": "markers",
         "name": "₹609",
         "scene": "scene",
         "showlegend": true,
         "type": "scatter3d",
         "x": [
          "4.5"
         ],
         "y": [
          "1,029"
         ],
         "z": [
          "₹1,500"
         ]
        },
        {
         "hovertemplate": "discounted_price=₹1,850<br>rating=%{x}<br>rating_count=%{y}<br>actual_price=%{z}<extra></extra>",
         "legendgroup": "₹1,850",
         "marker": {
          "color": "#B6E880",
          "symbol": "circle"
         },
         "mode": "markers",
         "name": "₹1,850",
         "scene": "scene",
         "showlegend": true,
         "type": "scatter3d",
         "x": [
          "4.0"
         ],
         "y": [
          "184"
         ],
         "z": [
          "₹4,500"
         ]
        },
        {
         "hovertemplate": "discounted_price=₹13,990<br>rating=%{x}<br>rating_count=%{y}<br>actual_price=%{z}<extra></extra>",
         "legendgroup": "₹13,990",
         "marker": {
          "color": "#FF97FF",
          "symbol": "circle"
         },
         "mode": "markers",
         "name": "₹13,990",
         "scene": "scene",
         "showlegend": true,
         "type": "scatter3d",
         "x": [
          "4.5"
         ],
         "y": [
          "7"
         ],
         "z": [
          "₹28,900"
         ]
        },
        {
         "hovertemplate": "discounted_price=₹185<br>rating=%{x}<br>rating_count=%{y}<br>actual_price=%{z}<extra></extra>",
         "legendgroup": "₹185",
         "marker": {
          "color": "#FECB52",
          "symbol": "circle"
         },
         "mode": "markers",
         "name": "₹185",
         "scene": "scene",
         "showlegend": true,
         "type": "scatter3d",
         "x": [
          "4.2",
          "3.9"
         ],
         "y": [
          "25",
          "1,306"
         ],
         "z": [
          "₹499",
          "₹599"
         ]
        },
        {
         "hovertemplate": "discounted_price=₹218<br>rating=%{x}<br>rating_count=%{y}<br>actual_price=%{z}<extra></extra>",
         "legendgroup": "₹218",
         "marker": {
          "color": "#636efa",
          "symbol": "circle"
         },
         "mode": "markers",
         "name": "₹218",
         "scene": "scene",
         "showlegend": true,
         "type": "scatter3d",
         "x": [
          "4.2"
         ],
         "y": [
          "163"
         ],
         "z": [
          "₹999"
         ]
        },
        {
         "hovertemplate": "discounted_price=₹893<br>rating=%{x}<br>rating_count=%{y}<br>actual_price=%{z}<extra></extra>",
         "legendgroup": "₹893",
         "marker": {
          "color": "#EF553B",
          "symbol": "circle"
         },
         "mode": "markers",
         "name": "₹893",
         "scene": "scene",
         "showlegend": true,
         "type": "scatter3d",
         "x": [
          "4.3"
         ],
         "y": [
          "106"
         ],
         "z": [
          "₹1,052"
         ]
        },
        {
         "hovertemplate": "discounted_price=₹10,990<br>rating=%{x}<br>rating_count=%{y}<br>actual_price=%{z}<extra></extra>",
         "legendgroup": "₹10,990",
         "marker": {
          "color": "#00cc96",
          "symbol": "circle"
         },
         "mode": "markers",
         "name": "₹10,990",
         "scene": "scene",
         "showlegend": true,
         "type": "scatter3d",
         "x": [
          "3.7"
         ],
         "y": [
          "129"
         ],
         "z": [
          "₹19,990"
         ]
        },
        {
         "hovertemplate": "discounted_price=₹16,999<br>rating=%{x}<br>rating_count=%{y}<br>actual_price=%{z}<extra></extra>",
         "legendgroup": "₹16,999",
         "marker": {
          "color": "#ab63fa",
          "symbol": "circle"
         },
         "mode": "markers",
         "name": "₹16,999",
         "scene": "scene",
         "showlegend": true,
         "type": "scatter3d",
         "x": [
          "4.2",
          "4.1",
          "4.1",
          "4.1",
          "4.1",
          "4.1"
         ],
         "y": [
          "32,840",
          "22,318",
          "22,318",
          "31,822",
          "31,822",
          "31,822"
         ],
         "z": [
          "₹25,999",
          "₹24,999",
          "₹24,999",
          "₹20,999",
          "₹20,999",
          "₹20,999"
         ]
        },
        {
         "hovertemplate": "discounted_price=₹699<br>rating=%{x}<br>rating_count=%{y}<br>actual_price=%{z}<extra></extra>",
         "legendgroup": "₹699",
         "marker": {
          "color": "#FFA15A",
          "symbol": "circle"
         },
         "mode": "markers",
         "name": "₹699",
         "scene": "scene",
         "showlegend": true,
         "type": "scatter3d",
         "x": [
          "4.4",
          "4.0",
          "3.5",
          "4.5",
          "4.1",
          "4.0",
          "4.3",
          "4.0",
          "4.1",
          "3.9",
          "4.7",
          "4.7",
          "4.1",
          "4.1"
         ],
         "y": [
          "390",
          "14,404",
          "15,295",
          "54,405",
          "2,73,189",
          "5,736",
          "6,183",
          "14,403",
          "8,090",
          "8,446",
          "1,729",
          "2,300",
          "1,106",
          "3,524"
         ],
         "z": [
          "₹1,899",
          "₹1,199",
          "₹999",
          "₹995",
          "₹999",
          "₹1,490",
          "₹1,299",
          "₹1,199",
          "₹1,595",
          "₹1,345",
          "₹1,599",
          "₹1,599",
          "₹850",
          "₹1,690"
         ]
        },
        {
         "hovertemplate": "discounted_price=₹2,699<br>rating=%{x}<br>rating_count=%{y}<br>actual_price=%{z}<extra></extra>",
         "legendgroup": "₹2,699",
         "marker": {
          "color": "#19d3f3",
          "symbol": "circle"
         },
         "mode": "markers",
         "name": "₹2,699",
         "scene": "scene",
         "showlegend": true,
         "type": "scatter3d",
         "x": [
          "3.5",
          "4",
          "4.2",
          "4"
         ],
         "y": [
          "621",
          "26,164",
          "1,296",
          "727"
         ],
         "z": [
          "₹3,500",
          "₹5,000",
          "₹4,700",
          "₹3,799"
         ]
        },
        {
         "hovertemplate": "discounted_price=₹246<br>rating=%{x}<br>rating_count=%{y}<br>actual_price=%{z}<extra></extra>",
         "legendgroup": "₹246",
         "marker": {
          "color": "#FF6692",
          "symbol": "circle"
         },
         "mode": "markers",
         "name": "₹246",
         "scene": "scene",
         "showlegend": true,
         "type": "scatter3d",
         "x": [
          "4.2"
         ],
         "y": [
          "143"
         ],
         "z": [
          "₹600"
         ]
        },
        {
         "hovertemplate": "discounted_price=₹247<br>rating=%{x}<br>rating_count=%{y}<br>actual_price=%{z}<extra></extra>",
         "legendgroup": "₹247",
         "marker": {
          "color": "#B6E880",
          "symbol": "circle"
         },
         "mode": "markers",
         "name": "₹247",
         "scene": "scene",
         "showlegend": true,
         "type": "scatter3d",
         "x": [
          "3.9"
         ],
         "y": [
          "200"
         ],
         "z": [
          "₹399"
         ]
        },
        {
         "hovertemplate": "discounted_price=₹1,369<br>rating=%{x}<br>rating_count=%{y}<br>actual_price=%{z}<extra></extra>",
         "legendgroup": "₹1,369",
         "marker": {
          "color": "#FF97FF",
          "symbol": "circle"
         },
         "mode": "markers",
         "name": "₹1,369",
         "scene": "scene",
         "showlegend": true,
         "type": "scatter3d",
         "x": [
          "3.3"
         ],
         "y": [
          "227"
         ],
         "z": [
          "₹2,999"
         ]
        },
        {
         "hovertemplate": "discounted_price=₹24,990<br>rating=%{x}<br>rating_count=%{y}<br>actual_price=%{z}<extra></extra>",
         "legendgroup": "₹24,990",
         "marker": {
          "color": "#FECB52",
          "symbol": "circle"
         },
         "mode": "markers",
         "name": "₹24,990",
         "scene": "scene",
         "showlegend": true,
         "type": "scatter3d",
         "x": [
          "4.2"
         ],
         "y": [
          "2,951"
         ],
         "z": [
          "₹51,990"
         ]
        },
        {
         "hovertemplate": "discounted_price=₹61,999<br>rating=%{x}<br>rating_count=%{y}<br>actual_price=%{z}<extra></extra>",
         "legendgroup": "₹61,999",
         "marker": {
          "color": "#636efa",
          "symbol": "circle"
         },
         "mode": "markers",
         "name": "₹61,999",
         "scene": "scene",
         "showlegend": true,
         "type": "scatter3d",
         "x": [
          "4.1"
         ],
         "y": [
          "6,753"
         ],
         "z": [
          "₹69,999"
         ]
        },
        {
         "hovertemplate": "discounted_price=₹24,499<br>rating=%{x}<br>rating_count=%{y}<br>actual_price=%{z}<extra></extra>",
         "legendgroup": "₹24,499",
         "marker": {
          "color": "#EF553B",
          "symbol": "circle"
         },
         "mode": "markers",
         "name": "₹24,499",
         "scene": "scene",
         "showlegend": true,
         "type": "scatter3d",
         "x": [
          "3.9"
         ],
         "y": [
          "3,518"
         ],
         "z": [
          "₹50,000"
         ]
        },
        {
         "hovertemplate": "discounted_price=₹10,499<br>rating=%{x}<br>rating_count=%{y}<br>actual_price=%{z}<extra></extra>",
         "legendgroup": "₹10,499",
         "marker": {
          "color": "#00cc96",
          "symbol": "circle"
         },
         "mode": "markers",
         "name": "₹10,499",
         "scene": "scene",
         "showlegend": true,
         "type": "scatter3d",
         "x": [
          "4.2",
          "4.2"
         ],
         "y": [
          "1,510",
          "284"
         ],
         "z": [
          "₹19,499",
          "₹13,499"
         ]
        },
        {
         "hovertemplate": "discounted_price=₹197<br>rating=%{x}<br>rating_count=%{y}<br>actual_price=%{z}<extra></extra>",
         "legendgroup": "₹197",
         "marker": {
          "color": "#ab63fa",
          "symbol": "circle"
         },
         "mode": "markers",
         "name": "₹197",
         "scene": "scene",
         "showlegend": true,
         "type": "scatter3d",
         "x": [
          "3.8"
         ],
         "y": [
          "136"
         ],
         "z": [
          "₹499"
         ]
        },
        {
         "hovertemplate": "discounted_price=₹1,519<br>rating=%{x}<br>rating_count=%{y}<br>actual_price=%{z}<extra></extra>",
         "legendgroup": "₹1,519",
         "marker": {
          "color": "#FFA15A",
          "symbol": "circle"
         },
         "mode": "markers",
         "name": "₹1,519",
         "scene": "scene",
         "showlegend": true,
         "type": "scatter3d",
         "x": [
          "4.4",
          "4.3"
         ],
         "y": [
          "19,763",
          "408"
         ],
         "z": [
          "₹1,899",
          "₹3,499"
         ]
        },
        {
         "hovertemplate": "discounted_price=₹46,999<br>rating=%{x}<br>rating_count=%{y}<br>actual_price=%{z}<extra></extra>",
         "legendgroup": "₹46,999",
         "marker": {
          "color": "#19d3f3",
          "symbol": "circle"
         },
         "mode": "markers",
         "name": "₹46,999",
         "scene": "scene",
         "showlegend": true,
         "type": "scatter3d",
         "x": [
          "4.3"
         ],
         "y": [
          "21,252"
         ],
         "z": [
          "₹69,999"
         ]
        },
        {
         "hovertemplate": "discounted_price=₹1,799<br>rating=%{x}<br>rating_count=%{y}<br>actual_price=%{z}<extra></extra>",
         "legendgroup": "₹1,799",
         "marker": {
          "color": "#FF6692",
          "symbol": "circle"
         },
         "mode": "markers",
         "name": "₹1,799",
         "scene": "scene",
         "showlegend": true,
         "type": "scatter3d",
         "x": [
          "4.2",
          "4.2",
          "4.2",
          "4.2",
          "4.2",
          "4.1",
          "4.0",
          "4.6",
          "3.8",
          "4.1",
          "4.1",
          "3.9",
          "4.0",
          "4.2",
          "4.3",
          "4.6",
          "3.8",
          "3.8",
          "3.9",
          "3.8",
          "3.6"
         ],
         "y": [
          "13,937",
          "13,937",
          "13,937",
          "13,937",
          "13,937",
          "18,678",
          "26,880",
          "245",
          "17,833",
          "18,678",
          "55,192",
          "3,517",
          "26,880",
          "41,226",
          "20,342",
          "245",
          "9,791",
          "687",
          "1,888",
          "1,846",
          "771"
         ],
         "z": [
          "₹19,999",
          "₹19,999",
          "₹19,999",
          "₹19,999",
          "₹19,999",
          "₹2,499",
          "₹6,990",
          "₹3,999",
          "₹7,990",
          "₹2,499",
          "₹4,999",
          "₹3,999",
          "₹6,990",
          "₹4,990",
          "₹2,911",
          "₹3,999",
          "₹3,595",
          "₹3,295",
          "₹1,950",
          "₹3,299",
          "₹2,599"
         ]
        },
        {
         "hovertemplate": "discounted_price=₹1,998<br>rating=%{x}<br>rating_count=%{y}<br>actual_price=%{z}<extra></extra>",
         "legendgroup": "₹1,998",
         "marker": {
          "color": "#B6E880",
          "symbol": "circle"
         },
         "mode": "markers",
         "name": "₹1,998",
         "scene": "scene",
         "showlegend": true,
         "type": "scatter3d",
         "x": [
          "4.3",
          "4.3"
         ],
         "y": [
          "27,696",
          "27,709"
         ],
         "z": [
          "₹9,999",
          "₹9,999"
         ]
        },
        {
         "hovertemplate": "discounted_price=₹1,999<br>rating=%{x}<br>rating_count=%{y}<br>actual_price=%{z}<extra></extra>",
         "legendgroup": "₹1,999",
         "marker": {
          "color": "#FF97FF",
          "symbol": "circle"
         },
         "mode": "markers",
         "name": "₹1,999",
         "scene": "scene",
         "showlegend": true,
         "type": "scatter3d",
         "x": [
          "3.8",
          "4.3",
          "4.0",
          "3.8",
          "3.8",
          "3.8",
          "3.9",
          "4.3",
          "4.3",
          "4.0",
          "4.1",
          "4.3",
          "3.7",
          "4.2",
          "3.8",
          "4.2",
          "4.1",
          "4.2",
          "4.2",
          "4.4",
          "4.2"
         ],
         "y": [
          "17,831",
          "27,696",
          "30,254",
          "17,831",
          "17,831",
          "17,833",
          "7,571",
          "27,704",
          "240",
          "30,254",
          "10,689",
          "63,899",
          "1,986",
          "31,305",
          "1,880",
          "41,349",
          "1,034",
          "1,353",
          "780",
          "388",
          "7,801"
         ],
         "z": [
          "₹7,990",
          "₹9,999",
          "₹3,990",
          "₹7,990",
          "₹7,990",
          "₹7,990",
          "₹4,999",
          "₹9,999",
          "₹8,499",
          "₹3,999",
          "₹4,999",
          "₹2,999",
          "₹9,999",
          "₹7,999",
          "₹4,700",
          "₹3,210",
          "₹2,499",
          "₹4,775",
          "₹3,300",
          "₹2,999",
          "₹2,360"
         ]
        },
        {
         "hovertemplate": "discounted_price=₹2,049<br>rating=%{x}<br>rating_count=%{y}<br>actual_price=%{z}<extra></extra>",
         "legendgroup": "₹2,049",
         "marker": {
          "color": "#FECB52",
          "symbol": "circle"
         },
         "mode": "markers",
         "name": "₹2,049",
         "scene": "scene",
         "showlegend": true,
         "type": "scatter3d",
         "x": [
          "4.3"
         ],
         "y": [
          "1,78,912"
         ],
         "z": [
          "₹2,199"
         ]
        },
        {
         "hovertemplate": "discounted_price=₹6,499<br>rating=%{x}<br>rating_count=%{y}<br>actual_price=%{z}<extra></extra>",
         "legendgroup": "₹6,499",
         "marker": {
          "color": "#636efa",
          "symbol": "circle"
         },
         "mode": "markers",
         "name": "₹6,499",
         "scene": "scene",
         "showlegend": true,
         "type": "scatter3d",
         "x": [
          "4.0",
          "4.0",
          "4.0",
          "4.1",
          "4.1",
          "4.4",
          "4.3"
         ],
         "y": [
          "7,807",
          "7,807",
          "7,807",
          "3,13,836",
          "3,13,832",
          "5,865",
          "2,810"
         ],
         "z": [
          "₹8,999",
          "₹8,999",
          "₹8,999",
          "₹8,499",
          "₹7,999",
          "₹8,500",
          "₹8,995"
         ]
        },
        {
         "hovertemplate": "discounted_price=₹28,999<br>rating=%{x}<br>rating_count=%{y}<br>actual_price=%{z}<extra></extra>",
         "legendgroup": "₹28,999",
         "marker": {
          "color": "#EF553B",
          "symbol": "circle"
         },
         "mode": "markers",
         "name": "₹28,999",
         "scene": "scene",
         "showlegend": true,
         "type": "scatter3d",
         "x": [
          "4.3",
          "4.3",
          "4.4"
         ],
         "y": [
          "17,415",
          "17,415",
          "20,311"
         ],
         "z": [
          "₹28,999",
          "₹28,999",
          "₹34,999"
         ]
        },
        {
         "hovertemplate": "discounted_price=₹569<br>rating=%{x}<br>rating_count=%{y}<br>actual_price=%{z}<extra></extra>",
         "legendgroup": "₹569",
         "marker": {
          "color": "#00cc96",
          "symbol": "circle"
         },
         "mode": "markers",
         "name": "₹569",
         "scene": "scene",
         "showlegend": true,
         "type": "scatter3d",
         "x": [
          "4.4",
          "4.4",
          "4.4"
         ],
         "y": [
          "67,259",
          "67,262",
          "9,275"
         ],
         "z": [
          "₹1,000",
          "₹1,000",
          "₹1,299"
         ]
        },
        {
         "hovertemplate": "discounted_price=₹1,898<br>rating=%{x}<br>rating_count=%{y}<br>actual_price=%{z}<extra></extra>",
         "legendgroup": "₹1,898",
         "marker": {
          "color": "#ab63fa",
          "symbol": "circle"
         },
         "mode": "markers",
         "name": "₹1,898",
         "scene": "scene",
         "showlegend": true,
         "type": "scatter3d",
         "x": [
          "4.1"
         ],
         "y": [
          "10,689"
         ],
         "z": [
          "₹4,999"
         ]
        },
        {
         "hovertemplate": "discounted_price=₹9,499<br>rating=%{x}<br>rating_count=%{y}<br>actual_price=%{z}<extra></extra>",
         "legendgroup": "₹9,499",
         "marker": {
          "color": "#FFA15A",
          "symbol": "circle"
         },
         "mode": "markers",
         "name": "₹9,499",
         "scene": "scene",
         "showlegend": true,
         "type": "scatter3d",
         "x": [
          "4.2",
          "4.2"
         ],
         "y": [
          "284",
          "284"
         ],
         "z": [
          "₹11,999",
          "₹11,999"
         ]
        },
        {
         "hovertemplate": "discounted_price=₹959<br>rating=%{x}<br>rating_count=%{y}<br>actual_price=%{z}<extra></extra>",
         "legendgroup": "₹959",
         "marker": {
          "color": "#19d3f3",
          "symbol": "circle"
         },
         "mode": "markers",
         "name": "₹959",
         "scene": "scene",
         "showlegend": true,
         "type": "scatter3d",
         "x": [
          "4.4"
         ],
         "y": [
          "67,259"
         ],
         "z": [
          "₹1,800"
         ]
        },
        {
         "hovertemplate": "discounted_price=₹1,149<br>rating=%{x}<br>rating_count=%{y}<br>actual_price=%{z}<extra></extra>",
         "legendgroup": "₹1,149",
         "marker": {
          "color": "#FF6692",
          "symbol": "circle"
         },
         "mode": "markers",
         "name": "₹1,149",
         "scene": "scene",
         "showlegend": true,
         "type": "scatter3d",
         "x": [
          "4.3",
          "4.3",
          "4.3",
          "4.2",
          "4.1",
          "4.3",
          "3.8",
          "3.5"
         ],
         "y": [
          "1,78,912",
          "1,40,036",
          "1,78,912",
          "1,22,478",
          "10,443",
          "4,723",
          "4,383",
          "24"
         ],
         "z": [
          "₹2,199",
          "₹3,999",
          "₹2,199",
          "₹1,699",
          "₹1,499",
          "₹1,800",
          "₹2,499",
          "₹1,899"
         ]
        },
        {
         "hovertemplate": "discounted_price=₹1,219<br>rating=%{x}<br>rating_count=%{y}<br>actual_price=%{z}<extra></extra>",
         "legendgroup": "₹1,219",
         "marker": {
          "color": "#B6E880",
          "symbol": "circle"
         },
         "mode": "markers",
         "name": "₹1,219",
         "scene": "scene",
         "showlegend": true,
         "type": "scatter3d",
         "x": [
          "4.4"
         ],
         "y": [
          "8,891"
         ],
         "z": [
          "₹1,699"
         ]
        },
        {
         "hovertemplate": "discounted_price=₹18,499<br>rating=%{x}<br>rating_count=%{y}<br>actual_price=%{z}<extra></extra>",
         "legendgroup": "₹18,499",
         "marker": {
          "color": "#FF97FF",
          "symbol": "circle"
         },
         "mode": "markers",
         "name": "₹18,499",
         "scene": "scene",
         "showlegend": true,
         "type": "scatter3d",
         "x": [
          "4.1"
         ],
         "y": [
          "22,318"
         ],
         "z": [
          "₹25,999"
         ]
        },
        {
         "hovertemplate": "discounted_price=₹369<br>rating=%{x}<br>rating_count=%{y}<br>actual_price=%{z}<extra></extra>",
         "legendgroup": "₹369",
         "marker": {
          "color": "#FECB52",
          "symbol": "circle"
         },
         "mode": "markers",
         "name": "₹369",
         "scene": "scene",
         "showlegend": true,
         "type": "scatter3d",
         "x": [
          "4.4",
          "4.0",
          "4.0",
          "3.9"
         ],
         "y": [
          "67,259",
          "32,625",
          "32,625",
          "82"
         ],
         "z": [
          "₹700",
          "₹1,600",
          "₹1,600",
          "₹599"
         ]
        },
        {
         "hovertemplate": "discounted_price=₹12,999<br>rating=%{x}<br>rating_count=%{y}<br>actual_price=%{z}<extra></extra>",
         "legendgroup": "₹12,999",
         "marker": {
          "color": "#636efa",
          "symbol": "circle"
         },
         "mode": "markers",
         "name": "₹12,999",
         "scene": "scene",
         "showlegend": true,
         "type": "scatter3d",
         "x": [
          "4.1",
          "4.2",
          "4.1",
          "4.1",
          "4.1",
          "4.1",
          "4.1",
          "4.1"
         ],
         "y": [
          "18,998",
          "13,246",
          "50,772",
          "18,998",
          "56,098",
          "50,772",
          "50,772",
          "50,772"
         ],
         "z": [
          "₹17,999",
          "₹15,999",
          "₹17,999",
          "₹17,999",
          "₹13,499",
          "₹18,999",
          "₹18,999",
          "₹18,999"
         ]
        },
        {
         "hovertemplate": "discounted_price=₹2,199<br>rating=%{x}<br>rating_count=%{y}<br>actual_price=%{z}<extra></extra>",
         "legendgroup": "₹2,199",
         "marker": {
          "color": "#EF553B",
          "symbol": "circle"
         },
         "mode": "markers",
         "name": "₹2,199",
         "scene": "scene",
         "showlegend": true,
         "type": "scatter3d",
         "x": [
          "4.2",
          "4.2",
          "4.2",
          "3.8",
          "4.3",
          "3.5",
          "3.9",
          "4.2"
         ],
         "y": [
          "29,471",
          "29,472",
          "29,478",
          "1,558",
          "9,650",
          "340",
          "1,085",
          "2,686"
         ],
         "z": [
          "₹9,999",
          "₹9,999",
          "₹9,999",
          "₹2,990",
          "₹3,190",
          "₹3,999",
          "₹3,895",
          "₹3,045"
         ]
        },
        {
         "hovertemplate": "discounted_price=₹16,499<br>rating=%{x}<br>rating_count=%{y}<br>actual_price=%{z}<extra></extra>",
         "legendgroup": "₹16,499",
         "marker": {
          "color": "#00cc96",
          "symbol": "circle"
         },
         "mode": "markers",
         "name": "₹16,499",
         "scene": "scene",
         "showlegend": true,
         "type": "scatter3d",
         "x": [
          "4.0",
          "4.0"
         ],
         "y": [
          "21,350",
          "21,350"
         ],
         "z": [
          "₹20,999",
          "₹20,990"
         ]
        },
        {
         "hovertemplate": "discounted_price=₹3,999<br>rating=%{x}<br>rating_count=%{y}<br>actual_price=%{z}<extra></extra>",
         "legendgroup": "₹3,999",
         "marker": {
          "color": "#ab63fa",
          "symbol": "circle"
         },
         "mode": "markers",
         "name": "₹3,999",
         "scene": "scene",
         "showlegend": true,
         "type": "scatter3d",
         "x": [
          "4.3",
          "4.4",
          "4.1",
          "4.3",
          "4.3",
          "3.5"
         ],
         "y": [
          "17,159",
          "73",
          "10,229",
          "17,161",
          "17,162",
          "21,762"
         ],
         "z": [
          "₹16,999",
          "₹9,999",
          "₹6,999",
          "₹17,999",
          "₹16,999",
          "₹4,332.96"
         ]
        },
        {
         "hovertemplate": "discounted_price=₹2,998<br>rating=%{x}<br>rating_count=%{y}<br>actual_price=%{z}<extra></extra>",
         "legendgroup": "₹2,998",
         "marker": {
          "color": "#FFA15A",
          "symbol": "circle"
         },
         "mode": "markers",
         "name": "₹2,998",
         "scene": "scene",
         "showlegend": true,
         "type": "scatter3d",
         "x": [
          "4.1",
          "4.1"
         ],
         "y": [
          "5,179",
          "5,179"
         ],
         "z": [
          "₹5,999",
          "₹5,999"
         ]
        },
        {
         "hovertemplate": "discounted_price=₹15,499<br>rating=%{x}<br>rating_count=%{y}<br>actual_price=%{z}<extra></extra>",
         "legendgroup": "₹15,499",
         "marker": {
          "color": "#19d3f3",
          "symbol": "circle"
         },
         "mode": "markers",
         "name": "₹15,499",
         "scene": "scene",
         "showlegend": true,
         "type": "scatter3d",
         "x": [
          "4.1",
          "4.1",
          "4.1",
          "4.1"
         ],
         "y": [
          "19,252",
          "19,252",
          "19,252",
          "19,253"
         ],
         "z": [
          "₹18,999",
          "₹20,999",
          "₹18,999",
          "₹20,999"
         ]
        },
        {
         "hovertemplate": "discounted_price=₹873<br>rating=%{x}<br>rating_count=%{y}<br>actual_price=%{z}<extra></extra>",
         "legendgroup": "₹873",
         "marker": {
          "color": "#FF6692",
          "symbol": "circle"
         },
         "mode": "markers",
         "name": "₹873",
         "scene": "scene",
         "showlegend": true,
         "type": "scatter3d",
         "x": [
          "4.4"
         ],
         "y": [
          "1,680"
         ],
         "z": [
          "₹1,699"
         ]
        },
        {
         "hovertemplate": "discounted_price=₹539<br>rating=%{x}<br>rating_count=%{y}<br>actual_price=%{z}<extra></extra>",
         "legendgroup": "₹539",
         "marker": {
          "color": "#B6E880",
          "symbol": "circle"
         },
         "mode": "markers",
         "name": "₹539",
         "scene": "scene",
         "showlegend": true,
         "type": "scatter3d",
         "x": [
          "3.8",
          "4.1"
         ],
         "y": [
          "14,648",
          "36,017"
         ],
         "z": [
          "₹1,599",
          "₹720"
         ]
        },
        {
         "hovertemplate": "discounted_price=₹1,075<br>rating=%{x}<br>rating_count=%{y}<br>actual_price=%{z}<extra></extra>",
         "legendgroup": "₹1,075",
         "marker": {
          "color": "#FF97FF",
          "symbol": "circle"
         },
         "mode": "markers",
         "name": "₹1,075",
         "scene": "scene",
         "showlegend": true,
         "type": "scatter3d",
         "x": [
          "4.4"
         ],
         "y": [
          "7,462"
         ],
         "z": [
          "₹1,699"
         ]
        },
        {
         "hovertemplate": "discounted_price=₹529<br>rating=%{x}<br>rating_count=%{y}<br>actual_price=%{z}<extra></extra>",
         "legendgroup": "₹529",
         "marker": {
          "color": "#FECB52",
          "symbol": "circle"
         },
         "mode": "markers",
         "name": "₹529",
         "scene": "scene",
         "showlegend": true,
         "type": "scatter3d",
         "x": [
          "4.1"
         ],
         "y": [
          "8,599"
         ],
         "z": [
          "₹1,499"
         ]
        },
        {
         "hovertemplate": "discounted_price=₹4,790<br>rating=%{x}<br>rating_count=%{y}<br>actual_price=%{z}<extra></extra>",
         "legendgroup": "₹4,790",
         "marker": {
          "color": "#636efa",
          "symbol": "circle"
         },
         "mode": "markers",
         "name": "₹4,790",
         "scene": "scene",
         "showlegend": true,
         "type": "scatter3d",
         "x": [
          "4.0"
         ],
         "y": [
          "4,390"
         ],
         "z": [
          "₹15,990"
         ]
        },
        {
         "hovertemplate": "discounted_price=₹33,999<br>rating=%{x}<br>rating_count=%{y}<br>actual_price=%{z}<extra></extra>",
         "legendgroup": "₹33,999",
         "marker": {
          "color": "#EF553B",
          "symbol": "circle"
         },
         "mode": "markers",
         "name": "₹33,999",
         "scene": "scene",
         "showlegend": true,
         "type": "scatter3d",
         "x": [
          "4.3"
         ],
         "y": [
          "17,415"
         ],
         "z": [
          "₹33,999"
         ]
        },
        {
         "hovertemplate": "discounted_price=₹10,999<br>rating=%{x}<br>rating_count=%{y}<br>actual_price=%{z}<extra></extra>",
         "legendgroup": "₹10,999",
         "marker": {
          "color": "#00cc96",
          "symbol": "circle"
         },
         "mode": "markers",
         "name": "₹10,999",
         "scene": "scene",
         "showlegend": true,
         "type": "scatter3d",
         "x": [
          "4.1",
          "4.1"
         ],
         "y": [
          "18,998",
          "18,998"
         ],
         "z": [
          "₹14,999",
          "₹14,999"
         ]
        },
        {
         "hovertemplate": "discounted_price=₹34,999<br>rating=%{x}<br>rating_count=%{y}<br>actual_price=%{z}<extra></extra>",
         "legendgroup": "₹34,999",
         "marker": {
          "color": "#ab63fa",
          "symbol": "circle"
         },
         "mode": "markers",
         "name": "₹34,999",
         "scene": "scene",
         "showlegend": true,
         "type": "scatter3d",
         "x": [
          "4.2"
         ],
         "y": [
          "11,029"
         ],
         "z": [
          "₹38,999"
         ]
        },
        {
         "hovertemplate": "discounted_price=₹2,999<br>rating=%{x}<br>rating_count=%{y}<br>actual_price=%{z}<extra></extra>",
         "legendgroup": "₹2,999",
         "marker": {
          "color": "#FFA15A",
          "symbol": "circle"
         },
         "mode": "markers",
         "name": "₹2,999",
         "scene": "scene",
         "showlegend": true,
         "type": "scatter3d",
         "x": [
          "4.1",
          "4.1",
          "4.2",
          "4.1",
          "4.4",
          "4.1",
          "4.2",
          "4"
         ],
         "y": [
          "48,449",
          "154",
          "20,879",
          "7,148",
          "768",
          "48,448",
          "20,881",
          "178"
         ],
         "z": [
          "₹7,990",
          "₹7,990",
          "₹9,999",
          "₹5,999",
          "₹11,999",
          "₹7,990",
          "₹9,999",
          "₹3,595"
         ]
        },
        {
         "hovertemplate": "discounted_price=₹20,999<br>rating=%{x}<br>rating_count=%{y}<br>actual_price=%{z}<extra></extra>",
         "legendgroup": "₹20,999",
         "marker": {
          "color": "#19d3f3",
          "symbol": "circle"
         },
         "mode": "markers",
         "name": "₹20,999",
         "scene": "scene",
         "showlegend": true,
         "type": "scatter3d",
         "x": [
          "3.9",
          "4.3",
          "4.3"
         ],
         "y": [
          "25,824",
          "9,499",
          "9,499"
         ],
         "z": [
          "₹26,999",
          "₹29,990",
          "₹29,990"
         ]
        },
        {
         "hovertemplate": "discounted_price=₹22,999<br>rating=%{x}<br>rating_count=%{y}<br>actual_price=%{z}<extra></extra>",
         "legendgroup": "₹22,999",
         "marker": {
          "color": "#FF6692",
          "symbol": "circle"
         },
         "mode": "markers",
         "name": "₹22,999",
         "scene": "scene",
         "showlegend": true,
         "type": "scatter3d",
         "x": [
          "3.9"
         ],
         "y": [
          "25,824"
         ],
         "z": [
          "₹28,999"
         ]
        },
        {
         "hovertemplate": "discounted_price=₹134<br>rating=%{x}<br>rating_count=%{y}<br>actual_price=%{z}<extra></extra>",
         "legendgroup": "₹134",
         "marker": {
          "color": "#B6E880",
          "symbol": "circle"
         },
         "mode": "markers",
         "name": "₹134",
         "scene": "scene",
         "showlegend": true,
         "type": "scatter3d",
         "x": [
          "4.1"
         ],
         "y": [
          "16,685"
         ],
         "z": [
          "₹699"
         ]
        },
        {
         "hovertemplate": "discounted_price=₹7,499<br>rating=%{x}<br>rating_count=%{y}<br>actual_price=%{z}<extra></extra>",
         "legendgroup": "₹7,499",
         "marker": {
          "color": "#FF97FF",
          "symbol": "circle"
         },
         "mode": "markers",
         "name": "₹7,499",
         "scene": "scene",
         "showlegend": true,
         "type": "scatter3d",
         "x": [
          "4.0",
          "4.1"
         ],
         "y": [
          "30,907",
          "3,13,832"
         ],
         "z": [
          "₹7,999",
          "₹9,499"
         ]
        },
        {
         "hovertemplate": "discounted_price=₹1,324<br>rating=%{x}<br>rating_count=%{y}<br>actual_price=%{z}<extra></extra>",
         "legendgroup": "₹1,324",
         "marker": {
          "color": "#FECB52",
          "symbol": "circle"
         },
         "mode": "markers",
         "name": "₹1,324",
         "scene": "scene",
         "showlegend": true,
         "type": "scatter3d",
         "x": [
          "4.0",
          "4.0"
         ],
         "y": [
          "1,28,311",
          "1,28,311"
         ],
         "z": [
          "₹1,699",
          "₹1,699"
         ]
        },
        {
         "hovertemplate": "discounted_price=₹12,490<br>rating=%{x}<br>rating_count=%{y}<br>actual_price=%{z}<extra></extra>",
         "legendgroup": "₹12,490",
         "marker": {
          "color": "#636efa",
          "symbol": "circle"
         },
         "mode": "markers",
         "name": "₹12,490",
         "scene": "scene",
         "showlegend": true,
         "type": "scatter3d",
         "x": [
          "4.2"
         ],
         "y": [
          "58,506"
         ],
         "z": [
          "₹15,990"
         ]
        },
        {
         "hovertemplate": "discounted_price=₹17,999<br>rating=%{x}<br>rating_count=%{y}<br>actual_price=%{z}<extra></extra>",
         "legendgroup": "₹17,999",
         "marker": {
          "color": "#EF553B",
          "symbol": "circle"
         },
         "mode": "markers",
         "name": "₹17,999",
         "scene": "scene",
         "showlegend": true,
         "type": "scatter3d",
         "x": [
          "4.0"
         ],
         "y": [
          "21,350"
         ],
         "z": [
          "₹21,990"
         ]
        },
        {
         "hovertemplate": "discounted_price=₹2,099<br>rating=%{x}<br>rating_count=%{y}<br>actual_price=%{z}<extra></extra>",
         "legendgroup": "₹2,099",
         "marker": {
          "color": "#00cc96",
          "symbol": "circle"
         },
         "mode": "markers",
         "name": "₹2,099",
         "scene": "scene",
         "showlegend": true,
         "type": "scatter3d",
         "x": [
          "4.3",
          "4.3",
          "3.8",
          "|"
         ],
         "y": [
          "17,129",
          "17,129",
          "11,213",
          "992"
         ],
         "z": [
          "₹5,999",
          "₹5,999",
          "₹3,250",
          "₹2,499"
         ]
        },
        {
         "hovertemplate": "discounted_price=₹337<br>rating=%{x}<br>rating_count=%{y}<br>actual_price=%{z}<extra></extra>",
         "legendgroup": "₹337",
         "marker": {
          "color": "#ab63fa",
          "symbol": "circle"
         },
         "mode": "markers",
         "name": "₹337",
         "scene": "scene",
         "showlegend": true,
         "type": "scatter3d",
         "x": [
          "4.2"
         ],
         "y": [
          "4,969"
         ],
         "z": [
          "₹699"
         ]
        },
        {
         "hovertemplate": "discounted_price=₹251<br>rating=%{x}<br>rating_count=%{y}<br>actual_price=%{z}<extra></extra>",
         "legendgroup": "₹251",
         "marker": {
          "color": "#FFA15A",
          "symbol": "circle"
         },
         "mode": "markers",
         "name": "₹251",
         "scene": "scene",
         "showlegend": true,
         "type": "scatter3d",
         "x": [
          "3.7"
         ],
         "y": [
          "3,234"
         ],
         "z": [
          "₹999"
         ]
        },
        {
         "hovertemplate": "discounted_price=₹95<br>rating=%{x}<br>rating_count=%{y}<br>actual_price=%{z}<extra></extra>",
         "legendgroup": "₹95",
         "marker": {
          "color": "#19d3f3",
          "symbol": "circle"
         },
         "mode": "markers",
         "name": "₹95",
         "scene": "scene",
         "showlegend": true,
         "type": "scatter3d",
         "x": [
          "4.2",
          "4.2"
         ],
         "y": [
          "1,949",
          "1,949"
         ],
         "z": [
          "₹499",
          "₹499"
         ]
        },
        {
         "hovertemplate": "discounted_price=₹4,499<br>rating=%{x}<br>rating_count=%{y}<br>actual_price=%{z}<extra></extra>",
         "legendgroup": "₹4,499",
         "marker": {
          "color": "#FF6692",
          "symbol": "circle"
         },
         "mode": "markers",
         "name": "₹4,499",
         "scene": "scene",
         "showlegend": true,
         "type": "scatter3d",
         "x": [
          "3.5",
          "4.3"
         ],
         "y": [
          "37",
          "44,696"
         ],
         "z": [
          "₹7,999",
          "₹5,999"
         ]
        },
        {
         "hovertemplate": "discounted_price=₹1,989<br>rating=%{x}<br>rating_count=%{y}<br>actual_price=%{z}<extra></extra>",
         "legendgroup": "₹1,989",
         "marker": {
          "color": "#B6E880",
          "symbol": "circle"
         },
         "mode": "markers",
         "name": "₹1,989",
         "scene": "scene",
         "showlegend": true,
         "type": "scatter3d",
         "x": [
          "4.4"
         ],
         "y": [
          "67,260"
         ],
         "z": [
          "₹3,500"
         ]
        },
        {
         "hovertemplate": "discounted_price=₹4,999<br>rating=%{x}<br>rating_count=%{y}<br>actual_price=%{z}<extra></extra>",
         "legendgroup": "₹4,999",
         "marker": {
          "color": "#FF97FF",
          "symbol": "circle"
         },
         "mode": "markers",
         "name": "₹4,999",
         "scene": "scene",
         "showlegend": true,
         "type": "scatter3d",
         "x": [
          "3.8",
          "4.2",
          "4.2",
          "4.6",
          "4.5"
         ],
         "y": [
          "758",
          "4,541",
          "1,772",
          "124",
          "287"
         ],
         "z": [
          "₹6,999",
          "₹12,499",
          "₹9,650",
          "₹24,999",
          "₹24,999"
         ]
        },
        {
         "hovertemplate": "discounted_price=₹2,499<br>rating=%{x}<br>rating_count=%{y}<br>actual_price=%{z}<extra></extra>",
         "legendgroup": "₹2,499",
         "marker": {
          "color": "#FECB52",
          "symbol": "circle"
         },
         "mode": "markers",
         "name": "₹2,499",
         "scene": "scene",
         "showlegend": true,
         "type": "scatter3d",
         "x": [
          "3.7",
          "4.1",
          "4.1",
          "4.4",
          "4.2",
          "3.9",
          "4.1",
          "4.1",
          "4.0",
          "4.1",
          "4.4",
          "3.8",
          "3.8"
         ],
         "y": [
          "828",
          "154",
          "3,156",
          "35,024",
          "93,112",
          "7,571",
          "42,139",
          "5,852",
          "9,090",
          "38,879",
          "12,679",
          "2,732",
          "1,889"
         ],
         "z": [
          "₹5,999",
          "₹7,990",
          "₹2,999",
          "₹4,999",
          "₹3,299",
          "₹4,999",
          "₹9,999",
          "₹5,999",
          "₹9,999",
          "₹5,999",
          "₹3,999",
          "₹3,945",
          "₹5,000"
         ]
        },
        {
         "hovertemplate": "discounted_price=₹79<br>rating=%{x}<br>rating_count=%{y}<br>actual_price=%{z}<extra></extra>",
         "legendgroup": "₹79",
         "marker": {
          "color": "#636efa",
          "symbol": "circle"
         },
         "mode": "markers",
         "name": "₹79",
         "scene": "scene",
         "showlegend": true,
         "type": "scatter3d",
         "x": [
          "4.2",
          "4"
         ],
         "y": [
          "1,949",
          "97"
         ],
         "z": [
          "₹499",
          "₹79"
         ]
        },
        {
         "hovertemplate": "discounted_price=₹2,179<br>rating=%{x}<br>rating_count=%{y}<br>actual_price=%{z}<extra></extra>",
         "legendgroup": "₹2,179",
         "marker": {
          "color": "#EF553B",
          "symbol": "circle"
         },
         "mode": "markers",
         "name": "₹2,179",
         "scene": "scene",
         "showlegend": true,
         "type": "scatter3d",
         "x": [
          "4.0"
         ],
         "y": [
          "8,380"
         ],
         "z": [
          "₹3,999"
         ]
        },
        {
         "hovertemplate": "discounted_price=₹44,999<br>rating=%{x}<br>rating_count=%{y}<br>actual_price=%{z}<extra></extra>",
         "legendgroup": "₹44,999",
         "marker": {
          "color": "#00cc96",
          "symbol": "circle"
         },
         "mode": "markers",
         "name": "₹44,999",
         "scene": "scene",
         "showlegend": true,
         "type": "scatter3d",
         "x": [
          "4.3"
         ],
         "y": [
          "3,075"
         ],
         "z": [
          "₹49,999"
         ]
        },
        {
         "hovertemplate": "discounted_price=₹2,599<br>rating=%{x}<br>rating_count=%{y}<br>actual_price=%{z}<extra></extra>",
         "legendgroup": "₹2,599",
         "marker": {
          "color": "#ab63fa",
          "symbol": "circle"
         },
         "mode": "markers",
         "name": "₹2,599",
         "scene": "scene",
         "showlegend": true,
         "type": "scatter3d",
         "x": [
          "3.9",
          "4.5",
          "4.5",
          "4.1",
          "4.1",
          "4.4",
          "4.4",
          "3.9"
         ],
         "y": [
          "14,266",
          "1,526",
          "1,526",
          "21,783",
          "14,947",
          "2,116",
          "646",
          "898"
         ],
         "z": [
          "₹2,999",
          "₹6,999",
          "₹6,999",
          "₹5,890",
          "₹4,400",
          "₹4,290",
          "₹4,560",
          "₹4,780"
         ]
        },
        {
         "hovertemplate": "discounted_price=₹2,799<br>rating=%{x}<br>rating_count=%{y}<br>actual_price=%{z}<extra></extra>",
         "legendgroup": "₹2,799",
         "marker": {
          "color": "#FFA15A",
          "symbol": "circle"
         },
         "mode": "markers",
         "name": "₹2,799",
         "scene": "scene",
         "showlegend": true,
         "type": "scatter3d",
         "x": [
          "4.1",
          "3.9",
          "4.5"
         ],
         "y": [
          "38,879",
          "32,931",
          "546"
         ],
         "z": [
          "₹6,499",
          "₹3,799",
          "₹3,499"
         ]
        },
        {
         "hovertemplate": "discounted_price=₹3,799<br>rating=%{x}<br>rating_count=%{y}<br>actual_price=%{z}<extra></extra>",
         "legendgroup": "₹3,799",
         "marker": {
          "color": "#19d3f3",
          "symbol": "circle"
         },
         "mode": "markers",
         "name": "₹3,799",
         "scene": "scene",
         "showlegend": true,
         "type": "scatter3d",
         "x": [
          "3.5",
          "4.2"
         ],
         "y": [
          "1,641",
          "11,935"
         ],
         "z": [
          "₹5,299",
          "₹6,000"
         ]
        },
        {
         "hovertemplate": "discounted_price=₹281<br>rating=%{x}<br>rating_count=%{y}<br>actual_price=%{z}<extra></extra>",
         "legendgroup": "₹281",
         "marker": {
          "color": "#FF6692",
          "symbol": "circle"
         },
         "mode": "markers",
         "name": "₹281",
         "scene": "scene",
         "showlegend": true,
         "type": "scatter3d",
         "x": [
          "2.8"
         ],
         "y": [
          "87"
         ],
         "z": [
          "₹1,999"
         ]
        },
        {
         "hovertemplate": "discounted_price=₹7,998<br>rating=%{x}<br>rating_count=%{y}<br>actual_price=%{z}<extra></extra>",
         "legendgroup": "₹7,998",
         "marker": {
          "color": "#B6E880",
          "symbol": "circle"
         },
         "mode": "markers",
         "name": "₹7,998",
         "scene": "scene",
         "showlegend": true,
         "type": "scatter3d",
         "x": [
          "3.8"
         ],
         "y": [
          "125"
         ],
         "z": [
          "₹11,999"
         ]
        },
        {
         "hovertemplate": "discounted_price=₹120<br>rating=%{x}<br>rating_count=%{y}<br>actual_price=%{z}<extra></extra>",
         "legendgroup": "₹120",
         "marker": {
          "color": "#FF97FF",
          "symbol": "circle"
         },
         "mode": "markers",
         "name": "₹120",
         "scene": "scene",
         "showlegend": true,
         "type": "scatter3d",
         "x": [
          "3.9",
          "4.1",
          "3.9",
          "4.5"
         ],
         "y": [
          "6,491",
          "4,308",
          "6,491",
          "4,951"
         ],
         "z": [
          "₹999",
          "₹120",
          "₹999",
          "₹120"
         ]
        },
        {
         "hovertemplate": "discounted_price=₹7,915<br>rating=%{x}<br>rating_count=%{y}<br>actual_price=%{z}<extra></extra>",
         "legendgroup": "₹7,915",
         "marker": {
          "color": "#FECB52",
          "symbol": "circle"
         },
         "mode": "markers",
         "name": "₹7,915",
         "scene": "scene",
         "showlegend": true,
         "type": "scatter3d",
         "x": [
          "4.3"
         ],
         "y": [
          "1,376"
         ],
         "z": [
          "₹9,999"
         ]
        },
        {
         "hovertemplate": "discounted_price=₹1,055<br>rating=%{x}<br>rating_count=%{y}<br>actual_price=%{z}<extra></extra>",
         "legendgroup": "₹1,055",
         "marker": {
          "color": "#636efa",
          "symbol": "circle"
         },
         "mode": "markers",
         "name": "₹1,055",
         "scene": "scene",
         "showlegend": true,
         "type": "scatter3d",
         "x": [
          "3.8"
         ],
         "y": [
          "2,352"
         ],
         "z": [
          "₹1,249"
         ]
        },
        {
         "hovertemplate": "discounted_price=₹150<br>rating=%{x}<br>rating_count=%{y}<br>actual_price=%{z}<extra></extra>",
         "legendgroup": "₹150",
         "marker": {
          "color": "#EF553B",
          "symbol": "circle"
         },
         "mode": "markers",
         "name": "₹150",
         "scene": "scene",
         "showlegend": true,
         "type": "scatter3d",
         "x": [
          "4.3",
          "4.3"
         ],
         "y": [
          "714",
          "15,867"
         ],
         "z": [
          "₹599",
          "₹150"
         ]
        },
        {
         "hovertemplate": "discounted_price=₹474<br>rating=%{x}<br>rating_count=%{y}<br>actual_price=%{z}<extra></extra>",
         "legendgroup": "₹474",
         "marker": {
          "color": "#00cc96",
          "symbol": "circle"
         },
         "mode": "markers",
         "name": "₹474",
         "scene": "scene",
         "showlegend": true,
         "type": "scatter3d",
         "x": [
          "4.3",
          "4.1"
         ],
         "y": [
          "1,454",
          "550"
         ],
         "z": [
          "₹1,799",
          "₹1,299"
         ]
        },
        {
         "hovertemplate": "discounted_price=₹265<br>rating=%{x}<br>rating_count=%{y}<br>actual_price=%{z}<extra></extra>",
         "legendgroup": "₹265",
         "marker": {
          "color": "#ab63fa",
          "symbol": "circle"
         },
         "mode": "markers",
         "name": "₹265",
         "scene": "scene",
         "showlegend": true,
         "type": "scatter3d",
         "x": [
          "3.7"
         ],
         "y": [
          "465"
         ],
         "z": [
          "₹999"
         ]
        },
        {
         "hovertemplate": "discounted_price=₹37,990<br>rating=%{x}<br>rating_count=%{y}<br>actual_price=%{z}<extra></extra>",
         "legendgroup": "₹37,990",
         "marker": {
          "color": "#FFA15A",
          "symbol": "circle"
         },
         "mode": "markers",
         "name": "₹37,990",
         "scene": "scene",
         "showlegend": true,
         "type": "scatter3d",
         "x": [
          "4.2"
         ],
         "y": [
          "27,790"
         ],
         "z": [
          "₹74,999"
         ]
        },
        {
         "hovertemplate": "discounted_price=₹314<br>rating=%{x}<br>rating_count=%{y}<br>actual_price=%{z}<extra></extra>",
         "legendgroup": "₹314",
         "marker": {
          "color": "#19d3f3",
          "symbol": "circle"
         },
         "mode": "markers",
         "name": "₹314",
         "scene": "scene",
         "showlegend": true,
         "type": "scatter3d",
         "x": [
          "4.5"
         ],
         "y": [
          "28,978"
         ],
         "z": [
          "₹1,499"
         ]
        },
        {
         "hovertemplate": "discounted_price=₹365<br>rating=%{x}<br>rating_count=%{y}<br>actual_price=%{z}<extra></extra>",
         "legendgroup": "₹365",
         "marker": {
          "color": "#FF6692",
          "symbol": "circle"
         },
         "mode": "markers",
         "name": "₹365",
         "scene": "scene",
         "showlegend": true,
         "type": "scatter3d",
         "x": [
          "4.1"
         ],
         "y": [
          "3,63,711"
         ],
         "z": [
          "₹999"
         ]
        },
        {
         "hovertemplate": "discounted_price=₹289<br>rating=%{x}<br>rating_count=%{y}<br>actual_price=%{z}<extra></extra>",
         "legendgroup": "₹289",
         "marker": {
          "color": "#B6E880",
          "symbol": "circle"
         },
         "mode": "markers",
         "name": "₹289",
         "scene": "scene",
         "showlegend": true,
         "type": "scatter3d",
         "x": [
          "4.3",
          "4.1",
          "4.4"
         ],
         "y": [
          "2,53,105",
          "401",
          "25,886"
         ],
         "z": [
          "₹650",
          "₹999",
          "₹590"
         ]
        },
        {
         "hovertemplate": "discounted_price=₹217<br>rating=%{x}<br>rating_count=%{y}<br>actual_price=%{z}<extra></extra>",
         "legendgroup": "₹217",
         "marker": {
          "color": "#FF97FF",
          "symbol": "circle"
         },
         "mode": "markers",
         "name": "₹217",
         "scene": "scene",
         "showlegend": true,
         "type": "scatter3d",
         "x": [
          "3.8"
         ],
         "y": [
          "7,354"
         ],
         "z": [
          "₹237"
         ]
        },
        {
         "hovertemplate": "discounted_price=₹1,220<br>rating=%{x}<br>rating_count=%{y}<br>actual_price=%{z}<extra></extra>",
         "legendgroup": "₹1,220",
         "marker": {
          "color": "#FECB52",
          "symbol": "circle"
         },
         "mode": "markers",
         "name": "₹1,220",
         "scene": "scene",
         "showlegend": true,
         "type": "scatter3d",
         "x": [
          "4.1"
         ],
         "y": [
          "1,07,151"
         ],
         "z": [
          "₹3,990"
         ]
        },
        {
         "hovertemplate": "discounted_price=₹475<br>rating=%{x}<br>rating_count=%{y}<br>actual_price=%{z}<extra></extra>",
         "legendgroup": "₹475",
         "marker": {
          "color": "#636efa",
          "symbol": "circle"
         },
         "mode": "markers",
         "name": "₹475",
         "scene": "scene",
         "showlegend": true,
         "type": "scatter3d",
         "x": [
          "4.2",
          "4.1"
         ],
         "y": [
          "64,273",
          "1,021"
         ],
         "z": [
          "₹1,500",
          "₹999"
         ]
        },
        {
         "hovertemplate": "discounted_price=₹798<br>rating=%{x}<br>rating_count=%{y}<br>actual_price=%{z}<extra></extra>",
         "legendgroup": "₹798",
         "marker": {
          "color": "#EF553B",
          "symbol": "circle"
         },
         "mode": "markers",
         "name": "₹798",
         "scene": "scene",
         "showlegend": true,
         "type": "scatter3d",
         "x": [
          "4.0"
         ],
         "y": [
          "68,664"
         ],
         "z": [
          "₹1,995"
         ]
        },
        {
         "hovertemplate": "discounted_price=₹266<br>rating=%{x}<br>rating_count=%{y}<br>actual_price=%{z}<extra></extra>",
         "legendgroup": "₹266",
         "marker": {
          "color": "#00cc96",
          "symbol": "circle"
         },
         "mode": "markers",
         "name": "₹266",
         "scene": "scene",
         "showlegend": true,
         "type": "scatter3d",
         "x": [
          "4.5"
         ],
         "y": [
          "28,030"
         ],
         "z": [
          "₹315"
         ]
        },
        {
         "hovertemplate": "discounted_price=₹50<br>rating=%{x}<br>rating_count=%{y}<br>actual_price=%{z}<extra></extra>",
         "legendgroup": "₹50",
         "marker": {
          "color": "#ab63fa",
          "symbol": "circle"
         },
         "mode": "markers",
         "name": "₹50",
         "scene": "scene",
         "showlegend": true,
         "type": "scatter3d",
         "x": [
          "4.3"
         ],
         "y": [
          "5,792"
         ],
         "z": [
          "₹50"
         ]
        },
        {
         "hovertemplate": "discounted_price=₹130<br>rating=%{x}<br>rating_count=%{y}<br>actual_price=%{z}<extra></extra>",
         "legendgroup": "₹130",
         "marker": {
          "color": "#FFA15A",
          "symbol": "circle"
         },
         "mode": "markers",
         "name": "₹130",
         "scene": "scene",
         "showlegend": true,
         "type": "scatter3d",
         "x": [
          "3.9"
         ],
         "y": [
          "14,778"
         ],
         "z": [
          "₹165"
         ]
        },
        {
         "hovertemplate": "discounted_price=₹4,098<br>rating=%{x}<br>rating_count=%{y}<br>actual_price=%{z}<extra></extra>",
         "legendgroup": "₹4,098",
         "marker": {
          "color": "#19d3f3",
          "symbol": "circle"
         },
         "mode": "markers",
         "name": "₹4,098",
         "scene": "scene",
         "showlegend": true,
         "type": "scatter3d",
         "x": [
          "4.5"
         ],
         "y": [
          "50,810"
         ],
         "z": [
          "₹4,999"
         ]
        },
        {
         "hovertemplate": "discounted_price=₹519<br>rating=%{x}<br>rating_count=%{y}<br>actual_price=%{z}<extra></extra>",
         "legendgroup": "₹519",
         "marker": {
          "color": "#FF6692",
          "symbol": "circle"
         },
         "mode": "markers",
         "name": "₹519",
         "scene": "scene",
         "showlegend": true,
         "type": "scatter3d",
         "x": [
          "4.3"
         ],
         "y": [
          "30,058"
         ],
         "z": [
          "₹1,350"
         ]
        },
        {
         "hovertemplate": "discounted_price=₹1,295<br>rating=%{x}<br>rating_count=%{y}<br>actual_price=%{z}<extra></extra>",
         "legendgroup": "₹1,295",
         "marker": {
          "color": "#B6E880",
          "symbol": "circle"
         },
         "mode": "markers",
         "name": "₹1,295",
         "scene": "scene",
         "showlegend": true,
         "type": "scatter3d",
         "x": [
          "4.5",
          "4.1",
          "4.6"
         ],
         "y": [
          "5,760",
          "25,771",
          "12,375"
         ],
         "z": [
          "₹1,295",
          "₹1,795",
          "₹1,645"
         ]
        },
        {
         "hovertemplate": "discounted_price=₹1,889<br>rating=%{x}<br>rating_count=%{y}<br>actual_price=%{z}<extra></extra>",
         "legendgroup": "₹1,889",
         "marker": {
          "color": "#FF97FF",
          "symbol": "circle"
         },
         "mode": "markers",
         "name": "₹1,889",
         "scene": "scene",
         "showlegend": true,
         "type": "scatter3d",
         "x": [
          "4.2",
          "4.3"
         ],
         "y": [
          "49,551",
          "17,394"
         ],
         "z": [
          "₹5,499",
          "₹2,699"
         ]
        },
        {
         "hovertemplate": "discounted_price=₹455<br>rating=%{x}<br>rating_count=%{y}<br>actual_price=%{z}<extra></extra>",
         "legendgroup": "₹455",
         "marker": {
          "color": "#FECB52",
          "symbol": "circle"
         },
         "mode": "markers",
         "name": "₹455",
         "scene": "scene",
         "showlegend": true,
         "type": "scatter3d",
         "x": [
          "4.1",
          "4.1"
         ],
         "y": [
          "1,61,677",
          "3,578"
         ],
         "z": [
          "₹1,490",
          "₹999"
         ]
        },
        {
         "hovertemplate": "discounted_price=₹1,059<br>rating=%{x}<br>rating_count=%{y}<br>actual_price=%{z}<extra></extra>",
         "legendgroup": "₹1,059",
         "marker": {
          "color": "#636efa",
          "symbol": "circle"
         },
         "mode": "markers",
         "name": "₹1,059",
         "scene": "scene",
         "showlegend": true,
         "type": "scatter3d",
         "x": [
          "4.3"
         ],
         "y": [
          "1,40,035"
         ],
         "z": [
          "₹3,999"
         ]
        },
        {
         "hovertemplate": "discounted_price=₹717<br>rating=%{x}<br>rating_count=%{y}<br>actual_price=%{z}<extra></extra>",
         "legendgroup": "₹717",
         "marker": {
          "color": "#EF553B",
          "symbol": "circle"
         },
         "mode": "markers",
         "name": "₹717",
         "scene": "scene",
         "showlegend": true,
         "type": "scatter3d",
         "x": [
          "4.0",
          "4"
         ],
         "y": [
          "7,199",
          "4,867"
         ],
         "z": [
          "₹761",
          "₹1,390"
         ]
        },
        {
         "hovertemplate": "discounted_price=₹39<br>rating=%{x}<br>rating_count=%{y}<br>actual_price=%{z}<extra></extra>",
         "legendgroup": "₹39",
         "marker": {
          "color": "#00cc96",
          "symbol": "circle"
         },
         "mode": "markers",
         "name": "₹39",
         "scene": "scene",
         "showlegend": true,
         "type": "scatter3d",
         "x": [
          "3.5",
          "3.8",
          "3.6"
         ],
         "y": [
          "15,233",
          "3,344",
          "13,572"
         ],
         "z": [
          "₹299",
          "₹39",
          "₹39"
         ]
        },
        {
         "hovertemplate": "discounted_price=₹889<br>rating=%{x}<br>rating_count=%{y}<br>actual_price=%{z}<extra></extra>",
         "legendgroup": "₹889",
         "marker": {
          "color": "#ab63fa",
          "symbol": "circle"
         },
         "mode": "markers",
         "name": "₹889",
         "scene": "scene",
         "showlegend": true,
         "type": "scatter3d",
         "x": [
          "4.3",
          "4.2",
          "4.3"
         ],
         "y": [
          "55,747",
          "2,284",
          "6,400"
         ],
         "z": [
          "₹2,500",
          "₹1,999",
          "₹1,295"
         ]
        },
        {
         "hovertemplate": "discounted_price=₹191<br>rating=%{x}<br>rating_count=%{y}<br>actual_price=%{z}<extra></extra>",
         "legendgroup": "₹191",
         "marker": {
          "color": "#FFA15A",
          "symbol": "circle"
         },
         "mode": "markers",
         "name": "₹191",
         "scene": "scene",
         "showlegend": true,
         "type": "scatter3d",
         "x": [
          "4.4"
         ],
         "y": [
          "7,203"
         ],
         "z": [
          "₹225"
         ]
        },
        {
         "hovertemplate": "discounted_price=₹522<br>rating=%{x}<br>rating_count=%{y}<br>actual_price=%{z}<extra></extra>",
         "legendgroup": "₹522",
         "marker": {
          "color": "#19d3f3",
          "symbol": "circle"
         },
         "mode": "markers",
         "name": "₹522",
         "scene": "scene",
         "showlegend": true,
         "type": "scatter3d",
         "x": [
          "4.4"
         ],
         "y": [
          "12,179"
         ],
         "z": [
          "₹550"
         ]
        },
        {
         "hovertemplate": "discounted_price=₹681<br>rating=%{x}<br>rating_count=%{y}<br>actual_price=%{z}<extra></extra>",
         "legendgroup": "₹681",
         "marker": {
          "color": "#FF6692",
          "symbol": "circle"
         },
         "mode": "markers",
         "name": "₹681",
         "scene": "scene",
         "showlegend": true,
         "type": "scatter3d",
         "x": [
          "4.2"
         ],
         "y": [
          "8,258"
         ],
         "z": [
          "₹1,199"
         ]
        },
        {
         "hovertemplate": "discounted_price=₹429<br>rating=%{x}<br>rating_count=%{y}<br>actual_price=%{z}<extra></extra>",
         "legendgroup": "₹429",
         "marker": {
          "color": "#B6E880",
          "symbol": "circle"
         },
         "mode": "markers",
         "name": "₹429",
         "scene": "scene",
         "showlegend": true,
         "type": "scatter3d",
         "x": [
          "4.1",
          "3"
         ],
         "y": [
          "1,19,466",
          "617"
         ],
         "z": [
          "₹599",
          "₹999"
         ]
        },
        {
         "hovertemplate": "discounted_price=₹100<br>rating=%{x}<br>rating_count=%{y}<br>actual_price=%{z}<extra></extra>",
         "legendgroup": "₹100",
         "marker": {
          "color": "#FF97FF",
          "symbol": "circle"
         },
         "mode": "markers",
         "name": "₹100",
         "scene": "scene",
         "showlegend": true,
         "type": "scatter3d",
         "x": [
          "3.5",
          "4.3"
         ],
         "y": [
          "9,638",
          "3,095"
         ],
         "z": [
          "₹499",
          "₹100"
         ]
        },
        {
         "hovertemplate": "discounted_price=₹1,049<br>rating=%{x}<br>rating_count=%{y}<br>actual_price=%{z}<extra></extra>",
         "legendgroup": "₹1,049",
         "marker": {
          "color": "#FECB52",
          "symbol": "circle"
         },
         "mode": "markers",
         "name": "₹1,049",
         "scene": "scene",
         "showlegend": true,
         "type": "scatter3d",
         "x": [
          "3.9",
          "3.1",
          "3.8",
          "3.6",
          "3.7"
         ],
         "y": [
          "1,779",
          "111",
          "250",
          "328",
          "638"
         ],
         "z": [
          "₹2,299",
          "₹1,699",
          "₹1,950",
          "₹2,499",
          "₹2,499"
         ]
        },
        {
         "hovertemplate": "discounted_price=₹656<br>rating=%{x}<br>rating_count=%{y}<br>actual_price=%{z}<extra></extra>",
         "legendgroup": "₹656",
         "marker": {
          "color": "#636efa",
          "symbol": "circle"
         },
         "mode": "markers",
         "name": "₹656",
         "scene": "scene",
         "showlegend": true,
         "type": "scatter3d",
         "x": [
          "4.3"
         ],
         "y": [
          "25,903"
         ],
         "z": [
          "₹1,499"
         ]
        },
        {
         "hovertemplate": "discounted_price=₹1,109<br>rating=%{x}<br>rating_count=%{y}<br>actual_price=%{z}<extra></extra>",
         "legendgroup": "₹1,109",
         "marker": {
          "color": "#EF553B",
          "symbol": "circle"
         },
         "mode": "markers",
         "name": "₹1,109",
         "scene": "scene",
         "showlegend": true,
         "type": "scatter3d",
         "x": [
          "4.3"
         ],
         "y": [
          "53,464"
         ],
         "z": [
          "₹2,800"
         ]
        },
        {
         "hovertemplate": "discounted_price=₹169<br>rating=%{x}<br>rating_count=%{y}<br>actual_price=%{z}<extra></extra>",
         "legendgroup": "₹169",
         "marker": {
          "color": "#00cc96",
          "symbol": "circle"
         },
         "mode": "markers",
         "name": "₹169",
         "scene": "scene",
         "showlegend": true,
         "type": "scatter3d",
         "x": [
          "4.4"
         ],
         "y": [
          "5,176"
         ],
         "z": [
          "₹299"
         ]
        },
        {
         "hovertemplate": "discounted_price=₹157<br>rating=%{x}<br>rating_count=%{y}<br>actual_price=%{z}<extra></extra>",
         "legendgroup": "₹157",
         "marker": {
          "color": "#ab63fa",
          "symbol": "circle"
         },
         "mode": "markers",
         "name": "₹157",
         "scene": "scene",
         "showlegend": true,
         "type": "scatter3d",
         "x": [
          "4.5",
          "4.5"
         ],
         "y": [
          "8,618",
          "4,428"
         ],
         "z": [
          "₹160",
          "₹160"
         ]
        },
        {
         "hovertemplate": "discounted_price=₹479<br>rating=%{x}<br>rating_count=%{y}<br>actual_price=%{z}<extra></extra>",
         "legendgroup": "₹479",
         "marker": {
          "color": "#FFA15A",
          "symbol": "circle"
         },
         "mode": "markers",
         "name": "₹479",
         "scene": "scene",
         "showlegend": true,
         "type": "scatter3d",
         "x": [
          "4.3",
          "4.2",
          "3.4"
         ],
         "y": [
          "11,687",
          "1,559",
          "1,066"
         ],
         "z": [
          "₹599",
          "₹1,000",
          "₹1,999"
         ]
        },
        {
         "hovertemplate": "discounted_price=₹1,598<br>rating=%{x}<br>rating_count=%{y}<br>actual_price=%{z}<extra></extra>",
         "legendgroup": "₹1,598",
         "marker": {
          "color": "#19d3f3",
          "symbol": "circle"
         },
         "mode": "markers",
         "name": "₹1,598",
         "scene": "scene",
         "showlegend": true,
         "type": "scatter3d",
         "x": [
          "3.8"
         ],
         "y": [
          "11,015"
         ],
         "z": [
          "₹2,990"
         ]
        },
        {
         "hovertemplate": "discounted_price=₹294<br>rating=%{x}<br>rating_count=%{y}<br>actual_price=%{z}<extra></extra>",
         "legendgroup": "₹294",
         "marker": {
          "color": "#FF6692",
          "symbol": "circle"
         },
         "mode": "markers",
         "name": "₹294",
         "scene": "scene",
         "showlegend": true,
         "type": "scatter3d",
         "x": [
          "4.3"
         ],
         "y": [
          "4,426"
         ],
         "z": [
          "₹4,999"
         ]
        },
        {
         "hovertemplate": "discounted_price=₹828<br>rating=%{x}<br>rating_count=%{y}<br>actual_price=%{z}<extra></extra>",
         "legendgroup": "₹828",
         "marker": {
          "color": "#B6E880",
          "symbol": "circle"
         },
         "mode": "markers",
         "name": "₹828",
         "scene": "scene",
         "showlegend": true,
         "type": "scatter3d",
         "x": [
          "4.2"
         ],
         "y": [
          "4,567"
         ],
         "z": [
          "₹861"
         ]
        },
        {
         "hovertemplate": "discounted_price=₹745<br>rating=%{x}<br>rating_count=%{y}<br>actual_price=%{z}<extra></extra>",
         "legendgroup": "₹745",
         "marker": {
          "color": "#FF97FF",
          "symbol": "circle"
         },
         "mode": "markers",
         "name": "₹745",
         "scene": "scene",
         "showlegend": true,
         "type": "scatter3d",
         "x": [
          "4.0"
         ],
         "y": [
          "13,797"
         ],
         "z": [
          "₹795"
         ]
        },
        {
         "hovertemplate": "discounted_price=₹1,549<br>rating=%{x}<br>rating_count=%{y}<br>actual_price=%{z}<extra></extra>",
         "legendgroup": "₹1,549",
         "marker": {
          "color": "#FECB52",
          "symbol": "circle"
         },
         "mode": "markers",
         "name": "₹1,549",
         "scene": "scene",
         "showlegend": true,
         "type": "scatter3d",
         "x": [
          "4.4"
         ],
         "y": [
          "15,137"
         ],
         "z": [
          "₹2,495"
         ]
        },
        {
         "hovertemplate": "discounted_price=₹1,469<br>rating=%{x}<br>rating_count=%{y}<br>actual_price=%{z}<extra></extra>",
         "legendgroup": "₹1,469",
         "marker": {
          "color": "#636efa",
          "symbol": "circle"
         },
         "mode": "markers",
         "name": "₹1,469",
         "scene": "scene",
         "showlegend": true,
         "type": "scatter3d",
         "x": [
          "4.2"
         ],
         "y": [
          "1,56,638"
         ],
         "z": [
          "₹2,499"
         ]
        },
        {
         "hovertemplate": "discounted_price=₹198<br>rating=%{x}<br>rating_count=%{y}<br>actual_price=%{z}<extra></extra>",
         "legendgroup": "₹198",
         "marker": {
          "color": "#EF553B",
          "symbol": "circle"
         },
         "mode": "markers",
         "name": "₹198",
         "scene": "scene",
         "showlegend": true,
         "type": "scatter3d",
         "x": [
          "4.1"
         ],
         "y": [
          "9,344"
         ],
         "z": [
          "₹800"
         ]
        },
        {
         "hovertemplate": "discounted_price=₹12,000<br>rating=%{x}<br>rating_count=%{y}<br>actual_price=%{z}<extra></extra>",
         "legendgroup": "₹12,000",
         "marker": {
          "color": "#00cc96",
          "symbol": "circle"
         },
         "mode": "markers",
         "name": "₹12,000",
         "scene": "scene",
         "showlegend": true,
         "type": "scatter3d",
         "x": [
          "4.3"
         ],
         "y": [
          "4,744"
         ],
         "z": [
          "₹29,999"
         ]
        },
        {
         "hovertemplate": "discounted_price=₹6,299<br>rating=%{x}<br>rating_count=%{y}<br>actual_price=%{z}<extra></extra>",
         "legendgroup": "₹6,299",
         "marker": {
          "color": "#ab63fa",
          "symbol": "circle"
         },
         "mode": "markers",
         "name": "₹6,299",
         "scene": "scene",
         "showlegend": true,
         "type": "scatter3d",
         "x": [
          "4.2",
          "4.1"
         ],
         "y": [
          "2,014",
          "3,233"
         ],
         "z": [
          "₹13,750",
          "₹15,270"
         ]
        },
        {
         "hovertemplate": "discounted_price=₹571<br>rating=%{x}<br>rating_count=%{y}<br>actual_price=%{z}<extra></extra>",
         "legendgroup": "₹571",
         "marker": {
          "color": "#FFA15A",
          "symbol": "circle"
         },
         "mode": "markers",
         "name": "₹571",
         "scene": "scene",
         "showlegend": true,
         "type": "scatter3d",
         "x": [
          "4.3"
         ],
         "y": [
          "38,221"
         ],
         "z": [
          "₹999"
         ]
        },
        {
         "hovertemplate": "discounted_price=₹448<br>rating=%{x}<br>rating_count=%{y}<br>actual_price=%{z}<extra></extra>",
         "legendgroup": "₹448",
         "marker": {
          "color": "#19d3f3",
          "symbol": "circle"
         },
         "mode": "markers",
         "name": "₹448",
         "scene": "scene",
         "showlegend": true,
         "type": "scatter3d",
         "x": [
          "3.9"
         ],
         "y": [
          "17,348"
         ],
         "z": [
          "₹699"
         ]
        },
        {
         "hovertemplate": "discounted_price=₹579<br>rating=%{x}<br>rating_count=%{y}<br>actual_price=%{z}<extra></extra>",
         "legendgroup": "₹579",
         "marker": {
          "color": "#FF6692",
          "symbol": "circle"
         },
         "mode": "markers",
         "name": "₹579",
         "scene": "scene",
         "showlegend": true,
         "type": "scatter3d",
         "x": [
          "4.3",
          "4.4"
         ],
         "y": [
          "1,89,104",
          "3,482"
         ],
         "z": [
          "₹1,400",
          "₹1,090"
         ]
        },
        {
         "hovertemplate": "discounted_price=₹137<br>rating=%{x}<br>rating_count=%{y}<br>actual_price=%{z}<extra></extra>",
         "legendgroup": "₹137",
         "marker": {
          "color": "#B6E880",
          "symbol": "circle"
         },
         "mode": "markers",
         "name": "₹137",
         "scene": "scene",
         "showlegend": true,
         "type": "scatter3d",
         "x": [
          "4.4"
         ],
         "y": [
          "6,537"
         ],
         "z": [
          "₹160"
         ]
        },
        {
         "hovertemplate": "discounted_price=₹1,495<br>rating=%{x}<br>rating_count=%{y}<br>actual_price=%{z}<extra></extra>",
         "legendgroup": "₹1,495",
         "marker": {
          "color": "#FF97FF",
          "symbol": "circle"
         },
         "mode": "markers",
         "name": "₹1,495",
         "scene": "scene",
         "showlegend": true,
         "type": "scatter3d",
         "x": [
          "4.3",
          "4.5"
         ],
         "y": [
          "7,241",
          "10,541"
         ],
         "z": [
          "₹1,995",
          "₹1,995"
         ]
        },
        {
         "hovertemplate": "discounted_price=₹440<br>rating=%{x}<br>rating_count=%{y}<br>actual_price=%{z}<extra></extra>",
         "legendgroup": "₹440",
         "marker": {
          "color": "#FECB52",
          "symbol": "circle"
         },
         "mode": "markers",
         "name": "₹440",
         "scene": "scene",
         "showlegend": true,
         "type": "scatter3d",
         "x": [
          "4.5"
         ],
         "y": [
          "8,610"
         ],
         "z": [
          "₹440"
         ]
        },
        {
         "hovertemplate": "discounted_price=₹1,329<br>rating=%{x}<br>rating_count=%{y}<br>actual_price=%{z}<extra></extra>",
         "legendgroup": "₹1,329",
         "marker": {
          "color": "#636efa",
          "symbol": "circle"
         },
         "mode": "markers",
         "name": "₹1,329",
         "scene": "scene",
         "showlegend": true,
         "type": "scatter3d",
         "x": [
          "4.5"
         ],
         "y": [
          "19,624"
         ],
         "z": [
          "₹2,900"
         ]
        },
        {
         "hovertemplate": "discounted_price=₹570<br>rating=%{x}<br>rating_count=%{y}<br>actual_price=%{z}<extra></extra>",
         "legendgroup": "₹570",
         "marker": {
          "color": "#EF553B",
          "symbol": "circle"
         },
         "mode": "markers",
         "name": "₹570",
         "scene": "scene",
         "showlegend": true,
         "type": "scatter3d",
         "x": [
          "4.2"
         ],
         "y": [
          "3,201"
         ],
         "z": [
          "₹999"
         ]
        },
        {
         "hovertemplate": "discounted_price=₹1,529<br>rating=%{x}<br>rating_count=%{y}<br>actual_price=%{z}<extra></extra>",
         "legendgroup": "₹1,529",
         "marker": {
          "color": "#00cc96",
          "symbol": "circle"
         },
         "mode": "markers",
         "name": "₹1,529",
         "scene": "scene",
         "showlegend": true,
         "type": "scatter3d",
         "x": [
          "4.3",
          "3.3"
         ],
         "y": [
          "68,409",
          "29"
         ],
         "z": [
          "₹2,399",
          "₹2,999"
         ]
        },
        {
         "hovertemplate": "discounted_price=₹190<br>rating=%{x}<br>rating_count=%{y}<br>actual_price=%{z}<extra></extra>",
         "legendgroup": "₹190",
         "marker": {
          "color": "#ab63fa",
          "symbol": "circle"
         },
         "mode": "markers",
         "name": "₹190",
         "scene": "scene",
         "showlegend": true,
         "type": "scatter3d",
         "x": [
          "4.4"
         ],
         "y": [
          "2,866"
         ],
         "z": [
          "₹220"
         ]
        },
        {
         "hovertemplate": "discounted_price=₹729<br>rating=%{x}<br>rating_count=%{y}<br>actual_price=%{z}<extra></extra>",
         "legendgroup": "₹729",
         "marker": {
          "color": "#FFA15A",
          "symbol": "circle"
         },
         "mode": "markers",
         "name": "₹729",
         "scene": "scene",
         "showlegend": true,
         "type": "scatter3d",
         "x": [
          "4.3"
         ],
         "y": [
          "82,356"
         ],
         "z": [
          "₹1,650"
         ]
        },
        {
         "hovertemplate": "discounted_price=₹480<br>rating=%{x}<br>rating_count=%{y}<br>actual_price=%{z}<extra></extra>",
         "legendgroup": "₹480",
         "marker": {
          "color": "#19d3f3",
          "symbol": "circle"
         },
         "mode": "markers",
         "name": "₹480",
         "scene": "scene",
         "showlegend": true,
         "type": "scatter3d",
         "x": [
          "4.3"
         ],
         "y": [
          "5,719"
         ],
         "z": [
          "₹600"
         ]
        },
        {
         "hovertemplate": "discounted_price=₹238<br>rating=%{x}<br>rating_count=%{y}<br>actual_price=%{z}<extra></extra>",
         "legendgroup": "₹238",
         "marker": {
          "color": "#FF6692",
          "symbol": "circle"
         },
         "mode": "markers",
         "name": "₹238",
         "scene": "scene",
         "showlegend": true,
         "type": "scatter3d",
         "x": [
          "4.4"
         ],
         "y": [
          "8,372"
         ],
         "z": [
          "₹699"
         ]
        },
        {
         "hovertemplate": "discounted_price=₹1,349<br>rating=%{x}<br>rating_count=%{y}<br>actual_price=%{z}<extra></extra>",
         "legendgroup": "₹1,349",
         "marker": {
          "color": "#B6E880",
          "symbol": "circle"
         },
         "mode": "markers",
         "name": "₹1,349",
         "scene": "scene",
         "showlegend": true,
         "type": "scatter3d",
         "x": [
          "4.0",
          "4.4",
          "3.8",
          "3.8"
         ],
         "y": [
          "7,113",
          "638",
          "441",
          "166"
         ],
         "z": [
          "₹2,198",
          "₹1,850",
          "₹2,999",
          "₹2,495"
         ]
        },
        {
         "hovertemplate": "discounted_price=₹1,792<br>rating=%{x}<br>rating_count=%{y}<br>actual_price=%{z}<extra></extra>",
         "legendgroup": "₹1,792",
         "marker": {
          "color": "#FF97FF",
          "symbol": "circle"
         },
         "mode": "markers",
         "name": "₹1,792",
         "scene": "scene",
         "showlegend": true,
         "type": "scatter3d",
         "x": [
          "4.5"
         ],
         "y": [
          "26,194"
         ],
         "z": [
          "₹3,500"
         ]
        },
        {
         "hovertemplate": "discounted_price=₹3,299<br>rating=%{x}<br>rating_count=%{y}<br>actual_price=%{z}<extra></extra>",
         "legendgroup": "₹3,299",
         "marker": {
          "color": "#FECB52",
          "symbol": "circle"
         },
         "mode": "markers",
         "name": "₹3,299",
         "scene": "scene",
         "showlegend": true,
         "type": "scatter3d",
         "x": [
          "3.9",
          "3.7",
          "3.8"
         ],
         "y": [
          "15,783",
          "11,217",
          "1,393"
         ],
         "z": [
          "₹4,100",
          "₹6,500",
          "₹4,995"
         ]
        },
        {
         "hovertemplate": "discounted_price=₹125<br>rating=%{x}<br>rating_count=%{y}<br>actual_price=%{z}<extra></extra>",
         "legendgroup": "₹125",
         "marker": {
          "color": "#636efa",
          "symbol": "circle"
         },
         "mode": "markers",
         "name": "₹125",
         "scene": "scene",
         "showlegend": true,
         "type": "scatter3d",
         "x": [
          "4.4"
         ],
         "y": [
          "8,053"
         ],
         "z": [
          "₹180"
         ]
        },
        {
         "hovertemplate": "discounted_price=₹561<br>rating=%{x}<br>rating_count=%{y}<br>actual_price=%{z}<extra></extra>",
         "legendgroup": "₹561",
         "marker": {
          "color": "#EF553B",
          "symbol": "circle"
         },
         "mode": "markers",
         "name": "₹561",
         "scene": "scene",
         "showlegend": true,
         "type": "scatter3d",
         "x": [
          "4.4"
         ],
         "y": [
          "3,182"
         ],
         "z": [
          "₹720"
         ]
        },
        {
         "hovertemplate": "discounted_price=₹5,599<br>rating=%{x}<br>rating_count=%{y}<br>actual_price=%{z}<extra></extra>",
         "legendgroup": "₹5,599",
         "marker": {
          "color": "#00cc96",
          "symbol": "circle"
         },
         "mode": "markers",
         "name": "₹5,599",
         "scene": "scene",
         "showlegend": true,
         "type": "scatter3d",
         "x": [
          "4.4"
         ],
         "y": [
          "73,005"
         ],
         "z": [
          "₹7,350"
         ]
        },
        {
         "hovertemplate": "discounted_price=₹69<br>rating=%{x}<br>rating_count=%{y}<br>actual_price=%{z}<extra></extra>",
         "legendgroup": "₹69",
         "marker": {
          "color": "#ab63fa",
          "symbol": "circle"
         },
         "mode": "markers",
         "name": "₹69",
         "scene": "scene",
         "showlegend": true,
         "type": "scatter3d",
         "x": [
          "4.3"
         ],
         "y": [
          "255"
         ],
         "z": [
          "₹299"
         ]
        },
        {
         "hovertemplate": "discounted_price=₹478<br>rating=%{x}<br>rating_count=%{y}<br>actual_price=%{z}<extra></extra>",
         "legendgroup": "₹478",
         "marker": {
          "color": "#FFA15A",
          "symbol": "circle"
         },
         "mode": "markers",
         "name": "₹478",
         "scene": "scene",
         "showlegend": true,
         "type": "scatter3d",
         "x": [
          "3.8"
         ],
         "y": [
          "20,218"
         ],
         "z": [
          "₹699"
         ]
        },
        {
         "hovertemplate": "discounted_price=₹425<br>rating=%{x}<br>rating_count=%{y}<br>actual_price=%{z}<extra></extra>",
         "legendgroup": "₹425",
         "marker": {
          "color": "#19d3f3",
          "symbol": "circle"
         },
         "mode": "markers",
         "name": "₹425",
         "scene": "scene",
         "showlegend": true,
         "type": "scatter3d",
         "x": [
          "4.0",
          "4.5"
         ],
         "y": [
          "2,581",
          "4,219"
         ],
         "z": [
          "₹999",
          "₹899"
         ]
        },
        {
         "hovertemplate": "discounted_price=₹378<br>rating=%{x}<br>rating_count=%{y}<br>actual_price=%{z}<extra></extra>",
         "legendgroup": "₹378",
         "marker": {
          "color": "#FF6692",
          "symbol": "circle"
         },
         "mode": "markers",
         "name": "₹378",
         "scene": "scene",
         "showlegend": true,
         "type": "scatter3d",
         "x": [
          "4.1"
         ],
         "y": [
          "1,779"
         ],
         "z": [
          "₹999"
         ]
        },
        {
         "hovertemplate": "discounted_price=₹1,815<br>rating=%{x}<br>rating_count=%{y}<br>actual_price=%{z}<extra></extra>",
         "legendgroup": "₹1,815",
         "marker": {
          "color": "#B6E880",
          "symbol": "circle"
         },
         "mode": "markers",
         "name": "₹1,815",
         "scene": "scene",
         "showlegend": true,
         "type": "scatter3d",
         "x": [
          "4.5"
         ],
         "y": [
          "92,925"
         ],
         "z": [
          "₹3,100"
         ]
        },
        {
         "hovertemplate": "discounted_price=₹67<br>rating=%{x}<br>rating_count=%{y}<br>actual_price=%{z}<extra></extra>",
         "legendgroup": "₹67",
         "marker": {
          "color": "#FF97FF",
          "symbol": "circle"
         },
         "mode": "markers",
         "name": "₹67",
         "scene": "scene",
         "showlegend": true,
         "type": "scatter3d",
         "x": [
          "4.1"
         ],
         "y": [
          "1,269"
         ],
         "z": [
          "₹75"
         ]
        },
        {
         "hovertemplate": "discounted_price=₹5,799<br>rating=%{x}<br>rating_count=%{y}<br>actual_price=%{z}<extra></extra>",
         "legendgroup": "₹5,799",
         "marker": {
          "color": "#FECB52",
          "symbol": "circle"
         },
         "mode": "markers",
         "name": "₹5,799",
         "scene": "scene",
         "showlegend": true,
         "type": "scatter3d",
         "x": [
          "4.5"
         ],
         "y": [
          "50,273"
         ],
         "z": [
          "₹7,999"
         ]
        },
        {
         "hovertemplate": "discounted_price=₹4,449<br>rating=%{x}<br>rating_count=%{y}<br>actual_price=%{z}<extra></extra>",
         "legendgroup": "₹4,449",
         "marker": {
          "color": "#636efa",
          "symbol": "circle"
         },
         "mode": "markers",
         "name": "₹4,449",
         "scene": "scene",
         "showlegend": true,
         "type": "scatter3d",
         "x": [
          "4.4"
         ],
         "y": [
          "25,006"
         ],
         "z": [
          "₹5,734"
         ]
        },
        {
         "hovertemplate": "discounted_price=₹629<br>rating=%{x}<br>rating_count=%{y}<br>actual_price=%{z}<extra></extra>",
         "legendgroup": "₹629",
         "marker": {
          "color": "#EF553B",
          "symbol": "circle"
         },
         "mode": "markers",
         "name": "₹629",
         "scene": "scene",
         "showlegend": true,
         "type": "scatter3d",
         "x": [
          "4.4"
         ],
         "y": [
          "6,301"
         ],
         "z": [
          "₹1,390"
         ]
        },
        {
         "hovertemplate": "discounted_price=₹2,595<br>rating=%{x}<br>rating_count=%{y}<br>actual_price=%{z}<extra></extra>",
         "legendgroup": "₹2,595",
         "marker": {
          "color": "#00cc96",
          "symbol": "circle"
         },
         "mode": "markers",
         "name": "₹2,595",
         "scene": "scene",
         "showlegend": true,
         "type": "scatter3d",
         "x": [
          "4.4"
         ],
         "y": [
          "22,618"
         ],
         "z": [
          "₹3,295"
         ]
        },
        {
         "hovertemplate": "discounted_price=₹90<br>rating=%{x}<br>rating_count=%{y}<br>actual_price=%{z}<extra></extra>",
         "legendgroup": "₹90",
         "marker": {
          "color": "#ab63fa",
          "symbol": "circle"
         },
         "mode": "markers",
         "name": "₹90",
         "scene": "scene",
         "showlegend": true,
         "type": "scatter3d",
         "x": [
          "4.4",
          "4.3",
          "4.4",
          "4.1"
         ],
         "y": [
          "7,429",
          "3,061",
          "10,718",
          "6,199"
         ],
         "z": [
          "₹175",
          "₹100",
          "₹100",
          "₹100"
         ]
        },
        {
         "hovertemplate": "discounted_price=₹1,345<br>rating=%{x}<br>rating_count=%{y}<br>actual_price=%{z}<extra></extra>",
         "legendgroup": "₹1,345",
         "marker": {
          "color": "#FFA15A",
          "symbol": "circle"
         },
         "mode": "markers",
         "name": "₹1,345",
         "scene": "scene",
         "showlegend": true,
         "type": "scatter3d",
         "x": [
          "4.2",
          "3.8"
         ],
         "y": [
          "17,413",
          "2,466"
         ],
         "z": [
          "₹2,295",
          "₹1,750"
         ]
        },
        {
         "hovertemplate": "discounted_price=₹287<br>rating=%{x}<br>rating_count=%{y}<br>actual_price=%{z}<extra></extra>",
         "legendgroup": "₹287",
         "marker": {
          "color": "#19d3f3",
          "symbol": "circle"
         },
         "mode": "markers",
         "name": "₹287",
         "scene": "scene",
         "showlegend": true,
         "type": "scatter3d",
         "x": [
          "4.4"
         ],
         "y": [
          "8,076"
         ],
         "z": [
          "₹499"
         ]
        },
        {
         "hovertemplate": "discounted_price=₹879<br>rating=%{x}<br>rating_count=%{y}<br>actual_price=%{z}<extra></extra>",
         "legendgroup": "₹879",
         "marker": {
          "color": "#FF6692",
          "symbol": "circle"
         },
         "mode": "markers",
         "name": "₹879",
         "scene": "scene",
         "showlegend": true,
         "type": "scatter3d",
         "x": [
          "4.4"
         ],
         "y": [
          "31,599"
         ],
         "z": [
          "₹1,109"
         ]
        },
        {
         "hovertemplate": "discounted_price=₹250<br>rating=%{x}<br>rating_count=%{y}<br>actual_price=%{z}<extra></extra>",
         "legendgroup": "₹250",
         "marker": {
          "color": "#B6E880",
          "symbol": "circle"
         },
         "mode": "markers",
         "name": "₹250",
         "scene": "scene",
         "showlegend": true,
         "type": "scatter3d",
         "x": [
          "3.9",
          "4.2"
         ],
         "y": [
          "13,971",
          "2,628"
         ],
         "z": [
          "₹250",
          "₹250"
         ]
        },
        {
         "hovertemplate": "discounted_price=₹469<br>rating=%{x}<br>rating_count=%{y}<br>actual_price=%{z}<extra></extra>",
         "legendgroup": "₹469",
         "marker": {
          "color": "#FF97FF",
          "symbol": "circle"
         },
         "mode": "markers",
         "name": "₹469",
         "scene": "scene",
         "showlegend": true,
         "type": "scatter3d",
         "x": [
          "4.1",
          "3.7"
         ],
         "y": [
          "352",
          "6"
         ],
         "z": [
          "₹1,499",
          "₹1,599"
         ]
        },
        {
         "hovertemplate": "discounted_price=₹1,187<br>rating=%{x}<br>rating_count=%{y}<br>actual_price=%{z}<extra></extra>",
         "legendgroup": "₹1,187",
         "marker": {
          "color": "#FECB52",
          "symbol": "circle"
         },
         "mode": "markers",
         "name": "₹1,187",
         "scene": "scene",
         "showlegend": true,
         "type": "scatter3d",
         "x": [
          "4.1"
         ],
         "y": [
          "1,662"
         ],
         "z": [
          "₹1,929"
         ]
        },
        {
         "hovertemplate": "discounted_price=₹328<br>rating=%{x}<br>rating_count=%{y}<br>actual_price=%{z}<extra></extra>",
         "legendgroup": "₹328",
         "marker": {
          "color": "#636efa",
          "symbol": "circle"
         },
         "mode": "markers",
         "name": "₹328",
         "scene": "scene",
         "showlegend": true,
         "type": "scatter3d",
         "x": [
          "4.1"
         ],
         "y": [
          "3,441"
         ],
         "z": [
          "₹399"
         ]
        },
        {
         "hovertemplate": "discounted_price=₹114<br>rating=%{x}<br>rating_count=%{y}<br>actual_price=%{z}<extra></extra>",
         "legendgroup": "₹114",
         "marker": {
          "color": "#EF553B",
          "symbol": "circle"
         },
         "mode": "markers",
         "name": "₹114",
         "scene": "scene",
         "showlegend": true,
         "type": "scatter3d",
         "x": [
          "4.2"
         ],
         "y": [
          "8,938"
         ],
         "z": [
          "₹120"
         ]
        },
        {
         "hovertemplate": "discounted_price=₹1,490<br>rating=%{x}<br>rating_count=%{y}<br>actual_price=%{z}<extra></extra>",
         "legendgroup": "₹1,490",
         "marker": {
          "color": "#00cc96",
          "symbol": "circle"
         },
         "mode": "markers",
         "name": "₹1,490",
         "scene": "scene",
         "showlegend": true,
         "type": "scatter3d",
         "x": [
          "4.6",
          "4.1",
          "4.4"
         ],
         "y": [
          "10,652",
          "98,250",
          "3,543"
         ],
         "z": [
          "₹2,295",
          "₹1,990",
          "₹1,695"
         ]
        },
        {
         "hovertemplate": "discounted_price=₹575<br>rating=%{x}<br>rating_count=%{y}<br>actual_price=%{z}<extra></extra>",
         "legendgroup": "₹575",
         "marker": {
          "color": "#ab63fa",
          "symbol": "circle"
         },
         "mode": "markers",
         "name": "₹575",
         "scene": "scene",
         "showlegend": true,
         "type": "scatter3d",
         "x": [
          "4.2"
         ],
         "y": [
          "8,537"
         ],
         "z": [
          "₹2,799"
         ]
        },
        {
         "hovertemplate": "discounted_price=₹178<br>rating=%{x}<br>rating_count=%{y}<br>actual_price=%{z}<extra></extra>",
         "legendgroup": "₹178",
         "marker": {
          "color": "#FFA15A",
          "symbol": "circle"
         },
         "mode": "markers",
         "name": "₹178",
         "scene": "scene",
         "showlegend": true,
         "type": "scatter3d",
         "x": [
          "4.3"
         ],
         "y": [
          "2,450"
         ],
         "z": [
          "₹210"
         ]
        },
        {
         "hovertemplate": "discounted_price=₹939<br>rating=%{x}<br>rating_count=%{y}<br>actual_price=%{z}<extra></extra>",
         "legendgroup": "₹939",
         "marker": {
          "color": "#19d3f3",
          "symbol": "circle"
         },
         "mode": "markers",
         "name": "₹939",
         "scene": "scene",
         "showlegend": true,
         "type": "scatter3d",
         "x": [
          "4.5"
         ],
         "y": [
          "2,05,052"
         ],
         "z": [
          "₹1,800"
         ]
        },
        {
         "hovertemplate": "discounted_price=₹1,439<br>rating=%{x}<br>rating_count=%{y}<br>actual_price=%{z}<extra></extra>",
         "legendgroup": "₹1,439",
         "marker": {
          "color": "#FF6692",
          "symbol": "circle"
         },
         "mode": "markers",
         "name": "₹1,439",
         "scene": "scene",
         "showlegend": true,
         "type": "scatter3d",
         "x": [
          "4.5",
          "4.8"
         ],
         "y": [
          "4,099",
          "53,803"
         ],
         "z": [
          "₹2,890",
          "₹1,999"
         ]
        },
        {
         "hovertemplate": "discounted_price=₹175<br>rating=%{x}<br>rating_count=%{y}<br>actual_price=%{z}<extra></extra>",
         "legendgroup": "₹175",
         "marker": {
          "color": "#B6E880",
          "symbol": "circle"
         },
         "mode": "markers",
         "name": "₹175",
         "scene": "scene",
         "showlegend": true,
         "type": "scatter3d",
         "x": [
          "4.1"
         ],
         "y": [
          "21"
         ],
         "z": [
          "₹499"
         ]
        },
        {
         "hovertemplate": "discounted_price=₹3,303<br>rating=%{x}<br>rating_count=%{y}<br>actual_price=%{z}<extra></extra>",
         "legendgroup": "₹3,303",
         "marker": {
          "color": "#FF97FF",
          "symbol": "circle"
         },
         "mode": "markers",
         "name": "₹3,303",
         "scene": "scene",
         "showlegend": true,
         "type": "scatter3d",
         "x": [
          "4.4"
         ],
         "y": [
          "13,544"
         ],
         "z": [
          "₹4,699"
         ]
        },
        {
         "hovertemplate": "discounted_price=₹1,890<br>rating=%{x}<br>rating_count=%{y}<br>actual_price=%{z}<extra></extra>",
         "legendgroup": "₹1,890",
         "marker": {
          "color": "#FECB52",
          "symbol": "circle"
         },
         "mode": "markers",
         "name": "₹1,890",
         "scene": "scene",
         "showlegend": true,
         "type": "scatter3d",
         "x": [
          "4.1"
         ],
         "y": [
          "10,976"
         ],
         "z": [
          "₹5,490"
         ]
        },
        {
         "hovertemplate": "discounted_price=₹310<br>rating=%{x}<br>rating_count=%{y}<br>actual_price=%{z}<extra></extra>",
         "legendgroup": "₹310",
         "marker": {
          "color": "#636efa",
          "symbol": "circle"
         },
         "mode": "markers",
         "name": "₹310",
         "scene": "scene",
         "showlegend": true,
         "type": "scatter3d",
         "x": [
          "4.5"
         ],
         "y": [
          "5,882"
         ],
         "z": [
          "₹310"
         ]
        },
        {
         "hovertemplate": "discounted_price=₹1,709<br>rating=%{x}<br>rating_count=%{y}<br>actual_price=%{z}<extra></extra>",
         "legendgroup": "₹1,709",
         "marker": {
          "color": "#EF553B",
          "symbol": "circle"
         },
         "mode": "markers",
         "name": "₹1,709",
         "scene": "scene",
         "showlegend": true,
         "type": "scatter3d",
         "x": [
          "4.4"
         ],
         "y": [
          "3,029"
         ],
         "z": [
          "₹4,000"
         ]
        },
        {
         "hovertemplate": "discounted_price=₹2,025<br>rating=%{x}<br>rating_count=%{y}<br>actual_price=%{z}<extra></extra>",
         "legendgroup": "₹2,025",
         "marker": {
          "color": "#00cc96",
          "symbol": "circle"
         },
         "mode": "markers",
         "name": "₹2,025",
         "scene": "scene",
         "showlegend": true,
         "type": "scatter3d",
         "x": [
          "4.2"
         ],
         "y": [
          "6,233"
         ],
         "z": [
          "₹5,999"
         ]
        },
        {
         "hovertemplate": "discounted_price=₹900<br>rating=%{x}<br>rating_count=%{y}<br>actual_price=%{z}<extra></extra>",
         "legendgroup": "₹900",
         "marker": {
          "color": "#ab63fa",
          "symbol": "circle"
         },
         "mode": "markers",
         "name": "₹900",
         "scene": "scene",
         "showlegend": true,
         "type": "scatter3d",
         "x": [
          "4.0"
         ],
         "y": [
          "36,384"
         ],
         "z": [
          "₹2,499"
         ]
        },
        {
         "hovertemplate": "discounted_price=₹2,490<br>rating=%{x}<br>rating_count=%{y}<br>actual_price=%{z}<extra></extra>",
         "legendgroup": "₹2,490",
         "marker": {
          "color": "#FFA15A",
          "symbol": "circle"
         },
         "mode": "markers",
         "name": "₹2,490",
         "scene": "scene",
         "showlegend": true,
         "type": "scatter3d",
         "x": [
          "4.1"
         ],
         "y": [
          "3,606"
         ],
         "z": [
          "₹3,990"
         ]
        },
        {
         "hovertemplate": "discounted_price=₹116<br>rating=%{x}<br>rating_count=%{y}<br>actual_price=%{z}<extra></extra>",
         "legendgroup": "₹116",
         "marker": {
          "color": "#19d3f3",
          "symbol": "circle"
         },
         "mode": "markers",
         "name": "₹116",
         "scene": "scene",
         "showlegend": true,
         "type": "scatter3d",
         "x": [
          "4.4",
          "4.3"
         ],
         "y": [
          "357",
          "485"
         ],
         "z": [
          "₹200",
          "₹200"
         ]
        },
        {
         "hovertemplate": "discounted_price=₹200<br>rating=%{x}<br>rating_count=%{y}<br>actual_price=%{z}<extra></extra>",
         "legendgroup": "₹200",
         "marker": {
          "color": "#FF6692",
          "symbol": "circle"
         },
         "mode": "markers",
         "name": "₹200",
         "scene": "scene",
         "showlegend": true,
         "type": "scatter3d",
         "x": [
          "4.4"
         ],
         "y": [
          "10,170"
         ],
         "z": [
          "₹230"
         ]
        },
        {
         "hovertemplate": "discounted_price=₹2,649<br>rating=%{x}<br>rating_count=%{y}<br>actual_price=%{z}<extra></extra>",
         "legendgroup": "₹2,649",
         "marker": {
          "color": "#B6E880",
          "symbol": "circle"
         },
         "mode": "markers",
         "name": "₹2,649",
         "scene": "scene",
         "showlegend": true,
         "type": "scatter3d",
         "x": [
          "4.5"
         ],
         "y": [
          "1,271"
         ],
         "z": [
          "₹3,499"
         ]
        },
        {
         "hovertemplate": "discounted_price=₹596<br>rating=%{x}<br>rating_count=%{y}<br>actual_price=%{z}<extra></extra>",
         "legendgroup": "₹596",
         "marker": {
          "color": "#FF97FF",
          "symbol": "circle"
         },
         "mode": "markers",
         "name": "₹596",
         "scene": "scene",
         "showlegend": true,
         "type": "scatter3d",
         "x": [
          "4.4"
         ],
         "y": [
          "3,219"
         ],
         "z": [
          "₹723"
         ]
        },
        {
         "hovertemplate": "discounted_price=₹330<br>rating=%{x}<br>rating_count=%{y}<br>actual_price=%{z}<extra></extra>",
         "legendgroup": "₹330",
         "marker": {
          "color": "#FECB52",
          "symbol": "circle"
         },
         "mode": "markers",
         "name": "₹330",
         "scene": "scene",
         "showlegend": true,
         "type": "scatter3d",
         "x": [
          "3.7"
         ],
         "y": [
          "8,566"
         ],
         "z": [
          "₹499"
         ]
        },
        {
         "hovertemplate": "discounted_price=₹1,234<br>rating=%{x}<br>rating_count=%{y}<br>actual_price=%{z}<extra></extra>",
         "legendgroup": "₹1,234",
         "marker": {
          "color": "#636efa",
          "symbol": "circle"
         },
         "mode": "markers",
         "name": "₹1,234",
         "scene": "scene",
         "showlegend": true,
         "type": "scatter3d",
         "x": [
          "4.5"
         ],
         "y": [
          "16,680"
         ],
         "z": [
          "₹1,599"
         ]
        },
        {
         "hovertemplate": "discounted_price=₹272<br>rating=%{x}<br>rating_count=%{y}<br>actual_price=%{z}<extra></extra>",
         "legendgroup": "₹272",
         "marker": {
          "color": "#EF553B",
          "symbol": "circle"
         },
         "mode": "markers",
         "name": "₹272",
         "scene": "scene",
         "showlegend": true,
         "type": "scatter3d",
         "x": [
          "4.0"
         ],
         "y": [
          "3,686"
         ],
         "z": [
          "₹320"
         ]
        },
        {
         "hovertemplate": "discounted_price=₹3,498<br>rating=%{x}<br>rating_count=%{y}<br>actual_price=%{z}<extra></extra>",
         "legendgroup": "₹3,498",
         "marker": {
          "color": "#00cc96",
          "symbol": "circle"
         },
         "mode": "markers",
         "name": "₹3,498",
         "scene": "scene",
         "showlegend": true,
         "type": "scatter3d",
         "x": [
          "3.4"
         ],
         "y": [
          "12,185"
         ],
         "z": [
          "₹3,875"
         ]
        },
        {
         "hovertemplate": "discounted_price=₹10,099<br>rating=%{x}<br>rating_count=%{y}<br>actual_price=%{z}<extra></extra>",
         "legendgroup": "₹10,099",
         "marker": {
          "color": "#ab63fa",
          "symbol": "circle"
         },
         "mode": "markers",
         "name": "₹10,099",
         "scene": "scene",
         "showlegend": true,
         "type": "scatter3d",
         "x": [
          "4.3"
         ],
         "y": [
          "2,623"
         ],
         "z": [
          "₹19,110"
         ]
        },
        {
         "hovertemplate": "discounted_price=₹397<br>rating=%{x}<br>rating_count=%{y}<br>actual_price=%{z}<extra></extra>",
         "legendgroup": "₹397",
         "marker": {
          "color": "#FFA15A",
          "symbol": "circle"
         },
         "mode": "markers",
         "name": "₹397",
         "scene": "scene",
         "showlegend": true,
         "type": "scatter3d",
         "x": [
          "4.0"
         ],
         "y": [
          "3,025"
         ],
         "z": [
          "₹899"
         ]
        },
        {
         "hovertemplate": "discounted_price=₹1,679<br>rating=%{x}<br>rating_count=%{y}<br>actual_price=%{z}<extra></extra>",
         "legendgroup": "₹1,679",
         "marker": {
          "color": "#19d3f3",
          "symbol": "circle"
         },
         "mode": "markers",
         "name": "₹1,679",
         "scene": "scene",
         "showlegend": true,
         "type": "scatter3d",
         "x": [
          "4.1"
         ],
         "y": [
          "72,563"
         ],
         "z": [
          "₹1,999"
         ]
        },
        {
         "hovertemplate": "discounted_price=₹354<br>rating=%{x}<br>rating_count=%{y}<br>actual_price=%{z}<extra></extra>",
         "legendgroup": "₹354",
         "marker": {
          "color": "#FF6692",
          "symbol": "circle"
         },
         "mode": "markers",
         "name": "₹354",
         "scene": "scene",
         "showlegend": true,
         "type": "scatter3d",
         "x": [
          "4.0"
         ],
         "y": [
          "1,026"
         ],
         "z": [
          "₹1,500"
         ]
        },
        {
         "hovertemplate": "discounted_price=₹10,389<br>rating=%{x}<br>rating_count=%{y}<br>actual_price=%{z}<extra></extra>",
         "legendgroup": "₹10,389",
         "marker": {
          "color": "#B6E880",
          "symbol": "circle"
         },
         "mode": "markers",
         "name": "₹10,389",
         "scene": "scene",
         "showlegend": true,
         "type": "scatter3d",
         "x": [
          "4.4"
         ],
         "y": [
          "41,398"
         ],
         "z": [
          "₹32,000"
         ]
        },
        {
         "hovertemplate": "discounted_price=₹1,409<br>rating=%{x}<br>rating_count=%{y}<br>actual_price=%{z}<extra></extra>",
         "legendgroup": "₹1,409",
         "marker": {
          "color": "#FF97FF",
          "symbol": "circle"
         },
         "mode": "markers",
         "name": "₹1,409",
         "scene": "scene",
         "showlegend": true,
         "type": "scatter3d",
         "x": [
          "3.9",
          "3.7"
         ],
         "y": [
          "427",
          "787"
         ],
         "z": [
          "₹2,199",
          "₹1,639"
         ]
        },
        {
         "hovertemplate": "discounted_price=₹5,998<br>rating=%{x}<br>rating_count=%{y}<br>actual_price=%{z}<extra></extra>",
         "legendgroup": "₹5,998",
         "marker": {
          "color": "#FECB52",
          "symbol": "circle"
         },
         "mode": "markers",
         "name": "₹5,998",
         "scene": "scene",
         "showlegend": true,
         "type": "scatter3d",
         "x": [
          "4.2"
         ],
         "y": [
          "30,355"
         ],
         "z": [
          "₹7,999"
         ]
        },
        {
         "hovertemplate": "discounted_price=₹300<br>rating=%{x}<br>rating_count=%{y}<br>actual_price=%{z}<extra></extra>",
         "legendgroup": "₹300",
         "marker": {
          "color": "#636efa",
          "symbol": "circle"
         },
         "mode": "markers",
         "name": "₹300",
         "scene": "scene",
         "showlegend": true,
         "type": "scatter3d",
         "x": [
          "4.2"
         ],
         "y": [
          "419"
         ],
         "z": [
          "₹300"
         ]
        },
        {
         "hovertemplate": "discounted_price=₹535<br>rating=%{x}<br>rating_count=%{y}<br>actual_price=%{z}<extra></extra>",
         "legendgroup": "₹535",
         "marker": {
          "color": "#EF553B",
          "symbol": "circle"
         },
         "mode": "markers",
         "name": "₹535",
         "scene": "scene",
         "showlegend": true,
         "type": "scatter3d",
         "x": [
          "4.4"
         ],
         "y": [
          "4,426"
         ],
         "z": [
          "₹535"
         ]
        },
        {
         "hovertemplate": "discounted_price=₹341<br>rating=%{x}<br>rating_count=%{y}<br>actual_price=%{z}<extra></extra>",
         "legendgroup": "₹341",
         "marker": {
          "color": "#00cc96",
          "symbol": "circle"
         },
         "mode": "markers",
         "name": "₹341",
         "scene": "scene",
         "showlegend": true,
         "type": "scatter3d",
         "x": [
          "4.3"
         ],
         "y": [
          "2,493"
         ],
         "z": [
          "₹450"
         ]
        },
        {
         "hovertemplate": "discounted_price=₹5,899<br>rating=%{x}<br>rating_count=%{y}<br>actual_price=%{z}<extra></extra>",
         "legendgroup": "₹5,899",
         "marker": {
          "color": "#ab63fa",
          "symbol": "circle"
         },
         "mode": "markers",
         "name": "₹5,899",
         "scene": "scene",
         "showlegend": true,
         "type": "scatter3d",
         "x": [
          "3.6"
         ],
         "y": [
          "4,199"
         ],
         "z": [
          "₹7,005"
         ]
        },
        {
         "hovertemplate": "discounted_price=₹1,565<br>rating=%{x}<br>rating_count=%{y}<br>actual_price=%{z}<extra></extra>",
         "legendgroup": "₹1,565",
         "marker": {
          "color": "#FFA15A",
          "symbol": "circle"
         },
         "mode": "markers",
         "name": "₹1,565",
         "scene": "scene",
         "showlegend": true,
         "type": "scatter3d",
         "x": [
          "4.0"
         ],
         "y": [
          "11,113"
         ],
         "z": [
          "₹2,999"
         ]
        },
        {
         "hovertemplate": "discounted_price=₹326<br>rating=%{x}<br>rating_count=%{y}<br>actual_price=%{z}<extra></extra>",
         "legendgroup": "₹326",
         "marker": {
          "color": "#19d3f3",
          "symbol": "circle"
         },
         "mode": "markers",
         "name": "₹326",
         "scene": "scene",
         "showlegend": true,
         "type": "scatter3d",
         "x": [
          "4.4"
         ],
         "y": [
          "10,773"
         ],
         "z": [
          "₹799"
         ]
        },
        {
         "hovertemplate": "discounted_price=₹657<br>rating=%{x}<br>rating_count=%{y}<br>actual_price=%{z}<extra></extra>",
         "legendgroup": "₹657",
         "marker": {
          "color": "#FF6692",
          "symbol": "circle"
         },
         "mode": "markers",
         "name": "₹657",
         "scene": "scene",
         "showlegend": true,
         "type": "scatter3d",
         "x": [
          "4.3"
         ],
         "y": [
          "13,944"
         ],
         "z": [
          "₹999"
         ]
        },
        {
         "hovertemplate": "discounted_price=₹1,995<br>rating=%{x}<br>rating_count=%{y}<br>actual_price=%{z}<extra></extra>",
         "legendgroup": "₹1,995",
         "marker": {
          "color": "#B6E880",
          "symbol": "circle"
         },
         "mode": "markers",
         "name": "₹1,995",
         "scene": "scene",
         "showlegend": true,
         "type": "scatter3d",
         "x": [
          "4.6"
         ],
         "y": [
          "10,760"
         ],
         "z": [
          "₹2,895"
         ]
        },
        {
         "hovertemplate": "discounted_price=₹1,500<br>rating=%{x}<br>rating_count=%{y}<br>actual_price=%{z}<extra></extra>",
         "legendgroup": "₹1,500",
         "marker": {
          "color": "#FF97FF",
          "symbol": "circle"
         },
         "mode": "markers",
         "name": "₹1,500",
         "scene": "scene",
         "showlegend": true,
         "type": "scatter3d",
         "x": [
          "4.4"
         ],
         "y": [
          "25,996"
         ],
         "z": [
          "₹1,500"
         ]
        },
        {
         "hovertemplate": "discounted_price=₹2,640<br>rating=%{x}<br>rating_count=%{y}<br>actual_price=%{z}<extra></extra>",
         "legendgroup": "₹2,640",
         "marker": {
          "color": "#FECB52",
          "symbol": "circle"
         },
         "mode": "markers",
         "name": "₹2,640",
         "scene": "scene",
         "showlegend": true,
         "type": "scatter3d",
         "x": [
          "4.5"
         ],
         "y": [
          "16,146"
         ],
         "z": [
          "₹3,195"
         ]
        },
        {
         "hovertemplate": "discounted_price=₹5,299<br>rating=%{x}<br>rating_count=%{y}<br>actual_price=%{z}<extra></extra>",
         "legendgroup": "₹5,299",
         "marker": {
          "color": "#636efa",
          "symbol": "circle"
         },
         "mode": "markers",
         "name": "₹5,299",
         "scene": "scene",
         "showlegend": true,
         "type": "scatter3d",
         "x": [
          "3.9"
         ],
         "y": [
          "8,280"
         ],
         "z": [
          "₹6,355"
         ]
        },
        {
         "hovertemplate": "discounted_price=₹165<br>rating=%{x}<br>rating_count=%{y}<br>actual_price=%{z}<extra></extra>",
         "legendgroup": "₹165",
         "marker": {
          "color": "#EF553B",
          "symbol": "circle"
         },
         "mode": "markers",
         "name": "₹165",
         "scene": "scene",
         "showlegend": true,
         "type": "scatter3d",
         "x": [
          "4.5"
         ],
         "y": [
          "1,674"
         ],
         "z": [
          "₹165"
         ]
        },
        {
         "hovertemplate": "discounted_price=₹398<br>rating=%{x}<br>rating_count=%{y}<br>actual_price=%{z}<extra></extra>",
         "legendgroup": "₹398",
         "marker": {
          "color": "#00cc96",
          "symbol": "circle"
         },
         "mode": "markers",
         "name": "₹398",
         "scene": "scene",
         "showlegend": true,
         "type": "scatter3d",
         "x": [
          "4.0",
          "4.1"
         ],
         "y": [
          "75",
          "257"
         ],
         "z": [
          "₹1,949",
          "₹1,999"
         ]
        },
        {
         "hovertemplate": "discounted_price=₹770<br>rating=%{x}<br>rating_count=%{y}<br>actual_price=%{z}<extra></extra>",
         "legendgroup": "₹770",
         "marker": {
          "color": "#ab63fa",
          "symbol": "circle"
         },
         "mode": "markers",
         "name": "₹770",
         "scene": "scene",
         "showlegend": true,
         "type": "scatter3d",
         "x": [
          "4.3"
         ],
         "y": [
          "2,585"
         ],
         "z": [
          "₹1,547"
         ]
        },
        {
         "hovertemplate": "discounted_price=₹420<br>rating=%{x}<br>rating_count=%{y}<br>actual_price=%{z}<extra></extra>",
         "legendgroup": "₹420",
         "marker": {
          "color": "#FFA15A",
          "symbol": "circle"
         },
         "mode": "markers",
         "name": "₹420",
         "scene": "scene",
         "showlegend": true,
         "type": "scatter3d",
         "x": [
          "4.2"
         ],
         "y": [
          "1,926"
         ],
         "z": [
          "₹420"
         ]
        },
        {
         "hovertemplate": "discounted_price=₹8,349<br>rating=%{x}<br>rating_count=%{y}<br>actual_price=%{z}<extra></extra>",
         "legendgroup": "₹8,349",
         "marker": {
          "color": "#19d3f3",
          "symbol": "circle"
         },
         "mode": "markers",
         "name": "₹8,349",
         "scene": "scene",
         "showlegend": true,
         "type": "scatter3d",
         "x": [
          "3.8"
         ],
         "y": [
          "3,652"
         ],
         "z": [
          "₹9,625"
         ]
        },
        {
         "hovertemplate": "discounted_price=₹3,307<br>rating=%{x}<br>rating_count=%{y}<br>actual_price=%{z}<extra></extra>",
         "legendgroup": "₹3,307",
         "marker": {
          "color": "#FF6692",
          "symbol": "circle"
         },
         "mode": "markers",
         "name": "₹3,307",
         "scene": "scene",
         "showlegend": true,
         "type": "scatter3d",
         "x": [
          "4.3"
         ],
         "y": [
          "2,515"
         ],
         "z": [
          "₹6,100"
         ]
        },
        {
         "hovertemplate": "discounted_price=₹380<br>rating=%{x}<br>rating_count=%{y}<br>actual_price=%{z}<extra></extra>",
         "legendgroup": "₹380",
         "marker": {
          "color": "#B6E880",
          "symbol": "circle"
         },
         "mode": "markers",
         "name": "₹380",
         "scene": "scene",
         "showlegend": true,
         "type": "scatter3d",
         "x": [
          "4.4"
         ],
         "y": [
          "2,111"
         ],
         "z": [
          "₹400"
         ]
        },
        {
         "hovertemplate": "discounted_price=₹37,247<br>rating=%{x}<br>rating_count=%{y}<br>actual_price=%{z}<extra></extra>",
         "legendgroup": "₹37,247",
         "marker": {
          "color": "#FF97FF",
          "symbol": "circle"
         },
         "mode": "markers",
         "name": "₹37,247",
         "scene": "scene",
         "showlegend": true,
         "type": "scatter3d",
         "x": [
          "4.0"
         ],
         "y": [
          "323"
         ],
         "z": [
          "₹59,890"
         ]
        },
        {
         "hovertemplate": "discounted_price=₹298<br>rating=%{x}<br>rating_count=%{y}<br>actual_price=%{z}<extra></extra>",
         "legendgroup": "₹298",
         "marker": {
          "color": "#FECB52",
          "symbol": "circle"
         },
         "mode": "markers",
         "name": "₹298",
         "scene": "scene",
         "showlegend": true,
         "type": "scatter3d",
         "x": [
          "4.3",
          "4.4"
         ],
         "y": [
          "1,552",
          "290"
         ],
         "z": [
          "₹999",
          "₹499"
         ]
        },
        {
         "hovertemplate": "discounted_price=₹293<br>rating=%{x}<br>rating_count=%{y}<br>actual_price=%{z}<extra></extra>",
         "legendgroup": "₹293",
         "marker": {
          "color": "#636efa",
          "symbol": "circle"
         },
         "mode": "markers",
         "name": "₹293",
         "scene": "scene",
         "showlegend": true,
         "type": "scatter3d",
         "x": [
          "3.9",
          "4.1"
         ],
         "y": [
          "44,994",
          "1,456"
         ],
         "z": [
          "₹499",
          "₹499"
         ]
        },
        {
         "hovertemplate": "discounted_price=₹1,043<br>rating=%{x}<br>rating_count=%{y}<br>actual_price=%{z}<extra></extra>",
         "legendgroup": "₹1,043",
         "marker": {
          "color": "#EF553B",
          "symbol": "circle"
         },
         "mode": "markers",
         "name": "₹1,043",
         "scene": "scene",
         "showlegend": true,
         "type": "scatter3d",
         "x": [
          "3.8"
         ],
         "y": [
          "15,592"
         ],
         "z": [
          "₹1,345"
         ]
        },
        {
         "hovertemplate": "discounted_price=₹1,464<br>rating=%{x}<br>rating_count=%{y}<br>actual_price=%{z}<extra></extra>",
         "legendgroup": "₹1,464",
         "marker": {
          "color": "#00cc96",
          "symbol": "circle"
         },
         "mode": "markers",
         "name": "₹1,464",
         "scene": "scene",
         "showlegend": true,
         "type": "scatter3d",
         "x": [
          "4.1"
         ],
         "y": [
          "14,120"
         ],
         "z": [
          "₹1,650"
         ]
        },
        {
         "hovertemplate": "discounted_price=₹625<br>rating=%{x}<br>rating_count=%{y}<br>actual_price=%{z}<extra></extra>",
         "legendgroup": "₹625",
         "marker": {
          "color": "#ab63fa",
          "symbol": "circle"
         },
         "mode": "markers",
         "name": "₹625",
         "scene": "scene",
         "showlegend": true,
         "type": "scatter3d",
         "x": [
          "4.2"
         ],
         "y": [
          "23,316"
         ],
         "z": [
          "₹1,400"
         ]
        },
        {
         "hovertemplate": "discounted_price=₹1,290<br>rating=%{x}<br>rating_count=%{y}<br>actual_price=%{z}<extra></extra>",
         "legendgroup": "₹1,290",
         "marker": {
          "color": "#FFA15A",
          "symbol": "circle"
         },
         "mode": "markers",
         "name": "₹1,290",
         "scene": "scene",
         "showlegend": true,
         "type": "scatter3d",
         "x": [
          "4"
         ],
         "y": [
          "6,530"
         ],
         "z": [
          "₹2,500"
         ]
        },
        {
         "hovertemplate": "discounted_price=₹3,600<br>rating=%{x}<br>rating_count=%{y}<br>actual_price=%{z}<extra></extra>",
         "legendgroup": "₹3,600",
         "marker": {
          "color": "#19d3f3",
          "symbol": "circle"
         },
         "mode": "markers",
         "name": "₹3,600",
         "scene": "scene",
         "showlegend": true,
         "type": "scatter3d",
         "x": [
          "4.3"
         ],
         "y": [
          "11,924"
         ],
         "z": [
          "₹6,190"
         ]
        },
        {
         "hovertemplate": "discounted_price=₹6,549<br>rating=%{x}<br>rating_count=%{y}<br>actual_price=%{z}<extra></extra>",
         "legendgroup": "₹6,549",
         "marker": {
          "color": "#FF6692",
          "symbol": "circle"
         },
         "mode": "markers",
         "name": "₹6,549",
         "scene": "scene",
         "showlegend": true,
         "type": "scatter3d",
         "x": [
          "4"
         ],
         "y": [
          "2,961"
         ],
         "z": [
          "₹13,999"
         ]
        },
        {
         "hovertemplate": "discounted_price=₹1,625<br>rating=%{x}<br>rating_count=%{y}<br>actual_price=%{z}<extra></extra>",
         "legendgroup": "₹1,625",
         "marker": {
          "color": "#B6E880",
          "symbol": "circle"
         },
         "mode": "markers",
         "name": "₹1,625",
         "scene": "scene",
         "showlegend": true,
         "type": "scatter3d",
         "x": [
          "4.5"
         ],
         "y": [
          "23,484"
         ],
         "z": [
          "₹2,995"
         ]
        },
        {
         "hovertemplate": "discounted_price=₹5,499<br>rating=%{x}<br>rating_count=%{y}<br>actual_price=%{z}<extra></extra>",
         "legendgroup": "₹5,499",
         "marker": {
          "color": "#FF97FF",
          "symbol": "circle"
         },
         "mode": "markers",
         "name": "₹5,499",
         "scene": "scene",
         "showlegend": true,
         "type": "scatter3d",
         "x": [
          "4.2",
          "3.8",
          "3.9"
         ],
         "y": [
          "6,398",
          "4,353",
          "959"
         ],
         "z": [
          "₹13,150",
          "₹9,999",
          "₹11,500"
         ]
        },
        {
         "hovertemplate": "discounted_price=₹2,148<br>rating=%{x}<br>rating_count=%{y}<br>actual_price=%{z}<extra></extra>",
         "legendgroup": "₹2,148",
         "marker": {
          "color": "#FECB52",
          "symbol": "circle"
         },
         "mode": "markers",
         "name": "₹2,148",
         "scene": "scene",
         "showlegend": true,
         "type": "scatter3d",
         "x": [
          "4.1"
         ],
         "y": [
          "31,388"
         ],
         "z": [
          "₹3,645"
         ]
        },
        {
         "hovertemplate": "discounted_price=₹3,599<br>rating=%{x}<br>rating_count=%{y}<br>actual_price=%{z}<extra></extra>",
         "legendgroup": "₹3,599",
         "marker": {
          "color": "#636efa",
          "symbol": "circle"
         },
         "mode": "markers",
         "name": "₹3,599",
         "scene": "scene",
         "showlegend": true,
         "type": "scatter3d",
         "x": [
          "4.2",
          "4",
          "4.1",
          "3.9"
         ],
         "y": [
          "136",
          "10,324",
          "11,828",
          "942"
         ],
         "z": [
          "₹7,950",
          "₹7,299",
          "₹9,455",
          "₹7,290"
         ]
        },
        {
         "hovertemplate": "discounted_price=₹351<br>rating=%{x}<br>rating_count=%{y}<br>actual_price=%{z}<extra></extra>",
         "legendgroup": "₹351",
         "marker": {
          "color": "#EF553B",
          "symbol": "circle"
         },
         "mode": "markers",
         "name": "₹351",
         "scene": "scene",
         "showlegend": true,
         "type": "scatter3d",
         "x": [
          "4",
          "3.7",
          "3.9"
         ],
         "y": [
          "5,380",
          "1,470",
          "296"
         ],
         "z": [
          "₹999",
          "₹1,099",
          "₹899"
         ]
        },
        {
         "hovertemplate": "discounted_price=₹1,614<br>rating=%{x}<br>rating_count=%{y}<br>actual_price=%{z}<extra></extra>",
         "legendgroup": "₹1,614",
         "marker": {
          "color": "#00cc96",
          "symbol": "circle"
         },
         "mode": "markers",
         "name": "₹1,614",
         "scene": "scene",
         "showlegend": true,
         "type": "scatter3d",
         "x": [
          "4.3"
         ],
         "y": [
          "37,974"
         ],
         "z": [
          "₹1,745"
         ]
        },
        {
         "hovertemplate": "discounted_price=₹678<br>rating=%{x}<br>rating_count=%{y}<br>actual_price=%{z}<extra></extra>",
         "legendgroup": "₹678",
         "marker": {
          "color": "#ab63fa",
          "symbol": "circle"
         },
         "mode": "markers",
         "name": "₹678",
         "scene": "scene",
         "showlegend": true,
         "type": "scatter3d",
         "x": [
          "4.2"
         ],
         "y": [
          "900"
         ],
         "z": [
          "₹1,499"
         ]
        },
        {
         "hovertemplate": "discounted_price=₹809<br>rating=%{x}<br>rating_count=%{y}<br>actual_price=%{z}<extra></extra>",
         "legendgroup": "₹809",
         "marker": {
          "color": "#FFA15A",
          "symbol": "circle"
         },
         "mode": "markers",
         "name": "₹809",
         "scene": "scene",
         "showlegend": true,
         "type": "scatter3d",
         "x": [
          "3.7",
          "3.9"
         ],
         "y": [
          "976",
          "710"
         ],
         "z": [
          "₹1,545",
          "₹1,950"
         ]
        },
        {
         "hovertemplate": "discounted_price=₹1,969<br>rating=%{x}<br>rating_count=%{y}<br>actual_price=%{z}<extra></extra>",
         "legendgroup": "₹1,969",
         "marker": {
          "color": "#19d3f3",
          "symbol": "circle"
         },
         "mode": "markers",
         "name": "₹1,969",
         "scene": "scene",
         "showlegend": true,
         "type": "scatter3d",
         "x": [
          "4.1"
         ],
         "y": [
          "4,927"
         ],
         "z": [
          "₹5,000"
         ]
        },
        {
         "hovertemplate": "discounted_price=₹1,665<br>rating=%{x}<br>rating_count=%{y}<br>actual_price=%{z}<extra></extra>",
         "legendgroup": "₹1,665",
         "marker": {
          "color": "#FF6692",
          "symbol": "circle"
         },
         "mode": "markers",
         "name": "₹1,665",
         "scene": "scene",
         "showlegend": true,
         "type": "scatter3d",
         "x": [
          "4"
         ],
         "y": [
          "14,368"
         ],
         "z": [
          "₹2,099"
         ]
        },
        {
         "hovertemplate": "discounted_price=₹3,229<br>rating=%{x}<br>rating_count=%{y}<br>actual_price=%{z}<extra></extra>",
         "legendgroup": "₹3,229",
         "marker": {
          "color": "#B6E880",
          "symbol": "circle"
         },
         "mode": "markers",
         "name": "₹3,229",
         "scene": "scene",
         "showlegend": true,
         "type": "scatter3d",
         "x": [
          "4.2"
         ],
         "y": [
          "39,724"
         ],
         "z": [
          "₹5,295"
         ]
        },
        {
         "hovertemplate": "discounted_price=₹1,260<br>rating=%{x}<br>rating_count=%{y}<br>actual_price=%{z}<extra></extra>",
         "legendgroup": "₹1,260",
         "marker": {
          "color": "#FF97FF",
          "symbol": "circle"
         },
         "mode": "markers",
         "name": "₹1,260",
         "scene": "scene",
         "showlegend": true,
         "type": "scatter3d",
         "x": [
          "4.2",
          "4.3"
         ],
         "y": [
          "2,891",
          "55"
         ],
         "z": [
          "₹1,699",
          "₹2,299"
         ]
        },
        {
         "hovertemplate": "discounted_price=₹3,499<br>rating=%{x}<br>rating_count=%{y}<br>actual_price=%{z}<extra></extra>",
         "legendgroup": "₹3,499",
         "marker": {
          "color": "#FECB52",
          "symbol": "circle"
         },
         "mode": "markers",
         "name": "₹3,499",
         "scene": "scene",
         "showlegend": true,
         "type": "scatter3d",
         "x": [
          "3.9"
         ],
         "y": [
          "25,340"
         ],
         "z": [
          "₹5,795"
         ]
        },
        {
         "hovertemplate": "discounted_price=₹1,321<br>rating=%{x}<br>rating_count=%{y}<br>actual_price=%{z}<extra></extra>",
         "legendgroup": "₹1,321",
         "marker": {
          "color": "#636efa",
          "symbol": "circle"
         },
         "mode": "markers",
         "name": "₹1,321",
         "scene": "scene",
         "showlegend": true,
         "type": "scatter3d",
         "x": [
          "4.3"
         ],
         "y": [
          "15,453"
         ],
         "z": [
          "₹1,545"
         ]
        },
        {
         "hovertemplate": "discounted_price=₹775<br>rating=%{x}<br>rating_count=%{y}<br>actual_price=%{z}<extra></extra>",
         "legendgroup": "₹775",
         "marker": {
          "color": "#EF553B",
          "symbol": "circle"
         },
         "mode": "markers",
         "name": "₹775",
         "scene": "scene",
         "showlegend": true,
         "type": "scatter3d",
         "x": [
          "4.2"
         ],
         "y": [
          "46,647"
         ],
         "z": [
          "₹875"
         ]
        },
        {
         "hovertemplate": "discounted_price=₹3,190<br>rating=%{x}<br>rating_count=%{y}<br>actual_price=%{z}<extra></extra>",
         "legendgroup": "₹3,190",
         "marker": {
          "color": "#00cc96",
          "symbol": "circle"
         },
         "mode": "markers",
         "name": "₹3,190",
         "scene": "scene",
         "showlegend": true,
         "type": "scatter3d",
         "x": [
          "4"
         ],
         "y": [
          "1,282"
         ],
         "z": [
          "₹4,195"
         ]
        },
        {
         "hovertemplate": "discounted_price=₹6,199<br>rating=%{x}<br>rating_count=%{y}<br>actual_price=%{z}<extra></extra>",
         "legendgroup": "₹6,199",
         "marker": {
          "color": "#ab63fa",
          "symbol": "circle"
         },
         "mode": "markers",
         "name": "₹6,199",
         "scene": "scene",
         "showlegend": true,
         "type": "scatter3d",
         "x": [
          "4.1",
          "4.2"
         ],
         "y": [
          "14,391",
          "10,429"
         ],
         "z": [
          "₹10,400",
          "₹10,999"
         ]
        },
        {
         "hovertemplate": "discounted_price=₹1,819<br>rating=%{x}<br>rating_count=%{y}<br>actual_price=%{z}<extra></extra>",
         "legendgroup": "₹1,819",
         "marker": {
          "color": "#FFA15A",
          "symbol": "circle"
         },
         "mode": "markers",
         "name": "₹1,819",
         "scene": "scene",
         "showlegend": true,
         "type": "scatter3d",
         "x": [
          "4.4"
         ],
         "y": [
          "7,946"
         ],
         "z": [
          "₹2,490"
         ]
        },
        {
         "hovertemplate": "discounted_price=₹3,249<br>rating=%{x}<br>rating_count=%{y}<br>actual_price=%{z}<extra></extra>",
         "legendgroup": "₹3,249",
         "marker": {
          "color": "#19d3f3",
          "symbol": "circle"
         },
         "mode": "markers",
         "name": "₹3,249",
         "scene": "scene",
         "showlegend": true,
         "type": "scatter3d",
         "x": [
          "3.8",
          "3.9",
          "4",
          "4.2",
          "3.9"
         ],
         "y": [
          "14,062",
          "43,070",
          "4,978",
          "4,664",
          "2,569"
         ],
         "z": [
          "₹6,295",
          "₹6,295",
          "₹6,375",
          "₹7,795",
          "₹6,299"
         ]
        },
        {
         "hovertemplate": "discounted_price=₹1,400<br>rating=%{x}<br>rating_count=%{y}<br>actual_price=%{z}<extra></extra>",
         "legendgroup": "₹1,400",
         "marker": {
          "color": "#FF6692",
          "symbol": "circle"
         },
         "mode": "markers",
         "name": "₹1,400",
         "scene": "scene",
         "showlegend": true,
         "type": "scatter3d",
         "x": [
          "4.1"
         ],
         "y": [
          "19,998"
         ],
         "z": [
          "₹2,485"
         ]
        },
        {
         "hovertemplate": "discounted_price=₹355<br>rating=%{x}<br>rating_count=%{y}<br>actual_price=%{z}<extra></extra>",
         "legendgroup": "₹355",
         "marker": {
          "color": "#B6E880",
          "symbol": "circle"
         },
         "mode": "markers",
         "name": "₹355",
         "scene": "scene",
         "showlegend": true,
         "type": "scatter3d",
         "x": [
          "4.1"
         ],
         "y": [
          "1,051"
         ],
         "z": [
          "₹899"
         ]
        },
        {
         "hovertemplate": "discounted_price=₹2,169<br>rating=%{x}<br>rating_count=%{y}<br>actual_price=%{z}<extra></extra>",
         "legendgroup": "₹2,169",
         "marker": {
          "color": "#FF97FF",
          "symbol": "circle"
         },
         "mode": "markers",
         "name": "₹2,169",
         "scene": "scene",
         "showlegend": true,
         "type": "scatter3d",
         "x": [
          "4.1"
         ],
         "y": [
          "1,716"
         ],
         "z": [
          "₹3,279"
         ]
        },
        {
         "hovertemplate": "discounted_price=₹653<br>rating=%{x}<br>rating_count=%{y}<br>actual_price=%{z}<extra></extra>",
         "legendgroup": "₹653",
         "marker": {
          "color": "#FECB52",
          "symbol": "circle"
         },
         "mode": "markers",
         "name": "₹653",
         "scene": "scene",
         "showlegend": true,
         "type": "scatter3d",
         "x": [
          "4.1"
         ],
         "y": [
          "3,366"
         ],
         "z": [
          "₹1,020"
         ]
        },
        {
         "hovertemplate": "discounted_price=₹4,789<br>rating=%{x}<br>rating_count=%{y}<br>actual_price=%{z}<extra></extra>",
         "legendgroup": "₹4,789",
         "marker": {
          "color": "#636efa",
          "symbol": "circle"
         },
         "mode": "markers",
         "name": "₹4,789",
         "scene": "scene",
         "showlegend": true,
         "type": "scatter3d",
         "x": [
          "4.3"
         ],
         "y": [
          "1,017"
         ],
         "z": [
          "₹8,990"
         ]
        },
        {
         "hovertemplate": "discounted_price=₹753<br>rating=%{x}<br>rating_count=%{y}<br>actual_price=%{z}<extra></extra>",
         "legendgroup": "₹753",
         "marker": {
          "color": "#EF553B",
          "symbol": "circle"
         },
         "mode": "markers",
         "name": "₹753",
         "scene": "scene",
         "showlegend": true,
         "type": "scatter3d",
         "x": [
          "4.2"
         ],
         "y": [
          "18,462"
         ],
         "z": [
          "₹899"
         ]
        },
        {
         "hovertemplate": "discounted_price=₹353<br>rating=%{x}<br>rating_count=%{y}<br>actual_price=%{z}<extra></extra>",
         "legendgroup": "₹353",
         "marker": {
          "color": "#00cc96",
          "symbol": "circle"
         },
         "mode": "markers",
         "name": "₹353",
         "scene": "scene",
         "showlegend": true,
         "type": "scatter3d",
         "x": [
          "4.3"
         ],
         "y": [
          "629"
         ],
         "z": [
          "₹1,199"
         ]
        },
        {
         "hovertemplate": "discounted_price=₹8,799<br>rating=%{x}<br>rating_count=%{y}<br>actual_price=%{z}<extra></extra>",
         "legendgroup": "₹8,799",
         "marker": {
          "color": "#ab63fa",
          "symbol": "circle"
         },
         "mode": "markers",
         "name": "₹8,799",
         "scene": "scene",
         "showlegend": true,
         "type": "scatter3d",
         "x": [
          "4.4",
          "4.1"
         ],
         "y": [
          "2,981",
          "4,157"
         ],
         "z": [
          "₹11,595",
          "₹11,995"
         ]
        },
        {
         "hovertemplate": "discounted_price=₹2,095<br>rating=%{x}<br>rating_count=%{y}<br>actual_price=%{z}<extra></extra>",
         "legendgroup": "₹2,095",
         "marker": {
          "color": "#FFA15A",
          "symbol": "circle"
         },
         "mode": "markers",
         "name": "₹2,095",
         "scene": "scene",
         "showlegend": true,
         "type": "scatter3d",
         "x": [
          "4.5"
         ],
         "y": [
          "7,949"
         ],
         "z": [
          "₹2,095"
         ]
        },
        {
         "hovertemplate": "discounted_price=₹1,498<br>rating=%{x}<br>rating_count=%{y}<br>actual_price=%{z}<extra></extra>",
         "legendgroup": "₹1,498",
         "marker": {
          "color": "#19d3f3",
          "symbol": "circle"
         },
         "mode": "markers",
         "name": "₹1,498",
         "scene": "scene",
         "showlegend": true,
         "type": "scatter3d",
         "x": [
          "3.8"
         ],
         "y": [
          "95"
         ],
         "z": [
          "₹2,300"
         ]
        },
        {
         "hovertemplate": "discounted_price=₹3,699<br>rating=%{x}<br>rating_count=%{y}<br>actual_price=%{z}<extra></extra>",
         "legendgroup": "₹3,699",
         "marker": {
          "color": "#FF6692",
          "symbol": "circle"
         },
         "mode": "markers",
         "name": "₹3,699",
         "scene": "scene",
         "showlegend": true,
         "type": "scatter3d",
         "x": [
          "4.1"
         ],
         "y": [
          "26,543"
         ],
         "z": [
          "₹4,295"
         ]
        },
        {
         "hovertemplate": "discounted_price=₹177<br>rating=%{x}<br>rating_count=%{y}<br>actual_price=%{z}<extra></extra>",
         "legendgroup": "₹177",
         "marker": {
          "color": "#B6E880",
          "symbol": "circle"
         },
         "mode": "markers",
         "name": "₹177",
         "scene": "scene",
         "showlegend": true,
         "type": "scatter3d",
         "x": [
          "4.1"
         ],
         "y": [
          "3,688"
         ],
         "z": [
          "₹199"
         ]
        },
        {
         "hovertemplate": "discounted_price=₹244<br>rating=%{x}<br>rating_count=%{y}<br>actual_price=%{z}<extra></extra>",
         "legendgroup": "₹244",
         "marker": {
          "color": "#FF97FF",
          "symbol": "circle"
         },
         "mode": "markers",
         "name": "₹244",
         "scene": "scene",
         "showlegend": true,
         "type": "scatter3d",
         "x": [
          "3.3"
         ],
         "y": [
          "478"
         ],
         "z": [
          "₹499"
         ]
        },
        {
         "hovertemplate": "discounted_price=₹1,959<br>rating=%{x}<br>rating_count=%{y}<br>actual_price=%{z}<extra></extra>",
         "legendgroup": "₹1,959",
         "marker": {
          "color": "#FECB52",
          "symbol": "circle"
         },
         "mode": "markers",
         "name": "₹1,959",
         "scene": "scene",
         "showlegend": true,
         "type": "scatter3d",
         "x": [
          "4"
         ],
         "y": [
          "237"
         ],
         "z": [
          "₹2,400"
         ]
        },
        {
         "hovertemplate": "discounted_price=₹319<br>rating=%{x}<br>rating_count=%{y}<br>actual_price=%{z}<extra></extra>",
         "legendgroup": "₹319",
         "marker": {
          "color": "#636efa",
          "symbol": "circle"
         },
         "mode": "markers",
         "name": "₹319",
         "scene": "scene",
         "showlegend": true,
         "type": "scatter3d",
         "x": [
          "4.6"
         ],
         "y": [
          "124"
         ],
         "z": [
          "₹749"
         ]
        },
        {
         "hovertemplate": "discounted_price=₹9,590<br>rating=%{x}<br>rating_count=%{y}<br>actual_price=%{z}<extra></extra>",
         "legendgroup": "₹9,590",
         "marker": {
          "color": "#EF553B",
          "symbol": "circle"
         },
         "mode": "markers",
         "name": "₹9,590",
         "scene": "scene",
         "showlegend": true,
         "type": "scatter3d",
         "x": [
          "4.1"
         ],
         "y": [
          "1,017"
         ],
         "z": [
          "₹15,999"
         ]
        },
        {
         "hovertemplate": "discounted_price=₹292<br>rating=%{x}<br>rating_count=%{y}<br>actual_price=%{z}<extra></extra>",
         "legendgroup": "₹292",
         "marker": {
          "color": "#00cc96",
          "symbol": "circle"
         },
         "mode": "markers",
         "name": "₹292",
         "scene": "scene",
         "showlegend": true,
         "type": "scatter3d",
         "x": [
          "4.1"
         ],
         "y": [
          "4,238"
         ],
         "z": [
          "₹499"
         ]
        },
        {
         "hovertemplate": "discounted_price=₹160<br>rating=%{x}<br>rating_count=%{y}<br>actual_price=%{z}<extra></extra>",
         "legendgroup": "₹160",
         "marker": {
          "color": "#ab63fa",
          "symbol": "circle"
         },
         "mode": "markers",
         "name": "₹160",
         "scene": "scene",
         "showlegend": true,
         "type": "scatter3d",
         "x": [
          "4.6"
         ],
         "y": [
          "2,781"
         ],
         "z": [
          "₹299"
         ]
        },
        {
         "hovertemplate": "discounted_price=₹600<br>rating=%{x}<br>rating_count=%{y}<br>actual_price=%{z}<extra></extra>",
         "legendgroup": "₹600",
         "marker": {
          "color": "#FFA15A",
          "symbol": "circle"
         },
         "mode": "markers",
         "name": "₹600",
         "scene": "scene",
         "showlegend": true,
         "type": "scatter3d",
         "x": [
          "4.1",
          "3.8"
         ],
         "y": [
          "10,907",
          "2,593"
         ],
         "z": [
          "₹600",
          "₹640"
         ]
        },
        {
         "hovertemplate": "discounted_price=₹1,130<br>rating=%{x}<br>rating_count=%{y}<br>actual_price=%{z}<extra></extra>",
         "legendgroup": "₹1,130",
         "marker": {
          "color": "#19d3f3",
          "symbol": "circle"
         },
         "mode": "markers",
         "name": "₹1,130",
         "scene": "scene",
         "showlegend": true,
         "type": "scatter3d",
         "x": [
          "4.2"
         ],
         "y": [
          "13,250"
         ],
         "z": [
          "₹1,130"
         ]
        },
        {
         "hovertemplate": "discounted_price=₹3,199<br>rating=%{x}<br>rating_count=%{y}<br>actual_price=%{z}<extra></extra>",
         "legendgroup": "₹3,199",
         "marker": {
          "color": "#FF6692",
          "symbol": "circle"
         },
         "mode": "markers",
         "name": "₹3,199",
         "scene": "scene",
         "showlegend": true,
         "type": "scatter3d",
         "x": [
          "4",
          "4",
          "4.2"
         ],
         "y": [
          "20,869",
          "3,242",
          "1,899"
         ],
         "z": [
          "₹4,999",
          "₹5,999",
          "₹3,500"
         ]
        },
        {
         "hovertemplate": "discounted_price=₹616<br>rating=%{x}<br>rating_count=%{y}<br>actual_price=%{z}<extra></extra>",
         "legendgroup": "₹616",
         "marker": {
          "color": "#B6E880",
          "symbol": "circle"
         },
         "mode": "markers",
         "name": "₹616",
         "scene": "scene",
         "showlegend": true,
         "type": "scatter3d",
         "x": [
          "4.1"
         ],
         "y": [
          "37,126"
         ],
         "z": [
          "₹1,190"
         ]
        },
        {
         "hovertemplate": "discounted_price=₹610<br>rating=%{x}<br>rating_count=%{y}<br>actual_price=%{z}<extra></extra>",
         "legendgroup": "₹610",
         "marker": {
          "color": "#FF97FF",
          "symbol": "circle"
         },
         "mode": "markers",
         "name": "₹610",
         "scene": "scene",
         "showlegend": true,
         "type": "scatter3d",
         "x": [
          "4.1"
         ],
         "y": [
          "13,165"
         ],
         "z": [
          "₹825"
         ]
        },
        {
         "hovertemplate": "discounted_price=₹453<br>rating=%{x}<br>rating_count=%{y}<br>actual_price=%{z}<extra></extra>",
         "legendgroup": "₹453",
         "marker": {
          "color": "#FECB52",
          "symbol": "circle"
         },
         "mode": "markers",
         "name": "₹453",
         "scene": "scene",
         "showlegend": true,
         "type": "scatter3d",
         "x": [
          "4.3"
         ],
         "y": [
          "610"
         ],
         "z": [
          "₹999"
         ]
        },
        {
         "hovertemplate": "discounted_price=₹2,464<br>rating=%{x}<br>rating_count=%{y}<br>actual_price=%{z}<extra></extra>",
         "legendgroup": "₹2,464",
         "marker": {
          "color": "#636efa",
          "symbol": "circle"
         },
         "mode": "markers",
         "name": "₹2,464",
         "scene": "scene",
         "showlegend": true,
         "type": "scatter3d",
         "x": [
          "4.1"
         ],
         "y": [
          "8,866"
         ],
         "z": [
          "₹6,000"
         ]
        },
        {
         "hovertemplate": "discounted_price=₹2,719<br>rating=%{x}<br>rating_count=%{y}<br>actual_price=%{z}<extra></extra>",
         "legendgroup": "₹2,719",
         "marker": {
          "color": "#EF553B",
          "symbol": "circle"
         },
         "mode": "markers",
         "name": "₹2,719",
         "scene": "scene",
         "showlegend": true,
         "type": "scatter3d",
         "x": [
          "3.7"
         ],
         "y": [
          "13,406"
         ],
         "z": [
          "₹3,945"
         ]
        },
        {
         "hovertemplate": "discounted_price=₹2,088<br>rating=%{x}<br>rating_count=%{y}<br>actual_price=%{z}<extra></extra>",
         "legendgroup": "₹2,088",
         "marker": {
          "color": "#00cc96",
          "symbol": "circle"
         },
         "mode": "markers",
         "name": "₹2,088",
         "scene": "scene",
         "showlegend": true,
         "type": "scatter3d",
         "x": [
          "4"
         ],
         "y": [
          "5,292"
         ],
         "z": [
          "₹5,550"
         ]
        },
        {
         "hovertemplate": "discounted_price=₹2,399<br>rating=%{x}<br>rating_count=%{y}<br>actual_price=%{z}<extra></extra>",
         "legendgroup": "₹2,399",
         "marker": {
          "color": "#ab63fa",
          "symbol": "circle"
         },
         "mode": "markers",
         "name": "₹2,399",
         "scene": "scene",
         "showlegend": true,
         "type": "scatter3d",
         "x": [
          "4.1",
          "3.8"
         ],
         "y": [
          "444",
          "397"
         ],
         "z": [
          "₹4,590",
          "₹4,200"
         ]
        },
        {
         "hovertemplate": "discounted_price=₹308<br>rating=%{x}<br>rating_count=%{y}<br>actual_price=%{z}<extra></extra>",
         "legendgroup": "₹308",
         "marker": {
          "color": "#FFA15A",
          "symbol": "circle"
         },
         "mode": "markers",
         "name": "₹308",
         "scene": "scene",
         "showlegend": true,
         "type": "scatter3d",
         "x": [
          "3.9"
         ],
         "y": [
          "4,584"
         ],
         "z": [
          "₹499"
         ]
        },
        {
         "hovertemplate": "discounted_price=₹245<br>rating=%{x}<br>rating_count=%{y}<br>actual_price=%{z}<extra></extra>",
         "legendgroup": "₹245",
         "marker": {
          "color": "#19d3f3",
          "symbol": "circle"
         },
         "mode": "markers",
         "name": "₹245",
         "scene": "scene",
         "showlegend": true,
         "type": "scatter3d",
         "x": [
          "4.1"
         ],
         "y": [
          "1,660"
         ],
         "z": [
          "₹299"
         ]
        },
        {
         "hovertemplate": "discounted_price=₹3,569<br>rating=%{x}<br>rating_count=%{y}<br>actual_price=%{z}<extra></extra>",
         "legendgroup": "₹3,569",
         "marker": {
          "color": "#FF6692",
          "symbol": "circle"
         },
         "mode": "markers",
         "name": "₹3,569",
         "scene": "scene",
         "showlegend": true,
         "type": "scatter3d",
         "x": [
          "4.3"
         ],
         "y": [
          "28,629"
         ],
         "z": [
          "₹5,190"
         ]
        },
        {
         "hovertemplate": "discounted_price=₹2,089<br>rating=%{x}<br>rating_count=%{y}<br>actual_price=%{z}<extra></extra>",
         "legendgroup": "₹2,089",
         "marker": {
          "color": "#B6E880",
          "symbol": "circle"
         },
         "mode": "markers",
         "name": "₹2,089",
         "scene": "scene",
         "showlegend": true,
         "type": "scatter3d",
         "x": [
          "4.2"
         ],
         "y": [
          "11,199"
         ],
         "z": [
          "₹4,000"
         ]
        },
        {
         "hovertemplate": "discounted_price=₹2,339<br>rating=%{x}<br>rating_count=%{y}<br>actual_price=%{z}<extra></extra>",
         "legendgroup": "₹2,339",
         "marker": {
          "color": "#FF97FF",
          "symbol": "circle"
         },
         "mode": "markers",
         "name": "₹2,339",
         "scene": "scene",
         "showlegend": true,
         "type": "scatter3d",
         "x": [
          "3.8"
         ],
         "y": [
          "1,118"
         ],
         "z": [
          "₹4,000"
         ]
        },
        {
         "hovertemplate": "discounted_price=₹784<br>rating=%{x}<br>rating_count=%{y}<br>actual_price=%{z}<extra></extra>",
         "legendgroup": "₹784",
         "marker": {
          "color": "#FECB52",
          "symbol": "circle"
         },
         "mode": "markers",
         "name": "₹784",
         "scene": "scene",
         "showlegend": true,
         "type": "scatter3d",
         "x": [
          "4.5"
         ],
         "y": [
          "11"
         ],
         "z": [
          "₹1,599"
         ]
        },
        {
         "hovertemplate": "discounted_price=₹1,695<br>rating=%{x}<br>rating_count=%{y}<br>actual_price=%{z}<extra></extra>",
         "legendgroup": "₹1,695",
         "marker": {
          "color": "#636efa",
          "symbol": "circle"
         },
         "mode": "markers",
         "name": "₹1,695",
         "scene": "scene",
         "showlegend": true,
         "type": "scatter3d",
         "x": [
          "4.2"
         ],
         "y": [
          "14,290"
         ],
         "z": [
          "₹1,695"
         ]
        },
        {
         "hovertemplate": "discounted_price=₹1,448<br>rating=%{x}<br>rating_count=%{y}<br>actual_price=%{z}<extra></extra>",
         "legendgroup": "₹1,448",
         "marker": {
          "color": "#EF553B",
          "symbol": "circle"
         },
         "mode": "markers",
         "name": "₹1,448",
         "scene": "scene",
         "showlegend": true,
         "type": "scatter3d",
         "x": [
          "4.5"
         ],
         "y": [
          "19"
         ],
         "z": [
          "₹2,999"
         ]
        },
        {
         "hovertemplate": "discounted_price=₹6,990<br>rating=%{x}<br>rating_count=%{y}<br>actual_price=%{z}<extra></extra>",
         "legendgroup": "₹6,990",
         "marker": {
          "color": "#00cc96",
          "symbol": "circle"
         },
         "mode": "markers",
         "name": "₹6,990",
         "scene": "scene",
         "showlegend": true,
         "type": "scatter3d",
         "x": [
          "4.4"
         ],
         "y": [
          "1,771"
         ],
         "z": [
          "₹14,290"
         ]
        },
        {
         "hovertemplate": "discounted_price=₹2,698<br>rating=%{x}<br>rating_count=%{y}<br>actual_price=%{z}<extra></extra>",
         "legendgroup": "₹2,698",
         "marker": {
          "color": "#ab63fa",
          "symbol": "circle"
         },
         "mode": "markers",
         "name": "₹2,698",
         "scene": "scene",
         "showlegend": true,
         "type": "scatter3d",
         "x": [
          "4"
         ],
         "y": [
          "15,034"
         ],
         "z": [
          "₹3,945"
         ]
        },
        {
         "hovertemplate": "discounted_price=₹1,414<br>rating=%{x}<br>rating_count=%{y}<br>actual_price=%{z}<extra></extra>",
         "legendgroup": "₹1,414",
         "marker": {
          "color": "#FFA15A",
          "symbol": "circle"
         },
         "mode": "markers",
         "name": "₹1,414",
         "scene": "scene",
         "showlegend": true,
         "type": "scatter3d",
         "x": [
          "4"
         ],
         "y": [
          "1,498"
         ],
         "z": [
          "₹2,799"
         ]
        },
        {
         "hovertemplate": "discounted_price=₹5,999<br>rating=%{x}<br>rating_count=%{y}<br>actual_price=%{z}<extra></extra>",
         "legendgroup": "₹5,999",
         "marker": {
          "color": "#19d3f3",
          "symbol": "circle"
         },
         "mode": "markers",
         "name": "₹5,999",
         "scene": "scene",
         "showlegend": true,
         "type": "scatter3d",
         "x": [
          "4.2",
          "4.2",
          "4.3"
         ],
         "y": [
          "1,191",
          "170",
          "534"
         ],
         "z": [
          "₹9,999",
          "₹9,999",
          "₹11,495"
         ]
        },
        {
         "hovertemplate": "discounted_price=₹9,970<br>rating=%{x}<br>rating_count=%{y}<br>actual_price=%{z}<extra></extra>",
         "legendgroup": "₹9,970",
         "marker": {
          "color": "#FF6692",
          "symbol": "circle"
         },
         "mode": "markers",
         "name": "₹9,970",
         "scene": "scene",
         "showlegend": true,
         "type": "scatter3d",
         "x": [
          "4.3"
         ],
         "y": [
          "4,049"
         ],
         "z": [
          "₹12,999"
         ]
        },
        {
         "hovertemplate": "discounted_price=₹698<br>rating=%{x}<br>rating_count=%{y}<br>actual_price=%{z}<extra></extra>",
         "legendgroup": "₹698",
         "marker": {
          "color": "#B6E880",
          "symbol": "circle"
         },
         "mode": "markers",
         "name": "₹698",
         "scene": "scene",
         "showlegend": true,
         "type": "scatter3d",
         "x": [
          "4.2"
         ],
         "y": [
          "3,160"
         ],
         "z": [
          "₹699"
         ]
        },
        {
         "hovertemplate": "discounted_price=₹14,400<br>rating=%{x}<br>rating_count=%{y}<br>actual_price=%{z}<extra></extra>",
         "legendgroup": "₹14,400",
         "marker": {
          "color": "#FF97FF",
          "symbol": "circle"
         },
         "mode": "markers",
         "name": "₹14,400",
         "scene": "scene",
         "showlegend": true,
         "type": "scatter3d",
         "x": [
          "4.4"
         ],
         "y": [
          "3,837"
         ],
         "z": [
          "₹59,900"
         ]
        },
        {
         "hovertemplate": "discounted_price=₹664<br>rating=%{x}<br>rating_count=%{y}<br>actual_price=%{z}<extra></extra>",
         "legendgroup": "₹664",
         "marker": {
          "color": "#FECB52",
          "symbol": "circle"
         },
         "mode": "markers",
         "name": "₹664",
         "scene": "scene",
         "showlegend": true,
         "type": "scatter3d",
         "x": [
          "4",
          "4.1"
         ],
         "y": [
          "2,198",
          "925"
         ],
         "z": [
          "₹1,490",
          "₹1,490"
         ]
        },
        {
         "hovertemplate": "discounted_price=₹260<br>rating=%{x}<br>rating_count=%{y}<br>actual_price=%{z}<extra></extra>",
         "legendgroup": "₹260",
         "marker": {
          "color": "#636efa",
          "symbol": "circle"
         },
         "mode": "markers",
         "name": "₹260",
         "scene": "scene",
         "showlegend": true,
         "type": "scatter3d",
         "x": [
          "3.9"
         ],
         "y": [
          "13,127"
         ],
         "z": [
          "₹350"
         ]
        },
        {
         "hovertemplate": "discounted_price=₹1,484<br>rating=%{x}<br>rating_count=%{y}<br>actual_price=%{z}<extra></extra>",
         "legendgroup": "₹1,484",
         "marker": {
          "color": "#EF553B",
          "symbol": "circle"
         },
         "mode": "markers",
         "name": "₹1,484",
         "scene": "scene",
         "showlegend": true,
         "type": "scatter3d",
         "x": [
          "3.7"
         ],
         "y": [
          "1,067"
         ],
         "z": [
          "₹2,499"
         ]
        },
        {
         "hovertemplate": "discounted_price=₹4,280<br>rating=%{x}<br>rating_count=%{y}<br>actual_price=%{z}<extra></extra>",
         "legendgroup": "₹4,280",
         "marker": {
          "color": "#00cc96",
          "symbol": "circle"
         },
         "mode": "markers",
         "name": "₹4,280",
         "scene": "scene",
         "showlegend": true,
         "type": "scatter3d",
         "x": [
          "3.8"
         ],
         "y": [
          "2,112"
         ],
         "z": [
          "₹5,995"
         ]
        },
        {
         "hovertemplate": "discounted_price=₹189<br>rating=%{x}<br>rating_count=%{y}<br>actual_price=%{z}<extra></extra>",
         "legendgroup": "₹189",
         "marker": {
          "color": "#ab63fa",
          "symbol": "circle"
         },
         "mode": "markers",
         "name": "₹189",
         "scene": "scene",
         "showlegend": true,
         "type": "scatter3d",
         "x": [
          "4.2"
         ],
         "y": [
          "2,737"
         ],
         "z": [
          "₹299"
         ]
        },
        {
         "hovertemplate": "discounted_price=₹1,449<br>rating=%{x}<br>rating_count=%{y}<br>actual_price=%{z}<extra></extra>",
         "legendgroup": "₹1,449",
         "marker": {
          "color": "#FFA15A",
          "symbol": "circle"
         },
         "mode": "markers",
         "name": "₹1,449",
         "scene": "scene",
         "showlegend": true,
         "type": "scatter3d",
         "x": [
          "3.9",
          "3.6"
         ],
         "y": [
          "9,019",
          "63"
         ],
         "z": [
          "₹2,349",
          "₹4,999"
         ]
        },
        {
         "hovertemplate": "discounted_price=₹3,657.66<br>rating=%{x}<br>rating_count=%{y}<br>actual_price=%{z}<extra></extra>",
         "legendgroup": "₹3,657.66",
         "marker": {
          "color": "#19d3f3",
          "symbol": "circle"
         },
         "mode": "markers",
         "name": "₹3,657.66",
         "scene": "scene",
         "showlegend": true,
         "type": "scatter3d",
         "x": [
          "3.9"
         ],
         "y": [
          "12,837"
         ],
         "z": [
          "₹5,156"
         ]
        },
        {
         "hovertemplate": "discounted_price=₹1,849<br>rating=%{x}<br>rating_count=%{y}<br>actual_price=%{z}<extra></extra>",
         "legendgroup": "₹1,849",
         "marker": {
          "color": "#FF6692",
          "symbol": "circle"
         },
         "mode": "markers",
         "name": "₹1,849",
         "scene": "scene",
         "showlegend": true,
         "type": "scatter3d",
         "x": [
          "4.3"
         ],
         "y": [
          "7,681"
         ],
         "z": [
          "₹2,095"
         ]
        },
        {
         "hovertemplate": "discounted_price=₹8,199<br>rating=%{x}<br>rating_count=%{y}<br>actual_price=%{z}<extra></extra>",
         "legendgroup": "₹8,199",
         "marker": {
          "color": "#B6E880",
          "symbol": "circle"
         },
         "mode": "markers",
         "name": "₹8,199",
         "scene": "scene",
         "showlegend": true,
         "type": "scatter3d",
         "x": [
          "3.9"
         ],
         "y": [
          "18,497"
         ],
         "z": [
          "₹16,000"
         ]
        },
        {
         "hovertemplate": "discounted_price=₹1,595<br>rating=%{x}<br>rating_count=%{y}<br>actual_price=%{z}<extra></extra>",
         "legendgroup": "₹1,595",
         "marker": {
          "color": "#FF97FF",
          "symbol": "circle"
         },
         "mode": "markers",
         "name": "₹1,595",
         "scene": "scene",
         "showlegend": true,
         "type": "scatter3d",
         "x": [
          "4"
         ],
         "y": [
          "2,877"
         ],
         "z": [
          "₹1,799"
         ]
        },
        {
         "hovertemplate": "discounted_price=₹1,182<br>rating=%{x}<br>rating_count=%{y}<br>actual_price=%{z}<extra></extra>",
         "legendgroup": "₹1,182",
         "marker": {
          "color": "#FECB52",
          "symbol": "circle"
         },
         "mode": "markers",
         "name": "₹1,182",
         "scene": "scene",
         "showlegend": true,
         "type": "scatter3d",
         "x": [
          "4.2"
         ],
         "y": [
          "5,178"
         ],
         "z": [
          "₹2,995"
         ]
        },
        {
         "hovertemplate": "discounted_price=₹1,052<br>rating=%{x}<br>rating_count=%{y}<br>actual_price=%{z}<extra></extra>",
         "legendgroup": "₹1,052",
         "marker": {
          "color": "#636efa",
          "symbol": "circle"
         },
         "mode": "markers",
         "name": "₹1,052",
         "scene": "scene",
         "showlegend": true,
         "type": "scatter3d",
         "x": [
          "4.3"
         ],
         "y": [
          "1,404"
         ],
         "z": [
          "₹1,790"
         ]
        },
        {
         "hovertemplate": "discounted_price=₹1,547<br>rating=%{x}<br>rating_count=%{y}<br>actual_price=%{z}<extra></extra>",
         "legendgroup": "₹1,547",
         "marker": {
          "color": "#EF553B",
          "symbol": "circle"
         },
         "mode": "markers",
         "name": "₹1,547",
         "scene": "scene",
         "showlegend": true,
         "type": "scatter3d",
         "x": [
          "3.9"
         ],
         "y": [
          "463"
         ],
         "z": [
          "₹2,890"
         ]
        },
        {
         "hovertemplate": "discounted_price=₹510<br>rating=%{x}<br>rating_count=%{y}<br>actual_price=%{z}<extra></extra>",
         "legendgroup": "₹510",
         "marker": {
          "color": "#00cc96",
          "symbol": "circle"
         },
         "mode": "markers",
         "name": "₹510",
         "scene": "scene",
         "showlegend": true,
         "type": "scatter3d",
         "x": [
          "4.1"
         ],
         "y": [
          "7,229"
         ],
         "z": [
          "₹640"
         ]
        },
        {
         "hovertemplate": "discounted_price=₹1,899<br>rating=%{x}<br>rating_count=%{y}<br>actual_price=%{z}<extra></extra>",
         "legendgroup": "₹1,899",
         "marker": {
          "color": "#ab63fa",
          "symbol": "circle"
         },
         "mode": "markers",
         "name": "₹1,899",
         "scene": "scene",
         "showlegend": true,
         "type": "scatter3d",
         "x": [
          "3.8"
         ],
         "y": [
          "3,842"
         ],
         "z": [
          "₹3,790"
         ]
        },
        {
         "hovertemplate": "discounted_price=₹14,499<br>rating=%{x}<br>rating_count=%{y}<br>actual_price=%{z}<extra></extra>",
         "legendgroup": "₹14,499",
         "marker": {
          "color": "#FFA15A",
          "symbol": "circle"
         },
         "mode": "markers",
         "name": "₹14,499",
         "scene": "scene",
         "showlegend": true,
         "type": "scatter3d",
         "x": [
          "4.3"
         ],
         "y": [
          "2,026"
         ],
         "z": [
          "₹23,559"
         ]
        },
        {
         "hovertemplate": "discounted_price=₹950<br>rating=%{x}<br>rating_count=%{y}<br>actual_price=%{z}<extra></extra>",
         "legendgroup": "₹950",
         "marker": {
          "color": "#19d3f3",
          "symbol": "circle"
         },
         "mode": "markers",
         "name": "₹950",
         "scene": "scene",
         "showlegend": true,
         "type": "scatter3d",
         "x": [
          "4.3"
         ],
         "y": [
          "5,911"
         ],
         "z": [
          "₹1,599"
         ]
        },
        {
         "hovertemplate": "discounted_price=₹7,199<br>rating=%{x}<br>rating_count=%{y}<br>actual_price=%{z}<extra></extra>",
         "legendgroup": "₹7,199",
         "marker": {
          "color": "#FF6692",
          "symbol": "circle"
         },
         "mode": "markers",
         "name": "₹7,199",
         "scene": "scene",
         "showlegend": true,
         "type": "scatter3d",
         "x": [
          "4.4"
         ],
         "y": [
          "1,964"
         ],
         "z": [
          "₹9,995"
         ]
        },
        {
         "hovertemplate": "discounted_price=₹2,439<br>rating=%{x}<br>rating_count=%{y}<br>actual_price=%{z}<extra></extra>",
         "legendgroup": "₹2,439",
         "marker": {
          "color": "#B6E880",
          "symbol": "circle"
         },
         "mode": "markers",
         "name": "₹2,439",
         "scene": "scene",
         "showlegend": true,
         "type": "scatter3d",
         "x": [
          "4.1"
         ],
         "y": [
          "25"
         ],
         "z": [
          "₹2,545"
         ]
        },
        {
         "hovertemplate": "discounted_price=₹7,799<br>rating=%{x}<br>rating_count=%{y}<br>actual_price=%{z}<extra></extra>",
         "legendgroup": "₹7,799",
         "marker": {
          "color": "#FF97FF",
          "symbol": "circle"
         },
         "mode": "markers",
         "name": "₹7,799",
         "scene": "scene",
         "showlegend": true,
         "type": "scatter3d",
         "x": [
          "4",
          "4"
         ],
         "y": [
          "3,160",
          "5,160"
         ],
         "z": [
          "₹8,995",
          "₹12,500"
         ]
        },
        {
         "hovertemplate": "discounted_price=₹2,899<br>rating=%{x}<br>rating_count=%{y}<br>actual_price=%{z}<extra></extra>",
         "legendgroup": "₹2,899",
         "marker": {
          "color": "#FECB52",
          "symbol": "circle"
         },
         "mode": "markers",
         "name": "₹2,899",
         "scene": "scene",
         "showlegend": true,
         "type": "scatter3d",
         "x": [
          "3.8",
          "4.3"
         ],
         "y": [
          "8,958",
          "7,140"
         ],
         "z": [
          "₹5,500",
          "₹4,005"
         ]
        },
        {
         "hovertemplate": "discounted_price=₹9,799<br>rating=%{x}<br>rating_count=%{y}<br>actual_price=%{z}<extra></extra>",
         "legendgroup": "₹9,799",
         "marker": {
          "color": "#636efa",
          "symbol": "circle"
         },
         "mode": "markers",
         "name": "₹9,799",
         "scene": "scene",
         "showlegend": true,
         "type": "scatter3d",
         "x": [
          "4.3"
         ],
         "y": [
          "13,251"
         ],
         "z": [
          "₹12,150"
         ]
        },
        {
         "hovertemplate": "discounted_price=₹669<br>rating=%{x}<br>rating_count=%{y}<br>actual_price=%{z}<extra></extra>",
         "legendgroup": "₹669",
         "marker": {
          "color": "#EF553B",
          "symbol": "circle"
         },
         "mode": "markers",
         "name": "₹669",
         "scene": "scene",
         "showlegend": true,
         "type": "scatter3d",
         "x": [
          "2.3"
         ],
         "y": [
          "13"
         ],
         "z": [
          "₹1,499"
         ]
        },
        {
         "hovertemplate": "discounted_price=₹5,890<br>rating=%{x}<br>rating_count=%{y}<br>actual_price=%{z}<extra></extra>",
         "legendgroup": "₹5,890",
         "marker": {
          "color": "#00cc96",
          "symbol": "circle"
         },
         "mode": "markers",
         "name": "₹5,890",
         "scene": "scene",
         "showlegend": true,
         "type": "scatter3d",
         "x": [
          "4.5"
         ],
         "y": [
          "7,241"
         ],
         "z": [
          "₹7,506"
         ]
        },
        {
         "hovertemplate": "discounted_price=₹9,199<br>rating=%{x}<br>rating_count=%{y}<br>actual_price=%{z}<extra></extra>",
         "legendgroup": "₹9,199",
         "marker": {
          "color": "#ab63fa",
          "symbol": "circle"
         },
         "mode": "markers",
         "name": "₹9,199",
         "scene": "scene",
         "showlegend": true,
         "type": "scatter3d",
         "x": [
          "4"
         ],
         "y": [
          "16,020"
         ],
         "z": [
          "₹18,000"
         ]
        },
        {
         "hovertemplate": "discounted_price=₹6,236<br>rating=%{x}<br>rating_count=%{y}<br>actual_price=%{z}<extra></extra>",
         "legendgroup": "₹6,236",
         "marker": {
          "color": "#FFA15A",
          "symbol": "circle"
         },
         "mode": "markers",
         "name": "₹6,236",
         "scene": "scene",
         "showlegend": true,
         "type": "scatter3d",
         "x": [
          "4.1"
         ],
         "y": [
          "3,552"
         ],
         "z": [
          "₹9,999"
         ]
        },
        {
         "hovertemplate": "discounted_price=₹2,742<br>rating=%{x}<br>rating_count=%{y}<br>actual_price=%{z}<extra></extra>",
         "legendgroup": "₹2,742",
         "marker": {
          "color": "#19d3f3",
          "symbol": "circle"
         },
         "mode": "markers",
         "name": "₹2,742",
         "scene": "scene",
         "showlegend": true,
         "type": "scatter3d",
         "x": [
          "4.4"
         ],
         "y": [
          "11,148"
         ],
         "z": [
          "₹3,995"
         ]
        },
        {
         "hovertemplate": "discounted_price=₹721<br>rating=%{x}<br>rating_count=%{y}<br>actual_price=%{z}<extra></extra>",
         "legendgroup": "₹721",
         "marker": {
          "color": "#FF6692",
          "symbol": "circle"
         },
         "mode": "markers",
         "name": "₹721",
         "scene": "scene",
         "showlegend": true,
         "type": "scatter3d",
         "x": [
          "3.1"
         ],
         "y": [
          "2,449"
         ],
         "z": [
          "₹1,499"
         ]
        },
        {
         "hovertemplate": "discounted_price=₹2,903<br>rating=%{x}<br>rating_count=%{y}<br>actual_price=%{z}<extra></extra>",
         "legendgroup": "₹2,903",
         "marker": {
          "color": "#B6E880",
          "symbol": "circle"
         },
         "mode": "markers",
         "name": "₹2,903",
         "scene": "scene",
         "showlegend": true,
         "type": "scatter3d",
         "x": [
          "4.3"
         ],
         "y": [
          "2,299"
         ],
         "z": [
          "₹3,295"
         ]
        },
        {
         "hovertemplate": "discounted_price=₹1,656<br>rating=%{x}<br>rating_count=%{y}<br>actual_price=%{z}<extra></extra>",
         "legendgroup": "₹1,656",
         "marker": {
          "color": "#FF97FF",
          "symbol": "circle"
         },
         "mode": "markers",
         "name": "₹1,656",
         "scene": "scene",
         "showlegend": true,
         "type": "scatter3d",
         "x": [
          "4.4"
         ],
         "y": [
          "6,027"
         ],
         "z": [
          "₹2,695"
         ]
        },
        {
         "hovertemplate": "discounted_price=₹2,079<br>rating=%{x}<br>rating_count=%{y}<br>actual_price=%{z}<extra></extra>",
         "legendgroup": "₹2,079",
         "marker": {
          "color": "#FECB52",
          "symbol": "circle"
         },
         "mode": "markers",
         "name": "₹2,079",
         "scene": "scene",
         "showlegend": true,
         "type": "scatter3d",
         "x": [
          "4.1"
         ],
         "y": [
          "282"
         ],
         "z": [
          "₹3,099"
         ]
        },
        {
         "hovertemplate": "discounted_price=₹3,179<br>rating=%{x}<br>rating_count=%{y}<br>actual_price=%{z}<extra></extra>",
         "legendgroup": "₹3,179",
         "marker": {
          "color": "#636efa",
          "symbol": "circle"
         },
         "mode": "markers",
         "name": "₹3,179",
         "scene": "scene",
         "showlegend": true,
         "type": "scatter3d",
         "x": [
          "4"
         ],
         "y": [
          "743"
         ],
         "z": [
          "₹6,999"
         ]
        },
        {
         "hovertemplate": "discounted_price=₹4,799<br>rating=%{x}<br>rating_count=%{y}<br>actual_price=%{z}<extra></extra>",
         "legendgroup": "₹4,799",
         "marker": {
          "color": "#EF553B",
          "symbol": "circle"
         },
         "mode": "markers",
         "name": "₹4,799",
         "scene": "scene",
         "showlegend": true,
         "type": "scatter3d",
         "x": [
          "3.9"
         ],
         "y": [
          "3,815"
         ],
         "z": [
          "₹5,795"
         ]
        },
        {
         "hovertemplate": "discounted_price=₹948<br>rating=%{x}<br>rating_count=%{y}<br>actual_price=%{z}<extra></extra>",
         "legendgroup": "₹948",
         "marker": {
          "color": "#00cc96",
          "symbol": "circle"
         },
         "mode": "markers",
         "name": "₹948",
         "scene": "scene",
         "showlegend": true,
         "type": "scatter3d",
         "x": [
          "4.1"
         ],
         "y": [
          "4,370"
         ],
         "z": [
          "₹1,620"
         ]
        },
        {
         "hovertemplate": "discounted_price=₹850<br>rating=%{x}<br>rating_count=%{y}<br>actual_price=%{z}<extra></extra>",
         "legendgroup": "₹850",
         "marker": {
          "color": "#ab63fa",
          "symbol": "circle"
         },
         "mode": "markers",
         "name": "₹850",
         "scene": "scene",
         "showlegend": true,
         "type": "scatter3d",
         "x": [
          "4.1"
         ],
         "y": [
          "7,619"
         ],
         "z": [
          "₹1,000"
         ]
        },
        {
         "hovertemplate": "discounted_price=₹3,711<br>rating=%{x}<br>rating_count=%{y}<br>actual_price=%{z}<extra></extra>",
         "legendgroup": "₹3,711",
         "marker": {
          "color": "#FFA15A",
          "symbol": "circle"
         },
         "mode": "markers",
         "name": "₹3,711",
         "scene": "scene",
         "showlegend": true,
         "type": "scatter3d",
         "x": [
          "4.3"
         ],
         "y": [
          "356"
         ],
         "z": [
          "₹4,495"
         ]
        },
        {
         "hovertemplate": "discounted_price=₹980<br>rating=%{x}<br>rating_count=%{y}<br>actual_price=%{z}<extra></extra>",
         "legendgroup": "₹980",
         "marker": {
          "color": "#19d3f3",
          "symbol": "circle"
         },
         "mode": "markers",
         "name": "₹980",
         "scene": "scene",
         "showlegend": true,
         "type": "scatter3d",
         "x": [
          "4.2"
         ],
         "y": [
          "4,740"
         ],
         "z": [
          "₹980"
         ]
        },
        {
         "hovertemplate": "discounted_price=₹3,349<br>rating=%{x}<br>rating_count=%{y}<br>actual_price=%{z}<extra></extra>",
         "legendgroup": "₹3,349",
         "marker": {
          "color": "#FF6692",
          "symbol": "circle"
         },
         "mode": "markers",
         "name": "₹3,349",
         "scene": "scene",
         "showlegend": true,
         "type": "scatter3d",
         "x": [
          "4.3",
          "3.7"
         ],
         "y": [
          "1,954",
          "4,200"
         ],
         "z": [
          "₹3,995",
          "₹4,799"
         ]
        },
        {
         "hovertemplate": "discounted_price=₹2,249<br>rating=%{x}<br>rating_count=%{y}<br>actual_price=%{z}<extra></extra>",
         "legendgroup": "₹2,249",
         "marker": {
          "color": "#B6E880",
          "symbol": "circle"
         },
         "mode": "markers",
         "name": "₹2,249",
         "scene": "scene",
         "showlegend": true,
         "type": "scatter3d",
         "x": [
          "4"
         ],
         "y": [
          "3,973"
         ],
         "z": [
          "₹3,550"
         ]
        },
        {
         "hovertemplate": "discounted_price=₹1,235<br>rating=%{x}<br>rating_count=%{y}<br>actual_price=%{z}<extra></extra>",
         "legendgroup": "₹1,235",
         "marker": {
          "color": "#FF97FF",
          "symbol": "circle"
         },
         "mode": "markers",
         "name": "₹1,235",
         "scene": "scene",
         "showlegend": true,
         "type": "scatter3d",
         "x": [
          "4.1"
         ],
         "y": [
          "203"
         ],
         "z": [
          "₹1,499"
         ]
        },
        {
         "hovertemplate": "discounted_price=₹6,800<br>rating=%{x}<br>rating_count=%{y}<br>actual_price=%{z}<extra></extra>",
         "legendgroup": "₹6,800",
         "marker": {
          "color": "#FECB52",
          "symbol": "circle"
         },
         "mode": "markers",
         "name": "₹6,800",
         "scene": "scene",
         "showlegend": true,
         "type": "scatter3d",
         "x": [
          "4.1"
         ],
         "y": [
          "10,308"
         ],
         "z": [
          "₹11,500"
         ]
        },
        {
         "hovertemplate": "discounted_price=₹1,069<br>rating=%{x}<br>rating_count=%{y}<br>actual_price=%{z}<extra></extra>",
         "legendgroup": "₹1,069",
         "marker": {
          "color": "#636efa",
          "symbol": "circle"
         },
         "mode": "markers",
         "name": "₹1,069",
         "scene": "scene",
         "showlegend": true,
         "type": "scatter3d",
         "x": [
          "3.9"
         ],
         "y": [
          "313"
         ],
         "z": [
          "₹1,699"
         ]
        },
        {
         "hovertemplate": "discounted_price=₹2,092<br>rating=%{x}<br>rating_count=%{y}<br>actual_price=%{z}<extra></extra>",
         "legendgroup": "₹2,092",
         "marker": {
          "color": "#EF553B",
          "symbol": "circle"
         },
         "mode": "markers",
         "name": "₹2,092",
         "scene": "scene",
         "showlegend": true,
         "type": "scatter3d",
         "x": [
          "4.3"
         ],
         "y": [
          "562"
         ],
         "z": [
          "₹4,600"
         ]
        },
        {
         "hovertemplate": "discounted_price=₹3,859<br>rating=%{x}<br>rating_count=%{y}<br>actual_price=%{z}<extra></extra>",
         "legendgroup": "₹3,859",
         "marker": {
          "color": "#00cc96",
          "symbol": "circle"
         },
         "mode": "markers",
         "name": "₹3,859",
         "scene": "scene",
         "showlegend": true,
         "type": "scatter3d",
         "x": [
          "3.9"
         ],
         "y": [
          "8,095"
         ],
         "z": [
          "₹10,295"
         ]
        },
        {
         "hovertemplate": "discounted_price=₹1,804<br>rating=%{x}<br>rating_count=%{y}<br>actual_price=%{z}<extra></extra>",
         "legendgroup": "₹1,804",
         "marker": {
          "color": "#ab63fa",
          "symbol": "circle"
         },
         "mode": "markers",
         "name": "₹1,804",
         "scene": "scene",
         "showlegend": true,
         "type": "scatter3d",
         "x": [
          "4"
         ],
         "y": [
          "15,382"
         ],
         "z": [
          "₹2,380"
         ]
        },
        {
         "hovertemplate": "discounted_price=₹6,525<br>rating=%{x}<br>rating_count=%{y}<br>actual_price=%{z}<extra></extra>",
         "legendgroup": "₹6,525",
         "marker": {
          "color": "#FFA15A",
          "symbol": "circle"
         },
         "mode": "markers",
         "name": "₹6,525",
         "scene": "scene",
         "showlegend": true,
         "type": "scatter3d",
         "x": [
          "4.5"
         ],
         "y": [
          "5,137"
         ],
         "z": [
          "₹8,820"
         ]
        },
        {
         "hovertemplate": "discounted_price=₹1,189<br>rating=%{x}<br>rating_count=%{y}<br>actual_price=%{z}<extra></extra>",
         "legendgroup": "₹1,189",
         "marker": {
          "color": "#19d3f3",
          "symbol": "circle"
         },
         "mode": "markers",
         "name": "₹1,189",
         "scene": "scene",
         "showlegend": true,
         "type": "scatter3d",
         "x": [
          "4.1"
         ],
         "y": [
          "618"
         ],
         "z": [
          "₹2,400"
         ]
        },
        {
         "hovertemplate": "discounted_price=₹2,590<br>rating=%{x}<br>rating_count=%{y}<br>actual_price=%{z}<extra></extra>",
         "legendgroup": "₹2,590",
         "marker": {
          "color": "#FF6692",
          "symbol": "circle"
         },
         "mode": "markers",
         "name": "₹2,590",
         "scene": "scene",
         "showlegend": true,
         "type": "scatter3d",
         "x": [
          "4.1"
         ],
         "y": [
          "63"
         ],
         "z": [
          "₹4,200"
         ]
        },
        {
         "hovertemplate": "discounted_price=₹998<br>rating=%{x}<br>rating_count=%{y}<br>actual_price=%{z}<extra></extra>",
         "legendgroup": "₹998",
         "marker": {
          "color": "#B6E880",
          "symbol": "circle"
         },
         "mode": "markers",
         "name": "₹998",
         "scene": "scene",
         "showlegend": true,
         "type": "scatter3d",
         "x": [
          "4.6"
         ],
         "y": [
          "9"
         ],
         "z": [
          "₹2,999"
         ]
        },
        {
         "hovertemplate": "discounted_price=₹998.06<br>rating=%{x}<br>rating_count=%{y}<br>actual_price=%{z}<extra></extra>",
         "legendgroup": "₹998.06",
         "marker": {
          "color": "#FF97FF",
          "symbol": "circle"
         },
         "mode": "markers",
         "name": "₹998.06",
         "scene": "scene",
         "showlegend": true,
         "type": "scatter3d",
         "x": [
          "4.2"
         ],
         "y": [
          "7,274"
         ],
         "z": [
          "₹1,282"
         ]
        },
        {
         "hovertemplate": "discounted_price=₹8,886<br>rating=%{x}<br>rating_count=%{y}<br>actual_price=%{z}<extra></extra>",
         "legendgroup": "₹8,886",
         "marker": {
          "color": "#FECB52",
          "symbol": "circle"
         },
         "mode": "markers",
         "name": "₹8,886",
         "scene": "scene",
         "showlegend": true,
         "type": "scatter3d",
         "x": [
          "4.2"
         ],
         "y": [
          "3,065"
         ],
         "z": [
          "₹11,850"
         ]
        },
        {
         "hovertemplate": "discounted_price=₹4,995<br>rating=%{x}<br>rating_count=%{y}<br>actual_price=%{z}<extra></extra>",
         "legendgroup": "₹4,995",
         "marker": {
          "color": "#636efa",
          "symbol": "circle"
         },
         "mode": "markers",
         "name": "₹4,995",
         "scene": "scene",
         "showlegend": true,
         "type": "scatter3d",
         "x": [
          "4.8"
         ],
         "y": [
          "3,964"
         ],
         "z": [
          "₹20,049"
         ]
        },
        {
         "hovertemplate": "discounted_price=₹395<br>rating=%{x}<br>rating_count=%{y}<br>actual_price=%{z}<extra></extra>",
         "legendgroup": "₹395",
         "marker": {
          "color": "#EF553B",
          "symbol": "circle"
         },
         "mode": "markers",
         "name": "₹395",
         "scene": "scene",
         "showlegend": true,
         "type": "scatter3d",
         "x": [
          "4"
         ],
         "y": [
          "330"
         ],
         "z": [
          "₹499"
         ]
        },
        {
         "hovertemplate": "discounted_price=₹635<br>rating=%{x}<br>rating_count=%{y}<br>actual_price=%{z}<extra></extra>",
         "legendgroup": "₹635",
         "marker": {
          "color": "#00cc96",
          "symbol": "circle"
         },
         "mode": "markers",
         "name": "₹635",
         "scene": "scene",
         "showlegend": true,
         "type": "scatter3d",
         "x": [
          "4.3"
         ],
         "y": [
          "4,570"
         ],
         "z": [
          "₹635"
         ]
        },
        {
         "hovertemplate": "discounted_price=₹27,900<br>rating=%{x}<br>rating_count=%{y}<br>actual_price=%{z}<extra></extra>",
         "legendgroup": "₹27,900",
         "marker": {
          "color": "#ab63fa",
          "symbol": "circle"
         },
         "mode": "markers",
         "name": "₹27,900",
         "scene": "scene",
         "showlegend": true,
         "type": "scatter3d",
         "x": [
          "4.4"
         ],
         "y": [
          "5,298"
         ],
         "z": [
          "₹59,900"
         ]
        },
        {
         "hovertemplate": "discounted_price=₹193<br>rating=%{x}<br>rating_count=%{y}<br>actual_price=%{z}<extra></extra>",
         "legendgroup": "₹193",
         "marker": {
          "color": "#FFA15A",
          "symbol": "circle"
         },
         "mode": "markers",
         "name": "₹193",
         "scene": "scene",
         "showlegend": true,
         "type": "scatter3d",
         "x": [
          "3.6"
         ],
         "y": [
          "37"
         ],
         "z": [
          "₹399"
         ]
        },
        {
         "hovertemplate": "discounted_price=₹2,449<br>rating=%{x}<br>rating_count=%{y}<br>actual_price=%{z}<extra></extra>",
         "legendgroup": "₹2,449",
         "marker": {
          "color": "#19d3f3",
          "symbol": "circle"
         },
         "mode": "markers",
         "name": "₹2,449",
         "scene": "scene",
         "showlegend": true,
         "type": "scatter3d",
         "x": [
          "4"
         ],
         "y": [
          "5,206"
         ],
         "z": [
          "₹3,390"
         ]
        },
        {
         "hovertemplate": "discounted_price=₹2,286<br>rating=%{x}<br>rating_count=%{y}<br>actual_price=%{z}<extra></extra>",
         "legendgroup": "₹2,286",
         "marker": {
          "color": "#FF6692",
          "symbol": "circle"
         },
         "mode": "markers",
         "name": "₹2,286",
         "scene": "scene",
         "showlegend": true,
         "type": "scatter3d",
         "x": [
          "3.9"
         ],
         "y": [
          "326"
         ],
         "z": [
          "₹4,495"
         ]
        },
        {
         "hovertemplate": "discounted_price=₹5,395<br>rating=%{x}<br>rating_count=%{y}<br>actual_price=%{z}<extra></extra>",
         "legendgroup": "₹5,395",
         "marker": {
          "color": "#B6E880",
          "symbol": "circle"
         },
         "mode": "markers",
         "name": "₹5,395",
         "scene": "scene",
         "showlegend": true,
         "type": "scatter3d",
         "x": [
          "4.4"
         ],
         "y": [
          "535"
         ],
         "z": [
          "₹19,990"
         ]
        },
        {
         "hovertemplate": "discounted_price=₹559<br>rating=%{x}<br>rating_count=%{y}<br>actual_price=%{z}<extra></extra>",
         "legendgroup": "₹559",
         "marker": {
          "color": "#FF97FF",
          "symbol": "circle"
         },
         "mode": "markers",
         "name": "₹559",
         "scene": "scene",
         "showlegend": true,
         "type": "scatter3d",
         "x": [
          "4.1"
         ],
         "y": [
          "17,325"
         ],
         "z": [
          "₹1,010"
         ]
        },
        {
         "hovertemplate": "discounted_price=₹660<br>rating=%{x}<br>rating_count=%{y}<br>actual_price=%{z}<extra></extra>",
         "legendgroup": "₹660",
         "marker": {
          "color": "#FECB52",
          "symbol": "circle"
         },
         "mode": "markers",
         "name": "₹660",
         "scene": "scene",
         "showlegend": true,
         "type": "scatter3d",
         "x": [
          "3.6"
         ],
         "y": [
          "91"
         ],
         "z": [
          "₹1,100"
         ]
        },
        {
         "hovertemplate": "discounted_price=₹419<br>rating=%{x}<br>rating_count=%{y}<br>actual_price=%{z}<extra></extra>",
         "legendgroup": "₹419",
         "marker": {
          "color": "#636efa",
          "symbol": "circle"
         },
         "mode": "markers",
         "name": "₹419",
         "scene": "scene",
         "showlegend": true,
         "type": "scatter3d",
         "x": [
          "4.4"
         ],
         "y": [
          "227"
         ],
         "z": [
          "₹999"
         ]
        },
        {
         "hovertemplate": "discounted_price=₹7,349<br>rating=%{x}<br>rating_count=%{y}<br>actual_price=%{z}<extra></extra>",
         "legendgroup": "₹7,349",
         "marker": {
          "color": "#EF553B",
          "symbol": "circle"
         },
         "mode": "markers",
         "name": "₹7,349",
         "scene": "scene",
         "showlegend": true,
         "type": "scatter3d",
         "x": [
          "4.2"
         ],
         "y": [
          "11,957"
         ],
         "z": [
          "₹10,900"
         ]
        },
        {
         "hovertemplate": "discounted_price=₹1,474<br>rating=%{x}<br>rating_count=%{y}<br>actual_price=%{z}<extra></extra>",
         "legendgroup": "₹1,474",
         "marker": {
          "color": "#00cc96",
          "symbol": "circle"
         },
         "mode": "markers",
         "name": "₹1,474",
         "scene": "scene",
         "showlegend": true,
         "type": "scatter3d",
         "x": [
          "4.1"
         ],
         "y": [
          "1,045"
         ],
         "z": [
          "₹4,650"
         ]
        },
        {
         "hovertemplate": "discounted_price=₹3,645<br>rating=%{x}<br>rating_count=%{y}<br>actual_price=%{z}<extra></extra>",
         "legendgroup": "₹3,645",
         "marker": {
          "color": "#ab63fa",
          "symbol": "circle"
         },
         "mode": "markers",
         "name": "₹3,645",
         "scene": "scene",
         "showlegend": true,
         "type": "scatter3d",
         "x": [
          "4.2"
         ],
         "y": [
          "561"
         ],
         "z": [
          "₹6,070"
         ]
        },
        {
         "hovertemplate": "discounted_price=₹375<br>rating=%{x}<br>rating_count=%{y}<br>actual_price=%{z}<extra></extra>",
         "legendgroup": "₹375",
         "marker": {
          "color": "#FFA15A",
          "symbol": "circle"
         },
         "mode": "markers",
         "name": "₹375",
         "scene": "scene",
         "showlegend": true,
         "type": "scatter3d",
         "x": [
          "3.6"
         ],
         "y": [
          "1,988"
         ],
         "z": [
          "₹999"
         ]
        },
        {
         "hovertemplate": "discounted_price=₹2,976<br>rating=%{x}<br>rating_count=%{y}<br>actual_price=%{z}<extra></extra>",
         "legendgroup": "₹2,976",
         "marker": {
          "color": "#19d3f3",
          "symbol": "circle"
         },
         "mode": "markers",
         "name": "₹2,976",
         "scene": "scene",
         "showlegend": true,
         "type": "scatter3d",
         "x": [
          "4.2"
         ],
         "y": [
          "3,740"
         ],
         "z": [
          "₹3,945"
         ]
        },
        {
         "hovertemplate": "discounted_price=₹2,575<br>rating=%{x}<br>rating_count=%{y}<br>actual_price=%{z}<extra></extra>",
         "legendgroup": "₹2,575",
         "marker": {
          "color": "#FF6692",
          "symbol": "circle"
         },
         "mode": "markers",
         "name": "₹2,575",
         "scene": "scene",
         "showlegend": true,
         "type": "scatter3d",
         "x": [
          "4.2"
         ],
         "y": [
          "611"
         ],
         "z": [
          "₹6,700"
         ]
        },
        {
         "hovertemplate": "discounted_price=₹1,649<br>rating=%{x}<br>rating_count=%{y}<br>actual_price=%{z}<extra></extra>",
         "legendgroup": "₹1,649",
         "marker": {
          "color": "#B6E880",
          "symbol": "circle"
         },
         "mode": "markers",
         "name": "₹1,649",
         "scene": "scene",
         "showlegend": true,
         "type": "scatter3d",
         "x": [
          "3.9"
         ],
         "y": [
          "2,162"
         ],
         "z": [
          "₹2,800"
         ]
        },
        {
         "hovertemplate": "discounted_price=₹765<br>rating=%{x}<br>rating_count=%{y}<br>actual_price=%{z}<extra></extra>",
         "legendgroup": "₹765",
         "marker": {
          "color": "#FF97FF",
          "symbol": "circle"
         },
         "mode": "markers",
         "name": "₹765",
         "scene": "scene",
         "showlegend": true,
         "type": "scatter3d",
         "x": [
          "4.2"
         ],
         "y": [
          "6,055"
         ],
         "z": [
          "₹970"
         ]
        },
        {
         "hovertemplate": "discounted_price=₹587<br>rating=%{x}<br>rating_count=%{y}<br>actual_price=%{z}<extra></extra>",
         "legendgroup": "₹587",
         "marker": {
          "color": "#FECB52",
          "symbol": "circle"
         },
         "mode": "markers",
         "name": "₹587",
         "scene": "scene",
         "showlegend": true,
         "type": "scatter3d",
         "x": [
          "4.1"
         ],
         "y": [
          "557"
         ],
         "z": [
          "₹1,295"
         ]
        },
        {
         "hovertemplate": "discounted_price=₹12,609<br>rating=%{x}<br>rating_count=%{y}<br>actual_price=%{z}<extra></extra>",
         "legendgroup": "₹12,609",
         "marker": {
          "color": "#636efa",
          "symbol": "circle"
         },
         "mode": "markers",
         "name": "₹12,609",
         "scene": "scene",
         "showlegend": true,
         "type": "scatter3d",
         "x": [
          "4.4"
         ],
         "y": [
          "2,288"
         ],
         "z": [
          "₹23,999"
         ]
        },
        {
         "hovertemplate": "discounted_price=₹640<br>rating=%{x}<br>rating_count=%{y}<br>actual_price=%{z}<extra></extra>",
         "legendgroup": "₹640",
         "marker": {
          "color": "#EF553B",
          "symbol": "circle"
         },
         "mode": "markers",
         "name": "₹640",
         "scene": "scene",
         "showlegend": true,
         "type": "scatter3d",
         "x": [
          "4.1"
         ],
         "y": [
          "5,059"
         ],
         "z": [
          "₹1,020"
         ]
        },
        {
         "hovertemplate": "discounted_price=₹979<br>rating=%{x}<br>rating_count=%{y}<br>actual_price=%{z}<extra></extra>",
         "legendgroup": "₹979",
         "marker": {
          "color": "#00cc96",
          "symbol": "circle"
         },
         "mode": "markers",
         "name": "₹979",
         "scene": "scene",
         "showlegend": true,
         "type": "scatter3d",
         "x": [
          "3.9",
          "4.2"
         ],
         "y": [
          "157",
          "15,252"
         ],
         "z": [
          "₹1,999",
          "₹1,395"
         ]
        },
        {
         "hovertemplate": "discounted_price=₹5,365<br>rating=%{x}<br>rating_count=%{y}<br>actual_price=%{z}<extra></extra>",
         "legendgroup": "₹5,365",
         "marker": {
          "color": "#ab63fa",
          "symbol": "circle"
         },
         "mode": "markers",
         "name": "₹5,365",
         "scene": "scene",
         "showlegend": true,
         "type": "scatter3d",
         "x": [
          "3.9"
         ],
         "y": [
          "3,584"
         ],
         "z": [
          "₹7,445"
         ]
        },
        {
         "hovertemplate": "discounted_price=₹929<br>rating=%{x}<br>rating_count=%{y}<br>actual_price=%{z}<extra></extra>",
         "legendgroup": "₹929",
         "marker": {
          "color": "#FFA15A",
          "symbol": "circle"
         },
         "mode": "markers",
         "name": "₹929",
         "scene": "scene",
         "showlegend": true,
         "type": "scatter3d",
         "x": [
          "3.7",
          "3.9"
         ],
         "y": [
          "4",
          "1,672"
         ],
         "z": [
          "₹2,199",
          "₹1,300"
         ]
        },
        {
         "hovertemplate": "discounted_price=₹3,710<br>rating=%{x}<br>rating_count=%{y}<br>actual_price=%{z}<extra></extra>",
         "legendgroup": "₹3,710",
         "marker": {
          "color": "#19d3f3",
          "symbol": "circle"
         },
         "mode": "markers",
         "name": "₹3,710",
         "scene": "scene",
         "showlegend": true,
         "type": "scatter3d",
         "x": [
          "3.7"
         ],
         "y": [
          "1,662"
         ],
         "z": [
          "₹4,330"
         ]
        },
        {
         "hovertemplate": "discounted_price=₹2,033<br>rating=%{x}<br>rating_count=%{y}<br>actual_price=%{z}<extra></extra>",
         "legendgroup": "₹2,033",
         "marker": {
          "color": "#FF6692",
          "symbol": "circle"
         },
         "mode": "markers",
         "name": "₹2,033",
         "scene": "scene",
         "showlegend": true,
         "type": "scatter3d",
         "x": [
          "3.4"
         ],
         "y": [
          "422"
         ],
         "z": [
          "₹4,295"
         ]
        },
        {
         "hovertemplate": "discounted_price=₹9,495<br>rating=%{x}<br>rating_count=%{y}<br>actual_price=%{z}<extra></extra>",
         "legendgroup": "₹9,495",
         "marker": {
          "color": "#B6E880",
          "symbol": "circle"
         },
         "mode": "markers",
         "name": "₹9,495",
         "scene": "scene",
         "showlegend": true,
         "type": "scatter3d",
         "x": [
          "4.2"
         ],
         "y": [
          "79"
         ],
         "z": [
          "₹18,990"
         ]
        },
        {
         "hovertemplate": "discounted_price=₹2,790<br>rating=%{x}<br>rating_count=%{y}<br>actual_price=%{z}<extra></extra>",
         "legendgroup": "₹2,790",
         "marker": {
          "color": "#FF97FF",
          "symbol": "circle"
         },
         "mode": "markers",
         "name": "₹2,790",
         "scene": "scene",
         "showlegend": true,
         "type": "scatter3d",
         "x": [
          "3.9"
         ],
         "y": [
          "588"
         ],
         "z": [
          "₹4,890"
         ]
        },
        {
         "hovertemplate": "discounted_price=₹645<br>rating=%{x}<br>rating_count=%{y}<br>actual_price=%{z}<extra></extra>",
         "legendgroup": "₹645",
         "marker": {
          "color": "#FECB52",
          "symbol": "circle"
         },
         "mode": "markers",
         "name": "₹645",
         "scene": "scene",
         "showlegend": true,
         "type": "scatter3d",
         "x": [
          "4"
         ],
         "y": [
          "3,271"
         ],
         "z": [
          "₹1,100"
         ]
        },
        {
         "hovertemplate": "discounted_price=₹2,237.81<br>rating=%{x}<br>rating_count=%{y}<br>actual_price=%{z}<extra></extra>",
         "legendgroup": "₹2,237.81",
         "marker": {
          "color": "#636efa",
          "symbol": "circle"
         },
         "mode": "markers",
         "name": "₹2,237.81",
         "scene": "scene",
         "showlegend": true,
         "type": "scatter3d",
         "x": [
          "3.9"
         ],
         "y": [
          "11,004"
         ],
         "z": [
          "₹3,899"
         ]
        },
        {
         "hovertemplate": "discounted_price=₹8,699<br>rating=%{x}<br>rating_count=%{y}<br>actual_price=%{z}<extra></extra>",
         "legendgroup": "₹8,699",
         "marker": {
          "color": "#EF553B",
          "symbol": "circle"
         },
         "mode": "markers",
         "name": "₹8,699",
         "scene": "scene",
         "showlegend": true,
         "type": "scatter3d",
         "x": [
          "4.2",
          "4.3"
         ],
         "y": [
          "3,195",
          "5,891"
         ],
         "z": [
          "₹16,899",
          "₹13,049"
         ]
        },
        {
         "hovertemplate": "discounted_price=₹42,990<br>rating=%{x}<br>rating_count=%{y}<br>actual_price=%{z}<extra></extra>",
         "legendgroup": "₹42,990",
         "marker": {
          "color": "#00cc96",
          "symbol": "circle"
         },
         "mode": "markers",
         "name": "₹42,990",
         "scene": "scene",
         "showlegend": true,
         "type": "scatter3d",
         "x": [
          "4.3"
         ],
         "y": [
          "3,231"
         ],
         "z": [
          "₹75,990"
         ]
        },
        {
         "hovertemplate": "discounted_price=₹825<br>rating=%{x}<br>rating_count=%{y}<br>actual_price=%{z}<extra></extra>",
         "legendgroup": "₹825",
         "marker": {
          "color": "#ab63fa",
          "symbol": "circle"
         },
         "mode": "markers",
         "name": "₹825",
         "scene": "scene",
         "showlegend": true,
         "type": "scatter3d",
         "x": [
          "4"
         ],
         "y": [
          "3,246"
         ],
         "z": [
          "₹825"
         ]
        },
        {
         "hovertemplate": "discounted_price=₹161<br>rating=%{x}<br>rating_count=%{y}<br>actual_price=%{z}<extra></extra>",
         "legendgroup": "₹161",
         "marker": {
          "color": "#FFA15A",
          "symbol": "circle"
         },
         "mode": "markers",
         "name": "₹161",
         "scene": "scene",
         "showlegend": true,
         "type": "scatter3d",
         "x": [
          "2.6"
         ],
         "y": [
          "24"
         ],
         "z": [
          "₹300"
         ]
        },
        {
         "hovertemplate": "discounted_price=₹697<br>rating=%{x}<br>rating_count=%{y}<br>actual_price=%{z}<extra></extra>",
         "legendgroup": "₹697",
         "marker": {
          "color": "#19d3f3",
          "symbol": "circle"
         },
         "mode": "markers",
         "name": "₹697",
         "scene": "scene",
         "showlegend": true,
         "type": "scatter3d",
         "x": [
          "3.8"
         ],
         "y": [
          "144"
         ],
         "z": [
          "₹1,499"
         ]
        },
        {
         "hovertemplate": "discounted_price=₹688<br>rating=%{x}<br>rating_count=%{y}<br>actual_price=%{z}<extra></extra>",
         "legendgroup": "₹688",
         "marker": {
          "color": "#FF6692",
          "symbol": "circle"
         },
         "mode": "markers",
         "name": "₹688",
         "scene": "scene",
         "showlegend": true,
         "type": "scatter3d",
         "x": [
          "4.5"
         ],
         "y": [
          "2,280"
         ],
         "z": [
          "₹747"
         ]
        },
        {
         "hovertemplate": "discounted_price=₹6,850<br>rating=%{x}<br>rating_count=%{y}<br>actual_price=%{z}<extra></extra>",
         "legendgroup": "₹6,850",
         "marker": {
          "color": "#B6E880",
          "symbol": "circle"
         },
         "mode": "markers",
         "name": "₹6,850",
         "scene": "scene",
         "showlegend": true,
         "type": "scatter3d",
         "x": [
          "3.9"
         ],
         "y": [
          "144"
         ],
         "z": [
          "₹11,990"
         ]
        },
        {
         "hovertemplate": "discounted_price=₹1,090<br>rating=%{x}<br>rating_count=%{y}<br>actual_price=%{z}<extra></extra>",
         "legendgroup": "₹1,090",
         "marker": {
          "color": "#FF97FF",
          "symbol": "circle"
         },
         "mode": "markers",
         "name": "₹1,090",
         "scene": "scene",
         "showlegend": true,
         "type": "scatter3d",
         "x": [
          "3.5"
         ],
         "y": [
          "57"
         ],
         "z": [
          "₹2,999"
         ]
        },
        {
         "hovertemplate": "discounted_price=₹295<br>rating=%{x}<br>rating_count=%{y}<br>actual_price=%{z}<extra></extra>",
         "legendgroup": "₹295",
         "marker": {
          "color": "#FECB52",
          "symbol": "circle"
         },
         "mode": "markers",
         "name": "₹295",
         "scene": "scene",
         "showlegend": true,
         "type": "scatter3d",
         "x": [
          "4"
         ],
         "y": [
          "1,644"
         ],
         "z": [
          "₹599"
         ]
        },
        {
         "hovertemplate": "discounted_price=₹2,949<br>rating=%{x}<br>rating_count=%{y}<br>actual_price=%{z}<extra></extra>",
         "legendgroup": "₹2,949",
         "marker": {
          "color": "#636efa",
          "symbol": "circle"
         },
         "mode": "markers",
         "name": "₹2,949",
         "scene": "scene",
         "showlegend": true,
         "type": "scatter3d",
         "x": [
          "4.2"
         ],
         "y": [
          "7,968"
         ],
         "z": [
          "₹4,849"
         ]
        },
        {
         "hovertemplate": "discounted_price=₹335<br>rating=%{x}<br>rating_count=%{y}<br>actual_price=%{z}<extra></extra>",
         "legendgroup": "₹335",
         "marker": {
          "color": "#EF553B",
          "symbol": "circle"
         },
         "mode": "markers",
         "name": "₹335",
         "scene": "scene",
         "showlegend": true,
         "type": "scatter3d",
         "x": [
          "3.8"
         ],
         "y": [
          "3,195"
         ],
         "z": [
          "₹510"
         ]
        },
        {
         "hovertemplate": "discounted_price=₹778<br>rating=%{x}<br>rating_count=%{y}<br>actual_price=%{z}<extra></extra>",
         "legendgroup": "₹778",
         "marker": {
          "color": "#00cc96",
          "symbol": "circle"
         },
         "mode": "markers",
         "name": "₹778",
         "scene": "scene",
         "showlegend": true,
         "type": "scatter3d",
         "x": [
          "3.3"
         ],
         "y": [
          "8"
         ],
         "z": [
          "₹999"
         ]
        },
        {
         "hovertemplate": "discounted_price=₹1,190<br>rating=%{x}<br>rating_count=%{y}<br>actual_price=%{z}<extra></extra>",
         "legendgroup": "₹1,190",
         "marker": {
          "color": "#ab63fa",
          "symbol": "circle"
         },
         "mode": "markers",
         "name": "₹1,190",
         "scene": "scene",
         "showlegend": true,
         "type": "scatter3d",
         "x": [
          "3.8"
         ],
         "y": [
          "1,181"
         ],
         "z": [
          "₹2,550"
         ]
        },
        {
         "hovertemplate": "discounted_price=₹6,120<br>rating=%{x}<br>rating_count=%{y}<br>actual_price=%{z}<extra></extra>",
         "legendgroup": "₹6,120",
         "marker": {
          "color": "#FFA15A",
          "symbol": "circle"
         },
         "mode": "markers",
         "name": "₹6,120",
         "scene": "scene",
         "showlegend": true,
         "type": "scatter3d",
         "x": [
          "4.6",
          "4.6"
         ],
         "y": [
          "6,550",
          "2,751"
         ],
         "z": [
          "₹8,478",
          "₹8,073"
         ]
        },
        {
         "hovertemplate": "discounted_price=₹3,685<br>rating=%{x}<br>rating_count=%{y}<br>actual_price=%{z}<extra></extra>",
         "legendgroup": "₹3,685",
         "marker": {
          "color": "#19d3f3",
          "symbol": "circle"
         },
         "mode": "markers",
         "name": "₹3,685",
         "scene": "scene",
         "showlegend": true,
         "type": "scatter3d",
         "x": [
          "4.1"
         ],
         "y": [
          "290"
         ],
         "z": [
          "₹5,495"
         ]
        },
        {
         "hovertemplate": "discounted_price=₹8,599<br>rating=%{x}<br>rating_count=%{y}<br>actual_price=%{z}<extra></extra>",
         "legendgroup": "₹8,599",
         "marker": {
          "color": "#FF6692",
          "symbol": "circle"
         },
         "mode": "markers",
         "name": "₹8,599",
         "scene": "scene",
         "showlegend": true,
         "type": "scatter3d",
         "x": [
          "4.4"
         ],
         "y": [
          "9,734"
         ],
         "z": [
          "₹8,995"
         ]
        },
        {
         "hovertemplate": "discounted_price=₹1,110<br>rating=%{x}<br>rating_count=%{y}<br>actual_price=%{z}<extra></extra>",
         "legendgroup": "₹1,110",
         "marker": {
          "color": "#B6E880",
          "symbol": "circle"
         },
         "mode": "markers",
         "name": "₹1,110",
         "scene": "scene",
         "showlegend": true,
         "type": "scatter3d",
         "x": [
          "4.3"
         ],
         "y": [
          "4,022"
         ],
         "z": [
          "₹1,599"
         ]
        },
        {
         "hovertemplate": "discounted_price=₹759<br>rating=%{x}<br>rating_count=%{y}<br>actual_price=%{z}<extra></extra>",
         "legendgroup": "₹759",
         "marker": {
          "color": "#FF97FF",
          "symbol": "circle"
         },
         "mode": "markers",
         "name": "₹759",
         "scene": "scene",
         "showlegend": true,
         "type": "scatter3d",
         "x": [
          "4.3"
         ],
         "y": [
          "532"
         ],
         "z": [
          "₹1,999"
         ]
        },
        {
         "hovertemplate": "discounted_price=₹2,669<br>rating=%{x}<br>rating_count=%{y}<br>actual_price=%{z}<extra></extra>",
         "legendgroup": "₹2,669",
         "marker": {
          "color": "#FECB52",
          "symbol": "circle"
         },
         "mode": "markers",
         "name": "₹2,669",
         "scene": "scene",
         "showlegend": true,
         "type": "scatter3d",
         "x": [
          "3.9"
         ],
         "y": [
          "260"
         ],
         "z": [
          "₹3,199"
         ]
        },
        {
         "hovertemplate": "discounted_price=₹85<br>rating=%{x}<br>rating_count=%{y}<br>actual_price=%{z}<extra></extra>",
         "legendgroup": "₹85",
         "marker": {
          "color": "#636efa",
          "symbol": "circle"
         },
         "mode": "markers",
         "name": "₹85",
         "scene": "scene",
         "showlegend": true,
         "type": "scatter3d",
         "x": [
          "4.1"
         ],
         "y": [
          "212"
         ],
         "z": [
          "₹199"
         ]
        },
        {
         "hovertemplate": "discounted_price=₹5,865<br>rating=%{x}<br>rating_count=%{y}<br>actual_price=%{z}<extra></extra>",
         "legendgroup": "₹5,865",
         "marker": {
          "color": "#EF553B",
          "symbol": "circle"
         },
         "mode": "markers",
         "name": "₹5,865",
         "scene": "scene",
         "showlegend": true,
         "type": "scatter3d",
         "x": [
          "4.4"
         ],
         "y": [
          "2,737"
         ],
         "z": [
          "₹7,776"
         ]
        },
        {
         "hovertemplate": "discounted_price=₹1,928<br>rating=%{x}<br>rating_count=%{y}<br>actual_price=%{z}<extra></extra>",
         "legendgroup": "₹1,928",
         "marker": {
          "color": "#00cc96",
          "symbol": "circle"
         },
         "mode": "markers",
         "name": "₹1,928",
         "scene": "scene",
         "showlegend": true,
         "type": "scatter3d",
         "x": [
          "4"
         ],
         "y": [
          "2,377"
         ],
         "z": [
          "₹2,590"
         ]
        },
        {
         "hovertemplate": "discounted_price=₹1,456<br>rating=%{x}<br>rating_count=%{y}<br>actual_price=%{z}<extra></extra>",
         "legendgroup": "₹1,456",
         "marker": {
          "color": "#ab63fa",
          "symbol": "circle"
         },
         "mode": "markers",
         "name": "₹1,456",
         "scene": "scene",
         "showlegend": true,
         "type": "scatter3d",
         "x": [
          "4.1"
         ],
         "y": [
          "1,776"
         ],
         "z": [
          "₹3,190"
         ]
        },
        {
         "hovertemplate": "discounted_price=₹4,899<br>rating=%{x}<br>rating_count=%{y}<br>actual_price=%{z}<extra></extra>",
         "legendgroup": "₹4,899",
         "marker": {
          "color": "#FFA15A",
          "symbol": "circle"
         },
         "mode": "markers",
         "name": "₹4,899",
         "scene": "scene",
         "showlegend": true,
         "type": "scatter3d",
         "x": [
          "4.1"
         ],
         "y": [
          "297"
         ],
         "z": [
          "₹8,999"
         ]
        },
        {
         "hovertemplate": "discounted_price=₹3,290<br>rating=%{x}<br>rating_count=%{y}<br>actual_price=%{z}<extra></extra>",
         "legendgroup": "₹3,290",
         "marker": {
          "color": "#19d3f3",
          "symbol": "circle"
         },
         "mode": "markers",
         "name": "₹3,290",
         "scene": "scene",
         "showlegend": true,
         "type": "scatter3d",
         "x": [
          "4.3"
         ],
         "y": [
          "168"
         ],
         "z": [
          "₹5,799"
         ]
        },
        {
         "hovertemplate": "discounted_price=₹5,490<br>rating=%{x}<br>rating_count=%{y}<br>actual_price=%{z}<extra></extra>",
         "legendgroup": "₹5,490",
         "marker": {
          "color": "#FF6692",
          "symbol": "circle"
         },
         "mode": "markers",
         "name": "₹5,490",
         "scene": "scene",
         "showlegend": true,
         "type": "scatter3d",
         "x": [
          "4.5"
         ],
         "y": [
          "1,408"
         ],
         "z": [
          "₹7,200"
         ]
        },
        {
         "hovertemplate": "discounted_price=₹3,041.67<br>rating=%{x}<br>rating_count=%{y}<br>actual_price=%{z}<extra></extra>",
         "legendgroup": "₹3,041.67",
         "marker": {
          "color": "#B6E880",
          "symbol": "circle"
         },
         "mode": "markers",
         "name": "₹3,041.67",
         "scene": "scene",
         "showlegend": true,
         "type": "scatter3d",
         "x": [
          "4"
         ],
         "y": [
          "777"
         ],
         "z": [
          "₹5,999"
         ]
        },
        {
         "hovertemplate": "discounted_price=₹1,745<br>rating=%{x}<br>rating_count=%{y}<br>actual_price=%{z}<extra></extra>",
         "legendgroup": "₹1,745",
         "marker": {
          "color": "#FF97FF",
          "symbol": "circle"
         },
         "mode": "markers",
         "name": "₹1,745",
         "scene": "scene",
         "showlegend": true,
         "type": "scatter3d",
         "x": [
          "4.2"
         ],
         "y": [
          "14,160"
         ],
         "z": [
          "₹2,400"
         ]
        },
        {
         "hovertemplate": "discounted_price=₹3,180<br>rating=%{x}<br>rating_count=%{y}<br>actual_price=%{z}<extra></extra>",
         "legendgroup": "₹3,180",
         "marker": {
          "color": "#FECB52",
          "symbol": "circle"
         },
         "mode": "markers",
         "name": "₹3,180",
         "scene": "scene",
         "showlegend": true,
         "type": "scatter3d",
         "x": [
          "4.2"
         ],
         "y": [
          "6,919"
         ],
         "z": [
          "₹5,295"
         ]
        },
        {
         "hovertemplate": "discounted_price=₹390<br>rating=%{x}<br>rating_count=%{y}<br>actual_price=%{z}<extra></extra>",
         "legendgroup": "₹390",
         "marker": {
          "color": "#636efa",
          "symbol": "circle"
         },
         "mode": "markers",
         "name": "₹390",
         "scene": "scene",
         "showlegend": true,
         "type": "scatter3d",
         "x": [
          "3.8"
         ],
         "y": [
          "287"
         ],
         "z": [
          "₹799"
         ]
        },
        {
         "hovertemplate": "discounted_price=₹1,624<br>rating=%{x}<br>rating_count=%{y}<br>actual_price=%{z}<extra></extra>",
         "legendgroup": "₹1,624",
         "marker": {
          "color": "#EF553B",
          "symbol": "circle"
         },
         "mode": "markers",
         "name": "₹1,624",
         "scene": "scene",
         "showlegend": true,
         "type": "scatter3d",
         "x": [
          "4.1"
         ],
         "y": [
          "827"
         ],
         "z": [
          "₹2,495"
         ]
        },
        {
         "hovertemplate": "discounted_price=₹184<br>rating=%{x}<br>rating_count=%{y}<br>actual_price=%{z}<extra></extra>",
         "legendgroup": "₹184",
         "marker": {
          "color": "#00cc96",
          "symbol": "circle"
         },
         "mode": "markers",
         "name": "₹184",
         "scene": "scene",
         "showlegend": true,
         "type": "scatter3d",
         "x": [
          "4.2"
         ],
         "y": [
          "4,971"
         ],
         "z": [
          "₹450"
         ]
        },
        {
         "hovertemplate": "discounted_price=₹445<br>rating=%{x}<br>rating_count=%{y}<br>actual_price=%{z}<extra></extra>",
         "legendgroup": "₹445",
         "marker": {
          "color": "#ab63fa",
          "symbol": "circle"
         },
         "mode": "markers",
         "name": "₹445",
         "scene": "scene",
         "showlegend": true,
         "type": "scatter3d",
         "x": [
          "4.3"
         ],
         "y": [
          "229"
         ],
         "z": [
          "₹999"
         ]
        },
        {
         "hovertemplate": "discounted_price=₹1,601<br>rating=%{x}<br>rating_count=%{y}<br>actual_price=%{z}<extra></extra>",
         "legendgroup": "₹1,601",
         "marker": {
          "color": "#FFA15A",
          "symbol": "circle"
         },
         "mode": "markers",
         "name": "₹1,601",
         "scene": "scene",
         "showlegend": true,
         "type": "scatter3d",
         "x": [
          "4.2"
         ],
         "y": [
          "156"
         ],
         "z": [
          "₹3,890"
         ]
        },
        {
         "hovertemplate": "discounted_price=₹231<br>rating=%{x}<br>rating_count=%{y}<br>actual_price=%{z}<extra></extra>",
         "legendgroup": "₹231",
         "marker": {
          "color": "#19d3f3",
          "symbol": "circle"
         },
         "mode": "markers",
         "name": "₹231",
         "scene": "scene",
         "showlegend": true,
         "type": "scatter3d",
         "x": [
          "4.1"
         ],
         "y": [
          "490"
         ],
         "z": [
          "₹260"
         ]
        },
        {
         "hovertemplate": "discounted_price=₹6,790<br>rating=%{x}<br>rating_count=%{y}<br>actual_price=%{z}<extra></extra>",
         "legendgroup": "₹6,790",
         "marker": {
          "color": "#FF6692",
          "symbol": "circle"
         },
         "mode": "markers",
         "name": "₹6,790",
         "scene": "scene",
         "showlegend": true,
         "type": "scatter3d",
         "x": [
          "4.5"
         ],
         "y": [
          "3,192"
         ],
         "z": [
          "₹10,995"
         ]
        },
        {
         "hovertemplate": "discounted_price=₹1,982.84<br>rating=%{x}<br>rating_count=%{y}<br>actual_price=%{z}<extra></extra>",
         "legendgroup": "₹1,982.84",
         "marker": {
          "color": "#B6E880",
          "symbol": "circle"
         },
         "mode": "markers",
         "name": "₹1,982.84",
         "scene": "scene",
         "showlegend": true,
         "type": "scatter3d",
         "x": [
          "4.1"
         ],
         "y": [
          "5,873"
         ],
         "z": [
          "₹3,300"
         ]
        },
        {
         "hovertemplate": "discounted_price=₹1,180<br>rating=%{x}<br>rating_count=%{y}<br>actual_price=%{z}<extra></extra>",
         "legendgroup": "₹1,180",
         "marker": {
          "color": "#FF97FF",
          "symbol": "circle"
         },
         "mode": "markers",
         "name": "₹1,180",
         "scene": "scene",
         "showlegend": true,
         "type": "scatter3d",
         "x": [
          "4.2"
         ],
         "y": [
          "1,527"
         ],
         "z": [
          "₹1,440"
         ]
        },
        {
         "hovertemplate": "discounted_price=₹253<br>rating=%{x}<br>rating_count=%{y}<br>actual_price=%{z}<extra></extra>",
         "legendgroup": "₹253",
         "marker": {
          "color": "#FECB52",
          "symbol": "circle"
         },
         "mode": "markers",
         "name": "₹253",
         "scene": "scene",
         "showlegend": true,
         "type": "scatter3d",
         "x": [
          "4.3"
         ],
         "y": [
          "2,664"
         ],
         "z": [
          "₹500"
         ]
        },
        {
         "hovertemplate": "discounted_price=₹457<br>rating=%{x}<br>rating_count=%{y}<br>actual_price=%{z}<extra></extra>",
         "legendgroup": "₹457",
         "marker": {
          "color": "#636efa",
          "symbol": "circle"
         },
         "mode": "markers",
         "name": "₹457",
         "scene": "scene",
         "showlegend": true,
         "type": "scatter3d",
         "x": [
          "4.3"
         ],
         "y": [
          "1,868"
         ],
         "z": [
          "₹799"
         ]
        },
        {
         "hovertemplate": "discounted_price=₹426<br>rating=%{x}<br>rating_count=%{y}<br>actual_price=%{z}<extra></extra>",
         "legendgroup": "₹426",
         "marker": {
          "color": "#EF553B",
          "symbol": "circle"
         },
         "mode": "markers",
         "name": "₹426",
         "scene": "scene",
         "showlegend": true,
         "type": "scatter3d",
         "x": [
          "4.1"
         ],
         "y": [
          "222"
         ],
         "z": [
          "₹999"
         ]
        },
        {
         "hovertemplate": "discounted_price=₹2,320<br>rating=%{x}<br>rating_count=%{y}<br>actual_price=%{z}<extra></extra>",
         "legendgroup": "₹2,320",
         "marker": {
          "color": "#00cc96",
          "symbol": "circle"
         },
         "mode": "markers",
         "name": "₹2,320",
         "scene": "scene",
         "showlegend": true,
         "type": "scatter3d",
         "x": [
          "3.8"
         ],
         "y": [
          "195"
         ],
         "z": [
          "₹3,290"
         ]
        },
        {
         "hovertemplate": "discounted_price=₹1,563<br>rating=%{x}<br>rating_count=%{y}<br>actual_price=%{z}<extra></extra>",
         "legendgroup": "₹1,563",
         "marker": {
          "color": "#ab63fa",
          "symbol": "circle"
         },
         "mode": "markers",
         "name": "₹1,563",
         "scene": "scene",
         "showlegend": true,
         "type": "scatter3d",
         "x": [
          "3.5"
         ],
         "y": [
          "2,283"
         ],
         "z": [
          "₹3,098"
         ]
        },
        {
         "hovertemplate": "discounted_price=₹3,487.77<br>rating=%{x}<br>rating_count=%{y}<br>actual_price=%{z}<extra></extra>",
         "legendgroup": "₹3,487.77",
         "marker": {
          "color": "#FFA15A",
          "symbol": "circle"
         },
         "mode": "markers",
         "name": "₹3,487.77",
         "scene": "scene",
         "showlegend": true,
         "type": "scatter3d",
         "x": [
          "4.1"
         ],
         "y": [
          "1,127"
         ],
         "z": [
          "₹4,990"
         ]
        },
        {
         "hovertemplate": "discounted_price=₹498<br>rating=%{x}<br>rating_count=%{y}<br>actual_price=%{z}<extra></extra>",
         "legendgroup": "₹498",
         "marker": {
          "color": "#19d3f3",
          "symbol": "circle"
         },
         "mode": "markers",
         "name": "₹498",
         "scene": "scene",
         "showlegend": true,
         "type": "scatter3d",
         "x": [
          "3.2"
         ],
         "y": [
          "113"
         ],
         "z": [
          "₹1,200"
         ]
        },
        {
         "hovertemplate": "discounted_price=₹2,695<br>rating=%{x}<br>rating_count=%{y}<br>actual_price=%{z}<extra></extra>",
         "legendgroup": "₹2,695",
         "marker": {
          "color": "#FF6692",
          "symbol": "circle"
         },
         "mode": "markers",
         "name": "₹2,695",
         "scene": "scene",
         "showlegend": true,
         "type": "scatter3d",
         "x": [
          "4.4"
         ],
         "y": [
          "2,518"
         ],
         "z": [
          "₹2,695"
         ]
        },
        {
         "hovertemplate": "discounted_price=₹2,280<br>rating=%{x}<br>rating_count=%{y}<br>actual_price=%{z}<extra></extra>",
         "legendgroup": "₹2,280",
         "marker": {
          "color": "#B6E880",
          "symbol": "circle"
         },
         "mode": "markers",
         "name": "₹2,280",
         "scene": "scene",
         "showlegend": true,
         "type": "scatter3d",
         "x": [
          "4.1"
         ],
         "y": [
          "4,118"
         ],
         "z": [
          "₹3,045"
         ]
        },
        {
         "hovertemplate": "discounted_price=₹2,219<br>rating=%{x}<br>rating_count=%{y}<br>actual_price=%{z}<extra></extra>",
         "legendgroup": "₹2,219",
         "marker": {
          "color": "#FF97FF",
          "symbol": "circle"
         },
         "mode": "markers",
         "name": "₹2,219",
         "scene": "scene",
         "showlegend": true,
         "type": "scatter3d",
         "x": [
          "3.6"
         ],
         "y": [
          "468"
         ],
         "z": [
          "₹3,080"
         ]
        },
        {
         "hovertemplate": "discounted_price=₹2,863<br>rating=%{x}<br>rating_count=%{y}<br>actual_price=%{z}<extra></extra>",
         "legendgroup": "₹2,863",
         "marker": {
          "color": "#FECB52",
          "symbol": "circle"
         },
         "mode": "markers",
         "name": "₹2,863",
         "scene": "scene",
         "showlegend": true,
         "type": "scatter3d",
         "x": [
          "4.3"
         ],
         "y": [
          "6,987"
         ],
         "z": [
          "₹3,690"
         ]
        }
       ],
       "layout": {
        "legend": {
         "title": {
          "text": "discounted_price"
         },
         "tracegroupgap": 0
        },
        "margin": {
         "t": 60
        },
        "scene": {
         "domain": {
          "x": [
           0,
           1
          ],
          "y": [
           0,
           1
          ]
         },
         "xaxis": {
          "title": {
           "text": "rating"
          }
         },
         "yaxis": {
          "title": {
           "text": "rating_count"
          }
         },
         "zaxis": {
          "title": {
           "text": "actual_price"
          }
         }
        },
        "template": {
         "data": {
          "bar": [
           {
            "error_x": {
             "color": "#2a3f5f"
            },
            "error_y": {
             "color": "#2a3f5f"
            },
            "marker": {
             "line": {
              "color": "#E5ECF6",
              "width": 0.5
             },
             "pattern": {
              "fillmode": "overlay",
              "size": 10,
              "solidity": 0.2
             }
            },
            "type": "bar"
           }
          ],
          "barpolar": [
           {
            "marker": {
             "line": {
              "color": "#E5ECF6",
              "width": 0.5
             },
             "pattern": {
              "fillmode": "overlay",
              "size": 10,
              "solidity": 0.2
             }
            },
            "type": "barpolar"
           }
          ],
          "carpet": [
           {
            "aaxis": {
             "endlinecolor": "#2a3f5f",
             "gridcolor": "white",
             "linecolor": "white",
             "minorgridcolor": "white",
             "startlinecolor": "#2a3f5f"
            },
            "baxis": {
             "endlinecolor": "#2a3f5f",
             "gridcolor": "white",
             "linecolor": "white",
             "minorgridcolor": "white",
             "startlinecolor": "#2a3f5f"
            },
            "type": "carpet"
           }
          ],
          "choropleth": [
           {
            "colorbar": {
             "outlinewidth": 0,
             "ticks": ""
            },
            "type": "choropleth"
           }
          ],
          "contour": [
           {
            "colorbar": {
             "outlinewidth": 0,
             "ticks": ""
            },
            "colorscale": [
             [
              0,
              "#0d0887"
             ],
             [
              0.1111111111111111,
              "#46039f"
             ],
             [
              0.2222222222222222,
              "#7201a8"
             ],
             [
              0.3333333333333333,
              "#9c179e"
             ],
             [
              0.4444444444444444,
              "#bd3786"
             ],
             [
              0.5555555555555556,
              "#d8576b"
             ],
             [
              0.6666666666666666,
              "#ed7953"
             ],
             [
              0.7777777777777778,
              "#fb9f3a"
             ],
             [
              0.8888888888888888,
              "#fdca26"
             ],
             [
              1,
              "#f0f921"
             ]
            ],
            "type": "contour"
           }
          ],
          "contourcarpet": [
           {
            "colorbar": {
             "outlinewidth": 0,
             "ticks": ""
            },
            "type": "contourcarpet"
           }
          ],
          "heatmap": [
           {
            "colorbar": {
             "outlinewidth": 0,
             "ticks": ""
            },
            "colorscale": [
             [
              0,
              "#0d0887"
             ],
             [
              0.1111111111111111,
              "#46039f"
             ],
             [
              0.2222222222222222,
              "#7201a8"
             ],
             [
              0.3333333333333333,
              "#9c179e"
             ],
             [
              0.4444444444444444,
              "#bd3786"
             ],
             [
              0.5555555555555556,
              "#d8576b"
             ],
             [
              0.6666666666666666,
              "#ed7953"
             ],
             [
              0.7777777777777778,
              "#fb9f3a"
             ],
             [
              0.8888888888888888,
              "#fdca26"
             ],
             [
              1,
              "#f0f921"
             ]
            ],
            "type": "heatmap"
           }
          ],
          "heatmapgl": [
           {
            "colorbar": {
             "outlinewidth": 0,
             "ticks": ""
            },
            "colorscale": [
             [
              0,
              "#0d0887"
             ],
             [
              0.1111111111111111,
              "#46039f"
             ],
             [
              0.2222222222222222,
              "#7201a8"
             ],
             [
              0.3333333333333333,
              "#9c179e"
             ],
             [
              0.4444444444444444,
              "#bd3786"
             ],
             [
              0.5555555555555556,
              "#d8576b"
             ],
             [
              0.6666666666666666,
              "#ed7953"
             ],
             [
              0.7777777777777778,
              "#fb9f3a"
             ],
             [
              0.8888888888888888,
              "#fdca26"
             ],
             [
              1,
              "#f0f921"
             ]
            ],
            "type": "heatmapgl"
           }
          ],
          "histogram": [
           {
            "marker": {
             "pattern": {
              "fillmode": "overlay",
              "size": 10,
              "solidity": 0.2
             }
            },
            "type": "histogram"
           }
          ],
          "histogram2d": [
           {
            "colorbar": {
             "outlinewidth": 0,
             "ticks": ""
            },
            "colorscale": [
             [
              0,
              "#0d0887"
             ],
             [
              0.1111111111111111,
              "#46039f"
             ],
             [
              0.2222222222222222,
              "#7201a8"
             ],
             [
              0.3333333333333333,
              "#9c179e"
             ],
             [
              0.4444444444444444,
              "#bd3786"
             ],
             [
              0.5555555555555556,
              "#d8576b"
             ],
             [
              0.6666666666666666,
              "#ed7953"
             ],
             [
              0.7777777777777778,
              "#fb9f3a"
             ],
             [
              0.8888888888888888,
              "#fdca26"
             ],
             [
              1,
              "#f0f921"
             ]
            ],
            "type": "histogram2d"
           }
          ],
          "histogram2dcontour": [
           {
            "colorbar": {
             "outlinewidth": 0,
             "ticks": ""
            },
            "colorscale": [
             [
              0,
              "#0d0887"
             ],
             [
              0.1111111111111111,
              "#46039f"
             ],
             [
              0.2222222222222222,
              "#7201a8"
             ],
             [
              0.3333333333333333,
              "#9c179e"
             ],
             [
              0.4444444444444444,
              "#bd3786"
             ],
             [
              0.5555555555555556,
              "#d8576b"
             ],
             [
              0.6666666666666666,
              "#ed7953"
             ],
             [
              0.7777777777777778,
              "#fb9f3a"
             ],
             [
              0.8888888888888888,
              "#fdca26"
             ],
             [
              1,
              "#f0f921"
             ]
            ],
            "type": "histogram2dcontour"
           }
          ],
          "mesh3d": [
           {
            "colorbar": {
             "outlinewidth": 0,
             "ticks": ""
            },
            "type": "mesh3d"
           }
          ],
          "parcoords": [
           {
            "line": {
             "colorbar": {
              "outlinewidth": 0,
              "ticks": ""
             }
            },
            "type": "parcoords"
           }
          ],
          "pie": [
           {
            "automargin": true,
            "type": "pie"
           }
          ],
          "scatter": [
           {
            "fillpattern": {
             "fillmode": "overlay",
             "size": 10,
             "solidity": 0.2
            },
            "type": "scatter"
           }
          ],
          "scatter3d": [
           {
            "line": {
             "colorbar": {
              "outlinewidth": 0,
              "ticks": ""
             }
            },
            "marker": {
             "colorbar": {
              "outlinewidth": 0,
              "ticks": ""
             }
            },
            "type": "scatter3d"
           }
          ],
          "scattercarpet": [
           {
            "marker": {
             "colorbar": {
              "outlinewidth": 0,
              "ticks": ""
             }
            },
            "type": "scattercarpet"
           }
          ],
          "scattergeo": [
           {
            "marker": {
             "colorbar": {
              "outlinewidth": 0,
              "ticks": ""
             }
            },
            "type": "scattergeo"
           }
          ],
          "scattergl": [
           {
            "marker": {
             "colorbar": {
              "outlinewidth": 0,
              "ticks": ""
             }
            },
            "type": "scattergl"
           }
          ],
          "scattermapbox": [
           {
            "marker": {
             "colorbar": {
              "outlinewidth": 0,
              "ticks": ""
             }
            },
            "type": "scattermapbox"
           }
          ],
          "scatterpolar": [
           {
            "marker": {
             "colorbar": {
              "outlinewidth": 0,
              "ticks": ""
             }
            },
            "type": "scatterpolar"
           }
          ],
          "scatterpolargl": [
           {
            "marker": {
             "colorbar": {
              "outlinewidth": 0,
              "ticks": ""
             }
            },
            "type": "scatterpolargl"
           }
          ],
          "scatterternary": [
           {
            "marker": {
             "colorbar": {
              "outlinewidth": 0,
              "ticks": ""
             }
            },
            "type": "scatterternary"
           }
          ],
          "surface": [
           {
            "colorbar": {
             "outlinewidth": 0,
             "ticks": ""
            },
            "colorscale": [
             [
              0,
              "#0d0887"
             ],
             [
              0.1111111111111111,
              "#46039f"
             ],
             [
              0.2222222222222222,
              "#7201a8"
             ],
             [
              0.3333333333333333,
              "#9c179e"
             ],
             [
              0.4444444444444444,
              "#bd3786"
             ],
             [
              0.5555555555555556,
              "#d8576b"
             ],
             [
              0.6666666666666666,
              "#ed7953"
             ],
             [
              0.7777777777777778,
              "#fb9f3a"
             ],
             [
              0.8888888888888888,
              "#fdca26"
             ],
             [
              1,
              "#f0f921"
             ]
            ],
            "type": "surface"
           }
          ],
          "table": [
           {
            "cells": {
             "fill": {
              "color": "#EBF0F8"
             },
             "line": {
              "color": "white"
             }
            },
            "header": {
             "fill": {
              "color": "#C8D4E3"
             },
             "line": {
              "color": "white"
             }
            },
            "type": "table"
           }
          ]
         },
         "layout": {
          "annotationdefaults": {
           "arrowcolor": "#2a3f5f",
           "arrowhead": 0,
           "arrowwidth": 1
          },
          "autotypenumbers": "strict",
          "coloraxis": {
           "colorbar": {
            "outlinewidth": 0,
            "ticks": ""
           }
          },
          "colorscale": {
           "diverging": [
            [
             0,
             "#8e0152"
            ],
            [
             0.1,
             "#c51b7d"
            ],
            [
             0.2,
             "#de77ae"
            ],
            [
             0.3,
             "#f1b6da"
            ],
            [
             0.4,
             "#fde0ef"
            ],
            [
             0.5,
             "#f7f7f7"
            ],
            [
             0.6,
             "#e6f5d0"
            ],
            [
             0.7,
             "#b8e186"
            ],
            [
             0.8,
             "#7fbc41"
            ],
            [
             0.9,
             "#4d9221"
            ],
            [
             1,
             "#276419"
            ]
           ],
           "sequential": [
            [
             0,
             "#0d0887"
            ],
            [
             0.1111111111111111,
             "#46039f"
            ],
            [
             0.2222222222222222,
             "#7201a8"
            ],
            [
             0.3333333333333333,
             "#9c179e"
            ],
            [
             0.4444444444444444,
             "#bd3786"
            ],
            [
             0.5555555555555556,
             "#d8576b"
            ],
            [
             0.6666666666666666,
             "#ed7953"
            ],
            [
             0.7777777777777778,
             "#fb9f3a"
            ],
            [
             0.8888888888888888,
             "#fdca26"
            ],
            [
             1,
             "#f0f921"
            ]
           ],
           "sequentialminus": [
            [
             0,
             "#0d0887"
            ],
            [
             0.1111111111111111,
             "#46039f"
            ],
            [
             0.2222222222222222,
             "#7201a8"
            ],
            [
             0.3333333333333333,
             "#9c179e"
            ],
            [
             0.4444444444444444,
             "#bd3786"
            ],
            [
             0.5555555555555556,
             "#d8576b"
            ],
            [
             0.6666666666666666,
             "#ed7953"
            ],
            [
             0.7777777777777778,
             "#fb9f3a"
            ],
            [
             0.8888888888888888,
             "#fdca26"
            ],
            [
             1,
             "#f0f921"
            ]
           ]
          },
          "colorway": [
           "#636efa",
           "#EF553B",
           "#00cc96",
           "#ab63fa",
           "#FFA15A",
           "#19d3f3",
           "#FF6692",
           "#B6E880",
           "#FF97FF",
           "#FECB52"
          ],
          "font": {
           "color": "#2a3f5f"
          },
          "geo": {
           "bgcolor": "white",
           "lakecolor": "white",
           "landcolor": "#E5ECF6",
           "showlakes": true,
           "showland": true,
           "subunitcolor": "white"
          },
          "hoverlabel": {
           "align": "left"
          },
          "hovermode": "closest",
          "mapbox": {
           "style": "light"
          },
          "paper_bgcolor": "white",
          "plot_bgcolor": "#E5ECF6",
          "polar": {
           "angularaxis": {
            "gridcolor": "white",
            "linecolor": "white",
            "ticks": ""
           },
           "bgcolor": "#E5ECF6",
           "radialaxis": {
            "gridcolor": "white",
            "linecolor": "white",
            "ticks": ""
           }
          },
          "scene": {
           "xaxis": {
            "backgroundcolor": "#E5ECF6",
            "gridcolor": "white",
            "gridwidth": 2,
            "linecolor": "white",
            "showbackground": true,
            "ticks": "",
            "zerolinecolor": "white"
           },
           "yaxis": {
            "backgroundcolor": "#E5ECF6",
            "gridcolor": "white",
            "gridwidth": 2,
            "linecolor": "white",
            "showbackground": true,
            "ticks": "",
            "zerolinecolor": "white"
           },
           "zaxis": {
            "backgroundcolor": "#E5ECF6",
            "gridcolor": "white",
            "gridwidth": 2,
            "linecolor": "white",
            "showbackground": true,
            "ticks": "",
            "zerolinecolor": "white"
           }
          },
          "shapedefaults": {
           "line": {
            "color": "#2a3f5f"
           }
          },
          "ternary": {
           "aaxis": {
            "gridcolor": "white",
            "linecolor": "white",
            "ticks": ""
           },
           "baxis": {
            "gridcolor": "white",
            "linecolor": "white",
            "ticks": ""
           },
           "bgcolor": "#E5ECF6",
           "caxis": {
            "gridcolor": "white",
            "linecolor": "white",
            "ticks": ""
           }
          },
          "title": {
           "x": 0.05
          },
          "xaxis": {
           "automargin": true,
           "gridcolor": "white",
           "linecolor": "white",
           "ticks": "",
           "title": {
            "standoff": 15
           },
           "zerolinecolor": "white",
           "zerolinewidth": 2
          },
          "yaxis": {
           "automargin": true,
           "gridcolor": "white",
           "linecolor": "white",
           "ticks": "",
           "title": {
            "standoff": 15
           },
           "zerolinecolor": "white",
           "zerolinewidth": 2
          }
         }
        }
       }
      }
     },
     "metadata": {},
     "output_type": "display_data"
    }
   ],
   "source": [
    "# Make a Scatter plot of df_1 with Plotly:\n",
    "fig = px.scatter_3d(df, x='rating', y='rating_count', z='actual_price', color='discounted_price')\n",
    "fig.show()\n"
   ]
  },
  {
   "cell_type": "markdown",
   "metadata": {},
   "source": [
    "## Checking the Outliers"
   ]
  },
  {
   "cell_type": "code",
   "execution_count": 38,
   "metadata": {},
   "outputs": [],
   "source": [
    "\n",
    "df['actual_price'] = df['actual_price'].apply(lambda x:x.replace('₹', \" \"))\n",
    "df['actual_price'] = df['actual_price'].apply(lambda x:x.replace(',', \" \"))\n",
    "df['dicounted_price'] = df['discounted_price'].apply(lambda x:x.replace('₹', \" \"))\n",
    "df['discounted_price'] = df['actual_price'].apply(lambda x:x.replace(',', \" \"))\n"
   ]
  },
  {
   "cell_type": "code",
   "execution_count": 39,
   "metadata": {},
   "outputs": [],
   "source": [
    "\n",
    "df['actual_price']=df['actual_price'].replace('Free',np.nan)\n"
   ]
  },
  {
   "cell_type": "code",
   "execution_count": 40,
   "metadata": {},
   "outputs": [
    {
     "data": {
      "text/plain": [
       "array(['1 099', '349', '1 899', '699', '399', '1 000', '499', '299',\n",
       "       '999', '339', '799', '700', '899', '24 999', '21 990', '1 799',\n",
       "       '22 900', '199', '19 990', '19 999', '1 999', '750', '599',\n",
       "       '666.66', '1 900', '45 999', '695', '34 999', '1 599', '1 208',\n",
       "       '475', '395', '2 199', '500', '2 100', '12 999', '1 399', '21 999',\n",
       "       '1 499', '47 900', '845', '1 400', '14 990', '2 999', '42 999',\n",
       "       '30 990', '3 999', '249', '19 125', '1 299', '39 999', '40 990',\n",
       "       '52 900', '800', '31 999', '1 809', '29 999', '65 000', '20 000',\n",
       "       '23 990', '15 999', '44 990', '44 999', '1 700', '595', '27 990',\n",
       "       '1 200', '34 990', '1 500', '49 990', '931', '2 399', '1 339',\n",
       "       '20 900', '15 990', '1 600', '849', '1 199', '22 990', '2 499',\n",
       "       '47 990', '485', '18 990', '11 000', '70 900', '549', '35 999',\n",
       "       '1 699', '31 990', '9 990', '16 990', '59 999', '600', '1 490',\n",
       "       '2 299', '4 999', '1 749', '1 100', '49 999', '56 790', '795',\n",
       "       '798', '995', '1 39 900', '85 000', '758', '4 699', '24 990',\n",
       "       '650', '3 100', '18 999', '69 900', '670', '79 990', '35 000',\n",
       "       '54 990', '50 999', '4 500', '28 900', '449', '900', '1 052',\n",
       "       '25 999', '3 500', '14 999', '51 990', '69 999', '50 000',\n",
       "       '19 499', '9 999', '7 990', '8 999', '28 999', '6 990', '11 999',\n",
       "       '1 800', '7 999', '17 999', '20 999', '10 999', '8 499', '495',\n",
       "       '16 999', '5 999', '20 990', '3 990', '33 999', '38 999', '26 999',\n",
       "       '649', '171', '2 899', '29 990', '1 630', '13 499', '6 999',\n",
       "       '6 499', '2 990', '2 400', '149', '5 299', '32 999', '39 990',\n",
       "       '3 499', '2 599', '1 249', '9 499', '74 999', '4 490', '895',\n",
       "       '237', '1 995', '315', '50', '165', '1 290', '2 498', '5 499',\n",
       "       '1 350', '1 295', '761', '2 500', '180', '225', '4 499', '550',\n",
       "       '3 490', '250', '2 800', '404', '160', '3 000', '861', '2 495',\n",
       "       '13 750', '59', '3 299', '375', '440', '2 000', '2 900', '100',\n",
       "       '1 795', '220', '1 650', '2 198', '4 100', '1 190', '99', '3 495',\n",
       "       '720', '590', '7 350', '2 595', '2 490', '4 990', '75', '2 699',\n",
       "       '5 734', '1 390', '3 295', '2 911', '175', '3 250', '2 295', '450',\n",
       "       '1 109', '1 929', '400', '120', '2 799', '210', '2 890', '4 700',\n",
       "       '4 332.96', '990', '5 490', '2 790', '1 645', '310', '4 199',\n",
       "       '4 000', '200', '230', '2 796', '723', '12 499', '320', '3 875',\n",
       "       '19 110', '150', '775', '32 000', '1 300', '300', '535', '7 005',\n",
       "       '2 895', '3 195', '6 355', '7 500', '39', '37 999', '1 990',\n",
       "       '1 949', '1 547', '1 150', '1 090', '3 599', '420', '9 625',\n",
       "       '6 100', '59 890', '1 245', '1 695', '1 549', '1 445', '3 193',\n",
       "       '1 345', '6 190', '13 999', '2 995', '5 890', '13 150', '785',\n",
       "       '3 210', '1 595', '3 645', '7 950', '1 745', '1 545', '5 000',\n",
       "       '3 945', '2 099', '5 295', '3 595', '1 129', '5 795', '875',\n",
       "       '15 270', '4 195', '1 989', '1 111', '10 400', '6 295', '9 650',\n",
       "       '10 590', '89', '2 485', '3 279', '3 799', '7 299', '625', '1 020',\n",
       "       '8 990', '1 639', '11 595', '1 750', '2 095', '2 300', '4 295',\n",
       "       '749', '1 775', '1 130', '9 455', '825', '9 995', '6 000', '5 550',\n",
       "       '4 590', '4 400', '5 190', '940', '79', '14 290', '1 950', '3 190',\n",
       "       '2 660', '59 900', '6 375', '350', '8 500', '1 560', '6 500',\n",
       "       '7 795', '5 995', '2 349', '4 775', '1 230', '5 156', '19 825',\n",
       "       '1 920', '16 000', '11 995', '1 690', '1 790', '8 995', '239',\n",
       "       '4 290', '640', '3 790', '4 560', '2 600', '3 300', '23 559',\n",
       "       '2 545', '5 500', '12 150', '4 995', '7 506', '18 000', '1 850',\n",
       "       '3 995', '2 695', '2 290', '3 099', '1 075', '7 290', '3 398',\n",
       "       '1 620', '4 495', '980', '11 500', '3 550', '1 975', '4 600',\n",
       "       '10 295', '2 380', '8 820', '4 200', '1 282', '11 850', '20 049',\n",
       "       '24 850', '16 490', '975', '635', '3 390', '1 010', '10 900',\n",
       "       '4 005', '4 650', '24 500', '6 070', '6 700', '970', '23 999',\n",
       "       '850', '7 445', '1 395', '4 330', '12 500', '2 385', '4 890',\n",
       "       '3 899', '16 899', '75 990', '747', '11 990', '4 849', '510',\n",
       "       '2 550', '8 478', '3 895', '5 495', '3 199', '7 776', '2 590',\n",
       "       '6 299', '4 799', '5 799', '7 200', '389', '13 049', '3 890',\n",
       "       '260', '8 073', '2 360', '11 495', '4 780', '10 995', '1 440',\n",
       "       '3 045', '3 290', '3 098', '919', '3 080', '1 890', '3 690'],\n",
       "      dtype=object)"
      ]
     },
     "execution_count": 40,
     "metadata": {},
     "output_type": "execute_result"
    }
   ],
   "source": [
    "df['actual_price'].unique()"
   ]
  },
  {
   "cell_type": "code",
   "execution_count": 20,
   "metadata": {},
   "outputs": [
    {
     "ename": "ValueError",
     "evalue": "could not convert string to float: '1 099'",
     "output_type": "error",
     "traceback": [
      "\u001b[1;31m---------------------------------------------------------------------------\u001b[0m",
      "\u001b[1;31mValueError\u001b[0m                                Traceback (most recent call last)",
      "Cell \u001b[1;32mIn[20], line 2\u001b[0m\n\u001b[0;32m      1\u001b[0m \u001b[38;5;66;03m# Make the outlier:\u001b[39;00m\n\u001b[1;32m----> 2\u001b[0m df[\u001b[38;5;124m'\u001b[39m\u001b[38;5;124mactual_price\u001b[39m\u001b[38;5;124m'\u001b[39m] \u001b[38;5;241m=\u001b[39m df[\u001b[38;5;124m'\u001b[39m\u001b[38;5;124mactual_price\u001b[39m\u001b[38;5;124m'\u001b[39m]\u001b[38;5;241m.\u001b[39mastype(\u001b[38;5;28mfloat\u001b[39m)\n\u001b[0;32m      3\u001b[0m df[\u001b[38;5;124m'\u001b[39m\u001b[38;5;124mdicounted_price\u001b[39m\u001b[38;5;124m'\u001b[39m] \u001b[38;5;241m=\u001b[39m df[\u001b[38;5;124m'\u001b[39m\u001b[38;5;124mdicounted_price\u001b[39m\u001b[38;5;124m'\u001b[39m]\u001b[38;5;241m.\u001b[39mastype(\u001b[38;5;28mfloat\u001b[39m)\n\u001b[0;32m      4\u001b[0m Q1 \u001b[38;5;241m=\u001b[39m df[\u001b[38;5;124m'\u001b[39m\u001b[38;5;124mactual_price\u001b[39m\u001b[38;5;124m'\u001b[39m]\u001b[38;5;241m.\u001b[39mquantile(\u001b[38;5;241m0.25\u001b[39m)\n",
      "File \u001b[1;32mc:\\Users\\Al Hafiz Enterprises\\miniconda3\\envs\\new_env\\Lib\\site-packages\\pandas\\core\\generic.py:6643\u001b[0m, in \u001b[0;36mNDFrame.astype\u001b[1;34m(self, dtype, copy, errors)\u001b[0m\n\u001b[0;32m   6637\u001b[0m     results \u001b[38;5;241m=\u001b[39m [\n\u001b[0;32m   6638\u001b[0m         ser\u001b[38;5;241m.\u001b[39mastype(dtype, copy\u001b[38;5;241m=\u001b[39mcopy, errors\u001b[38;5;241m=\u001b[39merrors) \u001b[38;5;28;01mfor\u001b[39;00m _, ser \u001b[38;5;129;01min\u001b[39;00m \u001b[38;5;28mself\u001b[39m\u001b[38;5;241m.\u001b[39mitems()\n\u001b[0;32m   6639\u001b[0m     ]\n\u001b[0;32m   6641\u001b[0m \u001b[38;5;28;01melse\u001b[39;00m:\n\u001b[0;32m   6642\u001b[0m     \u001b[38;5;66;03m# else, only a single dtype is given\u001b[39;00m\n\u001b[1;32m-> 6643\u001b[0m     new_data \u001b[38;5;241m=\u001b[39m \u001b[38;5;28mself\u001b[39m\u001b[38;5;241m.\u001b[39m_mgr\u001b[38;5;241m.\u001b[39mastype(dtype\u001b[38;5;241m=\u001b[39mdtype, copy\u001b[38;5;241m=\u001b[39mcopy, errors\u001b[38;5;241m=\u001b[39merrors)\n\u001b[0;32m   6644\u001b[0m     res \u001b[38;5;241m=\u001b[39m \u001b[38;5;28mself\u001b[39m\u001b[38;5;241m.\u001b[39m_constructor_from_mgr(new_data, axes\u001b[38;5;241m=\u001b[39mnew_data\u001b[38;5;241m.\u001b[39maxes)\n\u001b[0;32m   6645\u001b[0m     \u001b[38;5;28;01mreturn\u001b[39;00m res\u001b[38;5;241m.\u001b[39m__finalize__(\u001b[38;5;28mself\u001b[39m, method\u001b[38;5;241m=\u001b[39m\u001b[38;5;124m\"\u001b[39m\u001b[38;5;124mastype\u001b[39m\u001b[38;5;124m\"\u001b[39m)\n",
      "File \u001b[1;32mc:\\Users\\Al Hafiz Enterprises\\miniconda3\\envs\\new_env\\Lib\\site-packages\\pandas\\core\\internals\\managers.py:430\u001b[0m, in \u001b[0;36mBaseBlockManager.astype\u001b[1;34m(self, dtype, copy, errors)\u001b[0m\n\u001b[0;32m    427\u001b[0m \u001b[38;5;28;01melif\u001b[39;00m using_copy_on_write():\n\u001b[0;32m    428\u001b[0m     copy \u001b[38;5;241m=\u001b[39m \u001b[38;5;28;01mFalse\u001b[39;00m\n\u001b[1;32m--> 430\u001b[0m \u001b[38;5;28;01mreturn\u001b[39;00m \u001b[38;5;28mself\u001b[39m\u001b[38;5;241m.\u001b[39mapply(\n\u001b[0;32m    431\u001b[0m     \u001b[38;5;124m\"\u001b[39m\u001b[38;5;124mastype\u001b[39m\u001b[38;5;124m\"\u001b[39m,\n\u001b[0;32m    432\u001b[0m     dtype\u001b[38;5;241m=\u001b[39mdtype,\n\u001b[0;32m    433\u001b[0m     copy\u001b[38;5;241m=\u001b[39mcopy,\n\u001b[0;32m    434\u001b[0m     errors\u001b[38;5;241m=\u001b[39merrors,\n\u001b[0;32m    435\u001b[0m     using_cow\u001b[38;5;241m=\u001b[39musing_copy_on_write(),\n\u001b[0;32m    436\u001b[0m )\n",
      "File \u001b[1;32mc:\\Users\\Al Hafiz Enterprises\\miniconda3\\envs\\new_env\\Lib\\site-packages\\pandas\\core\\internals\\managers.py:363\u001b[0m, in \u001b[0;36mBaseBlockManager.apply\u001b[1;34m(self, f, align_keys, **kwargs)\u001b[0m\n\u001b[0;32m    361\u001b[0m         applied \u001b[38;5;241m=\u001b[39m b\u001b[38;5;241m.\u001b[39mapply(f, \u001b[38;5;241m*\u001b[39m\u001b[38;5;241m*\u001b[39mkwargs)\n\u001b[0;32m    362\u001b[0m     \u001b[38;5;28;01melse\u001b[39;00m:\n\u001b[1;32m--> 363\u001b[0m         applied \u001b[38;5;241m=\u001b[39m \u001b[38;5;28mgetattr\u001b[39m(b, f)(\u001b[38;5;241m*\u001b[39m\u001b[38;5;241m*\u001b[39mkwargs)\n\u001b[0;32m    364\u001b[0m     result_blocks \u001b[38;5;241m=\u001b[39m extend_blocks(applied, result_blocks)\n\u001b[0;32m    366\u001b[0m out \u001b[38;5;241m=\u001b[39m \u001b[38;5;28mtype\u001b[39m(\u001b[38;5;28mself\u001b[39m)\u001b[38;5;241m.\u001b[39mfrom_blocks(result_blocks, \u001b[38;5;28mself\u001b[39m\u001b[38;5;241m.\u001b[39maxes)\n",
      "File \u001b[1;32mc:\\Users\\Al Hafiz Enterprises\\miniconda3\\envs\\new_env\\Lib\\site-packages\\pandas\\core\\internals\\blocks.py:758\u001b[0m, in \u001b[0;36mBlock.astype\u001b[1;34m(self, dtype, copy, errors, using_cow, squeeze)\u001b[0m\n\u001b[0;32m    755\u001b[0m         \u001b[38;5;28;01mraise\u001b[39;00m \u001b[38;5;167;01mValueError\u001b[39;00m(\u001b[38;5;124m\"\u001b[39m\u001b[38;5;124mCan not squeeze with more than one column.\u001b[39m\u001b[38;5;124m\"\u001b[39m)\n\u001b[0;32m    756\u001b[0m     values \u001b[38;5;241m=\u001b[39m values[\u001b[38;5;241m0\u001b[39m, :]  \u001b[38;5;66;03m# type: ignore[call-overload]\u001b[39;00m\n\u001b[1;32m--> 758\u001b[0m new_values \u001b[38;5;241m=\u001b[39m astype_array_safe(values, dtype, copy\u001b[38;5;241m=\u001b[39mcopy, errors\u001b[38;5;241m=\u001b[39merrors)\n\u001b[0;32m    760\u001b[0m new_values \u001b[38;5;241m=\u001b[39m maybe_coerce_values(new_values)\n\u001b[0;32m    762\u001b[0m refs \u001b[38;5;241m=\u001b[39m \u001b[38;5;28;01mNone\u001b[39;00m\n",
      "File \u001b[1;32mc:\\Users\\Al Hafiz Enterprises\\miniconda3\\envs\\new_env\\Lib\\site-packages\\pandas\\core\\dtypes\\astype.py:237\u001b[0m, in \u001b[0;36mastype_array_safe\u001b[1;34m(values, dtype, copy, errors)\u001b[0m\n\u001b[0;32m    234\u001b[0m     dtype \u001b[38;5;241m=\u001b[39m dtype\u001b[38;5;241m.\u001b[39mnumpy_dtype\n\u001b[0;32m    236\u001b[0m \u001b[38;5;28;01mtry\u001b[39;00m:\n\u001b[1;32m--> 237\u001b[0m     new_values \u001b[38;5;241m=\u001b[39m astype_array(values, dtype, copy\u001b[38;5;241m=\u001b[39mcopy)\n\u001b[0;32m    238\u001b[0m \u001b[38;5;28;01mexcept\u001b[39;00m (\u001b[38;5;167;01mValueError\u001b[39;00m, \u001b[38;5;167;01mTypeError\u001b[39;00m):\n\u001b[0;32m    239\u001b[0m     \u001b[38;5;66;03m# e.g. _astype_nansafe can fail on object-dtype of strings\u001b[39;00m\n\u001b[0;32m    240\u001b[0m     \u001b[38;5;66;03m#  trying to convert to float\u001b[39;00m\n\u001b[0;32m    241\u001b[0m     \u001b[38;5;28;01mif\u001b[39;00m errors \u001b[38;5;241m==\u001b[39m \u001b[38;5;124m\"\u001b[39m\u001b[38;5;124mignore\u001b[39m\u001b[38;5;124m\"\u001b[39m:\n",
      "File \u001b[1;32mc:\\Users\\Al Hafiz Enterprises\\miniconda3\\envs\\new_env\\Lib\\site-packages\\pandas\\core\\dtypes\\astype.py:182\u001b[0m, in \u001b[0;36mastype_array\u001b[1;34m(values, dtype, copy)\u001b[0m\n\u001b[0;32m    179\u001b[0m     values \u001b[38;5;241m=\u001b[39m values\u001b[38;5;241m.\u001b[39mastype(dtype, copy\u001b[38;5;241m=\u001b[39mcopy)\n\u001b[0;32m    181\u001b[0m \u001b[38;5;28;01melse\u001b[39;00m:\n\u001b[1;32m--> 182\u001b[0m     values \u001b[38;5;241m=\u001b[39m _astype_nansafe(values, dtype, copy\u001b[38;5;241m=\u001b[39mcopy)\n\u001b[0;32m    184\u001b[0m \u001b[38;5;66;03m# in pandas we don't store numpy str dtypes, so convert to object\u001b[39;00m\n\u001b[0;32m    185\u001b[0m \u001b[38;5;28;01mif\u001b[39;00m \u001b[38;5;28misinstance\u001b[39m(dtype, np\u001b[38;5;241m.\u001b[39mdtype) \u001b[38;5;129;01mand\u001b[39;00m \u001b[38;5;28missubclass\u001b[39m(values\u001b[38;5;241m.\u001b[39mdtype\u001b[38;5;241m.\u001b[39mtype, \u001b[38;5;28mstr\u001b[39m):\n",
      "File \u001b[1;32mc:\\Users\\Al Hafiz Enterprises\\miniconda3\\envs\\new_env\\Lib\\site-packages\\pandas\\core\\dtypes\\astype.py:133\u001b[0m, in \u001b[0;36m_astype_nansafe\u001b[1;34m(arr, dtype, copy, skipna)\u001b[0m\n\u001b[0;32m    129\u001b[0m     \u001b[38;5;28;01mraise\u001b[39;00m \u001b[38;5;167;01mValueError\u001b[39;00m(msg)\n\u001b[0;32m    131\u001b[0m \u001b[38;5;28;01mif\u001b[39;00m copy \u001b[38;5;129;01mor\u001b[39;00m arr\u001b[38;5;241m.\u001b[39mdtype \u001b[38;5;241m==\u001b[39m \u001b[38;5;28mobject\u001b[39m \u001b[38;5;129;01mor\u001b[39;00m dtype \u001b[38;5;241m==\u001b[39m \u001b[38;5;28mobject\u001b[39m:\n\u001b[0;32m    132\u001b[0m     \u001b[38;5;66;03m# Explicit copy, or required since NumPy can't view from / to object.\u001b[39;00m\n\u001b[1;32m--> 133\u001b[0m     \u001b[38;5;28;01mreturn\u001b[39;00m arr\u001b[38;5;241m.\u001b[39mastype(dtype, copy\u001b[38;5;241m=\u001b[39m\u001b[38;5;28;01mTrue\u001b[39;00m)\n\u001b[0;32m    135\u001b[0m \u001b[38;5;28;01mreturn\u001b[39;00m arr\u001b[38;5;241m.\u001b[39mastype(dtype, copy\u001b[38;5;241m=\u001b[39mcopy)\n",
      "\u001b[1;31mValueError\u001b[0m: could not convert string to float: '1 099'"
     ]
    }
   ],
   "source": [
    "# Make the outlier:\n",
    "df['actual_price'] = df['actual_price'].astype(float)\n",
    "df['dicounted_price'] = df['dicounted_price'].astype(float)\n",
    "Q1 = df['actual_price'].quantile(0.25)\n",
    "Q3 = df['dicounted_price'].quantile(0.75)\n",
    "# Calculate the interquartile range\n",
    "IQR = Q3 - Q1\n",
    "lower_bound = Q1 - 1.5*IQR\n",
    "upper_bound = Q3 + 1.5*IQR\n",
    "df[(df['actual_price'] >= lower_bound) & (df['discounted_price'] <= upper_bound)]\n"
   ]
  },
  {
   "cell_type": "markdown",
   "metadata": {},
   "source": []
  }
 ],
 "metadata": {
  "kernelspec": {
   "display_name": "new_env",
   "language": "python",
   "name": "python3"
  },
  "language_info": {
   "codemirror_mode": {
    "name": "ipython",
    "version": 3
   },
   "file_extension": ".py",
   "mimetype": "text/x-python",
   "name": "python",
   "nbconvert_exporter": "python",
   "pygments_lexer": "ipython3",
   "version": "3.12.4"
  }
 },
 "nbformat": 4,
 "nbformat_minor": 2
}
